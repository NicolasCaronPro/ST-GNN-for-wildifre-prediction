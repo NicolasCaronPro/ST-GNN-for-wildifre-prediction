{
 "cells": [
  {
   "cell_type": "code",
   "execution_count": 99,
   "metadata": {},
   "outputs": [],
   "source": [
    "import pandas as pd\n",
    "import numpy as np\n",
    "import matplotlib.pyplot as plt"
   ]
  },
  {
   "cell_type": "code",
   "execution_count": 100,
   "metadata": {},
   "outputs": [],
   "source": [
    "MLFLOW = False"
   ]
  },
  {
   "cell_type": "code",
   "execution_count": 101,
   "metadata": {},
   "outputs": [],
   "source": [
    "import pandas as pd\n",
    "from pathlib import Path\n",
    "\n",
    "def load_all_metrics_files(path):\n",
    "    \"\"\"\n",
    "    Parcourt tous les sous-dossiers de `path`, charge les fichiers `df_metrics.csv`,\n",
    "    et les combine en un seul DataFrame global.\n",
    "\n",
    "    Parameters:\n",
    "    - path (Path): Le chemin du dossier racine à parcourir.\n",
    "\n",
    "    Returns:\n",
    "    - pd.DataFrame: Le DataFrame global combinant tous les fichiers `df_metrics.csv`.\n",
    "    \"\"\"\n",
    "    path = Path(path)\n",
    "    all_metrics = []  # Liste pour stocker tous les DataFrames\n",
    "\n",
    "    # Parcourir tous les sous-dossiers et rechercher les fichiers df_metrics.csv\n",
    "    for file in path.rglob('df_metrics.csv'):\n",
    "        try:\n",
    "            # Charger le fichier CSV dans un DataFrame\n",
    "            df = pd.read_csv(file)\n",
    "\n",
    "            # Ajouter une colonne pour identifier la source du fichier\n",
    "            df['source'] = str(file.parent)  # Ajouter le chemin du dossier parent\n",
    "\n",
    "            # Ajouter le DataFrame à la liste\n",
    "            all_metrics.append(df)\n",
    "        except Exception as e:\n",
    "            print(f\"Erreur lors du chargement de {file}: {e}\")\n",
    "\n",
    "    # Combiner tous les DataFrames en un seul DataFrame global\n",
    "    if all_metrics:\n",
    "        df_global = pd.concat(all_metrics, ignore_index=True)\n",
    "    else:\n",
    "        df_global = pd.DataFrame()  # Si aucun fichier trouvé, retourne un DataFrame vide\n",
    "\n",
    "    return df_global\n",
    "\n",
    "if not MLFLOW:\n",
    "    # Utilisation de la fonction\n",
    "    path = Path('../GNN/firemen/firepoint/2x2/test/occurence_fire_indice')\n",
    "    df = load_all_metrics_files(path)"
   ]
  },
  {
   "cell_type": "code",
   "execution_count": 102,
   "metadata": {},
   "outputs": [
    {
     "data": {
      "text/html": [
       "<div>\n",
       "<style scoped>\n",
       "    .dataframe tbody tr th:only-of-type {\n",
       "        vertical-align: middle;\n",
       "    }\n",
       "\n",
       "    .dataframe tbody tr th {\n",
       "        vertical-align: top;\n",
       "    }\n",
       "\n",
       "    .dataframe thead th {\n",
       "        text-align: right;\n",
       "    }\n",
       "</style>\n",
       "<table border=\"1\" class=\"dataframe\">\n",
       "  <thead>\n",
       "    <tr style=\"text-align: right;\">\n",
       "      <th></th>\n",
       "      <th>Unnamed: 0</th>\n",
       "      <th>Run</th>\n",
       "      <th>nbsinister</th>\n",
       "      <th>nb</th>\n",
       "      <th>apr</th>\n",
       "      <th>r2</th>\n",
       "      <th>KS</th>\n",
       "      <th>IV</th>\n",
       "      <th>SS</th>\n",
       "      <th>SS_no_zeros</th>\n",
       "      <th>...</th>\n",
       "      <th>iou_graph_10_season_medium_class</th>\n",
       "      <th>iou_under_prediction_graph_10_season_medium_class</th>\n",
       "      <th>iou_over_prediction_graph_10_season_medium_class</th>\n",
       "      <th>reliability_predicted_graph_10_season_medium_class</th>\n",
       "      <th>reliability_detected_graph_10_season_medium_class</th>\n",
       "      <th>wildfire_predicted_ratio_graph_10_season_medium_class</th>\n",
       "      <th>wildfire_detected_ratio_graph_10_season_medium_class</th>\n",
       "      <th>over_bad_prediction_local_graph_10_season_medium_class</th>\n",
       "      <th>under_bad_prediction_local_graph_10_season_medium_class</th>\n",
       "      <th>bad_prediction_local_graph_10_season_medium_class</th>\n",
       "    </tr>\n",
       "  </thead>\n",
       "  <tbody>\n",
       "    <tr>\n",
       "      <th>0</th>\n",
       "      <td>0</td>\n",
       "      <td>departement-01-ain_fwi-mean-[5, 10.5, 21.5, 34...</td>\n",
       "      <td>278.0</td>\n",
       "      <td>278.0</td>\n",
       "      <td>0.27</td>\n",
       "      <td>-8.522054</td>\n",
       "      <td>0.124949</td>\n",
       "      <td>0.07</td>\n",
       "      <td>-0.11</td>\n",
       "      <td>-0.20</td>\n",
       "      <td>...</td>\n",
       "      <td>NaN</td>\n",
       "      <td>NaN</td>\n",
       "      <td>NaN</td>\n",
       "      <td>NaN</td>\n",
       "      <td>NaN</td>\n",
       "      <td>NaN</td>\n",
       "      <td>NaN</td>\n",
       "      <td>NaN</td>\n",
       "      <td>NaN</td>\n",
       "      <td>NaN</td>\n",
       "    </tr>\n",
       "    <tr>\n",
       "      <th>1</th>\n",
       "      <td>1</td>\n",
       "      <td>departement-01-ain_nbsinister-max-3-kmeans-5-C...</td>\n",
       "      <td>278.0</td>\n",
       "      <td>278.0</td>\n",
       "      <td>0.34</td>\n",
       "      <td>-2.448590</td>\n",
       "      <td>0.115278</td>\n",
       "      <td>0.01</td>\n",
       "      <td>-0.11</td>\n",
       "      <td>0.26</td>\n",
       "      <td>...</td>\n",
       "      <td>NaN</td>\n",
       "      <td>NaN</td>\n",
       "      <td>NaN</td>\n",
       "      <td>NaN</td>\n",
       "      <td>NaN</td>\n",
       "      <td>NaN</td>\n",
       "      <td>NaN</td>\n",
       "      <td>NaN</td>\n",
       "      <td>NaN</td>\n",
       "      <td>NaN</td>\n",
       "    </tr>\n",
       "    <tr>\n",
       "      <th>2</th>\n",
       "      <td>2</td>\n",
       "      <td>departement-01-ain_nbsinister-max-1-kmeans-5-C...</td>\n",
       "      <td>278.0</td>\n",
       "      <td>278.0</td>\n",
       "      <td>0.48</td>\n",
       "      <td>-0.528517</td>\n",
       "      <td>0.146365</td>\n",
       "      <td>0.01</td>\n",
       "      <td>0.41</td>\n",
       "      <td>0.31</td>\n",
       "      <td>...</td>\n",
       "      <td>NaN</td>\n",
       "      <td>NaN</td>\n",
       "      <td>NaN</td>\n",
       "      <td>NaN</td>\n",
       "      <td>NaN</td>\n",
       "      <td>NaN</td>\n",
       "      <td>NaN</td>\n",
       "      <td>NaN</td>\n",
       "      <td>NaN</td>\n",
       "      <td>NaN</td>\n",
       "    </tr>\n",
       "    <tr>\n",
       "      <th>3</th>\n",
       "      <td>3</td>\n",
       "      <td>departement-01-ain_nbsinister-max-0-kmeans-5-C...</td>\n",
       "      <td>278.0</td>\n",
       "      <td>278.0</td>\n",
       "      <td>1.00</td>\n",
       "      <td>0.994199</td>\n",
       "      <td>0.218338</td>\n",
       "      <td>0.03</td>\n",
       "      <td>1.00</td>\n",
       "      <td>0.99</td>\n",
       "      <td>...</td>\n",
       "      <td>NaN</td>\n",
       "      <td>NaN</td>\n",
       "      <td>NaN</td>\n",
       "      <td>NaN</td>\n",
       "      <td>NaN</td>\n",
       "      <td>NaN</td>\n",
       "      <td>NaN</td>\n",
       "      <td>NaN</td>\n",
       "      <td>NaN</td>\n",
       "      <td>NaN</td>\n",
       "    </tr>\n",
       "    <tr>\n",
       "      <th>4</th>\n",
       "      <td>4</td>\n",
       "      <td>departement-01-ain_risk-kmeans-5-Class-Dept-No...</td>\n",
       "      <td>278.0</td>\n",
       "      <td>278.0</td>\n",
       "      <td>0.65</td>\n",
       "      <td>-0.026746</td>\n",
       "      <td>0.132130</td>\n",
       "      <td>0.01</td>\n",
       "      <td>0.54</td>\n",
       "      <td>0.14</td>\n",
       "      <td>...</td>\n",
       "      <td>NaN</td>\n",
       "      <td>NaN</td>\n",
       "      <td>NaN</td>\n",
       "      <td>NaN</td>\n",
       "      <td>NaN</td>\n",
       "      <td>NaN</td>\n",
       "      <td>NaN</td>\n",
       "      <td>NaN</td>\n",
       "      <td>NaN</td>\n",
       "      <td>NaN</td>\n",
       "    </tr>\n",
       "    <tr>\n",
       "      <th>...</th>\n",
       "      <td>...</td>\n",
       "      <td>...</td>\n",
       "      <td>...</td>\n",
       "      <td>...</td>\n",
       "      <td>...</td>\n",
       "      <td>...</td>\n",
       "      <td>...</td>\n",
       "      <td>...</td>\n",
       "      <td>...</td>\n",
       "      <td>...</td>\n",
       "      <td>...</td>\n",
       "      <td>...</td>\n",
       "      <td>...</td>\n",
       "      <td>...</td>\n",
       "      <td>...</td>\n",
       "      <td>...</td>\n",
       "      <td>...</td>\n",
       "      <td>...</td>\n",
       "      <td>...</td>\n",
       "      <td>...</td>\n",
       "      <td>...</td>\n",
       "    </tr>\n",
       "    <tr>\n",
       "      <th>85</th>\n",
       "      <td>13</td>\n",
       "      <td>departement-78-yvelines_nbsinister-max-3-kmean...</td>\n",
       "      <td>201.0</td>\n",
       "      <td>201.0</td>\n",
       "      <td>0.59</td>\n",
       "      <td>0.135135</td>\n",
       "      <td>0.495506</td>\n",
       "      <td>1.48</td>\n",
       "      <td>-0.42</td>\n",
       "      <td>0.25</td>\n",
       "      <td>...</td>\n",
       "      <td>NaN</td>\n",
       "      <td>NaN</td>\n",
       "      <td>NaN</td>\n",
       "      <td>NaN</td>\n",
       "      <td>NaN</td>\n",
       "      <td>NaN</td>\n",
       "      <td>NaN</td>\n",
       "      <td>NaN</td>\n",
       "      <td>NaN</td>\n",
       "      <td>NaN</td>\n",
       "    </tr>\n",
       "    <tr>\n",
       "      <th>86</th>\n",
       "      <td>14</td>\n",
       "      <td>departement-78-yvelines_nbsinister-max-1-kmean...</td>\n",
       "      <td>201.0</td>\n",
       "      <td>201.0</td>\n",
       "      <td>0.68</td>\n",
       "      <td>0.442355</td>\n",
       "      <td>0.502906</td>\n",
       "      <td>9.55</td>\n",
       "      <td>-0.00</td>\n",
       "      <td>0.40</td>\n",
       "      <td>...</td>\n",
       "      <td>NaN</td>\n",
       "      <td>NaN</td>\n",
       "      <td>NaN</td>\n",
       "      <td>NaN</td>\n",
       "      <td>NaN</td>\n",
       "      <td>NaN</td>\n",
       "      <td>NaN</td>\n",
       "      <td>NaN</td>\n",
       "      <td>NaN</td>\n",
       "      <td>NaN</td>\n",
       "    </tr>\n",
       "    <tr>\n",
       "      <th>87</th>\n",
       "      <td>15</td>\n",
       "      <td>departement-78-yvelines_nbsinister-max-0-kmean...</td>\n",
       "      <td>201.0</td>\n",
       "      <td>201.0</td>\n",
       "      <td>1.00</td>\n",
       "      <td>0.829609</td>\n",
       "      <td>1.000000</td>\n",
       "      <td>45.12</td>\n",
       "      <td>0.92</td>\n",
       "      <td>0.84</td>\n",
       "      <td>...</td>\n",
       "      <td>NaN</td>\n",
       "      <td>NaN</td>\n",
       "      <td>NaN</td>\n",
       "      <td>NaN</td>\n",
       "      <td>NaN</td>\n",
       "      <td>NaN</td>\n",
       "      <td>NaN</td>\n",
       "      <td>NaN</td>\n",
       "      <td>NaN</td>\n",
       "      <td>NaN</td>\n",
       "    </tr>\n",
       "    <tr>\n",
       "      <th>88</th>\n",
       "      <td>16</td>\n",
       "      <td>departement-78-yvelines_risk-kmeans-5-Class-De...</td>\n",
       "      <td>201.0</td>\n",
       "      <td>201.0</td>\n",
       "      <td>0.70</td>\n",
       "      <td>0.491407</td>\n",
       "      <td>0.633597</td>\n",
       "      <td>3.19</td>\n",
       "      <td>0.20</td>\n",
       "      <td>-0.08</td>\n",
       "      <td>...</td>\n",
       "      <td>NaN</td>\n",
       "      <td>NaN</td>\n",
       "      <td>NaN</td>\n",
       "      <td>NaN</td>\n",
       "      <td>NaN</td>\n",
       "      <td>NaN</td>\n",
       "      <td>NaN</td>\n",
       "      <td>NaN</td>\n",
       "      <td>NaN</td>\n",
       "      <td>NaN</td>\n",
       "    </tr>\n",
       "    <tr>\n",
       "      <th>89</th>\n",
       "      <td>17</td>\n",
       "      <td>departement-78-yvelines_risk-nbsinister-Robust...</td>\n",
       "      <td>201.0</td>\n",
       "      <td>201.0</td>\n",
       "      <td>0.69</td>\n",
       "      <td>0.437192</td>\n",
       "      <td>0.659810</td>\n",
       "      <td>4.09</td>\n",
       "      <td>0.56</td>\n",
       "      <td>0.60</td>\n",
       "      <td>...</td>\n",
       "      <td>NaN</td>\n",
       "      <td>NaN</td>\n",
       "      <td>NaN</td>\n",
       "      <td>NaN</td>\n",
       "      <td>NaN</td>\n",
       "      <td>NaN</td>\n",
       "      <td>NaN</td>\n",
       "      <td>NaN</td>\n",
       "      <td>NaN</td>\n",
       "      <td>NaN</td>\n",
       "    </tr>\n",
       "  </tbody>\n",
       "</table>\n",
       "<p>90 rows × 720 columns</p>\n",
       "</div>"
      ],
      "text/plain": [
       "    Unnamed: 0                                                Run  nbsinister  \\\n",
       "0            0  departement-01-ain_fwi-mean-[5, 10.5, 21.5, 34...       278.0   \n",
       "1            1  departement-01-ain_nbsinister-max-3-kmeans-5-C...       278.0   \n",
       "2            2  departement-01-ain_nbsinister-max-1-kmeans-5-C...       278.0   \n",
       "3            3  departement-01-ain_nbsinister-max-0-kmeans-5-C...       278.0   \n",
       "4            4  departement-01-ain_risk-kmeans-5-Class-Dept-No...       278.0   \n",
       "..         ...                                                ...         ...   \n",
       "85          13  departement-78-yvelines_nbsinister-max-3-kmean...       201.0   \n",
       "86          14  departement-78-yvelines_nbsinister-max-1-kmean...       201.0   \n",
       "87          15  departement-78-yvelines_nbsinister-max-0-kmean...       201.0   \n",
       "88          16  departement-78-yvelines_risk-kmeans-5-Class-De...       201.0   \n",
       "89          17  departement-78-yvelines_risk-nbsinister-Robust...       201.0   \n",
       "\n",
       "       nb   apr        r2        KS     IV    SS  SS_no_zeros  ...  \\\n",
       "0   278.0  0.27 -8.522054  0.124949   0.07 -0.11        -0.20  ...   \n",
       "1   278.0  0.34 -2.448590  0.115278   0.01 -0.11         0.26  ...   \n",
       "2   278.0  0.48 -0.528517  0.146365   0.01  0.41         0.31  ...   \n",
       "3   278.0  1.00  0.994199  0.218338   0.03  1.00         0.99  ...   \n",
       "4   278.0  0.65 -0.026746  0.132130   0.01  0.54         0.14  ...   \n",
       "..    ...   ...       ...       ...    ...   ...          ...  ...   \n",
       "85  201.0  0.59  0.135135  0.495506   1.48 -0.42         0.25  ...   \n",
       "86  201.0  0.68  0.442355  0.502906   9.55 -0.00         0.40  ...   \n",
       "87  201.0  1.00  0.829609  1.000000  45.12  0.92         0.84  ...   \n",
       "88  201.0  0.70  0.491407  0.633597   3.19  0.20        -0.08  ...   \n",
       "89  201.0  0.69  0.437192  0.659810   4.09  0.56         0.60  ...   \n",
       "\n",
       "    iou_graph_10_season_medium_class  \\\n",
       "0                                NaN   \n",
       "1                                NaN   \n",
       "2                                NaN   \n",
       "3                                NaN   \n",
       "4                                NaN   \n",
       "..                               ...   \n",
       "85                               NaN   \n",
       "86                               NaN   \n",
       "87                               NaN   \n",
       "88                               NaN   \n",
       "89                               NaN   \n",
       "\n",
       "    iou_under_prediction_graph_10_season_medium_class  \\\n",
       "0                                                 NaN   \n",
       "1                                                 NaN   \n",
       "2                                                 NaN   \n",
       "3                                                 NaN   \n",
       "4                                                 NaN   \n",
       "..                                                ...   \n",
       "85                                                NaN   \n",
       "86                                                NaN   \n",
       "87                                                NaN   \n",
       "88                                                NaN   \n",
       "89                                                NaN   \n",
       "\n",
       "    iou_over_prediction_graph_10_season_medium_class  \\\n",
       "0                                                NaN   \n",
       "1                                                NaN   \n",
       "2                                                NaN   \n",
       "3                                                NaN   \n",
       "4                                                NaN   \n",
       "..                                               ...   \n",
       "85                                               NaN   \n",
       "86                                               NaN   \n",
       "87                                               NaN   \n",
       "88                                               NaN   \n",
       "89                                               NaN   \n",
       "\n",
       "    reliability_predicted_graph_10_season_medium_class  \\\n",
       "0                                                 NaN    \n",
       "1                                                 NaN    \n",
       "2                                                 NaN    \n",
       "3                                                 NaN    \n",
       "4                                                 NaN    \n",
       "..                                                ...    \n",
       "85                                                NaN    \n",
       "86                                                NaN    \n",
       "87                                                NaN    \n",
       "88                                                NaN    \n",
       "89                                                NaN    \n",
       "\n",
       "    reliability_detected_graph_10_season_medium_class  \\\n",
       "0                                                 NaN   \n",
       "1                                                 NaN   \n",
       "2                                                 NaN   \n",
       "3                                                 NaN   \n",
       "4                                                 NaN   \n",
       "..                                                ...   \n",
       "85                                                NaN   \n",
       "86                                                NaN   \n",
       "87                                                NaN   \n",
       "88                                                NaN   \n",
       "89                                                NaN   \n",
       "\n",
       "    wildfire_predicted_ratio_graph_10_season_medium_class  \\\n",
       "0                                                 NaN       \n",
       "1                                                 NaN       \n",
       "2                                                 NaN       \n",
       "3                                                 NaN       \n",
       "4                                                 NaN       \n",
       "..                                                ...       \n",
       "85                                                NaN       \n",
       "86                                                NaN       \n",
       "87                                                NaN       \n",
       "88                                                NaN       \n",
       "89                                                NaN       \n",
       "\n",
       "    wildfire_detected_ratio_graph_10_season_medium_class  \\\n",
       "0                                                 NaN      \n",
       "1                                                 NaN      \n",
       "2                                                 NaN      \n",
       "3                                                 NaN      \n",
       "4                                                 NaN      \n",
       "..                                                ...      \n",
       "85                                                NaN      \n",
       "86                                                NaN      \n",
       "87                                                NaN      \n",
       "88                                                NaN      \n",
       "89                                                NaN      \n",
       "\n",
       "    over_bad_prediction_local_graph_10_season_medium_class  \\\n",
       "0                                                 NaN        \n",
       "1                                                 NaN        \n",
       "2                                                 NaN        \n",
       "3                                                 NaN        \n",
       "4                                                 NaN        \n",
       "..                                                ...        \n",
       "85                                                NaN        \n",
       "86                                                NaN        \n",
       "87                                                NaN        \n",
       "88                                                NaN        \n",
       "89                                                NaN        \n",
       "\n",
       "    under_bad_prediction_local_graph_10_season_medium_class  \\\n",
       "0                                                 NaN         \n",
       "1                                                 NaN         \n",
       "2                                                 NaN         \n",
       "3                                                 NaN         \n",
       "4                                                 NaN         \n",
       "..                                                ...         \n",
       "85                                                NaN         \n",
       "86                                                NaN         \n",
       "87                                                NaN         \n",
       "88                                                NaN         \n",
       "89                                                NaN         \n",
       "\n",
       "    bad_prediction_local_graph_10_season_medium_class  \n",
       "0                                                 NaN  \n",
       "1                                                 NaN  \n",
       "2                                                 NaN  \n",
       "3                                                 NaN  \n",
       "4                                                 NaN  \n",
       "..                                                ...  \n",
       "85                                                NaN  \n",
       "86                                                NaN  \n",
       "87                                                NaN  \n",
       "88                                                NaN  \n",
       "89                                                NaN  \n",
       "\n",
       "[90 rows x 720 columns]"
      ]
     },
     "execution_count": 102,
     "metadata": {},
     "output_type": "execute_result"
    }
   ],
   "source": [
    "df"
   ]
  },
  {
   "cell_type": "code",
   "execution_count": 103,
   "metadata": {},
   "outputs": [],
   "source": [
    "df.to_csv('try.csv')"
   ]
  },
  {
   "cell_type": "code",
   "execution_count": 104,
   "metadata": {},
   "outputs": [],
   "source": [
    "if MLFLOW:\n",
    "    metric = 'bad_prediction_modified_nbsinister_max_1'\n",
    "    df = pd.read_csv(f'{metric}.csv')\n",
    "\n",
    "    metric = 'wildfire_over_predicted_modified_nbsinister_max_1'\n",
    "    df1 = pd.read_csv(f'{metric}.csv')\n",
    "\n",
    "    metric = 'iou_modified_nbsinister_max_1'\n",
    "    df2 = pd.read_csv(f'{metric}.csv')\n",
    "\n",
    "    metric = 'apr_nbsinister_max_1'\n",
    "    df3 = pd.read_csv(f'{metric}.csv')\n",
    "\n",
    "    metric = 'r2_nbsninster_max_1'\n",
    "    df4 = pd.read_csv(f'{metric}.csv')\n",
    "\n",
    "    df = df.set_index('Run').join(df1.set_index('Run')['wildfire_over_predicted_modified_nbsinister_max_1']).reset_index()\n",
    "    df = df.set_index('Run').join(df2.set_index('Run')['iou_modified_nbsinister_max_1']).reset_index()\n",
    "    df = df3.set_index('Run').join(df2.set_index('Run')['apr_nbsinister_max_1']).reset_index()\n",
    "    df = df4.set_index('Run').join(df2.set_index('Run')['r2_nbsninster_max_1']).reset_index()\n",
    "\n",
    "    #df.dropna(subset=['temporal_spearman', 'temporal_mae', 'temporal_binary_f1', 'temporal_kendall'], inplace=True)\n",
    "    df.drop_duplicates(inplace=True, keep='first')\n",
    "    df.reset_index(drop=True, inplace=True)"
   ]
  },
  {
   "cell_type": "code",
   "execution_count": 105,
   "metadata": {},
   "outputs": [
    {
     "data": {
      "text/html": [
       "<div>\n",
       "<style scoped>\n",
       "    .dataframe tbody tr th:only-of-type {\n",
       "        vertical-align: middle;\n",
       "    }\n",
       "\n",
       "    .dataframe tbody tr th {\n",
       "        vertical-align: top;\n",
       "    }\n",
       "\n",
       "    .dataframe thead th {\n",
       "        text-align: right;\n",
       "    }\n",
       "</style>\n",
       "<table border=\"1\" class=\"dataframe\">\n",
       "  <thead>\n",
       "    <tr style=\"text-align: right;\">\n",
       "      <th></th>\n",
       "      <th>Unnamed: 0</th>\n",
       "      <th>Run</th>\n",
       "      <th>nbsinister</th>\n",
       "      <th>nb</th>\n",
       "      <th>apr</th>\n",
       "      <th>r2</th>\n",
       "      <th>KS</th>\n",
       "      <th>IV</th>\n",
       "      <th>SS</th>\n",
       "      <th>SS_no_zeros</th>\n",
       "      <th>...</th>\n",
       "      <th>iou_graph_10_season_medium_class</th>\n",
       "      <th>iou_under_prediction_graph_10_season_medium_class</th>\n",
       "      <th>iou_over_prediction_graph_10_season_medium_class</th>\n",
       "      <th>reliability_predicted_graph_10_season_medium_class</th>\n",
       "      <th>reliability_detected_graph_10_season_medium_class</th>\n",
       "      <th>wildfire_predicted_ratio_graph_10_season_medium_class</th>\n",
       "      <th>wildfire_detected_ratio_graph_10_season_medium_class</th>\n",
       "      <th>over_bad_prediction_local_graph_10_season_medium_class</th>\n",
       "      <th>under_bad_prediction_local_graph_10_season_medium_class</th>\n",
       "      <th>bad_prediction_local_graph_10_season_medium_class</th>\n",
       "    </tr>\n",
       "  </thead>\n",
       "  <tbody>\n",
       "    <tr>\n",
       "      <th>0</th>\n",
       "      <td>0</td>\n",
       "      <td>departement-01-ain_fwi-mean-[5, 10.5, 21.5, 34...</td>\n",
       "      <td>278.0</td>\n",
       "      <td>278.0</td>\n",
       "      <td>0.27</td>\n",
       "      <td>-8.522054</td>\n",
       "      <td>0.124949</td>\n",
       "      <td>0.07</td>\n",
       "      <td>-0.11</td>\n",
       "      <td>-0.20</td>\n",
       "      <td>...</td>\n",
       "      <td>NaN</td>\n",
       "      <td>NaN</td>\n",
       "      <td>NaN</td>\n",
       "      <td>NaN</td>\n",
       "      <td>NaN</td>\n",
       "      <td>NaN</td>\n",
       "      <td>NaN</td>\n",
       "      <td>NaN</td>\n",
       "      <td>NaN</td>\n",
       "      <td>NaN</td>\n",
       "    </tr>\n",
       "    <tr>\n",
       "      <th>1</th>\n",
       "      <td>1</td>\n",
       "      <td>departement-01-ain_nbsinister-max-3-kmeans-5-C...</td>\n",
       "      <td>278.0</td>\n",
       "      <td>278.0</td>\n",
       "      <td>0.34</td>\n",
       "      <td>-2.448590</td>\n",
       "      <td>0.115278</td>\n",
       "      <td>0.01</td>\n",
       "      <td>-0.11</td>\n",
       "      <td>0.26</td>\n",
       "      <td>...</td>\n",
       "      <td>NaN</td>\n",
       "      <td>NaN</td>\n",
       "      <td>NaN</td>\n",
       "      <td>NaN</td>\n",
       "      <td>NaN</td>\n",
       "      <td>NaN</td>\n",
       "      <td>NaN</td>\n",
       "      <td>NaN</td>\n",
       "      <td>NaN</td>\n",
       "      <td>NaN</td>\n",
       "    </tr>\n",
       "    <tr>\n",
       "      <th>2</th>\n",
       "      <td>2</td>\n",
       "      <td>departement-01-ain_nbsinister-max-1-kmeans-5-C...</td>\n",
       "      <td>278.0</td>\n",
       "      <td>278.0</td>\n",
       "      <td>0.48</td>\n",
       "      <td>-0.528517</td>\n",
       "      <td>0.146365</td>\n",
       "      <td>0.01</td>\n",
       "      <td>0.41</td>\n",
       "      <td>0.31</td>\n",
       "      <td>...</td>\n",
       "      <td>NaN</td>\n",
       "      <td>NaN</td>\n",
       "      <td>NaN</td>\n",
       "      <td>NaN</td>\n",
       "      <td>NaN</td>\n",
       "      <td>NaN</td>\n",
       "      <td>NaN</td>\n",
       "      <td>NaN</td>\n",
       "      <td>NaN</td>\n",
       "      <td>NaN</td>\n",
       "    </tr>\n",
       "    <tr>\n",
       "      <th>3</th>\n",
       "      <td>3</td>\n",
       "      <td>departement-01-ain_nbsinister-max-0-kmeans-5-C...</td>\n",
       "      <td>278.0</td>\n",
       "      <td>278.0</td>\n",
       "      <td>1.00</td>\n",
       "      <td>0.994199</td>\n",
       "      <td>0.218338</td>\n",
       "      <td>0.03</td>\n",
       "      <td>1.00</td>\n",
       "      <td>0.99</td>\n",
       "      <td>...</td>\n",
       "      <td>NaN</td>\n",
       "      <td>NaN</td>\n",
       "      <td>NaN</td>\n",
       "      <td>NaN</td>\n",
       "      <td>NaN</td>\n",
       "      <td>NaN</td>\n",
       "      <td>NaN</td>\n",
       "      <td>NaN</td>\n",
       "      <td>NaN</td>\n",
       "      <td>NaN</td>\n",
       "    </tr>\n",
       "    <tr>\n",
       "      <th>4</th>\n",
       "      <td>4</td>\n",
       "      <td>departement-01-ain_risk-kmeans-5-Class-Dept-No...</td>\n",
       "      <td>278.0</td>\n",
       "      <td>278.0</td>\n",
       "      <td>0.65</td>\n",
       "      <td>-0.026746</td>\n",
       "      <td>0.132130</td>\n",
       "      <td>0.01</td>\n",
       "      <td>0.54</td>\n",
       "      <td>0.14</td>\n",
       "      <td>...</td>\n",
       "      <td>NaN</td>\n",
       "      <td>NaN</td>\n",
       "      <td>NaN</td>\n",
       "      <td>NaN</td>\n",
       "      <td>NaN</td>\n",
       "      <td>NaN</td>\n",
       "      <td>NaN</td>\n",
       "      <td>NaN</td>\n",
       "      <td>NaN</td>\n",
       "      <td>NaN</td>\n",
       "    </tr>\n",
       "    <tr>\n",
       "      <th>...</th>\n",
       "      <td>...</td>\n",
       "      <td>...</td>\n",
       "      <td>...</td>\n",
       "      <td>...</td>\n",
       "      <td>...</td>\n",
       "      <td>...</td>\n",
       "      <td>...</td>\n",
       "      <td>...</td>\n",
       "      <td>...</td>\n",
       "      <td>...</td>\n",
       "      <td>...</td>\n",
       "      <td>...</td>\n",
       "      <td>...</td>\n",
       "      <td>...</td>\n",
       "      <td>...</td>\n",
       "      <td>...</td>\n",
       "      <td>...</td>\n",
       "      <td>...</td>\n",
       "      <td>...</td>\n",
       "      <td>...</td>\n",
       "      <td>...</td>\n",
       "    </tr>\n",
       "    <tr>\n",
       "      <th>85</th>\n",
       "      <td>13</td>\n",
       "      <td>departement-78-yvelines_nbsinister-max-3-kmean...</td>\n",
       "      <td>201.0</td>\n",
       "      <td>201.0</td>\n",
       "      <td>0.59</td>\n",
       "      <td>0.135135</td>\n",
       "      <td>0.495506</td>\n",
       "      <td>1.48</td>\n",
       "      <td>-0.42</td>\n",
       "      <td>0.25</td>\n",
       "      <td>...</td>\n",
       "      <td>NaN</td>\n",
       "      <td>NaN</td>\n",
       "      <td>NaN</td>\n",
       "      <td>NaN</td>\n",
       "      <td>NaN</td>\n",
       "      <td>NaN</td>\n",
       "      <td>NaN</td>\n",
       "      <td>NaN</td>\n",
       "      <td>NaN</td>\n",
       "      <td>NaN</td>\n",
       "    </tr>\n",
       "    <tr>\n",
       "      <th>86</th>\n",
       "      <td>14</td>\n",
       "      <td>departement-78-yvelines_nbsinister-max-1-kmean...</td>\n",
       "      <td>201.0</td>\n",
       "      <td>201.0</td>\n",
       "      <td>0.68</td>\n",
       "      <td>0.442355</td>\n",
       "      <td>0.502906</td>\n",
       "      <td>9.55</td>\n",
       "      <td>-0.00</td>\n",
       "      <td>0.40</td>\n",
       "      <td>...</td>\n",
       "      <td>NaN</td>\n",
       "      <td>NaN</td>\n",
       "      <td>NaN</td>\n",
       "      <td>NaN</td>\n",
       "      <td>NaN</td>\n",
       "      <td>NaN</td>\n",
       "      <td>NaN</td>\n",
       "      <td>NaN</td>\n",
       "      <td>NaN</td>\n",
       "      <td>NaN</td>\n",
       "    </tr>\n",
       "    <tr>\n",
       "      <th>87</th>\n",
       "      <td>15</td>\n",
       "      <td>departement-78-yvelines_nbsinister-max-0-kmean...</td>\n",
       "      <td>201.0</td>\n",
       "      <td>201.0</td>\n",
       "      <td>1.00</td>\n",
       "      <td>0.829609</td>\n",
       "      <td>1.000000</td>\n",
       "      <td>45.12</td>\n",
       "      <td>0.92</td>\n",
       "      <td>0.84</td>\n",
       "      <td>...</td>\n",
       "      <td>NaN</td>\n",
       "      <td>NaN</td>\n",
       "      <td>NaN</td>\n",
       "      <td>NaN</td>\n",
       "      <td>NaN</td>\n",
       "      <td>NaN</td>\n",
       "      <td>NaN</td>\n",
       "      <td>NaN</td>\n",
       "      <td>NaN</td>\n",
       "      <td>NaN</td>\n",
       "    </tr>\n",
       "    <tr>\n",
       "      <th>88</th>\n",
       "      <td>16</td>\n",
       "      <td>departement-78-yvelines_risk-kmeans-5-Class-De...</td>\n",
       "      <td>201.0</td>\n",
       "      <td>201.0</td>\n",
       "      <td>0.70</td>\n",
       "      <td>0.491407</td>\n",
       "      <td>0.633597</td>\n",
       "      <td>3.19</td>\n",
       "      <td>0.20</td>\n",
       "      <td>-0.08</td>\n",
       "      <td>...</td>\n",
       "      <td>NaN</td>\n",
       "      <td>NaN</td>\n",
       "      <td>NaN</td>\n",
       "      <td>NaN</td>\n",
       "      <td>NaN</td>\n",
       "      <td>NaN</td>\n",
       "      <td>NaN</td>\n",
       "      <td>NaN</td>\n",
       "      <td>NaN</td>\n",
       "      <td>NaN</td>\n",
       "    </tr>\n",
       "    <tr>\n",
       "      <th>89</th>\n",
       "      <td>17</td>\n",
       "      <td>departement-78-yvelines_risk-nbsinister-Robust...</td>\n",
       "      <td>201.0</td>\n",
       "      <td>201.0</td>\n",
       "      <td>0.69</td>\n",
       "      <td>0.437192</td>\n",
       "      <td>0.659810</td>\n",
       "      <td>4.09</td>\n",
       "      <td>0.56</td>\n",
       "      <td>0.60</td>\n",
       "      <td>...</td>\n",
       "      <td>NaN</td>\n",
       "      <td>NaN</td>\n",
       "      <td>NaN</td>\n",
       "      <td>NaN</td>\n",
       "      <td>NaN</td>\n",
       "      <td>NaN</td>\n",
       "      <td>NaN</td>\n",
       "      <td>NaN</td>\n",
       "      <td>NaN</td>\n",
       "      <td>NaN</td>\n",
       "    </tr>\n",
       "  </tbody>\n",
       "</table>\n",
       "<p>90 rows × 720 columns</p>\n",
       "</div>"
      ],
      "text/plain": [
       "    Unnamed: 0                                                Run  nbsinister  \\\n",
       "0            0  departement-01-ain_fwi-mean-[5, 10.5, 21.5, 34...       278.0   \n",
       "1            1  departement-01-ain_nbsinister-max-3-kmeans-5-C...       278.0   \n",
       "2            2  departement-01-ain_nbsinister-max-1-kmeans-5-C...       278.0   \n",
       "3            3  departement-01-ain_nbsinister-max-0-kmeans-5-C...       278.0   \n",
       "4            4  departement-01-ain_risk-kmeans-5-Class-Dept-No...       278.0   \n",
       "..         ...                                                ...         ...   \n",
       "85          13  departement-78-yvelines_nbsinister-max-3-kmean...       201.0   \n",
       "86          14  departement-78-yvelines_nbsinister-max-1-kmean...       201.0   \n",
       "87          15  departement-78-yvelines_nbsinister-max-0-kmean...       201.0   \n",
       "88          16  departement-78-yvelines_risk-kmeans-5-Class-De...       201.0   \n",
       "89          17  departement-78-yvelines_risk-nbsinister-Robust...       201.0   \n",
       "\n",
       "       nb   apr        r2        KS     IV    SS  SS_no_zeros  ...  \\\n",
       "0   278.0  0.27 -8.522054  0.124949   0.07 -0.11        -0.20  ...   \n",
       "1   278.0  0.34 -2.448590  0.115278   0.01 -0.11         0.26  ...   \n",
       "2   278.0  0.48 -0.528517  0.146365   0.01  0.41         0.31  ...   \n",
       "3   278.0  1.00  0.994199  0.218338   0.03  1.00         0.99  ...   \n",
       "4   278.0  0.65 -0.026746  0.132130   0.01  0.54         0.14  ...   \n",
       "..    ...   ...       ...       ...    ...   ...          ...  ...   \n",
       "85  201.0  0.59  0.135135  0.495506   1.48 -0.42         0.25  ...   \n",
       "86  201.0  0.68  0.442355  0.502906   9.55 -0.00         0.40  ...   \n",
       "87  201.0  1.00  0.829609  1.000000  45.12  0.92         0.84  ...   \n",
       "88  201.0  0.70  0.491407  0.633597   3.19  0.20        -0.08  ...   \n",
       "89  201.0  0.69  0.437192  0.659810   4.09  0.56         0.60  ...   \n",
       "\n",
       "    iou_graph_10_season_medium_class  \\\n",
       "0                                NaN   \n",
       "1                                NaN   \n",
       "2                                NaN   \n",
       "3                                NaN   \n",
       "4                                NaN   \n",
       "..                               ...   \n",
       "85                               NaN   \n",
       "86                               NaN   \n",
       "87                               NaN   \n",
       "88                               NaN   \n",
       "89                               NaN   \n",
       "\n",
       "    iou_under_prediction_graph_10_season_medium_class  \\\n",
       "0                                                 NaN   \n",
       "1                                                 NaN   \n",
       "2                                                 NaN   \n",
       "3                                                 NaN   \n",
       "4                                                 NaN   \n",
       "..                                                ...   \n",
       "85                                                NaN   \n",
       "86                                                NaN   \n",
       "87                                                NaN   \n",
       "88                                                NaN   \n",
       "89                                                NaN   \n",
       "\n",
       "    iou_over_prediction_graph_10_season_medium_class  \\\n",
       "0                                                NaN   \n",
       "1                                                NaN   \n",
       "2                                                NaN   \n",
       "3                                                NaN   \n",
       "4                                                NaN   \n",
       "..                                               ...   \n",
       "85                                               NaN   \n",
       "86                                               NaN   \n",
       "87                                               NaN   \n",
       "88                                               NaN   \n",
       "89                                               NaN   \n",
       "\n",
       "    reliability_predicted_graph_10_season_medium_class  \\\n",
       "0                                                 NaN    \n",
       "1                                                 NaN    \n",
       "2                                                 NaN    \n",
       "3                                                 NaN    \n",
       "4                                                 NaN    \n",
       "..                                                ...    \n",
       "85                                                NaN    \n",
       "86                                                NaN    \n",
       "87                                                NaN    \n",
       "88                                                NaN    \n",
       "89                                                NaN    \n",
       "\n",
       "    reliability_detected_graph_10_season_medium_class  \\\n",
       "0                                                 NaN   \n",
       "1                                                 NaN   \n",
       "2                                                 NaN   \n",
       "3                                                 NaN   \n",
       "4                                                 NaN   \n",
       "..                                                ...   \n",
       "85                                                NaN   \n",
       "86                                                NaN   \n",
       "87                                                NaN   \n",
       "88                                                NaN   \n",
       "89                                                NaN   \n",
       "\n",
       "    wildfire_predicted_ratio_graph_10_season_medium_class  \\\n",
       "0                                                 NaN       \n",
       "1                                                 NaN       \n",
       "2                                                 NaN       \n",
       "3                                                 NaN       \n",
       "4                                                 NaN       \n",
       "..                                                ...       \n",
       "85                                                NaN       \n",
       "86                                                NaN       \n",
       "87                                                NaN       \n",
       "88                                                NaN       \n",
       "89                                                NaN       \n",
       "\n",
       "    wildfire_detected_ratio_graph_10_season_medium_class  \\\n",
       "0                                                 NaN      \n",
       "1                                                 NaN      \n",
       "2                                                 NaN      \n",
       "3                                                 NaN      \n",
       "4                                                 NaN      \n",
       "..                                                ...      \n",
       "85                                                NaN      \n",
       "86                                                NaN      \n",
       "87                                                NaN      \n",
       "88                                                NaN      \n",
       "89                                                NaN      \n",
       "\n",
       "    over_bad_prediction_local_graph_10_season_medium_class  \\\n",
       "0                                                 NaN        \n",
       "1                                                 NaN        \n",
       "2                                                 NaN        \n",
       "3                                                 NaN        \n",
       "4                                                 NaN        \n",
       "..                                                ...        \n",
       "85                                                NaN        \n",
       "86                                                NaN        \n",
       "87                                                NaN        \n",
       "88                                                NaN        \n",
       "89                                                NaN        \n",
       "\n",
       "    under_bad_prediction_local_graph_10_season_medium_class  \\\n",
       "0                                                 NaN         \n",
       "1                                                 NaN         \n",
       "2                                                 NaN         \n",
       "3                                                 NaN         \n",
       "4                                                 NaN         \n",
       "..                                                ...         \n",
       "85                                                NaN         \n",
       "86                                                NaN         \n",
       "87                                                NaN         \n",
       "88                                                NaN         \n",
       "89                                                NaN         \n",
       "\n",
       "    bad_prediction_local_graph_10_season_medium_class  \n",
       "0                                                 NaN  \n",
       "1                                                 NaN  \n",
       "2                                                 NaN  \n",
       "3                                                 NaN  \n",
       "4                                                 NaN  \n",
       "..                                                ...  \n",
       "85                                                NaN  \n",
       "86                                                NaN  \n",
       "87                                                NaN  \n",
       "88                                                NaN  \n",
       "89                                                NaN  \n",
       "\n",
       "[90 rows x 720 columns]"
      ]
     },
     "execution_count": 105,
     "metadata": {},
     "output_type": "execute_result"
    }
   ],
   "source": [
    "df"
   ]
  },
  {
   "cell_type": "code",
   "execution_count": 106,
   "metadata": {},
   "outputs": [
    {
     "data": {
      "text/plain": [
       "'departement-01-ain_fwi-mean-[5, 10.5, 21.5, 34.5]-5_full_one_nbsinister-max-1-kmeans-5-Class-Dept_classification_None_full_0_all_6_0_risk-size-watershed_node'"
      ]
     },
     "execution_count": 106,
     "metadata": {},
     "output_type": "execute_result"
    }
   ],
   "source": [
    "df.loc[0, 'Run']"
   ]
  },
  {
   "cell_type": "code",
   "execution_count": 107,
   "metadata": {},
   "outputs": [
    {
     "name": "stderr",
     "output_type": "stream",
     "text": [
      "/tmp/ipykernel_645677/1812617726.py:43: PerformanceWarning:\n",
      "\n",
      "DataFrame is highly fragmented.  This is usually the result of calling `frame.insert` many times, which has poor performance.  Consider joining all columns at once using pd.concat(axis=1) instead. To get a de-fragmented frame, use `newframe = frame.copy()`\n",
      "\n",
      "/tmp/ipykernel_645677/1812617726.py:44: PerformanceWarning:\n",
      "\n",
      "DataFrame is highly fragmented.  This is usually the result of calling `frame.insert` many times, which has poor performance.  Consider joining all columns at once using pd.concat(axis=1) instead. To get a de-fragmented frame, use `newframe = frame.copy()`\n",
      "\n",
      "/tmp/ipykernel_645677/1812617726.py:45: PerformanceWarning:\n",
      "\n",
      "DataFrame is highly fragmented.  This is usually the result of calling `frame.insert` many times, which has poor performance.  Consider joining all columns at once using pd.concat(axis=1) instead. To get a de-fragmented frame, use `newframe = frame.copy()`\n",
      "\n",
      "/tmp/ipykernel_645677/1812617726.py:46: PerformanceWarning:\n",
      "\n",
      "DataFrame is highly fragmented.  This is usually the result of calling `frame.insert` many times, which has poor performance.  Consider joining all columns at once using pd.concat(axis=1) instead. To get a de-fragmented frame, use `newframe = frame.copy()`\n",
      "\n",
      "/tmp/ipykernel_645677/1812617726.py:47: PerformanceWarning:\n",
      "\n",
      "DataFrame is highly fragmented.  This is usually the result of calling `frame.insert` many times, which has poor performance.  Consider joining all columns at once using pd.concat(axis=1) instead. To get a de-fragmented frame, use `newframe = frame.copy()`\n",
      "\n",
      "/tmp/ipykernel_645677/1812617726.py:48: PerformanceWarning:\n",
      "\n",
      "DataFrame is highly fragmented.  This is usually the result of calling `frame.insert` many times, which has poor performance.  Consider joining all columns at once using pd.concat(axis=1) instead. To get a de-fragmented frame, use `newframe = frame.copy()`\n",
      "\n",
      "/tmp/ipykernel_645677/1812617726.py:49: PerformanceWarning:\n",
      "\n",
      "DataFrame is highly fragmented.  This is usually the result of calling `frame.insert` many times, which has poor performance.  Consider joining all columns at once using pd.concat(axis=1) instead. To get a de-fragmented frame, use `newframe = frame.copy()`\n",
      "\n",
      "/tmp/ipykernel_645677/1812617726.py:50: PerformanceWarning:\n",
      "\n",
      "DataFrame is highly fragmented.  This is usually the result of calling `frame.insert` many times, which has poor performance.  Consider joining all columns at once using pd.concat(axis=1) instead. To get a de-fragmented frame, use `newframe = frame.copy()`\n",
      "\n",
      "/tmp/ipykernel_645677/1812617726.py:51: PerformanceWarning:\n",
      "\n",
      "DataFrame is highly fragmented.  This is usually the result of calling `frame.insert` many times, which has poor performance.  Consider joining all columns at once using pd.concat(axis=1) instead. To get a de-fragmented frame, use `newframe = frame.copy()`\n",
      "\n",
      "/tmp/ipykernel_645677/1812617726.py:52: PerformanceWarning:\n",
      "\n",
      "DataFrame is highly fragmented.  This is usually the result of calling `frame.insert` many times, which has poor performance.  Consider joining all columns at once using pd.concat(axis=1) instead. To get a de-fragmented frame, use `newframe = frame.copy()`\n",
      "\n",
      "/tmp/ipykernel_645677/1812617726.py:53: PerformanceWarning:\n",
      "\n",
      "DataFrame is highly fragmented.  This is usually the result of calling `frame.insert` many times, which has poor performance.  Consider joining all columns at once using pd.concat(axis=1) instead. To get a de-fragmented frame, use `newframe = frame.copy()`\n",
      "\n",
      "/tmp/ipykernel_645677/1812617726.py:54: PerformanceWarning:\n",
      "\n",
      "DataFrame is highly fragmented.  This is usually the result of calling `frame.insert` many times, which has poor performance.  Consider joining all columns at once using pd.concat(axis=1) instead. To get a de-fragmented frame, use `newframe = frame.copy()`\n",
      "\n",
      "/tmp/ipykernel_645677/1812617726.py:55: PerformanceWarning:\n",
      "\n",
      "DataFrame is highly fragmented.  This is usually the result of calling `frame.insert` many times, which has poor performance.  Consider joining all columns at once using pd.concat(axis=1) instead. To get a de-fragmented frame, use `newframe = frame.copy()`\n",
      "\n",
      "/tmp/ipykernel_645677/1812617726.py:56: PerformanceWarning:\n",
      "\n",
      "DataFrame is highly fragmented.  This is usually the result of calling `frame.insert` many times, which has poor performance.  Consider joining all columns at once using pd.concat(axis=1) instead. To get a de-fragmented frame, use `newframe = frame.copy()`\n",
      "\n",
      "/tmp/ipykernel_645677/1812617726.py:57: PerformanceWarning:\n",
      "\n",
      "DataFrame is highly fragmented.  This is usually the result of calling `frame.insert` many times, which has poor performance.  Consider joining all columns at once using pd.concat(axis=1) instead. To get a de-fragmented frame, use `newframe = frame.copy()`\n",
      "\n"
     ]
    }
   ],
   "source": [
    "def parse_run_name(x):\n",
    "    dico = {}\n",
    "    vec = x.split('_')\n",
    "    dico['Department'] = vec[0]\n",
    "    dico['Model'] = vec[1]\n",
    "    i = 2\n",
    "    dico['Number_of_samples'] = vec[i]\n",
    "    i += 1\n",
    "    dico['weight'] = vec[i]\n",
    "    i += 1\n",
    "    dico['Target'] = vec[i]\n",
    "    i += 1\n",
    "\n",
    "    dico['Task_type'] = vec[i]\n",
    "    i += 1\n",
    "    dico['loss'] = vec[i]\n",
    "    i += 1\n",
    "\n",
    "    i += 1\n",
    "    dico['kdays'] = vec[i]\n",
    "    i += 1\n",
    "    dico['Number_of_features'] = vec[i]\n",
    "    i += 1\n",
    "    dico['Scale'] = vec[i]\n",
    "    i += 1\n",
    "    dico['Days_in_futur'] = vec[i]\n",
    "    i += 1\n",
    "    dico['Base'] = vec[i]\n",
    "    i += 1\n",
    "    dico['Method'] = vec[i]\n",
    "    i += 1\n",
    "    if i == len(vec):\n",
    "        return dico\n",
    "    if vec[i] == 'kmeans':\n",
    "        i += 1\n",
    "        dico['kmeans_shift'] = vec[i]\n",
    "        i += 1\n",
    "        dico['kmeans_thresh'] = vec[i]\n",
    "        i += 1\n",
    "    return dico\n",
    "\n",
    "# Initialisation des colonnes avec des valeurs None\n",
    "df['Department'] = None\n",
    "df['Model'] = None\n",
    "df['Target'] = None\n",
    "df['Task_type'] = None\n",
    "df['Loss_function'] = None\n",
    "df['Number_of_samples'] = None\n",
    "df['kdays'] = None\n",
    "df['Number_of_features'] = None\n",
    "df['Scale'] = None\n",
    "df['Base'] = None\n",
    "df['Method'] = None\n",
    "df['Days_in_futur'] = None\n",
    "df['weight'] = None\n",
    "df['kmeans_thresh'] = None\n",
    "df['kmeans_shift'] = None\n",
    "\n",
    "# Boucle pour remplir les colonnes avec les valeurs de dico_parse\n",
    "for index, row in df.iterrows():\n",
    "    dico_parse = parse_run_name(row['Run'])\n",
    "    \n",
    "    # Mise à jour de chaque colonne avec les valeurs du dictionnaire dico_parse\n",
    "    df.loc[index, 'Department'] = dico_parse.get('Department')\n",
    "    df.loc[index, 'Model'] = dico_parse.get('Model')\n",
    "    df.loc[index, 'Target'] = dico_parse.get('Target')\n",
    "    df.loc[index, 'Task_type'] = dico_parse.get('Task_type')\n",
    "    df.loc[index, 'Loss_function'] = dico_parse.get('loss')\n",
    "    df.loc[index, 'Number_of_samples'] = dico_parse.get('Number_of_samples')\n",
    "    df.loc[index, 'kdays'] = dico_parse.get('kdays')\n",
    "    df.loc[index, 'Number_of_features'] = dico_parse.get('Number_of_features')\n",
    "    df.loc[index, 'Scale'] = dico_parse.get('Scale')\n",
    "    df.loc[index, 'Base'] = dico_parse.get('Base')\n",
    "    df.loc[index, 'Method'] = dico_parse.get('Method')\n",
    "    df.loc[index, 'Days_in_futur'] = dico_parse.get('Days_in_futur')\n",
    "\n",
    "    df.loc[index, 'weight'] = dico_parse.get('weight')\n",
    "    df.loc[index, 'kmeans_thresh'] = dico_parse.get('kmeans_thresh', 0)\n",
    "    df.loc[index, 'kmeans_shift'] = dico_parse.get('kmeans_shift', 0)"
   ]
  },
  {
   "cell_type": "code",
   "execution_count": 108,
   "metadata": {},
   "outputs": [],
   "source": [
    "import seaborn as sns\n",
    "\n",
    "def compare_models2(dff, depts, dept_markers, metrics, scale, col_to_analyse, dir_output, suffix):\n",
    "    df = dff[dff['Scale'] == scale]\n",
    "    task_types = df[col_to_analyse].unique()\n",
    "\n",
    "    np.random.seed(42)  # Pour rendre le code reproductible (vous pouvez le changer ou le retirer)\n",
    "    colors = sns.color_palette(\"husl\", len(task_types))  # Palette de couleurs diversifiée et aléatoire\n",
    "\n",
    "    #Associer chaque modèle à une couleur\n",
    "    task_colors = dict(zip(task_types, colors))\n",
    "    # Create a new figure for all departments\n",
    "    fig, axs = plt.subplots(len(depts), len(metrics), figsize=(15, 3 * len(depts)), sharey='row')\n",
    "\n",
    "    # Loop through each department\n",
    "    for dept_index, dept in enumerate(depts):\n",
    "        # Filtering the DataFrame for a specific department\n",
    "        df_filtered = df[df['Department'].isin([dept])].reset_index()\n",
    "\n",
    "        # Loop through each metric to create a subplot for each metric\n",
    "        for metric_index, metric in enumerate(metrics):\n",
    "            ax = axs[dept_index, metric_index] if len(depts) > 1 else axs[metric_index]\n",
    "            for method in task_types:\n",
    "                subset = df_filtered[df_filtered[col_to_analyse] == method]\n",
    "\n",
    "                if len(subset) == 0:\n",
    "                    continue\n",
    "\n",
    "                subset = subset.sort_values(col_to_analyse)\n",
    "                \n",
    "                # Add label only for the first occurrence of each method\n",
    "                label = method if dept_index == 0 else None  # Only show labels for the first department\n",
    "                ax.plot(subset[col_to_analyse].values, subset[metric].values, marker=dept_markers[dept], linestyle='-', \n",
    "                        label=label, color=task_colors[method])  # Use task type color\n",
    "                \n",
    "            # Configuration for each subplot\n",
    "            ax.set_ylim(0, 1)\n",
    "            ax.set_xlabel(col_to_analyse)\n",
    "            if dept_index == 0:  # Only set the title for the first row\n",
    "                ax.set_title(f'{metric}', fontsize=12)\n",
    "            #ax.set_xticks(subset[col_to_analyse].values, rotation=45)\n",
    "            ax.grid(True)\n",
    "\n",
    "        axs[dept_index, 0].set_ylabel('Metric Value')\n",
    "\n",
    "    # Create a custom legend for task types and departments\n",
    "    task_handles = [plt.Line2D([0], [0], color=task_colors[method], label=method) for method in task_types]\n",
    "    dept_handles = [plt.Line2D([0], [0], marker=dept_markers[dept], linestyle='None', color='black', label=dept) for dept in depts]\n",
    "\n",
    "    # Combine both legends\n",
    "    fig.legend(handles=task_handles + dept_handles, loc='center left', bbox_to_anchor=(0.85, 0.85), title=\"Legend\")\n",
    "\n",
    "    plt.tight_layout(rect=[0, 0, 0.85, 1])  # Adjust layout to make room for the legend\n",
    "    plt.savefig(dir_output / f'{col_to_analyse}_{scale}_{suffix}.png')"
   ]
  },
  {
   "cell_type": "code",
   "execution_count": 109,
   "metadata": {},
   "outputs": [],
   "source": [
    "# Define markers for each department\n",
    "dept_markers = {\n",
    "    'departement-01-ain': 'o',   # Circle\n",
    "    'departement-25-doubs': 's',   # Square\n",
    "    'departement-78-yvelines': 'D',   # Diamond\n",
    "    # Add more departments and their markers as needed\n",
    "}\n",
    "\n",
    "#metrics =  ['over_bad_prediction_nbsinister_discretization_dt', 'wildfire_over_predicted_nbsinister_discretization_dt', 'iou_nbsinister_discretization_dt']\n",
    "\n",
    "#compare_models2(df, df.Department.unique(), dept_markers, metrics, '6', 'kmeans_thresh', Path('./'), '1')\n",
    "#compare_models2(df, df.Department.unique(), dept_markers, metrics, '7', 'kmeans_thresh', Path('./'), '1')\n",
    "#compare_models2(df, df.Department.unique(), dept_markers, metrics, 'Departement', 'kmeans_thresh', Path('./'), '1')"
   ]
  },
  {
   "cell_type": "code",
   "execution_count": 110,
   "metadata": {},
   "outputs": [],
   "source": [
    "import plotly.graph_objects as go\n",
    "from plotly.subplots import make_subplots\n",
    "import pandas as pd\n",
    "import numpy as np\n",
    "import plotly.express as px  # Utilisé pour générer une palette de couleurs\n",
    "\n",
    "def compare_models_2d(df, depts, dept_markers, metrics, col_to_analyse_1, col_to_analyse_2, col_link):\n",
    "    \"\"\"\n",
    "    Compare models in 2D with the third dimension being the metric plotted as an axis.\n",
    "    Points with the same value in `col_link` are connected in increasing order with a different color.\n",
    "    Each plot is interactive and can be moved independently using Plotly.\n",
    "\n",
    "    :param df: DataFrame containing the data.\n",
    "    :param depts: List of departments to analyze.\n",
    "    :param dept_markers: Dictionary mapping departments to plot markers.\n",
    "    :param metrics: List of metrics to plot as Z-axis.\n",
    "    :param col_to_analyse_1: First column to analyze on X-axis.\n",
    "    :param col_to_analyse_2: Second column to analyze on Y-axis.\n",
    "    :param col_link: Column used to connect points in the same group.\n",
    "    \"\"\"\n",
    "    # Encode string values in col_to_analyse_1 and col_to_analyse_2 if necessary\n",
    "    def encode_column(df, col_name):\n",
    "        if df[col_name].dtype == 'object':  # Check if column is string-based\n",
    "            unique_values = df[col_name].unique()\n",
    "            value_map = {val: idx for idx, val in enumerate(unique_values)}\n",
    "            df[f\"{col_name}_encoded\"] = df[col_name].map(value_map)\n",
    "            return value_map  # Return the mapping for decoding\n",
    "        else:\n",
    "            df[f\"{col_name}_encoded\"] = df[col_name]  # Keep the original if numeric\n",
    "            return None\n",
    "\n",
    "    map_1 = encode_column(df, col_to_analyse_1)\n",
    "    map_2 = encode_column(df, col_to_analyse_2)\n",
    "\n",
    "    # Generate a unique color for each unique value in col_link\n",
    "    unique_links = df[col_link].unique()\n",
    "    colors = px.colors.qualitative.Plotly[:len(unique_links)]\n",
    "\n",
    "    # Map each unique link to a specific color\n",
    "    color_map = {link: colors[i % len(colors)] for i, link in enumerate(unique_links)}\n",
    "\n",
    "    for dept in depts:\n",
    "        df_filtered = df[df['Department'] == dept]\n",
    "\n",
    "        # Create a subplot layout with one column per metric\n",
    "        fig = make_subplots(\n",
    "            rows=1, \n",
    "            cols=len(metrics), \n",
    "            specs=[[{'type': 'scatter3d'}] * len(metrics)],\n",
    "            subplot_titles=[f\"{dept} - {metric}\" for metric in metrics]\n",
    "        )\n",
    "\n",
    "        for col_idx, metric in enumerate(metrics, start=1):\n",
    "            # Add a trace for each unique value in col_link (to connect points belonging to the same group)\n",
    "            for link_value in df_filtered[col_link].unique():\n",
    "                subset = df_filtered[df_filtered[col_link] == link_value]\n",
    "\n",
    "                # Sort the subset by the encoded columns for ordered plotting\n",
    "                subset = subset.sort_values(by=[f\"{col_to_analyse_1}_encoded\", f\"{col_to_analyse_2}_encoded\"])\n",
    "\n",
    "                fig.add_trace(\n",
    "                    go.Scatter3d(\n",
    "                        x=subset[f\"{col_to_analyse_1}_encoded\"],\n",
    "                        y=subset[f\"{col_to_analyse_2}_encoded\"],\n",
    "                        z=subset[metric],  # Plot original metric values on the Z-axis\n",
    "                        mode='lines+markers',\n",
    "                        marker=dict(\n",
    "                            size=8,\n",
    "                            color=color_map[link_value],  # Assign a unique color for each line\n",
    "                        ),\n",
    "                        line=dict(\n",
    "                            color=color_map[link_value],  # Use the same color for the line\n",
    "                            width=3  # Line width\n",
    "                        ),\n",
    "                        name=f\"{link_value}\",\n",
    "                    ),\n",
    "                    row=1, col=col_idx\n",
    "                )\n",
    "\n",
    "        # Update the layout to add titles and axis labels for each subplot\n",
    "        fig.update_layout(\n",
    "            height=900,  # Increased height\n",
    "            width=800 * len(metrics),  # Increased width dynamically based on number of metrics\n",
    "            title_text=f\"3D Comparison for {dept}\",\n",
    "            showlegend=True\n",
    "        )\n",
    "\n",
    "        # Update axis labels for each subplot\n",
    "        for i, metric in enumerate(metrics, start=1):\n",
    "            fig.update_scenes(\n",
    "                dict(\n",
    "                    xaxis=dict(\n",
    "                        title=col_to_analyse_1,\n",
    "                        tickvals=list(map_1.values()) if map_1 else None,\n",
    "                        ticktext=list(map_1.keys()) if map_1 else None\n",
    "                    ),\n",
    "                    yaxis=dict(\n",
    "                        title=col_to_analyse_2,\n",
    "                        tickvals=list(map_2.values()) if map_2 else None,\n",
    "                        ticktext=list(map_2.keys()) if map_2 else None\n",
    "                    ),\n",
    "                    zaxis_title=metric\n",
    "                ),\n",
    "                row=1, col=i\n",
    "            )\n",
    "\n",
    "        # Show the combined figure for this department\n",
    "        fig.show()\n"
   ]
  },
  {
   "cell_type": "code",
   "execution_count": 111,
   "metadata": {},
   "outputs": [],
   "source": [
    "df.loc[df[df['Scale'] == 'departement'].index, 'Scale'] = 10"
   ]
  },
  {
   "cell_type": "code",
   "execution_count": 112,
   "metadata": {},
   "outputs": [
    {
     "name": "stdout",
     "output_type": "stream",
     "text": [
      "Unnamed: 0\n",
      "Run\n",
      "nbsinister\n",
      "nb\n",
      "apr\n",
      "r2\n",
      "KS\n",
      "IV\n",
      "SS\n",
      "SS_no_zeros\n",
      "SS_gt\n",
      "SS_no_zeros_gt\n",
      "accuracy\n",
      "common_area_class\n",
      "union_area_class\n",
      "under_predicted_area_class\n",
      "over_predicted_area_class\n",
      "iou_class\n",
      "iou_wildfire_or_pred_class\n",
      "iou_wildfire_and_pred_class\n",
      "iou_under_prediction_class\n",
      "iou_over_prediction_class\n",
      "reliability_predicted_class\n",
      "reliability_detected_class\n",
      "wildfire_predicted_ratio_class\n",
      "wildfire_detected_ratio_class\n",
      "reliability_class\n",
      "wildfire_over_predicted_class\n",
      "wildfire_under_predicted_class\n",
      "over_bad_prediction_class\n",
      "under_bad_prediction_class\n",
      "bad_prediction_class\n",
      "iou_wildfire_or_pred0_class\n",
      "iou_wildfire_and_pred0_class\n",
      "iou_0_class\n",
      "iou_under_prediction_0_class\n",
      "iou_over_prediction_0_class\n",
      "reliability_predicted_0_class\n",
      "reliability_detected_0_class\n",
      "wildfire_predicted_ratio_local_0_class\n",
      "wildfire_detected_ratio_local_0_class\n",
      "over_bad_prediction_local_0_class\n",
      "under_bad_prediction_local_0_class\n",
      "bad_prediction_local_0_class\n",
      "over_bad_prediction_global_0_class\n",
      "under_bad_prediction_global_0_class\n",
      "bad_prediction_global_0_class\n",
      "iou_wildfire_or_pred1_class\n",
      "iou_wildfire_and_pred1_class\n",
      "iou_1_class\n",
      "iou_under_prediction_1_class\n",
      "iou_over_prediction_1_class\n",
      "reliability_predicted_1_class\n",
      "reliability_detected_1_class\n",
      "wildfire_predicted_ratio_local_1_class\n",
      "wildfire_detected_ratio_local_1_class\n",
      "over_bad_prediction_local_1_class\n",
      "under_bad_prediction_local_1_class\n",
      "bad_prediction_local_1_class\n",
      "over_bad_prediction_global_1_class\n",
      "under_bad_prediction_global_1_class\n",
      "bad_prediction_global_1_class\n",
      "iou_wildfire_or_pred2_class\n",
      "iou_wildfire_and_pred2_class\n",
      "iou_2_class\n",
      "iou_under_prediction_2_class\n",
      "iou_over_prediction_2_class\n",
      "reliability_predicted_2_class\n",
      "reliability_detected_2_class\n",
      "wildfire_predicted_ratio_local_2_class\n",
      "wildfire_detected_ratio_local_2_class\n",
      "over_bad_prediction_local_2_class\n",
      "under_bad_prediction_local_2_class\n",
      "bad_prediction_local_2_class\n",
      "over_bad_prediction_global_2_class\n",
      "under_bad_prediction_global_2_class\n",
      "bad_prediction_global_2_class\n",
      "iou_wildfire_or_pred3_class\n",
      "iou_wildfire_and_pred3_class\n",
      "iou_3_class\n",
      "iou_under_prediction_3_class\n",
      "iou_over_prediction_3_class\n",
      "reliability_predicted_3_class\n",
      "reliability_detected_3_class\n",
      "wildfire_predicted_ratio_local_3_class\n",
      "wildfire_detected_ratio_local_3_class\n",
      "over_bad_prediction_local_3_class\n",
      "under_bad_prediction_local_3_class\n",
      "bad_prediction_local_3_class\n",
      "over_bad_prediction_global_3_class\n",
      "under_bad_prediction_global_3_class\n",
      "bad_prediction_global_3_class\n",
      "iou_wildfire_or_pred4_class\n",
      "iou_wildfire_and_pred4_class\n",
      "iou_4_class\n",
      "iou_under_prediction_4_class\n",
      "iou_over_prediction_4_class\n",
      "reliability_predicted_4_class\n",
      "reliability_detected_4_class\n",
      "wildfire_predicted_ratio_local_4_class\n",
      "wildfire_detected_ratio_local_4_class\n",
      "over_bad_prediction_local_4_class\n",
      "under_bad_prediction_local_4_class\n",
      "bad_prediction_local_4_class\n",
      "over_bad_prediction_global_4_class\n",
      "under_bad_prediction_global_4_class\n",
      "bad_prediction_global_4_class\n",
      "iou_wildfire_or_pred_high_class\n",
      "iou_wildfire_and_pred_high_class\n",
      "iou_high_class\n",
      "iou_under_prediction_high_class\n",
      "iou_over_prediction_high_class\n",
      "reliability_predicted_high_class\n",
      "reliability_detected_high_class\n",
      "wildfire_predicted_ratio_high_class\n",
      "wildfire_detected_ratio_high_class\n",
      "over_bad_prediction_local_high_class\n",
      "under_bad_prediction_local_high_class\n",
      "bad_prediction_local_high_class\n",
      "over_bad_prediction_global_high_class\n",
      "under_bad_prediction_global_high_class\n",
      "bad_prediction_global_high_class\n",
      "iou_wildfire_or_pred_medium_class\n",
      "iou_wildfire_and_pred_medium_class\n",
      "iou_medium_class\n",
      "iou_under_prediction_medium_class\n",
      "iou_over_prediction_medium_class\n",
      "reliability_predicted_medium_class\n",
      "reliability_detected_medium_class\n",
      "wildfire_predicted_ratio_medium_class\n",
      "wildfire_detected_ratio_medium_class\n",
      "over_bad_prediction_local_medium_class\n",
      "under_bad_prediction_local_medium_class\n",
      "bad_prediction_local_medium_class\n",
      "over_bad_prediction_global_medium_class\n",
      "under_bad_prediction_global_medium_class\n",
      "bad_prediction_global_medium_class\n",
      "iou_wildfire_or_pred_low_class\n",
      "iou_wildfire_and_pred_low_class\n",
      "iou_low_class\n",
      "iou_under_prediction_low_class\n",
      "iou_over_prediction_low_class\n",
      "reliability_predicted_low_class\n",
      "reliability_detected_low_class\n",
      "wildfire_predicted_ratio_low_class\n",
      "wildfire_detected_ratio_low_class\n",
      "over_bad_prediction_local_low_class\n",
      "under_bad_prediction_local_low_class\n",
      "bad_prediction_local_low_class\n",
      "over_bad_prediction_global_low_class\n",
      "under_bad_prediction_global_low_class\n",
      "bad_prediction_global_low_class\n",
      "iou_wildfire_or_pred_graph_0_season_high_class\n",
      "iou_wildfire_and_pred_graph_0_season_high_class\n",
      "iou_graph_0_season_high_class\n",
      "iou_under_prediction_graph_0_season_high_class\n",
      "iou_over_prediction_graph_0_season_high_class\n",
      "reliability_predicted_graph_0_season_high_class\n",
      "reliability_detected_graph_0_season_high_class\n",
      "wildfire_predicted_ratio_graph_0_season_high_class\n",
      "wildfire_detected_ratio_graph_0_season_high_class\n",
      "over_bad_prediction_local_graph_0_season_high_class\n",
      "under_bad_prediction_local_graph_0_season_high_class\n",
      "bad_prediction_local_graph_0_season_high_class\n",
      "iou_wildfire_or_pred_graph_1_season_high_class\n",
      "iou_wildfire_and_pred_graph_1_season_high_class\n",
      "iou_graph_1_season_high_class\n",
      "iou_under_prediction_graph_1_season_high_class\n",
      "iou_over_prediction_graph_1_season_high_class\n",
      "reliability_predicted_graph_1_season_high_class\n",
      "reliability_detected_graph_1_season_high_class\n",
      "wildfire_predicted_ratio_graph_1_season_high_class\n",
      "wildfire_detected_ratio_graph_1_season_high_class\n",
      "over_bad_prediction_local_graph_1_season_high_class\n",
      "under_bad_prediction_local_graph_1_season_high_class\n",
      "bad_prediction_local_graph_1_season_high_class\n",
      "iou_wildfire_or_pred_graph_2_season_high_class\n",
      "iou_wildfire_and_pred_graph_2_season_high_class\n",
      "iou_graph_2_season_high_class\n",
      "iou_under_prediction_graph_2_season_high_class\n",
      "iou_over_prediction_graph_2_season_high_class\n",
      "reliability_predicted_graph_2_season_high_class\n",
      "reliability_detected_graph_2_season_high_class\n",
      "wildfire_predicted_ratio_graph_2_season_high_class\n",
      "wildfire_detected_ratio_graph_2_season_high_class\n",
      "over_bad_prediction_local_graph_2_season_high_class\n",
      "under_bad_prediction_local_graph_2_season_high_class\n",
      "bad_prediction_local_graph_2_season_high_class\n",
      "iou_wildfire_or_pred_graph_3_season_high_class\n",
      "iou_wildfire_and_pred_graph_3_season_high_class\n",
      "iou_graph_3_season_high_class\n",
      "iou_under_prediction_graph_3_season_high_class\n",
      "iou_over_prediction_graph_3_season_high_class\n",
      "reliability_predicted_graph_3_season_high_class\n",
      "reliability_detected_graph_3_season_high_class\n",
      "wildfire_predicted_ratio_graph_3_season_high_class\n",
      "wildfire_detected_ratio_graph_3_season_high_class\n",
      "over_bad_prediction_local_graph_3_season_high_class\n",
      "under_bad_prediction_local_graph_3_season_high_class\n",
      "bad_prediction_local_graph_3_season_high_class\n",
      "iou_wildfire_or_pred_graph_4_season_high_class\n",
      "iou_wildfire_and_pred_graph_4_season_high_class\n",
      "iou_graph_4_season_high_class\n",
      "iou_under_prediction_graph_4_season_high_class\n",
      "iou_over_prediction_graph_4_season_high_class\n",
      "reliability_predicted_graph_4_season_high_class\n",
      "reliability_detected_graph_4_season_high_class\n",
      "wildfire_predicted_ratio_graph_4_season_high_class\n",
      "wildfire_detected_ratio_graph_4_season_high_class\n",
      "over_bad_prediction_local_graph_4_season_high_class\n",
      "under_bad_prediction_local_graph_4_season_high_class\n",
      "bad_prediction_local_graph_4_season_high_class\n",
      "iou_wildfire_or_pred_graph_0_season_low_class\n",
      "iou_wildfire_and_pred_graph_0_season_low_class\n",
      "iou_graph_0_season_low_class\n",
      "iou_under_prediction_graph_0_season_low_class\n",
      "iou_over_prediction_graph_0_season_low_class\n",
      "reliability_predicted_graph_0_season_low_class\n",
      "reliability_detected_graph_0_season_low_class\n",
      "wildfire_predicted_ratio_graph_0_season_low_class\n",
      "wildfire_detected_ratio_graph_0_season_low_class\n",
      "over_bad_prediction_local_graph_0_season_low_class\n",
      "under_bad_prediction_local_graph_0_season_low_class\n",
      "bad_prediction_local_graph_0_season_low_class\n",
      "iou_wildfire_or_pred_graph_1_season_low_class\n",
      "iou_wildfire_and_pred_graph_1_season_low_class\n",
      "iou_graph_1_season_low_class\n",
      "iou_under_prediction_graph_1_season_low_class\n",
      "iou_over_prediction_graph_1_season_low_class\n",
      "reliability_predicted_graph_1_season_low_class\n",
      "reliability_detected_graph_1_season_low_class\n",
      "wildfire_predicted_ratio_graph_1_season_low_class\n",
      "wildfire_detected_ratio_graph_1_season_low_class\n",
      "over_bad_prediction_local_graph_1_season_low_class\n",
      "under_bad_prediction_local_graph_1_season_low_class\n",
      "bad_prediction_local_graph_1_season_low_class\n",
      "iou_wildfire_or_pred_graph_2_season_low_class\n",
      "iou_wildfire_and_pred_graph_2_season_low_class\n",
      "iou_graph_2_season_low_class\n",
      "iou_under_prediction_graph_2_season_low_class\n",
      "iou_over_prediction_graph_2_season_low_class\n",
      "reliability_predicted_graph_2_season_low_class\n",
      "reliability_detected_graph_2_season_low_class\n",
      "wildfire_predicted_ratio_graph_2_season_low_class\n",
      "wildfire_detected_ratio_graph_2_season_low_class\n",
      "over_bad_prediction_local_graph_2_season_low_class\n",
      "under_bad_prediction_local_graph_2_season_low_class\n",
      "bad_prediction_local_graph_2_season_low_class\n",
      "iou_wildfire_or_pred_graph_3_season_low_class\n",
      "iou_wildfire_and_pred_graph_3_season_low_class\n",
      "iou_graph_3_season_low_class\n",
      "iou_under_prediction_graph_3_season_low_class\n",
      "iou_over_prediction_graph_3_season_low_class\n",
      "reliability_predicted_graph_3_season_low_class\n",
      "reliability_detected_graph_3_season_low_class\n",
      "wildfire_predicted_ratio_graph_3_season_low_class\n",
      "wildfire_detected_ratio_graph_3_season_low_class\n",
      "over_bad_prediction_local_graph_3_season_low_class\n",
      "under_bad_prediction_local_graph_3_season_low_class\n",
      "bad_prediction_local_graph_3_season_low_class\n",
      "iou_wildfire_or_pred_graph_4_season_low_class\n",
      "iou_wildfire_and_pred_graph_4_season_low_class\n",
      "iou_graph_4_season_low_class\n",
      "iou_under_prediction_graph_4_season_low_class\n",
      "iou_over_prediction_graph_4_season_low_class\n",
      "reliability_predicted_graph_4_season_low_class\n",
      "reliability_detected_graph_4_season_low_class\n",
      "wildfire_predicted_ratio_graph_4_season_low_class\n",
      "wildfire_detected_ratio_graph_4_season_low_class\n",
      "over_bad_prediction_local_graph_4_season_low_class\n",
      "under_bad_prediction_local_graph_4_season_low_class\n",
      "bad_prediction_local_graph_4_season_low_class\n",
      "iou_wildfire_or_pred_graph_0_season_medium_class\n",
      "iou_wildfire_and_pred_graph_0_season_medium_class\n",
      "iou_graph_0_season_medium_class\n",
      "iou_under_prediction_graph_0_season_medium_class\n",
      "iou_over_prediction_graph_0_season_medium_class\n",
      "reliability_predicted_graph_0_season_medium_class\n",
      "reliability_detected_graph_0_season_medium_class\n",
      "wildfire_predicted_ratio_graph_0_season_medium_class\n",
      "wildfire_detected_ratio_graph_0_season_medium_class\n",
      "over_bad_prediction_local_graph_0_season_medium_class\n",
      "under_bad_prediction_local_graph_0_season_medium_class\n",
      "bad_prediction_local_graph_0_season_medium_class\n",
      "iou_wildfire_or_pred_graph_1_season_medium_class\n",
      "iou_wildfire_and_pred_graph_1_season_medium_class\n",
      "iou_graph_1_season_medium_class\n",
      "iou_under_prediction_graph_1_season_medium_class\n",
      "iou_over_prediction_graph_1_season_medium_class\n",
      "reliability_predicted_graph_1_season_medium_class\n",
      "reliability_detected_graph_1_season_medium_class\n",
      "wildfire_predicted_ratio_graph_1_season_medium_class\n",
      "wildfire_detected_ratio_graph_1_season_medium_class\n",
      "over_bad_prediction_local_graph_1_season_medium_class\n",
      "under_bad_prediction_local_graph_1_season_medium_class\n",
      "bad_prediction_local_graph_1_season_medium_class\n",
      "iou_wildfire_or_pred_graph_2_season_medium_class\n",
      "iou_wildfire_and_pred_graph_2_season_medium_class\n",
      "iou_graph_2_season_medium_class\n",
      "iou_under_prediction_graph_2_season_medium_class\n",
      "iou_over_prediction_graph_2_season_medium_class\n",
      "reliability_predicted_graph_2_season_medium_class\n",
      "reliability_detected_graph_2_season_medium_class\n",
      "wildfire_predicted_ratio_graph_2_season_medium_class\n",
      "wildfire_detected_ratio_graph_2_season_medium_class\n",
      "over_bad_prediction_local_graph_2_season_medium_class\n",
      "under_bad_prediction_local_graph_2_season_medium_class\n",
      "bad_prediction_local_graph_2_season_medium_class\n",
      "iou_wildfire_or_pred_graph_3_season_medium_class\n",
      "iou_wildfire_and_pred_graph_3_season_medium_class\n",
      "iou_graph_3_season_medium_class\n",
      "iou_under_prediction_graph_3_season_medium_class\n",
      "iou_over_prediction_graph_3_season_medium_class\n",
      "reliability_predicted_graph_3_season_medium_class\n",
      "reliability_detected_graph_3_season_medium_class\n",
      "wildfire_predicted_ratio_graph_3_season_medium_class\n",
      "wildfire_detected_ratio_graph_3_season_medium_class\n",
      "over_bad_prediction_local_graph_3_season_medium_class\n",
      "under_bad_prediction_local_graph_3_season_medium_class\n",
      "bad_prediction_local_graph_3_season_medium_class\n",
      "iou_wildfire_or_pred_graph_4_season_medium_class\n",
      "iou_wildfire_and_pred_graph_4_season_medium_class\n",
      "iou_graph_4_season_medium_class\n",
      "iou_under_prediction_graph_4_season_medium_class\n",
      "iou_over_prediction_graph_4_season_medium_class\n",
      "reliability_predicted_graph_4_season_medium_class\n",
      "reliability_detected_graph_4_season_medium_class\n",
      "wildfire_predicted_ratio_graph_4_season_medium_class\n",
      "wildfire_detected_ratio_graph_4_season_medium_class\n",
      "over_bad_prediction_local_graph_4_season_medium_class\n",
      "under_bad_prediction_local_graph_4_season_medium_class\n",
      "bad_prediction_local_graph_4_season_medium_class\n",
      "iou_wildfire_or_pred_elt_1_class\n",
      "iou_wildfire_and_pred_elt_1_class\n",
      "common_area_elt_1_class\n",
      "union_area_elt_1_class\n",
      "under_predicted_area_elt_1_class\n",
      "over_predicted_area_elt_1_class\n",
      "iou_elt_1_class\n",
      "iou_under_prediction_elt_1_class\n",
      "iou_over_prediction_elt_1_class\n",
      "reliability_predicted_elt_1_class\n",
      "reliability_detected_elt_1_class\n",
      "wildfire_predicted_ratio_elt_1_class\n",
      "wildfire_detected_ratio_elt_1_class\n",
      "reliability_elt_1_class\n",
      "wildfire_over_predicted_elt_1_class\n",
      "wildfire_under_predicted_elt_1_class\n",
      "over_bad_prediction_elt_1_class\n",
      "under_bad_prediction_elt_1_class\n",
      "bad_prediction_elt_1_class\n",
      "iou_wildfire_or_pred_elt_2_class\n",
      "iou_wildfire_and_pred_elt_2_class\n",
      "common_area_elt_2_class\n",
      "union_area_elt_2_class\n",
      "under_predicted_area_elt_2_class\n",
      "over_predicted_area_elt_2_class\n",
      "iou_elt_2_class\n",
      "iou_under_prediction_elt_2_class\n",
      "iou_over_prediction_elt_2_class\n",
      "reliability_predicted_elt_2_class\n",
      "reliability_detected_elt_2_class\n",
      "wildfire_predicted_ratio_elt_2_class\n",
      "wildfire_detected_ratio_elt_2_class\n",
      "reliability_elt_2_class\n",
      "wildfire_over_predicted_elt_2_class\n",
      "wildfire_under_predicted_elt_2_class\n",
      "over_bad_prediction_elt_2_class\n",
      "under_bad_prediction_elt_2_class\n",
      "bad_prediction_elt_2_class\n",
      "iou_wildfire_or_pred_elt_3_class\n",
      "iou_wildfire_and_pred_elt_3_class\n",
      "common_area_elt_3_class\n",
      "union_area_elt_3_class\n",
      "under_predicted_area_elt_3_class\n",
      "over_predicted_area_elt_3_class\n",
      "iou_elt_3_class\n",
      "iou_under_prediction_elt_3_class\n",
      "iou_over_prediction_elt_3_class\n",
      "reliability_predicted_elt_3_class\n",
      "reliability_detected_elt_3_class\n",
      "wildfire_predicted_ratio_elt_3_class\n",
      "wildfire_detected_ratio_elt_3_class\n",
      "reliability_elt_3_class\n",
      "wildfire_over_predicted_elt_3_class\n",
      "wildfire_under_predicted_elt_3_class\n",
      "over_bad_prediction_elt_3_class\n",
      "under_bad_prediction_elt_3_class\n",
      "bad_prediction_elt_3_class\n",
      "iou_wildfire_or_pred_elt_4_class\n",
      "iou_wildfire_and_pred_elt_4_class\n",
      "common_area_elt_4_class\n",
      "union_area_elt_4_class\n",
      "under_predicted_area_elt_4_class\n",
      "over_predicted_area_elt_4_class\n",
      "iou_elt_4_class\n",
      "iou_under_prediction_elt_4_class\n",
      "iou_over_prediction_elt_4_class\n",
      "reliability_predicted_elt_4_class\n",
      "reliability_detected_elt_4_class\n",
      "wildfire_predicted_ratio_elt_4_class\n",
      "wildfire_detected_ratio_elt_4_class\n",
      "reliability_elt_4_class\n",
      "wildfire_over_predicted_elt_4_class\n",
      "wildfire_under_predicted_elt_4_class\n",
      "over_bad_prediction_elt_4_class\n",
      "under_bad_prediction_elt_4_class\n",
      "bad_prediction_elt_4_class\n",
      "0_true\n",
      "1_true\n",
      "2_true\n",
      "3_true\n",
      "4_true\n",
      "iou_wildfire_or_pred5_class\n",
      "iou_wildfire_and_pred5_class\n",
      "iou_5_class\n",
      "iou_under_prediction_5_class\n",
      "iou_over_prediction_5_class\n",
      "reliability_predicted_5_class\n",
      "reliability_detected_5_class\n",
      "wildfire_predicted_ratio_local_5_class\n",
      "wildfire_detected_ratio_local_5_class\n",
      "over_bad_prediction_local_5_class\n",
      "under_bad_prediction_local_5_class\n",
      "bad_prediction_local_5_class\n",
      "over_bad_prediction_global_5_class\n",
      "under_bad_prediction_global_5_class\n",
      "bad_prediction_global_5_class\n",
      "iou_wildfire_or_pred6_class\n",
      "iou_wildfire_and_pred6_class\n",
      "iou_6_class\n",
      "iou_under_prediction_6_class\n",
      "iou_over_prediction_6_class\n",
      "reliability_predicted_6_class\n",
      "reliability_detected_6_class\n",
      "wildfire_predicted_ratio_local_6_class\n",
      "wildfire_detected_ratio_local_6_class\n",
      "over_bad_prediction_local_6_class\n",
      "under_bad_prediction_local_6_class\n",
      "bad_prediction_local_6_class\n",
      "over_bad_prediction_global_6_class\n",
      "under_bad_prediction_global_6_class\n",
      "bad_prediction_global_6_class\n",
      "iou_wildfire_or_pred_graph_5_season_high_class\n",
      "iou_wildfire_and_pred_graph_5_season_high_class\n",
      "iou_graph_5_season_high_class\n",
      "iou_under_prediction_graph_5_season_high_class\n",
      "iou_over_prediction_graph_5_season_high_class\n",
      "reliability_predicted_graph_5_season_high_class\n",
      "reliability_detected_graph_5_season_high_class\n",
      "wildfire_predicted_ratio_graph_5_season_high_class\n",
      "wildfire_detected_ratio_graph_5_season_high_class\n",
      "over_bad_prediction_local_graph_5_season_high_class\n",
      "under_bad_prediction_local_graph_5_season_high_class\n",
      "bad_prediction_local_graph_5_season_high_class\n",
      "iou_wildfire_or_pred_graph_6_season_high_class\n",
      "iou_wildfire_and_pred_graph_6_season_high_class\n",
      "iou_graph_6_season_high_class\n",
      "iou_under_prediction_graph_6_season_high_class\n",
      "iou_over_prediction_graph_6_season_high_class\n",
      "reliability_predicted_graph_6_season_high_class\n",
      "reliability_detected_graph_6_season_high_class\n",
      "wildfire_predicted_ratio_graph_6_season_high_class\n",
      "wildfire_detected_ratio_graph_6_season_high_class\n",
      "over_bad_prediction_local_graph_6_season_high_class\n",
      "under_bad_prediction_local_graph_6_season_high_class\n",
      "bad_prediction_local_graph_6_season_high_class\n",
      "iou_wildfire_or_pred_graph_5_season_medium_class\n",
      "iou_wildfire_and_pred_graph_5_season_medium_class\n",
      "iou_graph_5_season_medium_class\n",
      "iou_under_prediction_graph_5_season_medium_class\n",
      "iou_over_prediction_graph_5_season_medium_class\n",
      "reliability_predicted_graph_5_season_medium_class\n",
      "reliability_detected_graph_5_season_medium_class\n",
      "wildfire_predicted_ratio_graph_5_season_medium_class\n",
      "wildfire_detected_ratio_graph_5_season_medium_class\n",
      "over_bad_prediction_local_graph_5_season_medium_class\n",
      "under_bad_prediction_local_graph_5_season_medium_class\n",
      "bad_prediction_local_graph_5_season_medium_class\n",
      "iou_wildfire_or_pred_graph_6_season_medium_class\n",
      "iou_wildfire_and_pred_graph_6_season_medium_class\n",
      "iou_graph_6_season_medium_class\n",
      "iou_under_prediction_graph_6_season_medium_class\n",
      "iou_over_prediction_graph_6_season_medium_class\n",
      "reliability_predicted_graph_6_season_medium_class\n",
      "reliability_detected_graph_6_season_medium_class\n",
      "wildfire_predicted_ratio_graph_6_season_medium_class\n",
      "wildfire_detected_ratio_graph_6_season_medium_class\n",
      "over_bad_prediction_local_graph_6_season_medium_class\n",
      "under_bad_prediction_local_graph_6_season_medium_class\n",
      "bad_prediction_local_graph_6_season_medium_class\n",
      "source\n",
      "iou_wildfire_or_pred7_class\n",
      "iou_wildfire_and_pred7_class\n",
      "iou_7_class\n",
      "iou_under_prediction_7_class\n",
      "iou_over_prediction_7_class\n",
      "reliability_predicted_7_class\n",
      "reliability_detected_7_class\n",
      "wildfire_predicted_ratio_local_7_class\n",
      "wildfire_detected_ratio_local_7_class\n",
      "over_bad_prediction_local_7_class\n",
      "under_bad_prediction_local_7_class\n",
      "bad_prediction_local_7_class\n",
      "over_bad_prediction_global_7_class\n",
      "under_bad_prediction_global_7_class\n",
      "bad_prediction_global_7_class\n",
      "iou_wildfire_or_pred_graph_7_season_high_class\n",
      "iou_wildfire_and_pred_graph_7_season_high_class\n",
      "iou_graph_7_season_high_class\n",
      "iou_under_prediction_graph_7_season_high_class\n",
      "iou_over_prediction_graph_7_season_high_class\n",
      "reliability_predicted_graph_7_season_high_class\n",
      "reliability_detected_graph_7_season_high_class\n",
      "wildfire_predicted_ratio_graph_7_season_high_class\n",
      "wildfire_detected_ratio_graph_7_season_high_class\n",
      "over_bad_prediction_local_graph_7_season_high_class\n",
      "under_bad_prediction_local_graph_7_season_high_class\n",
      "bad_prediction_local_graph_7_season_high_class\n",
      "iou_wildfire_or_pred_graph_5_season_low_class\n",
      "iou_wildfire_and_pred_graph_5_season_low_class\n",
      "iou_graph_5_season_low_class\n",
      "iou_under_prediction_graph_5_season_low_class\n",
      "iou_over_prediction_graph_5_season_low_class\n",
      "reliability_predicted_graph_5_season_low_class\n",
      "reliability_detected_graph_5_season_low_class\n",
      "wildfire_predicted_ratio_graph_5_season_low_class\n",
      "wildfire_detected_ratio_graph_5_season_low_class\n",
      "over_bad_prediction_local_graph_5_season_low_class\n",
      "under_bad_prediction_local_graph_5_season_low_class\n",
      "bad_prediction_local_graph_5_season_low_class\n",
      "iou_wildfire_or_pred_graph_6_season_low_class\n",
      "iou_wildfire_and_pred_graph_6_season_low_class\n",
      "iou_graph_6_season_low_class\n",
      "iou_under_prediction_graph_6_season_low_class\n",
      "iou_over_prediction_graph_6_season_low_class\n",
      "reliability_predicted_graph_6_season_low_class\n",
      "reliability_detected_graph_6_season_low_class\n",
      "wildfire_predicted_ratio_graph_6_season_low_class\n",
      "wildfire_detected_ratio_graph_6_season_low_class\n",
      "over_bad_prediction_local_graph_6_season_low_class\n",
      "under_bad_prediction_local_graph_6_season_low_class\n",
      "bad_prediction_local_graph_6_season_low_class\n",
      "iou_wildfire_or_pred_graph_7_season_low_class\n",
      "iou_wildfire_and_pred_graph_7_season_low_class\n",
      "iou_graph_7_season_low_class\n",
      "iou_under_prediction_graph_7_season_low_class\n",
      "iou_over_prediction_graph_7_season_low_class\n",
      "reliability_predicted_graph_7_season_low_class\n",
      "reliability_detected_graph_7_season_low_class\n",
      "wildfire_predicted_ratio_graph_7_season_low_class\n",
      "wildfire_detected_ratio_graph_7_season_low_class\n",
      "over_bad_prediction_local_graph_7_season_low_class\n",
      "under_bad_prediction_local_graph_7_season_low_class\n",
      "bad_prediction_local_graph_7_season_low_class\n",
      "iou_wildfire_or_pred_graph_7_season_medium_class\n",
      "iou_wildfire_and_pred_graph_7_season_medium_class\n",
      "iou_graph_7_season_medium_class\n",
      "iou_under_prediction_graph_7_season_medium_class\n",
      "iou_over_prediction_graph_7_season_medium_class\n",
      "reliability_predicted_graph_7_season_medium_class\n",
      "reliability_detected_graph_7_season_medium_class\n",
      "wildfire_predicted_ratio_graph_7_season_medium_class\n",
      "wildfire_detected_ratio_graph_7_season_medium_class\n",
      "over_bad_prediction_local_graph_7_season_medium_class\n",
      "under_bad_prediction_local_graph_7_season_medium_class\n",
      "bad_prediction_local_graph_7_season_medium_class\n",
      "iou_wildfire_or_pred8_class\n",
      "iou_wildfire_and_pred8_class\n",
      "iou_8_class\n",
      "iou_under_prediction_8_class\n",
      "iou_over_prediction_8_class\n",
      "reliability_predicted_8_class\n",
      "reliability_detected_8_class\n",
      "wildfire_predicted_ratio_local_8_class\n",
      "wildfire_detected_ratio_local_8_class\n",
      "over_bad_prediction_local_8_class\n",
      "under_bad_prediction_local_8_class\n",
      "bad_prediction_local_8_class\n",
      "over_bad_prediction_global_8_class\n",
      "under_bad_prediction_global_8_class\n",
      "bad_prediction_global_8_class\n",
      "iou_wildfire_or_pred9_class\n",
      "iou_wildfire_and_pred9_class\n",
      "iou_9_class\n",
      "iou_under_prediction_9_class\n",
      "iou_over_prediction_9_class\n",
      "reliability_predicted_9_class\n",
      "reliability_detected_9_class\n",
      "wildfire_predicted_ratio_local_9_class\n",
      "wildfire_detected_ratio_local_9_class\n",
      "over_bad_prediction_local_9_class\n",
      "under_bad_prediction_local_9_class\n",
      "bad_prediction_local_9_class\n",
      "over_bad_prediction_global_9_class\n",
      "under_bad_prediction_global_9_class\n",
      "bad_prediction_global_9_class\n",
      "iou_wildfire_or_pred10_class\n",
      "iou_wildfire_and_pred10_class\n",
      "iou_10_class\n",
      "iou_under_prediction_10_class\n",
      "iou_over_prediction_10_class\n",
      "reliability_predicted_10_class\n",
      "reliability_detected_10_class\n",
      "wildfire_predicted_ratio_local_10_class\n",
      "wildfire_detected_ratio_local_10_class\n",
      "over_bad_prediction_local_10_class\n",
      "under_bad_prediction_local_10_class\n",
      "bad_prediction_local_10_class\n",
      "over_bad_prediction_global_10_class\n",
      "under_bad_prediction_global_10_class\n",
      "bad_prediction_global_10_class\n",
      "iou_wildfire_or_pred_graph_8_season_high_class\n",
      "iou_wildfire_and_pred_graph_8_season_high_class\n",
      "iou_graph_8_season_high_class\n",
      "iou_under_prediction_graph_8_season_high_class\n",
      "iou_over_prediction_graph_8_season_high_class\n",
      "reliability_predicted_graph_8_season_high_class\n",
      "reliability_detected_graph_8_season_high_class\n",
      "wildfire_predicted_ratio_graph_8_season_high_class\n",
      "wildfire_detected_ratio_graph_8_season_high_class\n",
      "over_bad_prediction_local_graph_8_season_high_class\n",
      "under_bad_prediction_local_graph_8_season_high_class\n",
      "bad_prediction_local_graph_8_season_high_class\n",
      "iou_wildfire_or_pred_graph_9_season_high_class\n",
      "iou_wildfire_and_pred_graph_9_season_high_class\n",
      "iou_graph_9_season_high_class\n",
      "iou_under_prediction_graph_9_season_high_class\n",
      "iou_over_prediction_graph_9_season_high_class\n",
      "reliability_predicted_graph_9_season_high_class\n",
      "reliability_detected_graph_9_season_high_class\n",
      "wildfire_predicted_ratio_graph_9_season_high_class\n",
      "wildfire_detected_ratio_graph_9_season_high_class\n",
      "over_bad_prediction_local_graph_9_season_high_class\n",
      "under_bad_prediction_local_graph_9_season_high_class\n",
      "bad_prediction_local_graph_9_season_high_class\n",
      "iou_wildfire_or_pred_graph_10_season_high_class\n",
      "iou_wildfire_and_pred_graph_10_season_high_class\n",
      "iou_graph_10_season_high_class\n",
      "iou_under_prediction_graph_10_season_high_class\n",
      "iou_over_prediction_graph_10_season_high_class\n",
      "reliability_predicted_graph_10_season_high_class\n",
      "reliability_detected_graph_10_season_high_class\n",
      "wildfire_predicted_ratio_graph_10_season_high_class\n",
      "wildfire_detected_ratio_graph_10_season_high_class\n",
      "over_bad_prediction_local_graph_10_season_high_class\n",
      "under_bad_prediction_local_graph_10_season_high_class\n",
      "bad_prediction_local_graph_10_season_high_class\n",
      "iou_wildfire_or_pred_graph_8_season_low_class\n",
      "iou_wildfire_and_pred_graph_8_season_low_class\n",
      "iou_graph_8_season_low_class\n",
      "iou_under_prediction_graph_8_season_low_class\n",
      "iou_over_prediction_graph_8_season_low_class\n",
      "reliability_predicted_graph_8_season_low_class\n",
      "reliability_detected_graph_8_season_low_class\n",
      "wildfire_predicted_ratio_graph_8_season_low_class\n",
      "wildfire_detected_ratio_graph_8_season_low_class\n",
      "over_bad_prediction_local_graph_8_season_low_class\n",
      "under_bad_prediction_local_graph_8_season_low_class\n",
      "bad_prediction_local_graph_8_season_low_class\n",
      "iou_wildfire_or_pred_graph_9_season_low_class\n",
      "iou_wildfire_and_pred_graph_9_season_low_class\n",
      "iou_graph_9_season_low_class\n",
      "iou_under_prediction_graph_9_season_low_class\n",
      "iou_over_prediction_graph_9_season_low_class\n",
      "reliability_predicted_graph_9_season_low_class\n",
      "reliability_detected_graph_9_season_low_class\n",
      "wildfire_predicted_ratio_graph_9_season_low_class\n",
      "wildfire_detected_ratio_graph_9_season_low_class\n",
      "over_bad_prediction_local_graph_9_season_low_class\n",
      "under_bad_prediction_local_graph_9_season_low_class\n",
      "bad_prediction_local_graph_9_season_low_class\n",
      "iou_wildfire_or_pred_graph_10_season_low_class\n",
      "iou_wildfire_and_pred_graph_10_season_low_class\n",
      "iou_graph_10_season_low_class\n",
      "iou_under_prediction_graph_10_season_low_class\n",
      "iou_over_prediction_graph_10_season_low_class\n",
      "reliability_predicted_graph_10_season_low_class\n",
      "reliability_detected_graph_10_season_low_class\n",
      "wildfire_predicted_ratio_graph_10_season_low_class\n",
      "wildfire_detected_ratio_graph_10_season_low_class\n",
      "over_bad_prediction_local_graph_10_season_low_class\n",
      "under_bad_prediction_local_graph_10_season_low_class\n",
      "bad_prediction_local_graph_10_season_low_class\n",
      "iou_wildfire_or_pred_graph_8_season_medium_class\n",
      "iou_wildfire_and_pred_graph_8_season_medium_class\n",
      "iou_graph_8_season_medium_class\n",
      "iou_under_prediction_graph_8_season_medium_class\n",
      "iou_over_prediction_graph_8_season_medium_class\n",
      "reliability_predicted_graph_8_season_medium_class\n",
      "reliability_detected_graph_8_season_medium_class\n",
      "wildfire_predicted_ratio_graph_8_season_medium_class\n",
      "wildfire_detected_ratio_graph_8_season_medium_class\n",
      "over_bad_prediction_local_graph_8_season_medium_class\n",
      "under_bad_prediction_local_graph_8_season_medium_class\n",
      "bad_prediction_local_graph_8_season_medium_class\n",
      "iou_wildfire_or_pred_graph_9_season_medium_class\n",
      "iou_wildfire_and_pred_graph_9_season_medium_class\n",
      "iou_graph_9_season_medium_class\n",
      "iou_under_prediction_graph_9_season_medium_class\n",
      "iou_over_prediction_graph_9_season_medium_class\n",
      "reliability_predicted_graph_9_season_medium_class\n",
      "reliability_detected_graph_9_season_medium_class\n",
      "wildfire_predicted_ratio_graph_9_season_medium_class\n",
      "wildfire_detected_ratio_graph_9_season_medium_class\n",
      "over_bad_prediction_local_graph_9_season_medium_class\n",
      "under_bad_prediction_local_graph_9_season_medium_class\n",
      "bad_prediction_local_graph_9_season_medium_class\n",
      "iou_wildfire_or_pred_graph_10_season_medium_class\n",
      "iou_wildfire_and_pred_graph_10_season_medium_class\n",
      "iou_graph_10_season_medium_class\n",
      "iou_under_prediction_graph_10_season_medium_class\n",
      "iou_over_prediction_graph_10_season_medium_class\n",
      "reliability_predicted_graph_10_season_medium_class\n",
      "reliability_detected_graph_10_season_medium_class\n",
      "wildfire_predicted_ratio_graph_10_season_medium_class\n",
      "wildfire_detected_ratio_graph_10_season_medium_class\n",
      "over_bad_prediction_local_graph_10_season_medium_class\n",
      "under_bad_prediction_local_graph_10_season_medium_class\n",
      "bad_prediction_local_graph_10_season_medium_class\n",
      "Department\n",
      "Model\n",
      "Target\n",
      "Task_type\n",
      "Loss_function\n",
      "Number_of_samples\n",
      "kdays\n",
      "Number_of_features\n",
      "Scale\n",
      "Base\n",
      "Method\n",
      "Days_in_futur\n",
      "weight\n",
      "kmeans_thresh\n",
      "kmeans_shift\n"
     ]
    }
   ],
   "source": [
    "for col in df.columns:\n",
    "    print(col)"
   ]
  },
  {
   "cell_type": "code",
   "execution_count": 113,
   "metadata": {},
   "outputs": [
    {
     "data": {
      "text/plain": [
       "0     0\n",
       "1     0\n",
       "2     0\n",
       "3     0\n",
       "4     0\n",
       "     ..\n",
       "85    0\n",
       "86    0\n",
       "87    0\n",
       "88    0\n",
       "89    0\n",
       "Name: kdays, Length: 90, dtype: object"
      ]
     },
     "execution_count": 113,
     "metadata": {},
     "output_type": "execute_result"
    }
   ],
   "source": [
    "df['kdays']"
   ]
  },
  {
   "cell_type": "code",
   "execution_count": 114,
   "metadata": {},
   "outputs": [],
   "source": [
    "#compare_models_2d(df, df.Department.unique(), dept_markers, ['apr', 'r2'],  'Target', 'Scale', 'Scale')"
   ]
  },
  {
   "cell_type": "code",
   "execution_count": 115,
   "metadata": {},
   "outputs": [],
   "source": [
    "df['Scale'] = df['Scale'].astype(int)"
   ]
  },
  {
   "cell_type": "code",
   "execution_count": 116,
   "metadata": {},
   "outputs": [
    {
     "data": {
      "text/plain": [
       "0          departement-01-ain\n",
       "1          departement-01-ain\n",
       "2          departement-01-ain\n",
       "3          departement-01-ain\n",
       "4          departement-01-ain\n",
       "               ...           \n",
       "85    departement-78-yvelines\n",
       "86    departement-78-yvelines\n",
       "87    departement-78-yvelines\n",
       "88    departement-78-yvelines\n",
       "89    departement-78-yvelines\n",
       "Name: Department, Length: 90, dtype: object"
      ]
     },
     "execution_count": 116,
     "metadata": {},
     "output_type": "execute_result"
    }
   ],
   "source": [
    "df['Department']"
   ]
  },
  {
   "cell_type": "code",
   "execution_count": 117,
   "metadata": {},
   "outputs": [
    {
     "data": {
      "text/plain": [
       "{'departement-01-ain': {'mean_metrique_by_target': {'nbsinister-max-1-kmeans-5-Class-Dept': 0.39,\n",
       "   'nbsinister-max-3-kmeans-5-Class-Dept': -0.05,\n",
       "   'nbsinister-max-0-kmeans-5-Class-Dept': 0.96,\n",
       "   'risk-kmeans-5-Class-Dept': 0.34,\n",
       "   'risk-nbsinister-Robust-kmeans-5-Class-Dept': 0.3},\n",
       "  'max_metrique_by_target': {}},\n",
       " 'departement-25-doubs': {'mean_metrique_by_target': {'nbsinister-max-1-kmeans-5-Class-Dept': 0.52,\n",
       "   'nbsinister-max-3-kmeans-5-Class-Dept': 0.11,\n",
       "   'nbsinister-max-0-kmeans-5-Class-Dept': 0.99,\n",
       "   'risk-kmeans-5-Class-Dept': 0.71,\n",
       "   'risk-nbsinister-Robust-kmeans-5-Class-Dept': 0.77},\n",
       "  'max_metrique_by_target': {}},\n",
       " 'departement-78-yvelines': {'mean_metrique_by_target': {'nbsinister-max-1-kmeans-5-Class-Dept': 0.34,\n",
       "   'nbsinister-max-3-kmeans-5-Class-Dept': -0.1,\n",
       "   'nbsinister-max-0-kmeans-5-Class-Dept': 0.97,\n",
       "   'risk-kmeans-5-Class-Dept': 0.51,\n",
       "   'risk-nbsinister-Robust-kmeans-5-Class-Dept': 0.75},\n",
       "  'max_metrique_by_target': {}}}"
      ]
     },
     "execution_count": 117,
     "metadata": {},
     "output_type": "execute_result"
    }
   ],
   "source": [
    "results = {}\n",
    "\n",
    "for department in df['Department'].unique():\n",
    "    results[department] = {\n",
    "        'mean_metrique_by_target': {},\n",
    "        'max_metrique_by_target': {}\n",
    "    }\n",
    "    for target in df[df['Department'] == department].Target.unique():\n",
    "        mean_value = round(df[(df['Department'] == department) & (df['Target'] == target)]['SS_gt'].mean(), 2)\n",
    "        #max_value = round(df[(df['Department'] == department) & (df['Target'] == target)]['iou_wildfire_graph_0_season_high_class'].max(), 2)\n",
    "\n",
    "        results[department]['mean_metrique_by_target'][target] = mean_value\n",
    "        #results[department]['max_metrique_by_target'][target] = max_value\n",
    "\n",
    "results\n"
   ]
  },
  {
   "cell_type": "code",
   "execution_count": 118,
   "metadata": {},
   "outputs": [
    {
     "name": "stderr",
     "output_type": "stream",
     "text": [
      "/tmp/ipykernel_645677/1494155511.py:26: PerformanceWarning:\n",
      "\n",
      "DataFrame is highly fragmented.  This is usually the result of calling `frame.insert` many times, which has poor performance.  Consider joining all columns at once using pd.concat(axis=1) instead. To get a de-fragmented frame, use `newframe = frame.copy()`\n",
      "\n",
      "/tmp/ipykernel_645677/1494155511.py:29: PerformanceWarning:\n",
      "\n",
      "DataFrame is highly fragmented.  This is usually the result of calling `frame.insert` many times, which has poor performance.  Consider joining all columns at once using pd.concat(axis=1) instead. To get a de-fragmented frame, use `newframe = frame.copy()`\n",
      "\n"
     ]
    },
    {
     "data": {
      "application/vnd.plotly.v1+json": {
       "config": {
        "plotlyServerURL": "https://plot.ly"
       },
       "data": [
        {
         "line": {
          "color": "#636EFA",
          "width": 3
         },
         "marker": {
          "color": "#636EFA",
          "size": 8
         },
         "mode": "lines+markers",
         "name": "fwi-mean-[5, 10.5, 21.5, 34.5]-5",
         "scene": "scene",
         "type": "scatter3d",
         "x": [
          0,
          0,
          0,
          0,
          0
         ],
         "y": [
          4,
          5,
          6,
          7,
          10
         ],
         "z": [
          0.69,
          0.59,
          0.41,
          0.36,
          -0.11
         ]
        },
        {
         "line": {
          "color": "#EF553B",
          "width": 3
         },
         "marker": {
          "color": "#EF553B",
          "size": 8
         },
         "mode": "lines+markers",
         "name": "nbsinister-max-3-kmeans-5-Class-Dept-None-5",
         "scene": "scene",
         "type": "scatter3d",
         "x": [
          1,
          1,
          1,
          1,
          1
         ],
         "y": [
          4,
          5,
          6,
          7,
          10
         ],
         "z": [
          0.31,
          0.13,
          -0.11,
          -0.16,
          -0.41
         ]
        },
        {
         "line": {
          "color": "#00CC96",
          "width": 3
         },
         "marker": {
          "color": "#00CC96",
          "size": 8
         },
         "mode": "lines+markers",
         "name": "nbsinister-max-1-kmeans-5-Class-Dept-None-5",
         "scene": "scene",
         "type": "scatter3d",
         "x": [
          2,
          2,
          2,
          2,
          2
         ],
         "y": [
          4,
          5,
          6,
          7,
          10
         ],
         "z": [
          0.69,
          0.59,
          0.41,
          0.36,
          -0.11
         ]
        },
        {
         "line": {
          "color": "#AB63FA",
          "width": 3
         },
         "marker": {
          "color": "#AB63FA",
          "size": 8
         },
         "mode": "lines+markers",
         "name": "nbsinister-max-0-kmeans-5-Class-Dept-None-5",
         "scene": "scene",
         "type": "scatter3d",
         "x": [
          3,
          3,
          3,
          3,
          3
         ],
         "y": [
          4,
          5,
          6,
          7,
          10
         ],
         "z": [
          1,
          1,
          1,
          1,
          0.8
         ]
        },
        {
         "line": {
          "color": "#FFA15A",
          "width": 3
         },
         "marker": {
          "color": "#FFA15A",
          "size": 8
         },
         "mode": "lines+markers",
         "name": "risk-kmeans-5-Class-Dept-None-5",
         "scene": "scene",
         "type": "scatter3d",
         "x": [
          4,
          4,
          4,
          4,
          4
         ],
         "y": [
          4,
          5,
          6,
          7,
          10
         ],
         "z": [
          0,
          0.52,
          0.54,
          0.5,
          0.12
         ]
        },
        {
         "line": {
          "color": "#19D3F3",
          "width": 3
         },
         "marker": {
          "color": "#19D3F3",
          "size": 8
         },
         "mode": "lines+markers",
         "name": "risk-nbsinister-Robust-kmeans-5-Class-Dept-None-5",
         "scene": "scene",
         "type": "scatter3d",
         "x": [
          5,
          5,
          5,
          5,
          5
         ],
         "y": [
          4,
          5,
          6,
          7,
          10
         ],
         "z": [
          0.02,
          0.06,
          0.13,
          0.84,
          0.43
         ]
        }
       ],
       "layout": {
        "annotations": [
         {
          "font": {
           "size": 16
          },
          "showarrow": false,
          "text": "departement-01-ain - SS_gt",
          "x": 0.5,
          "xanchor": "center",
          "xref": "paper",
          "y": 1,
          "yanchor": "bottom",
          "yref": "paper"
         }
        ],
        "height": 900,
        "scene": {
         "domain": {
          "x": [
           0,
           1
          ],
          "y": [
           0,
           1
          ]
         },
         "xaxis": {
          "ticktext": [
           "fwi-mean-[5, 10.5, 21.5, 34.5]-5",
           "nbsinister-max-3-kmeans-5-Class-Dept-None-5",
           "nbsinister-max-1-kmeans-5-Class-Dept-None-5",
           "nbsinister-max-0-kmeans-5-Class-Dept-None-5",
           "risk-kmeans-5-Class-Dept-None-5",
           "risk-nbsinister-Robust-kmeans-5-Class-Dept-None-5"
          ],
          "tickvals": [
           0,
           1,
           2,
           3,
           4,
           5
          ],
          "title": {
           "text": "Model"
          }
         },
         "yaxis": {
          "title": {
           "text": "Scale"
          }
         },
         "zaxis": {
          "title": {
           "text": "SS_gt"
          }
         }
        },
        "showlegend": true,
        "template": {
         "data": {
          "bar": [
           {
            "error_x": {
             "color": "#2a3f5f"
            },
            "error_y": {
             "color": "#2a3f5f"
            },
            "marker": {
             "line": {
              "color": "#E5ECF6",
              "width": 0.5
             },
             "pattern": {
              "fillmode": "overlay",
              "size": 10,
              "solidity": 0.2
             }
            },
            "type": "bar"
           }
          ],
          "barpolar": [
           {
            "marker": {
             "line": {
              "color": "#E5ECF6",
              "width": 0.5
             },
             "pattern": {
              "fillmode": "overlay",
              "size": 10,
              "solidity": 0.2
             }
            },
            "type": "barpolar"
           }
          ],
          "carpet": [
           {
            "aaxis": {
             "endlinecolor": "#2a3f5f",
             "gridcolor": "white",
             "linecolor": "white",
             "minorgridcolor": "white",
             "startlinecolor": "#2a3f5f"
            },
            "baxis": {
             "endlinecolor": "#2a3f5f",
             "gridcolor": "white",
             "linecolor": "white",
             "minorgridcolor": "white",
             "startlinecolor": "#2a3f5f"
            },
            "type": "carpet"
           }
          ],
          "choropleth": [
           {
            "colorbar": {
             "outlinewidth": 0,
             "ticks": ""
            },
            "type": "choropleth"
           }
          ],
          "contour": [
           {
            "colorbar": {
             "outlinewidth": 0,
             "ticks": ""
            },
            "colorscale": [
             [
              0,
              "#0d0887"
             ],
             [
              0.1111111111111111,
              "#46039f"
             ],
             [
              0.2222222222222222,
              "#7201a8"
             ],
             [
              0.3333333333333333,
              "#9c179e"
             ],
             [
              0.4444444444444444,
              "#bd3786"
             ],
             [
              0.5555555555555556,
              "#d8576b"
             ],
             [
              0.6666666666666666,
              "#ed7953"
             ],
             [
              0.7777777777777778,
              "#fb9f3a"
             ],
             [
              0.8888888888888888,
              "#fdca26"
             ],
             [
              1,
              "#f0f921"
             ]
            ],
            "type": "contour"
           }
          ],
          "contourcarpet": [
           {
            "colorbar": {
             "outlinewidth": 0,
             "ticks": ""
            },
            "type": "contourcarpet"
           }
          ],
          "heatmap": [
           {
            "colorbar": {
             "outlinewidth": 0,
             "ticks": ""
            },
            "colorscale": [
             [
              0,
              "#0d0887"
             ],
             [
              0.1111111111111111,
              "#46039f"
             ],
             [
              0.2222222222222222,
              "#7201a8"
             ],
             [
              0.3333333333333333,
              "#9c179e"
             ],
             [
              0.4444444444444444,
              "#bd3786"
             ],
             [
              0.5555555555555556,
              "#d8576b"
             ],
             [
              0.6666666666666666,
              "#ed7953"
             ],
             [
              0.7777777777777778,
              "#fb9f3a"
             ],
             [
              0.8888888888888888,
              "#fdca26"
             ],
             [
              1,
              "#f0f921"
             ]
            ],
            "type": "heatmap"
           }
          ],
          "heatmapgl": [
           {
            "colorbar": {
             "outlinewidth": 0,
             "ticks": ""
            },
            "colorscale": [
             [
              0,
              "#0d0887"
             ],
             [
              0.1111111111111111,
              "#46039f"
             ],
             [
              0.2222222222222222,
              "#7201a8"
             ],
             [
              0.3333333333333333,
              "#9c179e"
             ],
             [
              0.4444444444444444,
              "#bd3786"
             ],
             [
              0.5555555555555556,
              "#d8576b"
             ],
             [
              0.6666666666666666,
              "#ed7953"
             ],
             [
              0.7777777777777778,
              "#fb9f3a"
             ],
             [
              0.8888888888888888,
              "#fdca26"
             ],
             [
              1,
              "#f0f921"
             ]
            ],
            "type": "heatmapgl"
           }
          ],
          "histogram": [
           {
            "marker": {
             "pattern": {
              "fillmode": "overlay",
              "size": 10,
              "solidity": 0.2
             }
            },
            "type": "histogram"
           }
          ],
          "histogram2d": [
           {
            "colorbar": {
             "outlinewidth": 0,
             "ticks": ""
            },
            "colorscale": [
             [
              0,
              "#0d0887"
             ],
             [
              0.1111111111111111,
              "#46039f"
             ],
             [
              0.2222222222222222,
              "#7201a8"
             ],
             [
              0.3333333333333333,
              "#9c179e"
             ],
             [
              0.4444444444444444,
              "#bd3786"
             ],
             [
              0.5555555555555556,
              "#d8576b"
             ],
             [
              0.6666666666666666,
              "#ed7953"
             ],
             [
              0.7777777777777778,
              "#fb9f3a"
             ],
             [
              0.8888888888888888,
              "#fdca26"
             ],
             [
              1,
              "#f0f921"
             ]
            ],
            "type": "histogram2d"
           }
          ],
          "histogram2dcontour": [
           {
            "colorbar": {
             "outlinewidth": 0,
             "ticks": ""
            },
            "colorscale": [
             [
              0,
              "#0d0887"
             ],
             [
              0.1111111111111111,
              "#46039f"
             ],
             [
              0.2222222222222222,
              "#7201a8"
             ],
             [
              0.3333333333333333,
              "#9c179e"
             ],
             [
              0.4444444444444444,
              "#bd3786"
             ],
             [
              0.5555555555555556,
              "#d8576b"
             ],
             [
              0.6666666666666666,
              "#ed7953"
             ],
             [
              0.7777777777777778,
              "#fb9f3a"
             ],
             [
              0.8888888888888888,
              "#fdca26"
             ],
             [
              1,
              "#f0f921"
             ]
            ],
            "type": "histogram2dcontour"
           }
          ],
          "mesh3d": [
           {
            "colorbar": {
             "outlinewidth": 0,
             "ticks": ""
            },
            "type": "mesh3d"
           }
          ],
          "parcoords": [
           {
            "line": {
             "colorbar": {
              "outlinewidth": 0,
              "ticks": ""
             }
            },
            "type": "parcoords"
           }
          ],
          "pie": [
           {
            "automargin": true,
            "type": "pie"
           }
          ],
          "scatter": [
           {
            "fillpattern": {
             "fillmode": "overlay",
             "size": 10,
             "solidity": 0.2
            },
            "type": "scatter"
           }
          ],
          "scatter3d": [
           {
            "line": {
             "colorbar": {
              "outlinewidth": 0,
              "ticks": ""
             }
            },
            "marker": {
             "colorbar": {
              "outlinewidth": 0,
              "ticks": ""
             }
            },
            "type": "scatter3d"
           }
          ],
          "scattercarpet": [
           {
            "marker": {
             "colorbar": {
              "outlinewidth": 0,
              "ticks": ""
             }
            },
            "type": "scattercarpet"
           }
          ],
          "scattergeo": [
           {
            "marker": {
             "colorbar": {
              "outlinewidth": 0,
              "ticks": ""
             }
            },
            "type": "scattergeo"
           }
          ],
          "scattergl": [
           {
            "marker": {
             "colorbar": {
              "outlinewidth": 0,
              "ticks": ""
             }
            },
            "type": "scattergl"
           }
          ],
          "scattermapbox": [
           {
            "marker": {
             "colorbar": {
              "outlinewidth": 0,
              "ticks": ""
             }
            },
            "type": "scattermapbox"
           }
          ],
          "scatterpolar": [
           {
            "marker": {
             "colorbar": {
              "outlinewidth": 0,
              "ticks": ""
             }
            },
            "type": "scatterpolar"
           }
          ],
          "scatterpolargl": [
           {
            "marker": {
             "colorbar": {
              "outlinewidth": 0,
              "ticks": ""
             }
            },
            "type": "scatterpolargl"
           }
          ],
          "scatterternary": [
           {
            "marker": {
             "colorbar": {
              "outlinewidth": 0,
              "ticks": ""
             }
            },
            "type": "scatterternary"
           }
          ],
          "surface": [
           {
            "colorbar": {
             "outlinewidth": 0,
             "ticks": ""
            },
            "colorscale": [
             [
              0,
              "#0d0887"
             ],
             [
              0.1111111111111111,
              "#46039f"
             ],
             [
              0.2222222222222222,
              "#7201a8"
             ],
             [
              0.3333333333333333,
              "#9c179e"
             ],
             [
              0.4444444444444444,
              "#bd3786"
             ],
             [
              0.5555555555555556,
              "#d8576b"
             ],
             [
              0.6666666666666666,
              "#ed7953"
             ],
             [
              0.7777777777777778,
              "#fb9f3a"
             ],
             [
              0.8888888888888888,
              "#fdca26"
             ],
             [
              1,
              "#f0f921"
             ]
            ],
            "type": "surface"
           }
          ],
          "table": [
           {
            "cells": {
             "fill": {
              "color": "#EBF0F8"
             },
             "line": {
              "color": "white"
             }
            },
            "header": {
             "fill": {
              "color": "#C8D4E3"
             },
             "line": {
              "color": "white"
             }
            },
            "type": "table"
           }
          ]
         },
         "layout": {
          "annotationdefaults": {
           "arrowcolor": "#2a3f5f",
           "arrowhead": 0,
           "arrowwidth": 1
          },
          "autotypenumbers": "strict",
          "coloraxis": {
           "colorbar": {
            "outlinewidth": 0,
            "ticks": ""
           }
          },
          "colorscale": {
           "diverging": [
            [
             0,
             "#8e0152"
            ],
            [
             0.1,
             "#c51b7d"
            ],
            [
             0.2,
             "#de77ae"
            ],
            [
             0.3,
             "#f1b6da"
            ],
            [
             0.4,
             "#fde0ef"
            ],
            [
             0.5,
             "#f7f7f7"
            ],
            [
             0.6,
             "#e6f5d0"
            ],
            [
             0.7,
             "#b8e186"
            ],
            [
             0.8,
             "#7fbc41"
            ],
            [
             0.9,
             "#4d9221"
            ],
            [
             1,
             "#276419"
            ]
           ],
           "sequential": [
            [
             0,
             "#0d0887"
            ],
            [
             0.1111111111111111,
             "#46039f"
            ],
            [
             0.2222222222222222,
             "#7201a8"
            ],
            [
             0.3333333333333333,
             "#9c179e"
            ],
            [
             0.4444444444444444,
             "#bd3786"
            ],
            [
             0.5555555555555556,
             "#d8576b"
            ],
            [
             0.6666666666666666,
             "#ed7953"
            ],
            [
             0.7777777777777778,
             "#fb9f3a"
            ],
            [
             0.8888888888888888,
             "#fdca26"
            ],
            [
             1,
             "#f0f921"
            ]
           ],
           "sequentialminus": [
            [
             0,
             "#0d0887"
            ],
            [
             0.1111111111111111,
             "#46039f"
            ],
            [
             0.2222222222222222,
             "#7201a8"
            ],
            [
             0.3333333333333333,
             "#9c179e"
            ],
            [
             0.4444444444444444,
             "#bd3786"
            ],
            [
             0.5555555555555556,
             "#d8576b"
            ],
            [
             0.6666666666666666,
             "#ed7953"
            ],
            [
             0.7777777777777778,
             "#fb9f3a"
            ],
            [
             0.8888888888888888,
             "#fdca26"
            ],
            [
             1,
             "#f0f921"
            ]
           ]
          },
          "colorway": [
           "#636efa",
           "#EF553B",
           "#00cc96",
           "#ab63fa",
           "#FFA15A",
           "#19d3f3",
           "#FF6692",
           "#B6E880",
           "#FF97FF",
           "#FECB52"
          ],
          "font": {
           "color": "#2a3f5f"
          },
          "geo": {
           "bgcolor": "white",
           "lakecolor": "white",
           "landcolor": "#E5ECF6",
           "showlakes": true,
           "showland": true,
           "subunitcolor": "white"
          },
          "hoverlabel": {
           "align": "left"
          },
          "hovermode": "closest",
          "mapbox": {
           "style": "light"
          },
          "paper_bgcolor": "white",
          "plot_bgcolor": "#E5ECF6",
          "polar": {
           "angularaxis": {
            "gridcolor": "white",
            "linecolor": "white",
            "ticks": ""
           },
           "bgcolor": "#E5ECF6",
           "radialaxis": {
            "gridcolor": "white",
            "linecolor": "white",
            "ticks": ""
           }
          },
          "scene": {
           "xaxis": {
            "backgroundcolor": "#E5ECF6",
            "gridcolor": "white",
            "gridwidth": 2,
            "linecolor": "white",
            "showbackground": true,
            "ticks": "",
            "zerolinecolor": "white"
           },
           "yaxis": {
            "backgroundcolor": "#E5ECF6",
            "gridcolor": "white",
            "gridwidth": 2,
            "linecolor": "white",
            "showbackground": true,
            "ticks": "",
            "zerolinecolor": "white"
           },
           "zaxis": {
            "backgroundcolor": "#E5ECF6",
            "gridcolor": "white",
            "gridwidth": 2,
            "linecolor": "white",
            "showbackground": true,
            "ticks": "",
            "zerolinecolor": "white"
           }
          },
          "shapedefaults": {
           "line": {
            "color": "#2a3f5f"
           }
          },
          "ternary": {
           "aaxis": {
            "gridcolor": "white",
            "linecolor": "white",
            "ticks": ""
           },
           "baxis": {
            "gridcolor": "white",
            "linecolor": "white",
            "ticks": ""
           },
           "bgcolor": "#E5ECF6",
           "caxis": {
            "gridcolor": "white",
            "linecolor": "white",
            "ticks": ""
           }
          },
          "title": {
           "x": 0.05
          },
          "xaxis": {
           "automargin": true,
           "gridcolor": "white",
           "linecolor": "white",
           "ticks": "",
           "title": {
            "standoff": 15
           },
           "zerolinecolor": "white",
           "zerolinewidth": 2
          },
          "yaxis": {
           "automargin": true,
           "gridcolor": "white",
           "linecolor": "white",
           "ticks": "",
           "title": {
            "standoff": 15
           },
           "zerolinecolor": "white",
           "zerolinewidth": 2
          }
         }
        },
        "title": {
         "text": "3D Comparison for departement-01-ain"
        },
        "width": 800
       }
      }
     },
     "metadata": {},
     "output_type": "display_data"
    },
    {
     "data": {
      "application/vnd.plotly.v1+json": {
       "config": {
        "plotlyServerURL": "https://plot.ly"
       },
       "data": [
        {
         "line": {
          "color": "#636EFA",
          "width": 3
         },
         "marker": {
          "color": "#636EFA",
          "size": 8
         },
         "mode": "lines+markers",
         "name": "fwi-mean-[5, 10.5, 21.5, 34.5]-5",
         "scene": "scene",
         "type": "scatter3d",
         "x": [
          0,
          0,
          0,
          0,
          0
         ],
         "y": [
          4,
          5,
          6,
          7,
          10
         ],
         "z": [
          0.77,
          0.66,
          0.66,
          0.52,
          0.01
         ]
        },
        {
         "line": {
          "color": "#EF553B",
          "width": 3
         },
         "marker": {
          "color": "#EF553B",
          "size": 8
         },
         "mode": "lines+markers",
         "name": "nbsinister-max-3-kmeans-5-Class-Dept-None-5",
         "scene": "scene",
         "type": "scatter3d",
         "x": [
          1,
          1,
          1,
          1,
          1
         ],
         "y": [
          4,
          5,
          6,
          7,
          10
         ],
         "z": [
          0.49,
          0.26,
          0.26,
          0.02,
          -0.49
         ]
        },
        {
         "line": {
          "color": "#00CC96",
          "width": 3
         },
         "marker": {
          "color": "#00CC96",
          "size": 8
         },
         "mode": "lines+markers",
         "name": "nbsinister-max-1-kmeans-5-Class-Dept-None-5",
         "scene": "scene",
         "type": "scatter3d",
         "x": [
          2,
          2,
          2,
          2,
          2
         ],
         "y": [
          4,
          5,
          6,
          7,
          10
         ],
         "z": [
          0.77,
          0.66,
          0.66,
          0.52,
          0.01
         ]
        },
        {
         "line": {
          "color": "#AB63FA",
          "width": 3
         },
         "marker": {
          "color": "#AB63FA",
          "size": 8
         },
         "mode": "lines+markers",
         "name": "nbsinister-max-0-kmeans-5-Class-Dept-None-5",
         "scene": "scene",
         "type": "scatter3d",
         "x": [
          3,
          3,
          3,
          3,
          3
         ],
         "y": [
          4,
          5,
          6,
          7,
          10
         ],
         "z": [
          1,
          1,
          1,
          1,
          0.93
         ]
        },
        {
         "line": {
          "color": "#FFA15A",
          "width": 3
         },
         "marker": {
          "color": "#FFA15A",
          "size": 8
         },
         "mode": "lines+markers",
         "name": "risk-kmeans-5-Class-Dept-None-5",
         "scene": "scene",
         "type": "scatter3d",
         "x": [
          4,
          4,
          4,
          4,
          4
         ],
         "y": [
          4,
          5,
          6,
          7,
          10
         ],
         "z": [
          0.9,
          0.79,
          0.82,
          0.71,
          0.31
         ]
        },
        {
         "line": {
          "color": "#19D3F3",
          "width": 3
         },
         "marker": {
          "color": "#19D3F3",
          "size": 8
         },
         "mode": "lines+markers",
         "name": "risk-nbsinister-Robust-kmeans-5-Class-Dept-None-5",
         "scene": "scene",
         "type": "scatter3d",
         "x": [
          5,
          5,
          5,
          5,
          5
         ],
         "y": [
          4,
          5,
          6,
          7,
          10
         ],
         "z": [
          0.9,
          0.8,
          0.82,
          0.79,
          0.55
         ]
        }
       ],
       "layout": {
        "annotations": [
         {
          "font": {
           "size": 16
          },
          "showarrow": false,
          "text": "departement-25-doubs - SS_gt",
          "x": 0.5,
          "xanchor": "center",
          "xref": "paper",
          "y": 1,
          "yanchor": "bottom",
          "yref": "paper"
         }
        ],
        "height": 900,
        "scene": {
         "domain": {
          "x": [
           0,
           1
          ],
          "y": [
           0,
           1
          ]
         },
         "xaxis": {
          "ticktext": [
           "fwi-mean-[5, 10.5, 21.5, 34.5]-5",
           "nbsinister-max-3-kmeans-5-Class-Dept-None-5",
           "nbsinister-max-1-kmeans-5-Class-Dept-None-5",
           "nbsinister-max-0-kmeans-5-Class-Dept-None-5",
           "risk-kmeans-5-Class-Dept-None-5",
           "risk-nbsinister-Robust-kmeans-5-Class-Dept-None-5"
          ],
          "tickvals": [
           0,
           1,
           2,
           3,
           4,
           5
          ],
          "title": {
           "text": "Model"
          }
         },
         "yaxis": {
          "title": {
           "text": "Scale"
          }
         },
         "zaxis": {
          "title": {
           "text": "SS_gt"
          }
         }
        },
        "showlegend": true,
        "template": {
         "data": {
          "bar": [
           {
            "error_x": {
             "color": "#2a3f5f"
            },
            "error_y": {
             "color": "#2a3f5f"
            },
            "marker": {
             "line": {
              "color": "#E5ECF6",
              "width": 0.5
             },
             "pattern": {
              "fillmode": "overlay",
              "size": 10,
              "solidity": 0.2
             }
            },
            "type": "bar"
           }
          ],
          "barpolar": [
           {
            "marker": {
             "line": {
              "color": "#E5ECF6",
              "width": 0.5
             },
             "pattern": {
              "fillmode": "overlay",
              "size": 10,
              "solidity": 0.2
             }
            },
            "type": "barpolar"
           }
          ],
          "carpet": [
           {
            "aaxis": {
             "endlinecolor": "#2a3f5f",
             "gridcolor": "white",
             "linecolor": "white",
             "minorgridcolor": "white",
             "startlinecolor": "#2a3f5f"
            },
            "baxis": {
             "endlinecolor": "#2a3f5f",
             "gridcolor": "white",
             "linecolor": "white",
             "minorgridcolor": "white",
             "startlinecolor": "#2a3f5f"
            },
            "type": "carpet"
           }
          ],
          "choropleth": [
           {
            "colorbar": {
             "outlinewidth": 0,
             "ticks": ""
            },
            "type": "choropleth"
           }
          ],
          "contour": [
           {
            "colorbar": {
             "outlinewidth": 0,
             "ticks": ""
            },
            "colorscale": [
             [
              0,
              "#0d0887"
             ],
             [
              0.1111111111111111,
              "#46039f"
             ],
             [
              0.2222222222222222,
              "#7201a8"
             ],
             [
              0.3333333333333333,
              "#9c179e"
             ],
             [
              0.4444444444444444,
              "#bd3786"
             ],
             [
              0.5555555555555556,
              "#d8576b"
             ],
             [
              0.6666666666666666,
              "#ed7953"
             ],
             [
              0.7777777777777778,
              "#fb9f3a"
             ],
             [
              0.8888888888888888,
              "#fdca26"
             ],
             [
              1,
              "#f0f921"
             ]
            ],
            "type": "contour"
           }
          ],
          "contourcarpet": [
           {
            "colorbar": {
             "outlinewidth": 0,
             "ticks": ""
            },
            "type": "contourcarpet"
           }
          ],
          "heatmap": [
           {
            "colorbar": {
             "outlinewidth": 0,
             "ticks": ""
            },
            "colorscale": [
             [
              0,
              "#0d0887"
             ],
             [
              0.1111111111111111,
              "#46039f"
             ],
             [
              0.2222222222222222,
              "#7201a8"
             ],
             [
              0.3333333333333333,
              "#9c179e"
             ],
             [
              0.4444444444444444,
              "#bd3786"
             ],
             [
              0.5555555555555556,
              "#d8576b"
             ],
             [
              0.6666666666666666,
              "#ed7953"
             ],
             [
              0.7777777777777778,
              "#fb9f3a"
             ],
             [
              0.8888888888888888,
              "#fdca26"
             ],
             [
              1,
              "#f0f921"
             ]
            ],
            "type": "heatmap"
           }
          ],
          "heatmapgl": [
           {
            "colorbar": {
             "outlinewidth": 0,
             "ticks": ""
            },
            "colorscale": [
             [
              0,
              "#0d0887"
             ],
             [
              0.1111111111111111,
              "#46039f"
             ],
             [
              0.2222222222222222,
              "#7201a8"
             ],
             [
              0.3333333333333333,
              "#9c179e"
             ],
             [
              0.4444444444444444,
              "#bd3786"
             ],
             [
              0.5555555555555556,
              "#d8576b"
             ],
             [
              0.6666666666666666,
              "#ed7953"
             ],
             [
              0.7777777777777778,
              "#fb9f3a"
             ],
             [
              0.8888888888888888,
              "#fdca26"
             ],
             [
              1,
              "#f0f921"
             ]
            ],
            "type": "heatmapgl"
           }
          ],
          "histogram": [
           {
            "marker": {
             "pattern": {
              "fillmode": "overlay",
              "size": 10,
              "solidity": 0.2
             }
            },
            "type": "histogram"
           }
          ],
          "histogram2d": [
           {
            "colorbar": {
             "outlinewidth": 0,
             "ticks": ""
            },
            "colorscale": [
             [
              0,
              "#0d0887"
             ],
             [
              0.1111111111111111,
              "#46039f"
             ],
             [
              0.2222222222222222,
              "#7201a8"
             ],
             [
              0.3333333333333333,
              "#9c179e"
             ],
             [
              0.4444444444444444,
              "#bd3786"
             ],
             [
              0.5555555555555556,
              "#d8576b"
             ],
             [
              0.6666666666666666,
              "#ed7953"
             ],
             [
              0.7777777777777778,
              "#fb9f3a"
             ],
             [
              0.8888888888888888,
              "#fdca26"
             ],
             [
              1,
              "#f0f921"
             ]
            ],
            "type": "histogram2d"
           }
          ],
          "histogram2dcontour": [
           {
            "colorbar": {
             "outlinewidth": 0,
             "ticks": ""
            },
            "colorscale": [
             [
              0,
              "#0d0887"
             ],
             [
              0.1111111111111111,
              "#46039f"
             ],
             [
              0.2222222222222222,
              "#7201a8"
             ],
             [
              0.3333333333333333,
              "#9c179e"
             ],
             [
              0.4444444444444444,
              "#bd3786"
             ],
             [
              0.5555555555555556,
              "#d8576b"
             ],
             [
              0.6666666666666666,
              "#ed7953"
             ],
             [
              0.7777777777777778,
              "#fb9f3a"
             ],
             [
              0.8888888888888888,
              "#fdca26"
             ],
             [
              1,
              "#f0f921"
             ]
            ],
            "type": "histogram2dcontour"
           }
          ],
          "mesh3d": [
           {
            "colorbar": {
             "outlinewidth": 0,
             "ticks": ""
            },
            "type": "mesh3d"
           }
          ],
          "parcoords": [
           {
            "line": {
             "colorbar": {
              "outlinewidth": 0,
              "ticks": ""
             }
            },
            "type": "parcoords"
           }
          ],
          "pie": [
           {
            "automargin": true,
            "type": "pie"
           }
          ],
          "scatter": [
           {
            "fillpattern": {
             "fillmode": "overlay",
             "size": 10,
             "solidity": 0.2
            },
            "type": "scatter"
           }
          ],
          "scatter3d": [
           {
            "line": {
             "colorbar": {
              "outlinewidth": 0,
              "ticks": ""
             }
            },
            "marker": {
             "colorbar": {
              "outlinewidth": 0,
              "ticks": ""
             }
            },
            "type": "scatter3d"
           }
          ],
          "scattercarpet": [
           {
            "marker": {
             "colorbar": {
              "outlinewidth": 0,
              "ticks": ""
             }
            },
            "type": "scattercarpet"
           }
          ],
          "scattergeo": [
           {
            "marker": {
             "colorbar": {
              "outlinewidth": 0,
              "ticks": ""
             }
            },
            "type": "scattergeo"
           }
          ],
          "scattergl": [
           {
            "marker": {
             "colorbar": {
              "outlinewidth": 0,
              "ticks": ""
             }
            },
            "type": "scattergl"
           }
          ],
          "scattermapbox": [
           {
            "marker": {
             "colorbar": {
              "outlinewidth": 0,
              "ticks": ""
             }
            },
            "type": "scattermapbox"
           }
          ],
          "scatterpolar": [
           {
            "marker": {
             "colorbar": {
              "outlinewidth": 0,
              "ticks": ""
             }
            },
            "type": "scatterpolar"
           }
          ],
          "scatterpolargl": [
           {
            "marker": {
             "colorbar": {
              "outlinewidth": 0,
              "ticks": ""
             }
            },
            "type": "scatterpolargl"
           }
          ],
          "scatterternary": [
           {
            "marker": {
             "colorbar": {
              "outlinewidth": 0,
              "ticks": ""
             }
            },
            "type": "scatterternary"
           }
          ],
          "surface": [
           {
            "colorbar": {
             "outlinewidth": 0,
             "ticks": ""
            },
            "colorscale": [
             [
              0,
              "#0d0887"
             ],
             [
              0.1111111111111111,
              "#46039f"
             ],
             [
              0.2222222222222222,
              "#7201a8"
             ],
             [
              0.3333333333333333,
              "#9c179e"
             ],
             [
              0.4444444444444444,
              "#bd3786"
             ],
             [
              0.5555555555555556,
              "#d8576b"
             ],
             [
              0.6666666666666666,
              "#ed7953"
             ],
             [
              0.7777777777777778,
              "#fb9f3a"
             ],
             [
              0.8888888888888888,
              "#fdca26"
             ],
             [
              1,
              "#f0f921"
             ]
            ],
            "type": "surface"
           }
          ],
          "table": [
           {
            "cells": {
             "fill": {
              "color": "#EBF0F8"
             },
             "line": {
              "color": "white"
             }
            },
            "header": {
             "fill": {
              "color": "#C8D4E3"
             },
             "line": {
              "color": "white"
             }
            },
            "type": "table"
           }
          ]
         },
         "layout": {
          "annotationdefaults": {
           "arrowcolor": "#2a3f5f",
           "arrowhead": 0,
           "arrowwidth": 1
          },
          "autotypenumbers": "strict",
          "coloraxis": {
           "colorbar": {
            "outlinewidth": 0,
            "ticks": ""
           }
          },
          "colorscale": {
           "diverging": [
            [
             0,
             "#8e0152"
            ],
            [
             0.1,
             "#c51b7d"
            ],
            [
             0.2,
             "#de77ae"
            ],
            [
             0.3,
             "#f1b6da"
            ],
            [
             0.4,
             "#fde0ef"
            ],
            [
             0.5,
             "#f7f7f7"
            ],
            [
             0.6,
             "#e6f5d0"
            ],
            [
             0.7,
             "#b8e186"
            ],
            [
             0.8,
             "#7fbc41"
            ],
            [
             0.9,
             "#4d9221"
            ],
            [
             1,
             "#276419"
            ]
           ],
           "sequential": [
            [
             0,
             "#0d0887"
            ],
            [
             0.1111111111111111,
             "#46039f"
            ],
            [
             0.2222222222222222,
             "#7201a8"
            ],
            [
             0.3333333333333333,
             "#9c179e"
            ],
            [
             0.4444444444444444,
             "#bd3786"
            ],
            [
             0.5555555555555556,
             "#d8576b"
            ],
            [
             0.6666666666666666,
             "#ed7953"
            ],
            [
             0.7777777777777778,
             "#fb9f3a"
            ],
            [
             0.8888888888888888,
             "#fdca26"
            ],
            [
             1,
             "#f0f921"
            ]
           ],
           "sequentialminus": [
            [
             0,
             "#0d0887"
            ],
            [
             0.1111111111111111,
             "#46039f"
            ],
            [
             0.2222222222222222,
             "#7201a8"
            ],
            [
             0.3333333333333333,
             "#9c179e"
            ],
            [
             0.4444444444444444,
             "#bd3786"
            ],
            [
             0.5555555555555556,
             "#d8576b"
            ],
            [
             0.6666666666666666,
             "#ed7953"
            ],
            [
             0.7777777777777778,
             "#fb9f3a"
            ],
            [
             0.8888888888888888,
             "#fdca26"
            ],
            [
             1,
             "#f0f921"
            ]
           ]
          },
          "colorway": [
           "#636efa",
           "#EF553B",
           "#00cc96",
           "#ab63fa",
           "#FFA15A",
           "#19d3f3",
           "#FF6692",
           "#B6E880",
           "#FF97FF",
           "#FECB52"
          ],
          "font": {
           "color": "#2a3f5f"
          },
          "geo": {
           "bgcolor": "white",
           "lakecolor": "white",
           "landcolor": "#E5ECF6",
           "showlakes": true,
           "showland": true,
           "subunitcolor": "white"
          },
          "hoverlabel": {
           "align": "left"
          },
          "hovermode": "closest",
          "mapbox": {
           "style": "light"
          },
          "paper_bgcolor": "white",
          "plot_bgcolor": "#E5ECF6",
          "polar": {
           "angularaxis": {
            "gridcolor": "white",
            "linecolor": "white",
            "ticks": ""
           },
           "bgcolor": "#E5ECF6",
           "radialaxis": {
            "gridcolor": "white",
            "linecolor": "white",
            "ticks": ""
           }
          },
          "scene": {
           "xaxis": {
            "backgroundcolor": "#E5ECF6",
            "gridcolor": "white",
            "gridwidth": 2,
            "linecolor": "white",
            "showbackground": true,
            "ticks": "",
            "zerolinecolor": "white"
           },
           "yaxis": {
            "backgroundcolor": "#E5ECF6",
            "gridcolor": "white",
            "gridwidth": 2,
            "linecolor": "white",
            "showbackground": true,
            "ticks": "",
            "zerolinecolor": "white"
           },
           "zaxis": {
            "backgroundcolor": "#E5ECF6",
            "gridcolor": "white",
            "gridwidth": 2,
            "linecolor": "white",
            "showbackground": true,
            "ticks": "",
            "zerolinecolor": "white"
           }
          },
          "shapedefaults": {
           "line": {
            "color": "#2a3f5f"
           }
          },
          "ternary": {
           "aaxis": {
            "gridcolor": "white",
            "linecolor": "white",
            "ticks": ""
           },
           "baxis": {
            "gridcolor": "white",
            "linecolor": "white",
            "ticks": ""
           },
           "bgcolor": "#E5ECF6",
           "caxis": {
            "gridcolor": "white",
            "linecolor": "white",
            "ticks": ""
           }
          },
          "title": {
           "x": 0.05
          },
          "xaxis": {
           "automargin": true,
           "gridcolor": "white",
           "linecolor": "white",
           "ticks": "",
           "title": {
            "standoff": 15
           },
           "zerolinecolor": "white",
           "zerolinewidth": 2
          },
          "yaxis": {
           "automargin": true,
           "gridcolor": "white",
           "linecolor": "white",
           "ticks": "",
           "title": {
            "standoff": 15
           },
           "zerolinecolor": "white",
           "zerolinewidth": 2
          }
         }
        },
        "title": {
         "text": "3D Comparison for departement-25-doubs"
        },
        "width": 800
       }
      }
     },
     "metadata": {},
     "output_type": "display_data"
    },
    {
     "data": {
      "application/vnd.plotly.v1+json": {
       "config": {
        "plotlyServerURL": "https://plot.ly"
       },
       "data": [
        {
         "line": {
          "color": "#636EFA",
          "width": 3
         },
         "marker": {
          "color": "#636EFA",
          "size": 8
         },
         "mode": "lines+markers",
         "name": "fwi-mean-[5, 10.5, 21.5, 34.5]-5",
         "scene": "scene",
         "type": "scatter3d",
         "x": [
          0,
          0,
          0,
          0,
          0
         ],
         "y": [
          4,
          5,
          6,
          7,
          10
         ],
         "z": [
          0.63,
          0.42,
          0.42,
          0.22,
          0
         ]
        },
        {
         "line": {
          "color": "#EF553B",
          "width": 3
         },
         "marker": {
          "color": "#EF553B",
          "size": 8
         },
         "mode": "lines+markers",
         "name": "nbsinister-max-3-kmeans-5-Class-Dept-None-5",
         "scene": "scene",
         "type": "scatter3d",
         "x": [
          1,
          1,
          1,
          1,
          1
         ],
         "y": [
          4,
          5,
          6,
          7,
          10
         ],
         "z": [
          0.26,
          -0.02,
          -0.02,
          -0.29,
          -0.42
         ]
        },
        {
         "line": {
          "color": "#00CC96",
          "width": 3
         },
         "marker": {
          "color": "#00CC96",
          "size": 8
         },
         "mode": "lines+markers",
         "name": "nbsinister-max-1-kmeans-5-Class-Dept-None-5",
         "scene": "scene",
         "type": "scatter3d",
         "x": [
          2,
          2,
          2,
          2,
          2
         ],
         "y": [
          4,
          5,
          6,
          7,
          10
         ],
         "z": [
          0.63,
          0.42,
          0.42,
          0.22,
          0
         ]
        },
        {
         "line": {
          "color": "#AB63FA",
          "width": 3
         },
         "marker": {
          "color": "#AB63FA",
          "size": 8
         },
         "mode": "lines+markers",
         "name": "nbsinister-max-0-kmeans-5-Class-Dept-None-5",
         "scene": "scene",
         "type": "scatter3d",
         "x": [
          3,
          3,
          3,
          3,
          3
         ],
         "y": [
          4,
          5,
          6,
          7,
          10
         ],
         "z": [
          1,
          0.98,
          0.98,
          0.97,
          0.92
         ]
        },
        {
         "line": {
          "color": "#FFA15A",
          "width": 3
         },
         "marker": {
          "color": "#FFA15A",
          "size": 8
         },
         "mode": "lines+markers",
         "name": "risk-kmeans-5-Class-Dept-None-5",
         "scene": "scene",
         "type": "scatter3d",
         "x": [
          4,
          4,
          4,
          4,
          4
         ],
         "y": [
          4,
          5,
          6,
          7,
          10
         ],
         "z": [
          0.73,
          0.57,
          0.57,
          0.47,
          0.2
         ]
        },
        {
         "line": {
          "color": "#19D3F3",
          "width": 3
         },
         "marker": {
          "color": "#19D3F3",
          "size": 8
         },
         "mode": "lines+markers",
         "name": "risk-nbsinister-Robust-kmeans-5-Class-Dept-None-5",
         "scene": "scene",
         "type": "scatter3d",
         "x": [
          5,
          5,
          5,
          5,
          5
         ],
         "y": [
          4,
          5,
          6,
          7,
          10
         ],
         "z": [
          0.76,
          0.81,
          0.81,
          0.82,
          0.56
         ]
        }
       ],
       "layout": {
        "annotations": [
         {
          "font": {
           "size": 16
          },
          "showarrow": false,
          "text": "departement-78-yvelines - SS_gt",
          "x": 0.5,
          "xanchor": "center",
          "xref": "paper",
          "y": 1,
          "yanchor": "bottom",
          "yref": "paper"
         }
        ],
        "height": 900,
        "scene": {
         "domain": {
          "x": [
           0,
           1
          ],
          "y": [
           0,
           1
          ]
         },
         "xaxis": {
          "ticktext": [
           "fwi-mean-[5, 10.5, 21.5, 34.5]-5",
           "nbsinister-max-3-kmeans-5-Class-Dept-None-5",
           "nbsinister-max-1-kmeans-5-Class-Dept-None-5",
           "nbsinister-max-0-kmeans-5-Class-Dept-None-5",
           "risk-kmeans-5-Class-Dept-None-5",
           "risk-nbsinister-Robust-kmeans-5-Class-Dept-None-5"
          ],
          "tickvals": [
           0,
           1,
           2,
           3,
           4,
           5
          ],
          "title": {
           "text": "Model"
          }
         },
         "yaxis": {
          "title": {
           "text": "Scale"
          }
         },
         "zaxis": {
          "title": {
           "text": "SS_gt"
          }
         }
        },
        "showlegend": true,
        "template": {
         "data": {
          "bar": [
           {
            "error_x": {
             "color": "#2a3f5f"
            },
            "error_y": {
             "color": "#2a3f5f"
            },
            "marker": {
             "line": {
              "color": "#E5ECF6",
              "width": 0.5
             },
             "pattern": {
              "fillmode": "overlay",
              "size": 10,
              "solidity": 0.2
             }
            },
            "type": "bar"
           }
          ],
          "barpolar": [
           {
            "marker": {
             "line": {
              "color": "#E5ECF6",
              "width": 0.5
             },
             "pattern": {
              "fillmode": "overlay",
              "size": 10,
              "solidity": 0.2
             }
            },
            "type": "barpolar"
           }
          ],
          "carpet": [
           {
            "aaxis": {
             "endlinecolor": "#2a3f5f",
             "gridcolor": "white",
             "linecolor": "white",
             "minorgridcolor": "white",
             "startlinecolor": "#2a3f5f"
            },
            "baxis": {
             "endlinecolor": "#2a3f5f",
             "gridcolor": "white",
             "linecolor": "white",
             "minorgridcolor": "white",
             "startlinecolor": "#2a3f5f"
            },
            "type": "carpet"
           }
          ],
          "choropleth": [
           {
            "colorbar": {
             "outlinewidth": 0,
             "ticks": ""
            },
            "type": "choropleth"
           }
          ],
          "contour": [
           {
            "colorbar": {
             "outlinewidth": 0,
             "ticks": ""
            },
            "colorscale": [
             [
              0,
              "#0d0887"
             ],
             [
              0.1111111111111111,
              "#46039f"
             ],
             [
              0.2222222222222222,
              "#7201a8"
             ],
             [
              0.3333333333333333,
              "#9c179e"
             ],
             [
              0.4444444444444444,
              "#bd3786"
             ],
             [
              0.5555555555555556,
              "#d8576b"
             ],
             [
              0.6666666666666666,
              "#ed7953"
             ],
             [
              0.7777777777777778,
              "#fb9f3a"
             ],
             [
              0.8888888888888888,
              "#fdca26"
             ],
             [
              1,
              "#f0f921"
             ]
            ],
            "type": "contour"
           }
          ],
          "contourcarpet": [
           {
            "colorbar": {
             "outlinewidth": 0,
             "ticks": ""
            },
            "type": "contourcarpet"
           }
          ],
          "heatmap": [
           {
            "colorbar": {
             "outlinewidth": 0,
             "ticks": ""
            },
            "colorscale": [
             [
              0,
              "#0d0887"
             ],
             [
              0.1111111111111111,
              "#46039f"
             ],
             [
              0.2222222222222222,
              "#7201a8"
             ],
             [
              0.3333333333333333,
              "#9c179e"
             ],
             [
              0.4444444444444444,
              "#bd3786"
             ],
             [
              0.5555555555555556,
              "#d8576b"
             ],
             [
              0.6666666666666666,
              "#ed7953"
             ],
             [
              0.7777777777777778,
              "#fb9f3a"
             ],
             [
              0.8888888888888888,
              "#fdca26"
             ],
             [
              1,
              "#f0f921"
             ]
            ],
            "type": "heatmap"
           }
          ],
          "heatmapgl": [
           {
            "colorbar": {
             "outlinewidth": 0,
             "ticks": ""
            },
            "colorscale": [
             [
              0,
              "#0d0887"
             ],
             [
              0.1111111111111111,
              "#46039f"
             ],
             [
              0.2222222222222222,
              "#7201a8"
             ],
             [
              0.3333333333333333,
              "#9c179e"
             ],
             [
              0.4444444444444444,
              "#bd3786"
             ],
             [
              0.5555555555555556,
              "#d8576b"
             ],
             [
              0.6666666666666666,
              "#ed7953"
             ],
             [
              0.7777777777777778,
              "#fb9f3a"
             ],
             [
              0.8888888888888888,
              "#fdca26"
             ],
             [
              1,
              "#f0f921"
             ]
            ],
            "type": "heatmapgl"
           }
          ],
          "histogram": [
           {
            "marker": {
             "pattern": {
              "fillmode": "overlay",
              "size": 10,
              "solidity": 0.2
             }
            },
            "type": "histogram"
           }
          ],
          "histogram2d": [
           {
            "colorbar": {
             "outlinewidth": 0,
             "ticks": ""
            },
            "colorscale": [
             [
              0,
              "#0d0887"
             ],
             [
              0.1111111111111111,
              "#46039f"
             ],
             [
              0.2222222222222222,
              "#7201a8"
             ],
             [
              0.3333333333333333,
              "#9c179e"
             ],
             [
              0.4444444444444444,
              "#bd3786"
             ],
             [
              0.5555555555555556,
              "#d8576b"
             ],
             [
              0.6666666666666666,
              "#ed7953"
             ],
             [
              0.7777777777777778,
              "#fb9f3a"
             ],
             [
              0.8888888888888888,
              "#fdca26"
             ],
             [
              1,
              "#f0f921"
             ]
            ],
            "type": "histogram2d"
           }
          ],
          "histogram2dcontour": [
           {
            "colorbar": {
             "outlinewidth": 0,
             "ticks": ""
            },
            "colorscale": [
             [
              0,
              "#0d0887"
             ],
             [
              0.1111111111111111,
              "#46039f"
             ],
             [
              0.2222222222222222,
              "#7201a8"
             ],
             [
              0.3333333333333333,
              "#9c179e"
             ],
             [
              0.4444444444444444,
              "#bd3786"
             ],
             [
              0.5555555555555556,
              "#d8576b"
             ],
             [
              0.6666666666666666,
              "#ed7953"
             ],
             [
              0.7777777777777778,
              "#fb9f3a"
             ],
             [
              0.8888888888888888,
              "#fdca26"
             ],
             [
              1,
              "#f0f921"
             ]
            ],
            "type": "histogram2dcontour"
           }
          ],
          "mesh3d": [
           {
            "colorbar": {
             "outlinewidth": 0,
             "ticks": ""
            },
            "type": "mesh3d"
           }
          ],
          "parcoords": [
           {
            "line": {
             "colorbar": {
              "outlinewidth": 0,
              "ticks": ""
             }
            },
            "type": "parcoords"
           }
          ],
          "pie": [
           {
            "automargin": true,
            "type": "pie"
           }
          ],
          "scatter": [
           {
            "fillpattern": {
             "fillmode": "overlay",
             "size": 10,
             "solidity": 0.2
            },
            "type": "scatter"
           }
          ],
          "scatter3d": [
           {
            "line": {
             "colorbar": {
              "outlinewidth": 0,
              "ticks": ""
             }
            },
            "marker": {
             "colorbar": {
              "outlinewidth": 0,
              "ticks": ""
             }
            },
            "type": "scatter3d"
           }
          ],
          "scattercarpet": [
           {
            "marker": {
             "colorbar": {
              "outlinewidth": 0,
              "ticks": ""
             }
            },
            "type": "scattercarpet"
           }
          ],
          "scattergeo": [
           {
            "marker": {
             "colorbar": {
              "outlinewidth": 0,
              "ticks": ""
             }
            },
            "type": "scattergeo"
           }
          ],
          "scattergl": [
           {
            "marker": {
             "colorbar": {
              "outlinewidth": 0,
              "ticks": ""
             }
            },
            "type": "scattergl"
           }
          ],
          "scattermapbox": [
           {
            "marker": {
             "colorbar": {
              "outlinewidth": 0,
              "ticks": ""
             }
            },
            "type": "scattermapbox"
           }
          ],
          "scatterpolar": [
           {
            "marker": {
             "colorbar": {
              "outlinewidth": 0,
              "ticks": ""
             }
            },
            "type": "scatterpolar"
           }
          ],
          "scatterpolargl": [
           {
            "marker": {
             "colorbar": {
              "outlinewidth": 0,
              "ticks": ""
             }
            },
            "type": "scatterpolargl"
           }
          ],
          "scatterternary": [
           {
            "marker": {
             "colorbar": {
              "outlinewidth": 0,
              "ticks": ""
             }
            },
            "type": "scatterternary"
           }
          ],
          "surface": [
           {
            "colorbar": {
             "outlinewidth": 0,
             "ticks": ""
            },
            "colorscale": [
             [
              0,
              "#0d0887"
             ],
             [
              0.1111111111111111,
              "#46039f"
             ],
             [
              0.2222222222222222,
              "#7201a8"
             ],
             [
              0.3333333333333333,
              "#9c179e"
             ],
             [
              0.4444444444444444,
              "#bd3786"
             ],
             [
              0.5555555555555556,
              "#d8576b"
             ],
             [
              0.6666666666666666,
              "#ed7953"
             ],
             [
              0.7777777777777778,
              "#fb9f3a"
             ],
             [
              0.8888888888888888,
              "#fdca26"
             ],
             [
              1,
              "#f0f921"
             ]
            ],
            "type": "surface"
           }
          ],
          "table": [
           {
            "cells": {
             "fill": {
              "color": "#EBF0F8"
             },
             "line": {
              "color": "white"
             }
            },
            "header": {
             "fill": {
              "color": "#C8D4E3"
             },
             "line": {
              "color": "white"
             }
            },
            "type": "table"
           }
          ]
         },
         "layout": {
          "annotationdefaults": {
           "arrowcolor": "#2a3f5f",
           "arrowhead": 0,
           "arrowwidth": 1
          },
          "autotypenumbers": "strict",
          "coloraxis": {
           "colorbar": {
            "outlinewidth": 0,
            "ticks": ""
           }
          },
          "colorscale": {
           "diverging": [
            [
             0,
             "#8e0152"
            ],
            [
             0.1,
             "#c51b7d"
            ],
            [
             0.2,
             "#de77ae"
            ],
            [
             0.3,
             "#f1b6da"
            ],
            [
             0.4,
             "#fde0ef"
            ],
            [
             0.5,
             "#f7f7f7"
            ],
            [
             0.6,
             "#e6f5d0"
            ],
            [
             0.7,
             "#b8e186"
            ],
            [
             0.8,
             "#7fbc41"
            ],
            [
             0.9,
             "#4d9221"
            ],
            [
             1,
             "#276419"
            ]
           ],
           "sequential": [
            [
             0,
             "#0d0887"
            ],
            [
             0.1111111111111111,
             "#46039f"
            ],
            [
             0.2222222222222222,
             "#7201a8"
            ],
            [
             0.3333333333333333,
             "#9c179e"
            ],
            [
             0.4444444444444444,
             "#bd3786"
            ],
            [
             0.5555555555555556,
             "#d8576b"
            ],
            [
             0.6666666666666666,
             "#ed7953"
            ],
            [
             0.7777777777777778,
             "#fb9f3a"
            ],
            [
             0.8888888888888888,
             "#fdca26"
            ],
            [
             1,
             "#f0f921"
            ]
           ],
           "sequentialminus": [
            [
             0,
             "#0d0887"
            ],
            [
             0.1111111111111111,
             "#46039f"
            ],
            [
             0.2222222222222222,
             "#7201a8"
            ],
            [
             0.3333333333333333,
             "#9c179e"
            ],
            [
             0.4444444444444444,
             "#bd3786"
            ],
            [
             0.5555555555555556,
             "#d8576b"
            ],
            [
             0.6666666666666666,
             "#ed7953"
            ],
            [
             0.7777777777777778,
             "#fb9f3a"
            ],
            [
             0.8888888888888888,
             "#fdca26"
            ],
            [
             1,
             "#f0f921"
            ]
           ]
          },
          "colorway": [
           "#636efa",
           "#EF553B",
           "#00cc96",
           "#ab63fa",
           "#FFA15A",
           "#19d3f3",
           "#FF6692",
           "#B6E880",
           "#FF97FF",
           "#FECB52"
          ],
          "font": {
           "color": "#2a3f5f"
          },
          "geo": {
           "bgcolor": "white",
           "lakecolor": "white",
           "landcolor": "#E5ECF6",
           "showlakes": true,
           "showland": true,
           "subunitcolor": "white"
          },
          "hoverlabel": {
           "align": "left"
          },
          "hovermode": "closest",
          "mapbox": {
           "style": "light"
          },
          "paper_bgcolor": "white",
          "plot_bgcolor": "#E5ECF6",
          "polar": {
           "angularaxis": {
            "gridcolor": "white",
            "linecolor": "white",
            "ticks": ""
           },
           "bgcolor": "#E5ECF6",
           "radialaxis": {
            "gridcolor": "white",
            "linecolor": "white",
            "ticks": ""
           }
          },
          "scene": {
           "xaxis": {
            "backgroundcolor": "#E5ECF6",
            "gridcolor": "white",
            "gridwidth": 2,
            "linecolor": "white",
            "showbackground": true,
            "ticks": "",
            "zerolinecolor": "white"
           },
           "yaxis": {
            "backgroundcolor": "#E5ECF6",
            "gridcolor": "white",
            "gridwidth": 2,
            "linecolor": "white",
            "showbackground": true,
            "ticks": "",
            "zerolinecolor": "white"
           },
           "zaxis": {
            "backgroundcolor": "#E5ECF6",
            "gridcolor": "white",
            "gridwidth": 2,
            "linecolor": "white",
            "showbackground": true,
            "ticks": "",
            "zerolinecolor": "white"
           }
          },
          "shapedefaults": {
           "line": {
            "color": "#2a3f5f"
           }
          },
          "ternary": {
           "aaxis": {
            "gridcolor": "white",
            "linecolor": "white",
            "ticks": ""
           },
           "baxis": {
            "gridcolor": "white",
            "linecolor": "white",
            "ticks": ""
           },
           "bgcolor": "#E5ECF6",
           "caxis": {
            "gridcolor": "white",
            "linecolor": "white",
            "ticks": ""
           }
          },
          "title": {
           "x": 0.05
          },
          "xaxis": {
           "automargin": true,
           "gridcolor": "white",
           "linecolor": "white",
           "ticks": "",
           "title": {
            "standoff": 15
           },
           "zerolinecolor": "white",
           "zerolinewidth": 2
          },
          "yaxis": {
           "automargin": true,
           "gridcolor": "white",
           "linecolor": "white",
           "ticks": "",
           "title": {
            "standoff": 15
           },
           "zerolinecolor": "white",
           "zerolinewidth": 2
          }
         }
        },
        "title": {
         "text": "3D Comparison for departement-78-yvelines"
        },
        "width": 800
       }
      }
     },
     "metadata": {},
     "output_type": "display_data"
    }
   ],
   "source": [
    "compare_models_2d(df, df.Department.unique(), dept_markers, ['SS_gt'],  'Model', 'Scale', 'Model')"
   ]
  },
  {
   "cell_type": "code",
   "execution_count": 119,
   "metadata": {},
   "outputs": [
    {
     "data": {
      "application/vnd.plotly.v1+json": {
       "config": {
        "plotlyServerURL": "https://plot.ly"
       },
       "data": [
        {
         "line": {
          "color": "#636EFA",
          "width": 3
         },
         "marker": {
          "color": "#636EFA",
          "size": 8
         },
         "mode": "lines+markers",
         "name": "fwi-mean-[5, 10.5, 21.5, 34.5]-5",
         "scene": "scene",
         "type": "scatter3d",
         "x": [
          0,
          0,
          0,
          0,
          0
         ],
         "y": [
          4,
          5,
          6,
          7,
          10
         ],
         "z": [
          0.06,
          0.08,
          0.13,
          0.16,
          0.4
         ]
        },
        {
         "line": {
          "color": "#EF553B",
          "width": 3
         },
         "marker": {
          "color": "#EF553B",
          "size": 8
         },
         "mode": "lines+markers",
         "name": "nbsinister-max-3-kmeans-5-Class-Dept-None-5",
         "scene": "scene",
         "type": "scatter3d",
         "x": [
          1,
          1,
          1,
          1,
          1
         ],
         "y": [
          4,
          5,
          6,
          7,
          10
         ],
         "z": [
          0.24,
          0.26,
          0.31,
          0.35,
          0.61
         ]
        },
        {
         "line": {
          "color": "#00CC96",
          "width": 3
         },
         "marker": {
          "color": "#00CC96",
          "size": 8
         },
         "mode": "lines+markers",
         "name": "nbsinister-max-1-kmeans-5-Class-Dept-None-5",
         "scene": "scene",
         "type": "scatter3d",
         "x": [
          2,
          2,
          2,
          2,
          2
         ],
         "y": [
          4,
          5,
          6,
          7,
          10
         ],
         "z": [
          0.43,
          0.43,
          0.47,
          0.51,
          0.67
         ]
        },
        {
         "line": {
          "color": "#AB63FA",
          "width": 3
         },
         "marker": {
          "color": "#AB63FA",
          "size": 8
         },
         "mode": "lines+markers",
         "name": "nbsinister-max-0-kmeans-5-Class-Dept-None-5",
         "scene": "scene",
         "type": "scatter3d",
         "x": [
          3,
          3,
          3,
          3,
          3
         ],
         "y": [
          4,
          5,
          6,
          7,
          10
         ],
         "z": [
          1,
          1,
          1,
          1,
          1
         ]
        },
        {
         "line": {
          "color": "#FFA15A",
          "width": 3
         },
         "marker": {
          "color": "#FFA15A",
          "size": 8
         },
         "mode": "lines+markers",
         "name": "risk-kmeans-5-Class-Dept-None-5",
         "scene": "scene",
         "type": "scatter3d",
         "x": [
          4,
          4,
          4,
          4,
          4
         ],
         "y": [
          4,
          5,
          6,
          7,
          10
         ],
         "z": [
          0.57,
          0.5,
          0.61,
          0.63,
          0.78
         ]
        },
        {
         "line": {
          "color": "#19D3F3",
          "width": 3
         },
         "marker": {
          "color": "#19D3F3",
          "size": 8
         },
         "mode": "lines+markers",
         "name": "risk-nbsinister-Robust-kmeans-5-Class-Dept-None-5",
         "scene": "scene",
         "type": "scatter3d",
         "x": [
          5,
          5,
          5,
          5,
          5
         ],
         "y": [
          4,
          5,
          6,
          7,
          10
         ],
         "z": [
          0.6,
          0.57,
          0.82,
          0.82,
          0.5
         ]
        }
       ],
       "layout": {
        "annotations": [
         {
          "font": {
           "size": 16
          },
          "showarrow": false,
          "text": "departement-01-ain - iou_wildfire_or_pred_class",
          "x": 0.5,
          "xanchor": "center",
          "xref": "paper",
          "y": 1,
          "yanchor": "bottom",
          "yref": "paper"
         }
        ],
        "height": 900,
        "scene": {
         "domain": {
          "x": [
           0,
           1
          ],
          "y": [
           0,
           1
          ]
         },
         "xaxis": {
          "ticktext": [
           "fwi-mean-[5, 10.5, 21.5, 34.5]-5",
           "nbsinister-max-3-kmeans-5-Class-Dept-None-5",
           "nbsinister-max-1-kmeans-5-Class-Dept-None-5",
           "nbsinister-max-0-kmeans-5-Class-Dept-None-5",
           "risk-kmeans-5-Class-Dept-None-5",
           "risk-nbsinister-Robust-kmeans-5-Class-Dept-None-5"
          ],
          "tickvals": [
           0,
           1,
           2,
           3,
           4,
           5
          ],
          "title": {
           "text": "Model"
          }
         },
         "yaxis": {
          "title": {
           "text": "Scale"
          }
         },
         "zaxis": {
          "title": {
           "text": "iou_wildfire_or_pred_class"
          }
         }
        },
        "showlegend": true,
        "template": {
         "data": {
          "bar": [
           {
            "error_x": {
             "color": "#2a3f5f"
            },
            "error_y": {
             "color": "#2a3f5f"
            },
            "marker": {
             "line": {
              "color": "#E5ECF6",
              "width": 0.5
             },
             "pattern": {
              "fillmode": "overlay",
              "size": 10,
              "solidity": 0.2
             }
            },
            "type": "bar"
           }
          ],
          "barpolar": [
           {
            "marker": {
             "line": {
              "color": "#E5ECF6",
              "width": 0.5
             },
             "pattern": {
              "fillmode": "overlay",
              "size": 10,
              "solidity": 0.2
             }
            },
            "type": "barpolar"
           }
          ],
          "carpet": [
           {
            "aaxis": {
             "endlinecolor": "#2a3f5f",
             "gridcolor": "white",
             "linecolor": "white",
             "minorgridcolor": "white",
             "startlinecolor": "#2a3f5f"
            },
            "baxis": {
             "endlinecolor": "#2a3f5f",
             "gridcolor": "white",
             "linecolor": "white",
             "minorgridcolor": "white",
             "startlinecolor": "#2a3f5f"
            },
            "type": "carpet"
           }
          ],
          "choropleth": [
           {
            "colorbar": {
             "outlinewidth": 0,
             "ticks": ""
            },
            "type": "choropleth"
           }
          ],
          "contour": [
           {
            "colorbar": {
             "outlinewidth": 0,
             "ticks": ""
            },
            "colorscale": [
             [
              0,
              "#0d0887"
             ],
             [
              0.1111111111111111,
              "#46039f"
             ],
             [
              0.2222222222222222,
              "#7201a8"
             ],
             [
              0.3333333333333333,
              "#9c179e"
             ],
             [
              0.4444444444444444,
              "#bd3786"
             ],
             [
              0.5555555555555556,
              "#d8576b"
             ],
             [
              0.6666666666666666,
              "#ed7953"
             ],
             [
              0.7777777777777778,
              "#fb9f3a"
             ],
             [
              0.8888888888888888,
              "#fdca26"
             ],
             [
              1,
              "#f0f921"
             ]
            ],
            "type": "contour"
           }
          ],
          "contourcarpet": [
           {
            "colorbar": {
             "outlinewidth": 0,
             "ticks": ""
            },
            "type": "contourcarpet"
           }
          ],
          "heatmap": [
           {
            "colorbar": {
             "outlinewidth": 0,
             "ticks": ""
            },
            "colorscale": [
             [
              0,
              "#0d0887"
             ],
             [
              0.1111111111111111,
              "#46039f"
             ],
             [
              0.2222222222222222,
              "#7201a8"
             ],
             [
              0.3333333333333333,
              "#9c179e"
             ],
             [
              0.4444444444444444,
              "#bd3786"
             ],
             [
              0.5555555555555556,
              "#d8576b"
             ],
             [
              0.6666666666666666,
              "#ed7953"
             ],
             [
              0.7777777777777778,
              "#fb9f3a"
             ],
             [
              0.8888888888888888,
              "#fdca26"
             ],
             [
              1,
              "#f0f921"
             ]
            ],
            "type": "heatmap"
           }
          ],
          "heatmapgl": [
           {
            "colorbar": {
             "outlinewidth": 0,
             "ticks": ""
            },
            "colorscale": [
             [
              0,
              "#0d0887"
             ],
             [
              0.1111111111111111,
              "#46039f"
             ],
             [
              0.2222222222222222,
              "#7201a8"
             ],
             [
              0.3333333333333333,
              "#9c179e"
             ],
             [
              0.4444444444444444,
              "#bd3786"
             ],
             [
              0.5555555555555556,
              "#d8576b"
             ],
             [
              0.6666666666666666,
              "#ed7953"
             ],
             [
              0.7777777777777778,
              "#fb9f3a"
             ],
             [
              0.8888888888888888,
              "#fdca26"
             ],
             [
              1,
              "#f0f921"
             ]
            ],
            "type": "heatmapgl"
           }
          ],
          "histogram": [
           {
            "marker": {
             "pattern": {
              "fillmode": "overlay",
              "size": 10,
              "solidity": 0.2
             }
            },
            "type": "histogram"
           }
          ],
          "histogram2d": [
           {
            "colorbar": {
             "outlinewidth": 0,
             "ticks": ""
            },
            "colorscale": [
             [
              0,
              "#0d0887"
             ],
             [
              0.1111111111111111,
              "#46039f"
             ],
             [
              0.2222222222222222,
              "#7201a8"
             ],
             [
              0.3333333333333333,
              "#9c179e"
             ],
             [
              0.4444444444444444,
              "#bd3786"
             ],
             [
              0.5555555555555556,
              "#d8576b"
             ],
             [
              0.6666666666666666,
              "#ed7953"
             ],
             [
              0.7777777777777778,
              "#fb9f3a"
             ],
             [
              0.8888888888888888,
              "#fdca26"
             ],
             [
              1,
              "#f0f921"
             ]
            ],
            "type": "histogram2d"
           }
          ],
          "histogram2dcontour": [
           {
            "colorbar": {
             "outlinewidth": 0,
             "ticks": ""
            },
            "colorscale": [
             [
              0,
              "#0d0887"
             ],
             [
              0.1111111111111111,
              "#46039f"
             ],
             [
              0.2222222222222222,
              "#7201a8"
             ],
             [
              0.3333333333333333,
              "#9c179e"
             ],
             [
              0.4444444444444444,
              "#bd3786"
             ],
             [
              0.5555555555555556,
              "#d8576b"
             ],
             [
              0.6666666666666666,
              "#ed7953"
             ],
             [
              0.7777777777777778,
              "#fb9f3a"
             ],
             [
              0.8888888888888888,
              "#fdca26"
             ],
             [
              1,
              "#f0f921"
             ]
            ],
            "type": "histogram2dcontour"
           }
          ],
          "mesh3d": [
           {
            "colorbar": {
             "outlinewidth": 0,
             "ticks": ""
            },
            "type": "mesh3d"
           }
          ],
          "parcoords": [
           {
            "line": {
             "colorbar": {
              "outlinewidth": 0,
              "ticks": ""
             }
            },
            "type": "parcoords"
           }
          ],
          "pie": [
           {
            "automargin": true,
            "type": "pie"
           }
          ],
          "scatter": [
           {
            "fillpattern": {
             "fillmode": "overlay",
             "size": 10,
             "solidity": 0.2
            },
            "type": "scatter"
           }
          ],
          "scatter3d": [
           {
            "line": {
             "colorbar": {
              "outlinewidth": 0,
              "ticks": ""
             }
            },
            "marker": {
             "colorbar": {
              "outlinewidth": 0,
              "ticks": ""
             }
            },
            "type": "scatter3d"
           }
          ],
          "scattercarpet": [
           {
            "marker": {
             "colorbar": {
              "outlinewidth": 0,
              "ticks": ""
             }
            },
            "type": "scattercarpet"
           }
          ],
          "scattergeo": [
           {
            "marker": {
             "colorbar": {
              "outlinewidth": 0,
              "ticks": ""
             }
            },
            "type": "scattergeo"
           }
          ],
          "scattergl": [
           {
            "marker": {
             "colorbar": {
              "outlinewidth": 0,
              "ticks": ""
             }
            },
            "type": "scattergl"
           }
          ],
          "scattermapbox": [
           {
            "marker": {
             "colorbar": {
              "outlinewidth": 0,
              "ticks": ""
             }
            },
            "type": "scattermapbox"
           }
          ],
          "scatterpolar": [
           {
            "marker": {
             "colorbar": {
              "outlinewidth": 0,
              "ticks": ""
             }
            },
            "type": "scatterpolar"
           }
          ],
          "scatterpolargl": [
           {
            "marker": {
             "colorbar": {
              "outlinewidth": 0,
              "ticks": ""
             }
            },
            "type": "scatterpolargl"
           }
          ],
          "scatterternary": [
           {
            "marker": {
             "colorbar": {
              "outlinewidth": 0,
              "ticks": ""
             }
            },
            "type": "scatterternary"
           }
          ],
          "surface": [
           {
            "colorbar": {
             "outlinewidth": 0,
             "ticks": ""
            },
            "colorscale": [
             [
              0,
              "#0d0887"
             ],
             [
              0.1111111111111111,
              "#46039f"
             ],
             [
              0.2222222222222222,
              "#7201a8"
             ],
             [
              0.3333333333333333,
              "#9c179e"
             ],
             [
              0.4444444444444444,
              "#bd3786"
             ],
             [
              0.5555555555555556,
              "#d8576b"
             ],
             [
              0.6666666666666666,
              "#ed7953"
             ],
             [
              0.7777777777777778,
              "#fb9f3a"
             ],
             [
              0.8888888888888888,
              "#fdca26"
             ],
             [
              1,
              "#f0f921"
             ]
            ],
            "type": "surface"
           }
          ],
          "table": [
           {
            "cells": {
             "fill": {
              "color": "#EBF0F8"
             },
             "line": {
              "color": "white"
             }
            },
            "header": {
             "fill": {
              "color": "#C8D4E3"
             },
             "line": {
              "color": "white"
             }
            },
            "type": "table"
           }
          ]
         },
         "layout": {
          "annotationdefaults": {
           "arrowcolor": "#2a3f5f",
           "arrowhead": 0,
           "arrowwidth": 1
          },
          "autotypenumbers": "strict",
          "coloraxis": {
           "colorbar": {
            "outlinewidth": 0,
            "ticks": ""
           }
          },
          "colorscale": {
           "diverging": [
            [
             0,
             "#8e0152"
            ],
            [
             0.1,
             "#c51b7d"
            ],
            [
             0.2,
             "#de77ae"
            ],
            [
             0.3,
             "#f1b6da"
            ],
            [
             0.4,
             "#fde0ef"
            ],
            [
             0.5,
             "#f7f7f7"
            ],
            [
             0.6,
             "#e6f5d0"
            ],
            [
             0.7,
             "#b8e186"
            ],
            [
             0.8,
             "#7fbc41"
            ],
            [
             0.9,
             "#4d9221"
            ],
            [
             1,
             "#276419"
            ]
           ],
           "sequential": [
            [
             0,
             "#0d0887"
            ],
            [
             0.1111111111111111,
             "#46039f"
            ],
            [
             0.2222222222222222,
             "#7201a8"
            ],
            [
             0.3333333333333333,
             "#9c179e"
            ],
            [
             0.4444444444444444,
             "#bd3786"
            ],
            [
             0.5555555555555556,
             "#d8576b"
            ],
            [
             0.6666666666666666,
             "#ed7953"
            ],
            [
             0.7777777777777778,
             "#fb9f3a"
            ],
            [
             0.8888888888888888,
             "#fdca26"
            ],
            [
             1,
             "#f0f921"
            ]
           ],
           "sequentialminus": [
            [
             0,
             "#0d0887"
            ],
            [
             0.1111111111111111,
             "#46039f"
            ],
            [
             0.2222222222222222,
             "#7201a8"
            ],
            [
             0.3333333333333333,
             "#9c179e"
            ],
            [
             0.4444444444444444,
             "#bd3786"
            ],
            [
             0.5555555555555556,
             "#d8576b"
            ],
            [
             0.6666666666666666,
             "#ed7953"
            ],
            [
             0.7777777777777778,
             "#fb9f3a"
            ],
            [
             0.8888888888888888,
             "#fdca26"
            ],
            [
             1,
             "#f0f921"
            ]
           ]
          },
          "colorway": [
           "#636efa",
           "#EF553B",
           "#00cc96",
           "#ab63fa",
           "#FFA15A",
           "#19d3f3",
           "#FF6692",
           "#B6E880",
           "#FF97FF",
           "#FECB52"
          ],
          "font": {
           "color": "#2a3f5f"
          },
          "geo": {
           "bgcolor": "white",
           "lakecolor": "white",
           "landcolor": "#E5ECF6",
           "showlakes": true,
           "showland": true,
           "subunitcolor": "white"
          },
          "hoverlabel": {
           "align": "left"
          },
          "hovermode": "closest",
          "mapbox": {
           "style": "light"
          },
          "paper_bgcolor": "white",
          "plot_bgcolor": "#E5ECF6",
          "polar": {
           "angularaxis": {
            "gridcolor": "white",
            "linecolor": "white",
            "ticks": ""
           },
           "bgcolor": "#E5ECF6",
           "radialaxis": {
            "gridcolor": "white",
            "linecolor": "white",
            "ticks": ""
           }
          },
          "scene": {
           "xaxis": {
            "backgroundcolor": "#E5ECF6",
            "gridcolor": "white",
            "gridwidth": 2,
            "linecolor": "white",
            "showbackground": true,
            "ticks": "",
            "zerolinecolor": "white"
           },
           "yaxis": {
            "backgroundcolor": "#E5ECF6",
            "gridcolor": "white",
            "gridwidth": 2,
            "linecolor": "white",
            "showbackground": true,
            "ticks": "",
            "zerolinecolor": "white"
           },
           "zaxis": {
            "backgroundcolor": "#E5ECF6",
            "gridcolor": "white",
            "gridwidth": 2,
            "linecolor": "white",
            "showbackground": true,
            "ticks": "",
            "zerolinecolor": "white"
           }
          },
          "shapedefaults": {
           "line": {
            "color": "#2a3f5f"
           }
          },
          "ternary": {
           "aaxis": {
            "gridcolor": "white",
            "linecolor": "white",
            "ticks": ""
           },
           "baxis": {
            "gridcolor": "white",
            "linecolor": "white",
            "ticks": ""
           },
           "bgcolor": "#E5ECF6",
           "caxis": {
            "gridcolor": "white",
            "linecolor": "white",
            "ticks": ""
           }
          },
          "title": {
           "x": 0.05
          },
          "xaxis": {
           "automargin": true,
           "gridcolor": "white",
           "linecolor": "white",
           "ticks": "",
           "title": {
            "standoff": 15
           },
           "zerolinecolor": "white",
           "zerolinewidth": 2
          },
          "yaxis": {
           "automargin": true,
           "gridcolor": "white",
           "linecolor": "white",
           "ticks": "",
           "title": {
            "standoff": 15
           },
           "zerolinecolor": "white",
           "zerolinewidth": 2
          }
         }
        },
        "title": {
         "text": "3D Comparison for departement-01-ain"
        },
        "width": 800
       }
      }
     },
     "metadata": {},
     "output_type": "display_data"
    },
    {
     "data": {
      "application/vnd.plotly.v1+json": {
       "config": {
        "plotlyServerURL": "https://plot.ly"
       },
       "data": [
        {
         "line": {
          "color": "#636EFA",
          "width": 3
         },
         "marker": {
          "color": "#636EFA",
          "size": 8
         },
         "mode": "lines+markers",
         "name": "fwi-mean-[5, 10.5, 21.5, 34.5]-5",
         "scene": "scene",
         "type": "scatter3d",
         "x": [
          0,
          0,
          0,
          0,
          0
         ],
         "y": [
          4,
          5,
          6,
          7,
          10
         ],
         "z": [
          0.06,
          0.1,
          0.09,
          0.15,
          0.41
         ]
        },
        {
         "line": {
          "color": "#EF553B",
          "width": 3
         },
         "marker": {
          "color": "#EF553B",
          "size": 8
         },
         "mode": "lines+markers",
         "name": "nbsinister-max-3-kmeans-5-Class-Dept-None-5",
         "scene": "scene",
         "type": "scatter3d",
         "x": [
          1,
          1,
          1,
          1,
          1
         ],
         "y": [
          4,
          5,
          6,
          7,
          10
         ],
         "z": [
          0.24,
          0.26,
          0.26,
          0.31,
          0.51
         ]
        },
        {
         "line": {
          "color": "#00CC96",
          "width": 3
         },
         "marker": {
          "color": "#00CC96",
          "size": 8
         },
         "mode": "lines+markers",
         "name": "nbsinister-max-1-kmeans-5-Class-Dept-None-5",
         "scene": "scene",
         "type": "scatter3d",
         "x": [
          2,
          2,
          2,
          2,
          2
         ],
         "y": [
          4,
          5,
          6,
          7,
          10
         ],
         "z": [
          0.43,
          0.44,
          0.44,
          0.49,
          0.67
         ]
        },
        {
         "line": {
          "color": "#AB63FA",
          "width": 3
         },
         "marker": {
          "color": "#AB63FA",
          "size": 8
         },
         "mode": "lines+markers",
         "name": "nbsinister-max-0-kmeans-5-Class-Dept-None-5",
         "scene": "scene",
         "type": "scatter3d",
         "x": [
          3,
          3,
          3,
          3,
          3
         ],
         "y": [
          4,
          5,
          6,
          7,
          10
         ],
         "z": [
          1,
          1,
          1,
          1,
          1
         ]
        },
        {
         "line": {
          "color": "#FFA15A",
          "width": 3
         },
         "marker": {
          "color": "#FFA15A",
          "size": 8
         },
         "mode": "lines+markers",
         "name": "risk-kmeans-5-Class-Dept-None-5",
         "scene": "scene",
         "type": "scatter3d",
         "x": [
          4,
          4,
          4,
          4,
          4
         ],
         "y": [
          4,
          5,
          6,
          7,
          10
         ],
         "z": [
          0.7,
          0.65,
          0.67,
          0.71,
          0.84
         ]
        },
        {
         "line": {
          "color": "#19D3F3",
          "width": 3
         },
         "marker": {
          "color": "#19D3F3",
          "size": 8
         },
         "mode": "lines+markers",
         "name": "risk-nbsinister-Robust-kmeans-5-Class-Dept-None-5",
         "scene": "scene",
         "type": "scatter3d",
         "x": [
          5,
          5,
          5,
          5,
          5
         ],
         "y": [
          4,
          5,
          6,
          7,
          10
         ],
         "z": [
          0.7,
          0.66,
          0.7,
          0.79,
          0.97
         ]
        }
       ],
       "layout": {
        "annotations": [
         {
          "font": {
           "size": 16
          },
          "showarrow": false,
          "text": "departement-25-doubs - iou_wildfire_or_pred_class",
          "x": 0.5,
          "xanchor": "center",
          "xref": "paper",
          "y": 1,
          "yanchor": "bottom",
          "yref": "paper"
         }
        ],
        "height": 900,
        "scene": {
         "domain": {
          "x": [
           0,
           1
          ],
          "y": [
           0,
           1
          ]
         },
         "xaxis": {
          "ticktext": [
           "fwi-mean-[5, 10.5, 21.5, 34.5]-5",
           "nbsinister-max-3-kmeans-5-Class-Dept-None-5",
           "nbsinister-max-1-kmeans-5-Class-Dept-None-5",
           "nbsinister-max-0-kmeans-5-Class-Dept-None-5",
           "risk-kmeans-5-Class-Dept-None-5",
           "risk-nbsinister-Robust-kmeans-5-Class-Dept-None-5"
          ],
          "tickvals": [
           0,
           1,
           2,
           3,
           4,
           5
          ],
          "title": {
           "text": "Model"
          }
         },
         "yaxis": {
          "title": {
           "text": "Scale"
          }
         },
         "zaxis": {
          "title": {
           "text": "iou_wildfire_or_pred_class"
          }
         }
        },
        "showlegend": true,
        "template": {
         "data": {
          "bar": [
           {
            "error_x": {
             "color": "#2a3f5f"
            },
            "error_y": {
             "color": "#2a3f5f"
            },
            "marker": {
             "line": {
              "color": "#E5ECF6",
              "width": 0.5
             },
             "pattern": {
              "fillmode": "overlay",
              "size": 10,
              "solidity": 0.2
             }
            },
            "type": "bar"
           }
          ],
          "barpolar": [
           {
            "marker": {
             "line": {
              "color": "#E5ECF6",
              "width": 0.5
             },
             "pattern": {
              "fillmode": "overlay",
              "size": 10,
              "solidity": 0.2
             }
            },
            "type": "barpolar"
           }
          ],
          "carpet": [
           {
            "aaxis": {
             "endlinecolor": "#2a3f5f",
             "gridcolor": "white",
             "linecolor": "white",
             "minorgridcolor": "white",
             "startlinecolor": "#2a3f5f"
            },
            "baxis": {
             "endlinecolor": "#2a3f5f",
             "gridcolor": "white",
             "linecolor": "white",
             "minorgridcolor": "white",
             "startlinecolor": "#2a3f5f"
            },
            "type": "carpet"
           }
          ],
          "choropleth": [
           {
            "colorbar": {
             "outlinewidth": 0,
             "ticks": ""
            },
            "type": "choropleth"
           }
          ],
          "contour": [
           {
            "colorbar": {
             "outlinewidth": 0,
             "ticks": ""
            },
            "colorscale": [
             [
              0,
              "#0d0887"
             ],
             [
              0.1111111111111111,
              "#46039f"
             ],
             [
              0.2222222222222222,
              "#7201a8"
             ],
             [
              0.3333333333333333,
              "#9c179e"
             ],
             [
              0.4444444444444444,
              "#bd3786"
             ],
             [
              0.5555555555555556,
              "#d8576b"
             ],
             [
              0.6666666666666666,
              "#ed7953"
             ],
             [
              0.7777777777777778,
              "#fb9f3a"
             ],
             [
              0.8888888888888888,
              "#fdca26"
             ],
             [
              1,
              "#f0f921"
             ]
            ],
            "type": "contour"
           }
          ],
          "contourcarpet": [
           {
            "colorbar": {
             "outlinewidth": 0,
             "ticks": ""
            },
            "type": "contourcarpet"
           }
          ],
          "heatmap": [
           {
            "colorbar": {
             "outlinewidth": 0,
             "ticks": ""
            },
            "colorscale": [
             [
              0,
              "#0d0887"
             ],
             [
              0.1111111111111111,
              "#46039f"
             ],
             [
              0.2222222222222222,
              "#7201a8"
             ],
             [
              0.3333333333333333,
              "#9c179e"
             ],
             [
              0.4444444444444444,
              "#bd3786"
             ],
             [
              0.5555555555555556,
              "#d8576b"
             ],
             [
              0.6666666666666666,
              "#ed7953"
             ],
             [
              0.7777777777777778,
              "#fb9f3a"
             ],
             [
              0.8888888888888888,
              "#fdca26"
             ],
             [
              1,
              "#f0f921"
             ]
            ],
            "type": "heatmap"
           }
          ],
          "heatmapgl": [
           {
            "colorbar": {
             "outlinewidth": 0,
             "ticks": ""
            },
            "colorscale": [
             [
              0,
              "#0d0887"
             ],
             [
              0.1111111111111111,
              "#46039f"
             ],
             [
              0.2222222222222222,
              "#7201a8"
             ],
             [
              0.3333333333333333,
              "#9c179e"
             ],
             [
              0.4444444444444444,
              "#bd3786"
             ],
             [
              0.5555555555555556,
              "#d8576b"
             ],
             [
              0.6666666666666666,
              "#ed7953"
             ],
             [
              0.7777777777777778,
              "#fb9f3a"
             ],
             [
              0.8888888888888888,
              "#fdca26"
             ],
             [
              1,
              "#f0f921"
             ]
            ],
            "type": "heatmapgl"
           }
          ],
          "histogram": [
           {
            "marker": {
             "pattern": {
              "fillmode": "overlay",
              "size": 10,
              "solidity": 0.2
             }
            },
            "type": "histogram"
           }
          ],
          "histogram2d": [
           {
            "colorbar": {
             "outlinewidth": 0,
             "ticks": ""
            },
            "colorscale": [
             [
              0,
              "#0d0887"
             ],
             [
              0.1111111111111111,
              "#46039f"
             ],
             [
              0.2222222222222222,
              "#7201a8"
             ],
             [
              0.3333333333333333,
              "#9c179e"
             ],
             [
              0.4444444444444444,
              "#bd3786"
             ],
             [
              0.5555555555555556,
              "#d8576b"
             ],
             [
              0.6666666666666666,
              "#ed7953"
             ],
             [
              0.7777777777777778,
              "#fb9f3a"
             ],
             [
              0.8888888888888888,
              "#fdca26"
             ],
             [
              1,
              "#f0f921"
             ]
            ],
            "type": "histogram2d"
           }
          ],
          "histogram2dcontour": [
           {
            "colorbar": {
             "outlinewidth": 0,
             "ticks": ""
            },
            "colorscale": [
             [
              0,
              "#0d0887"
             ],
             [
              0.1111111111111111,
              "#46039f"
             ],
             [
              0.2222222222222222,
              "#7201a8"
             ],
             [
              0.3333333333333333,
              "#9c179e"
             ],
             [
              0.4444444444444444,
              "#bd3786"
             ],
             [
              0.5555555555555556,
              "#d8576b"
             ],
             [
              0.6666666666666666,
              "#ed7953"
             ],
             [
              0.7777777777777778,
              "#fb9f3a"
             ],
             [
              0.8888888888888888,
              "#fdca26"
             ],
             [
              1,
              "#f0f921"
             ]
            ],
            "type": "histogram2dcontour"
           }
          ],
          "mesh3d": [
           {
            "colorbar": {
             "outlinewidth": 0,
             "ticks": ""
            },
            "type": "mesh3d"
           }
          ],
          "parcoords": [
           {
            "line": {
             "colorbar": {
              "outlinewidth": 0,
              "ticks": ""
             }
            },
            "type": "parcoords"
           }
          ],
          "pie": [
           {
            "automargin": true,
            "type": "pie"
           }
          ],
          "scatter": [
           {
            "fillpattern": {
             "fillmode": "overlay",
             "size": 10,
             "solidity": 0.2
            },
            "type": "scatter"
           }
          ],
          "scatter3d": [
           {
            "line": {
             "colorbar": {
              "outlinewidth": 0,
              "ticks": ""
             }
            },
            "marker": {
             "colorbar": {
              "outlinewidth": 0,
              "ticks": ""
             }
            },
            "type": "scatter3d"
           }
          ],
          "scattercarpet": [
           {
            "marker": {
             "colorbar": {
              "outlinewidth": 0,
              "ticks": ""
             }
            },
            "type": "scattercarpet"
           }
          ],
          "scattergeo": [
           {
            "marker": {
             "colorbar": {
              "outlinewidth": 0,
              "ticks": ""
             }
            },
            "type": "scattergeo"
           }
          ],
          "scattergl": [
           {
            "marker": {
             "colorbar": {
              "outlinewidth": 0,
              "ticks": ""
             }
            },
            "type": "scattergl"
           }
          ],
          "scattermapbox": [
           {
            "marker": {
             "colorbar": {
              "outlinewidth": 0,
              "ticks": ""
             }
            },
            "type": "scattermapbox"
           }
          ],
          "scatterpolar": [
           {
            "marker": {
             "colorbar": {
              "outlinewidth": 0,
              "ticks": ""
             }
            },
            "type": "scatterpolar"
           }
          ],
          "scatterpolargl": [
           {
            "marker": {
             "colorbar": {
              "outlinewidth": 0,
              "ticks": ""
             }
            },
            "type": "scatterpolargl"
           }
          ],
          "scatterternary": [
           {
            "marker": {
             "colorbar": {
              "outlinewidth": 0,
              "ticks": ""
             }
            },
            "type": "scatterternary"
           }
          ],
          "surface": [
           {
            "colorbar": {
             "outlinewidth": 0,
             "ticks": ""
            },
            "colorscale": [
             [
              0,
              "#0d0887"
             ],
             [
              0.1111111111111111,
              "#46039f"
             ],
             [
              0.2222222222222222,
              "#7201a8"
             ],
             [
              0.3333333333333333,
              "#9c179e"
             ],
             [
              0.4444444444444444,
              "#bd3786"
             ],
             [
              0.5555555555555556,
              "#d8576b"
             ],
             [
              0.6666666666666666,
              "#ed7953"
             ],
             [
              0.7777777777777778,
              "#fb9f3a"
             ],
             [
              0.8888888888888888,
              "#fdca26"
             ],
             [
              1,
              "#f0f921"
             ]
            ],
            "type": "surface"
           }
          ],
          "table": [
           {
            "cells": {
             "fill": {
              "color": "#EBF0F8"
             },
             "line": {
              "color": "white"
             }
            },
            "header": {
             "fill": {
              "color": "#C8D4E3"
             },
             "line": {
              "color": "white"
             }
            },
            "type": "table"
           }
          ]
         },
         "layout": {
          "annotationdefaults": {
           "arrowcolor": "#2a3f5f",
           "arrowhead": 0,
           "arrowwidth": 1
          },
          "autotypenumbers": "strict",
          "coloraxis": {
           "colorbar": {
            "outlinewidth": 0,
            "ticks": ""
           }
          },
          "colorscale": {
           "diverging": [
            [
             0,
             "#8e0152"
            ],
            [
             0.1,
             "#c51b7d"
            ],
            [
             0.2,
             "#de77ae"
            ],
            [
             0.3,
             "#f1b6da"
            ],
            [
             0.4,
             "#fde0ef"
            ],
            [
             0.5,
             "#f7f7f7"
            ],
            [
             0.6,
             "#e6f5d0"
            ],
            [
             0.7,
             "#b8e186"
            ],
            [
             0.8,
             "#7fbc41"
            ],
            [
             0.9,
             "#4d9221"
            ],
            [
             1,
             "#276419"
            ]
           ],
           "sequential": [
            [
             0,
             "#0d0887"
            ],
            [
             0.1111111111111111,
             "#46039f"
            ],
            [
             0.2222222222222222,
             "#7201a8"
            ],
            [
             0.3333333333333333,
             "#9c179e"
            ],
            [
             0.4444444444444444,
             "#bd3786"
            ],
            [
             0.5555555555555556,
             "#d8576b"
            ],
            [
             0.6666666666666666,
             "#ed7953"
            ],
            [
             0.7777777777777778,
             "#fb9f3a"
            ],
            [
             0.8888888888888888,
             "#fdca26"
            ],
            [
             1,
             "#f0f921"
            ]
           ],
           "sequentialminus": [
            [
             0,
             "#0d0887"
            ],
            [
             0.1111111111111111,
             "#46039f"
            ],
            [
             0.2222222222222222,
             "#7201a8"
            ],
            [
             0.3333333333333333,
             "#9c179e"
            ],
            [
             0.4444444444444444,
             "#bd3786"
            ],
            [
             0.5555555555555556,
             "#d8576b"
            ],
            [
             0.6666666666666666,
             "#ed7953"
            ],
            [
             0.7777777777777778,
             "#fb9f3a"
            ],
            [
             0.8888888888888888,
             "#fdca26"
            ],
            [
             1,
             "#f0f921"
            ]
           ]
          },
          "colorway": [
           "#636efa",
           "#EF553B",
           "#00cc96",
           "#ab63fa",
           "#FFA15A",
           "#19d3f3",
           "#FF6692",
           "#B6E880",
           "#FF97FF",
           "#FECB52"
          ],
          "font": {
           "color": "#2a3f5f"
          },
          "geo": {
           "bgcolor": "white",
           "lakecolor": "white",
           "landcolor": "#E5ECF6",
           "showlakes": true,
           "showland": true,
           "subunitcolor": "white"
          },
          "hoverlabel": {
           "align": "left"
          },
          "hovermode": "closest",
          "mapbox": {
           "style": "light"
          },
          "paper_bgcolor": "white",
          "plot_bgcolor": "#E5ECF6",
          "polar": {
           "angularaxis": {
            "gridcolor": "white",
            "linecolor": "white",
            "ticks": ""
           },
           "bgcolor": "#E5ECF6",
           "radialaxis": {
            "gridcolor": "white",
            "linecolor": "white",
            "ticks": ""
           }
          },
          "scene": {
           "xaxis": {
            "backgroundcolor": "#E5ECF6",
            "gridcolor": "white",
            "gridwidth": 2,
            "linecolor": "white",
            "showbackground": true,
            "ticks": "",
            "zerolinecolor": "white"
           },
           "yaxis": {
            "backgroundcolor": "#E5ECF6",
            "gridcolor": "white",
            "gridwidth": 2,
            "linecolor": "white",
            "showbackground": true,
            "ticks": "",
            "zerolinecolor": "white"
           },
           "zaxis": {
            "backgroundcolor": "#E5ECF6",
            "gridcolor": "white",
            "gridwidth": 2,
            "linecolor": "white",
            "showbackground": true,
            "ticks": "",
            "zerolinecolor": "white"
           }
          },
          "shapedefaults": {
           "line": {
            "color": "#2a3f5f"
           }
          },
          "ternary": {
           "aaxis": {
            "gridcolor": "white",
            "linecolor": "white",
            "ticks": ""
           },
           "baxis": {
            "gridcolor": "white",
            "linecolor": "white",
            "ticks": ""
           },
           "bgcolor": "#E5ECF6",
           "caxis": {
            "gridcolor": "white",
            "linecolor": "white",
            "ticks": ""
           }
          },
          "title": {
           "x": 0.05
          },
          "xaxis": {
           "automargin": true,
           "gridcolor": "white",
           "linecolor": "white",
           "ticks": "",
           "title": {
            "standoff": 15
           },
           "zerolinecolor": "white",
           "zerolinewidth": 2
          },
          "yaxis": {
           "automargin": true,
           "gridcolor": "white",
           "linecolor": "white",
           "ticks": "",
           "title": {
            "standoff": 15
           },
           "zerolinecolor": "white",
           "zerolinewidth": 2
          }
         }
        },
        "title": {
         "text": "3D Comparison for departement-25-doubs"
        },
        "width": 800
       }
      }
     },
     "metadata": {},
     "output_type": "display_data"
    },
    {
     "data": {
      "application/vnd.plotly.v1+json": {
       "config": {
        "plotlyServerURL": "https://plot.ly"
       },
       "data": [
        {
         "line": {
          "color": "#636EFA",
          "width": 3
         },
         "marker": {
          "color": "#636EFA",
          "size": 8
         },
         "mode": "lines+markers",
         "name": "fwi-mean-[5, 10.5, 21.5, 34.5]-5",
         "scene": "scene",
         "type": "scatter3d",
         "x": [
          0,
          0,
          0,
          0,
          0
         ],
         "y": [
          4,
          5,
          6,
          7,
          10
         ],
         "z": [
          0.11,
          0.18,
          0.18,
          0.26,
          0.4
         ]
        },
        {
         "line": {
          "color": "#EF553B",
          "width": 3
         },
         "marker": {
          "color": "#EF553B",
          "size": 8
         },
         "mode": "lines+markers",
         "name": "nbsinister-max-3-kmeans-5-Class-Dept-None-5",
         "scene": "scene",
         "type": "scatter3d",
         "x": [
          1,
          1,
          1,
          1,
          1
         ],
         "y": [
          4,
          5,
          6,
          7,
          10
         ],
         "z": [
          0.3,
          0.39,
          0.39,
          0.43,
          0.56
         ]
        },
        {
         "line": {
          "color": "#00CC96",
          "width": 3
         },
         "marker": {
          "color": "#00CC96",
          "size": 8
         },
         "mode": "lines+markers",
         "name": "nbsinister-max-1-kmeans-5-Class-Dept-None-5",
         "scene": "scene",
         "type": "scatter3d",
         "x": [
          2,
          2,
          2,
          2,
          2
         ],
         "y": [
          4,
          5,
          6,
          7,
          10
         ],
         "z": [
          0.48,
          0.55,
          0.55,
          0.58,
          0.66
         ]
        },
        {
         "line": {
          "color": "#AB63FA",
          "width": 3
         },
         "marker": {
          "color": "#AB63FA",
          "size": 8
         },
         "mode": "lines+markers",
         "name": "nbsinister-max-0-kmeans-5-Class-Dept-None-5",
         "scene": "scene",
         "type": "scatter3d",
         "x": [
          3,
          3,
          3,
          3,
          3
         ],
         "y": [
          4,
          5,
          6,
          7,
          10
         ],
         "z": [
          1,
          1,
          1,
          1,
          1
         ]
        },
        {
         "line": {
          "color": "#FFA15A",
          "width": 3
         },
         "marker": {
          "color": "#FFA15A",
          "size": 8
         },
         "mode": "lines+markers",
         "name": "risk-kmeans-5-Class-Dept-None-5",
         "scene": "scene",
         "type": "scatter3d",
         "x": [
          4,
          4,
          4,
          4,
          4
         ],
         "y": [
          4,
          5,
          6,
          7,
          10
         ],
         "z": [
          0.6,
          0.67,
          0.67,
          0.74,
          0.8
         ]
        },
        {
         "line": {
          "color": "#19D3F3",
          "width": 3
         },
         "marker": {
          "color": "#19D3F3",
          "size": 8
         },
         "mode": "lines+markers",
         "name": "risk-nbsinister-Robust-kmeans-5-Class-Dept-None-5",
         "scene": "scene",
         "type": "scatter3d",
         "x": [
          5,
          5,
          5,
          5,
          5
         ],
         "y": [
          4,
          5,
          6,
          7,
          10
         ],
         "z": [
          0.66,
          0.85,
          0.84,
          0.95,
          0.97
         ]
        }
       ],
       "layout": {
        "annotations": [
         {
          "font": {
           "size": 16
          },
          "showarrow": false,
          "text": "departement-78-yvelines - iou_wildfire_or_pred_class",
          "x": 0.5,
          "xanchor": "center",
          "xref": "paper",
          "y": 1,
          "yanchor": "bottom",
          "yref": "paper"
         }
        ],
        "height": 900,
        "scene": {
         "domain": {
          "x": [
           0,
           1
          ],
          "y": [
           0,
           1
          ]
         },
         "xaxis": {
          "ticktext": [
           "fwi-mean-[5, 10.5, 21.5, 34.5]-5",
           "nbsinister-max-3-kmeans-5-Class-Dept-None-5",
           "nbsinister-max-1-kmeans-5-Class-Dept-None-5",
           "nbsinister-max-0-kmeans-5-Class-Dept-None-5",
           "risk-kmeans-5-Class-Dept-None-5",
           "risk-nbsinister-Robust-kmeans-5-Class-Dept-None-5"
          ],
          "tickvals": [
           0,
           1,
           2,
           3,
           4,
           5
          ],
          "title": {
           "text": "Model"
          }
         },
         "yaxis": {
          "title": {
           "text": "Scale"
          }
         },
         "zaxis": {
          "title": {
           "text": "iou_wildfire_or_pred_class"
          }
         }
        },
        "showlegend": true,
        "template": {
         "data": {
          "bar": [
           {
            "error_x": {
             "color": "#2a3f5f"
            },
            "error_y": {
             "color": "#2a3f5f"
            },
            "marker": {
             "line": {
              "color": "#E5ECF6",
              "width": 0.5
             },
             "pattern": {
              "fillmode": "overlay",
              "size": 10,
              "solidity": 0.2
             }
            },
            "type": "bar"
           }
          ],
          "barpolar": [
           {
            "marker": {
             "line": {
              "color": "#E5ECF6",
              "width": 0.5
             },
             "pattern": {
              "fillmode": "overlay",
              "size": 10,
              "solidity": 0.2
             }
            },
            "type": "barpolar"
           }
          ],
          "carpet": [
           {
            "aaxis": {
             "endlinecolor": "#2a3f5f",
             "gridcolor": "white",
             "linecolor": "white",
             "minorgridcolor": "white",
             "startlinecolor": "#2a3f5f"
            },
            "baxis": {
             "endlinecolor": "#2a3f5f",
             "gridcolor": "white",
             "linecolor": "white",
             "minorgridcolor": "white",
             "startlinecolor": "#2a3f5f"
            },
            "type": "carpet"
           }
          ],
          "choropleth": [
           {
            "colorbar": {
             "outlinewidth": 0,
             "ticks": ""
            },
            "type": "choropleth"
           }
          ],
          "contour": [
           {
            "colorbar": {
             "outlinewidth": 0,
             "ticks": ""
            },
            "colorscale": [
             [
              0,
              "#0d0887"
             ],
             [
              0.1111111111111111,
              "#46039f"
             ],
             [
              0.2222222222222222,
              "#7201a8"
             ],
             [
              0.3333333333333333,
              "#9c179e"
             ],
             [
              0.4444444444444444,
              "#bd3786"
             ],
             [
              0.5555555555555556,
              "#d8576b"
             ],
             [
              0.6666666666666666,
              "#ed7953"
             ],
             [
              0.7777777777777778,
              "#fb9f3a"
             ],
             [
              0.8888888888888888,
              "#fdca26"
             ],
             [
              1,
              "#f0f921"
             ]
            ],
            "type": "contour"
           }
          ],
          "contourcarpet": [
           {
            "colorbar": {
             "outlinewidth": 0,
             "ticks": ""
            },
            "type": "contourcarpet"
           }
          ],
          "heatmap": [
           {
            "colorbar": {
             "outlinewidth": 0,
             "ticks": ""
            },
            "colorscale": [
             [
              0,
              "#0d0887"
             ],
             [
              0.1111111111111111,
              "#46039f"
             ],
             [
              0.2222222222222222,
              "#7201a8"
             ],
             [
              0.3333333333333333,
              "#9c179e"
             ],
             [
              0.4444444444444444,
              "#bd3786"
             ],
             [
              0.5555555555555556,
              "#d8576b"
             ],
             [
              0.6666666666666666,
              "#ed7953"
             ],
             [
              0.7777777777777778,
              "#fb9f3a"
             ],
             [
              0.8888888888888888,
              "#fdca26"
             ],
             [
              1,
              "#f0f921"
             ]
            ],
            "type": "heatmap"
           }
          ],
          "heatmapgl": [
           {
            "colorbar": {
             "outlinewidth": 0,
             "ticks": ""
            },
            "colorscale": [
             [
              0,
              "#0d0887"
             ],
             [
              0.1111111111111111,
              "#46039f"
             ],
             [
              0.2222222222222222,
              "#7201a8"
             ],
             [
              0.3333333333333333,
              "#9c179e"
             ],
             [
              0.4444444444444444,
              "#bd3786"
             ],
             [
              0.5555555555555556,
              "#d8576b"
             ],
             [
              0.6666666666666666,
              "#ed7953"
             ],
             [
              0.7777777777777778,
              "#fb9f3a"
             ],
             [
              0.8888888888888888,
              "#fdca26"
             ],
             [
              1,
              "#f0f921"
             ]
            ],
            "type": "heatmapgl"
           }
          ],
          "histogram": [
           {
            "marker": {
             "pattern": {
              "fillmode": "overlay",
              "size": 10,
              "solidity": 0.2
             }
            },
            "type": "histogram"
           }
          ],
          "histogram2d": [
           {
            "colorbar": {
             "outlinewidth": 0,
             "ticks": ""
            },
            "colorscale": [
             [
              0,
              "#0d0887"
             ],
             [
              0.1111111111111111,
              "#46039f"
             ],
             [
              0.2222222222222222,
              "#7201a8"
             ],
             [
              0.3333333333333333,
              "#9c179e"
             ],
             [
              0.4444444444444444,
              "#bd3786"
             ],
             [
              0.5555555555555556,
              "#d8576b"
             ],
             [
              0.6666666666666666,
              "#ed7953"
             ],
             [
              0.7777777777777778,
              "#fb9f3a"
             ],
             [
              0.8888888888888888,
              "#fdca26"
             ],
             [
              1,
              "#f0f921"
             ]
            ],
            "type": "histogram2d"
           }
          ],
          "histogram2dcontour": [
           {
            "colorbar": {
             "outlinewidth": 0,
             "ticks": ""
            },
            "colorscale": [
             [
              0,
              "#0d0887"
             ],
             [
              0.1111111111111111,
              "#46039f"
             ],
             [
              0.2222222222222222,
              "#7201a8"
             ],
             [
              0.3333333333333333,
              "#9c179e"
             ],
             [
              0.4444444444444444,
              "#bd3786"
             ],
             [
              0.5555555555555556,
              "#d8576b"
             ],
             [
              0.6666666666666666,
              "#ed7953"
             ],
             [
              0.7777777777777778,
              "#fb9f3a"
             ],
             [
              0.8888888888888888,
              "#fdca26"
             ],
             [
              1,
              "#f0f921"
             ]
            ],
            "type": "histogram2dcontour"
           }
          ],
          "mesh3d": [
           {
            "colorbar": {
             "outlinewidth": 0,
             "ticks": ""
            },
            "type": "mesh3d"
           }
          ],
          "parcoords": [
           {
            "line": {
             "colorbar": {
              "outlinewidth": 0,
              "ticks": ""
             }
            },
            "type": "parcoords"
           }
          ],
          "pie": [
           {
            "automargin": true,
            "type": "pie"
           }
          ],
          "scatter": [
           {
            "fillpattern": {
             "fillmode": "overlay",
             "size": 10,
             "solidity": 0.2
            },
            "type": "scatter"
           }
          ],
          "scatter3d": [
           {
            "line": {
             "colorbar": {
              "outlinewidth": 0,
              "ticks": ""
             }
            },
            "marker": {
             "colorbar": {
              "outlinewidth": 0,
              "ticks": ""
             }
            },
            "type": "scatter3d"
           }
          ],
          "scattercarpet": [
           {
            "marker": {
             "colorbar": {
              "outlinewidth": 0,
              "ticks": ""
             }
            },
            "type": "scattercarpet"
           }
          ],
          "scattergeo": [
           {
            "marker": {
             "colorbar": {
              "outlinewidth": 0,
              "ticks": ""
             }
            },
            "type": "scattergeo"
           }
          ],
          "scattergl": [
           {
            "marker": {
             "colorbar": {
              "outlinewidth": 0,
              "ticks": ""
             }
            },
            "type": "scattergl"
           }
          ],
          "scattermapbox": [
           {
            "marker": {
             "colorbar": {
              "outlinewidth": 0,
              "ticks": ""
             }
            },
            "type": "scattermapbox"
           }
          ],
          "scatterpolar": [
           {
            "marker": {
             "colorbar": {
              "outlinewidth": 0,
              "ticks": ""
             }
            },
            "type": "scatterpolar"
           }
          ],
          "scatterpolargl": [
           {
            "marker": {
             "colorbar": {
              "outlinewidth": 0,
              "ticks": ""
             }
            },
            "type": "scatterpolargl"
           }
          ],
          "scatterternary": [
           {
            "marker": {
             "colorbar": {
              "outlinewidth": 0,
              "ticks": ""
             }
            },
            "type": "scatterternary"
           }
          ],
          "surface": [
           {
            "colorbar": {
             "outlinewidth": 0,
             "ticks": ""
            },
            "colorscale": [
             [
              0,
              "#0d0887"
             ],
             [
              0.1111111111111111,
              "#46039f"
             ],
             [
              0.2222222222222222,
              "#7201a8"
             ],
             [
              0.3333333333333333,
              "#9c179e"
             ],
             [
              0.4444444444444444,
              "#bd3786"
             ],
             [
              0.5555555555555556,
              "#d8576b"
             ],
             [
              0.6666666666666666,
              "#ed7953"
             ],
             [
              0.7777777777777778,
              "#fb9f3a"
             ],
             [
              0.8888888888888888,
              "#fdca26"
             ],
             [
              1,
              "#f0f921"
             ]
            ],
            "type": "surface"
           }
          ],
          "table": [
           {
            "cells": {
             "fill": {
              "color": "#EBF0F8"
             },
             "line": {
              "color": "white"
             }
            },
            "header": {
             "fill": {
              "color": "#C8D4E3"
             },
             "line": {
              "color": "white"
             }
            },
            "type": "table"
           }
          ]
         },
         "layout": {
          "annotationdefaults": {
           "arrowcolor": "#2a3f5f",
           "arrowhead": 0,
           "arrowwidth": 1
          },
          "autotypenumbers": "strict",
          "coloraxis": {
           "colorbar": {
            "outlinewidth": 0,
            "ticks": ""
           }
          },
          "colorscale": {
           "diverging": [
            [
             0,
             "#8e0152"
            ],
            [
             0.1,
             "#c51b7d"
            ],
            [
             0.2,
             "#de77ae"
            ],
            [
             0.3,
             "#f1b6da"
            ],
            [
             0.4,
             "#fde0ef"
            ],
            [
             0.5,
             "#f7f7f7"
            ],
            [
             0.6,
             "#e6f5d0"
            ],
            [
             0.7,
             "#b8e186"
            ],
            [
             0.8,
             "#7fbc41"
            ],
            [
             0.9,
             "#4d9221"
            ],
            [
             1,
             "#276419"
            ]
           ],
           "sequential": [
            [
             0,
             "#0d0887"
            ],
            [
             0.1111111111111111,
             "#46039f"
            ],
            [
             0.2222222222222222,
             "#7201a8"
            ],
            [
             0.3333333333333333,
             "#9c179e"
            ],
            [
             0.4444444444444444,
             "#bd3786"
            ],
            [
             0.5555555555555556,
             "#d8576b"
            ],
            [
             0.6666666666666666,
             "#ed7953"
            ],
            [
             0.7777777777777778,
             "#fb9f3a"
            ],
            [
             0.8888888888888888,
             "#fdca26"
            ],
            [
             1,
             "#f0f921"
            ]
           ],
           "sequentialminus": [
            [
             0,
             "#0d0887"
            ],
            [
             0.1111111111111111,
             "#46039f"
            ],
            [
             0.2222222222222222,
             "#7201a8"
            ],
            [
             0.3333333333333333,
             "#9c179e"
            ],
            [
             0.4444444444444444,
             "#bd3786"
            ],
            [
             0.5555555555555556,
             "#d8576b"
            ],
            [
             0.6666666666666666,
             "#ed7953"
            ],
            [
             0.7777777777777778,
             "#fb9f3a"
            ],
            [
             0.8888888888888888,
             "#fdca26"
            ],
            [
             1,
             "#f0f921"
            ]
           ]
          },
          "colorway": [
           "#636efa",
           "#EF553B",
           "#00cc96",
           "#ab63fa",
           "#FFA15A",
           "#19d3f3",
           "#FF6692",
           "#B6E880",
           "#FF97FF",
           "#FECB52"
          ],
          "font": {
           "color": "#2a3f5f"
          },
          "geo": {
           "bgcolor": "white",
           "lakecolor": "white",
           "landcolor": "#E5ECF6",
           "showlakes": true,
           "showland": true,
           "subunitcolor": "white"
          },
          "hoverlabel": {
           "align": "left"
          },
          "hovermode": "closest",
          "mapbox": {
           "style": "light"
          },
          "paper_bgcolor": "white",
          "plot_bgcolor": "#E5ECF6",
          "polar": {
           "angularaxis": {
            "gridcolor": "white",
            "linecolor": "white",
            "ticks": ""
           },
           "bgcolor": "#E5ECF6",
           "radialaxis": {
            "gridcolor": "white",
            "linecolor": "white",
            "ticks": ""
           }
          },
          "scene": {
           "xaxis": {
            "backgroundcolor": "#E5ECF6",
            "gridcolor": "white",
            "gridwidth": 2,
            "linecolor": "white",
            "showbackground": true,
            "ticks": "",
            "zerolinecolor": "white"
           },
           "yaxis": {
            "backgroundcolor": "#E5ECF6",
            "gridcolor": "white",
            "gridwidth": 2,
            "linecolor": "white",
            "showbackground": true,
            "ticks": "",
            "zerolinecolor": "white"
           },
           "zaxis": {
            "backgroundcolor": "#E5ECF6",
            "gridcolor": "white",
            "gridwidth": 2,
            "linecolor": "white",
            "showbackground": true,
            "ticks": "",
            "zerolinecolor": "white"
           }
          },
          "shapedefaults": {
           "line": {
            "color": "#2a3f5f"
           }
          },
          "ternary": {
           "aaxis": {
            "gridcolor": "white",
            "linecolor": "white",
            "ticks": ""
           },
           "baxis": {
            "gridcolor": "white",
            "linecolor": "white",
            "ticks": ""
           },
           "bgcolor": "#E5ECF6",
           "caxis": {
            "gridcolor": "white",
            "linecolor": "white",
            "ticks": ""
           }
          },
          "title": {
           "x": 0.05
          },
          "xaxis": {
           "automargin": true,
           "gridcolor": "white",
           "linecolor": "white",
           "ticks": "",
           "title": {
            "standoff": 15
           },
           "zerolinecolor": "white",
           "zerolinewidth": 2
          },
          "yaxis": {
           "automargin": true,
           "gridcolor": "white",
           "linecolor": "white",
           "ticks": "",
           "title": {
            "standoff": 15
           },
           "zerolinecolor": "white",
           "zerolinewidth": 2
          }
         }
        },
        "title": {
         "text": "3D Comparison for departement-78-yvelines"
        },
        "width": 800
       }
      }
     },
     "metadata": {},
     "output_type": "display_data"
    }
   ],
   "source": [
    "compare_models_2d(df, df.Department.unique(), dept_markers, ['iou_wildfire_or_pred_class'],  'Model', 'Scale', 'Model')"
   ]
  },
  {
   "cell_type": "code",
   "execution_count": 120,
   "metadata": {},
   "outputs": [
    {
     "data": {
      "application/vnd.plotly.v1+json": {
       "config": {
        "plotlyServerURL": "https://plot.ly"
       },
       "data": [
        {
         "line": {
          "color": "#636EFA",
          "width": 3
         },
         "marker": {
          "color": "#636EFA",
          "size": 8
         },
         "mode": "lines+markers",
         "name": "fwi-mean-[5, 10.5, 21.5, 34.5]-5",
         "scene": "scene",
         "type": "scatter3d",
         "x": [
          0,
          0,
          0,
          0,
          0
         ],
         "y": [
          4,
          5,
          6,
          7,
          10
         ],
         "z": [
          0.1,
          0.12,
          0.14,
          0.15,
          0.25
         ]
        },
        {
         "line": {
          "color": "#EF553B",
          "width": 3
         },
         "marker": {
          "color": "#EF553B",
          "size": 8
         },
         "mode": "lines+markers",
         "name": "nbsinister-max-3-kmeans-5-Class-Dept-None-5",
         "scene": "scene",
         "type": "scatter3d",
         "x": [
          1,
          1,
          1,
          1,
          1
         ],
         "y": [
          4,
          5,
          6,
          7,
          10
         ],
         "z": [
          0.19,
          0.2,
          0.22,
          0.23,
          0.4
         ]
        },
        {
         "line": {
          "color": "#00CC96",
          "width": 3
         },
         "marker": {
          "color": "#00CC96",
          "size": 8
         },
         "mode": "lines+markers",
         "name": "nbsinister-max-1-kmeans-5-Class-Dept-None-5",
         "scene": "scene",
         "type": "scatter3d",
         "x": [
          2,
          2,
          2,
          2,
          2
         ],
         "y": [
          4,
          5,
          6,
          7,
          10
         ],
         "z": [
          0.38,
          0.39,
          0.39,
          0.41,
          0.54
         ]
        },
        {
         "line": {
          "color": "#AB63FA",
          "width": 3
         },
         "marker": {
          "color": "#AB63FA",
          "size": 8
         },
         "mode": "lines+markers",
         "name": "nbsinister-max-0-kmeans-5-Class-Dept-None-5",
         "scene": "scene",
         "type": "scatter3d",
         "x": [
          3,
          3,
          3,
          3,
          3
         ],
         "y": [
          4,
          5,
          6,
          7,
          10
         ],
         "z": [
          1,
          1,
          1,
          1,
          1
         ]
        },
        {
         "line": {
          "color": "#FFA15A",
          "width": 3
         },
         "marker": {
          "color": "#FFA15A",
          "size": 8
         },
         "mode": "lines+markers",
         "name": "risk-kmeans-5-Class-Dept-None-5",
         "scene": "scene",
         "type": "scatter3d",
         "x": [
          4,
          4,
          4,
          4,
          4
         ],
         "y": [
          4,
          5,
          6,
          7,
          10
         ],
         "z": [
          0,
          0.25,
          0.46,
          0.5,
          0.58
         ]
        },
        {
         "line": {
          "color": "#19D3F3",
          "width": 3
         },
         "marker": {
          "color": "#19D3F3",
          "size": 8
         },
         "mode": "lines+markers",
         "name": "risk-nbsinister-Robust-kmeans-5-Class-Dept-None-5",
         "scene": "scene",
         "type": "scatter3d",
         "x": [
          5,
          5,
          5,
          5,
          5
         ],
         "y": [
          4,
          5,
          6,
          7,
          10
         ],
         "z": [
          0,
          0,
          0,
          1,
          0.33
         ]
        },
        {
         "line": {
          "color": "#636EFA",
          "width": 3
         },
         "marker": {
          "color": "#636EFA",
          "size": 8
         },
         "mode": "lines+markers",
         "name": "fwi-mean-[5, 10.5, 21.5, 34.5]-5",
         "scene": "scene2",
         "type": "scatter3d",
         "x": [
          0,
          0,
          0,
          0,
          0
         ],
         "y": [
          4,
          5,
          6,
          7,
          10
         ],
         "z": [
          0.11,
          0.13,
          0.19,
          0.19,
          0.46
         ]
        },
        {
         "line": {
          "color": "#EF553B",
          "width": 3
         },
         "marker": {
          "color": "#EF553B",
          "size": 8
         },
         "mode": "lines+markers",
         "name": "nbsinister-max-3-kmeans-5-Class-Dept-None-5",
         "scene": "scene2",
         "type": "scatter3d",
         "x": [
          1,
          1,
          1,
          1,
          1
         ],
         "y": [
          4,
          5,
          6,
          7,
          10
         ],
         "z": [
          0.31,
          0.33,
          0.4,
          0.43,
          0.65
         ]
        },
        {
         "line": {
          "color": "#00CC96",
          "width": 3
         },
         "marker": {
          "color": "#00CC96",
          "size": 8
         },
         "mode": "lines+markers",
         "name": "nbsinister-max-1-kmeans-5-Class-Dept-None-5",
         "scene": "scene2",
         "type": "scatter3d",
         "x": [
          2,
          2,
          2,
          2,
          2
         ],
         "y": [
          4,
          5,
          6,
          7,
          10
         ],
         "z": [
          0.54,
          0.55,
          0.59,
          0.63,
          0.74
         ]
        },
        {
         "line": {
          "color": "#AB63FA",
          "width": 3
         },
         "marker": {
          "color": "#AB63FA",
          "size": 8
         },
         "mode": "lines+markers",
         "name": "nbsinister-max-0-kmeans-5-Class-Dept-None-5",
         "scene": "scene2",
         "type": "scatter3d",
         "x": [
          3,
          3,
          3,
          3,
          3
         ],
         "y": [
          4,
          5,
          6,
          7,
          10
         ],
         "z": [
          1,
          1,
          1,
          1,
          1
         ]
        },
        {
         "line": {
          "color": "#FFA15A",
          "width": 3
         },
         "marker": {
          "color": "#FFA15A",
          "size": 8
         },
         "mode": "lines+markers",
         "name": "risk-kmeans-5-Class-Dept-None-5",
         "scene": "scene2",
         "type": "scatter3d",
         "x": [
          4,
          4,
          4,
          4,
          4
         ],
         "y": [
          4,
          5,
          6,
          7,
          10
         ],
         "z": [
          0.72,
          0.68,
          0.7,
          0.66,
          0.79
         ]
        },
        {
         "line": {
          "color": "#19D3F3",
          "width": 3
         },
         "marker": {
          "color": "#19D3F3",
          "size": 8
         },
         "mode": "lines+markers",
         "name": "risk-nbsinister-Robust-kmeans-5-Class-Dept-None-5",
         "scene": "scene2",
         "type": "scatter3d",
         "x": [
          5,
          5,
          5,
          5,
          5
         ],
         "y": [
          4,
          5,
          6,
          7,
          10
         ],
         "z": [
          0.81,
          0.89,
          1,
          0.38,
          0.77
         ]
        }
       ],
       "layout": {
        "annotations": [
         {
          "font": {
           "size": 16
          },
          "showarrow": false,
          "text": "departement-01-ain - iou_wildfire_or_pred_elt_1_class",
          "x": 0.225,
          "xanchor": "center",
          "xref": "paper",
          "y": 1,
          "yanchor": "bottom",
          "yref": "paper"
         },
         {
          "font": {
           "size": 16
          },
          "showarrow": false,
          "text": "departement-01-ain - iou_wildfire_or_pred_elt_2_class",
          "x": 0.775,
          "xanchor": "center",
          "xref": "paper",
          "y": 1,
          "yanchor": "bottom",
          "yref": "paper"
         }
        ],
        "height": 900,
        "scene": {
         "domain": {
          "x": [
           0,
           0.45
          ],
          "y": [
           0,
           1
          ]
         },
         "xaxis": {
          "ticktext": [
           "fwi-mean-[5, 10.5, 21.5, 34.5]-5",
           "nbsinister-max-3-kmeans-5-Class-Dept-None-5",
           "nbsinister-max-1-kmeans-5-Class-Dept-None-5",
           "nbsinister-max-0-kmeans-5-Class-Dept-None-5",
           "risk-kmeans-5-Class-Dept-None-5",
           "risk-nbsinister-Robust-kmeans-5-Class-Dept-None-5"
          ],
          "tickvals": [
           0,
           1,
           2,
           3,
           4,
           5
          ],
          "title": {
           "text": "Model"
          }
         },
         "yaxis": {
          "title": {
           "text": "Scale"
          }
         },
         "zaxis": {
          "title": {
           "text": "iou_wildfire_or_pred_elt_1_class"
          }
         }
        },
        "scene2": {
         "domain": {
          "x": [
           0.55,
           1
          ],
          "y": [
           0,
           1
          ]
         },
         "xaxis": {
          "ticktext": [
           "fwi-mean-[5, 10.5, 21.5, 34.5]-5",
           "nbsinister-max-3-kmeans-5-Class-Dept-None-5",
           "nbsinister-max-1-kmeans-5-Class-Dept-None-5",
           "nbsinister-max-0-kmeans-5-Class-Dept-None-5",
           "risk-kmeans-5-Class-Dept-None-5",
           "risk-nbsinister-Robust-kmeans-5-Class-Dept-None-5"
          ],
          "tickvals": [
           0,
           1,
           2,
           3,
           4,
           5
          ],
          "title": {
           "text": "Model"
          }
         },
         "yaxis": {
          "title": {
           "text": "Scale"
          }
         },
         "zaxis": {
          "title": {
           "text": "iou_wildfire_or_pred_elt_2_class"
          }
         }
        },
        "showlegend": true,
        "template": {
         "data": {
          "bar": [
           {
            "error_x": {
             "color": "#2a3f5f"
            },
            "error_y": {
             "color": "#2a3f5f"
            },
            "marker": {
             "line": {
              "color": "#E5ECF6",
              "width": 0.5
             },
             "pattern": {
              "fillmode": "overlay",
              "size": 10,
              "solidity": 0.2
             }
            },
            "type": "bar"
           }
          ],
          "barpolar": [
           {
            "marker": {
             "line": {
              "color": "#E5ECF6",
              "width": 0.5
             },
             "pattern": {
              "fillmode": "overlay",
              "size": 10,
              "solidity": 0.2
             }
            },
            "type": "barpolar"
           }
          ],
          "carpet": [
           {
            "aaxis": {
             "endlinecolor": "#2a3f5f",
             "gridcolor": "white",
             "linecolor": "white",
             "minorgridcolor": "white",
             "startlinecolor": "#2a3f5f"
            },
            "baxis": {
             "endlinecolor": "#2a3f5f",
             "gridcolor": "white",
             "linecolor": "white",
             "minorgridcolor": "white",
             "startlinecolor": "#2a3f5f"
            },
            "type": "carpet"
           }
          ],
          "choropleth": [
           {
            "colorbar": {
             "outlinewidth": 0,
             "ticks": ""
            },
            "type": "choropleth"
           }
          ],
          "contour": [
           {
            "colorbar": {
             "outlinewidth": 0,
             "ticks": ""
            },
            "colorscale": [
             [
              0,
              "#0d0887"
             ],
             [
              0.1111111111111111,
              "#46039f"
             ],
             [
              0.2222222222222222,
              "#7201a8"
             ],
             [
              0.3333333333333333,
              "#9c179e"
             ],
             [
              0.4444444444444444,
              "#bd3786"
             ],
             [
              0.5555555555555556,
              "#d8576b"
             ],
             [
              0.6666666666666666,
              "#ed7953"
             ],
             [
              0.7777777777777778,
              "#fb9f3a"
             ],
             [
              0.8888888888888888,
              "#fdca26"
             ],
             [
              1,
              "#f0f921"
             ]
            ],
            "type": "contour"
           }
          ],
          "contourcarpet": [
           {
            "colorbar": {
             "outlinewidth": 0,
             "ticks": ""
            },
            "type": "contourcarpet"
           }
          ],
          "heatmap": [
           {
            "colorbar": {
             "outlinewidth": 0,
             "ticks": ""
            },
            "colorscale": [
             [
              0,
              "#0d0887"
             ],
             [
              0.1111111111111111,
              "#46039f"
             ],
             [
              0.2222222222222222,
              "#7201a8"
             ],
             [
              0.3333333333333333,
              "#9c179e"
             ],
             [
              0.4444444444444444,
              "#bd3786"
             ],
             [
              0.5555555555555556,
              "#d8576b"
             ],
             [
              0.6666666666666666,
              "#ed7953"
             ],
             [
              0.7777777777777778,
              "#fb9f3a"
             ],
             [
              0.8888888888888888,
              "#fdca26"
             ],
             [
              1,
              "#f0f921"
             ]
            ],
            "type": "heatmap"
           }
          ],
          "heatmapgl": [
           {
            "colorbar": {
             "outlinewidth": 0,
             "ticks": ""
            },
            "colorscale": [
             [
              0,
              "#0d0887"
             ],
             [
              0.1111111111111111,
              "#46039f"
             ],
             [
              0.2222222222222222,
              "#7201a8"
             ],
             [
              0.3333333333333333,
              "#9c179e"
             ],
             [
              0.4444444444444444,
              "#bd3786"
             ],
             [
              0.5555555555555556,
              "#d8576b"
             ],
             [
              0.6666666666666666,
              "#ed7953"
             ],
             [
              0.7777777777777778,
              "#fb9f3a"
             ],
             [
              0.8888888888888888,
              "#fdca26"
             ],
             [
              1,
              "#f0f921"
             ]
            ],
            "type": "heatmapgl"
           }
          ],
          "histogram": [
           {
            "marker": {
             "pattern": {
              "fillmode": "overlay",
              "size": 10,
              "solidity": 0.2
             }
            },
            "type": "histogram"
           }
          ],
          "histogram2d": [
           {
            "colorbar": {
             "outlinewidth": 0,
             "ticks": ""
            },
            "colorscale": [
             [
              0,
              "#0d0887"
             ],
             [
              0.1111111111111111,
              "#46039f"
             ],
             [
              0.2222222222222222,
              "#7201a8"
             ],
             [
              0.3333333333333333,
              "#9c179e"
             ],
             [
              0.4444444444444444,
              "#bd3786"
             ],
             [
              0.5555555555555556,
              "#d8576b"
             ],
             [
              0.6666666666666666,
              "#ed7953"
             ],
             [
              0.7777777777777778,
              "#fb9f3a"
             ],
             [
              0.8888888888888888,
              "#fdca26"
             ],
             [
              1,
              "#f0f921"
             ]
            ],
            "type": "histogram2d"
           }
          ],
          "histogram2dcontour": [
           {
            "colorbar": {
             "outlinewidth": 0,
             "ticks": ""
            },
            "colorscale": [
             [
              0,
              "#0d0887"
             ],
             [
              0.1111111111111111,
              "#46039f"
             ],
             [
              0.2222222222222222,
              "#7201a8"
             ],
             [
              0.3333333333333333,
              "#9c179e"
             ],
             [
              0.4444444444444444,
              "#bd3786"
             ],
             [
              0.5555555555555556,
              "#d8576b"
             ],
             [
              0.6666666666666666,
              "#ed7953"
             ],
             [
              0.7777777777777778,
              "#fb9f3a"
             ],
             [
              0.8888888888888888,
              "#fdca26"
             ],
             [
              1,
              "#f0f921"
             ]
            ],
            "type": "histogram2dcontour"
           }
          ],
          "mesh3d": [
           {
            "colorbar": {
             "outlinewidth": 0,
             "ticks": ""
            },
            "type": "mesh3d"
           }
          ],
          "parcoords": [
           {
            "line": {
             "colorbar": {
              "outlinewidth": 0,
              "ticks": ""
             }
            },
            "type": "parcoords"
           }
          ],
          "pie": [
           {
            "automargin": true,
            "type": "pie"
           }
          ],
          "scatter": [
           {
            "fillpattern": {
             "fillmode": "overlay",
             "size": 10,
             "solidity": 0.2
            },
            "type": "scatter"
           }
          ],
          "scatter3d": [
           {
            "line": {
             "colorbar": {
              "outlinewidth": 0,
              "ticks": ""
             }
            },
            "marker": {
             "colorbar": {
              "outlinewidth": 0,
              "ticks": ""
             }
            },
            "type": "scatter3d"
           }
          ],
          "scattercarpet": [
           {
            "marker": {
             "colorbar": {
              "outlinewidth": 0,
              "ticks": ""
             }
            },
            "type": "scattercarpet"
           }
          ],
          "scattergeo": [
           {
            "marker": {
             "colorbar": {
              "outlinewidth": 0,
              "ticks": ""
             }
            },
            "type": "scattergeo"
           }
          ],
          "scattergl": [
           {
            "marker": {
             "colorbar": {
              "outlinewidth": 0,
              "ticks": ""
             }
            },
            "type": "scattergl"
           }
          ],
          "scattermapbox": [
           {
            "marker": {
             "colorbar": {
              "outlinewidth": 0,
              "ticks": ""
             }
            },
            "type": "scattermapbox"
           }
          ],
          "scatterpolar": [
           {
            "marker": {
             "colorbar": {
              "outlinewidth": 0,
              "ticks": ""
             }
            },
            "type": "scatterpolar"
           }
          ],
          "scatterpolargl": [
           {
            "marker": {
             "colorbar": {
              "outlinewidth": 0,
              "ticks": ""
             }
            },
            "type": "scatterpolargl"
           }
          ],
          "scatterternary": [
           {
            "marker": {
             "colorbar": {
              "outlinewidth": 0,
              "ticks": ""
             }
            },
            "type": "scatterternary"
           }
          ],
          "surface": [
           {
            "colorbar": {
             "outlinewidth": 0,
             "ticks": ""
            },
            "colorscale": [
             [
              0,
              "#0d0887"
             ],
             [
              0.1111111111111111,
              "#46039f"
             ],
             [
              0.2222222222222222,
              "#7201a8"
             ],
             [
              0.3333333333333333,
              "#9c179e"
             ],
             [
              0.4444444444444444,
              "#bd3786"
             ],
             [
              0.5555555555555556,
              "#d8576b"
             ],
             [
              0.6666666666666666,
              "#ed7953"
             ],
             [
              0.7777777777777778,
              "#fb9f3a"
             ],
             [
              0.8888888888888888,
              "#fdca26"
             ],
             [
              1,
              "#f0f921"
             ]
            ],
            "type": "surface"
           }
          ],
          "table": [
           {
            "cells": {
             "fill": {
              "color": "#EBF0F8"
             },
             "line": {
              "color": "white"
             }
            },
            "header": {
             "fill": {
              "color": "#C8D4E3"
             },
             "line": {
              "color": "white"
             }
            },
            "type": "table"
           }
          ]
         },
         "layout": {
          "annotationdefaults": {
           "arrowcolor": "#2a3f5f",
           "arrowhead": 0,
           "arrowwidth": 1
          },
          "autotypenumbers": "strict",
          "coloraxis": {
           "colorbar": {
            "outlinewidth": 0,
            "ticks": ""
           }
          },
          "colorscale": {
           "diverging": [
            [
             0,
             "#8e0152"
            ],
            [
             0.1,
             "#c51b7d"
            ],
            [
             0.2,
             "#de77ae"
            ],
            [
             0.3,
             "#f1b6da"
            ],
            [
             0.4,
             "#fde0ef"
            ],
            [
             0.5,
             "#f7f7f7"
            ],
            [
             0.6,
             "#e6f5d0"
            ],
            [
             0.7,
             "#b8e186"
            ],
            [
             0.8,
             "#7fbc41"
            ],
            [
             0.9,
             "#4d9221"
            ],
            [
             1,
             "#276419"
            ]
           ],
           "sequential": [
            [
             0,
             "#0d0887"
            ],
            [
             0.1111111111111111,
             "#46039f"
            ],
            [
             0.2222222222222222,
             "#7201a8"
            ],
            [
             0.3333333333333333,
             "#9c179e"
            ],
            [
             0.4444444444444444,
             "#bd3786"
            ],
            [
             0.5555555555555556,
             "#d8576b"
            ],
            [
             0.6666666666666666,
             "#ed7953"
            ],
            [
             0.7777777777777778,
             "#fb9f3a"
            ],
            [
             0.8888888888888888,
             "#fdca26"
            ],
            [
             1,
             "#f0f921"
            ]
           ],
           "sequentialminus": [
            [
             0,
             "#0d0887"
            ],
            [
             0.1111111111111111,
             "#46039f"
            ],
            [
             0.2222222222222222,
             "#7201a8"
            ],
            [
             0.3333333333333333,
             "#9c179e"
            ],
            [
             0.4444444444444444,
             "#bd3786"
            ],
            [
             0.5555555555555556,
             "#d8576b"
            ],
            [
             0.6666666666666666,
             "#ed7953"
            ],
            [
             0.7777777777777778,
             "#fb9f3a"
            ],
            [
             0.8888888888888888,
             "#fdca26"
            ],
            [
             1,
             "#f0f921"
            ]
           ]
          },
          "colorway": [
           "#636efa",
           "#EF553B",
           "#00cc96",
           "#ab63fa",
           "#FFA15A",
           "#19d3f3",
           "#FF6692",
           "#B6E880",
           "#FF97FF",
           "#FECB52"
          ],
          "font": {
           "color": "#2a3f5f"
          },
          "geo": {
           "bgcolor": "white",
           "lakecolor": "white",
           "landcolor": "#E5ECF6",
           "showlakes": true,
           "showland": true,
           "subunitcolor": "white"
          },
          "hoverlabel": {
           "align": "left"
          },
          "hovermode": "closest",
          "mapbox": {
           "style": "light"
          },
          "paper_bgcolor": "white",
          "plot_bgcolor": "#E5ECF6",
          "polar": {
           "angularaxis": {
            "gridcolor": "white",
            "linecolor": "white",
            "ticks": ""
           },
           "bgcolor": "#E5ECF6",
           "radialaxis": {
            "gridcolor": "white",
            "linecolor": "white",
            "ticks": ""
           }
          },
          "scene": {
           "xaxis": {
            "backgroundcolor": "#E5ECF6",
            "gridcolor": "white",
            "gridwidth": 2,
            "linecolor": "white",
            "showbackground": true,
            "ticks": "",
            "zerolinecolor": "white"
           },
           "yaxis": {
            "backgroundcolor": "#E5ECF6",
            "gridcolor": "white",
            "gridwidth": 2,
            "linecolor": "white",
            "showbackground": true,
            "ticks": "",
            "zerolinecolor": "white"
           },
           "zaxis": {
            "backgroundcolor": "#E5ECF6",
            "gridcolor": "white",
            "gridwidth": 2,
            "linecolor": "white",
            "showbackground": true,
            "ticks": "",
            "zerolinecolor": "white"
           }
          },
          "shapedefaults": {
           "line": {
            "color": "#2a3f5f"
           }
          },
          "ternary": {
           "aaxis": {
            "gridcolor": "white",
            "linecolor": "white",
            "ticks": ""
           },
           "baxis": {
            "gridcolor": "white",
            "linecolor": "white",
            "ticks": ""
           },
           "bgcolor": "#E5ECF6",
           "caxis": {
            "gridcolor": "white",
            "linecolor": "white",
            "ticks": ""
           }
          },
          "title": {
           "x": 0.05
          },
          "xaxis": {
           "automargin": true,
           "gridcolor": "white",
           "linecolor": "white",
           "ticks": "",
           "title": {
            "standoff": 15
           },
           "zerolinecolor": "white",
           "zerolinewidth": 2
          },
          "yaxis": {
           "automargin": true,
           "gridcolor": "white",
           "linecolor": "white",
           "ticks": "",
           "title": {
            "standoff": 15
           },
           "zerolinecolor": "white",
           "zerolinewidth": 2
          }
         }
        },
        "title": {
         "text": "3D Comparison for departement-01-ain"
        },
        "width": 1600
       }
      }
     },
     "metadata": {},
     "output_type": "display_data"
    },
    {
     "data": {
      "application/vnd.plotly.v1+json": {
       "config": {
        "plotlyServerURL": "https://plot.ly"
       },
       "data": [
        {
         "line": {
          "color": "#636EFA",
          "width": 3
         },
         "marker": {
          "color": "#636EFA",
          "size": 8
         },
         "mode": "lines+markers",
         "name": "fwi-mean-[5, 10.5, 21.5, 34.5]-5",
         "scene": "scene",
         "type": "scatter3d",
         "x": [
          0,
          0,
          0,
          0,
          0
         ],
         "y": [
          4,
          5,
          6,
          7,
          10
         ],
         "z": [
          0.1,
          0.12,
          0.11,
          0.14,
          0.19
         ]
        },
        {
         "line": {
          "color": "#EF553B",
          "width": 3
         },
         "marker": {
          "color": "#EF553B",
          "size": 8
         },
         "mode": "lines+markers",
         "name": "nbsinister-max-3-kmeans-5-Class-Dept-None-5",
         "scene": "scene",
         "type": "scatter3d",
         "x": [
          1,
          1,
          1,
          1,
          1
         ],
         "y": [
          4,
          5,
          6,
          7,
          10
         ],
         "z": [
          0.19,
          0.19,
          0.19,
          0.2,
          0.33
         ]
        },
        {
         "line": {
          "color": "#00CC96",
          "width": 3
         },
         "marker": {
          "color": "#00CC96",
          "size": 8
         },
         "mode": "lines+markers",
         "name": "nbsinister-max-1-kmeans-5-Class-Dept-None-5",
         "scene": "scene",
         "type": "scatter3d",
         "x": [
          2,
          2,
          2,
          2,
          2
         ],
         "y": [
          4,
          5,
          6,
          7,
          10
         ],
         "z": [
          0.38,
          0.38,
          0.38,
          0.4,
          0.45
         ]
        },
        {
         "line": {
          "color": "#AB63FA",
          "width": 3
         },
         "marker": {
          "color": "#AB63FA",
          "size": 8
         },
         "mode": "lines+markers",
         "name": "nbsinister-max-0-kmeans-5-Class-Dept-None-5",
         "scene": "scene",
         "type": "scatter3d",
         "x": [
          3,
          3,
          3,
          3,
          3
         ],
         "y": [
          4,
          5,
          6,
          7,
          10
         ],
         "z": [
          1,
          1,
          1,
          1,
          1
         ]
        },
        {
         "line": {
          "color": "#FFA15A",
          "width": 3
         },
         "marker": {
          "color": "#FFA15A",
          "size": 8
         },
         "mode": "lines+markers",
         "name": "risk-kmeans-5-Class-Dept-None-5",
         "scene": "scene",
         "type": "scatter3d",
         "x": [
          4,
          4,
          4,
          4,
          4
         ],
         "y": [
          4,
          5,
          6,
          7,
          10
         ],
         "z": [
          0.66,
          0.55,
          0.6,
          0.58,
          0.69
         ]
        },
        {
         "line": {
          "color": "#19D3F3",
          "width": 3
         },
         "marker": {
          "color": "#19D3F3",
          "size": 8
         },
         "mode": "lines+markers",
         "name": "risk-nbsinister-Robust-kmeans-5-Class-Dept-None-5",
         "scene": "scene",
         "type": "scatter3d",
         "x": [
          5,
          5,
          5,
          5,
          5
         ],
         "y": [
          4,
          5,
          6,
          7,
          10
         ],
         "z": [
          0.66,
          0.56,
          0.6,
          0.71,
          0.92
         ]
        },
        {
         "line": {
          "color": "#636EFA",
          "width": 3
         },
         "marker": {
          "color": "#636EFA",
          "size": 8
         },
         "mode": "lines+markers",
         "name": "fwi-mean-[5, 10.5, 21.5, 34.5]-5",
         "scene": "scene2",
         "type": "scatter3d",
         "x": [
          0,
          0,
          0,
          0,
          0
         ],
         "y": [
          4,
          5,
          6,
          7,
          10
         ],
         "z": [
          0.07,
          0.12,
          0.12,
          0.17,
          0.4
         ]
        },
        {
         "line": {
          "color": "#EF553B",
          "width": 3
         },
         "marker": {
          "color": "#EF553B",
          "size": 8
         },
         "mode": "lines+markers",
         "name": "nbsinister-max-3-kmeans-5-Class-Dept-None-5",
         "scene": "scene2",
         "type": "scatter3d",
         "x": [
          1,
          1,
          1,
          1,
          1
         ],
         "y": [
          4,
          5,
          6,
          7,
          10
         ],
         "z": [
          0.26,
          0.27,
          0.3,
          0.32,
          0.55
         ]
        },
        {
         "line": {
          "color": "#00CC96",
          "width": 3
         },
         "marker": {
          "color": "#00CC96",
          "size": 8
         },
         "mode": "lines+markers",
         "name": "nbsinister-max-1-kmeans-5-Class-Dept-None-5",
         "scene": "scene2",
         "type": "scatter3d",
         "x": [
          2,
          2,
          2,
          2,
          2
         ],
         "y": [
          4,
          5,
          6,
          7,
          10
         ],
         "z": [
          0.51,
          0.53,
          0.54,
          0.5,
          0.63
         ]
        },
        {
         "line": {
          "color": "#AB63FA",
          "width": 3
         },
         "marker": {
          "color": "#AB63FA",
          "size": 8
         },
         "mode": "lines+markers",
         "name": "nbsinister-max-0-kmeans-5-Class-Dept-None-5",
         "scene": "scene2",
         "type": "scatter3d",
         "x": [
          3,
          3,
          3,
          3,
          3
         ],
         "y": [
          4,
          5,
          6,
          7,
          10
         ],
         "z": [
          1,
          1,
          1,
          1,
          1
         ]
        },
        {
         "line": {
          "color": "#FFA15A",
          "width": 3
         },
         "marker": {
          "color": "#FFA15A",
          "size": 8
         },
         "mode": "lines+markers",
         "name": "risk-kmeans-5-Class-Dept-None-5",
         "scene": "scene2",
         "type": "scatter3d",
         "x": [
          4,
          4,
          4,
          4,
          4
         ],
         "y": [
          4,
          5,
          6,
          7,
          10
         ],
         "z": [
          0.67,
          0.69,
          0.66,
          0.81,
          0.84
         ]
        },
        {
         "line": {
          "color": "#19D3F3",
          "width": 3
         },
         "marker": {
          "color": "#19D3F3",
          "size": 8
         },
         "mode": "lines+markers",
         "name": "risk-nbsinister-Robust-kmeans-5-Class-Dept-None-5",
         "scene": "scene2",
         "type": "scatter3d",
         "x": [
          5,
          5,
          5,
          5,
          5
         ],
         "y": [
          4,
          5,
          6,
          7,
          10
         ],
         "z": [
          0.68,
          0.7,
          0.73,
          0.8,
          1
         ]
        }
       ],
       "layout": {
        "annotations": [
         {
          "font": {
           "size": 16
          },
          "showarrow": false,
          "text": "departement-25-doubs - iou_wildfire_or_pred_elt_1_class",
          "x": 0.225,
          "xanchor": "center",
          "xref": "paper",
          "y": 1,
          "yanchor": "bottom",
          "yref": "paper"
         },
         {
          "font": {
           "size": 16
          },
          "showarrow": false,
          "text": "departement-25-doubs - iou_wildfire_or_pred_elt_2_class",
          "x": 0.775,
          "xanchor": "center",
          "xref": "paper",
          "y": 1,
          "yanchor": "bottom",
          "yref": "paper"
         }
        ],
        "height": 900,
        "scene": {
         "domain": {
          "x": [
           0,
           0.45
          ],
          "y": [
           0,
           1
          ]
         },
         "xaxis": {
          "ticktext": [
           "fwi-mean-[5, 10.5, 21.5, 34.5]-5",
           "nbsinister-max-3-kmeans-5-Class-Dept-None-5",
           "nbsinister-max-1-kmeans-5-Class-Dept-None-5",
           "nbsinister-max-0-kmeans-5-Class-Dept-None-5",
           "risk-kmeans-5-Class-Dept-None-5",
           "risk-nbsinister-Robust-kmeans-5-Class-Dept-None-5"
          ],
          "tickvals": [
           0,
           1,
           2,
           3,
           4,
           5
          ],
          "title": {
           "text": "Model"
          }
         },
         "yaxis": {
          "title": {
           "text": "Scale"
          }
         },
         "zaxis": {
          "title": {
           "text": "iou_wildfire_or_pred_elt_1_class"
          }
         }
        },
        "scene2": {
         "domain": {
          "x": [
           0.55,
           1
          ],
          "y": [
           0,
           1
          ]
         },
         "xaxis": {
          "ticktext": [
           "fwi-mean-[5, 10.5, 21.5, 34.5]-5",
           "nbsinister-max-3-kmeans-5-Class-Dept-None-5",
           "nbsinister-max-1-kmeans-5-Class-Dept-None-5",
           "nbsinister-max-0-kmeans-5-Class-Dept-None-5",
           "risk-kmeans-5-Class-Dept-None-5",
           "risk-nbsinister-Robust-kmeans-5-Class-Dept-None-5"
          ],
          "tickvals": [
           0,
           1,
           2,
           3,
           4,
           5
          ],
          "title": {
           "text": "Model"
          }
         },
         "yaxis": {
          "title": {
           "text": "Scale"
          }
         },
         "zaxis": {
          "title": {
           "text": "iou_wildfire_or_pred_elt_2_class"
          }
         }
        },
        "showlegend": true,
        "template": {
         "data": {
          "bar": [
           {
            "error_x": {
             "color": "#2a3f5f"
            },
            "error_y": {
             "color": "#2a3f5f"
            },
            "marker": {
             "line": {
              "color": "#E5ECF6",
              "width": 0.5
             },
             "pattern": {
              "fillmode": "overlay",
              "size": 10,
              "solidity": 0.2
             }
            },
            "type": "bar"
           }
          ],
          "barpolar": [
           {
            "marker": {
             "line": {
              "color": "#E5ECF6",
              "width": 0.5
             },
             "pattern": {
              "fillmode": "overlay",
              "size": 10,
              "solidity": 0.2
             }
            },
            "type": "barpolar"
           }
          ],
          "carpet": [
           {
            "aaxis": {
             "endlinecolor": "#2a3f5f",
             "gridcolor": "white",
             "linecolor": "white",
             "minorgridcolor": "white",
             "startlinecolor": "#2a3f5f"
            },
            "baxis": {
             "endlinecolor": "#2a3f5f",
             "gridcolor": "white",
             "linecolor": "white",
             "minorgridcolor": "white",
             "startlinecolor": "#2a3f5f"
            },
            "type": "carpet"
           }
          ],
          "choropleth": [
           {
            "colorbar": {
             "outlinewidth": 0,
             "ticks": ""
            },
            "type": "choropleth"
           }
          ],
          "contour": [
           {
            "colorbar": {
             "outlinewidth": 0,
             "ticks": ""
            },
            "colorscale": [
             [
              0,
              "#0d0887"
             ],
             [
              0.1111111111111111,
              "#46039f"
             ],
             [
              0.2222222222222222,
              "#7201a8"
             ],
             [
              0.3333333333333333,
              "#9c179e"
             ],
             [
              0.4444444444444444,
              "#bd3786"
             ],
             [
              0.5555555555555556,
              "#d8576b"
             ],
             [
              0.6666666666666666,
              "#ed7953"
             ],
             [
              0.7777777777777778,
              "#fb9f3a"
             ],
             [
              0.8888888888888888,
              "#fdca26"
             ],
             [
              1,
              "#f0f921"
             ]
            ],
            "type": "contour"
           }
          ],
          "contourcarpet": [
           {
            "colorbar": {
             "outlinewidth": 0,
             "ticks": ""
            },
            "type": "contourcarpet"
           }
          ],
          "heatmap": [
           {
            "colorbar": {
             "outlinewidth": 0,
             "ticks": ""
            },
            "colorscale": [
             [
              0,
              "#0d0887"
             ],
             [
              0.1111111111111111,
              "#46039f"
             ],
             [
              0.2222222222222222,
              "#7201a8"
             ],
             [
              0.3333333333333333,
              "#9c179e"
             ],
             [
              0.4444444444444444,
              "#bd3786"
             ],
             [
              0.5555555555555556,
              "#d8576b"
             ],
             [
              0.6666666666666666,
              "#ed7953"
             ],
             [
              0.7777777777777778,
              "#fb9f3a"
             ],
             [
              0.8888888888888888,
              "#fdca26"
             ],
             [
              1,
              "#f0f921"
             ]
            ],
            "type": "heatmap"
           }
          ],
          "heatmapgl": [
           {
            "colorbar": {
             "outlinewidth": 0,
             "ticks": ""
            },
            "colorscale": [
             [
              0,
              "#0d0887"
             ],
             [
              0.1111111111111111,
              "#46039f"
             ],
             [
              0.2222222222222222,
              "#7201a8"
             ],
             [
              0.3333333333333333,
              "#9c179e"
             ],
             [
              0.4444444444444444,
              "#bd3786"
             ],
             [
              0.5555555555555556,
              "#d8576b"
             ],
             [
              0.6666666666666666,
              "#ed7953"
             ],
             [
              0.7777777777777778,
              "#fb9f3a"
             ],
             [
              0.8888888888888888,
              "#fdca26"
             ],
             [
              1,
              "#f0f921"
             ]
            ],
            "type": "heatmapgl"
           }
          ],
          "histogram": [
           {
            "marker": {
             "pattern": {
              "fillmode": "overlay",
              "size": 10,
              "solidity": 0.2
             }
            },
            "type": "histogram"
           }
          ],
          "histogram2d": [
           {
            "colorbar": {
             "outlinewidth": 0,
             "ticks": ""
            },
            "colorscale": [
             [
              0,
              "#0d0887"
             ],
             [
              0.1111111111111111,
              "#46039f"
             ],
             [
              0.2222222222222222,
              "#7201a8"
             ],
             [
              0.3333333333333333,
              "#9c179e"
             ],
             [
              0.4444444444444444,
              "#bd3786"
             ],
             [
              0.5555555555555556,
              "#d8576b"
             ],
             [
              0.6666666666666666,
              "#ed7953"
             ],
             [
              0.7777777777777778,
              "#fb9f3a"
             ],
             [
              0.8888888888888888,
              "#fdca26"
             ],
             [
              1,
              "#f0f921"
             ]
            ],
            "type": "histogram2d"
           }
          ],
          "histogram2dcontour": [
           {
            "colorbar": {
             "outlinewidth": 0,
             "ticks": ""
            },
            "colorscale": [
             [
              0,
              "#0d0887"
             ],
             [
              0.1111111111111111,
              "#46039f"
             ],
             [
              0.2222222222222222,
              "#7201a8"
             ],
             [
              0.3333333333333333,
              "#9c179e"
             ],
             [
              0.4444444444444444,
              "#bd3786"
             ],
             [
              0.5555555555555556,
              "#d8576b"
             ],
             [
              0.6666666666666666,
              "#ed7953"
             ],
             [
              0.7777777777777778,
              "#fb9f3a"
             ],
             [
              0.8888888888888888,
              "#fdca26"
             ],
             [
              1,
              "#f0f921"
             ]
            ],
            "type": "histogram2dcontour"
           }
          ],
          "mesh3d": [
           {
            "colorbar": {
             "outlinewidth": 0,
             "ticks": ""
            },
            "type": "mesh3d"
           }
          ],
          "parcoords": [
           {
            "line": {
             "colorbar": {
              "outlinewidth": 0,
              "ticks": ""
             }
            },
            "type": "parcoords"
           }
          ],
          "pie": [
           {
            "automargin": true,
            "type": "pie"
           }
          ],
          "scatter": [
           {
            "fillpattern": {
             "fillmode": "overlay",
             "size": 10,
             "solidity": 0.2
            },
            "type": "scatter"
           }
          ],
          "scatter3d": [
           {
            "line": {
             "colorbar": {
              "outlinewidth": 0,
              "ticks": ""
             }
            },
            "marker": {
             "colorbar": {
              "outlinewidth": 0,
              "ticks": ""
             }
            },
            "type": "scatter3d"
           }
          ],
          "scattercarpet": [
           {
            "marker": {
             "colorbar": {
              "outlinewidth": 0,
              "ticks": ""
             }
            },
            "type": "scattercarpet"
           }
          ],
          "scattergeo": [
           {
            "marker": {
             "colorbar": {
              "outlinewidth": 0,
              "ticks": ""
             }
            },
            "type": "scattergeo"
           }
          ],
          "scattergl": [
           {
            "marker": {
             "colorbar": {
              "outlinewidth": 0,
              "ticks": ""
             }
            },
            "type": "scattergl"
           }
          ],
          "scattermapbox": [
           {
            "marker": {
             "colorbar": {
              "outlinewidth": 0,
              "ticks": ""
             }
            },
            "type": "scattermapbox"
           }
          ],
          "scatterpolar": [
           {
            "marker": {
             "colorbar": {
              "outlinewidth": 0,
              "ticks": ""
             }
            },
            "type": "scatterpolar"
           }
          ],
          "scatterpolargl": [
           {
            "marker": {
             "colorbar": {
              "outlinewidth": 0,
              "ticks": ""
             }
            },
            "type": "scatterpolargl"
           }
          ],
          "scatterternary": [
           {
            "marker": {
             "colorbar": {
              "outlinewidth": 0,
              "ticks": ""
             }
            },
            "type": "scatterternary"
           }
          ],
          "surface": [
           {
            "colorbar": {
             "outlinewidth": 0,
             "ticks": ""
            },
            "colorscale": [
             [
              0,
              "#0d0887"
             ],
             [
              0.1111111111111111,
              "#46039f"
             ],
             [
              0.2222222222222222,
              "#7201a8"
             ],
             [
              0.3333333333333333,
              "#9c179e"
             ],
             [
              0.4444444444444444,
              "#bd3786"
             ],
             [
              0.5555555555555556,
              "#d8576b"
             ],
             [
              0.6666666666666666,
              "#ed7953"
             ],
             [
              0.7777777777777778,
              "#fb9f3a"
             ],
             [
              0.8888888888888888,
              "#fdca26"
             ],
             [
              1,
              "#f0f921"
             ]
            ],
            "type": "surface"
           }
          ],
          "table": [
           {
            "cells": {
             "fill": {
              "color": "#EBF0F8"
             },
             "line": {
              "color": "white"
             }
            },
            "header": {
             "fill": {
              "color": "#C8D4E3"
             },
             "line": {
              "color": "white"
             }
            },
            "type": "table"
           }
          ]
         },
         "layout": {
          "annotationdefaults": {
           "arrowcolor": "#2a3f5f",
           "arrowhead": 0,
           "arrowwidth": 1
          },
          "autotypenumbers": "strict",
          "coloraxis": {
           "colorbar": {
            "outlinewidth": 0,
            "ticks": ""
           }
          },
          "colorscale": {
           "diverging": [
            [
             0,
             "#8e0152"
            ],
            [
             0.1,
             "#c51b7d"
            ],
            [
             0.2,
             "#de77ae"
            ],
            [
             0.3,
             "#f1b6da"
            ],
            [
             0.4,
             "#fde0ef"
            ],
            [
             0.5,
             "#f7f7f7"
            ],
            [
             0.6,
             "#e6f5d0"
            ],
            [
             0.7,
             "#b8e186"
            ],
            [
             0.8,
             "#7fbc41"
            ],
            [
             0.9,
             "#4d9221"
            ],
            [
             1,
             "#276419"
            ]
           ],
           "sequential": [
            [
             0,
             "#0d0887"
            ],
            [
             0.1111111111111111,
             "#46039f"
            ],
            [
             0.2222222222222222,
             "#7201a8"
            ],
            [
             0.3333333333333333,
             "#9c179e"
            ],
            [
             0.4444444444444444,
             "#bd3786"
            ],
            [
             0.5555555555555556,
             "#d8576b"
            ],
            [
             0.6666666666666666,
             "#ed7953"
            ],
            [
             0.7777777777777778,
             "#fb9f3a"
            ],
            [
             0.8888888888888888,
             "#fdca26"
            ],
            [
             1,
             "#f0f921"
            ]
           ],
           "sequentialminus": [
            [
             0,
             "#0d0887"
            ],
            [
             0.1111111111111111,
             "#46039f"
            ],
            [
             0.2222222222222222,
             "#7201a8"
            ],
            [
             0.3333333333333333,
             "#9c179e"
            ],
            [
             0.4444444444444444,
             "#bd3786"
            ],
            [
             0.5555555555555556,
             "#d8576b"
            ],
            [
             0.6666666666666666,
             "#ed7953"
            ],
            [
             0.7777777777777778,
             "#fb9f3a"
            ],
            [
             0.8888888888888888,
             "#fdca26"
            ],
            [
             1,
             "#f0f921"
            ]
           ]
          },
          "colorway": [
           "#636efa",
           "#EF553B",
           "#00cc96",
           "#ab63fa",
           "#FFA15A",
           "#19d3f3",
           "#FF6692",
           "#B6E880",
           "#FF97FF",
           "#FECB52"
          ],
          "font": {
           "color": "#2a3f5f"
          },
          "geo": {
           "bgcolor": "white",
           "lakecolor": "white",
           "landcolor": "#E5ECF6",
           "showlakes": true,
           "showland": true,
           "subunitcolor": "white"
          },
          "hoverlabel": {
           "align": "left"
          },
          "hovermode": "closest",
          "mapbox": {
           "style": "light"
          },
          "paper_bgcolor": "white",
          "plot_bgcolor": "#E5ECF6",
          "polar": {
           "angularaxis": {
            "gridcolor": "white",
            "linecolor": "white",
            "ticks": ""
           },
           "bgcolor": "#E5ECF6",
           "radialaxis": {
            "gridcolor": "white",
            "linecolor": "white",
            "ticks": ""
           }
          },
          "scene": {
           "xaxis": {
            "backgroundcolor": "#E5ECF6",
            "gridcolor": "white",
            "gridwidth": 2,
            "linecolor": "white",
            "showbackground": true,
            "ticks": "",
            "zerolinecolor": "white"
           },
           "yaxis": {
            "backgroundcolor": "#E5ECF6",
            "gridcolor": "white",
            "gridwidth": 2,
            "linecolor": "white",
            "showbackground": true,
            "ticks": "",
            "zerolinecolor": "white"
           },
           "zaxis": {
            "backgroundcolor": "#E5ECF6",
            "gridcolor": "white",
            "gridwidth": 2,
            "linecolor": "white",
            "showbackground": true,
            "ticks": "",
            "zerolinecolor": "white"
           }
          },
          "shapedefaults": {
           "line": {
            "color": "#2a3f5f"
           }
          },
          "ternary": {
           "aaxis": {
            "gridcolor": "white",
            "linecolor": "white",
            "ticks": ""
           },
           "baxis": {
            "gridcolor": "white",
            "linecolor": "white",
            "ticks": ""
           },
           "bgcolor": "#E5ECF6",
           "caxis": {
            "gridcolor": "white",
            "linecolor": "white",
            "ticks": ""
           }
          },
          "title": {
           "x": 0.05
          },
          "xaxis": {
           "automargin": true,
           "gridcolor": "white",
           "linecolor": "white",
           "ticks": "",
           "title": {
            "standoff": 15
           },
           "zerolinecolor": "white",
           "zerolinewidth": 2
          },
          "yaxis": {
           "automargin": true,
           "gridcolor": "white",
           "linecolor": "white",
           "ticks": "",
           "title": {
            "standoff": 15
           },
           "zerolinecolor": "white",
           "zerolinewidth": 2
          }
         }
        },
        "title": {
         "text": "3D Comparison for departement-25-doubs"
        },
        "width": 1600
       }
      }
     },
     "metadata": {},
     "output_type": "display_data"
    },
    {
     "data": {
      "application/vnd.plotly.v1+json": {
       "config": {
        "plotlyServerURL": "https://plot.ly"
       },
       "data": [
        {
         "line": {
          "color": "#636EFA",
          "width": 3
         },
         "marker": {
          "color": "#636EFA",
          "size": 8
         },
         "mode": "lines+markers",
         "name": "fwi-mean-[5, 10.5, 21.5, 34.5]-5",
         "scene": "scene",
         "type": "scatter3d",
         "x": [
          0,
          0,
          0,
          0,
          0
         ],
         "y": [
          4,
          5,
          6,
          7,
          10
         ],
         "z": [
          0.12,
          0.16,
          0.16,
          0.19,
          0.28
         ]
        },
        {
         "line": {
          "color": "#EF553B",
          "width": 3
         },
         "marker": {
          "color": "#EF553B",
          "size": 8
         },
         "mode": "lines+markers",
         "name": "nbsinister-max-3-kmeans-5-Class-Dept-None-5",
         "scene": "scene",
         "type": "scatter3d",
         "x": [
          1,
          1,
          1,
          1,
          1
         ],
         "y": [
          4,
          5,
          6,
          7,
          10
         ],
         "z": [
          0.21,
          0.23,
          0.23,
          0.26,
          0.41
         ]
        },
        {
         "line": {
          "color": "#00CC96",
          "width": 3
         },
         "marker": {
          "color": "#00CC96",
          "size": 8
         },
         "mode": "lines+markers",
         "name": "nbsinister-max-1-kmeans-5-Class-Dept-None-5",
         "scene": "scene",
         "type": "scatter3d",
         "x": [
          2,
          2,
          2,
          2,
          2
         ],
         "y": [
          4,
          5,
          6,
          7,
          10
         ],
         "z": [
          0.4,
          0.4,
          0.4,
          0.42,
          0.54
         ]
        },
        {
         "line": {
          "color": "#AB63FA",
          "width": 3
         },
         "marker": {
          "color": "#AB63FA",
          "size": 8
         },
         "mode": "lines+markers",
         "name": "nbsinister-max-0-kmeans-5-Class-Dept-None-5",
         "scene": "scene",
         "type": "scatter3d",
         "x": [
          3,
          3,
          3,
          3,
          3
         ],
         "y": [
          4,
          5,
          6,
          7,
          10
         ],
         "z": [
          1,
          1,
          1,
          1,
          1
         ]
        },
        {
         "line": {
          "color": "#FFA15A",
          "width": 3
         },
         "marker": {
          "color": "#FFA15A",
          "size": 8
         },
         "mode": "lines+markers",
         "name": "risk-kmeans-5-Class-Dept-None-5",
         "scene": "scene",
         "type": "scatter3d",
         "x": [
          4,
          4,
          4,
          4,
          4
         ],
         "y": [
          4,
          5,
          6,
          7,
          10
         ],
         "z": [
          0.49,
          0.58,
          0.58,
          0.69,
          0.75
         ]
        },
        {
         "line": {
          "color": "#19D3F3",
          "width": 3
         },
         "marker": {
          "color": "#19D3F3",
          "size": 8
         },
         "mode": "lines+markers",
         "name": "risk-nbsinister-Robust-kmeans-5-Class-Dept-None-5",
         "scene": "scene",
         "type": "scatter3d",
         "x": [
          5,
          5,
          5,
          5,
          5
         ],
         "y": [
          4,
          5,
          6,
          7,
          10
         ],
         "z": [
          0.52,
          0.84,
          0.83,
          0.93,
          0.94
         ]
        },
        {
         "line": {
          "color": "#636EFA",
          "width": 3
         },
         "marker": {
          "color": "#636EFA",
          "size": 8
         },
         "mode": "lines+markers",
         "name": "fwi-mean-[5, 10.5, 21.5, 34.5]-5",
         "scene": "scene2",
         "type": "scatter3d",
         "x": [
          0,
          0,
          0,
          0,
          0
         ],
         "y": [
          4,
          5,
          6,
          7,
          10
         ],
         "z": [
          0.12,
          0.21,
          0.21,
          0.28,
          0.41
         ]
        },
        {
         "line": {
          "color": "#EF553B",
          "width": 3
         },
         "marker": {
          "color": "#EF553B",
          "size": 8
         },
         "mode": "lines+markers",
         "name": "nbsinister-max-3-kmeans-5-Class-Dept-None-5",
         "scene": "scene2",
         "type": "scatter3d",
         "x": [
          1,
          1,
          1,
          1,
          1
         ],
         "y": [
          4,
          5,
          6,
          7,
          10
         ],
         "z": [
          0.36,
          0.42,
          0.42,
          0.44,
          0.68
         ]
        },
        {
         "line": {
          "color": "#00CC96",
          "width": 3
         },
         "marker": {
          "color": "#00CC96",
          "size": 8
         },
         "mode": "lines+markers",
         "name": "nbsinister-max-1-kmeans-5-Class-Dept-None-5",
         "scene": "scene2",
         "type": "scatter3d",
         "x": [
          2,
          2,
          2,
          2,
          2
         ],
         "y": [
          4,
          5,
          6,
          7,
          10
         ],
         "z": [
          0.56,
          0.63,
          0.63,
          0.64,
          0.8
         ]
        },
        {
         "line": {
          "color": "#AB63FA",
          "width": 3
         },
         "marker": {
          "color": "#AB63FA",
          "size": 8
         },
         "mode": "lines+markers",
         "name": "nbsinister-max-0-kmeans-5-Class-Dept-None-5",
         "scene": "scene2",
         "type": "scatter3d",
         "x": [
          3,
          3,
          3,
          3,
          3
         ],
         "y": [
          4,
          5,
          6,
          7,
          10
         ],
         "z": [
          1,
          1,
          1,
          1,
          1
         ]
        },
        {
         "line": {
          "color": "#FFA15A",
          "width": 3
         },
         "marker": {
          "color": "#FFA15A",
          "size": 8
         },
         "mode": "lines+markers",
         "name": "risk-kmeans-5-Class-Dept-None-5",
         "scene": "scene2",
         "type": "scatter3d",
         "x": [
          4,
          4,
          4,
          4,
          4
         ],
         "y": [
          4,
          5,
          6,
          7,
          10
         ],
         "z": [
          0.76,
          0.62,
          0.62,
          0.67,
          0.63
         ]
        },
        {
         "line": {
          "color": "#19D3F3",
          "width": 3
         },
         "marker": {
          "color": "#19D3F3",
          "size": 8
         },
         "mode": "lines+markers",
         "name": "risk-nbsinister-Robust-kmeans-5-Class-Dept-None-5",
         "scene": "scene2",
         "type": "scatter3d",
         "x": [
          5,
          5,
          5,
          5,
          5
         ],
         "y": [
          4,
          5,
          6,
          7,
          10
         ],
         "z": [
          0.82,
          0.77,
          0.78,
          1,
          1
         ]
        }
       ],
       "layout": {
        "annotations": [
         {
          "font": {
           "size": 16
          },
          "showarrow": false,
          "text": "departement-78-yvelines - iou_wildfire_or_pred_elt_1_class",
          "x": 0.225,
          "xanchor": "center",
          "xref": "paper",
          "y": 1,
          "yanchor": "bottom",
          "yref": "paper"
         },
         {
          "font": {
           "size": 16
          },
          "showarrow": false,
          "text": "departement-78-yvelines - iou_wildfire_or_pred_elt_2_class",
          "x": 0.775,
          "xanchor": "center",
          "xref": "paper",
          "y": 1,
          "yanchor": "bottom",
          "yref": "paper"
         }
        ],
        "height": 900,
        "scene": {
         "domain": {
          "x": [
           0,
           0.45
          ],
          "y": [
           0,
           1
          ]
         },
         "xaxis": {
          "ticktext": [
           "fwi-mean-[5, 10.5, 21.5, 34.5]-5",
           "nbsinister-max-3-kmeans-5-Class-Dept-None-5",
           "nbsinister-max-1-kmeans-5-Class-Dept-None-5",
           "nbsinister-max-0-kmeans-5-Class-Dept-None-5",
           "risk-kmeans-5-Class-Dept-None-5",
           "risk-nbsinister-Robust-kmeans-5-Class-Dept-None-5"
          ],
          "tickvals": [
           0,
           1,
           2,
           3,
           4,
           5
          ],
          "title": {
           "text": "Model"
          }
         },
         "yaxis": {
          "title": {
           "text": "Scale"
          }
         },
         "zaxis": {
          "title": {
           "text": "iou_wildfire_or_pred_elt_1_class"
          }
         }
        },
        "scene2": {
         "domain": {
          "x": [
           0.55,
           1
          ],
          "y": [
           0,
           1
          ]
         },
         "xaxis": {
          "ticktext": [
           "fwi-mean-[5, 10.5, 21.5, 34.5]-5",
           "nbsinister-max-3-kmeans-5-Class-Dept-None-5",
           "nbsinister-max-1-kmeans-5-Class-Dept-None-5",
           "nbsinister-max-0-kmeans-5-Class-Dept-None-5",
           "risk-kmeans-5-Class-Dept-None-5",
           "risk-nbsinister-Robust-kmeans-5-Class-Dept-None-5"
          ],
          "tickvals": [
           0,
           1,
           2,
           3,
           4,
           5
          ],
          "title": {
           "text": "Model"
          }
         },
         "yaxis": {
          "title": {
           "text": "Scale"
          }
         },
         "zaxis": {
          "title": {
           "text": "iou_wildfire_or_pred_elt_2_class"
          }
         }
        },
        "showlegend": true,
        "template": {
         "data": {
          "bar": [
           {
            "error_x": {
             "color": "#2a3f5f"
            },
            "error_y": {
             "color": "#2a3f5f"
            },
            "marker": {
             "line": {
              "color": "#E5ECF6",
              "width": 0.5
             },
             "pattern": {
              "fillmode": "overlay",
              "size": 10,
              "solidity": 0.2
             }
            },
            "type": "bar"
           }
          ],
          "barpolar": [
           {
            "marker": {
             "line": {
              "color": "#E5ECF6",
              "width": 0.5
             },
             "pattern": {
              "fillmode": "overlay",
              "size": 10,
              "solidity": 0.2
             }
            },
            "type": "barpolar"
           }
          ],
          "carpet": [
           {
            "aaxis": {
             "endlinecolor": "#2a3f5f",
             "gridcolor": "white",
             "linecolor": "white",
             "minorgridcolor": "white",
             "startlinecolor": "#2a3f5f"
            },
            "baxis": {
             "endlinecolor": "#2a3f5f",
             "gridcolor": "white",
             "linecolor": "white",
             "minorgridcolor": "white",
             "startlinecolor": "#2a3f5f"
            },
            "type": "carpet"
           }
          ],
          "choropleth": [
           {
            "colorbar": {
             "outlinewidth": 0,
             "ticks": ""
            },
            "type": "choropleth"
           }
          ],
          "contour": [
           {
            "colorbar": {
             "outlinewidth": 0,
             "ticks": ""
            },
            "colorscale": [
             [
              0,
              "#0d0887"
             ],
             [
              0.1111111111111111,
              "#46039f"
             ],
             [
              0.2222222222222222,
              "#7201a8"
             ],
             [
              0.3333333333333333,
              "#9c179e"
             ],
             [
              0.4444444444444444,
              "#bd3786"
             ],
             [
              0.5555555555555556,
              "#d8576b"
             ],
             [
              0.6666666666666666,
              "#ed7953"
             ],
             [
              0.7777777777777778,
              "#fb9f3a"
             ],
             [
              0.8888888888888888,
              "#fdca26"
             ],
             [
              1,
              "#f0f921"
             ]
            ],
            "type": "contour"
           }
          ],
          "contourcarpet": [
           {
            "colorbar": {
             "outlinewidth": 0,
             "ticks": ""
            },
            "type": "contourcarpet"
           }
          ],
          "heatmap": [
           {
            "colorbar": {
             "outlinewidth": 0,
             "ticks": ""
            },
            "colorscale": [
             [
              0,
              "#0d0887"
             ],
             [
              0.1111111111111111,
              "#46039f"
             ],
             [
              0.2222222222222222,
              "#7201a8"
             ],
             [
              0.3333333333333333,
              "#9c179e"
             ],
             [
              0.4444444444444444,
              "#bd3786"
             ],
             [
              0.5555555555555556,
              "#d8576b"
             ],
             [
              0.6666666666666666,
              "#ed7953"
             ],
             [
              0.7777777777777778,
              "#fb9f3a"
             ],
             [
              0.8888888888888888,
              "#fdca26"
             ],
             [
              1,
              "#f0f921"
             ]
            ],
            "type": "heatmap"
           }
          ],
          "heatmapgl": [
           {
            "colorbar": {
             "outlinewidth": 0,
             "ticks": ""
            },
            "colorscale": [
             [
              0,
              "#0d0887"
             ],
             [
              0.1111111111111111,
              "#46039f"
             ],
             [
              0.2222222222222222,
              "#7201a8"
             ],
             [
              0.3333333333333333,
              "#9c179e"
             ],
             [
              0.4444444444444444,
              "#bd3786"
             ],
             [
              0.5555555555555556,
              "#d8576b"
             ],
             [
              0.6666666666666666,
              "#ed7953"
             ],
             [
              0.7777777777777778,
              "#fb9f3a"
             ],
             [
              0.8888888888888888,
              "#fdca26"
             ],
             [
              1,
              "#f0f921"
             ]
            ],
            "type": "heatmapgl"
           }
          ],
          "histogram": [
           {
            "marker": {
             "pattern": {
              "fillmode": "overlay",
              "size": 10,
              "solidity": 0.2
             }
            },
            "type": "histogram"
           }
          ],
          "histogram2d": [
           {
            "colorbar": {
             "outlinewidth": 0,
             "ticks": ""
            },
            "colorscale": [
             [
              0,
              "#0d0887"
             ],
             [
              0.1111111111111111,
              "#46039f"
             ],
             [
              0.2222222222222222,
              "#7201a8"
             ],
             [
              0.3333333333333333,
              "#9c179e"
             ],
             [
              0.4444444444444444,
              "#bd3786"
             ],
             [
              0.5555555555555556,
              "#d8576b"
             ],
             [
              0.6666666666666666,
              "#ed7953"
             ],
             [
              0.7777777777777778,
              "#fb9f3a"
             ],
             [
              0.8888888888888888,
              "#fdca26"
             ],
             [
              1,
              "#f0f921"
             ]
            ],
            "type": "histogram2d"
           }
          ],
          "histogram2dcontour": [
           {
            "colorbar": {
             "outlinewidth": 0,
             "ticks": ""
            },
            "colorscale": [
             [
              0,
              "#0d0887"
             ],
             [
              0.1111111111111111,
              "#46039f"
             ],
             [
              0.2222222222222222,
              "#7201a8"
             ],
             [
              0.3333333333333333,
              "#9c179e"
             ],
             [
              0.4444444444444444,
              "#bd3786"
             ],
             [
              0.5555555555555556,
              "#d8576b"
             ],
             [
              0.6666666666666666,
              "#ed7953"
             ],
             [
              0.7777777777777778,
              "#fb9f3a"
             ],
             [
              0.8888888888888888,
              "#fdca26"
             ],
             [
              1,
              "#f0f921"
             ]
            ],
            "type": "histogram2dcontour"
           }
          ],
          "mesh3d": [
           {
            "colorbar": {
             "outlinewidth": 0,
             "ticks": ""
            },
            "type": "mesh3d"
           }
          ],
          "parcoords": [
           {
            "line": {
             "colorbar": {
              "outlinewidth": 0,
              "ticks": ""
             }
            },
            "type": "parcoords"
           }
          ],
          "pie": [
           {
            "automargin": true,
            "type": "pie"
           }
          ],
          "scatter": [
           {
            "fillpattern": {
             "fillmode": "overlay",
             "size": 10,
             "solidity": 0.2
            },
            "type": "scatter"
           }
          ],
          "scatter3d": [
           {
            "line": {
             "colorbar": {
              "outlinewidth": 0,
              "ticks": ""
             }
            },
            "marker": {
             "colorbar": {
              "outlinewidth": 0,
              "ticks": ""
             }
            },
            "type": "scatter3d"
           }
          ],
          "scattercarpet": [
           {
            "marker": {
             "colorbar": {
              "outlinewidth": 0,
              "ticks": ""
             }
            },
            "type": "scattercarpet"
           }
          ],
          "scattergeo": [
           {
            "marker": {
             "colorbar": {
              "outlinewidth": 0,
              "ticks": ""
             }
            },
            "type": "scattergeo"
           }
          ],
          "scattergl": [
           {
            "marker": {
             "colorbar": {
              "outlinewidth": 0,
              "ticks": ""
             }
            },
            "type": "scattergl"
           }
          ],
          "scattermapbox": [
           {
            "marker": {
             "colorbar": {
              "outlinewidth": 0,
              "ticks": ""
             }
            },
            "type": "scattermapbox"
           }
          ],
          "scatterpolar": [
           {
            "marker": {
             "colorbar": {
              "outlinewidth": 0,
              "ticks": ""
             }
            },
            "type": "scatterpolar"
           }
          ],
          "scatterpolargl": [
           {
            "marker": {
             "colorbar": {
              "outlinewidth": 0,
              "ticks": ""
             }
            },
            "type": "scatterpolargl"
           }
          ],
          "scatterternary": [
           {
            "marker": {
             "colorbar": {
              "outlinewidth": 0,
              "ticks": ""
             }
            },
            "type": "scatterternary"
           }
          ],
          "surface": [
           {
            "colorbar": {
             "outlinewidth": 0,
             "ticks": ""
            },
            "colorscale": [
             [
              0,
              "#0d0887"
             ],
             [
              0.1111111111111111,
              "#46039f"
             ],
             [
              0.2222222222222222,
              "#7201a8"
             ],
             [
              0.3333333333333333,
              "#9c179e"
             ],
             [
              0.4444444444444444,
              "#bd3786"
             ],
             [
              0.5555555555555556,
              "#d8576b"
             ],
             [
              0.6666666666666666,
              "#ed7953"
             ],
             [
              0.7777777777777778,
              "#fb9f3a"
             ],
             [
              0.8888888888888888,
              "#fdca26"
             ],
             [
              1,
              "#f0f921"
             ]
            ],
            "type": "surface"
           }
          ],
          "table": [
           {
            "cells": {
             "fill": {
              "color": "#EBF0F8"
             },
             "line": {
              "color": "white"
             }
            },
            "header": {
             "fill": {
              "color": "#C8D4E3"
             },
             "line": {
              "color": "white"
             }
            },
            "type": "table"
           }
          ]
         },
         "layout": {
          "annotationdefaults": {
           "arrowcolor": "#2a3f5f",
           "arrowhead": 0,
           "arrowwidth": 1
          },
          "autotypenumbers": "strict",
          "coloraxis": {
           "colorbar": {
            "outlinewidth": 0,
            "ticks": ""
           }
          },
          "colorscale": {
           "diverging": [
            [
             0,
             "#8e0152"
            ],
            [
             0.1,
             "#c51b7d"
            ],
            [
             0.2,
             "#de77ae"
            ],
            [
             0.3,
             "#f1b6da"
            ],
            [
             0.4,
             "#fde0ef"
            ],
            [
             0.5,
             "#f7f7f7"
            ],
            [
             0.6,
             "#e6f5d0"
            ],
            [
             0.7,
             "#b8e186"
            ],
            [
             0.8,
             "#7fbc41"
            ],
            [
             0.9,
             "#4d9221"
            ],
            [
             1,
             "#276419"
            ]
           ],
           "sequential": [
            [
             0,
             "#0d0887"
            ],
            [
             0.1111111111111111,
             "#46039f"
            ],
            [
             0.2222222222222222,
             "#7201a8"
            ],
            [
             0.3333333333333333,
             "#9c179e"
            ],
            [
             0.4444444444444444,
             "#bd3786"
            ],
            [
             0.5555555555555556,
             "#d8576b"
            ],
            [
             0.6666666666666666,
             "#ed7953"
            ],
            [
             0.7777777777777778,
             "#fb9f3a"
            ],
            [
             0.8888888888888888,
             "#fdca26"
            ],
            [
             1,
             "#f0f921"
            ]
           ],
           "sequentialminus": [
            [
             0,
             "#0d0887"
            ],
            [
             0.1111111111111111,
             "#46039f"
            ],
            [
             0.2222222222222222,
             "#7201a8"
            ],
            [
             0.3333333333333333,
             "#9c179e"
            ],
            [
             0.4444444444444444,
             "#bd3786"
            ],
            [
             0.5555555555555556,
             "#d8576b"
            ],
            [
             0.6666666666666666,
             "#ed7953"
            ],
            [
             0.7777777777777778,
             "#fb9f3a"
            ],
            [
             0.8888888888888888,
             "#fdca26"
            ],
            [
             1,
             "#f0f921"
            ]
           ]
          },
          "colorway": [
           "#636efa",
           "#EF553B",
           "#00cc96",
           "#ab63fa",
           "#FFA15A",
           "#19d3f3",
           "#FF6692",
           "#B6E880",
           "#FF97FF",
           "#FECB52"
          ],
          "font": {
           "color": "#2a3f5f"
          },
          "geo": {
           "bgcolor": "white",
           "lakecolor": "white",
           "landcolor": "#E5ECF6",
           "showlakes": true,
           "showland": true,
           "subunitcolor": "white"
          },
          "hoverlabel": {
           "align": "left"
          },
          "hovermode": "closest",
          "mapbox": {
           "style": "light"
          },
          "paper_bgcolor": "white",
          "plot_bgcolor": "#E5ECF6",
          "polar": {
           "angularaxis": {
            "gridcolor": "white",
            "linecolor": "white",
            "ticks": ""
           },
           "bgcolor": "#E5ECF6",
           "radialaxis": {
            "gridcolor": "white",
            "linecolor": "white",
            "ticks": ""
           }
          },
          "scene": {
           "xaxis": {
            "backgroundcolor": "#E5ECF6",
            "gridcolor": "white",
            "gridwidth": 2,
            "linecolor": "white",
            "showbackground": true,
            "ticks": "",
            "zerolinecolor": "white"
           },
           "yaxis": {
            "backgroundcolor": "#E5ECF6",
            "gridcolor": "white",
            "gridwidth": 2,
            "linecolor": "white",
            "showbackground": true,
            "ticks": "",
            "zerolinecolor": "white"
           },
           "zaxis": {
            "backgroundcolor": "#E5ECF6",
            "gridcolor": "white",
            "gridwidth": 2,
            "linecolor": "white",
            "showbackground": true,
            "ticks": "",
            "zerolinecolor": "white"
           }
          },
          "shapedefaults": {
           "line": {
            "color": "#2a3f5f"
           }
          },
          "ternary": {
           "aaxis": {
            "gridcolor": "white",
            "linecolor": "white",
            "ticks": ""
           },
           "baxis": {
            "gridcolor": "white",
            "linecolor": "white",
            "ticks": ""
           },
           "bgcolor": "#E5ECF6",
           "caxis": {
            "gridcolor": "white",
            "linecolor": "white",
            "ticks": ""
           }
          },
          "title": {
           "x": 0.05
          },
          "xaxis": {
           "automargin": true,
           "gridcolor": "white",
           "linecolor": "white",
           "ticks": "",
           "title": {
            "standoff": 15
           },
           "zerolinecolor": "white",
           "zerolinewidth": 2
          },
          "yaxis": {
           "automargin": true,
           "gridcolor": "white",
           "linecolor": "white",
           "ticks": "",
           "title": {
            "standoff": 15
           },
           "zerolinecolor": "white",
           "zerolinewidth": 2
          }
         }
        },
        "title": {
         "text": "3D Comparison for departement-78-yvelines"
        },
        "width": 1600
       }
      }
     },
     "metadata": {},
     "output_type": "display_data"
    }
   ],
   "source": [
    "compare_models_2d(df, df.Department.unique(), dept_markers, ['iou_wildfire_or_pred_elt_1_class', 'iou_wildfire_or_pred_elt_2_class'],  'Model', 'Scale', 'Model')"
   ]
  },
  {
   "cell_type": "code",
   "execution_count": 121,
   "metadata": {},
   "outputs": [
    {
     "data": {
      "application/vnd.plotly.v1+json": {
       "config": {
        "plotlyServerURL": "https://plot.ly"
       },
       "data": [
        {
         "line": {
          "color": "#636EFA",
          "width": 3
         },
         "marker": {
          "color": "#636EFA",
          "size": 8
         },
         "mode": "lines+markers",
         "name": "fwi-mean-[5, 10.5, 21.5, 34.5]-5",
         "scene": "scene",
         "type": "scatter3d",
         "x": [
          0,
          0,
          0,
          0,
          0
         ],
         "y": [
          4,
          5,
          6,
          7,
          10
         ],
         "z": [
          0.07,
          0.09,
          0.14,
          0.25,
          0.51
         ]
        },
        {
         "line": {
          "color": "#EF553B",
          "width": 3
         },
         "marker": {
          "color": "#EF553B",
          "size": 8
         },
         "mode": "lines+markers",
         "name": "nbsinister-max-3-kmeans-5-Class-Dept-None-5",
         "scene": "scene",
         "type": "scatter3d",
         "x": [
          1,
          1,
          1,
          1,
          1
         ],
         "y": [
          4,
          5,
          6,
          7,
          10
         ],
         "z": [
          0.5,
          0.49,
          0.49,
          0.52,
          0.76
         ]
        },
        {
         "line": {
          "color": "#00CC96",
          "width": 3
         },
         "marker": {
          "color": "#00CC96",
          "size": 8
         },
         "mode": "lines+markers",
         "name": "nbsinister-max-1-kmeans-5-Class-Dept-None-5",
         "scene": "scene",
         "type": "scatter3d",
         "x": [
          2,
          2,
          2,
          2,
          2
         ],
         "y": [
          4,
          5,
          6,
          7,
          10
         ],
         "z": [
          0.54,
          0.5,
          0.68,
          0.67,
          0.88
         ]
        },
        {
         "line": {
          "color": "#AB63FA",
          "width": 3
         },
         "marker": {
          "color": "#AB63FA",
          "size": 8
         },
         "mode": "lines+markers",
         "name": "nbsinister-max-0-kmeans-5-Class-Dept-None-5",
         "scene": "scene",
         "type": "scatter3d",
         "x": [
          3,
          3,
          3,
          3,
          3
         ],
         "y": [
          4,
          5,
          6,
          7,
          10
         ],
         "z": [
          1,
          1,
          1,
          1,
          1
         ]
        },
        {
         "line": {
          "color": "#FFA15A",
          "width": 3
         },
         "marker": {
          "color": "#FFA15A",
          "size": 8
         },
         "mode": "lines+markers",
         "name": "risk-kmeans-5-Class-Dept-None-5",
         "scene": "scene",
         "type": "scatter3d",
         "x": [
          4,
          4,
          4,
          4,
          4
         ],
         "y": [
          4,
          5,
          6,
          7,
          10
         ],
         "z": [
          0.83,
          0.92,
          0.95,
          0.92,
          1
         ]
        },
        {
         "line": {
          "color": "#19D3F3",
          "width": 3
         },
         "marker": {
          "color": "#19D3F3",
          "size": 8
         },
         "mode": "lines+markers",
         "name": "risk-nbsinister-Robust-kmeans-5-Class-Dept-None-5",
         "scene": "scene",
         "type": "scatter3d",
         "x": [
          5,
          5,
          5,
          5,
          5
         ],
         "y": [
          4,
          5,
          6,
          7,
          10
         ],
         "z": [
          0.83,
          0.94,
          0.98,
          1,
          1
         ]
        },
        {
         "line": {
          "color": "#636EFA",
          "width": 3
         },
         "marker": {
          "color": "#636EFA",
          "size": 8
         },
         "mode": "lines+markers",
         "name": "fwi-mean-[5, 10.5, 21.5, 34.5]-5",
         "scene": "scene2",
         "type": "scatter3d",
         "x": [
          0,
          0,
          0,
          0,
          0
         ],
         "y": [
          4,
          5,
          6,
          7,
          10
         ],
         "z": [
          null,
          null,
          0.2,
          null,
          null
         ]
        },
        {
         "line": {
          "color": "#EF553B",
          "width": 3
         },
         "marker": {
          "color": "#EF553B",
          "size": 8
         },
         "mode": "lines+markers",
         "name": "nbsinister-max-3-kmeans-5-Class-Dept-None-5",
         "scene": "scene2",
         "type": "scatter3d",
         "x": [
          1,
          1,
          1,
          1,
          1
         ],
         "y": [
          4,
          5,
          6,
          7,
          10
         ],
         "z": [
          null,
          null,
          null,
          null,
          null
         ]
        },
        {
         "line": {
          "color": "#00CC96",
          "width": 3
         },
         "marker": {
          "color": "#00CC96",
          "size": 8
         },
         "mode": "lines+markers",
         "name": "nbsinister-max-1-kmeans-5-Class-Dept-None-5",
         "scene": "scene2",
         "type": "scatter3d",
         "x": [
          2,
          2,
          2,
          2,
          2
         ],
         "y": [
          4,
          5,
          6,
          7,
          10
         ],
         "z": [
          null,
          null,
          0.5,
          null,
          null
         ]
        },
        {
         "line": {
          "color": "#AB63FA",
          "width": 3
         },
         "marker": {
          "color": "#AB63FA",
          "size": 8
         },
         "mode": "lines+markers",
         "name": "nbsinister-max-0-kmeans-5-Class-Dept-None-5",
         "scene": "scene2",
         "type": "scatter3d",
         "x": [
          3,
          3,
          3,
          3,
          3
         ],
         "y": [
          4,
          5,
          6,
          7,
          10
         ],
         "z": [
          null,
          null,
          null,
          null,
          0
         ]
        },
        {
         "line": {
          "color": "#FFA15A",
          "width": 3
         },
         "marker": {
          "color": "#FFA15A",
          "size": 8
         },
         "mode": "lines+markers",
         "name": "risk-kmeans-5-Class-Dept-None-5",
         "scene": "scene2",
         "type": "scatter3d",
         "x": [
          4,
          4,
          4,
          4,
          4
         ],
         "y": [
          4,
          5,
          6,
          7,
          10
         ],
         "z": [
          0.89,
          1,
          null,
          1,
          null
         ]
        },
        {
         "line": {
          "color": "#19D3F3",
          "width": 3
         },
         "marker": {
          "color": "#19D3F3",
          "size": 8
         },
         "mode": "lines+markers",
         "name": "risk-nbsinister-Robust-kmeans-5-Class-Dept-None-5",
         "scene": "scene2",
         "type": "scatter3d",
         "x": [
          5,
          5,
          5,
          5,
          5
         ],
         "y": [
          4,
          5,
          6,
          7,
          10
         ],
         "z": [
          1,
          1,
          1,
          1,
          0
         ]
        }
       ],
       "layout": {
        "annotations": [
         {
          "font": {
           "size": 16
          },
          "showarrow": false,
          "text": "departement-01-ain - iou_wildfire_or_pred_elt_3_class",
          "x": 0.225,
          "xanchor": "center",
          "xref": "paper",
          "y": 1,
          "yanchor": "bottom",
          "yref": "paper"
         },
         {
          "font": {
           "size": 16
          },
          "showarrow": false,
          "text": "departement-01-ain - iou_wildfire_or_pred_elt_4_class",
          "x": 0.775,
          "xanchor": "center",
          "xref": "paper",
          "y": 1,
          "yanchor": "bottom",
          "yref": "paper"
         }
        ],
        "height": 900,
        "scene": {
         "domain": {
          "x": [
           0,
           0.45
          ],
          "y": [
           0,
           1
          ]
         },
         "xaxis": {
          "ticktext": [
           "fwi-mean-[5, 10.5, 21.5, 34.5]-5",
           "nbsinister-max-3-kmeans-5-Class-Dept-None-5",
           "nbsinister-max-1-kmeans-5-Class-Dept-None-5",
           "nbsinister-max-0-kmeans-5-Class-Dept-None-5",
           "risk-kmeans-5-Class-Dept-None-5",
           "risk-nbsinister-Robust-kmeans-5-Class-Dept-None-5"
          ],
          "tickvals": [
           0,
           1,
           2,
           3,
           4,
           5
          ],
          "title": {
           "text": "Model"
          }
         },
         "yaxis": {
          "title": {
           "text": "Scale"
          }
         },
         "zaxis": {
          "title": {
           "text": "iou_wildfire_or_pred_elt_3_class"
          }
         }
        },
        "scene2": {
         "domain": {
          "x": [
           0.55,
           1
          ],
          "y": [
           0,
           1
          ]
         },
         "xaxis": {
          "ticktext": [
           "fwi-mean-[5, 10.5, 21.5, 34.5]-5",
           "nbsinister-max-3-kmeans-5-Class-Dept-None-5",
           "nbsinister-max-1-kmeans-5-Class-Dept-None-5",
           "nbsinister-max-0-kmeans-5-Class-Dept-None-5",
           "risk-kmeans-5-Class-Dept-None-5",
           "risk-nbsinister-Robust-kmeans-5-Class-Dept-None-5"
          ],
          "tickvals": [
           0,
           1,
           2,
           3,
           4,
           5
          ],
          "title": {
           "text": "Model"
          }
         },
         "yaxis": {
          "title": {
           "text": "Scale"
          }
         },
         "zaxis": {
          "title": {
           "text": "iou_wildfire_or_pred_elt_4_class"
          }
         }
        },
        "showlegend": true,
        "template": {
         "data": {
          "bar": [
           {
            "error_x": {
             "color": "#2a3f5f"
            },
            "error_y": {
             "color": "#2a3f5f"
            },
            "marker": {
             "line": {
              "color": "#E5ECF6",
              "width": 0.5
             },
             "pattern": {
              "fillmode": "overlay",
              "size": 10,
              "solidity": 0.2
             }
            },
            "type": "bar"
           }
          ],
          "barpolar": [
           {
            "marker": {
             "line": {
              "color": "#E5ECF6",
              "width": 0.5
             },
             "pattern": {
              "fillmode": "overlay",
              "size": 10,
              "solidity": 0.2
             }
            },
            "type": "barpolar"
           }
          ],
          "carpet": [
           {
            "aaxis": {
             "endlinecolor": "#2a3f5f",
             "gridcolor": "white",
             "linecolor": "white",
             "minorgridcolor": "white",
             "startlinecolor": "#2a3f5f"
            },
            "baxis": {
             "endlinecolor": "#2a3f5f",
             "gridcolor": "white",
             "linecolor": "white",
             "minorgridcolor": "white",
             "startlinecolor": "#2a3f5f"
            },
            "type": "carpet"
           }
          ],
          "choropleth": [
           {
            "colorbar": {
             "outlinewidth": 0,
             "ticks": ""
            },
            "type": "choropleth"
           }
          ],
          "contour": [
           {
            "colorbar": {
             "outlinewidth": 0,
             "ticks": ""
            },
            "colorscale": [
             [
              0,
              "#0d0887"
             ],
             [
              0.1111111111111111,
              "#46039f"
             ],
             [
              0.2222222222222222,
              "#7201a8"
             ],
             [
              0.3333333333333333,
              "#9c179e"
             ],
             [
              0.4444444444444444,
              "#bd3786"
             ],
             [
              0.5555555555555556,
              "#d8576b"
             ],
             [
              0.6666666666666666,
              "#ed7953"
             ],
             [
              0.7777777777777778,
              "#fb9f3a"
             ],
             [
              0.8888888888888888,
              "#fdca26"
             ],
             [
              1,
              "#f0f921"
             ]
            ],
            "type": "contour"
           }
          ],
          "contourcarpet": [
           {
            "colorbar": {
             "outlinewidth": 0,
             "ticks": ""
            },
            "type": "contourcarpet"
           }
          ],
          "heatmap": [
           {
            "colorbar": {
             "outlinewidth": 0,
             "ticks": ""
            },
            "colorscale": [
             [
              0,
              "#0d0887"
             ],
             [
              0.1111111111111111,
              "#46039f"
             ],
             [
              0.2222222222222222,
              "#7201a8"
             ],
             [
              0.3333333333333333,
              "#9c179e"
             ],
             [
              0.4444444444444444,
              "#bd3786"
             ],
             [
              0.5555555555555556,
              "#d8576b"
             ],
             [
              0.6666666666666666,
              "#ed7953"
             ],
             [
              0.7777777777777778,
              "#fb9f3a"
             ],
             [
              0.8888888888888888,
              "#fdca26"
             ],
             [
              1,
              "#f0f921"
             ]
            ],
            "type": "heatmap"
           }
          ],
          "heatmapgl": [
           {
            "colorbar": {
             "outlinewidth": 0,
             "ticks": ""
            },
            "colorscale": [
             [
              0,
              "#0d0887"
             ],
             [
              0.1111111111111111,
              "#46039f"
             ],
             [
              0.2222222222222222,
              "#7201a8"
             ],
             [
              0.3333333333333333,
              "#9c179e"
             ],
             [
              0.4444444444444444,
              "#bd3786"
             ],
             [
              0.5555555555555556,
              "#d8576b"
             ],
             [
              0.6666666666666666,
              "#ed7953"
             ],
             [
              0.7777777777777778,
              "#fb9f3a"
             ],
             [
              0.8888888888888888,
              "#fdca26"
             ],
             [
              1,
              "#f0f921"
             ]
            ],
            "type": "heatmapgl"
           }
          ],
          "histogram": [
           {
            "marker": {
             "pattern": {
              "fillmode": "overlay",
              "size": 10,
              "solidity": 0.2
             }
            },
            "type": "histogram"
           }
          ],
          "histogram2d": [
           {
            "colorbar": {
             "outlinewidth": 0,
             "ticks": ""
            },
            "colorscale": [
             [
              0,
              "#0d0887"
             ],
             [
              0.1111111111111111,
              "#46039f"
             ],
             [
              0.2222222222222222,
              "#7201a8"
             ],
             [
              0.3333333333333333,
              "#9c179e"
             ],
             [
              0.4444444444444444,
              "#bd3786"
             ],
             [
              0.5555555555555556,
              "#d8576b"
             ],
             [
              0.6666666666666666,
              "#ed7953"
             ],
             [
              0.7777777777777778,
              "#fb9f3a"
             ],
             [
              0.8888888888888888,
              "#fdca26"
             ],
             [
              1,
              "#f0f921"
             ]
            ],
            "type": "histogram2d"
           }
          ],
          "histogram2dcontour": [
           {
            "colorbar": {
             "outlinewidth": 0,
             "ticks": ""
            },
            "colorscale": [
             [
              0,
              "#0d0887"
             ],
             [
              0.1111111111111111,
              "#46039f"
             ],
             [
              0.2222222222222222,
              "#7201a8"
             ],
             [
              0.3333333333333333,
              "#9c179e"
             ],
             [
              0.4444444444444444,
              "#bd3786"
             ],
             [
              0.5555555555555556,
              "#d8576b"
             ],
             [
              0.6666666666666666,
              "#ed7953"
             ],
             [
              0.7777777777777778,
              "#fb9f3a"
             ],
             [
              0.8888888888888888,
              "#fdca26"
             ],
             [
              1,
              "#f0f921"
             ]
            ],
            "type": "histogram2dcontour"
           }
          ],
          "mesh3d": [
           {
            "colorbar": {
             "outlinewidth": 0,
             "ticks": ""
            },
            "type": "mesh3d"
           }
          ],
          "parcoords": [
           {
            "line": {
             "colorbar": {
              "outlinewidth": 0,
              "ticks": ""
             }
            },
            "type": "parcoords"
           }
          ],
          "pie": [
           {
            "automargin": true,
            "type": "pie"
           }
          ],
          "scatter": [
           {
            "fillpattern": {
             "fillmode": "overlay",
             "size": 10,
             "solidity": 0.2
            },
            "type": "scatter"
           }
          ],
          "scatter3d": [
           {
            "line": {
             "colorbar": {
              "outlinewidth": 0,
              "ticks": ""
             }
            },
            "marker": {
             "colorbar": {
              "outlinewidth": 0,
              "ticks": ""
             }
            },
            "type": "scatter3d"
           }
          ],
          "scattercarpet": [
           {
            "marker": {
             "colorbar": {
              "outlinewidth": 0,
              "ticks": ""
             }
            },
            "type": "scattercarpet"
           }
          ],
          "scattergeo": [
           {
            "marker": {
             "colorbar": {
              "outlinewidth": 0,
              "ticks": ""
             }
            },
            "type": "scattergeo"
           }
          ],
          "scattergl": [
           {
            "marker": {
             "colorbar": {
              "outlinewidth": 0,
              "ticks": ""
             }
            },
            "type": "scattergl"
           }
          ],
          "scattermapbox": [
           {
            "marker": {
             "colorbar": {
              "outlinewidth": 0,
              "ticks": ""
             }
            },
            "type": "scattermapbox"
           }
          ],
          "scatterpolar": [
           {
            "marker": {
             "colorbar": {
              "outlinewidth": 0,
              "ticks": ""
             }
            },
            "type": "scatterpolar"
           }
          ],
          "scatterpolargl": [
           {
            "marker": {
             "colorbar": {
              "outlinewidth": 0,
              "ticks": ""
             }
            },
            "type": "scatterpolargl"
           }
          ],
          "scatterternary": [
           {
            "marker": {
             "colorbar": {
              "outlinewidth": 0,
              "ticks": ""
             }
            },
            "type": "scatterternary"
           }
          ],
          "surface": [
           {
            "colorbar": {
             "outlinewidth": 0,
             "ticks": ""
            },
            "colorscale": [
             [
              0,
              "#0d0887"
             ],
             [
              0.1111111111111111,
              "#46039f"
             ],
             [
              0.2222222222222222,
              "#7201a8"
             ],
             [
              0.3333333333333333,
              "#9c179e"
             ],
             [
              0.4444444444444444,
              "#bd3786"
             ],
             [
              0.5555555555555556,
              "#d8576b"
             ],
             [
              0.6666666666666666,
              "#ed7953"
             ],
             [
              0.7777777777777778,
              "#fb9f3a"
             ],
             [
              0.8888888888888888,
              "#fdca26"
             ],
             [
              1,
              "#f0f921"
             ]
            ],
            "type": "surface"
           }
          ],
          "table": [
           {
            "cells": {
             "fill": {
              "color": "#EBF0F8"
             },
             "line": {
              "color": "white"
             }
            },
            "header": {
             "fill": {
              "color": "#C8D4E3"
             },
             "line": {
              "color": "white"
             }
            },
            "type": "table"
           }
          ]
         },
         "layout": {
          "annotationdefaults": {
           "arrowcolor": "#2a3f5f",
           "arrowhead": 0,
           "arrowwidth": 1
          },
          "autotypenumbers": "strict",
          "coloraxis": {
           "colorbar": {
            "outlinewidth": 0,
            "ticks": ""
           }
          },
          "colorscale": {
           "diverging": [
            [
             0,
             "#8e0152"
            ],
            [
             0.1,
             "#c51b7d"
            ],
            [
             0.2,
             "#de77ae"
            ],
            [
             0.3,
             "#f1b6da"
            ],
            [
             0.4,
             "#fde0ef"
            ],
            [
             0.5,
             "#f7f7f7"
            ],
            [
             0.6,
             "#e6f5d0"
            ],
            [
             0.7,
             "#b8e186"
            ],
            [
             0.8,
             "#7fbc41"
            ],
            [
             0.9,
             "#4d9221"
            ],
            [
             1,
             "#276419"
            ]
           ],
           "sequential": [
            [
             0,
             "#0d0887"
            ],
            [
             0.1111111111111111,
             "#46039f"
            ],
            [
             0.2222222222222222,
             "#7201a8"
            ],
            [
             0.3333333333333333,
             "#9c179e"
            ],
            [
             0.4444444444444444,
             "#bd3786"
            ],
            [
             0.5555555555555556,
             "#d8576b"
            ],
            [
             0.6666666666666666,
             "#ed7953"
            ],
            [
             0.7777777777777778,
             "#fb9f3a"
            ],
            [
             0.8888888888888888,
             "#fdca26"
            ],
            [
             1,
             "#f0f921"
            ]
           ],
           "sequentialminus": [
            [
             0,
             "#0d0887"
            ],
            [
             0.1111111111111111,
             "#46039f"
            ],
            [
             0.2222222222222222,
             "#7201a8"
            ],
            [
             0.3333333333333333,
             "#9c179e"
            ],
            [
             0.4444444444444444,
             "#bd3786"
            ],
            [
             0.5555555555555556,
             "#d8576b"
            ],
            [
             0.6666666666666666,
             "#ed7953"
            ],
            [
             0.7777777777777778,
             "#fb9f3a"
            ],
            [
             0.8888888888888888,
             "#fdca26"
            ],
            [
             1,
             "#f0f921"
            ]
           ]
          },
          "colorway": [
           "#636efa",
           "#EF553B",
           "#00cc96",
           "#ab63fa",
           "#FFA15A",
           "#19d3f3",
           "#FF6692",
           "#B6E880",
           "#FF97FF",
           "#FECB52"
          ],
          "font": {
           "color": "#2a3f5f"
          },
          "geo": {
           "bgcolor": "white",
           "lakecolor": "white",
           "landcolor": "#E5ECF6",
           "showlakes": true,
           "showland": true,
           "subunitcolor": "white"
          },
          "hoverlabel": {
           "align": "left"
          },
          "hovermode": "closest",
          "mapbox": {
           "style": "light"
          },
          "paper_bgcolor": "white",
          "plot_bgcolor": "#E5ECF6",
          "polar": {
           "angularaxis": {
            "gridcolor": "white",
            "linecolor": "white",
            "ticks": ""
           },
           "bgcolor": "#E5ECF6",
           "radialaxis": {
            "gridcolor": "white",
            "linecolor": "white",
            "ticks": ""
           }
          },
          "scene": {
           "xaxis": {
            "backgroundcolor": "#E5ECF6",
            "gridcolor": "white",
            "gridwidth": 2,
            "linecolor": "white",
            "showbackground": true,
            "ticks": "",
            "zerolinecolor": "white"
           },
           "yaxis": {
            "backgroundcolor": "#E5ECF6",
            "gridcolor": "white",
            "gridwidth": 2,
            "linecolor": "white",
            "showbackground": true,
            "ticks": "",
            "zerolinecolor": "white"
           },
           "zaxis": {
            "backgroundcolor": "#E5ECF6",
            "gridcolor": "white",
            "gridwidth": 2,
            "linecolor": "white",
            "showbackground": true,
            "ticks": "",
            "zerolinecolor": "white"
           }
          },
          "shapedefaults": {
           "line": {
            "color": "#2a3f5f"
           }
          },
          "ternary": {
           "aaxis": {
            "gridcolor": "white",
            "linecolor": "white",
            "ticks": ""
           },
           "baxis": {
            "gridcolor": "white",
            "linecolor": "white",
            "ticks": ""
           },
           "bgcolor": "#E5ECF6",
           "caxis": {
            "gridcolor": "white",
            "linecolor": "white",
            "ticks": ""
           }
          },
          "title": {
           "x": 0.05
          },
          "xaxis": {
           "automargin": true,
           "gridcolor": "white",
           "linecolor": "white",
           "ticks": "",
           "title": {
            "standoff": 15
           },
           "zerolinecolor": "white",
           "zerolinewidth": 2
          },
          "yaxis": {
           "automargin": true,
           "gridcolor": "white",
           "linecolor": "white",
           "ticks": "",
           "title": {
            "standoff": 15
           },
           "zerolinecolor": "white",
           "zerolinewidth": 2
          }
         }
        },
        "title": {
         "text": "3D Comparison for departement-01-ain"
        },
        "width": 1600
       }
      }
     },
     "metadata": {},
     "output_type": "display_data"
    },
    {
     "data": {
      "application/vnd.plotly.v1+json": {
       "config": {
        "plotlyServerURL": "https://plot.ly"
       },
       "data": [
        {
         "line": {
          "color": "#636EFA",
          "width": 3
         },
         "marker": {
          "color": "#636EFA",
          "size": 8
         },
         "mode": "lines+markers",
         "name": "fwi-mean-[5, 10.5, 21.5, 34.5]-5",
         "scene": "scene",
         "type": "scatter3d",
         "x": [
          0,
          0,
          0,
          0,
          0
         ],
         "y": [
          4,
          5,
          6,
          7,
          10
         ],
         "z": [
          0.07,
          0.12,
          0.12,
          0.22,
          0.67
         ]
        },
        {
         "line": {
          "color": "#EF553B",
          "width": 3
         },
         "marker": {
          "color": "#EF553B",
          "size": 8
         },
         "mode": "lines+markers",
         "name": "nbsinister-max-3-kmeans-5-Class-Dept-None-5",
         "scene": "scene",
         "type": "scatter3d",
         "x": [
          1,
          1,
          1,
          1,
          1
         ],
         "y": [
          4,
          5,
          6,
          7,
          10
         ],
         "z": [
          0.59,
          0.72,
          0.72,
          0.89,
          0.91
         ]
        },
        {
         "line": {
          "color": "#00CC96",
          "width": 3
         },
         "marker": {
          "color": "#00CC96",
          "size": 8
         },
         "mode": "lines+markers",
         "name": "nbsinister-max-1-kmeans-5-Class-Dept-None-5",
         "scene": "scene",
         "type": "scatter3d",
         "x": [
          2,
          2,
          2,
          2,
          2
         ],
         "y": [
          4,
          5,
          6,
          7,
          10
         ],
         "z": [
          0.81,
          0.81,
          0.81,
          0.93,
          1
         ]
        },
        {
         "line": {
          "color": "#AB63FA",
          "width": 3
         },
         "marker": {
          "color": "#AB63FA",
          "size": 8
         },
         "mode": "lines+markers",
         "name": "nbsinister-max-0-kmeans-5-Class-Dept-None-5",
         "scene": "scene",
         "type": "scatter3d",
         "x": [
          3,
          3,
          3,
          3,
          3
         ],
         "y": [
          4,
          5,
          6,
          7,
          10
         ],
         "z": [
          1,
          1,
          1,
          1,
          1
         ]
        },
        {
         "line": {
          "color": "#FFA15A",
          "width": 3
         },
         "marker": {
          "color": "#FFA15A",
          "size": 8
         },
         "mode": "lines+markers",
         "name": "risk-kmeans-5-Class-Dept-None-5",
         "scene": "scene",
         "type": "scatter3d",
         "x": [
          4,
          4,
          4,
          4,
          4
         ],
         "y": [
          4,
          5,
          6,
          7,
          10
         ],
         "z": [
          0.79,
          0.8,
          0.83,
          0.88,
          1
         ]
        },
        {
         "line": {
          "color": "#19D3F3",
          "width": 3
         },
         "marker": {
          "color": "#19D3F3",
          "size": 8
         },
         "mode": "lines+markers",
         "name": "risk-nbsinister-Robust-kmeans-5-Class-Dept-None-5",
         "scene": "scene",
         "type": "scatter3d",
         "x": [
          5,
          5,
          5,
          5,
          5
         ],
         "y": [
          4,
          5,
          6,
          7,
          10
         ],
         "z": [
          0.79,
          0.88,
          0.88,
          0.92,
          1
         ]
        },
        {
         "line": {
          "color": "#636EFA",
          "width": 3
         },
         "marker": {
          "color": "#636EFA",
          "size": 8
         },
         "mode": "lines+markers",
         "name": "fwi-mean-[5, 10.5, 21.5, 34.5]-5",
         "scene": "scene2",
         "type": "scatter3d",
         "x": [
          0,
          0,
          0,
          0,
          0
         ],
         "y": [
          4,
          5,
          6,
          7,
          10
         ],
         "z": [
          0.07,
          0.22,
          0.22,
          null,
          0.75
         ]
        },
        {
         "line": {
          "color": "#EF553B",
          "width": 3
         },
         "marker": {
          "color": "#EF553B",
          "size": 8
         },
         "mode": "lines+markers",
         "name": "nbsinister-max-3-kmeans-5-Class-Dept-None-5",
         "scene": "scene2",
         "type": "scatter3d",
         "x": [
          1,
          1,
          1,
          1,
          1
         ],
         "y": [
          4,
          5,
          6,
          7,
          10
         ],
         "z": [
          0.58,
          0.58,
          0.58,
          null,
          null
         ]
        },
        {
         "line": {
          "color": "#00CC96",
          "width": 3
         },
         "marker": {
          "color": "#00CC96",
          "size": 8
         },
         "mode": "lines+markers",
         "name": "nbsinister-max-1-kmeans-5-Class-Dept-None-5",
         "scene": "scene2",
         "type": "scatter3d",
         "x": [
          2,
          2,
          2,
          2,
          2
         ],
         "y": [
          4,
          5,
          6,
          7,
          10
         ],
         "z": [
          0.75,
          0.75,
          0.75,
          null,
          1
         ]
        },
        {
         "line": {
          "color": "#AB63FA",
          "width": 3
         },
         "marker": {
          "color": "#AB63FA",
          "size": 8
         },
         "mode": "lines+markers",
         "name": "nbsinister-max-0-kmeans-5-Class-Dept-None-5",
         "scene": "scene2",
         "type": "scatter3d",
         "x": [
          3,
          3,
          3,
          3,
          3
         ],
         "y": [
          4,
          5,
          6,
          7,
          10
         ],
         "z": [
          0,
          0,
          0,
          1,
          1
         ]
        },
        {
         "line": {
          "color": "#FFA15A",
          "width": 3
         },
         "marker": {
          "color": "#FFA15A",
          "size": 8
         },
         "mode": "lines+markers",
         "name": "risk-kmeans-5-Class-Dept-None-5",
         "scene": "scene2",
         "type": "scatter3d",
         "x": [
          4,
          4,
          4,
          4,
          4
         ],
         "y": [
          4,
          5,
          6,
          7,
          10
         ],
         "z": [
          1,
          1,
          1,
          1,
          null
         ]
        },
        {
         "line": {
          "color": "#19D3F3",
          "width": 3
         },
         "marker": {
          "color": "#19D3F3",
          "size": 8
         },
         "mode": "lines+markers",
         "name": "risk-nbsinister-Robust-kmeans-5-Class-Dept-None-5",
         "scene": "scene2",
         "type": "scatter3d",
         "x": [
          5,
          5,
          5,
          5,
          5
         ],
         "y": [
          4,
          5,
          6,
          7,
          10
         ],
         "z": [
          1,
          1,
          1,
          1,
          1
         ]
        }
       ],
       "layout": {
        "annotations": [
         {
          "font": {
           "size": 16
          },
          "showarrow": false,
          "text": "departement-25-doubs - iou_wildfire_or_pred_elt_3_class",
          "x": 0.225,
          "xanchor": "center",
          "xref": "paper",
          "y": 1,
          "yanchor": "bottom",
          "yref": "paper"
         },
         {
          "font": {
           "size": 16
          },
          "showarrow": false,
          "text": "departement-25-doubs - iou_wildfire_or_pred_elt_4_class",
          "x": 0.775,
          "xanchor": "center",
          "xref": "paper",
          "y": 1,
          "yanchor": "bottom",
          "yref": "paper"
         }
        ],
        "height": 900,
        "scene": {
         "domain": {
          "x": [
           0,
           0.45
          ],
          "y": [
           0,
           1
          ]
         },
         "xaxis": {
          "ticktext": [
           "fwi-mean-[5, 10.5, 21.5, 34.5]-5",
           "nbsinister-max-3-kmeans-5-Class-Dept-None-5",
           "nbsinister-max-1-kmeans-5-Class-Dept-None-5",
           "nbsinister-max-0-kmeans-5-Class-Dept-None-5",
           "risk-kmeans-5-Class-Dept-None-5",
           "risk-nbsinister-Robust-kmeans-5-Class-Dept-None-5"
          ],
          "tickvals": [
           0,
           1,
           2,
           3,
           4,
           5
          ],
          "title": {
           "text": "Model"
          }
         },
         "yaxis": {
          "title": {
           "text": "Scale"
          }
         },
         "zaxis": {
          "title": {
           "text": "iou_wildfire_or_pred_elt_3_class"
          }
         }
        },
        "scene2": {
         "domain": {
          "x": [
           0.55,
           1
          ],
          "y": [
           0,
           1
          ]
         },
         "xaxis": {
          "ticktext": [
           "fwi-mean-[5, 10.5, 21.5, 34.5]-5",
           "nbsinister-max-3-kmeans-5-Class-Dept-None-5",
           "nbsinister-max-1-kmeans-5-Class-Dept-None-5",
           "nbsinister-max-0-kmeans-5-Class-Dept-None-5",
           "risk-kmeans-5-Class-Dept-None-5",
           "risk-nbsinister-Robust-kmeans-5-Class-Dept-None-5"
          ],
          "tickvals": [
           0,
           1,
           2,
           3,
           4,
           5
          ],
          "title": {
           "text": "Model"
          }
         },
         "yaxis": {
          "title": {
           "text": "Scale"
          }
         },
         "zaxis": {
          "title": {
           "text": "iou_wildfire_or_pred_elt_4_class"
          }
         }
        },
        "showlegend": true,
        "template": {
         "data": {
          "bar": [
           {
            "error_x": {
             "color": "#2a3f5f"
            },
            "error_y": {
             "color": "#2a3f5f"
            },
            "marker": {
             "line": {
              "color": "#E5ECF6",
              "width": 0.5
             },
             "pattern": {
              "fillmode": "overlay",
              "size": 10,
              "solidity": 0.2
             }
            },
            "type": "bar"
           }
          ],
          "barpolar": [
           {
            "marker": {
             "line": {
              "color": "#E5ECF6",
              "width": 0.5
             },
             "pattern": {
              "fillmode": "overlay",
              "size": 10,
              "solidity": 0.2
             }
            },
            "type": "barpolar"
           }
          ],
          "carpet": [
           {
            "aaxis": {
             "endlinecolor": "#2a3f5f",
             "gridcolor": "white",
             "linecolor": "white",
             "minorgridcolor": "white",
             "startlinecolor": "#2a3f5f"
            },
            "baxis": {
             "endlinecolor": "#2a3f5f",
             "gridcolor": "white",
             "linecolor": "white",
             "minorgridcolor": "white",
             "startlinecolor": "#2a3f5f"
            },
            "type": "carpet"
           }
          ],
          "choropleth": [
           {
            "colorbar": {
             "outlinewidth": 0,
             "ticks": ""
            },
            "type": "choropleth"
           }
          ],
          "contour": [
           {
            "colorbar": {
             "outlinewidth": 0,
             "ticks": ""
            },
            "colorscale": [
             [
              0,
              "#0d0887"
             ],
             [
              0.1111111111111111,
              "#46039f"
             ],
             [
              0.2222222222222222,
              "#7201a8"
             ],
             [
              0.3333333333333333,
              "#9c179e"
             ],
             [
              0.4444444444444444,
              "#bd3786"
             ],
             [
              0.5555555555555556,
              "#d8576b"
             ],
             [
              0.6666666666666666,
              "#ed7953"
             ],
             [
              0.7777777777777778,
              "#fb9f3a"
             ],
             [
              0.8888888888888888,
              "#fdca26"
             ],
             [
              1,
              "#f0f921"
             ]
            ],
            "type": "contour"
           }
          ],
          "contourcarpet": [
           {
            "colorbar": {
             "outlinewidth": 0,
             "ticks": ""
            },
            "type": "contourcarpet"
           }
          ],
          "heatmap": [
           {
            "colorbar": {
             "outlinewidth": 0,
             "ticks": ""
            },
            "colorscale": [
             [
              0,
              "#0d0887"
             ],
             [
              0.1111111111111111,
              "#46039f"
             ],
             [
              0.2222222222222222,
              "#7201a8"
             ],
             [
              0.3333333333333333,
              "#9c179e"
             ],
             [
              0.4444444444444444,
              "#bd3786"
             ],
             [
              0.5555555555555556,
              "#d8576b"
             ],
             [
              0.6666666666666666,
              "#ed7953"
             ],
             [
              0.7777777777777778,
              "#fb9f3a"
             ],
             [
              0.8888888888888888,
              "#fdca26"
             ],
             [
              1,
              "#f0f921"
             ]
            ],
            "type": "heatmap"
           }
          ],
          "heatmapgl": [
           {
            "colorbar": {
             "outlinewidth": 0,
             "ticks": ""
            },
            "colorscale": [
             [
              0,
              "#0d0887"
             ],
             [
              0.1111111111111111,
              "#46039f"
             ],
             [
              0.2222222222222222,
              "#7201a8"
             ],
             [
              0.3333333333333333,
              "#9c179e"
             ],
             [
              0.4444444444444444,
              "#bd3786"
             ],
             [
              0.5555555555555556,
              "#d8576b"
             ],
             [
              0.6666666666666666,
              "#ed7953"
             ],
             [
              0.7777777777777778,
              "#fb9f3a"
             ],
             [
              0.8888888888888888,
              "#fdca26"
             ],
             [
              1,
              "#f0f921"
             ]
            ],
            "type": "heatmapgl"
           }
          ],
          "histogram": [
           {
            "marker": {
             "pattern": {
              "fillmode": "overlay",
              "size": 10,
              "solidity": 0.2
             }
            },
            "type": "histogram"
           }
          ],
          "histogram2d": [
           {
            "colorbar": {
             "outlinewidth": 0,
             "ticks": ""
            },
            "colorscale": [
             [
              0,
              "#0d0887"
             ],
             [
              0.1111111111111111,
              "#46039f"
             ],
             [
              0.2222222222222222,
              "#7201a8"
             ],
             [
              0.3333333333333333,
              "#9c179e"
             ],
             [
              0.4444444444444444,
              "#bd3786"
             ],
             [
              0.5555555555555556,
              "#d8576b"
             ],
             [
              0.6666666666666666,
              "#ed7953"
             ],
             [
              0.7777777777777778,
              "#fb9f3a"
             ],
             [
              0.8888888888888888,
              "#fdca26"
             ],
             [
              1,
              "#f0f921"
             ]
            ],
            "type": "histogram2d"
           }
          ],
          "histogram2dcontour": [
           {
            "colorbar": {
             "outlinewidth": 0,
             "ticks": ""
            },
            "colorscale": [
             [
              0,
              "#0d0887"
             ],
             [
              0.1111111111111111,
              "#46039f"
             ],
             [
              0.2222222222222222,
              "#7201a8"
             ],
             [
              0.3333333333333333,
              "#9c179e"
             ],
             [
              0.4444444444444444,
              "#bd3786"
             ],
             [
              0.5555555555555556,
              "#d8576b"
             ],
             [
              0.6666666666666666,
              "#ed7953"
             ],
             [
              0.7777777777777778,
              "#fb9f3a"
             ],
             [
              0.8888888888888888,
              "#fdca26"
             ],
             [
              1,
              "#f0f921"
             ]
            ],
            "type": "histogram2dcontour"
           }
          ],
          "mesh3d": [
           {
            "colorbar": {
             "outlinewidth": 0,
             "ticks": ""
            },
            "type": "mesh3d"
           }
          ],
          "parcoords": [
           {
            "line": {
             "colorbar": {
              "outlinewidth": 0,
              "ticks": ""
             }
            },
            "type": "parcoords"
           }
          ],
          "pie": [
           {
            "automargin": true,
            "type": "pie"
           }
          ],
          "scatter": [
           {
            "fillpattern": {
             "fillmode": "overlay",
             "size": 10,
             "solidity": 0.2
            },
            "type": "scatter"
           }
          ],
          "scatter3d": [
           {
            "line": {
             "colorbar": {
              "outlinewidth": 0,
              "ticks": ""
             }
            },
            "marker": {
             "colorbar": {
              "outlinewidth": 0,
              "ticks": ""
             }
            },
            "type": "scatter3d"
           }
          ],
          "scattercarpet": [
           {
            "marker": {
             "colorbar": {
              "outlinewidth": 0,
              "ticks": ""
             }
            },
            "type": "scattercarpet"
           }
          ],
          "scattergeo": [
           {
            "marker": {
             "colorbar": {
              "outlinewidth": 0,
              "ticks": ""
             }
            },
            "type": "scattergeo"
           }
          ],
          "scattergl": [
           {
            "marker": {
             "colorbar": {
              "outlinewidth": 0,
              "ticks": ""
             }
            },
            "type": "scattergl"
           }
          ],
          "scattermapbox": [
           {
            "marker": {
             "colorbar": {
              "outlinewidth": 0,
              "ticks": ""
             }
            },
            "type": "scattermapbox"
           }
          ],
          "scatterpolar": [
           {
            "marker": {
             "colorbar": {
              "outlinewidth": 0,
              "ticks": ""
             }
            },
            "type": "scatterpolar"
           }
          ],
          "scatterpolargl": [
           {
            "marker": {
             "colorbar": {
              "outlinewidth": 0,
              "ticks": ""
             }
            },
            "type": "scatterpolargl"
           }
          ],
          "scatterternary": [
           {
            "marker": {
             "colorbar": {
              "outlinewidth": 0,
              "ticks": ""
             }
            },
            "type": "scatterternary"
           }
          ],
          "surface": [
           {
            "colorbar": {
             "outlinewidth": 0,
             "ticks": ""
            },
            "colorscale": [
             [
              0,
              "#0d0887"
             ],
             [
              0.1111111111111111,
              "#46039f"
             ],
             [
              0.2222222222222222,
              "#7201a8"
             ],
             [
              0.3333333333333333,
              "#9c179e"
             ],
             [
              0.4444444444444444,
              "#bd3786"
             ],
             [
              0.5555555555555556,
              "#d8576b"
             ],
             [
              0.6666666666666666,
              "#ed7953"
             ],
             [
              0.7777777777777778,
              "#fb9f3a"
             ],
             [
              0.8888888888888888,
              "#fdca26"
             ],
             [
              1,
              "#f0f921"
             ]
            ],
            "type": "surface"
           }
          ],
          "table": [
           {
            "cells": {
             "fill": {
              "color": "#EBF0F8"
             },
             "line": {
              "color": "white"
             }
            },
            "header": {
             "fill": {
              "color": "#C8D4E3"
             },
             "line": {
              "color": "white"
             }
            },
            "type": "table"
           }
          ]
         },
         "layout": {
          "annotationdefaults": {
           "arrowcolor": "#2a3f5f",
           "arrowhead": 0,
           "arrowwidth": 1
          },
          "autotypenumbers": "strict",
          "coloraxis": {
           "colorbar": {
            "outlinewidth": 0,
            "ticks": ""
           }
          },
          "colorscale": {
           "diverging": [
            [
             0,
             "#8e0152"
            ],
            [
             0.1,
             "#c51b7d"
            ],
            [
             0.2,
             "#de77ae"
            ],
            [
             0.3,
             "#f1b6da"
            ],
            [
             0.4,
             "#fde0ef"
            ],
            [
             0.5,
             "#f7f7f7"
            ],
            [
             0.6,
             "#e6f5d0"
            ],
            [
             0.7,
             "#b8e186"
            ],
            [
             0.8,
             "#7fbc41"
            ],
            [
             0.9,
             "#4d9221"
            ],
            [
             1,
             "#276419"
            ]
           ],
           "sequential": [
            [
             0,
             "#0d0887"
            ],
            [
             0.1111111111111111,
             "#46039f"
            ],
            [
             0.2222222222222222,
             "#7201a8"
            ],
            [
             0.3333333333333333,
             "#9c179e"
            ],
            [
             0.4444444444444444,
             "#bd3786"
            ],
            [
             0.5555555555555556,
             "#d8576b"
            ],
            [
             0.6666666666666666,
             "#ed7953"
            ],
            [
             0.7777777777777778,
             "#fb9f3a"
            ],
            [
             0.8888888888888888,
             "#fdca26"
            ],
            [
             1,
             "#f0f921"
            ]
           ],
           "sequentialminus": [
            [
             0,
             "#0d0887"
            ],
            [
             0.1111111111111111,
             "#46039f"
            ],
            [
             0.2222222222222222,
             "#7201a8"
            ],
            [
             0.3333333333333333,
             "#9c179e"
            ],
            [
             0.4444444444444444,
             "#bd3786"
            ],
            [
             0.5555555555555556,
             "#d8576b"
            ],
            [
             0.6666666666666666,
             "#ed7953"
            ],
            [
             0.7777777777777778,
             "#fb9f3a"
            ],
            [
             0.8888888888888888,
             "#fdca26"
            ],
            [
             1,
             "#f0f921"
            ]
           ]
          },
          "colorway": [
           "#636efa",
           "#EF553B",
           "#00cc96",
           "#ab63fa",
           "#FFA15A",
           "#19d3f3",
           "#FF6692",
           "#B6E880",
           "#FF97FF",
           "#FECB52"
          ],
          "font": {
           "color": "#2a3f5f"
          },
          "geo": {
           "bgcolor": "white",
           "lakecolor": "white",
           "landcolor": "#E5ECF6",
           "showlakes": true,
           "showland": true,
           "subunitcolor": "white"
          },
          "hoverlabel": {
           "align": "left"
          },
          "hovermode": "closest",
          "mapbox": {
           "style": "light"
          },
          "paper_bgcolor": "white",
          "plot_bgcolor": "#E5ECF6",
          "polar": {
           "angularaxis": {
            "gridcolor": "white",
            "linecolor": "white",
            "ticks": ""
           },
           "bgcolor": "#E5ECF6",
           "radialaxis": {
            "gridcolor": "white",
            "linecolor": "white",
            "ticks": ""
           }
          },
          "scene": {
           "xaxis": {
            "backgroundcolor": "#E5ECF6",
            "gridcolor": "white",
            "gridwidth": 2,
            "linecolor": "white",
            "showbackground": true,
            "ticks": "",
            "zerolinecolor": "white"
           },
           "yaxis": {
            "backgroundcolor": "#E5ECF6",
            "gridcolor": "white",
            "gridwidth": 2,
            "linecolor": "white",
            "showbackground": true,
            "ticks": "",
            "zerolinecolor": "white"
           },
           "zaxis": {
            "backgroundcolor": "#E5ECF6",
            "gridcolor": "white",
            "gridwidth": 2,
            "linecolor": "white",
            "showbackground": true,
            "ticks": "",
            "zerolinecolor": "white"
           }
          },
          "shapedefaults": {
           "line": {
            "color": "#2a3f5f"
           }
          },
          "ternary": {
           "aaxis": {
            "gridcolor": "white",
            "linecolor": "white",
            "ticks": ""
           },
           "baxis": {
            "gridcolor": "white",
            "linecolor": "white",
            "ticks": ""
           },
           "bgcolor": "#E5ECF6",
           "caxis": {
            "gridcolor": "white",
            "linecolor": "white",
            "ticks": ""
           }
          },
          "title": {
           "x": 0.05
          },
          "xaxis": {
           "automargin": true,
           "gridcolor": "white",
           "linecolor": "white",
           "ticks": "",
           "title": {
            "standoff": 15
           },
           "zerolinecolor": "white",
           "zerolinewidth": 2
          },
          "yaxis": {
           "automargin": true,
           "gridcolor": "white",
           "linecolor": "white",
           "ticks": "",
           "title": {
            "standoff": 15
           },
           "zerolinecolor": "white",
           "zerolinewidth": 2
          }
         }
        },
        "title": {
         "text": "3D Comparison for departement-25-doubs"
        },
        "width": 1600
       }
      }
     },
     "metadata": {},
     "output_type": "display_data"
    },
    {
     "data": {
      "application/vnd.plotly.v1+json": {
       "config": {
        "plotlyServerURL": "https://plot.ly"
       },
       "data": [
        {
         "line": {
          "color": "#636EFA",
          "width": 3
         },
         "marker": {
          "color": "#636EFA",
          "size": 8
         },
         "mode": "lines+markers",
         "name": "fwi-mean-[5, 10.5, 21.5, 34.5]-5",
         "scene": "scene",
         "type": "scatter3d",
         "x": [
          0,
          0,
          0,
          0,
          0
         ],
         "y": [
          4,
          5,
          6,
          7,
          10
         ],
         "z": [
          0.16,
          0.29,
          0.29,
          0.4,
          0.62
         ]
        },
        {
         "line": {
          "color": "#EF553B",
          "width": 3
         },
         "marker": {
          "color": "#EF553B",
          "size": 8
         },
         "mode": "lines+markers",
         "name": "nbsinister-max-3-kmeans-5-Class-Dept-None-5",
         "scene": "scene",
         "type": "scatter3d",
         "x": [
          1,
          1,
          1,
          1,
          1
         ],
         "y": [
          4,
          5,
          6,
          7,
          10
         ],
         "z": [
          0.55,
          0.65,
          0.65,
          0.65,
          0.72
         ]
        },
        {
         "line": {
          "color": "#00CC96",
          "width": 3
         },
         "marker": {
          "color": "#00CC96",
          "size": 8
         },
         "mode": "lines+markers",
         "name": "nbsinister-max-1-kmeans-5-Class-Dept-None-5",
         "scene": "scene",
         "type": "scatter3d",
         "x": [
          2,
          2,
          2,
          2,
          2
         ],
         "y": [
          4,
          5,
          6,
          7,
          10
         ],
         "z": [
          0.7,
          0.92,
          0.92,
          0.92,
          0.9
         ]
        },
        {
         "line": {
          "color": "#AB63FA",
          "width": 3
         },
         "marker": {
          "color": "#AB63FA",
          "size": 8
         },
         "mode": "lines+markers",
         "name": "nbsinister-max-0-kmeans-5-Class-Dept-None-5",
         "scene": "scene",
         "type": "scatter3d",
         "x": [
          3,
          3,
          3,
          3,
          3
         ],
         "y": [
          4,
          5,
          6,
          7,
          10
         ],
         "z": [
          1,
          1,
          1,
          1,
          1
         ]
        },
        {
         "line": {
          "color": "#FFA15A",
          "width": 3
         },
         "marker": {
          "color": "#FFA15A",
          "size": 8
         },
         "mode": "lines+markers",
         "name": "risk-kmeans-5-Class-Dept-None-5",
         "scene": "scene",
         "type": "scatter3d",
         "x": [
          4,
          4,
          4,
          4,
          4
         ],
         "y": [
          4,
          5,
          6,
          7,
          10
         ],
         "z": [
          0.6,
          1,
          1,
          1,
          1
         ]
        },
        {
         "line": {
          "color": "#19D3F3",
          "width": 3
         },
         "marker": {
          "color": "#19D3F3",
          "size": 8
         },
         "mode": "lines+markers",
         "name": "risk-nbsinister-Robust-kmeans-5-Class-Dept-None-5",
         "scene": "scene",
         "type": "scatter3d",
         "x": [
          5,
          5,
          5,
          5,
          5
         ],
         "y": [
          4,
          5,
          6,
          7,
          10
         ],
         "z": [
          0.86,
          1,
          1,
          1,
          1
         ]
        },
        {
         "line": {
          "color": "#636EFA",
          "width": 3
         },
         "marker": {
          "color": "#636EFA",
          "size": 8
         },
         "mode": "lines+markers",
         "name": "fwi-mean-[5, 10.5, 21.5, 34.5]-5",
         "scene": "scene2",
         "type": "scatter3d",
         "x": [
          0,
          0,
          0,
          0,
          0
         ],
         "y": [
          4,
          5,
          6,
          7,
          10
         ],
         "z": [
          null,
          0.41,
          0.41,
          0.52,
          null
         ]
        },
        {
         "line": {
          "color": "#EF553B",
          "width": 3
         },
         "marker": {
          "color": "#EF553B",
          "size": 8
         },
         "mode": "lines+markers",
         "name": "nbsinister-max-3-kmeans-5-Class-Dept-None-5",
         "scene": "scene2",
         "type": "scatter3d",
         "x": [
          1,
          1,
          1,
          1,
          1
         ],
         "y": [
          4,
          5,
          6,
          7,
          10
         ],
         "z": [
          null,
          1,
          1,
          1,
          null
         ]
        },
        {
         "line": {
          "color": "#00CC96",
          "width": 3
         },
         "marker": {
          "color": "#00CC96",
          "size": 8
         },
         "mode": "lines+markers",
         "name": "nbsinister-max-1-kmeans-5-Class-Dept-None-5",
         "scene": "scene2",
         "type": "scatter3d",
         "x": [
          2,
          2,
          2,
          2,
          2
         ],
         "y": [
          4,
          5,
          6,
          7,
          10
         ],
         "z": [
          null,
          1,
          1,
          1,
          null
         ]
        },
        {
         "line": {
          "color": "#AB63FA",
          "width": 3
         },
         "marker": {
          "color": "#AB63FA",
          "size": 8
         },
         "mode": "lines+markers",
         "name": "nbsinister-max-0-kmeans-5-Class-Dept-None-5",
         "scene": "scene2",
         "type": "scatter3d",
         "x": [
          3,
          3,
          3,
          3,
          3
         ],
         "y": [
          4,
          5,
          6,
          7,
          10
         ],
         "z": [
          null,
          0,
          0,
          0,
          0
         ]
        },
        {
         "line": {
          "color": "#FFA15A",
          "width": 3
         },
         "marker": {
          "color": "#FFA15A",
          "size": 8
         },
         "mode": "lines+markers",
         "name": "risk-kmeans-5-Class-Dept-None-5",
         "scene": "scene2",
         "type": "scatter3d",
         "x": [
          4,
          4,
          4,
          4,
          4
         ],
         "y": [
          4,
          5,
          6,
          7,
          10
         ],
         "z": [
          1,
          1,
          1,
          1,
          1
         ]
        },
        {
         "line": {
          "color": "#19D3F3",
          "width": 3
         },
         "marker": {
          "color": "#19D3F3",
          "size": 8
         },
         "mode": "lines+markers",
         "name": "risk-nbsinister-Robust-kmeans-5-Class-Dept-None-5",
         "scene": "scene2",
         "type": "scatter3d",
         "x": [
          5,
          5,
          5,
          5,
          5
         ],
         "y": [
          4,
          5,
          6,
          7,
          10
         ],
         "z": [
          1,
          1,
          1,
          0,
          null
         ]
        }
       ],
       "layout": {
        "annotations": [
         {
          "font": {
           "size": 16
          },
          "showarrow": false,
          "text": "departement-78-yvelines - iou_wildfire_or_pred_elt_3_class",
          "x": 0.225,
          "xanchor": "center",
          "xref": "paper",
          "y": 1,
          "yanchor": "bottom",
          "yref": "paper"
         },
         {
          "font": {
           "size": 16
          },
          "showarrow": false,
          "text": "departement-78-yvelines - iou_wildfire_or_pred_elt_4_class",
          "x": 0.775,
          "xanchor": "center",
          "xref": "paper",
          "y": 1,
          "yanchor": "bottom",
          "yref": "paper"
         }
        ],
        "height": 900,
        "scene": {
         "domain": {
          "x": [
           0,
           0.45
          ],
          "y": [
           0,
           1
          ]
         },
         "xaxis": {
          "ticktext": [
           "fwi-mean-[5, 10.5, 21.5, 34.5]-5",
           "nbsinister-max-3-kmeans-5-Class-Dept-None-5",
           "nbsinister-max-1-kmeans-5-Class-Dept-None-5",
           "nbsinister-max-0-kmeans-5-Class-Dept-None-5",
           "risk-kmeans-5-Class-Dept-None-5",
           "risk-nbsinister-Robust-kmeans-5-Class-Dept-None-5"
          ],
          "tickvals": [
           0,
           1,
           2,
           3,
           4,
           5
          ],
          "title": {
           "text": "Model"
          }
         },
         "yaxis": {
          "title": {
           "text": "Scale"
          }
         },
         "zaxis": {
          "title": {
           "text": "iou_wildfire_or_pred_elt_3_class"
          }
         }
        },
        "scene2": {
         "domain": {
          "x": [
           0.55,
           1
          ],
          "y": [
           0,
           1
          ]
         },
         "xaxis": {
          "ticktext": [
           "fwi-mean-[5, 10.5, 21.5, 34.5]-5",
           "nbsinister-max-3-kmeans-5-Class-Dept-None-5",
           "nbsinister-max-1-kmeans-5-Class-Dept-None-5",
           "nbsinister-max-0-kmeans-5-Class-Dept-None-5",
           "risk-kmeans-5-Class-Dept-None-5",
           "risk-nbsinister-Robust-kmeans-5-Class-Dept-None-5"
          ],
          "tickvals": [
           0,
           1,
           2,
           3,
           4,
           5
          ],
          "title": {
           "text": "Model"
          }
         },
         "yaxis": {
          "title": {
           "text": "Scale"
          }
         },
         "zaxis": {
          "title": {
           "text": "iou_wildfire_or_pred_elt_4_class"
          }
         }
        },
        "showlegend": true,
        "template": {
         "data": {
          "bar": [
           {
            "error_x": {
             "color": "#2a3f5f"
            },
            "error_y": {
             "color": "#2a3f5f"
            },
            "marker": {
             "line": {
              "color": "#E5ECF6",
              "width": 0.5
             },
             "pattern": {
              "fillmode": "overlay",
              "size": 10,
              "solidity": 0.2
             }
            },
            "type": "bar"
           }
          ],
          "barpolar": [
           {
            "marker": {
             "line": {
              "color": "#E5ECF6",
              "width": 0.5
             },
             "pattern": {
              "fillmode": "overlay",
              "size": 10,
              "solidity": 0.2
             }
            },
            "type": "barpolar"
           }
          ],
          "carpet": [
           {
            "aaxis": {
             "endlinecolor": "#2a3f5f",
             "gridcolor": "white",
             "linecolor": "white",
             "minorgridcolor": "white",
             "startlinecolor": "#2a3f5f"
            },
            "baxis": {
             "endlinecolor": "#2a3f5f",
             "gridcolor": "white",
             "linecolor": "white",
             "minorgridcolor": "white",
             "startlinecolor": "#2a3f5f"
            },
            "type": "carpet"
           }
          ],
          "choropleth": [
           {
            "colorbar": {
             "outlinewidth": 0,
             "ticks": ""
            },
            "type": "choropleth"
           }
          ],
          "contour": [
           {
            "colorbar": {
             "outlinewidth": 0,
             "ticks": ""
            },
            "colorscale": [
             [
              0,
              "#0d0887"
             ],
             [
              0.1111111111111111,
              "#46039f"
             ],
             [
              0.2222222222222222,
              "#7201a8"
             ],
             [
              0.3333333333333333,
              "#9c179e"
             ],
             [
              0.4444444444444444,
              "#bd3786"
             ],
             [
              0.5555555555555556,
              "#d8576b"
             ],
             [
              0.6666666666666666,
              "#ed7953"
             ],
             [
              0.7777777777777778,
              "#fb9f3a"
             ],
             [
              0.8888888888888888,
              "#fdca26"
             ],
             [
              1,
              "#f0f921"
             ]
            ],
            "type": "contour"
           }
          ],
          "contourcarpet": [
           {
            "colorbar": {
             "outlinewidth": 0,
             "ticks": ""
            },
            "type": "contourcarpet"
           }
          ],
          "heatmap": [
           {
            "colorbar": {
             "outlinewidth": 0,
             "ticks": ""
            },
            "colorscale": [
             [
              0,
              "#0d0887"
             ],
             [
              0.1111111111111111,
              "#46039f"
             ],
             [
              0.2222222222222222,
              "#7201a8"
             ],
             [
              0.3333333333333333,
              "#9c179e"
             ],
             [
              0.4444444444444444,
              "#bd3786"
             ],
             [
              0.5555555555555556,
              "#d8576b"
             ],
             [
              0.6666666666666666,
              "#ed7953"
             ],
             [
              0.7777777777777778,
              "#fb9f3a"
             ],
             [
              0.8888888888888888,
              "#fdca26"
             ],
             [
              1,
              "#f0f921"
             ]
            ],
            "type": "heatmap"
           }
          ],
          "heatmapgl": [
           {
            "colorbar": {
             "outlinewidth": 0,
             "ticks": ""
            },
            "colorscale": [
             [
              0,
              "#0d0887"
             ],
             [
              0.1111111111111111,
              "#46039f"
             ],
             [
              0.2222222222222222,
              "#7201a8"
             ],
             [
              0.3333333333333333,
              "#9c179e"
             ],
             [
              0.4444444444444444,
              "#bd3786"
             ],
             [
              0.5555555555555556,
              "#d8576b"
             ],
             [
              0.6666666666666666,
              "#ed7953"
             ],
             [
              0.7777777777777778,
              "#fb9f3a"
             ],
             [
              0.8888888888888888,
              "#fdca26"
             ],
             [
              1,
              "#f0f921"
             ]
            ],
            "type": "heatmapgl"
           }
          ],
          "histogram": [
           {
            "marker": {
             "pattern": {
              "fillmode": "overlay",
              "size": 10,
              "solidity": 0.2
             }
            },
            "type": "histogram"
           }
          ],
          "histogram2d": [
           {
            "colorbar": {
             "outlinewidth": 0,
             "ticks": ""
            },
            "colorscale": [
             [
              0,
              "#0d0887"
             ],
             [
              0.1111111111111111,
              "#46039f"
             ],
             [
              0.2222222222222222,
              "#7201a8"
             ],
             [
              0.3333333333333333,
              "#9c179e"
             ],
             [
              0.4444444444444444,
              "#bd3786"
             ],
             [
              0.5555555555555556,
              "#d8576b"
             ],
             [
              0.6666666666666666,
              "#ed7953"
             ],
             [
              0.7777777777777778,
              "#fb9f3a"
             ],
             [
              0.8888888888888888,
              "#fdca26"
             ],
             [
              1,
              "#f0f921"
             ]
            ],
            "type": "histogram2d"
           }
          ],
          "histogram2dcontour": [
           {
            "colorbar": {
             "outlinewidth": 0,
             "ticks": ""
            },
            "colorscale": [
             [
              0,
              "#0d0887"
             ],
             [
              0.1111111111111111,
              "#46039f"
             ],
             [
              0.2222222222222222,
              "#7201a8"
             ],
             [
              0.3333333333333333,
              "#9c179e"
             ],
             [
              0.4444444444444444,
              "#bd3786"
             ],
             [
              0.5555555555555556,
              "#d8576b"
             ],
             [
              0.6666666666666666,
              "#ed7953"
             ],
             [
              0.7777777777777778,
              "#fb9f3a"
             ],
             [
              0.8888888888888888,
              "#fdca26"
             ],
             [
              1,
              "#f0f921"
             ]
            ],
            "type": "histogram2dcontour"
           }
          ],
          "mesh3d": [
           {
            "colorbar": {
             "outlinewidth": 0,
             "ticks": ""
            },
            "type": "mesh3d"
           }
          ],
          "parcoords": [
           {
            "line": {
             "colorbar": {
              "outlinewidth": 0,
              "ticks": ""
             }
            },
            "type": "parcoords"
           }
          ],
          "pie": [
           {
            "automargin": true,
            "type": "pie"
           }
          ],
          "scatter": [
           {
            "fillpattern": {
             "fillmode": "overlay",
             "size": 10,
             "solidity": 0.2
            },
            "type": "scatter"
           }
          ],
          "scatter3d": [
           {
            "line": {
             "colorbar": {
              "outlinewidth": 0,
              "ticks": ""
             }
            },
            "marker": {
             "colorbar": {
              "outlinewidth": 0,
              "ticks": ""
             }
            },
            "type": "scatter3d"
           }
          ],
          "scattercarpet": [
           {
            "marker": {
             "colorbar": {
              "outlinewidth": 0,
              "ticks": ""
             }
            },
            "type": "scattercarpet"
           }
          ],
          "scattergeo": [
           {
            "marker": {
             "colorbar": {
              "outlinewidth": 0,
              "ticks": ""
             }
            },
            "type": "scattergeo"
           }
          ],
          "scattergl": [
           {
            "marker": {
             "colorbar": {
              "outlinewidth": 0,
              "ticks": ""
             }
            },
            "type": "scattergl"
           }
          ],
          "scattermapbox": [
           {
            "marker": {
             "colorbar": {
              "outlinewidth": 0,
              "ticks": ""
             }
            },
            "type": "scattermapbox"
           }
          ],
          "scatterpolar": [
           {
            "marker": {
             "colorbar": {
              "outlinewidth": 0,
              "ticks": ""
             }
            },
            "type": "scatterpolar"
           }
          ],
          "scatterpolargl": [
           {
            "marker": {
             "colorbar": {
              "outlinewidth": 0,
              "ticks": ""
             }
            },
            "type": "scatterpolargl"
           }
          ],
          "scatterternary": [
           {
            "marker": {
             "colorbar": {
              "outlinewidth": 0,
              "ticks": ""
             }
            },
            "type": "scatterternary"
           }
          ],
          "surface": [
           {
            "colorbar": {
             "outlinewidth": 0,
             "ticks": ""
            },
            "colorscale": [
             [
              0,
              "#0d0887"
             ],
             [
              0.1111111111111111,
              "#46039f"
             ],
             [
              0.2222222222222222,
              "#7201a8"
             ],
             [
              0.3333333333333333,
              "#9c179e"
             ],
             [
              0.4444444444444444,
              "#bd3786"
             ],
             [
              0.5555555555555556,
              "#d8576b"
             ],
             [
              0.6666666666666666,
              "#ed7953"
             ],
             [
              0.7777777777777778,
              "#fb9f3a"
             ],
             [
              0.8888888888888888,
              "#fdca26"
             ],
             [
              1,
              "#f0f921"
             ]
            ],
            "type": "surface"
           }
          ],
          "table": [
           {
            "cells": {
             "fill": {
              "color": "#EBF0F8"
             },
             "line": {
              "color": "white"
             }
            },
            "header": {
             "fill": {
              "color": "#C8D4E3"
             },
             "line": {
              "color": "white"
             }
            },
            "type": "table"
           }
          ]
         },
         "layout": {
          "annotationdefaults": {
           "arrowcolor": "#2a3f5f",
           "arrowhead": 0,
           "arrowwidth": 1
          },
          "autotypenumbers": "strict",
          "coloraxis": {
           "colorbar": {
            "outlinewidth": 0,
            "ticks": ""
           }
          },
          "colorscale": {
           "diverging": [
            [
             0,
             "#8e0152"
            ],
            [
             0.1,
             "#c51b7d"
            ],
            [
             0.2,
             "#de77ae"
            ],
            [
             0.3,
             "#f1b6da"
            ],
            [
             0.4,
             "#fde0ef"
            ],
            [
             0.5,
             "#f7f7f7"
            ],
            [
             0.6,
             "#e6f5d0"
            ],
            [
             0.7,
             "#b8e186"
            ],
            [
             0.8,
             "#7fbc41"
            ],
            [
             0.9,
             "#4d9221"
            ],
            [
             1,
             "#276419"
            ]
           ],
           "sequential": [
            [
             0,
             "#0d0887"
            ],
            [
             0.1111111111111111,
             "#46039f"
            ],
            [
             0.2222222222222222,
             "#7201a8"
            ],
            [
             0.3333333333333333,
             "#9c179e"
            ],
            [
             0.4444444444444444,
             "#bd3786"
            ],
            [
             0.5555555555555556,
             "#d8576b"
            ],
            [
             0.6666666666666666,
             "#ed7953"
            ],
            [
             0.7777777777777778,
             "#fb9f3a"
            ],
            [
             0.8888888888888888,
             "#fdca26"
            ],
            [
             1,
             "#f0f921"
            ]
           ],
           "sequentialminus": [
            [
             0,
             "#0d0887"
            ],
            [
             0.1111111111111111,
             "#46039f"
            ],
            [
             0.2222222222222222,
             "#7201a8"
            ],
            [
             0.3333333333333333,
             "#9c179e"
            ],
            [
             0.4444444444444444,
             "#bd3786"
            ],
            [
             0.5555555555555556,
             "#d8576b"
            ],
            [
             0.6666666666666666,
             "#ed7953"
            ],
            [
             0.7777777777777778,
             "#fb9f3a"
            ],
            [
             0.8888888888888888,
             "#fdca26"
            ],
            [
             1,
             "#f0f921"
            ]
           ]
          },
          "colorway": [
           "#636efa",
           "#EF553B",
           "#00cc96",
           "#ab63fa",
           "#FFA15A",
           "#19d3f3",
           "#FF6692",
           "#B6E880",
           "#FF97FF",
           "#FECB52"
          ],
          "font": {
           "color": "#2a3f5f"
          },
          "geo": {
           "bgcolor": "white",
           "lakecolor": "white",
           "landcolor": "#E5ECF6",
           "showlakes": true,
           "showland": true,
           "subunitcolor": "white"
          },
          "hoverlabel": {
           "align": "left"
          },
          "hovermode": "closest",
          "mapbox": {
           "style": "light"
          },
          "paper_bgcolor": "white",
          "plot_bgcolor": "#E5ECF6",
          "polar": {
           "angularaxis": {
            "gridcolor": "white",
            "linecolor": "white",
            "ticks": ""
           },
           "bgcolor": "#E5ECF6",
           "radialaxis": {
            "gridcolor": "white",
            "linecolor": "white",
            "ticks": ""
           }
          },
          "scene": {
           "xaxis": {
            "backgroundcolor": "#E5ECF6",
            "gridcolor": "white",
            "gridwidth": 2,
            "linecolor": "white",
            "showbackground": true,
            "ticks": "",
            "zerolinecolor": "white"
           },
           "yaxis": {
            "backgroundcolor": "#E5ECF6",
            "gridcolor": "white",
            "gridwidth": 2,
            "linecolor": "white",
            "showbackground": true,
            "ticks": "",
            "zerolinecolor": "white"
           },
           "zaxis": {
            "backgroundcolor": "#E5ECF6",
            "gridcolor": "white",
            "gridwidth": 2,
            "linecolor": "white",
            "showbackground": true,
            "ticks": "",
            "zerolinecolor": "white"
           }
          },
          "shapedefaults": {
           "line": {
            "color": "#2a3f5f"
           }
          },
          "ternary": {
           "aaxis": {
            "gridcolor": "white",
            "linecolor": "white",
            "ticks": ""
           },
           "baxis": {
            "gridcolor": "white",
            "linecolor": "white",
            "ticks": ""
           },
           "bgcolor": "#E5ECF6",
           "caxis": {
            "gridcolor": "white",
            "linecolor": "white",
            "ticks": ""
           }
          },
          "title": {
           "x": 0.05
          },
          "xaxis": {
           "automargin": true,
           "gridcolor": "white",
           "linecolor": "white",
           "ticks": "",
           "title": {
            "standoff": 15
           },
           "zerolinecolor": "white",
           "zerolinewidth": 2
          },
          "yaxis": {
           "automargin": true,
           "gridcolor": "white",
           "linecolor": "white",
           "ticks": "",
           "title": {
            "standoff": 15
           },
           "zerolinecolor": "white",
           "zerolinewidth": 2
          }
         }
        },
        "title": {
         "text": "3D Comparison for departement-78-yvelines"
        },
        "width": 1600
       }
      }
     },
     "metadata": {},
     "output_type": "display_data"
    }
   ],
   "source": [
    "compare_models_2d(df, df.Department.unique(), dept_markers, ['iou_wildfire_or_pred_elt_3_class', 'iou_wildfire_or_pred_elt_4_class'],  'Model', 'Scale', 'Model')"
   ]
  }
 ],
 "metadata": {
  "kernelspec": {
   "display_name": "Python 3",
   "language": "python",
   "name": "python3"
  },
  "language_info": {
   "codemirror_mode": {
    "name": "ipython",
    "version": 3
   },
   "file_extension": ".py",
   "mimetype": "text/x-python",
   "name": "python",
   "nbconvert_exporter": "python",
   "pygments_lexer": "ipython3",
   "version": "3.9.18"
  }
 },
 "nbformat": 4,
 "nbformat_minor": 2
}
