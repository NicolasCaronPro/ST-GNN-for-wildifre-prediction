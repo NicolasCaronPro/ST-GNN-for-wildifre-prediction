{
 "cells": [
  {
   "cell_type": "code",
   "execution_count": 1,
   "metadata": {},
   "outputs": [],
   "source": [
    "import pandas as pd\n",
    "import numpy as np\n",
    "import matplotlib.pyplot as plt"
   ]
  },
  {
   "cell_type": "code",
   "execution_count": 2,
   "metadata": {},
   "outputs": [],
   "source": [
    "MLFLOW = False"
   ]
  },
  {
   "cell_type": "code",
   "execution_count": 3,
   "metadata": {},
   "outputs": [],
   "source": [
    "import pandas as pd\n",
    "from pathlib import Path\n",
    "\n",
    "def load_all_metrics_files(path):\n",
    "    \"\"\"\n",
    "    Parcourt tous les sous-dossiers de `path`, charge les fichiers `df_metrics.csv`,\n",
    "    et les combine en un seul DataFrame global.\n",
    "\n",
    "    Parameters:\n",
    "    - path (Path): Le chemin du dossier racine à parcourir.\n",
    "\n",
    "    Returns:\n",
    "    - pd.DataFrame: Le DataFrame global combinant tous les fichiers `df_metrics.csv`.\n",
    "    \"\"\"\n",
    "    path = Path(path)\n",
    "    all_metrics = []  # Liste pour stocker tous les DataFrames\n",
    "\n",
    "    # Parcourir tous les sous-dossiers et rechercher les fichiers df_metrics.csv\n",
    "    for file in path.rglob('df_metrics.csv'):\n",
    "        try:\n",
    "            # Charger le fichier CSV dans un DataFrame\n",
    "            df = pd.read_csv(file)\n",
    "\n",
    "            # Ajouter une colonne pour identifier la source du fichier\n",
    "            df['source'] = str(file.parent)  # Ajouter le chemin du dossier parent\n",
    "\n",
    "            # Ajouter le DataFrame à la liste\n",
    "            all_metrics.append(df)\n",
    "        except Exception as e:\n",
    "            print(f\"Erreur lors du chargement de {file}: {e}\")\n",
    "\n",
    "    # Combiner tous les DataFrames en un seul DataFrame global\n",
    "    if all_metrics:\n",
    "        df_global = pd.concat(all_metrics, ignore_index=True)\n",
    "    else:\n",
    "        df_global = pd.DataFrame()  # Si aucun fichier trouvé, retourne un DataFrame vide\n",
    " \n",
    "    return df_global\n",
    "\n",
    "if not MLFLOW:\n",
    "    # Utilisation de la fonction\n",
    "    path = Path('../GNN/firemen/firepoint/2x2/test/occurence_days_futur')\n",
    "    df = load_all_metrics_files(path)"
   ]
  },
  {
   "cell_type": "code",
   "execution_count": 4,
   "metadata": {},
   "outputs": [
    {
     "data": {
      "text/html": [
       "<div>\n",
       "<style scoped>\n",
       "    .dataframe tbody tr th:only-of-type {\n",
       "        vertical-align: middle;\n",
       "    }\n",
       "\n",
       "    .dataframe tbody tr th {\n",
       "        vertical-align: top;\n",
       "    }\n",
       "\n",
       "    .dataframe thead th {\n",
       "        text-align: right;\n",
       "    }\n",
       "</style>\n",
       "<table border=\"1\" class=\"dataframe\">\n",
       "  <thead>\n",
       "    <tr style=\"text-align: right;\">\n",
       "      <th></th>\n",
       "      <th>Unnamed: 0</th>\n",
       "      <th>Run</th>\n",
       "      <th>apr_nbsinister_max_1</th>\n",
       "      <th>r2_nbsinister_max_1</th>\n",
       "      <th>KS_nbsinister_max_1</th>\n",
       "      <th>ks_1.0_nbsinister_max_1</th>\n",
       "      <th>ks_2.0_nbsinister_max_1</th>\n",
       "      <th>ks_3.0_nbsinister_max_1</th>\n",
       "      <th>ks_4.0_nbsinister_max_1</th>\n",
       "      <th>ks_5.0_nbsinister_max_1</th>\n",
       "      <th>...</th>\n",
       "      <th>ks_20.0_saison_medium_graph_3.0</th>\n",
       "      <th>ks_21.0_saison_medium_graph_3.0</th>\n",
       "      <th>ks_23.0_saison_medium_graph_3.0</th>\n",
       "      <th>ks_29.0_saison_medium_graph_3.0</th>\n",
       "      <th>ks_16.0_nbsinister_max_1</th>\n",
       "      <th>ks_19.0_nbsinister_max_1</th>\n",
       "      <th>ks_27.0_nbsinister_max_1</th>\n",
       "      <th>ks_30.0_nbsinister_max_1</th>\n",
       "      <th>ks_31.0_nbsinister_max_1</th>\n",
       "      <th>ks_21.0_nbsinister_max_1</th>\n",
       "    </tr>\n",
       "  </thead>\n",
       "  <tbody>\n",
       "    <tr>\n",
       "      <th>0</th>\n",
       "      <td>0</td>\n",
       "      <td>departement-01-ain_xgboost_nbsinister_regressi...</td>\n",
       "      <td>0.74</td>\n",
       "      <td>0.052618</td>\n",
       "      <td>0.485454</td>\n",
       "      <td>0.365574</td>\n",
       "      <td>0.444458</td>\n",
       "      <td>0.337048</td>\n",
       "      <td>0.259215</td>\n",
       "      <td>0.315093</td>\n",
       "      <td>...</td>\n",
       "      <td>NaN</td>\n",
       "      <td>NaN</td>\n",
       "      <td>NaN</td>\n",
       "      <td>NaN</td>\n",
       "      <td>NaN</td>\n",
       "      <td>NaN</td>\n",
       "      <td>NaN</td>\n",
       "      <td>NaN</td>\n",
       "      <td>NaN</td>\n",
       "      <td>NaN</td>\n",
       "    </tr>\n",
       "    <tr>\n",
       "      <th>1</th>\n",
       "      <td>1</td>\n",
       "      <td>departement-25-doubs_xgboost_nbsinister_regres...</td>\n",
       "      <td>0.56</td>\n",
       "      <td>0.183354</td>\n",
       "      <td>0.457547</td>\n",
       "      <td>0.351794</td>\n",
       "      <td>0.435613</td>\n",
       "      <td>0.489583</td>\n",
       "      <td>0.461842</td>\n",
       "      <td>0.438871</td>\n",
       "      <td>...</td>\n",
       "      <td>NaN</td>\n",
       "      <td>NaN</td>\n",
       "      <td>NaN</td>\n",
       "      <td>NaN</td>\n",
       "      <td>NaN</td>\n",
       "      <td>NaN</td>\n",
       "      <td>NaN</td>\n",
       "      <td>NaN</td>\n",
       "      <td>NaN</td>\n",
       "      <td>NaN</td>\n",
       "    </tr>\n",
       "    <tr>\n",
       "      <th>2</th>\n",
       "      <td>2</td>\n",
       "      <td>departement-78-yvelines_xgboost_nbsinister_reg...</td>\n",
       "      <td>0.82</td>\n",
       "      <td>0.513251</td>\n",
       "      <td>0.666101</td>\n",
       "      <td>0.448303</td>\n",
       "      <td>0.504393</td>\n",
       "      <td>0.394718</td>\n",
       "      <td>0.388225</td>\n",
       "      <td>0.466038</td>\n",
       "      <td>...</td>\n",
       "      <td>NaN</td>\n",
       "      <td>NaN</td>\n",
       "      <td>NaN</td>\n",
       "      <td>NaN</td>\n",
       "      <td>NaN</td>\n",
       "      <td>NaN</td>\n",
       "      <td>NaN</td>\n",
       "      <td>NaN</td>\n",
       "      <td>NaN</td>\n",
       "      <td>NaN</td>\n",
       "    </tr>\n",
       "    <tr>\n",
       "      <th>3</th>\n",
       "      <td>0</td>\n",
       "      <td>departement-01-ain_xgboost_nbsinister_regressi...</td>\n",
       "      <td>0.23</td>\n",
       "      <td>0.033102</td>\n",
       "      <td>0.429610</td>\n",
       "      <td>0.389109</td>\n",
       "      <td>0.413917</td>\n",
       "      <td>0.379310</td>\n",
       "      <td>NaN</td>\n",
       "      <td>NaN</td>\n",
       "      <td>...</td>\n",
       "      <td>NaN</td>\n",
       "      <td>NaN</td>\n",
       "      <td>NaN</td>\n",
       "      <td>NaN</td>\n",
       "      <td>NaN</td>\n",
       "      <td>NaN</td>\n",
       "      <td>NaN</td>\n",
       "      <td>NaN</td>\n",
       "      <td>NaN</td>\n",
       "      <td>NaN</td>\n",
       "    </tr>\n",
       "    <tr>\n",
       "      <th>4</th>\n",
       "      <td>1</td>\n",
       "      <td>departement-25-doubs_xgboost_nbsinister_regres...</td>\n",
       "      <td>0.23</td>\n",
       "      <td>0.100724</td>\n",
       "      <td>0.453803</td>\n",
       "      <td>0.417191</td>\n",
       "      <td>0.647328</td>\n",
       "      <td>0.500000</td>\n",
       "      <td>1.000000</td>\n",
       "      <td>NaN</td>\n",
       "      <td>...</td>\n",
       "      <td>NaN</td>\n",
       "      <td>NaN</td>\n",
       "      <td>NaN</td>\n",
       "      <td>NaN</td>\n",
       "      <td>NaN</td>\n",
       "      <td>NaN</td>\n",
       "      <td>NaN</td>\n",
       "      <td>NaN</td>\n",
       "      <td>NaN</td>\n",
       "      <td>NaN</td>\n",
       "    </tr>\n",
       "    <tr>\n",
       "      <th>...</th>\n",
       "      <td>...</td>\n",
       "      <td>...</td>\n",
       "      <td>...</td>\n",
       "      <td>...</td>\n",
       "      <td>...</td>\n",
       "      <td>...</td>\n",
       "      <td>...</td>\n",
       "      <td>...</td>\n",
       "      <td>...</td>\n",
       "      <td>...</td>\n",
       "      <td>...</td>\n",
       "      <td>...</td>\n",
       "      <td>...</td>\n",
       "      <td>...</td>\n",
       "      <td>...</td>\n",
       "      <td>...</td>\n",
       "      <td>...</td>\n",
       "      <td>...</td>\n",
       "      <td>...</td>\n",
       "      <td>...</td>\n",
       "      <td>...</td>\n",
       "    </tr>\n",
       "    <tr>\n",
       "      <th>58</th>\n",
       "      <td>1</td>\n",
       "      <td>departement-25-doubs_xgboost_nbsinister_regres...</td>\n",
       "      <td>0.70</td>\n",
       "      <td>0.121409</td>\n",
       "      <td>0.524327</td>\n",
       "      <td>NaN</td>\n",
       "      <td>NaN</td>\n",
       "      <td>NaN</td>\n",
       "      <td>NaN</td>\n",
       "      <td>NaN</td>\n",
       "      <td>...</td>\n",
       "      <td>NaN</td>\n",
       "      <td>NaN</td>\n",
       "      <td>NaN</td>\n",
       "      <td>NaN</td>\n",
       "      <td>NaN</td>\n",
       "      <td>NaN</td>\n",
       "      <td>NaN</td>\n",
       "      <td>NaN</td>\n",
       "      <td>NaN</td>\n",
       "      <td>NaN</td>\n",
       "    </tr>\n",
       "    <tr>\n",
       "      <th>59</th>\n",
       "      <td>2</td>\n",
       "      <td>departement-78-yvelines_xgboost_nbsinister_reg...</td>\n",
       "      <td>0.70</td>\n",
       "      <td>0.319384</td>\n",
       "      <td>0.447636</td>\n",
       "      <td>NaN</td>\n",
       "      <td>NaN</td>\n",
       "      <td>NaN</td>\n",
       "      <td>NaN</td>\n",
       "      <td>NaN</td>\n",
       "      <td>...</td>\n",
       "      <td>NaN</td>\n",
       "      <td>NaN</td>\n",
       "      <td>NaN</td>\n",
       "      <td>NaN</td>\n",
       "      <td>NaN</td>\n",
       "      <td>NaN</td>\n",
       "      <td>NaN</td>\n",
       "      <td>NaN</td>\n",
       "      <td>NaN</td>\n",
       "      <td>NaN</td>\n",
       "    </tr>\n",
       "    <tr>\n",
       "      <th>60</th>\n",
       "      <td>0</td>\n",
       "      <td>departement-01-ain_xgboost_nbsinister_regressi...</td>\n",
       "      <td>0.63</td>\n",
       "      <td>-5.020764</td>\n",
       "      <td>0.466518</td>\n",
       "      <td>0.384354</td>\n",
       "      <td>0.441793</td>\n",
       "      <td>0.252509</td>\n",
       "      <td>0.380568</td>\n",
       "      <td>0.080241</td>\n",
       "      <td>...</td>\n",
       "      <td>NaN</td>\n",
       "      <td>NaN</td>\n",
       "      <td>NaN</td>\n",
       "      <td>NaN</td>\n",
       "      <td>NaN</td>\n",
       "      <td>NaN</td>\n",
       "      <td>NaN</td>\n",
       "      <td>NaN</td>\n",
       "      <td>NaN</td>\n",
       "      <td>NaN</td>\n",
       "    </tr>\n",
       "    <tr>\n",
       "      <th>61</th>\n",
       "      <td>1</td>\n",
       "      <td>departement-25-doubs_xgboost_nbsinister_regres...</td>\n",
       "      <td>0.53</td>\n",
       "      <td>-3.739354</td>\n",
       "      <td>0.444058</td>\n",
       "      <td>0.329549</td>\n",
       "      <td>0.343874</td>\n",
       "      <td>0.513387</td>\n",
       "      <td>0.543860</td>\n",
       "      <td>0.342105</td>\n",
       "      <td>...</td>\n",
       "      <td>NaN</td>\n",
       "      <td>NaN</td>\n",
       "      <td>NaN</td>\n",
       "      <td>NaN</td>\n",
       "      <td>NaN</td>\n",
       "      <td>NaN</td>\n",
       "      <td>NaN</td>\n",
       "      <td>NaN</td>\n",
       "      <td>NaN</td>\n",
       "      <td>NaN</td>\n",
       "    </tr>\n",
       "    <tr>\n",
       "      <th>62</th>\n",
       "      <td>2</td>\n",
       "      <td>departement-78-yvelines_xgboost_nbsinister_reg...</td>\n",
       "      <td>0.71</td>\n",
       "      <td>-0.625064</td>\n",
       "      <td>0.633709</td>\n",
       "      <td>0.413626</td>\n",
       "      <td>0.547550</td>\n",
       "      <td>0.467797</td>\n",
       "      <td>0.472888</td>\n",
       "      <td>0.344444</td>\n",
       "      <td>...</td>\n",
       "      <td>NaN</td>\n",
       "      <td>NaN</td>\n",
       "      <td>NaN</td>\n",
       "      <td>NaN</td>\n",
       "      <td>0.0</td>\n",
       "      <td>1.0</td>\n",
       "      <td>NaN</td>\n",
       "      <td>NaN</td>\n",
       "      <td>NaN</td>\n",
       "      <td>NaN</td>\n",
       "    </tr>\n",
       "  </tbody>\n",
       "</table>\n",
       "<p>63 rows × 552 columns</p>\n",
       "</div>"
      ],
      "text/plain": [
       "    Unnamed: 0                                                Run  \\\n",
       "0            0  departement-01-ain_xgboost_nbsinister_regressi...   \n",
       "1            1  departement-25-doubs_xgboost_nbsinister_regres...   \n",
       "2            2  departement-78-yvelines_xgboost_nbsinister_reg...   \n",
       "3            0  departement-01-ain_xgboost_nbsinister_regressi...   \n",
       "4            1  departement-25-doubs_xgboost_nbsinister_regres...   \n",
       "..         ...                                                ...   \n",
       "58           1  departement-25-doubs_xgboost_nbsinister_regres...   \n",
       "59           2  departement-78-yvelines_xgboost_nbsinister_reg...   \n",
       "60           0  departement-01-ain_xgboost_nbsinister_regressi...   \n",
       "61           1  departement-25-doubs_xgboost_nbsinister_regres...   \n",
       "62           2  departement-78-yvelines_xgboost_nbsinister_reg...   \n",
       "\n",
       "    apr_nbsinister_max_1  r2_nbsinister_max_1  KS_nbsinister_max_1  \\\n",
       "0                   0.74             0.052618             0.485454   \n",
       "1                   0.56             0.183354             0.457547   \n",
       "2                   0.82             0.513251             0.666101   \n",
       "3                   0.23             0.033102             0.429610   \n",
       "4                   0.23             0.100724             0.453803   \n",
       "..                   ...                  ...                  ...   \n",
       "58                  0.70             0.121409             0.524327   \n",
       "59                  0.70             0.319384             0.447636   \n",
       "60                  0.63            -5.020764             0.466518   \n",
       "61                  0.53            -3.739354             0.444058   \n",
       "62                  0.71            -0.625064             0.633709   \n",
       "\n",
       "    ks_1.0_nbsinister_max_1  ks_2.0_nbsinister_max_1  ks_3.0_nbsinister_max_1  \\\n",
       "0                  0.365574                 0.444458                 0.337048   \n",
       "1                  0.351794                 0.435613                 0.489583   \n",
       "2                  0.448303                 0.504393                 0.394718   \n",
       "3                  0.389109                 0.413917                 0.379310   \n",
       "4                  0.417191                 0.647328                 0.500000   \n",
       "..                      ...                      ...                      ...   \n",
       "58                      NaN                      NaN                      NaN   \n",
       "59                      NaN                      NaN                      NaN   \n",
       "60                 0.384354                 0.441793                 0.252509   \n",
       "61                 0.329549                 0.343874                 0.513387   \n",
       "62                 0.413626                 0.547550                 0.467797   \n",
       "\n",
       "    ks_4.0_nbsinister_max_1  ks_5.0_nbsinister_max_1  ...  \\\n",
       "0                  0.259215                 0.315093  ...   \n",
       "1                  0.461842                 0.438871  ...   \n",
       "2                  0.388225                 0.466038  ...   \n",
       "3                       NaN                      NaN  ...   \n",
       "4                  1.000000                      NaN  ...   \n",
       "..                      ...                      ...  ...   \n",
       "58                      NaN                      NaN  ...   \n",
       "59                      NaN                      NaN  ...   \n",
       "60                 0.380568                 0.080241  ...   \n",
       "61                 0.543860                 0.342105  ...   \n",
       "62                 0.472888                 0.344444  ...   \n",
       "\n",
       "    ks_20.0_saison_medium_graph_3.0  ks_21.0_saison_medium_graph_3.0  \\\n",
       "0                               NaN                              NaN   \n",
       "1                               NaN                              NaN   \n",
       "2                               NaN                              NaN   \n",
       "3                               NaN                              NaN   \n",
       "4                               NaN                              NaN   \n",
       "..                              ...                              ...   \n",
       "58                              NaN                              NaN   \n",
       "59                              NaN                              NaN   \n",
       "60                              NaN                              NaN   \n",
       "61                              NaN                              NaN   \n",
       "62                              NaN                              NaN   \n",
       "\n",
       "    ks_23.0_saison_medium_graph_3.0  ks_29.0_saison_medium_graph_3.0  \\\n",
       "0                               NaN                              NaN   \n",
       "1                               NaN                              NaN   \n",
       "2                               NaN                              NaN   \n",
       "3                               NaN                              NaN   \n",
       "4                               NaN                              NaN   \n",
       "..                              ...                              ...   \n",
       "58                              NaN                              NaN   \n",
       "59                              NaN                              NaN   \n",
       "60                              NaN                              NaN   \n",
       "61                              NaN                              NaN   \n",
       "62                              NaN                              NaN   \n",
       "\n",
       "    ks_16.0_nbsinister_max_1  ks_19.0_nbsinister_max_1  \\\n",
       "0                        NaN                       NaN   \n",
       "1                        NaN                       NaN   \n",
       "2                        NaN                       NaN   \n",
       "3                        NaN                       NaN   \n",
       "4                        NaN                       NaN   \n",
       "..                       ...                       ...   \n",
       "58                       NaN                       NaN   \n",
       "59                       NaN                       NaN   \n",
       "60                       NaN                       NaN   \n",
       "61                       NaN                       NaN   \n",
       "62                       0.0                       1.0   \n",
       "\n",
       "    ks_27.0_nbsinister_max_1  ks_30.0_nbsinister_max_1  \\\n",
       "0                        NaN                       NaN   \n",
       "1                        NaN                       NaN   \n",
       "2                        NaN                       NaN   \n",
       "3                        NaN                       NaN   \n",
       "4                        NaN                       NaN   \n",
       "..                       ...                       ...   \n",
       "58                       NaN                       NaN   \n",
       "59                       NaN                       NaN   \n",
       "60                       NaN                       NaN   \n",
       "61                       NaN                       NaN   \n",
       "62                       NaN                       NaN   \n",
       "\n",
       "    ks_31.0_nbsinister_max_1  ks_21.0_nbsinister_max_1  \n",
       "0                        NaN                       NaN  \n",
       "1                        NaN                       NaN  \n",
       "2                        NaN                       NaN  \n",
       "3                        NaN                       NaN  \n",
       "4                        NaN                       NaN  \n",
       "..                       ...                       ...  \n",
       "58                       NaN                       NaN  \n",
       "59                       NaN                       NaN  \n",
       "60                       NaN                       NaN  \n",
       "61                       NaN                       NaN  \n",
       "62                       NaN                       NaN  \n",
       "\n",
       "[63 rows x 552 columns]"
      ]
     },
     "execution_count": 4,
     "metadata": {},
     "output_type": "execute_result"
    }
   ],
   "source": [
    "df"
   ]
  },
  {
   "cell_type": "code",
   "execution_count": 5,
   "metadata": {},
   "outputs": [],
   "source": [
    "if MLFLOW:\n",
    "    metric = 'bad_prediction_modified_nbsinister_max_1'\n",
    "    df = pd.read_csv(f'{metric}.csv')\n",
    "\n",
    "    metric = 'wildfire_over_predicted_modified_nbsinister_max_1'\n",
    "    df1 = pd.read_csv(f'{metric}.csv')\n",
    "\n",
    "    metric = 'iou_modified_nbsinister_max_1'\n",
    "    df2 = pd.read_csv(f'{metric}.csv')\n",
    "\n",
    "    metric = 'apr_nbsinister_max_1'\n",
    "    df3 = pd.read_csv(f'{metric}.csv')\n",
    "\n",
    "    metric = 'r2_nbsninster_max_1'\n",
    "    df4 = pd.read_csv(f'{metric}.csv')\n",
    "\n",
    "    df = df.set_index('Run').join(df1.set_index('Run')['wildfire_over_predicted_modified_nbsinister_max_1']).reset_index()\n",
    "    df = df.set_index('Run').join(df2.set_index('Run')['iou_modified_nbsinister_max_1']).reset_index()\n",
    "    df = df3.set_index('Run').join(df2.set_index('Run')['apr_nbsinister_max_1']).reset_index()\n",
    "    df = df4.set_index('Run').join(df2.set_index('Run')['r2_nbsninster_max_1']).reset_index()\n",
    "\n",
    "    #df.dropna(subset=['temporal_spearman', 'temporal_mae', 'temporal_binary_f1', 'temporal_kendall'], inplace=True)\n",
    "    df.drop_duplicates(inplace=True, keep='first')\n",
    "    df.reset_index(drop=True, inplace=True)"
   ]
  },
  {
   "cell_type": "code",
   "execution_count": 6,
   "metadata": {},
   "outputs": [
    {
     "name": "stderr",
     "output_type": "stream",
     "text": [
      "/tmp/ipykernel_597121/764871983.py:48: PerformanceWarning: DataFrame is highly fragmented.  This is usually the result of calling `frame.insert` many times, which has poor performance.  Consider joining all columns at once using pd.concat(axis=1) instead. To get a de-fragmented frame, use `newframe = frame.copy()`\n",
      "  df['Department'] = None\n",
      "/tmp/ipykernel_597121/764871983.py:49: PerformanceWarning: DataFrame is highly fragmented.  This is usually the result of calling `frame.insert` many times, which has poor performance.  Consider joining all columns at once using pd.concat(axis=1) instead. To get a de-fragmented frame, use `newframe = frame.copy()`\n",
      "  df['Model'] = None\n",
      "/tmp/ipykernel_597121/764871983.py:50: PerformanceWarning: DataFrame is highly fragmented.  This is usually the result of calling `frame.insert` many times, which has poor performance.  Consider joining all columns at once using pd.concat(axis=1) instead. To get a de-fragmented frame, use `newframe = frame.copy()`\n",
      "  df['Target'] = None\n",
      "/tmp/ipykernel_597121/764871983.py:51: PerformanceWarning: DataFrame is highly fragmented.  This is usually the result of calling `frame.insert` many times, which has poor performance.  Consider joining all columns at once using pd.concat(axis=1) instead. To get a de-fragmented frame, use `newframe = frame.copy()`\n",
      "  df['Task_type'] = None\n",
      "/tmp/ipykernel_597121/764871983.py:52: PerformanceWarning: DataFrame is highly fragmented.  This is usually the result of calling `frame.insert` many times, which has poor performance.  Consider joining all columns at once using pd.concat(axis=1) instead. To get a de-fragmented frame, use `newframe = frame.copy()`\n",
      "  df['Loss_function'] = None\n",
      "/tmp/ipykernel_597121/764871983.py:53: PerformanceWarning: DataFrame is highly fragmented.  This is usually the result of calling `frame.insert` many times, which has poor performance.  Consider joining all columns at once using pd.concat(axis=1) instead. To get a de-fragmented frame, use `newframe = frame.copy()`\n",
      "  df['Number_of_samples'] = None\n",
      "/tmp/ipykernel_597121/764871983.py:54: PerformanceWarning: DataFrame is highly fragmented.  This is usually the result of calling `frame.insert` many times, which has poor performance.  Consider joining all columns at once using pd.concat(axis=1) instead. To get a de-fragmented frame, use `newframe = frame.copy()`\n",
      "  df['kdays'] = None\n",
      "/tmp/ipykernel_597121/764871983.py:55: PerformanceWarning: DataFrame is highly fragmented.  This is usually the result of calling `frame.insert` many times, which has poor performance.  Consider joining all columns at once using pd.concat(axis=1) instead. To get a de-fragmented frame, use `newframe = frame.copy()`\n",
      "  df['Number_of_features'] = None\n",
      "/tmp/ipykernel_597121/764871983.py:56: PerformanceWarning: DataFrame is highly fragmented.  This is usually the result of calling `frame.insert` many times, which has poor performance.  Consider joining all columns at once using pd.concat(axis=1) instead. To get a de-fragmented frame, use `newframe = frame.copy()`\n",
      "  df['Scale'] = None\n",
      "/tmp/ipykernel_597121/764871983.py:57: PerformanceWarning: DataFrame is highly fragmented.  This is usually the result of calling `frame.insert` many times, which has poor performance.  Consider joining all columns at once using pd.concat(axis=1) instead. To get a de-fragmented frame, use `newframe = frame.copy()`\n",
      "  df['Base'] = None\n",
      "/tmp/ipykernel_597121/764871983.py:58: PerformanceWarning: DataFrame is highly fragmented.  This is usually the result of calling `frame.insert` many times, which has poor performance.  Consider joining all columns at once using pd.concat(axis=1) instead. To get a de-fragmented frame, use `newframe = frame.copy()`\n",
      "  df['Method'] = None\n",
      "/tmp/ipykernel_597121/764871983.py:59: PerformanceWarning: DataFrame is highly fragmented.  This is usually the result of calling `frame.insert` many times, which has poor performance.  Consider joining all columns at once using pd.concat(axis=1) instead. To get a de-fragmented frame, use `newframe = frame.copy()`\n",
      "  df['Days_in_futur'] = None\n",
      "/tmp/ipykernel_597121/764871983.py:60: PerformanceWarning: DataFrame is highly fragmented.  This is usually the result of calling `frame.insert` many times, which has poor performance.  Consider joining all columns at once using pd.concat(axis=1) instead. To get a de-fragmented frame, use `newframe = frame.copy()`\n",
      "  df['weight'] = None\n",
      "/tmp/ipykernel_597121/764871983.py:61: PerformanceWarning: DataFrame is highly fragmented.  This is usually the result of calling `frame.insert` many times, which has poor performance.  Consider joining all columns at once using pd.concat(axis=1) instead. To get a de-fragmented frame, use `newframe = frame.copy()`\n",
      "  df['kmeans_thresh'] = None\n",
      "/tmp/ipykernel_597121/764871983.py:62: PerformanceWarning: DataFrame is highly fragmented.  This is usually the result of calling `frame.insert` many times, which has poor performance.  Consider joining all columns at once using pd.concat(axis=1) instead. To get a de-fragmented frame, use `newframe = frame.copy()`\n",
      "  df['kmeans_shift'] = None\n"
     ]
    }
   ],
   "source": [
    "def parse_run_name(x):\n",
    "    dico = {}\n",
    "    vec = x.split('_')\n",
    "    dico['Department'] = vec[0]\n",
    "    dico['Model'] = vec[1]\n",
    "    i = 2\n",
    "    if dico['Model']  == 'fwi':\n",
    "        i += 1\n",
    "        dico['Target'] = 'indice'\n",
    "    else:\n",
    "        dico['Target'] = vec[i]\n",
    "        i += 1\n",
    "    if dico['Model'] != 'fwi':\n",
    "        dico['Task_type'] = vec[i]\n",
    "        i += 1\n",
    "        dico['loss'] = vec[i]\n",
    "        i += 1\n",
    "        if vec[i] == 'features':\n",
    "            i += 1\n",
    "    else:\n",
    "        dico['loss'] = None\n",
    "        dico['Task_type'] = 'Indice'\n",
    "\n",
    "    dico['Number_of_samples'] = vec[i]\n",
    "    i += 1\n",
    "    dico['k_days'] = vec[i]\n",
    "    i += 1\n",
    "    dico['Number_of_features'] = vec[i]\n",
    "    i += 1\n",
    "    dico['Scale'] = vec[i]\n",
    "    i += 1\n",
    "    dico['Days_in_futur'] = vec[i]\n",
    "    i += 1\n",
    "    dico['Base'] = vec[i]\n",
    "    i += 1\n",
    "    dico['Method'] = vec[i]\n",
    "    i += 1\n",
    "    if vec[i] == 'kmeans':\n",
    "        i += 1\n",
    "        dico['kmeans_shift'] = vec[i]\n",
    "        i += 1\n",
    "        dico['kmeans_thresh'] = vec[i]\n",
    "        i += 1\n",
    "    dico['weight'] = vec[i]\n",
    "    return dico\n",
    "\n",
    "# Initialisation des colonnes avec des valeurs None\n",
    "df['Department'] = None\n",
    "df['Model'] = None\n",
    "df['Target'] = None\n",
    "df['Task_type'] = None\n",
    "df['Loss_function'] = None\n",
    "df['Number_of_samples'] = None\n",
    "df['kdays'] = None\n",
    "df['Number_of_features'] = None\n",
    "df['Scale'] = None\n",
    "df['Base'] = None\n",
    "df['Method'] = None\n",
    "df['Days_in_futur'] = None\n",
    "df['weight'] = None\n",
    "df['kmeans_thresh'] = None\n",
    "df['kmeans_shift'] = None\n",
    "\n",
    "# Boucle pour remplir les colonnes avec les valeurs de dico_parse\n",
    "for index, row in df.iterrows():\n",
    "    dico_parse = parse_run_name(row['Run'])\n",
    "    \n",
    "    # Mise à jour de chaque colonne avec les valeurs du dictionnaire dico_parse\n",
    "    df.loc[index, 'Department'] = dico_parse.get('Department')\n",
    "    df.loc[index, 'Model'] = dico_parse.get('Model')\n",
    "    df.loc[index, 'Target'] = dico_parse.get('Target')\n",
    "    df.loc[index, 'Task_type'] = dico_parse.get('Task_type')\n",
    "    df.loc[index, 'Loss_function'] = dico_parse.get('loss')\n",
    "    df.loc[index, 'Number_of_samples'] = dico_parse.get('Number_of_samples')\n",
    "    df.loc[index, 'kdays'] = dico_parse.get('k_days')\n",
    "    df.loc[index, 'Number_of_features'] = dico_parse.get('Number_of_features')\n",
    "    df.loc[index, 'Scale'] = dico_parse.get('Scale')\n",
    "    df.loc[index, 'Base'] = dico_parse.get('Base')\n",
    "    df.loc[index, 'Method'] = dico_parse.get('Method')\n",
    "    df.loc[index, 'Days_in_futur'] = dico_parse.get('Days_in_futur')\n",
    "\n",
    "    df.loc[index, 'weight'] = dico_parse.get('weight')\n",
    "    df.loc[index, 'kmeans_thresh'] = dico_parse.get('kmeans_thresh', 0)\n",
    "    df.loc[index, 'kmeans_shift'] = dico_parse.get('kmeans_shift', 0)"
   ]
  },
  {
   "cell_type": "code",
   "execution_count": 7,
   "metadata": {},
   "outputs": [],
   "source": [
    "import seaborn as sns\n",
    "\n",
    "def compare_models2(dff, depts, dept_markers, metrics, scale_to_analyse, col_to_analyse, dir_output, suffix):\n",
    "    df = dff[dff['Scale'] == scale_to_analyse].copy(deep=True)\n",
    "    task_types = df[col_to_analyse].unique()\n",
    "\n",
    "    np.random.seed(42)  # Pour rendre le code reproductible (vous pouvez le changer ou le retirer)\n",
    "    colors = sns.color_palette(\"husl\", len(task_types))  # Palette de couleurs diversifiée et aléatoire\n",
    "\n",
    "    #Associer chaque modèle à une couleur\n",
    "    task_colors = dict(zip(task_types, colors))\n",
    "    # Create a new figure for all departments\n",
    "    fig, axs = plt.subplots(len(depts), len(metrics), figsize=(15, 3 * len(depts)), sharey='row')\n",
    "\n",
    "    # Loop through each department\n",
    "    for dept_index, dept in enumerate(depts):\n",
    "        # Filtering the DataFrame for a specific department\n",
    "        df_filtered = df[df['Department'].isin([dept])].reset_index()\n",
    "\n",
    "        # Loop through each metric to create a subplot for each metric\n",
    "        for metric_index, metric in enumerate(metrics):\n",
    "            ax = axs[dept_index, metric_index] if len(depts) > 1 else axs[metric_index]\n",
    "            for method in task_types:\n",
    "                subset = df_filtered[df_filtered[col_to_analyse] == method]\n",
    "\n",
    "                if len(subset) == 0:\n",
    "                    continue\n",
    "\n",
    "                subset = subset.sort_values(col_to_analyse)\n",
    "                \n",
    "                # Add label only for the first occurrence of each method\n",
    "                label = method if dept_index == 0 else None  # Only show labels for the first department\n",
    "                ax.plot(subset[col_to_analyse].values, subset[metric].values, marker=dept_markers[dept], linestyle='-', \n",
    "                        label=label, color=task_colors[method])  # Use task type color\n",
    "                \n",
    "            # Configuration for each subplot\n",
    "            ax.set_ylim(0, 1)\n",
    "            ax.set_xlabel(col_to_analyse)\n",
    "            if dept_index == 0:  # Only set the title for the first row\n",
    "                ax.set_title(f'{metric}', fontsize=12)\n",
    "            #ax.set_xticks(subset[col_to_analyse].values, rotation=45)\n",
    "            ax.grid(True)\n",
    "\n",
    "        axs[dept_index, 0].set_ylabel('Metric Value')\n",
    "\n",
    "    # Create a custom legend for task types and departments\n",
    "    task_handles = [plt.Line2D([0], [0], color=task_colors[method], label=method) for method in task_types]\n",
    "    dept_handles = [plt.Line2D([0], [0], marker=dept_markers[dept], linestyle='None', color='black', label=dept) for dept in depts]\n",
    "\n",
    "    # Combine both legends\n",
    "    fig.legend(handles=task_handles + dept_handles, loc='center left', bbox_to_anchor=(0.85, 0.85), title=\"Legend\")\n",
    "\n",
    "    plt.tight_layout(rect=[0, 0, 0.85, 1])  # Adjust layout to make room for the legend\n",
    "    plt.savefig(dir_output / f'{col_to_analyse}_{suffix}.png')"
   ]
  },
  {
   "cell_type": "code",
   "execution_count": 8,
   "metadata": {},
   "outputs": [
    {
     "data": {
      "image/png": "[encoded data removed]",
      "text/plain": [
       "<Figure size 1500x900 with 9 Axes>"
      ]
     },
     "metadata": {},
     "output_type": "display_data"
    }
   ],
   "source": [
    "# Define markers for each department\n",
    "dept_markers = {\n",
    "    'departement-01-ain': 'o',   # Circle\n",
    "    'departement-25-doubs': 's',   # Square\n",
    "    'departement-78-yvelines': 'D',   # Diamond\n",
    "    # Add more departments and their markers as needed\n",
    "}\n",
    "metrics =  ['bad_prediction_modified_nbsinister_max_1', 'wildfire_over_predicted_modified_nbsinister_max_1', 'iou_modified_nbsinister_max_1']\n",
    "\n",
    "compare_models2(df, df.Department.unique(), dept_markers, metrics, 'departement', 'kdays', Path('./'), '1')"
   ]
  },
  {
   "cell_type": "code",
   "execution_count": 9,
   "metadata": {},
   "outputs": [
    {
     "data": {
      "image/png": "[encoded data removed]",
      "text/plain": [
       "<Figure size 1500x900 with 6 Axes>"
      ]
     },
     "metadata": {},
     "output_type": "display_data"
    }
   ],
   "source": [
    "metrics =  ['apr_nbsinister_max_1', 'r2_nbsinister_max_1']\n",
    "\n",
    "compare_models2(df, df.Department.unique(), dept_markers, metrics, 'departement', 'kdays', Path('./'), '1')"
   ]
  },
  {
   "cell_type": "code",
   "execution_count": 10,
   "metadata": {},
   "outputs": [],
   "source": [
    "import plotly.graph_objects as go\n",
    "import pandas as pd\n",
    "import numpy as np\n",
    "import plotly.express as px  # Utilisé pour générer une palette de couleurs\n",
    "\n",
    "def compare_models_2d(df, depts, dept_markers, metrics, col_to_analyse_1, col_to_analyse_2, col_link):\n",
    "    \"\"\"\n",
    "    Compare models in 2D with the third dimension being the metric plotted as an axis.\n",
    "    Points with the same value in `col_link` are connected in increasing order with a different color.\n",
    "    Each plot is interactive and can be moved independently using Plotly.\n",
    "\n",
    "    :param df: DataFrame containing the data.\n",
    "    :param depts: List of departments to analyze.\n",
    "    :param dept_markers: Dictionary mapping departments to plot markers.\n",
    "    :param metrics: List of metrics to plot as Z-axis.\n",
    "    :param col_to_analyse_1: First column to analyze on X-axis.\n",
    "    :param col_to_analyse_2: Second column to analyze on Y-axis.\n",
    "    :param col_link: Column used to connect points in the same group.\n",
    "    \"\"\"\n",
    "    # Generate a unique color for each unique value in col_link\n",
    "    unique_links = df[col_link].unique()\n",
    "    colors = px.colors.qualitative.Plotly[:len(unique_links)]\n",
    "\n",
    "    # Map each unique link to a specific color\n",
    "    color_map = {link: colors[i % len(colors)] for i, link in enumerate(unique_links)}\n",
    "\n",
    "    for dept in depts:\n",
    "        df_filtered = df[df['Department'] == dept]\n",
    "\n",
    "        for metric in metrics:\n",
    "            fig = go.Figure()\n",
    "\n",
    "            # Add a trace for each unique value in col_link (to connect points belonging to the same group)\n",
    "            for link_value in df_filtered[col_link].unique():\n",
    "                subset = df_filtered[df_filtered[col_link] == link_value]\n",
    "\n",
    "                # Sort the subset by col_to_analyse_1 and col_to_analyse_2 for ordered plotting\n",
    "                subset = subset.sort_values(by=[col_to_analyse_1, col_to_analyse_2])\n",
    "                if len(subset) < 2:\n",
    "                    continue  # Skip if less than 2 points to connect\n",
    "\n",
    "                fig.add_trace(go.Scatter3d(\n",
    "                    x=subset[col_to_analyse_1],\n",
    "                    y=subset[col_to_analyse_2],\n",
    "                    z=subset[metric],  # Plot original metric values on the Z-axis\n",
    "                    mode='lines+markers',\n",
    "                    marker=dict(\n",
    "                        size=8,\n",
    "                        color=color_map[link_value],  # Assign a unique color for each line\n",
    "                    ),\n",
    "                    line=dict(\n",
    "                        color=color_map[link_value],  # Use the same color for the line\n",
    "                        width=3  # Line width\n",
    "                    ),\n",
    "                    name=f\"{dept} - {metric} - {link_value}\",\n",
    "                ))\n",
    "\n",
    "            # Update the layout to add titles and axis labels for 3D scatter plot\n",
    "            fig.update_layout(\n",
    "                scene=dict(\n",
    "                    xaxis_title=col_to_analyse_1,\n",
    "                    yaxis_title=col_to_analyse_2,\n",
    "                    zaxis_title='Metric',\n",
    "                    xaxis=dict(type='linear'),  # Force linear scale for increasing order\n",
    "                    yaxis=dict(type='linear'),\n",
    "                    zaxis=dict(type='linear')\n",
    "                ),\n",
    "                title=f\"3D Comparison for {dept} - {metric}\",\n",
    "                height=700,\n",
    "                width=1000\n",
    "            )\n",
    "\n",
    "            # Show the plot for this specific department and metric\n",
    "            fig.show()\n"
   ]
  },
  {
   "cell_type": "code",
   "execution_count": 11,
   "metadata": {},
   "outputs": [],
   "source": [
    "df.loc[df[df['Scale'] == 'departement'].index, 'Scale'] = 10"
   ]
  },
  {
   "cell_type": "code",
   "execution_count": 12,
   "metadata": {},
   "outputs": [
    {
     "name": "stdout",
     "output_type": "stream",
     "text": [
      "Unnamed: 0\n",
      "Run\n",
      "apr_nbsinister_max_1\n",
      "r2_nbsinister_max_1\n",
      "KS_nbsinister_max_1\n",
      "ks_1.0_nbsinister_max_1\n",
      "ks_2.0_nbsinister_max_1\n",
      "ks_3.0_nbsinister_max_1\n",
      "ks_4.0_nbsinister_max_1\n",
      "ks_5.0_nbsinister_max_1\n",
      "ks_6.0_nbsinister_max_1\n",
      "ks_7.0_nbsinister_max_1\n",
      "ks_8.0_nbsinister_max_1\n",
      "ks_9.0_nbsinister_max_1\n",
      "mae_raw_nbsinister_max_1\n",
      "mse_raw_nbsinister_max_1\n",
      "mae_fire_raw_nbsinister_max_1\n",
      "mse_fire_raw_nbsinister_max_1\n",
      "common_area_raw_nbsinister_max_1\n",
      "union_area_raw_nbsinister_max_1\n",
      "under_predicted_area_raw_nbsinister_max_1\n",
      "over_predicted_area_raw_nbsinister_max_1\n",
      "iou_raw_nbsinister_max_1\n",
      "iou_under_prediction_raw_nbsinister_max_1\n",
      "iou_over_prediction_raw_nbsinister_max_1\n",
      "wildfire_predicted_raw_nbsinister_max_1\n",
      "wildfire_supposed_raw_nbsinister_max_1\n",
      "wildfire_over_predicted_raw_nbsinister_max_1\n",
      "wildfire_under_predicted_raw_nbsinister_max_1\n",
      "over_bad_prediction_raw_nbsinister_max_1\n",
      "under_bad_prediction_raw_nbsinister_max_1\n",
      "bad_prediction_raw_nbsinister_max_1\n",
      "common_area_day_raw_nbsinister_max_1\n",
      "union_area_day_raw_nbsinister_max_1\n",
      "under_predicted_area_day_raw_nbsinister_max_1\n",
      "over_predicted_area_day_raw_nbsinister_max_1\n",
      "iou_day_raw_nbsinister_max_1\n",
      "iou_under_prediction_day_raw_nbsinister_max_1\n",
      "iou_over_prediction_day_raw_nbsinister_max_1\n",
      "wildfire_predicted_day_raw_nbsinister_max_1\n",
      "wildfire_supposed_day_raw_nbsinister_max_1\n",
      "wildfire_over_predicted_day_raw_nbsinister_max_1\n",
      "wildfire_under_predicted_day_raw_nbsinister_max_1\n",
      "over_bad_prediction_day_raw_nbsinister_max_1\n",
      "under_bad_prediction_day_raw_nbsinister_max_1\n",
      "bad_prediction_day_raw_nbsinister_max_1\n",
      "mae_nbsinister_max_1\n",
      "mse_nbsinister_max_1\n",
      "mae_fire_nbsinister_max_1\n",
      "mse_fire_nbsinister_max_1\n",
      "common_area_modified_nbsinister_max_1\n",
      "union_area_modified_nbsinister_max_1\n",
      "under_predicted_area_modified_nbsinister_max_1\n",
      "over_predicted_area_modified_nbsinister_max_1\n",
      "iou_modified_nbsinister_max_1\n",
      "iou_under_prediction_modified_nbsinister_max_1\n",
      "iou_over_prediction_modified_nbsinister_max_1\n",
      "wildfire_predicted_modified_nbsinister_max_1\n",
      "wildfire_supposed_modified_nbsinister_max_1\n",
      "wildfire_over_predicted_modified_nbsinister_max_1\n",
      "wildfire_under_predicted_modified_nbsinister_max_1\n",
      "over_bad_prediction_modified_nbsinister_max_1\n",
      "under_bad_prediction_modified_nbsinister_max_1\n",
      "bad_prediction_modified_nbsinister_max_1\n",
      "common_area_day_modified_nbsinister_max_1\n",
      "union_area_day_modified_nbsinister_max_1\n",
      "under_predicted_area_day_modified_nbsinister_max_1\n",
      "over_predicted_area_day_modified_nbsinister_max_1\n",
      "iou_day_modified_nbsinister_max_1\n",
      "iou_under_prediction_day_modified_nbsinister_max_1\n",
      "iou_over_prediction_day_modified_nbsinister_max_1\n",
      "wildfire_predicted_day_modified_nbsinister_max_1\n",
      "wildfire_supposed_day_modified_nbsinister_max_1\n",
      "wildfire_over_predicted_day_modified_nbsinister_max_1\n",
      "wildfire_under_predicted_day_modified_nbsinister_max_1\n",
      "over_bad_prediction_day_modified_nbsinister_max_1\n",
      "under_bad_prediction_day_modified_nbsinister_max_1\n",
      "bad_prediction_day_modified_nbsinister_max_1\n",
      "ks_10.0_nbsinister_max_1\n",
      "ks_11.0_nbsinister_max_1\n",
      "ks_12.0_nbsinister_max_1\n",
      "ks_13.0_nbsinister_max_1\n",
      "ks_14.0_nbsinister_max_1\n",
      "ks_17.0_nbsinister_max_1\n",
      "ks_18.0_nbsinister_max_1\n",
      "ks_20.0_nbsinister_max_1\n",
      "ks_22.0_nbsinister_max_1\n",
      "ks_24.0_nbsinister_max_1\n",
      "ks_26.0_nbsinister_max_1\n",
      "source\n",
      "ks_1.0_saison_high_graph_0.0\n",
      "ks_2.0_saison_high_graph_0.0\n",
      "ks_3.0_saison_high_graph_0.0\n",
      "ks_4.0_saison_high_graph_0.0\n",
      "ks_5.0_saison_high_graph_0.0\n",
      "ks_6.0_saison_high_graph_0.0\n",
      "ks_7.0_saison_high_graph_0.0\n",
      "ks_8.0_saison_high_graph_0.0\n",
      "ks_9.0_saison_high_graph_0.0\n",
      "ks_10.0_saison_high_graph_0.0\n",
      "ks_11.0_saison_high_graph_0.0\n",
      "ks_12.0_saison_high_graph_0.0\n",
      "ks_13.0_saison_high_graph_0.0\n",
      "ks_14.0_saison_high_graph_0.0\n",
      "ks_15.0_saison_high_graph_0.0\n",
      "ks_16.0_saison_high_graph_0.0\n",
      "ks_17.0_saison_high_graph_0.0\n",
      "ks_18.0_saison_high_graph_0.0\n",
      "ks_19.0_saison_high_graph_0.0\n",
      "ks_20.0_saison_high_graph_0.0\n",
      "ks_22.0_saison_high_graph_0.0\n",
      "ks_23.0_saison_high_graph_0.0\n",
      "ks_24.0_saison_high_graph_0.0\n",
      "ks_25.0_saison_high_graph_0.0\n",
      "ks_26.0_saison_high_graph_0.0\n",
      "ks_28.0_saison_high_graph_0.0\n",
      "ks_29.0_saison_high_graph_0.0\n",
      "ks_31.0_saison_high_graph_0.0\n",
      "ks_1.0_saison_low_graph_0.0\n",
      "ks_2.0_saison_low_graph_0.0\n",
      "ks_3.0_saison_low_graph_0.0\n",
      "ks_4.0_saison_low_graph_0.0\n",
      "ks_5.0_saison_low_graph_0.0\n",
      "ks_6.0_saison_low_graph_0.0\n",
      "ks_7.0_saison_low_graph_0.0\n",
      "ks_8.0_saison_low_graph_0.0\n",
      "ks_9.0_saison_low_graph_0.0\n",
      "ks_10.0_saison_low_graph_0.0\n",
      "ks_11.0_saison_low_graph_0.0\n",
      "ks_12.0_saison_low_graph_0.0\n",
      "ks_13.0_saison_low_graph_0.0\n",
      "ks_14.0_saison_low_graph_0.0\n",
      "ks_15.0_saison_low_graph_0.0\n",
      "ks_16.0_saison_low_graph_0.0\n",
      "ks_17.0_saison_low_graph_0.0\n",
      "ks_18.0_saison_low_graph_0.0\n",
      "ks_19.0_saison_low_graph_0.0\n",
      "ks_20.0_saison_low_graph_0.0\n",
      "ks_22.0_saison_low_graph_0.0\n",
      "ks_23.0_saison_low_graph_0.0\n",
      "ks_24.0_saison_low_graph_0.0\n",
      "ks_25.0_saison_low_graph_0.0\n",
      "ks_26.0_saison_low_graph_0.0\n",
      "ks_28.0_saison_low_graph_0.0\n",
      "ks_29.0_saison_low_graph_0.0\n",
      "ks_31.0_saison_low_graph_0.0\n",
      "ks_1.0_saison_medium_graph_0.0\n",
      "ks_2.0_saison_medium_graph_0.0\n",
      "ks_3.0_saison_medium_graph_0.0\n",
      "ks_4.0_saison_medium_graph_0.0\n",
      "ks_5.0_saison_medium_graph_0.0\n",
      "ks_6.0_saison_medium_graph_0.0\n",
      "ks_7.0_saison_medium_graph_0.0\n",
      "ks_8.0_saison_medium_graph_0.0\n",
      "ks_9.0_saison_medium_graph_0.0\n",
      "ks_10.0_saison_medium_graph_0.0\n",
      "ks_11.0_saison_medium_graph_0.0\n",
      "ks_12.0_saison_medium_graph_0.0\n",
      "ks_13.0_saison_medium_graph_0.0\n",
      "ks_14.0_saison_medium_graph_0.0\n",
      "ks_15.0_saison_medium_graph_0.0\n",
      "ks_16.0_saison_medium_graph_0.0\n",
      "ks_17.0_saison_medium_graph_0.0\n",
      "ks_18.0_saison_medium_graph_0.0\n",
      "ks_19.0_saison_medium_graph_0.0\n",
      "ks_20.0_saison_medium_graph_0.0\n",
      "ks_22.0_saison_medium_graph_0.0\n",
      "ks_23.0_saison_medium_graph_0.0\n",
      "ks_24.0_saison_medium_graph_0.0\n",
      "ks_25.0_saison_medium_graph_0.0\n",
      "ks_26.0_saison_medium_graph_0.0\n",
      "ks_28.0_saison_medium_graph_0.0\n",
      "ks_29.0_saison_medium_graph_0.0\n",
      "ks_31.0_saison_medium_graph_0.0\n",
      "accuracy_nbsinister_max_1\n",
      "ks_1.0_saison_high_graph_1.0\n",
      "ks_2.0_saison_high_graph_1.0\n",
      "ks_3.0_saison_high_graph_1.0\n",
      "ks_4.0_saison_high_graph_1.0\n",
      "ks_5.0_saison_high_graph_1.0\n",
      "ks_6.0_saison_high_graph_1.0\n",
      "ks_7.0_saison_high_graph_1.0\n",
      "ks_8.0_saison_high_graph_1.0\n",
      "ks_9.0_saison_high_graph_1.0\n",
      "ks_10.0_saison_high_graph_1.0\n",
      "ks_11.0_saison_high_graph_1.0\n",
      "ks_12.0_saison_high_graph_1.0\n",
      "ks_14.0_saison_high_graph_1.0\n",
      "ks_15.0_saison_high_graph_1.0\n",
      "ks_16.0_saison_high_graph_1.0\n",
      "ks_17.0_saison_high_graph_1.0\n",
      "ks_18.0_saison_high_graph_1.0\n",
      "ks_19.0_saison_high_graph_1.0\n",
      "ks_22.0_saison_high_graph_1.0\n",
      "ks_23.0_saison_high_graph_1.0\n",
      "ks_24.0_saison_high_graph_1.0\n",
      "ks_25.0_saison_high_graph_1.0\n",
      "ks_1.0_saison_medium_graph_1.0\n",
      "ks_2.0_saison_medium_graph_1.0\n",
      "ks_3.0_saison_medium_graph_1.0\n",
      "ks_4.0_saison_medium_graph_1.0\n",
      "ks_5.0_saison_medium_graph_1.0\n",
      "ks_6.0_saison_medium_graph_1.0\n",
      "ks_7.0_saison_medium_graph_1.0\n",
      "ks_8.0_saison_medium_graph_1.0\n",
      "ks_9.0_saison_medium_graph_1.0\n",
      "ks_10.0_saison_medium_graph_1.0\n",
      "ks_11.0_saison_medium_graph_1.0\n",
      "ks_12.0_saison_medium_graph_1.0\n",
      "ks_14.0_saison_medium_graph_1.0\n",
      "ks_15.0_saison_medium_graph_1.0\n",
      "ks_16.0_saison_medium_graph_1.0\n",
      "ks_17.0_saison_medium_graph_1.0\n",
      "ks_18.0_saison_medium_graph_1.0\n",
      "ks_19.0_saison_medium_graph_1.0\n",
      "ks_22.0_saison_medium_graph_1.0\n",
      "ks_23.0_saison_medium_graph_1.0\n",
      "ks_24.0_saison_medium_graph_1.0\n",
      "ks_25.0_saison_medium_graph_1.0\n",
      "ks_1.0_saison_high_graph_3.0\n",
      "ks_2.0_saison_high_graph_3.0\n",
      "ks_3.0_saison_high_graph_3.0\n",
      "ks_4.0_saison_high_graph_3.0\n",
      "ks_5.0_saison_high_graph_3.0\n",
      "ks_6.0_saison_high_graph_3.0\n",
      "ks_7.0_saison_high_graph_3.0\n",
      "ks_8.0_saison_high_graph_3.0\n",
      "ks_9.0_saison_high_graph_3.0\n",
      "ks_10.0_saison_high_graph_3.0\n",
      "ks_11.0_saison_high_graph_3.0\n",
      "ks_12.0_saison_high_graph_3.0\n",
      "ks_13.0_saison_high_graph_3.0\n",
      "ks_14.0_saison_high_graph_3.0\n",
      "ks_15.0_saison_high_graph_3.0\n",
      "ks_16.0_saison_high_graph_3.0\n",
      "ks_17.0_saison_high_graph_3.0\n",
      "ks_22.0_saison_high_graph_3.0\n",
      "ks_24.0_saison_high_graph_3.0\n",
      "ks_25.0_saison_high_graph_3.0\n",
      "ks_26.0_saison_high_graph_3.0\n",
      "ks_30.0_saison_high_graph_3.0\n",
      "ks_31.0_saison_high_graph_3.0\n",
      "ks_33.0_saison_high_graph_3.0\n",
      "ks_34.0_saison_high_graph_3.0\n",
      "ks_35.0_saison_high_graph_3.0\n",
      "ks_1.0_saison_medium_graph_3.0\n",
      "ks_2.0_saison_medium_graph_3.0\n",
      "ks_3.0_saison_medium_graph_3.0\n",
      "ks_4.0_saison_medium_graph_3.0\n",
      "ks_5.0_saison_medium_graph_3.0\n",
      "ks_6.0_saison_medium_graph_3.0\n",
      "ks_7.0_saison_medium_graph_3.0\n",
      "ks_8.0_saison_medium_graph_3.0\n",
      "ks_9.0_saison_medium_graph_3.0\n",
      "ks_10.0_saison_medium_graph_3.0\n",
      "ks_11.0_saison_medium_graph_3.0\n",
      "ks_12.0_saison_medium_graph_3.0\n",
      "ks_13.0_saison_medium_graph_3.0\n",
      "ks_14.0_saison_medium_graph_3.0\n",
      "ks_15.0_saison_medium_graph_3.0\n",
      "ks_16.0_saison_medium_graph_3.0\n",
      "ks_17.0_saison_medium_graph_3.0\n",
      "ks_22.0_saison_medium_graph_3.0\n",
      "ks_24.0_saison_medium_graph_3.0\n",
      "ks_25.0_saison_medium_graph_3.0\n",
      "ks_26.0_saison_medium_graph_3.0\n",
      "ks_30.0_saison_medium_graph_3.0\n",
      "ks_31.0_saison_medium_graph_3.0\n",
      "ks_33.0_saison_medium_graph_3.0\n",
      "ks_34.0_saison_medium_graph_3.0\n",
      "ks_35.0_saison_medium_graph_3.0\n",
      "iou_0.0_0_raw_nbsinister_max_1\n",
      "iou_under_prediction_0.0_0_raw_nbsinister_max_1\n",
      "iou_over_prediction_0.0_0_raw_nbsinister_max_1\n",
      "wildfire_predicted_0.0_0_raw_nbsinister_max_1\n",
      "wildfire_supposed_0.0_0_raw_nbsinister_max_1\n",
      "wildfire_over_predicted_0.0_0_raw_nbsinister_max_1\n",
      "wildfire_under_predicted_0.0_0_raw_nbsinister_max_1\n",
      "over_bad_prediction_unique_0.0_0_raw_nbsinister_max_1\n",
      "under_bad_prediction_unique_0.0_0_raw_nbsinister_max_1\n",
      "bad_prediction_unique_0.0_0_raw_nbsinister_max_1\n",
      "over_bad_prediction_global_0.0_0_raw_nbsinister_max_1\n",
      "under_bad_prediction_global_0.0_0_raw_nbsinister_max_1\n",
      "bad_prediction_global_0.0_0_raw_nbsinister_max_1\n",
      "iou_1.0_1_raw_nbsinister_max_1\n",
      "iou_under_prediction_1.0_1_raw_nbsinister_max_1\n",
      "iou_over_prediction_1.0_1_raw_nbsinister_max_1\n",
      "wildfire_predicted_1.0_1_raw_nbsinister_max_1\n",
      "wildfire_supposed_1.0_1_raw_nbsinister_max_1\n",
      "wildfire_over_predicted_1.0_1_raw_nbsinister_max_1\n",
      "wildfire_under_predicted_1.0_1_raw_nbsinister_max_1\n",
      "over_bad_prediction_unique_1.0_1_raw_nbsinister_max_1\n",
      "under_bad_prediction_unique_1.0_1_raw_nbsinister_max_1\n",
      "bad_prediction_unique_1.0_1_raw_nbsinister_max_1\n",
      "over_bad_prediction_global_1.0_1_raw_nbsinister_max_1\n",
      "under_bad_prediction_global_1.0_1_raw_nbsinister_max_1\n",
      "bad_prediction_global_1.0_1_raw_nbsinister_max_1\n",
      "iou_2.0_2_raw_nbsinister_max_1\n",
      "iou_under_prediction_2.0_2_raw_nbsinister_max_1\n",
      "iou_over_prediction_2.0_2_raw_nbsinister_max_1\n",
      "wildfire_predicted_2.0_2_raw_nbsinister_max_1\n",
      "wildfire_supposed_2.0_2_raw_nbsinister_max_1\n",
      "wildfire_over_predicted_2.0_2_raw_nbsinister_max_1\n",
      "wildfire_under_predicted_2.0_2_raw_nbsinister_max_1\n",
      "over_bad_prediction_unique_2.0_2_raw_nbsinister_max_1\n",
      "under_bad_prediction_unique_2.0_2_raw_nbsinister_max_1\n",
      "bad_prediction_unique_2.0_2_raw_nbsinister_max_1\n",
      "over_bad_prediction_global_2.0_2_raw_nbsinister_max_1\n",
      "under_bad_prediction_global_2.0_2_raw_nbsinister_max_1\n",
      "bad_prediction_global_2.0_2_raw_nbsinister_max_1\n",
      "iou_3.0_3_raw_nbsinister_max_1\n",
      "iou_under_prediction_3.0_3_raw_nbsinister_max_1\n",
      "iou_over_prediction_3.0_3_raw_nbsinister_max_1\n",
      "wildfire_predicted_3.0_3_raw_nbsinister_max_1\n",
      "wildfire_supposed_3.0_3_raw_nbsinister_max_1\n",
      "wildfire_over_predicted_3.0_3_raw_nbsinister_max_1\n",
      "wildfire_under_predicted_3.0_3_raw_nbsinister_max_1\n",
      "over_bad_prediction_unique_3.0_3_raw_nbsinister_max_1\n",
      "under_bad_prediction_unique_3.0_3_raw_nbsinister_max_1\n",
      "bad_prediction_unique_3.0_3_raw_nbsinister_max_1\n",
      "over_bad_prediction_global_3.0_3_raw_nbsinister_max_1\n",
      "under_bad_prediction_global_3.0_3_raw_nbsinister_max_1\n",
      "bad_prediction_global_3.0_3_raw_nbsinister_max_1\n",
      "iou_0.0_0_modified_nbsinister_max_1\n",
      "iou_under_prediction_0.0_0_modified_nbsinister_max_1\n",
      "iou_over_prediction_0.0_0_modified_nbsinister_max_1\n",
      "wildfire_predicted_0.0_0_modified_nbsinister_max_1\n",
      "wildfire_supposed_0.0_0_modified_nbsinister_max_1\n",
      "wildfire_over_predicted_0.0_0_modified_nbsinister_max_1\n",
      "wildfire_under_predicted_0.0_0_modified_nbsinister_max_1\n",
      "over_bad_prediction_unique_0.0_0_modified_nbsinister_max_1\n",
      "under_bad_prediction_unique_0.0_0_modified_nbsinister_max_1\n",
      "bad_prediction_unique_0.0_0_modified_nbsinister_max_1\n",
      "over_bad_prediction_global_0.0_0_modified_nbsinister_max_1\n",
      "under_bad_prediction_global_0.0_0_modified_nbsinister_max_1\n",
      "bad_prediction_global_0.0_0_modified_nbsinister_max_1\n",
      "iou_1.0_1_modified_nbsinister_max_1\n",
      "iou_under_prediction_1.0_1_modified_nbsinister_max_1\n",
      "iou_over_prediction_1.0_1_modified_nbsinister_max_1\n",
      "wildfire_predicted_1.0_1_modified_nbsinister_max_1\n",
      "wildfire_supposed_1.0_1_modified_nbsinister_max_1\n",
      "wildfire_over_predicted_1.0_1_modified_nbsinister_max_1\n",
      "wildfire_under_predicted_1.0_1_modified_nbsinister_max_1\n",
      "over_bad_prediction_unique_1.0_1_modified_nbsinister_max_1\n",
      "under_bad_prediction_unique_1.0_1_modified_nbsinister_max_1\n",
      "bad_prediction_unique_1.0_1_modified_nbsinister_max_1\n",
      "over_bad_prediction_global_1.0_1_modified_nbsinister_max_1\n",
      "under_bad_prediction_global_1.0_1_modified_nbsinister_max_1\n",
      "bad_prediction_global_1.0_1_modified_nbsinister_max_1\n",
      "iou_2.0_2_modified_nbsinister_max_1\n",
      "iou_under_prediction_2.0_2_modified_nbsinister_max_1\n",
      "iou_over_prediction_2.0_2_modified_nbsinister_max_1\n",
      "wildfire_predicted_2.0_2_modified_nbsinister_max_1\n",
      "wildfire_supposed_2.0_2_modified_nbsinister_max_1\n",
      "wildfire_over_predicted_2.0_2_modified_nbsinister_max_1\n",
      "wildfire_under_predicted_2.0_2_modified_nbsinister_max_1\n",
      "over_bad_prediction_unique_2.0_2_modified_nbsinister_max_1\n",
      "under_bad_prediction_unique_2.0_2_modified_nbsinister_max_1\n",
      "bad_prediction_unique_2.0_2_modified_nbsinister_max_1\n",
      "over_bad_prediction_global_2.0_2_modified_nbsinister_max_1\n",
      "under_bad_prediction_global_2.0_2_modified_nbsinister_max_1\n",
      "bad_prediction_global_2.0_2_modified_nbsinister_max_1\n",
      "iou_3.0_3_modified_nbsinister_max_1\n",
      "iou_under_prediction_3.0_3_modified_nbsinister_max_1\n",
      "iou_over_prediction_3.0_3_modified_nbsinister_max_1\n",
      "wildfire_predicted_3.0_3_modified_nbsinister_max_1\n",
      "wildfire_supposed_3.0_3_modified_nbsinister_max_1\n",
      "wildfire_over_predicted_3.0_3_modified_nbsinister_max_1\n",
      "wildfire_under_predicted_3.0_3_modified_nbsinister_max_1\n",
      "over_bad_prediction_unique_3.0_3_modified_nbsinister_max_1\n",
      "under_bad_prediction_unique_3.0_3_modified_nbsinister_max_1\n",
      "bad_prediction_unique_3.0_3_modified_nbsinister_max_1\n",
      "over_bad_prediction_global_3.0_3_modified_nbsinister_max_1\n",
      "under_bad_prediction_global_3.0_3_modified_nbsinister_max_1\n",
      "bad_prediction_global_3.0_3_modified_nbsinister_max_1\n",
      "ks_15.0_nbsinister_max_1\n",
      "iou_4.0_0_raw_nbsinister_max_1\n",
      "iou_under_prediction_4.0_0_raw_nbsinister_max_1\n",
      "iou_over_prediction_4.0_0_raw_nbsinister_max_1\n",
      "wildfire_predicted_4.0_0_raw_nbsinister_max_1\n",
      "wildfire_supposed_4.0_0_raw_nbsinister_max_1\n",
      "wildfire_over_predicted_4.0_0_raw_nbsinister_max_1\n",
      "wildfire_under_predicted_4.0_0_raw_nbsinister_max_1\n",
      "over_bad_prediction_unique_4.0_0_raw_nbsinister_max_1\n",
      "under_bad_prediction_unique_4.0_0_raw_nbsinister_max_1\n",
      "bad_prediction_unique_4.0_0_raw_nbsinister_max_1\n",
      "over_bad_prediction_global_4.0_0_raw_nbsinister_max_1\n",
      "under_bad_prediction_global_4.0_0_raw_nbsinister_max_1\n",
      "bad_prediction_global_4.0_0_raw_nbsinister_max_1\n",
      "iou_5.0_1_raw_nbsinister_max_1\n",
      "iou_under_prediction_5.0_1_raw_nbsinister_max_1\n",
      "iou_over_prediction_5.0_1_raw_nbsinister_max_1\n",
      "wildfire_predicted_5.0_1_raw_nbsinister_max_1\n",
      "wildfire_supposed_5.0_1_raw_nbsinister_max_1\n",
      "wildfire_over_predicted_5.0_1_raw_nbsinister_max_1\n",
      "wildfire_under_predicted_5.0_1_raw_nbsinister_max_1\n",
      "over_bad_prediction_unique_5.0_1_raw_nbsinister_max_1\n",
      "under_bad_prediction_unique_5.0_1_raw_nbsinister_max_1\n",
      "bad_prediction_unique_5.0_1_raw_nbsinister_max_1\n",
      "over_bad_prediction_global_5.0_1_raw_nbsinister_max_1\n",
      "under_bad_prediction_global_5.0_1_raw_nbsinister_max_1\n",
      "bad_prediction_global_5.0_1_raw_nbsinister_max_1\n",
      "iou_6.0_2_raw_nbsinister_max_1\n",
      "iou_under_prediction_6.0_2_raw_nbsinister_max_1\n",
      "iou_over_prediction_6.0_2_raw_nbsinister_max_1\n",
      "wildfire_predicted_6.0_2_raw_nbsinister_max_1\n",
      "wildfire_supposed_6.0_2_raw_nbsinister_max_1\n",
      "wildfire_over_predicted_6.0_2_raw_nbsinister_max_1\n",
      "wildfire_under_predicted_6.0_2_raw_nbsinister_max_1\n",
      "over_bad_prediction_unique_6.0_2_raw_nbsinister_max_1\n",
      "under_bad_prediction_unique_6.0_2_raw_nbsinister_max_1\n",
      "bad_prediction_unique_6.0_2_raw_nbsinister_max_1\n",
      "over_bad_prediction_global_6.0_2_raw_nbsinister_max_1\n",
      "under_bad_prediction_global_6.0_2_raw_nbsinister_max_1\n",
      "bad_prediction_global_6.0_2_raw_nbsinister_max_1\n",
      "iou_7.0_3_raw_nbsinister_max_1\n",
      "iou_under_prediction_7.0_3_raw_nbsinister_max_1\n",
      "iou_over_prediction_7.0_3_raw_nbsinister_max_1\n",
      "wildfire_predicted_7.0_3_raw_nbsinister_max_1\n",
      "wildfire_supposed_7.0_3_raw_nbsinister_max_1\n",
      "wildfire_over_predicted_7.0_3_raw_nbsinister_max_1\n",
      "wildfire_under_predicted_7.0_3_raw_nbsinister_max_1\n",
      "over_bad_prediction_unique_7.0_3_raw_nbsinister_max_1\n",
      "under_bad_prediction_unique_7.0_3_raw_nbsinister_max_1\n",
      "bad_prediction_unique_7.0_3_raw_nbsinister_max_1\n",
      "over_bad_prediction_global_7.0_3_raw_nbsinister_max_1\n",
      "under_bad_prediction_global_7.0_3_raw_nbsinister_max_1\n",
      "bad_prediction_global_7.0_3_raw_nbsinister_max_1\n",
      "iou_4.0_0_modified_nbsinister_max_1\n",
      "iou_under_prediction_4.0_0_modified_nbsinister_max_1\n",
      "iou_over_prediction_4.0_0_modified_nbsinister_max_1\n",
      "wildfire_predicted_4.0_0_modified_nbsinister_max_1\n",
      "wildfire_supposed_4.0_0_modified_nbsinister_max_1\n",
      "wildfire_over_predicted_4.0_0_modified_nbsinister_max_1\n",
      "wildfire_under_predicted_4.0_0_modified_nbsinister_max_1\n",
      "over_bad_prediction_unique_4.0_0_modified_nbsinister_max_1\n",
      "under_bad_prediction_unique_4.0_0_modified_nbsinister_max_1\n",
      "bad_prediction_unique_4.0_0_modified_nbsinister_max_1\n",
      "over_bad_prediction_global_4.0_0_modified_nbsinister_max_1\n",
      "under_bad_prediction_global_4.0_0_modified_nbsinister_max_1\n",
      "bad_prediction_global_4.0_0_modified_nbsinister_max_1\n",
      "iou_5.0_1_modified_nbsinister_max_1\n",
      "iou_under_prediction_5.0_1_modified_nbsinister_max_1\n",
      "iou_over_prediction_5.0_1_modified_nbsinister_max_1\n",
      "wildfire_predicted_5.0_1_modified_nbsinister_max_1\n",
      "wildfire_supposed_5.0_1_modified_nbsinister_max_1\n",
      "wildfire_over_predicted_5.0_1_modified_nbsinister_max_1\n",
      "wildfire_under_predicted_5.0_1_modified_nbsinister_max_1\n",
      "over_bad_prediction_unique_5.0_1_modified_nbsinister_max_1\n",
      "under_bad_prediction_unique_5.0_1_modified_nbsinister_max_1\n",
      "bad_prediction_unique_5.0_1_modified_nbsinister_max_1\n",
      "over_bad_prediction_global_5.0_1_modified_nbsinister_max_1\n",
      "under_bad_prediction_global_5.0_1_modified_nbsinister_max_1\n",
      "bad_prediction_global_5.0_1_modified_nbsinister_max_1\n",
      "iou_6.0_2_modified_nbsinister_max_1\n",
      "iou_under_prediction_6.0_2_modified_nbsinister_max_1\n",
      "iou_over_prediction_6.0_2_modified_nbsinister_max_1\n",
      "wildfire_predicted_6.0_2_modified_nbsinister_max_1\n",
      "wildfire_supposed_6.0_2_modified_nbsinister_max_1\n",
      "wildfire_over_predicted_6.0_2_modified_nbsinister_max_1\n",
      "wildfire_under_predicted_6.0_2_modified_nbsinister_max_1\n",
      "over_bad_prediction_unique_6.0_2_modified_nbsinister_max_1\n",
      "under_bad_prediction_unique_6.0_2_modified_nbsinister_max_1\n",
      "bad_prediction_unique_6.0_2_modified_nbsinister_max_1\n",
      "over_bad_prediction_global_6.0_2_modified_nbsinister_max_1\n",
      "under_bad_prediction_global_6.0_2_modified_nbsinister_max_1\n",
      "bad_prediction_global_6.0_2_modified_nbsinister_max_1\n",
      "iou_7.0_3_modified_nbsinister_max_1\n",
      "iou_under_prediction_7.0_3_modified_nbsinister_max_1\n",
      "iou_over_prediction_7.0_3_modified_nbsinister_max_1\n",
      "wildfire_predicted_7.0_3_modified_nbsinister_max_1\n",
      "wildfire_supposed_7.0_3_modified_nbsinister_max_1\n",
      "wildfire_over_predicted_7.0_3_modified_nbsinister_max_1\n",
      "wildfire_under_predicted_7.0_3_modified_nbsinister_max_1\n",
      "over_bad_prediction_unique_7.0_3_modified_nbsinister_max_1\n",
      "under_bad_prediction_unique_7.0_3_modified_nbsinister_max_1\n",
      "bad_prediction_unique_7.0_3_modified_nbsinister_max_1\n",
      "over_bad_prediction_global_7.0_3_modified_nbsinister_max_1\n",
      "under_bad_prediction_global_7.0_3_modified_nbsinister_max_1\n",
      "bad_prediction_global_7.0_3_modified_nbsinister_max_1\n",
      "iou_10.0_0_raw_nbsinister_max_1\n",
      "iou_under_prediction_10.0_0_raw_nbsinister_max_1\n",
      "iou_over_prediction_10.0_0_raw_nbsinister_max_1\n",
      "wildfire_predicted_10.0_0_raw_nbsinister_max_1\n",
      "wildfire_supposed_10.0_0_raw_nbsinister_max_1\n",
      "wildfire_over_predicted_10.0_0_raw_nbsinister_max_1\n",
      "wildfire_under_predicted_10.0_0_raw_nbsinister_max_1\n",
      "over_bad_prediction_unique_10.0_0_raw_nbsinister_max_1\n",
      "under_bad_prediction_unique_10.0_0_raw_nbsinister_max_1\n",
      "bad_prediction_unique_10.0_0_raw_nbsinister_max_1\n",
      "over_bad_prediction_global_10.0_0_raw_nbsinister_max_1\n",
      "under_bad_prediction_global_10.0_0_raw_nbsinister_max_1\n",
      "bad_prediction_global_10.0_0_raw_nbsinister_max_1\n",
      "iou_11.0_1_raw_nbsinister_max_1\n",
      "iou_under_prediction_11.0_1_raw_nbsinister_max_1\n",
      "iou_over_prediction_11.0_1_raw_nbsinister_max_1\n",
      "wildfire_predicted_11.0_1_raw_nbsinister_max_1\n",
      "wildfire_supposed_11.0_1_raw_nbsinister_max_1\n",
      "wildfire_over_predicted_11.0_1_raw_nbsinister_max_1\n",
      "wildfire_under_predicted_11.0_1_raw_nbsinister_max_1\n",
      "over_bad_prediction_unique_11.0_1_raw_nbsinister_max_1\n",
      "under_bad_prediction_unique_11.0_1_raw_nbsinister_max_1\n",
      "bad_prediction_unique_11.0_1_raw_nbsinister_max_1\n",
      "over_bad_prediction_global_11.0_1_raw_nbsinister_max_1\n",
      "under_bad_prediction_global_11.0_1_raw_nbsinister_max_1\n",
      "bad_prediction_global_11.0_1_raw_nbsinister_max_1\n",
      "iou_10.0_0_modified_nbsinister_max_1\n",
      "iou_under_prediction_10.0_0_modified_nbsinister_max_1\n",
      "iou_over_prediction_10.0_0_modified_nbsinister_max_1\n",
      "wildfire_predicted_10.0_0_modified_nbsinister_max_1\n",
      "wildfire_supposed_10.0_0_modified_nbsinister_max_1\n",
      "wildfire_over_predicted_10.0_0_modified_nbsinister_max_1\n",
      "wildfire_under_predicted_10.0_0_modified_nbsinister_max_1\n",
      "over_bad_prediction_unique_10.0_0_modified_nbsinister_max_1\n",
      "under_bad_prediction_unique_10.0_0_modified_nbsinister_max_1\n",
      "bad_prediction_unique_10.0_0_modified_nbsinister_max_1\n",
      "over_bad_prediction_global_10.0_0_modified_nbsinister_max_1\n",
      "under_bad_prediction_global_10.0_0_modified_nbsinister_max_1\n",
      "bad_prediction_global_10.0_0_modified_nbsinister_max_1\n",
      "iou_11.0_1_modified_nbsinister_max_1\n",
      "iou_under_prediction_11.0_1_modified_nbsinister_max_1\n",
      "iou_over_prediction_11.0_1_modified_nbsinister_max_1\n",
      "wildfire_predicted_11.0_1_modified_nbsinister_max_1\n",
      "wildfire_supposed_11.0_1_modified_nbsinister_max_1\n",
      "wildfire_over_predicted_11.0_1_modified_nbsinister_max_1\n",
      "wildfire_under_predicted_11.0_1_modified_nbsinister_max_1\n",
      "over_bad_prediction_unique_11.0_1_modified_nbsinister_max_1\n",
      "under_bad_prediction_unique_11.0_1_modified_nbsinister_max_1\n",
      "bad_prediction_unique_11.0_1_modified_nbsinister_max_1\n",
      "over_bad_prediction_global_11.0_1_modified_nbsinister_max_1\n",
      "under_bad_prediction_global_11.0_1_modified_nbsinister_max_1\n",
      "bad_prediction_global_11.0_1_modified_nbsinister_max_1\n",
      "ks_13.0_saison_high_graph_1.0\n",
      "ks_13.0_saison_medium_graph_1.0\n",
      "ks_19.0_saison_high_graph_3.0\n",
      "ks_19.0_saison_medium_graph_3.0\n",
      "ks_21.0_saison_high_graph_1.0\n",
      "ks_21.0_saison_medium_graph_1.0\n",
      "ks_20.0_saison_high_graph_3.0\n",
      "ks_21.0_saison_high_graph_3.0\n",
      "ks_23.0_saison_high_graph_3.0\n",
      "ks_29.0_saison_high_graph_3.0\n",
      "ks_20.0_saison_medium_graph_3.0\n",
      "ks_21.0_saison_medium_graph_3.0\n",
      "ks_23.0_saison_medium_graph_3.0\n",
      "ks_29.0_saison_medium_graph_3.0\n",
      "ks_16.0_nbsinister_max_1\n",
      "ks_19.0_nbsinister_max_1\n",
      "ks_27.0_nbsinister_max_1\n",
      "ks_30.0_nbsinister_max_1\n",
      "ks_31.0_nbsinister_max_1\n",
      "ks_21.0_nbsinister_max_1\n",
      "Department\n",
      "Model\n",
      "Target\n",
      "Task_type\n",
      "Loss_function\n",
      "Number_of_samples\n",
      "kdays\n",
      "Number_of_features\n",
      "Scale\n",
      "Base\n",
      "Method\n",
      "Days_in_futur\n",
      "weight\n",
      "kmeans_thresh\n",
      "kmeans_shift\n"
     ]
    }
   ],
   "source": [
    "for col in df.columns:\n",
    "    print(col)"
   ]
  },
  {
   "cell_type": "code",
   "execution_count": 13,
   "metadata": {},
   "outputs": [
    {
     "data": {
      "text/plain": [
       "array([0], dtype=object)"
      ]
     },
     "execution_count": 13,
     "metadata": {},
     "output_type": "execute_result"
    }
   ],
   "source": [
    "df.kmeans_thresh.unique()"
   ]
  },
  {
   "cell_type": "code",
   "execution_count": 14,
   "metadata": {},
   "outputs": [
    {
     "data": {
      "application/vnd.plotly.v1+json": {
       "config": {
        "plotlyServerURL": "https://plot.ly"
       },
       "data": [
        {
         "line": {
          "color": "#636EFA",
          "width": 3
         },
         "marker": {
          "color": "#636EFA",
          "size": 8
         },
         "mode": "lines+markers",
         "name": "departement-01-ain - iou_modified_nbsinister_max_1 - 6",
         "type": "scatter3d",
         "x": [
          "6",
          "6",
          "6",
          "6"
         ],
         "y": [
          "0",
          "3",
          "5",
          "7"
         ],
         "z": [
          0.21,
          0.34,
          0.36,
          0.33
         ]
        },
        {
         "line": {
          "color": "#EF553B",
          "width": 3
         },
         "marker": {
          "color": "#EF553B",
          "size": 8
         },
         "mode": "lines+markers",
         "name": "departement-01-ain - iou_modified_nbsinister_max_1 - 4",
         "type": "scatter3d",
         "x": [
          "4",
          "4",
          "4",
          "4",
          "4"
         ],
         "y": [
          "0",
          "0",
          "3",
          "5",
          "7"
         ],
         "z": [
          0.12,
          0.11,
          0.21,
          0.21,
          0.3
         ]
        },
        {
         "line": {
          "color": "#00CC96",
          "width": 3
         },
         "marker": {
          "color": "#00CC96",
          "size": 8
         },
         "mode": "lines+markers",
         "name": "departement-01-ain - iou_modified_nbsinister_max_1 - 10",
         "type": "scatter3d",
         "x": [
          10,
          10,
          10,
          10
         ],
         "y": [
          "0",
          "3",
          "5",
          "7"
         ],
         "z": [
          0.48,
          0.6,
          0.66,
          0.72
         ]
        },
        {
         "line": {
          "color": "#AB63FA",
          "width": 3
         },
         "marker": {
          "color": "#AB63FA",
          "size": 8
         },
         "mode": "lines+markers",
         "name": "departement-01-ain - iou_modified_nbsinister_max_1 - 5",
         "type": "scatter3d",
         "x": [
          "5",
          "5",
          "5",
          "5"
         ],
         "y": [
          "0",
          "3",
          "5",
          "7"
         ],
         "z": [
          0.14,
          0.24,
          0.31,
          0.2
         ]
        },
        {
         "line": {
          "color": "#FFA15A",
          "width": 3
         },
         "marker": {
          "color": "#FFA15A",
          "size": 8
         },
         "mode": "lines+markers",
         "name": "departement-01-ain - iou_modified_nbsinister_max_1 - 7",
         "type": "scatter3d",
         "x": [
          "7",
          "7",
          "7",
          "7"
         ],
         "y": [
          "0",
          "3",
          "5",
          "7"
         ],
         "z": [
          0.26,
          0.35,
          0.34,
          0.31
         ]
        }
       ],
       "layout": {
        "height": 700,
        "scene": {
         "xaxis": {
          "title": {
           "text": "Scale"
          },
          "type": "linear"
         },
         "yaxis": {
          "title": {
           "text": "Days_in_futur"
          },
          "type": "linear"
         },
         "zaxis": {
          "title": {
           "text": "Metric"
          },
          "type": "linear"
         }
        },
        "template": {
         "data": {
          "bar": [
           {
            "error_x": {
             "color": "#2a3f5f"
            },
            "error_y": {
             "color": "#2a3f5f"
            },
            "marker": {
             "line": {
              "color": "#E5ECF6",
              "width": 0.5
             },
             "pattern": {
              "fillmode": "overlay",
              "size": 10,
              "solidity": 0.2
             }
            },
            "type": "bar"
           }
          ],
          "barpolar": [
           {
            "marker": {
             "line": {
              "color": "#E5ECF6",
              "width": 0.5
             },
             "pattern": {
              "fillmode": "overlay",
              "size": 10,
              "solidity": 0.2
             }
            },
            "type": "barpolar"
           }
          ],
          "carpet": [
           {
            "aaxis": {
             "endlinecolor": "#2a3f5f",
             "gridcolor": "white",
             "linecolor": "white",
             "minorgridcolor": "white",
             "startlinecolor": "#2a3f5f"
            },
            "baxis": {
             "endlinecolor": "#2a3f5f",
             "gridcolor": "white",
             "linecolor": "white",
             "minorgridcolor": "white",
             "startlinecolor": "#2a3f5f"
            },
            "type": "carpet"
           }
          ],
          "choropleth": [
           {
            "colorbar": {
             "outlinewidth": 0,
             "ticks": ""
            },
            "type": "choropleth"
           }
          ],
          "contour": [
           {
            "colorbar": {
             "outlinewidth": 0,
             "ticks": ""
            },
            "colorscale": [
             [
              0,
              "#0d0887"
             ],
             [
              0.1111111111111111,
              "#46039f"
             ],
             [
              0.2222222222222222,
              "#7201a8"
             ],
             [
              0.3333333333333333,
              "#9c179e"
             ],
             [
              0.4444444444444444,
              "#bd3786"
             ],
             [
              0.5555555555555556,
              "#d8576b"
             ],
             [
              0.6666666666666666,
              "#ed7953"
             ],
             [
              0.7777777777777778,
              "#fb9f3a"
             ],
             [
              0.8888888888888888,
              "#fdca26"
             ],
             [
              1,
              "#f0f921"
             ]
            ],
            "type": "contour"
           }
          ],
          "contourcarpet": [
           {
            "colorbar": {
             "outlinewidth": 0,
             "ticks": ""
            },
            "type": "contourcarpet"
           }
          ],
          "heatmap": [
           {
            "colorbar": {
             "outlinewidth": 0,
             "ticks": ""
            },
            "colorscale": [
             [
              0,
              "#0d0887"
             ],
             [
              0.1111111111111111,
              "#46039f"
             ],
             [
              0.2222222222222222,
              "#7201a8"
             ],
             [
              0.3333333333333333,
              "#9c179e"
             ],
             [
              0.4444444444444444,
              "#bd3786"
             ],
             [
              0.5555555555555556,
              "#d8576b"
             ],
             [
              0.6666666666666666,
              "#ed7953"
             ],
             [
              0.7777777777777778,
              "#fb9f3a"
             ],
             [
              0.8888888888888888,
              "#fdca26"
             ],
             [
              1,
              "#f0f921"
             ]
            ],
            "type": "heatmap"
           }
          ],
          "heatmapgl": [
           {
            "colorbar": {
             "outlinewidth": 0,
             "ticks": ""
            },
            "colorscale": [
             [
              0,
              "#0d0887"
             ],
             [
              0.1111111111111111,
              "#46039f"
             ],
             [
              0.2222222222222222,
              "#7201a8"
             ],
             [
              0.3333333333333333,
              "#9c179e"
             ],
             [
              0.4444444444444444,
              "#bd3786"
             ],
             [
              0.5555555555555556,
              "#d8576b"
             ],
             [
              0.6666666666666666,
              "#ed7953"
             ],
             [
              0.7777777777777778,
              "#fb9f3a"
             ],
             [
              0.8888888888888888,
              "#fdca26"
             ],
             [
              1,
              "#f0f921"
             ]
            ],
            "type": "heatmapgl"
           }
          ],
          "histogram": [
           {
            "marker": {
             "pattern": {
              "fillmode": "overlay",
              "size": 10,
              "solidity": 0.2
             }
            },
            "type": "histogram"
           }
          ],
          "histogram2d": [
           {
            "colorbar": {
             "outlinewidth": 0,
             "ticks": ""
            },
            "colorscale": [
             [
              0,
              "#0d0887"
             ],
             [
              0.1111111111111111,
              "#46039f"
             ],
             [
              0.2222222222222222,
              "#7201a8"
             ],
             [
              0.3333333333333333,
              "#9c179e"
             ],
             [
              0.4444444444444444,
              "#bd3786"
             ],
             [
              0.5555555555555556,
              "#d8576b"
             ],
             [
              0.6666666666666666,
              "#ed7953"
             ],
             [
              0.7777777777777778,
              "#fb9f3a"
             ],
             [
              0.8888888888888888,
              "#fdca26"
             ],
             [
              1,
              "#f0f921"
             ]
            ],
            "type": "histogram2d"
           }
          ],
          "histogram2dcontour": [
           {
            "colorbar": {
             "outlinewidth": 0,
             "ticks": ""
            },
            "colorscale": [
             [
              0,
              "#0d0887"
             ],
             [
              0.1111111111111111,
              "#46039f"
             ],
             [
              0.2222222222222222,
              "#7201a8"
             ],
             [
              0.3333333333333333,
              "#9c179e"
             ],
             [
              0.4444444444444444,
              "#bd3786"
             ],
             [
              0.5555555555555556,
              "#d8576b"
             ],
             [
              0.6666666666666666,
              "#ed7953"
             ],
             [
              0.7777777777777778,
              "#fb9f3a"
             ],
             [
              0.8888888888888888,
              "#fdca26"
             ],
             [
              1,
              "#f0f921"
             ]
            ],
            "type": "histogram2dcontour"
           }
          ],
          "mesh3d": [
           {
            "colorbar": {
             "outlinewidth": 0,
             "ticks": ""
            },
            "type": "mesh3d"
           }
          ],
          "parcoords": [
           {
            "line": {
             "colorbar": {
              "outlinewidth": 0,
              "ticks": ""
             }
            },
            "type": "parcoords"
           }
          ],
          "pie": [
           {
            "automargin": true,
            "type": "pie"
           }
          ],
          "scatter": [
           {
            "fillpattern": {
             "fillmode": "overlay",
             "size": 10,
             "solidity": 0.2
            },
            "type": "scatter"
           }
          ],
          "scatter3d": [
           {
            "line": {
             "colorbar": {
              "outlinewidth": 0,
              "ticks": ""
             }
            },
            "marker": {
             "colorbar": {
              "outlinewidth": 0,
              "ticks": ""
             }
            },
            "type": "scatter3d"
           }
          ],
          "scattercarpet": [
           {
            "marker": {
             "colorbar": {
              "outlinewidth": 0,
              "ticks": ""
             }
            },
            "type": "scattercarpet"
           }
          ],
          "scattergeo": [
           {
            "marker": {
             "colorbar": {
              "outlinewidth": 0,
              "ticks": ""
             }
            },
            "type": "scattergeo"
           }
          ],
          "scattergl": [
           {
            "marker": {
             "colorbar": {
              "outlinewidth": 0,
              "ticks": ""
             }
            },
            "type": "scattergl"
           }
          ],
          "scattermapbox": [
           {
            "marker": {
             "colorbar": {
              "outlinewidth": 0,
              "ticks": ""
             }
            },
            "type": "scattermapbox"
           }
          ],
          "scatterpolar": [
           {
            "marker": {
             "colorbar": {
              "outlinewidth": 0,
              "ticks": ""
             }
            },
            "type": "scatterpolar"
           }
          ],
          "scatterpolargl": [
           {
            "marker": {
             "colorbar": {
              "outlinewidth": 0,
              "ticks": ""
             }
            },
            "type": "scatterpolargl"
           }
          ],
          "scatterternary": [
           {
            "marker": {
             "colorbar": {
              "outlinewidth": 0,
              "ticks": ""
             }
            },
            "type": "scatterternary"
           }
          ],
          "surface": [
           {
            "colorbar": {
             "outlinewidth": 0,
             "ticks": ""
            },
            "colorscale": [
             [
              0,
              "#0d0887"
             ],
             [
              0.1111111111111111,
              "#46039f"
             ],
             [
              0.2222222222222222,
              "#7201a8"
             ],
             [
              0.3333333333333333,
              "#9c179e"
             ],
             [
              0.4444444444444444,
              "#bd3786"
             ],
             [
              0.5555555555555556,
              "#d8576b"
             ],
             [
              0.6666666666666666,
              "#ed7953"
             ],
             [
              0.7777777777777778,
              "#fb9f3a"
             ],
             [
              0.8888888888888888,
              "#fdca26"
             ],
             [
              1,
              "#f0f921"
             ]
            ],
            "type": "surface"
           }
          ],
          "table": [
           {
            "cells": {
             "fill": {
              "color": "#EBF0F8"
             },
             "line": {
              "color": "white"
             }
            },
            "header": {
             "fill": {
              "color": "#C8D4E3"
             },
             "line": {
              "color": "white"
             }
            },
            "type": "table"
           }
          ]
         },
         "layout": {
          "annotationdefaults": {
           "arrowcolor": "#2a3f5f",
           "arrowhead": 0,
           "arrowwidth": 1
          },
          "autotypenumbers": "strict",
          "coloraxis": {
           "colorbar": {
            "outlinewidth": 0,
            "ticks": ""
           }
          },
          "colorscale": {
           "diverging": [
            [
             0,
             "#8e0152"
            ],
            [
             0.1,
             "#c51b7d"
            ],
            [
             0.2,
             "#de77ae"
            ],
            [
             0.3,
             "#f1b6da"
            ],
            [
             0.4,
             "#fde0ef"
            ],
            [
             0.5,
             "#f7f7f7"
            ],
            [
             0.6,
             "#e6f5d0"
            ],
            [
             0.7,
             "#b8e186"
            ],
            [
             0.8,
             "#7fbc41"
            ],
            [
             0.9,
             "#4d9221"
            ],
            [
             1,
             "#276419"
            ]
           ],
           "sequential": [
            [
             0,
             "#0d0887"
            ],
            [
             0.1111111111111111,
             "#46039f"
            ],
            [
             0.2222222222222222,
             "#7201a8"
            ],
            [
             0.3333333333333333,
             "#9c179e"
            ],
            [
             0.4444444444444444,
             "#bd3786"
            ],
            [
             0.5555555555555556,
             "#d8576b"
            ],
            [
             0.6666666666666666,
             "#ed7953"
            ],
            [
             0.7777777777777778,
             "#fb9f3a"
            ],
            [
             0.8888888888888888,
             "#fdca26"
            ],
            [
             1,
             "#f0f921"
            ]
           ],
           "sequentialminus": [
            [
             0,
             "#0d0887"
            ],
            [
             0.1111111111111111,
             "#46039f"
            ],
            [
             0.2222222222222222,
             "#7201a8"
            ],
            [
             0.3333333333333333,
             "#9c179e"
            ],
            [
             0.4444444444444444,
             "#bd3786"
            ],
            [
             0.5555555555555556,
             "#d8576b"
            ],
            [
             0.6666666666666666,
             "#ed7953"
            ],
            [
             0.7777777777777778,
             "#fb9f3a"
            ],
            [
             0.8888888888888888,
             "#fdca26"
            ],
            [
             1,
             "#f0f921"
            ]
           ]
          },
          "colorway": [
           "#636efa",
           "#EF553B",
           "#00cc96",
           "#ab63fa",
           "#FFA15A",
           "#19d3f3",
           "#FF6692",
           "#B6E880",
           "#FF97FF",
           "#FECB52"
          ],
          "font": {
           "color": "#2a3f5f"
          },
          "geo": {
           "bgcolor": "white",
           "lakecolor": "white",
           "landcolor": "#E5ECF6",
           "showlakes": true,
           "showland": true,
           "subunitcolor": "white"
          },
          "hoverlabel": {
           "align": "left"
          },
          "hovermode": "closest",
          "mapbox": {
           "style": "light"
          },
          "paper_bgcolor": "white",
          "plot_bgcolor": "#E5ECF6",
          "polar": {
           "angularaxis": {
            "gridcolor": "white",
            "linecolor": "white",
            "ticks": ""
           },
           "bgcolor": "#E5ECF6",
           "radialaxis": {
            "gridcolor": "white",
            "linecolor": "white",
            "ticks": ""
           }
          },
          "scene": {
           "xaxis": {
            "backgroundcolor": "#E5ECF6",
            "gridcolor": "white",
            "gridwidth": 2,
            "linecolor": "white",
            "showbackground": true,
            "ticks": "",
            "zerolinecolor": "white"
           },
           "yaxis": {
            "backgroundcolor": "#E5ECF6",
            "gridcolor": "white",
            "gridwidth": 2,
            "linecolor": "white",
            "showbackground": true,
            "ticks": "",
            "zerolinecolor": "white"
           },
           "zaxis": {
            "backgroundcolor": "#E5ECF6",
            "gridcolor": "white",
            "gridwidth": 2,
            "linecolor": "white",
            "showbackground": true,
            "ticks": "",
            "zerolinecolor": "white"
           }
          },
          "shapedefaults": {
           "line": {
            "color": "#2a3f5f"
           }
          },
          "ternary": {
           "aaxis": {
            "gridcolor": "white",
            "linecolor": "white",
            "ticks": ""
           },
           "baxis": {
            "gridcolor": "white",
            "linecolor": "white",
            "ticks": ""
           },
           "bgcolor": "#E5ECF6",
           "caxis": {
            "gridcolor": "white",
            "linecolor": "white",
            "ticks": ""
           }
          },
          "title": {
           "x": 0.05
          },
          "xaxis": {
           "automargin": true,
           "gridcolor": "white",
           "linecolor": "white",
           "ticks": "",
           "title": {
            "standoff": 15
           },
           "zerolinecolor": "white",
           "zerolinewidth": 2
          },
          "yaxis": {
           "automargin": true,
           "gridcolor": "white",
           "linecolor": "white",
           "ticks": "",
           "title": {
            "standoff": 15
           },
           "zerolinecolor": "white",
           "zerolinewidth": 2
          }
         }
        },
        "title": {
         "text": "3D Comparison for departement-01-ain - iou_modified_nbsinister_max_1"
        },
        "width": 1000
       }
      }
     },
     "metadata": {},
     "output_type": "display_data"
    },
    {
     "data": {
      "application/vnd.plotly.v1+json": {
       "config": {
        "plotlyServerURL": "https://plot.ly"
       },
       "data": [
        {
         "line": {
          "color": "#636EFA",
          "width": 3
         },
         "marker": {
          "color": "#636EFA",
          "size": 8
         },
         "mode": "lines+markers",
         "name": "departement-25-doubs - iou_modified_nbsinister_max_1 - 6",
         "type": "scatter3d",
         "x": [
          "6",
          "6",
          "6",
          "6"
         ],
         "y": [
          "0",
          "3",
          "5",
          "7"
         ],
         "z": [
          0.15,
          0.28,
          0.28,
          0.35
         ]
        },
        {
         "line": {
          "color": "#EF553B",
          "width": 3
         },
         "marker": {
          "color": "#EF553B",
          "size": 8
         },
         "mode": "lines+markers",
         "name": "departement-25-doubs - iou_modified_nbsinister_max_1 - 4",
         "type": "scatter3d",
         "x": [
          "4",
          "4",
          "4",
          "4",
          "4"
         ],
         "y": [
          "0",
          "0",
          "3",
          "5",
          "7"
         ],
         "z": [
          0.13,
          0.13,
          0.22,
          0.24,
          0.28
         ]
        },
        {
         "line": {
          "color": "#00CC96",
          "width": 3
         },
         "marker": {
          "color": "#00CC96",
          "size": 8
         },
         "mode": "lines+markers",
         "name": "departement-25-doubs - iou_modified_nbsinister_max_1 - 10",
         "type": "scatter3d",
         "x": [
          10,
          10,
          10,
          10
         ],
         "y": [
          "0",
          "3",
          "5",
          "7"
         ],
         "z": [
          0.36,
          0.51,
          0.55,
          0.58
         ]
        },
        {
         "line": {
          "color": "#AB63FA",
          "width": 3
         },
         "marker": {
          "color": "#AB63FA",
          "size": 8
         },
         "mode": "lines+markers",
         "name": "departement-25-doubs - iou_modified_nbsinister_max_1 - 5",
         "type": "scatter3d",
         "x": [
          "5",
          "5",
          "5",
          "5"
         ],
         "y": [
          "0",
          "3",
          "5",
          "7"
         ],
         "z": [
          0.15,
          0.23,
          0.28,
          0.18
         ]
        },
        {
         "line": {
          "color": "#FFA15A",
          "width": 3
         },
         "marker": {
          "color": "#FFA15A",
          "size": 8
         },
         "mode": "lines+markers",
         "name": "departement-25-doubs - iou_modified_nbsinister_max_1 - 7",
         "type": "scatter3d",
         "x": [
          "7",
          "7",
          "7",
          "7"
         ],
         "y": [
          "0",
          "3",
          "5",
          "7"
         ],
         "z": [
          0.23,
          0.31,
          0.31,
          0.29
         ]
        }
       ],
       "layout": {
        "height": 700,
        "scene": {
         "xaxis": {
          "title": {
           "text": "Scale"
          },
          "type": "linear"
         },
         "yaxis": {
          "title": {
           "text": "Days_in_futur"
          },
          "type": "linear"
         },
         "zaxis": {
          "title": {
           "text": "Metric"
          },
          "type": "linear"
         }
        },
        "template": {
         "data": {
          "bar": [
           {
            "error_x": {
             "color": "#2a3f5f"
            },
            "error_y": {
             "color": "#2a3f5f"
            },
            "marker": {
             "line": {
              "color": "#E5ECF6",
              "width": 0.5
             },
             "pattern": {
              "fillmode": "overlay",
              "size": 10,
              "solidity": 0.2
             }
            },
            "type": "bar"
           }
          ],
          "barpolar": [
           {
            "marker": {
             "line": {
              "color": "#E5ECF6",
              "width": 0.5
             },
             "pattern": {
              "fillmode": "overlay",
              "size": 10,
              "solidity": 0.2
             }
            },
            "type": "barpolar"
           }
          ],
          "carpet": [
           {
            "aaxis": {
             "endlinecolor": "#2a3f5f",
             "gridcolor": "white",
             "linecolor": "white",
             "minorgridcolor": "white",
             "startlinecolor": "#2a3f5f"
            },
            "baxis": {
             "endlinecolor": "#2a3f5f",
             "gridcolor": "white",
             "linecolor": "white",
             "minorgridcolor": "white",
             "startlinecolor": "#2a3f5f"
            },
            "type": "carpet"
           }
          ],
          "choropleth": [
           {
            "colorbar": {
             "outlinewidth": 0,
             "ticks": ""
            },
            "type": "choropleth"
           }
          ],
          "contour": [
           {
            "colorbar": {
             "outlinewidth": 0,
             "ticks": ""
            },
            "colorscale": [
             [
              0,
              "#0d0887"
             ],
             [
              0.1111111111111111,
              "#46039f"
             ],
             [
              0.2222222222222222,
              "#7201a8"
             ],
             [
              0.3333333333333333,
              "#9c179e"
             ],
             [
              0.4444444444444444,
              "#bd3786"
             ],
             [
              0.5555555555555556,
              "#d8576b"
             ],
             [
              0.6666666666666666,
              "#ed7953"
             ],
             [
              0.7777777777777778,
              "#fb9f3a"
             ],
             [
              0.8888888888888888,
              "#fdca26"
             ],
             [
              1,
              "#f0f921"
             ]
            ],
            "type": "contour"
           }
          ],
          "contourcarpet": [
           {
            "colorbar": {
             "outlinewidth": 0,
             "ticks": ""
            },
            "type": "contourcarpet"
           }
          ],
          "heatmap": [
           {
            "colorbar": {
             "outlinewidth": 0,
             "ticks": ""
            },
            "colorscale": [
             [
              0,
              "#0d0887"
             ],
             [
              0.1111111111111111,
              "#46039f"
             ],
             [
              0.2222222222222222,
              "#7201a8"
             ],
             [
              0.3333333333333333,
              "#9c179e"
             ],
             [
              0.4444444444444444,
              "#bd3786"
             ],
             [
              0.5555555555555556,
              "#d8576b"
             ],
             [
              0.6666666666666666,
              "#ed7953"
             ],
             [
              0.7777777777777778,
              "#fb9f3a"
             ],
             [
              0.8888888888888888,
              "#fdca26"
             ],
             [
              1,
              "#f0f921"
             ]
            ],
            "type": "heatmap"
           }
          ],
          "heatmapgl": [
           {
            "colorbar": {
             "outlinewidth": 0,
             "ticks": ""
            },
            "colorscale": [
             [
              0,
              "#0d0887"
             ],
             [
              0.1111111111111111,
              "#46039f"
             ],
             [
              0.2222222222222222,
              "#7201a8"
             ],
             [
              0.3333333333333333,
              "#9c179e"
             ],
             [
              0.4444444444444444,
              "#bd3786"
             ],
             [
              0.5555555555555556,
              "#d8576b"
             ],
             [
              0.6666666666666666,
              "#ed7953"
             ],
             [
              0.7777777777777778,
              "#fb9f3a"
             ],
             [
              0.8888888888888888,
              "#fdca26"
             ],
             [
              1,
              "#f0f921"
             ]
            ],
            "type": "heatmapgl"
           }
          ],
          "histogram": [
           {
            "marker": {
             "pattern": {
              "fillmode": "overlay",
              "size": 10,
              "solidity": 0.2
             }
            },
            "type": "histogram"
           }
          ],
          "histogram2d": [
           {
            "colorbar": {
             "outlinewidth": 0,
             "ticks": ""
            },
            "colorscale": [
             [
              0,
              "#0d0887"
             ],
             [
              0.1111111111111111,
              "#46039f"
             ],
             [
              0.2222222222222222,
              "#7201a8"
             ],
             [
              0.3333333333333333,
              "#9c179e"
             ],
             [
              0.4444444444444444,
              "#bd3786"
             ],
             [
              0.5555555555555556,
              "#d8576b"
             ],
             [
              0.6666666666666666,
              "#ed7953"
             ],
             [
              0.7777777777777778,
              "#fb9f3a"
             ],
             [
              0.8888888888888888,
              "#fdca26"
             ],
             [
              1,
              "#f0f921"
             ]
            ],
            "type": "histogram2d"
           }
          ],
          "histogram2dcontour": [
           {
            "colorbar": {
             "outlinewidth": 0,
             "ticks": ""
            },
            "colorscale": [
             [
              0,
              "#0d0887"
             ],
             [
              0.1111111111111111,
              "#46039f"
             ],
             [
              0.2222222222222222,
              "#7201a8"
             ],
             [
              0.3333333333333333,
              "#9c179e"
             ],
             [
              0.4444444444444444,
              "#bd3786"
             ],
             [
              0.5555555555555556,
              "#d8576b"
             ],
             [
              0.6666666666666666,
              "#ed7953"
             ],
             [
              0.7777777777777778,
              "#fb9f3a"
             ],
             [
              0.8888888888888888,
              "#fdca26"
             ],
             [
              1,
              "#f0f921"
             ]
            ],
            "type": "histogram2dcontour"
           }
          ],
          "mesh3d": [
           {
            "colorbar": {
             "outlinewidth": 0,
             "ticks": ""
            },
            "type": "mesh3d"
           }
          ],
          "parcoords": [
           {
            "line": {
             "colorbar": {
              "outlinewidth": 0,
              "ticks": ""
             }
            },
            "type": "parcoords"
           }
          ],
          "pie": [
           {
            "automargin": true,
            "type": "pie"
           }
          ],
          "scatter": [
           {
            "fillpattern": {
             "fillmode": "overlay",
             "size": 10,
             "solidity": 0.2
            },
            "type": "scatter"
           }
          ],
          "scatter3d": [
           {
            "line": {
             "colorbar": {
              "outlinewidth": 0,
              "ticks": ""
             }
            },
            "marker": {
             "colorbar": {
              "outlinewidth": 0,
              "ticks": ""
             }
            },
            "type": "scatter3d"
           }
          ],
          "scattercarpet": [
           {
            "marker": {
             "colorbar": {
              "outlinewidth": 0,
              "ticks": ""
             }
            },
            "type": "scattercarpet"
           }
          ],
          "scattergeo": [
           {
            "marker": {
             "colorbar": {
              "outlinewidth": 0,
              "ticks": ""
             }
            },
            "type": "scattergeo"
           }
          ],
          "scattergl": [
           {
            "marker": {
             "colorbar": {
              "outlinewidth": 0,
              "ticks": ""
             }
            },
            "type": "scattergl"
           }
          ],
          "scattermapbox": [
           {
            "marker": {
             "colorbar": {
              "outlinewidth": 0,
              "ticks": ""
             }
            },
            "type": "scattermapbox"
           }
          ],
          "scatterpolar": [
           {
            "marker": {
             "colorbar": {
              "outlinewidth": 0,
              "ticks": ""
             }
            },
            "type": "scatterpolar"
           }
          ],
          "scatterpolargl": [
           {
            "marker": {
             "colorbar": {
              "outlinewidth": 0,
              "ticks": ""
             }
            },
            "type": "scatterpolargl"
           }
          ],
          "scatterternary": [
           {
            "marker": {
             "colorbar": {
              "outlinewidth": 0,
              "ticks": ""
             }
            },
            "type": "scatterternary"
           }
          ],
          "surface": [
           {
            "colorbar": {
             "outlinewidth": 0,
             "ticks": ""
            },
            "colorscale": [
             [
              0,
              "#0d0887"
             ],
             [
              0.1111111111111111,
              "#46039f"
             ],
             [
              0.2222222222222222,
              "#7201a8"
             ],
             [
              0.3333333333333333,
              "#9c179e"
             ],
             [
              0.4444444444444444,
              "#bd3786"
             ],
             [
              0.5555555555555556,
              "#d8576b"
             ],
             [
              0.6666666666666666,
              "#ed7953"
             ],
             [
              0.7777777777777778,
              "#fb9f3a"
             ],
             [
              0.8888888888888888,
              "#fdca26"
             ],
             [
              1,
              "#f0f921"
             ]
            ],
            "type": "surface"
           }
          ],
          "table": [
           {
            "cells": {
             "fill": {
              "color": "#EBF0F8"
             },
             "line": {
              "color": "white"
             }
            },
            "header": {
             "fill": {
              "color": "#C8D4E3"
             },
             "line": {
              "color": "white"
             }
            },
            "type": "table"
           }
          ]
         },
         "layout": {
          "annotationdefaults": {
           "arrowcolor": "#2a3f5f",
           "arrowhead": 0,
           "arrowwidth": 1
          },
          "autotypenumbers": "strict",
          "coloraxis": {
           "colorbar": {
            "outlinewidth": 0,
            "ticks": ""
           }
          },
          "colorscale": {
           "diverging": [
            [
             0,
             "#8e0152"
            ],
            [
             0.1,
             "#c51b7d"
            ],
            [
             0.2,
             "#de77ae"
            ],
            [
             0.3,
             "#f1b6da"
            ],
            [
             0.4,
             "#fde0ef"
            ],
            [
             0.5,
             "#f7f7f7"
            ],
            [
             0.6,
             "#e6f5d0"
            ],
            [
             0.7,
             "#b8e186"
            ],
            [
             0.8,
             "#7fbc41"
            ],
            [
             0.9,
             "#4d9221"
            ],
            [
             1,
             "#276419"
            ]
           ],
           "sequential": [
            [
             0,
             "#0d0887"
            ],
            [
             0.1111111111111111,
             "#46039f"
            ],
            [
             0.2222222222222222,
             "#7201a8"
            ],
            [
             0.3333333333333333,
             "#9c179e"
            ],
            [
             0.4444444444444444,
             "#bd3786"
            ],
            [
             0.5555555555555556,
             "#d8576b"
            ],
            [
             0.6666666666666666,
             "#ed7953"
            ],
            [
             0.7777777777777778,
             "#fb9f3a"
            ],
            [
             0.8888888888888888,
             "#fdca26"
            ],
            [
             1,
             "#f0f921"
            ]
           ],
           "sequentialminus": [
            [
             0,
             "#0d0887"
            ],
            [
             0.1111111111111111,
             "#46039f"
            ],
            [
             0.2222222222222222,
             "#7201a8"
            ],
            [
             0.3333333333333333,
             "#9c179e"
            ],
            [
             0.4444444444444444,
             "#bd3786"
            ],
            [
             0.5555555555555556,
             "#d8576b"
            ],
            [
             0.6666666666666666,
             "#ed7953"
            ],
            [
             0.7777777777777778,
             "#fb9f3a"
            ],
            [
             0.8888888888888888,
             "#fdca26"
            ],
            [
             1,
             "#f0f921"
            ]
           ]
          },
          "colorway": [
           "#636efa",
           "#EF553B",
           "#00cc96",
           "#ab63fa",
           "#FFA15A",
           "#19d3f3",
           "#FF6692",
           "#B6E880",
           "#FF97FF",
           "#FECB52"
          ],
          "font": {
           "color": "#2a3f5f"
          },
          "geo": {
           "bgcolor": "white",
           "lakecolor": "white",
           "landcolor": "#E5ECF6",
           "showlakes": true,
           "showland": true,
           "subunitcolor": "white"
          },
          "hoverlabel": {
           "align": "left"
          },
          "hovermode": "closest",
          "mapbox": {
           "style": "light"
          },
          "paper_bgcolor": "white",
          "plot_bgcolor": "#E5ECF6",
          "polar": {
           "angularaxis": {
            "gridcolor": "white",
            "linecolor": "white",
            "ticks": ""
           },
           "bgcolor": "#E5ECF6",
           "radialaxis": {
            "gridcolor": "white",
            "linecolor": "white",
            "ticks": ""
           }
          },
          "scene": {
           "xaxis": {
            "backgroundcolor": "#E5ECF6",
            "gridcolor": "white",
            "gridwidth": 2,
            "linecolor": "white",
            "showbackground": true,
            "ticks": "",
            "zerolinecolor": "white"
           },
           "yaxis": {
            "backgroundcolor": "#E5ECF6",
            "gridcolor": "white",
            "gridwidth": 2,
            "linecolor": "white",
            "showbackground": true,
            "ticks": "",
            "zerolinecolor": "white"
           },
           "zaxis": {
            "backgroundcolor": "#E5ECF6",
            "gridcolor": "white",
            "gridwidth": 2,
            "linecolor": "white",
            "showbackground": true,
            "ticks": "",
            "zerolinecolor": "white"
           }
          },
          "shapedefaults": {
           "line": {
            "color": "#2a3f5f"
           }
          },
          "ternary": {
           "aaxis": {
            "gridcolor": "white",
            "linecolor": "white",
            "ticks": ""
           },
           "baxis": {
            "gridcolor": "white",
            "linecolor": "white",
            "ticks": ""
           },
           "bgcolor": "#E5ECF6",
           "caxis": {
            "gridcolor": "white",
            "linecolor": "white",
            "ticks": ""
           }
          },
          "title": {
           "x": 0.05
          },
          "xaxis": {
           "automargin": true,
           "gridcolor": "white",
           "linecolor": "white",
           "ticks": "",
           "title": {
            "standoff": 15
           },
           "zerolinecolor": "white",
           "zerolinewidth": 2
          },
          "yaxis": {
           "automargin": true,
           "gridcolor": "white",
           "linecolor": "white",
           "ticks": "",
           "title": {
            "standoff": 15
           },
           "zerolinecolor": "white",
           "zerolinewidth": 2
          }
         }
        },
        "title": {
         "text": "3D Comparison for departement-25-doubs - iou_modified_nbsinister_max_1"
        },
        "width": 1000
       }
      }
     },
     "metadata": {},
     "output_type": "display_data"
    },
    {
     "data": {
      "application/vnd.plotly.v1+json": {
       "config": {
        "plotlyServerURL": "https://plot.ly"
       },
       "data": [
        {
         "line": {
          "color": "#636EFA",
          "width": 3
         },
         "marker": {
          "color": "#636EFA",
          "size": 8
         },
         "mode": "lines+markers",
         "name": "departement-78-yvelines - iou_modified_nbsinister_max_1 - 6",
         "type": "scatter3d",
         "x": [
          "6",
          "6",
          "6",
          "6"
         ],
         "y": [
          "0",
          "3",
          "5",
          "7"
         ],
         "z": [
          0.36,
          0.36,
          0.43,
          0.45
         ]
        },
        {
         "line": {
          "color": "#EF553B",
          "width": 3
         },
         "marker": {
          "color": "#EF553B",
          "size": 8
         },
         "mode": "lines+markers",
         "name": "departement-78-yvelines - iou_modified_nbsinister_max_1 - 4",
         "type": "scatter3d",
         "x": [
          "4",
          "4",
          "4",
          "4",
          "4"
         ],
         "y": [
          "0",
          "0",
          "3",
          "5",
          "7"
         ],
         "z": [
          0.21,
          0.2,
          0.31,
          0.39,
          0.37
         ]
        },
        {
         "line": {
          "color": "#00CC96",
          "width": 3
         },
         "marker": {
          "color": "#00CC96",
          "size": 8
         },
         "mode": "lines+markers",
         "name": "departement-78-yvelines - iou_modified_nbsinister_max_1 - 10",
         "type": "scatter3d",
         "x": [
          10,
          10,
          10,
          10
         ],
         "y": [
          "0",
          "3",
          "5",
          "7"
         ],
         "z": [
          0.46,
          0.54,
          0.56,
          0.59
         ]
        },
        {
         "line": {
          "color": "#AB63FA",
          "width": 3
         },
         "marker": {
          "color": "#AB63FA",
          "size": 8
         },
         "mode": "lines+markers",
         "name": "departement-78-yvelines - iou_modified_nbsinister_max_1 - 5",
         "type": "scatter3d",
         "x": [
          "5",
          "5",
          "5",
          "5"
         ],
         "y": [
          "0",
          "3",
          "5",
          "7"
         ],
         "z": [
          0.31,
          0.39,
          0.42,
          0.41
         ]
        },
        {
         "line": {
          "color": "#FFA15A",
          "width": 3
         },
         "marker": {
          "color": "#FFA15A",
          "size": 8
         },
         "mode": "lines+markers",
         "name": "departement-78-yvelines - iou_modified_nbsinister_max_1 - 7",
         "type": "scatter3d",
         "x": [
          "7",
          "7",
          "7",
          "7"
         ],
         "y": [
          "0",
          "3",
          "5",
          "7"
         ],
         "z": [
          0.3,
          0.28,
          0.28,
          0.24
         ]
        }
       ],
       "layout": {
        "height": 700,
        "scene": {
         "xaxis": {
          "title": {
           "text": "Scale"
          },
          "type": "linear"
         },
         "yaxis": {
          "title": {
           "text": "Days_in_futur"
          },
          "type": "linear"
         },
         "zaxis": {
          "title": {
           "text": "Metric"
          },
          "type": "linear"
         }
        },
        "template": {
         "data": {
          "bar": [
           {
            "error_x": {
             "color": "#2a3f5f"
            },
            "error_y": {
             "color": "#2a3f5f"
            },
            "marker": {
             "line": {
              "color": "#E5ECF6",
              "width": 0.5
             },
             "pattern": {
              "fillmode": "overlay",
              "size": 10,
              "solidity": 0.2
             }
            },
            "type": "bar"
           }
          ],
          "barpolar": [
           {
            "marker": {
             "line": {
              "color": "#E5ECF6",
              "width": 0.5
             },
             "pattern": {
              "fillmode": "overlay",
              "size": 10,
              "solidity": 0.2
             }
            },
            "type": "barpolar"
           }
          ],
          "carpet": [
           {
            "aaxis": {
             "endlinecolor": "#2a3f5f",
             "gridcolor": "white",
             "linecolor": "white",
             "minorgridcolor": "white",
             "startlinecolor": "#2a3f5f"
            },
            "baxis": {
             "endlinecolor": "#2a3f5f",
             "gridcolor": "white",
             "linecolor": "white",
             "minorgridcolor": "white",
             "startlinecolor": "#2a3f5f"
            },
            "type": "carpet"
           }
          ],
          "choropleth": [
           {
            "colorbar": {
             "outlinewidth": 0,
             "ticks": ""
            },
            "type": "choropleth"
           }
          ],
          "contour": [
           {
            "colorbar": {
             "outlinewidth": 0,
             "ticks": ""
            },
            "colorscale": [
             [
              0,
              "#0d0887"
             ],
             [
              0.1111111111111111,
              "#46039f"
             ],
             [
              0.2222222222222222,
              "#7201a8"
             ],
             [
              0.3333333333333333,
              "#9c179e"
             ],
             [
              0.4444444444444444,
              "#bd3786"
             ],
             [
              0.5555555555555556,
              "#d8576b"
             ],
             [
              0.6666666666666666,
              "#ed7953"
             ],
             [
              0.7777777777777778,
              "#fb9f3a"
             ],
             [
              0.8888888888888888,
              "#fdca26"
             ],
             [
              1,
              "#f0f921"
             ]
            ],
            "type": "contour"
           }
          ],
          "contourcarpet": [
           {
            "colorbar": {
             "outlinewidth": 0,
             "ticks": ""
            },
            "type": "contourcarpet"
           }
          ],
          "heatmap": [
           {
            "colorbar": {
             "outlinewidth": 0,
             "ticks": ""
            },
            "colorscale": [
             [
              0,
              "#0d0887"
             ],
             [
              0.1111111111111111,
              "#46039f"
             ],
             [
              0.2222222222222222,
              "#7201a8"
             ],
             [
              0.3333333333333333,
              "#9c179e"
             ],
             [
              0.4444444444444444,
              "#bd3786"
             ],
             [
              0.5555555555555556,
              "#d8576b"
             ],
             [
              0.6666666666666666,
              "#ed7953"
             ],
             [
              0.7777777777777778,
              "#fb9f3a"
             ],
             [
              0.8888888888888888,
              "#fdca26"
             ],
             [
              1,
              "#f0f921"
             ]
            ],
            "type": "heatmap"
           }
          ],
          "heatmapgl": [
           {
            "colorbar": {
             "outlinewidth": 0,
             "ticks": ""
            },
            "colorscale": [
             [
              0,
              "#0d0887"
             ],
             [
              0.1111111111111111,
              "#46039f"
             ],
             [
              0.2222222222222222,
              "#7201a8"
             ],
             [
              0.3333333333333333,
              "#9c179e"
             ],
             [
              0.4444444444444444,
              "#bd3786"
             ],
             [
              0.5555555555555556,
              "#d8576b"
             ],
             [
              0.6666666666666666,
              "#ed7953"
             ],
             [
              0.7777777777777778,
              "#fb9f3a"
             ],
             [
              0.8888888888888888,
              "#fdca26"
             ],
             [
              1,
              "#f0f921"
             ]
            ],
            "type": "heatmapgl"
           }
          ],
          "histogram": [
           {
            "marker": {
             "pattern": {
              "fillmode": "overlay",
              "size": 10,
              "solidity": 0.2
             }
            },
            "type": "histogram"
           }
          ],
          "histogram2d": [
           {
            "colorbar": {
             "outlinewidth": 0,
             "ticks": ""
            },
            "colorscale": [
             [
              0,
              "#0d0887"
             ],
             [
              0.1111111111111111,
              "#46039f"
             ],
             [
              0.2222222222222222,
              "#7201a8"
             ],
             [
              0.3333333333333333,
              "#9c179e"
             ],
             [
              0.4444444444444444,
              "#bd3786"
             ],
             [
              0.5555555555555556,
              "#d8576b"
             ],
             [
              0.6666666666666666,
              "#ed7953"
             ],
             [
              0.7777777777777778,
              "#fb9f3a"
             ],
             [
              0.8888888888888888,
              "#fdca26"
             ],
             [
              1,
              "#f0f921"
             ]
            ],
            "type": "histogram2d"
           }
          ],
          "histogram2dcontour": [
           {
            "colorbar": {
             "outlinewidth": 0,
             "ticks": ""
            },
            "colorscale": [
             [
              0,
              "#0d0887"
             ],
             [
              0.1111111111111111,
              "#46039f"
             ],
             [
              0.2222222222222222,
              "#7201a8"
             ],
             [
              0.3333333333333333,
              "#9c179e"
             ],
             [
              0.4444444444444444,
              "#bd3786"
             ],
             [
              0.5555555555555556,
              "#d8576b"
             ],
             [
              0.6666666666666666,
              "#ed7953"
             ],
             [
              0.7777777777777778,
              "#fb9f3a"
             ],
             [
              0.8888888888888888,
              "#fdca26"
             ],
             [
              1,
              "#f0f921"
             ]
            ],
            "type": "histogram2dcontour"
           }
          ],
          "mesh3d": [
           {
            "colorbar": {
             "outlinewidth": 0,
             "ticks": ""
            },
            "type": "mesh3d"
           }
          ],
          "parcoords": [
           {
            "line": {
             "colorbar": {
              "outlinewidth": 0,
              "ticks": ""
             }
            },
            "type": "parcoords"
           }
          ],
          "pie": [
           {
            "automargin": true,
            "type": "pie"
           }
          ],
          "scatter": [
           {
            "fillpattern": {
             "fillmode": "overlay",
             "size": 10,
             "solidity": 0.2
            },
            "type": "scatter"
           }
          ],
          "scatter3d": [
           {
            "line": {
             "colorbar": {
              "outlinewidth": 0,
              "ticks": ""
             }
            },
            "marker": {
             "colorbar": {
              "outlinewidth": 0,
              "ticks": ""
             }
            },
            "type": "scatter3d"
           }
          ],
          "scattercarpet": [
           {
            "marker": {
             "colorbar": {
              "outlinewidth": 0,
              "ticks": ""
             }
            },
            "type": "scattercarpet"
           }
          ],
          "scattergeo": [
           {
            "marker": {
             "colorbar": {
              "outlinewidth": 0,
              "ticks": ""
             }
            },
            "type": "scattergeo"
           }
          ],
          "scattergl": [
           {
            "marker": {
             "colorbar": {
              "outlinewidth": 0,
              "ticks": ""
             }
            },
            "type": "scattergl"
           }
          ],
          "scattermapbox": [
           {
            "marker": {
             "colorbar": {
              "outlinewidth": 0,
              "ticks": ""
             }
            },
            "type": "scattermapbox"
           }
          ],
          "scatterpolar": [
           {
            "marker": {
             "colorbar": {
              "outlinewidth": 0,
              "ticks": ""
             }
            },
            "type": "scatterpolar"
           }
          ],
          "scatterpolargl": [
           {
            "marker": {
             "colorbar": {
              "outlinewidth": 0,
              "ticks": ""
             }
            },
            "type": "scatterpolargl"
           }
          ],
          "scatterternary": [
           {
            "marker": {
             "colorbar": {
              "outlinewidth": 0,
              "ticks": ""
             }
            },
            "type": "scatterternary"
           }
          ],
          "surface": [
           {
            "colorbar": {
             "outlinewidth": 0,
             "ticks": ""
            },
            "colorscale": [
             [
              0,
              "#0d0887"
             ],
             [
              0.1111111111111111,
              "#46039f"
             ],
             [
              0.2222222222222222,
              "#7201a8"
             ],
             [
              0.3333333333333333,
              "#9c179e"
             ],
             [
              0.4444444444444444,
              "#bd3786"
             ],
             [
              0.5555555555555556,
              "#d8576b"
             ],
             [
              0.6666666666666666,
              "#ed7953"
             ],
             [
              0.7777777777777778,
              "#fb9f3a"
             ],
             [
              0.8888888888888888,
              "#fdca26"
             ],
             [
              1,
              "#f0f921"
             ]
            ],
            "type": "surface"
           }
          ],
          "table": [
           {
            "cells": {
             "fill": {
              "color": "#EBF0F8"
             },
             "line": {
              "color": "white"
             }
            },
            "header": {
             "fill": {
              "color": "#C8D4E3"
             },
             "line": {
              "color": "white"
             }
            },
            "type": "table"
           }
          ]
         },
         "layout": {
          "annotationdefaults": {
           "arrowcolor": "#2a3f5f",
           "arrowhead": 0,
           "arrowwidth": 1
          },
          "autotypenumbers": "strict",
          "coloraxis": {
           "colorbar": {
            "outlinewidth": 0,
            "ticks": ""
           }
          },
          "colorscale": {
           "diverging": [
            [
             0,
             "#8e0152"
            ],
            [
             0.1,
             "#c51b7d"
            ],
            [
             0.2,
             "#de77ae"
            ],
            [
             0.3,
             "#f1b6da"
            ],
            [
             0.4,
             "#fde0ef"
            ],
            [
             0.5,
             "#f7f7f7"
            ],
            [
             0.6,
             "#e6f5d0"
            ],
            [
             0.7,
             "#b8e186"
            ],
            [
             0.8,
             "#7fbc41"
            ],
            [
             0.9,
             "#4d9221"
            ],
            [
             1,
             "#276419"
            ]
           ],
           "sequential": [
            [
             0,
             "#0d0887"
            ],
            [
             0.1111111111111111,
             "#46039f"
            ],
            [
             0.2222222222222222,
             "#7201a8"
            ],
            [
             0.3333333333333333,
             "#9c179e"
            ],
            [
             0.4444444444444444,
             "#bd3786"
            ],
            [
             0.5555555555555556,
             "#d8576b"
            ],
            [
             0.6666666666666666,
             "#ed7953"
            ],
            [
             0.7777777777777778,
             "#fb9f3a"
            ],
            [
             0.8888888888888888,
             "#fdca26"
            ],
            [
             1,
             "#f0f921"
            ]
           ],
           "sequentialminus": [
            [
             0,
             "#0d0887"
            ],
            [
             0.1111111111111111,
             "#46039f"
            ],
            [
             0.2222222222222222,
             "#7201a8"
            ],
            [
             0.3333333333333333,
             "#9c179e"
            ],
            [
             0.4444444444444444,
             "#bd3786"
            ],
            [
             0.5555555555555556,
             "#d8576b"
            ],
            [
             0.6666666666666666,
             "#ed7953"
            ],
            [
             0.7777777777777778,
             "#fb9f3a"
            ],
            [
             0.8888888888888888,
             "#fdca26"
            ],
            [
             1,
             "#f0f921"
            ]
           ]
          },
          "colorway": [
           "#636efa",
           "#EF553B",
           "#00cc96",
           "#ab63fa",
           "#FFA15A",
           "#19d3f3",
           "#FF6692",
           "#B6E880",
           "#FF97FF",
           "#FECB52"
          ],
          "font": {
           "color": "#2a3f5f"
          },
          "geo": {
           "bgcolor": "white",
           "lakecolor": "white",
           "landcolor": "#E5ECF6",
           "showlakes": true,
           "showland": true,
           "subunitcolor": "white"
          },
          "hoverlabel": {
           "align": "left"
          },
          "hovermode": "closest",
          "mapbox": {
           "style": "light"
          },
          "paper_bgcolor": "white",
          "plot_bgcolor": "#E5ECF6",
          "polar": {
           "angularaxis": {
            "gridcolor": "white",
            "linecolor": "white",
            "ticks": ""
           },
           "bgcolor": "#E5ECF6",
           "radialaxis": {
            "gridcolor": "white",
            "linecolor": "white",
            "ticks": ""
           }
          },
          "scene": {
           "xaxis": {
            "backgroundcolor": "#E5ECF6",
            "gridcolor": "white",
            "gridwidth": 2,
            "linecolor": "white",
            "showbackground": true,
            "ticks": "",
            "zerolinecolor": "white"
           },
           "yaxis": {
            "backgroundcolor": "#E5ECF6",
            "gridcolor": "white",
            "gridwidth": 2,
            "linecolor": "white",
            "showbackground": true,
            "ticks": "",
            "zerolinecolor": "white"
           },
           "zaxis": {
            "backgroundcolor": "#E5ECF6",
            "gridcolor": "white",
            "gridwidth": 2,
            "linecolor": "white",
            "showbackground": true,
            "ticks": "",
            "zerolinecolor": "white"
           }
          },
          "shapedefaults": {
           "line": {
            "color": "#2a3f5f"
           }
          },
          "ternary": {
           "aaxis": {
            "gridcolor": "white",
            "linecolor": "white",
            "ticks": ""
           },
           "baxis": {
            "gridcolor": "white",
            "linecolor": "white",
            "ticks": ""
           },
           "bgcolor": "#E5ECF6",
           "caxis": {
            "gridcolor": "white",
            "linecolor": "white",
            "ticks": ""
           }
          },
          "title": {
           "x": 0.05
          },
          "xaxis": {
           "automargin": true,
           "gridcolor": "white",
           "linecolor": "white",
           "ticks": "",
           "title": {
            "standoff": 15
           },
           "zerolinecolor": "white",
           "zerolinewidth": 2
          },
          "yaxis": {
           "automargin": true,
           "gridcolor": "white",
           "linecolor": "white",
           "ticks": "",
           "title": {
            "standoff": 15
           },
           "zerolinecolor": "white",
           "zerolinewidth": 2
          }
         }
        },
        "title": {
         "text": "3D Comparison for departement-78-yvelines - iou_modified_nbsinister_max_1"
        },
        "width": 1000
       }
      }
     },
     "metadata": {},
     "output_type": "display_data"
    }
   ],
   "source": [
    "compare_models_2d(df, df.Department.unique(), dept_markers, ['iou_modified_nbsinister_max_1'], 'Scale', 'Days_in_futur', 'Scale')"
   ]
  },
  {
   "cell_type": "markdown",
   "metadata": {},
   "source": [
    "###"
   ]
  }
 ],
 "metadata": {
  "kernelspec": {
   "display_name": "Python 3",
   "language": "python",
   "name": "python3"
  },
  "language_info": {
   "codemirror_mode": {
    "name": "ipython",
    "version": 3
   },
   "file_extension": ".py",
   "mimetype": "text/x-python",
   "name": "python",
   "nbconvert_exporter": "python",
   "pygments_lexer": "ipython3",
   "version": "3.9.18"
  }
 },
 "nbformat": 4,
 "nbformat_minor": 2
}
