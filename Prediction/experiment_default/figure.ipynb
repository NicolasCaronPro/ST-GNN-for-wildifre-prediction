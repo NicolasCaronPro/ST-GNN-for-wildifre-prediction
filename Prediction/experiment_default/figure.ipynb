{
 "cells": [
  {
   "cell_type": "code",
   "execution_count": 87,
   "metadata": {},
   "outputs": [],
   "source": [
    "import pandas as pd\n",
    "import numpy as np\n",
    "import matplotlib.pyplot as plt"
   ]
  },
  {
   "cell_type": "code",
   "execution_count": 88,
   "metadata": {},
   "outputs": [],
   "source": [
    "MLFLOW = False"
   ]
  },
  {
   "cell_type": "code",
   "execution_count": 89,
   "metadata": {},
   "outputs": [],
   "source": [
    "import pandas as pd\n",
    "from pathlib import Path\n",
    "\n",
    "def load_all_metrics_files(path):\n",
    "    \"\"\"\n",
    "    Parcourt tous les sous-dossiers de `path`, charge les fichiers `df_metrics.csv`,\n",
    "    et les combine en un seul DataFrame global.\n",
    "\n",
    "    Parameters:\n",
    "    - path (Path): Le chemin du dossier racine à parcourir.\n",
    "\n",
    "    Returns:\n",
    "    - pd.DataFrame: Le DataFrame global combinant tous les fichiers `df_metrics.csv`.\n",
    "    \"\"\"\n",
    "    path = Path(path)\n",
    "    all_metrics = []  # Liste pour stocker tous les DataFrames\n",
    "\n",
    "    # Parcourir tous les sous-dossiers et rechercher les fichiers df_metrics.csv\n",
    "    for file in path.rglob('df_metrics.csv'):\n",
    "        try:\n",
    "            # Charger le fichier CSV dans un DataFrame\n",
    "            df = pd.read_csv(file)\n",
    "\n",
    "            # Ajouter une colonne pour identifier la source du fichier\n",
    "            df['source'] = str(file.parent)  # Ajouter le chemin du dossier parent\n",
    "\n",
    "            # Ajouter le DataFrame à la liste\n",
    "            all_metrics.append(df)\n",
    "        except Exception as e:\n",
    "            print(f\"Erreur lors du chargement de {file}: {e}\")\n",
    "\n",
    "    # Combiner tous les DataFrames en un seul DataFrame global\n",
    "    if all_metrics:\n",
    "        df_global = pd.concat(all_metrics, ignore_index=True)\n",
    "    else:\n",
    "        df_global = pd.DataFrame()  # Si aucun fichier trouvé, retourne un DataFrame vide\n",
    "\n",
    "    return df_global\n",
    "\n",
    "if not MLFLOW:\n",
    "    # Utilisation de la fonction\n",
    "    path = Path('../GNN/firemen/firepoint/2x2/test/occurence_default')\n",
    "    df = load_all_metrics_files(path)"
   ]
  },
  {
   "cell_type": "code",
   "execution_count": 90,
   "metadata": {},
   "outputs": [
    {
     "data": {
      "text/html": [
       "<div>\n",
       "<style scoped>\n",
       "    .dataframe tbody tr th:only-of-type {\n",
       "        vertical-align: middle;\n",
       "    }\n",
       "\n",
       "    .dataframe tbody tr th {\n",
       "        vertical-align: top;\n",
       "    }\n",
       "\n",
       "    .dataframe thead th {\n",
       "        text-align: right;\n",
       "    }\n",
       "</style>\n",
       "<table border=\"1\" class=\"dataframe\">\n",
       "  <thead>\n",
       "    <tr style=\"text-align: right;\">\n",
       "      <th></th>\n",
       "      <th>Unnamed: 0</th>\n",
       "      <th>Run</th>\n",
       "      <th>apr_nbsinister_max_1</th>\n",
       "      <th>r2_nbsinister_max_1</th>\n",
       "      <th>KS_nbsinister_max_1</th>\n",
       "      <th>ks_1.0_nbsinister_max_1</th>\n",
       "      <th>ks_2.0_nbsinister_max_1</th>\n",
       "      <th>ks_3.0_nbsinister_max_1</th>\n",
       "      <th>ks_4.0_nbsinister_max_1</th>\n",
       "      <th>mae_raw_nbsinister_max_1</th>\n",
       "      <th>...</th>\n",
       "      <th>wildfire_predicted_3.0_0_modified_nbsinister_max_1</th>\n",
       "      <th>wildfire_supposed_3.0_0_modified_nbsinister_max_1</th>\n",
       "      <th>wildfire_over_predicted_3.0_0_modified_nbsinister_max_1</th>\n",
       "      <th>wildfire_under_predicted_3.0_0_modified_nbsinister_max_1</th>\n",
       "      <th>over_bad_prediction_unique_3.0_0_modified_nbsinister_max_1</th>\n",
       "      <th>under_bad_prediction_unique_3.0_0_modified_nbsinister_max_1</th>\n",
       "      <th>bad_prediction_unique_3.0_0_modified_nbsinister_max_1</th>\n",
       "      <th>over_bad_prediction_global_3.0_0_modified_nbsinister_max_1</th>\n",
       "      <th>under_bad_prediction_global_3.0_0_modified_nbsinister_max_1</th>\n",
       "      <th>bad_prediction_global_3.0_0_modified_nbsinister_max_1</th>\n",
       "    </tr>\n",
       "  </thead>\n",
       "  <tbody>\n",
       "    <tr>\n",
       "      <th>0</th>\n",
       "      <td>0</td>\n",
       "      <td>departement-01-ain_xgboost_nbsinister_regressi...</td>\n",
       "      <td>0.44</td>\n",
       "      <td>0.039585</td>\n",
       "      <td>0.441589</td>\n",
       "      <td>0.469274</td>\n",
       "      <td>0.380165</td>\n",
       "      <td>0.296296</td>\n",
       "      <td>0.266667</td>\n",
       "      <td>0.41</td>\n",
       "      <td>...</td>\n",
       "      <td>NaN</td>\n",
       "      <td>NaN</td>\n",
       "      <td>NaN</td>\n",
       "      <td>NaN</td>\n",
       "      <td>NaN</td>\n",
       "      <td>NaN</td>\n",
       "      <td>NaN</td>\n",
       "      <td>NaN</td>\n",
       "      <td>NaN</td>\n",
       "      <td>NaN</td>\n",
       "    </tr>\n",
       "    <tr>\n",
       "      <th>1</th>\n",
       "      <td>1</td>\n",
       "      <td>departement-01-ain_unique-departement-xgboost_...</td>\n",
       "      <td>0.43</td>\n",
       "      <td>0.072915</td>\n",
       "      <td>0.410301</td>\n",
       "      <td>0.457627</td>\n",
       "      <td>0.370968</td>\n",
       "      <td>0.260870</td>\n",
       "      <td>0.500000</td>\n",
       "      <td>0.43</td>\n",
       "      <td>...</td>\n",
       "      <td>NaN</td>\n",
       "      <td>NaN</td>\n",
       "      <td>NaN</td>\n",
       "      <td>NaN</td>\n",
       "      <td>NaN</td>\n",
       "      <td>NaN</td>\n",
       "      <td>NaN</td>\n",
       "      <td>NaN</td>\n",
       "      <td>NaN</td>\n",
       "      <td>NaN</td>\n",
       "    </tr>\n",
       "    <tr>\n",
       "      <th>2</th>\n",
       "      <td>2</td>\n",
       "      <td>departement-01-ain_unique-month-xgboost_nbsini...</td>\n",
       "      <td>0.41</td>\n",
       "      <td>0.034599</td>\n",
       "      <td>0.379183</td>\n",
       "      <td>0.438849</td>\n",
       "      <td>0.333333</td>\n",
       "      <td>0.277778</td>\n",
       "      <td>0.400000</td>\n",
       "      <td>0.44</td>\n",
       "      <td>...</td>\n",
       "      <td>NaN</td>\n",
       "      <td>NaN</td>\n",
       "      <td>NaN</td>\n",
       "      <td>NaN</td>\n",
       "      <td>NaN</td>\n",
       "      <td>NaN</td>\n",
       "      <td>NaN</td>\n",
       "      <td>NaN</td>\n",
       "      <td>NaN</td>\n",
       "      <td>NaN</td>\n",
       "    </tr>\n",
       "    <tr>\n",
       "      <th>3</th>\n",
       "      <td>3</td>\n",
       "      <td>departement-01-ain_unique-dayofweek-xgboost_nb...</td>\n",
       "      <td>0.42</td>\n",
       "      <td>0.021584</td>\n",
       "      <td>0.436490</td>\n",
       "      <td>0.470377</td>\n",
       "      <td>0.407407</td>\n",
       "      <td>0.255319</td>\n",
       "      <td>0.181818</td>\n",
       "      <td>0.43</td>\n",
       "      <td>...</td>\n",
       "      <td>NaN</td>\n",
       "      <td>NaN</td>\n",
       "      <td>NaN</td>\n",
       "      <td>NaN</td>\n",
       "      <td>NaN</td>\n",
       "      <td>NaN</td>\n",
       "      <td>NaN</td>\n",
       "      <td>NaN</td>\n",
       "      <td>NaN</td>\n",
       "      <td>NaN</td>\n",
       "    </tr>\n",
       "    <tr>\n",
       "      <th>4</th>\n",
       "      <td>4</td>\n",
       "      <td>departement-25-doubs_xgboost_nbsinister_regres...</td>\n",
       "      <td>0.40</td>\n",
       "      <td>0.167505</td>\n",
       "      <td>0.465996</td>\n",
       "      <td>0.429022</td>\n",
       "      <td>0.417910</td>\n",
       "      <td>NaN</td>\n",
       "      <td>0.400000</td>\n",
       "      <td>0.30</td>\n",
       "      <td>...</td>\n",
       "      <td>NaN</td>\n",
       "      <td>NaN</td>\n",
       "      <td>NaN</td>\n",
       "      <td>NaN</td>\n",
       "      <td>NaN</td>\n",
       "      <td>NaN</td>\n",
       "      <td>NaN</td>\n",
       "      <td>NaN</td>\n",
       "      <td>NaN</td>\n",
       "      <td>NaN</td>\n",
       "    </tr>\n",
       "    <tr>\n",
       "      <th>5</th>\n",
       "      <td>5</td>\n",
       "      <td>departement-25-doubs_unique-departement-xgboos...</td>\n",
       "      <td>0.38</td>\n",
       "      <td>0.126290</td>\n",
       "      <td>0.456103</td>\n",
       "      <td>0.441667</td>\n",
       "      <td>0.421053</td>\n",
       "      <td>NaN</td>\n",
       "      <td>0.272727</td>\n",
       "      <td>0.32</td>\n",
       "      <td>...</td>\n",
       "      <td>NaN</td>\n",
       "      <td>NaN</td>\n",
       "      <td>NaN</td>\n",
       "      <td>NaN</td>\n",
       "      <td>NaN</td>\n",
       "      <td>NaN</td>\n",
       "      <td>NaN</td>\n",
       "      <td>NaN</td>\n",
       "      <td>NaN</td>\n",
       "      <td>NaN</td>\n",
       "    </tr>\n",
       "    <tr>\n",
       "      <th>6</th>\n",
       "      <td>6</td>\n",
       "      <td>departement-25-doubs_unique-month-xgboost_nbsi...</td>\n",
       "      <td>0.37</td>\n",
       "      <td>0.123469</td>\n",
       "      <td>0.438884</td>\n",
       "      <td>0.404624</td>\n",
       "      <td>0.382353</td>\n",
       "      <td>NaN</td>\n",
       "      <td>0.347826</td>\n",
       "      <td>0.34</td>\n",
       "      <td>...</td>\n",
       "      <td>NaN</td>\n",
       "      <td>NaN</td>\n",
       "      <td>NaN</td>\n",
       "      <td>NaN</td>\n",
       "      <td>NaN</td>\n",
       "      <td>NaN</td>\n",
       "      <td>NaN</td>\n",
       "      <td>NaN</td>\n",
       "      <td>NaN</td>\n",
       "      <td>NaN</td>\n",
       "    </tr>\n",
       "    <tr>\n",
       "      <th>7</th>\n",
       "      <td>7</td>\n",
       "      <td>departement-25-doubs_unique-dayofweek-xgboost_...</td>\n",
       "      <td>0.37</td>\n",
       "      <td>0.179845</td>\n",
       "      <td>0.454517</td>\n",
       "      <td>0.401985</td>\n",
       "      <td>0.470588</td>\n",
       "      <td>NaN</td>\n",
       "      <td>0.357143</td>\n",
       "      <td>0.32</td>\n",
       "      <td>...</td>\n",
       "      <td>NaN</td>\n",
       "      <td>NaN</td>\n",
       "      <td>NaN</td>\n",
       "      <td>NaN</td>\n",
       "      <td>NaN</td>\n",
       "      <td>NaN</td>\n",
       "      <td>NaN</td>\n",
       "      <td>NaN</td>\n",
       "      <td>NaN</td>\n",
       "      <td>NaN</td>\n",
       "    </tr>\n",
       "    <tr>\n",
       "      <th>8</th>\n",
       "      <td>8</td>\n",
       "      <td>departement-78-yvelines_xgboost_nbsinister_reg...</td>\n",
       "      <td>0.58</td>\n",
       "      <td>0.274496</td>\n",
       "      <td>0.454772</td>\n",
       "      <td>0.555858</td>\n",
       "      <td>0.500000</td>\n",
       "      <td>0.484848</td>\n",
       "      <td>0.428571</td>\n",
       "      <td>0.51</td>\n",
       "      <td>...</td>\n",
       "      <td>NaN</td>\n",
       "      <td>NaN</td>\n",
       "      <td>NaN</td>\n",
       "      <td>NaN</td>\n",
       "      <td>NaN</td>\n",
       "      <td>NaN</td>\n",
       "      <td>NaN</td>\n",
       "      <td>NaN</td>\n",
       "      <td>NaN</td>\n",
       "      <td>NaN</td>\n",
       "    </tr>\n",
       "    <tr>\n",
       "      <th>9</th>\n",
       "      <td>9</td>\n",
       "      <td>departement-78-yvelines_unique-departement-xgb...</td>\n",
       "      <td>0.56</td>\n",
       "      <td>0.227862</td>\n",
       "      <td>0.439439</td>\n",
       "      <td>0.540541</td>\n",
       "      <td>0.486486</td>\n",
       "      <td>0.470588</td>\n",
       "      <td>0.375000</td>\n",
       "      <td>0.56</td>\n",
       "      <td>...</td>\n",
       "      <td>NaN</td>\n",
       "      <td>NaN</td>\n",
       "      <td>NaN</td>\n",
       "      <td>NaN</td>\n",
       "      <td>NaN</td>\n",
       "      <td>NaN</td>\n",
       "      <td>NaN</td>\n",
       "      <td>NaN</td>\n",
       "      <td>NaN</td>\n",
       "      <td>NaN</td>\n",
       "    </tr>\n",
       "    <tr>\n",
       "      <th>10</th>\n",
       "      <td>10</td>\n",
       "      <td>departement-78-yvelines_unique-month-xgboost_n...</td>\n",
       "      <td>0.54</td>\n",
       "      <td>0.237330</td>\n",
       "      <td>0.416599</td>\n",
       "      <td>0.526912</td>\n",
       "      <td>0.493827</td>\n",
       "      <td>0.464286</td>\n",
       "      <td>0.500000</td>\n",
       "      <td>0.53</td>\n",
       "      <td>...</td>\n",
       "      <td>NaN</td>\n",
       "      <td>NaN</td>\n",
       "      <td>NaN</td>\n",
       "      <td>NaN</td>\n",
       "      <td>NaN</td>\n",
       "      <td>NaN</td>\n",
       "      <td>NaN</td>\n",
       "      <td>NaN</td>\n",
       "      <td>NaN</td>\n",
       "      <td>NaN</td>\n",
       "    </tr>\n",
       "    <tr>\n",
       "      <th>11</th>\n",
       "      <td>11</td>\n",
       "      <td>departement-78-yvelines_unique-dayofweek-xgboo...</td>\n",
       "      <td>0.58</td>\n",
       "      <td>0.272673</td>\n",
       "      <td>0.466350</td>\n",
       "      <td>0.563953</td>\n",
       "      <td>0.487805</td>\n",
       "      <td>0.562500</td>\n",
       "      <td>0.521739</td>\n",
       "      <td>0.51</td>\n",
       "      <td>...</td>\n",
       "      <td>NaN</td>\n",
       "      <td>NaN</td>\n",
       "      <td>NaN</td>\n",
       "      <td>NaN</td>\n",
       "      <td>NaN</td>\n",
       "      <td>NaN</td>\n",
       "      <td>NaN</td>\n",
       "      <td>NaN</td>\n",
       "      <td>NaN</td>\n",
       "      <td>NaN</td>\n",
       "    </tr>\n",
       "    <tr>\n",
       "      <th>12</th>\n",
       "      <td>0</td>\n",
       "      <td>departement-01-ain_xgboost_nbsinister_regressi...</td>\n",
       "      <td>0.74</td>\n",
       "      <td>0.275397</td>\n",
       "      <td>0.470510</td>\n",
       "      <td>NaN</td>\n",
       "      <td>NaN</td>\n",
       "      <td>NaN</td>\n",
       "      <td>NaN</td>\n",
       "      <td>0.89</td>\n",
       "      <td>...</td>\n",
       "      <td>NaN</td>\n",
       "      <td>NaN</td>\n",
       "      <td>NaN</td>\n",
       "      <td>NaN</td>\n",
       "      <td>NaN</td>\n",
       "      <td>NaN</td>\n",
       "      <td>NaN</td>\n",
       "      <td>NaN</td>\n",
       "      <td>NaN</td>\n",
       "      <td>NaN</td>\n",
       "    </tr>\n",
       "    <tr>\n",
       "      <th>13</th>\n",
       "      <td>1</td>\n",
       "      <td>departement-01-ain_xgboost_nbsinister_regressi...</td>\n",
       "      <td>0.74</td>\n",
       "      <td>0.320077</td>\n",
       "      <td>0.420536</td>\n",
       "      <td>NaN</td>\n",
       "      <td>NaN</td>\n",
       "      <td>NaN</td>\n",
       "      <td>NaN</td>\n",
       "      <td>0.84</td>\n",
       "      <td>...</td>\n",
       "      <td>NaN</td>\n",
       "      <td>NaN</td>\n",
       "      <td>NaN</td>\n",
       "      <td>NaN</td>\n",
       "      <td>NaN</td>\n",
       "      <td>NaN</td>\n",
       "      <td>NaN</td>\n",
       "      <td>NaN</td>\n",
       "      <td>NaN</td>\n",
       "      <td>NaN</td>\n",
       "    </tr>\n",
       "    <tr>\n",
       "      <th>14</th>\n",
       "      <td>2</td>\n",
       "      <td>departement-01-ain_unique-departement-xgboost_...</td>\n",
       "      <td>0.74</td>\n",
       "      <td>0.255330</td>\n",
       "      <td>0.423747</td>\n",
       "      <td>NaN</td>\n",
       "      <td>NaN</td>\n",
       "      <td>NaN</td>\n",
       "      <td>NaN</td>\n",
       "      <td>0.95</td>\n",
       "      <td>...</td>\n",
       "      <td>NaN</td>\n",
       "      <td>NaN</td>\n",
       "      <td>NaN</td>\n",
       "      <td>NaN</td>\n",
       "      <td>NaN</td>\n",
       "      <td>NaN</td>\n",
       "      <td>NaN</td>\n",
       "      <td>NaN</td>\n",
       "      <td>NaN</td>\n",
       "      <td>NaN</td>\n",
       "    </tr>\n",
       "    <tr>\n",
       "      <th>15</th>\n",
       "      <td>3</td>\n",
       "      <td>departement-01-ain_unique-month-xgboost_nbsini...</td>\n",
       "      <td>0.74</td>\n",
       "      <td>0.327146</td>\n",
       "      <td>0.452435</td>\n",
       "      <td>NaN</td>\n",
       "      <td>NaN</td>\n",
       "      <td>NaN</td>\n",
       "      <td>NaN</td>\n",
       "      <td>0.88</td>\n",
       "      <td>...</td>\n",
       "      <td>NaN</td>\n",
       "      <td>NaN</td>\n",
       "      <td>NaN</td>\n",
       "      <td>NaN</td>\n",
       "      <td>NaN</td>\n",
       "      <td>NaN</td>\n",
       "      <td>NaN</td>\n",
       "      <td>NaN</td>\n",
       "      <td>NaN</td>\n",
       "      <td>NaN</td>\n",
       "    </tr>\n",
       "    <tr>\n",
       "      <th>16</th>\n",
       "      <td>4</td>\n",
       "      <td>departement-01-ain_unique-dayofweek-xgboost_nb...</td>\n",
       "      <td>0.75</td>\n",
       "      <td>0.415910</td>\n",
       "      <td>0.456894</td>\n",
       "      <td>NaN</td>\n",
       "      <td>NaN</td>\n",
       "      <td>NaN</td>\n",
       "      <td>NaN</td>\n",
       "      <td>0.82</td>\n",
       "      <td>...</td>\n",
       "      <td>NaN</td>\n",
       "      <td>NaN</td>\n",
       "      <td>NaN</td>\n",
       "      <td>NaN</td>\n",
       "      <td>NaN</td>\n",
       "      <td>NaN</td>\n",
       "      <td>NaN</td>\n",
       "      <td>NaN</td>\n",
       "      <td>NaN</td>\n",
       "      <td>NaN</td>\n",
       "    </tr>\n",
       "    <tr>\n",
       "      <th>17</th>\n",
       "      <td>5</td>\n",
       "      <td>departement-25-doubs_xgboost_nbsinister_regres...</td>\n",
       "      <td>0.75</td>\n",
       "      <td>0.271942</td>\n",
       "      <td>0.550421</td>\n",
       "      <td>NaN</td>\n",
       "      <td>NaN</td>\n",
       "      <td>NaN</td>\n",
       "      <td>NaN</td>\n",
       "      <td>0.80</td>\n",
       "      <td>...</td>\n",
       "      <td>NaN</td>\n",
       "      <td>NaN</td>\n",
       "      <td>NaN</td>\n",
       "      <td>NaN</td>\n",
       "      <td>NaN</td>\n",
       "      <td>NaN</td>\n",
       "      <td>NaN</td>\n",
       "      <td>NaN</td>\n",
       "      <td>NaN</td>\n",
       "      <td>NaN</td>\n",
       "    </tr>\n",
       "    <tr>\n",
       "      <th>18</th>\n",
       "      <td>6</td>\n",
       "      <td>departement-25-doubs_xgboost_nbsinister_regres...</td>\n",
       "      <td>0.76</td>\n",
       "      <td>0.316152</td>\n",
       "      <td>0.550421</td>\n",
       "      <td>NaN</td>\n",
       "      <td>NaN</td>\n",
       "      <td>NaN</td>\n",
       "      <td>NaN</td>\n",
       "      <td>0.71</td>\n",
       "      <td>...</td>\n",
       "      <td>NaN</td>\n",
       "      <td>NaN</td>\n",
       "      <td>NaN</td>\n",
       "      <td>NaN</td>\n",
       "      <td>NaN</td>\n",
       "      <td>NaN</td>\n",
       "      <td>NaN</td>\n",
       "      <td>NaN</td>\n",
       "      <td>NaN</td>\n",
       "      <td>NaN</td>\n",
       "    </tr>\n",
       "    <tr>\n",
       "      <th>19</th>\n",
       "      <td>7</td>\n",
       "      <td>departement-25-doubs_unique-departement-xgboos...</td>\n",
       "      <td>0.70</td>\n",
       "      <td>0.246309</td>\n",
       "      <td>0.498864</td>\n",
       "      <td>NaN</td>\n",
       "      <td>NaN</td>\n",
       "      <td>NaN</td>\n",
       "      <td>NaN</td>\n",
       "      <td>0.79</td>\n",
       "      <td>...</td>\n",
       "      <td>NaN</td>\n",
       "      <td>NaN</td>\n",
       "      <td>NaN</td>\n",
       "      <td>NaN</td>\n",
       "      <td>NaN</td>\n",
       "      <td>NaN</td>\n",
       "      <td>NaN</td>\n",
       "      <td>NaN</td>\n",
       "      <td>NaN</td>\n",
       "      <td>NaN</td>\n",
       "    </tr>\n",
       "    <tr>\n",
       "      <th>20</th>\n",
       "      <td>8</td>\n",
       "      <td>departement-25-doubs_unique-month-xgboost_nbsi...</td>\n",
       "      <td>0.74</td>\n",
       "      <td>0.336650</td>\n",
       "      <td>0.537416</td>\n",
       "      <td>NaN</td>\n",
       "      <td>NaN</td>\n",
       "      <td>NaN</td>\n",
       "      <td>NaN</td>\n",
       "      <td>0.77</td>\n",
       "      <td>...</td>\n",
       "      <td>NaN</td>\n",
       "      <td>NaN</td>\n",
       "      <td>NaN</td>\n",
       "      <td>NaN</td>\n",
       "      <td>NaN</td>\n",
       "      <td>NaN</td>\n",
       "      <td>NaN</td>\n",
       "      <td>NaN</td>\n",
       "      <td>NaN</td>\n",
       "      <td>NaN</td>\n",
       "    </tr>\n",
       "    <tr>\n",
       "      <th>21</th>\n",
       "      <td>9</td>\n",
       "      <td>departement-25-doubs_unique-dayofweek-xgboost_...</td>\n",
       "      <td>0.74</td>\n",
       "      <td>0.378884</td>\n",
       "      <td>0.582071</td>\n",
       "      <td>NaN</td>\n",
       "      <td>NaN</td>\n",
       "      <td>NaN</td>\n",
       "      <td>NaN</td>\n",
       "      <td>0.75</td>\n",
       "      <td>...</td>\n",
       "      <td>NaN</td>\n",
       "      <td>NaN</td>\n",
       "      <td>NaN</td>\n",
       "      <td>NaN</td>\n",
       "      <td>NaN</td>\n",
       "      <td>NaN</td>\n",
       "      <td>NaN</td>\n",
       "      <td>NaN</td>\n",
       "      <td>NaN</td>\n",
       "      <td>NaN</td>\n",
       "    </tr>\n",
       "    <tr>\n",
       "      <th>22</th>\n",
       "      <td>10</td>\n",
       "      <td>departement-78-yvelines_xgboost_nbsinister_reg...</td>\n",
       "      <td>0.71</td>\n",
       "      <td>0.350273</td>\n",
       "      <td>0.487771</td>\n",
       "      <td>NaN</td>\n",
       "      <td>NaN</td>\n",
       "      <td>NaN</td>\n",
       "      <td>NaN</td>\n",
       "      <td>0.74</td>\n",
       "      <td>...</td>\n",
       "      <td>0.64</td>\n",
       "      <td>0.63</td>\n",
       "      <td>0.02</td>\n",
       "      <td>0.26</td>\n",
       "      <td>0.25</td>\n",
       "      <td>0.06</td>\n",
       "      <td>0.31</td>\n",
       "      <td>0.25</td>\n",
       "      <td>0.06</td>\n",
       "      <td>0.31</td>\n",
       "    </tr>\n",
       "    <tr>\n",
       "      <th>23</th>\n",
       "      <td>11</td>\n",
       "      <td>departement-78-yvelines_xgboost_nbsinister_reg...</td>\n",
       "      <td>0.71</td>\n",
       "      <td>0.337464</td>\n",
       "      <td>0.521928</td>\n",
       "      <td>NaN</td>\n",
       "      <td>NaN</td>\n",
       "      <td>NaN</td>\n",
       "      <td>NaN</td>\n",
       "      <td>0.73</td>\n",
       "      <td>...</td>\n",
       "      <td>0.62</td>\n",
       "      <td>0.65</td>\n",
       "      <td>0.02</td>\n",
       "      <td>0.28</td>\n",
       "      <td>0.23</td>\n",
       "      <td>0.09</td>\n",
       "      <td>0.32</td>\n",
       "      <td>0.23</td>\n",
       "      <td>0.09</td>\n",
       "      <td>0.32</td>\n",
       "    </tr>\n",
       "    <tr>\n",
       "      <th>24</th>\n",
       "      <td>12</td>\n",
       "      <td>departement-78-yvelines_unique-departement-xgb...</td>\n",
       "      <td>0.69</td>\n",
       "      <td>0.364104</td>\n",
       "      <td>0.448305</td>\n",
       "      <td>NaN</td>\n",
       "      <td>NaN</td>\n",
       "      <td>NaN</td>\n",
       "      <td>NaN</td>\n",
       "      <td>0.76</td>\n",
       "      <td>...</td>\n",
       "      <td>0.59</td>\n",
       "      <td>0.64</td>\n",
       "      <td>0.01</td>\n",
       "      <td>0.31</td>\n",
       "      <td>0.24</td>\n",
       "      <td>0.10</td>\n",
       "      <td>0.34</td>\n",
       "      <td>0.24</td>\n",
       "      <td>0.10</td>\n",
       "      <td>0.34</td>\n",
       "    </tr>\n",
       "    <tr>\n",
       "      <th>25</th>\n",
       "      <td>13</td>\n",
       "      <td>departement-78-yvelines_unique-month-xgboost_n...</td>\n",
       "      <td>0.70</td>\n",
       "      <td>0.351539</td>\n",
       "      <td>0.451273</td>\n",
       "      <td>NaN</td>\n",
       "      <td>NaN</td>\n",
       "      <td>NaN</td>\n",
       "      <td>NaN</td>\n",
       "      <td>0.75</td>\n",
       "      <td>...</td>\n",
       "      <td>0.68</td>\n",
       "      <td>0.62</td>\n",
       "      <td>0.04</td>\n",
       "      <td>0.22</td>\n",
       "      <td>0.25</td>\n",
       "      <td>0.07</td>\n",
       "      <td>0.33</td>\n",
       "      <td>0.25</td>\n",
       "      <td>0.07</td>\n",
       "      <td>0.33</td>\n",
       "    </tr>\n",
       "    <tr>\n",
       "      <th>26</th>\n",
       "      <td>14</td>\n",
       "      <td>departement-78-yvelines_unique-dayofweek-xgboo...</td>\n",
       "      <td>0.70</td>\n",
       "      <td>0.412994</td>\n",
       "      <td>0.444082</td>\n",
       "      <td>NaN</td>\n",
       "      <td>NaN</td>\n",
       "      <td>NaN</td>\n",
       "      <td>NaN</td>\n",
       "      <td>0.72</td>\n",
       "      <td>...</td>\n",
       "      <td>0.78</td>\n",
       "      <td>0.60</td>\n",
       "      <td>0.02</td>\n",
       "      <td>0.14</td>\n",
       "      <td>0.32</td>\n",
       "      <td>0.01</td>\n",
       "      <td>0.33</td>\n",
       "      <td>0.32</td>\n",
       "      <td>0.01</td>\n",
       "      <td>0.33</td>\n",
       "    </tr>\n",
       "  </tbody>\n",
       "</table>\n",
       "<p>27 rows × 438 columns</p>\n",
       "</div>"
      ],
      "text/plain": [
       "    Unnamed: 0                                                Run  \\\n",
       "0            0  departement-01-ain_xgboost_nbsinister_regressi...   \n",
       "1            1  departement-01-ain_unique-departement-xgboost_...   \n",
       "2            2  departement-01-ain_unique-month-xgboost_nbsini...   \n",
       "3            3  departement-01-ain_unique-dayofweek-xgboost_nb...   \n",
       "4            4  departement-25-doubs_xgboost_nbsinister_regres...   \n",
       "5            5  departement-25-doubs_unique-departement-xgboos...   \n",
       "6            6  departement-25-doubs_unique-month-xgboost_nbsi...   \n",
       "7            7  departement-25-doubs_unique-dayofweek-xgboost_...   \n",
       "8            8  departement-78-yvelines_xgboost_nbsinister_reg...   \n",
       "9            9  departement-78-yvelines_unique-departement-xgb...   \n",
       "10          10  departement-78-yvelines_unique-month-xgboost_n...   \n",
       "11          11  departement-78-yvelines_unique-dayofweek-xgboo...   \n",
       "12           0  departement-01-ain_xgboost_nbsinister_regressi...   \n",
       "13           1  departement-01-ain_xgboost_nbsinister_regressi...   \n",
       "14           2  departement-01-ain_unique-departement-xgboost_...   \n",
       "15           3  departement-01-ain_unique-month-xgboost_nbsini...   \n",
       "16           4  departement-01-ain_unique-dayofweek-xgboost_nb...   \n",
       "17           5  departement-25-doubs_xgboost_nbsinister_regres...   \n",
       "18           6  departement-25-doubs_xgboost_nbsinister_regres...   \n",
       "19           7  departement-25-doubs_unique-departement-xgboos...   \n",
       "20           8  departement-25-doubs_unique-month-xgboost_nbsi...   \n",
       "21           9  departement-25-doubs_unique-dayofweek-xgboost_...   \n",
       "22          10  departement-78-yvelines_xgboost_nbsinister_reg...   \n",
       "23          11  departement-78-yvelines_xgboost_nbsinister_reg...   \n",
       "24          12  departement-78-yvelines_unique-departement-xgb...   \n",
       "25          13  departement-78-yvelines_unique-month-xgboost_n...   \n",
       "26          14  departement-78-yvelines_unique-dayofweek-xgboo...   \n",
       "\n",
       "    apr_nbsinister_max_1  r2_nbsinister_max_1  KS_nbsinister_max_1  \\\n",
       "0                   0.44             0.039585             0.441589   \n",
       "1                   0.43             0.072915             0.410301   \n",
       "2                   0.41             0.034599             0.379183   \n",
       "3                   0.42             0.021584             0.436490   \n",
       "4                   0.40             0.167505             0.465996   \n",
       "5                   0.38             0.126290             0.456103   \n",
       "6                   0.37             0.123469             0.438884   \n",
       "7                   0.37             0.179845             0.454517   \n",
       "8                   0.58             0.274496             0.454772   \n",
       "9                   0.56             0.227862             0.439439   \n",
       "10                  0.54             0.237330             0.416599   \n",
       "11                  0.58             0.272673             0.466350   \n",
       "12                  0.74             0.275397             0.470510   \n",
       "13                  0.74             0.320077             0.420536   \n",
       "14                  0.74             0.255330             0.423747   \n",
       "15                  0.74             0.327146             0.452435   \n",
       "16                  0.75             0.415910             0.456894   \n",
       "17                  0.75             0.271942             0.550421   \n",
       "18                  0.76             0.316152             0.550421   \n",
       "19                  0.70             0.246309             0.498864   \n",
       "20                  0.74             0.336650             0.537416   \n",
       "21                  0.74             0.378884             0.582071   \n",
       "22                  0.71             0.350273             0.487771   \n",
       "23                  0.71             0.337464             0.521928   \n",
       "24                  0.69             0.364104             0.448305   \n",
       "25                  0.70             0.351539             0.451273   \n",
       "26                  0.70             0.412994             0.444082   \n",
       "\n",
       "    ks_1.0_nbsinister_max_1  ks_2.0_nbsinister_max_1  ks_3.0_nbsinister_max_1  \\\n",
       "0                  0.469274                 0.380165                 0.296296   \n",
       "1                  0.457627                 0.370968                 0.260870   \n",
       "2                  0.438849                 0.333333                 0.277778   \n",
       "3                  0.470377                 0.407407                 0.255319   \n",
       "4                  0.429022                 0.417910                      NaN   \n",
       "5                  0.441667                 0.421053                      NaN   \n",
       "6                  0.404624                 0.382353                      NaN   \n",
       "7                  0.401985                 0.470588                      NaN   \n",
       "8                  0.555858                 0.500000                 0.484848   \n",
       "9                  0.540541                 0.486486                 0.470588   \n",
       "10                 0.526912                 0.493827                 0.464286   \n",
       "11                 0.563953                 0.487805                 0.562500   \n",
       "12                      NaN                      NaN                      NaN   \n",
       "13                      NaN                      NaN                      NaN   \n",
       "14                      NaN                      NaN                      NaN   \n",
       "15                      NaN                      NaN                      NaN   \n",
       "16                      NaN                      NaN                      NaN   \n",
       "17                      NaN                      NaN                      NaN   \n",
       "18                      NaN                      NaN                      NaN   \n",
       "19                      NaN                      NaN                      NaN   \n",
       "20                      NaN                      NaN                      NaN   \n",
       "21                      NaN                      NaN                      NaN   \n",
       "22                      NaN                      NaN                      NaN   \n",
       "23                      NaN                      NaN                      NaN   \n",
       "24                      NaN                      NaN                      NaN   \n",
       "25                      NaN                      NaN                      NaN   \n",
       "26                      NaN                      NaN                      NaN   \n",
       "\n",
       "    ks_4.0_nbsinister_max_1  mae_raw_nbsinister_max_1  ...  \\\n",
       "0                  0.266667                      0.41  ...   \n",
       "1                  0.500000                      0.43  ...   \n",
       "2                  0.400000                      0.44  ...   \n",
       "3                  0.181818                      0.43  ...   \n",
       "4                  0.400000                      0.30  ...   \n",
       "5                  0.272727                      0.32  ...   \n",
       "6                  0.347826                      0.34  ...   \n",
       "7                  0.357143                      0.32  ...   \n",
       "8                  0.428571                      0.51  ...   \n",
       "9                  0.375000                      0.56  ...   \n",
       "10                 0.500000                      0.53  ...   \n",
       "11                 0.521739                      0.51  ...   \n",
       "12                      NaN                      0.89  ...   \n",
       "13                      NaN                      0.84  ...   \n",
       "14                      NaN                      0.95  ...   \n",
       "15                      NaN                      0.88  ...   \n",
       "16                      NaN                      0.82  ...   \n",
       "17                      NaN                      0.80  ...   \n",
       "18                      NaN                      0.71  ...   \n",
       "19                      NaN                      0.79  ...   \n",
       "20                      NaN                      0.77  ...   \n",
       "21                      NaN                      0.75  ...   \n",
       "22                      NaN                      0.74  ...   \n",
       "23                      NaN                      0.73  ...   \n",
       "24                      NaN                      0.76  ...   \n",
       "25                      NaN                      0.75  ...   \n",
       "26                      NaN                      0.72  ...   \n",
       "\n",
       "    wildfire_predicted_3.0_0_modified_nbsinister_max_1  \\\n",
       "0                                                 NaN    \n",
       "1                                                 NaN    \n",
       "2                                                 NaN    \n",
       "3                                                 NaN    \n",
       "4                                                 NaN    \n",
       "5                                                 NaN    \n",
       "6                                                 NaN    \n",
       "7                                                 NaN    \n",
       "8                                                 NaN    \n",
       "9                                                 NaN    \n",
       "10                                                NaN    \n",
       "11                                                NaN    \n",
       "12                                                NaN    \n",
       "13                                                NaN    \n",
       "14                                                NaN    \n",
       "15                                                NaN    \n",
       "16                                                NaN    \n",
       "17                                                NaN    \n",
       "18                                                NaN    \n",
       "19                                                NaN    \n",
       "20                                                NaN    \n",
       "21                                                NaN    \n",
       "22                                               0.64    \n",
       "23                                               0.62    \n",
       "24                                               0.59    \n",
       "25                                               0.68    \n",
       "26                                               0.78    \n",
       "\n",
       "    wildfire_supposed_3.0_0_modified_nbsinister_max_1  \\\n",
       "0                                                 NaN   \n",
       "1                                                 NaN   \n",
       "2                                                 NaN   \n",
       "3                                                 NaN   \n",
       "4                                                 NaN   \n",
       "5                                                 NaN   \n",
       "6                                                 NaN   \n",
       "7                                                 NaN   \n",
       "8                                                 NaN   \n",
       "9                                                 NaN   \n",
       "10                                                NaN   \n",
       "11                                                NaN   \n",
       "12                                                NaN   \n",
       "13                                                NaN   \n",
       "14                                                NaN   \n",
       "15                                                NaN   \n",
       "16                                                NaN   \n",
       "17                                                NaN   \n",
       "18                                                NaN   \n",
       "19                                                NaN   \n",
       "20                                                NaN   \n",
       "21                                                NaN   \n",
       "22                                               0.63   \n",
       "23                                               0.65   \n",
       "24                                               0.64   \n",
       "25                                               0.62   \n",
       "26                                               0.60   \n",
       "\n",
       "    wildfire_over_predicted_3.0_0_modified_nbsinister_max_1  \\\n",
       "0                                                 NaN         \n",
       "1                                                 NaN         \n",
       "2                                                 NaN         \n",
       "3                                                 NaN         \n",
       "4                                                 NaN         \n",
       "5                                                 NaN         \n",
       "6                                                 NaN         \n",
       "7                                                 NaN         \n",
       "8                                                 NaN         \n",
       "9                                                 NaN         \n",
       "10                                                NaN         \n",
       "11                                                NaN         \n",
       "12                                                NaN         \n",
       "13                                                NaN         \n",
       "14                                                NaN         \n",
       "15                                                NaN         \n",
       "16                                                NaN         \n",
       "17                                                NaN         \n",
       "18                                                NaN         \n",
       "19                                                NaN         \n",
       "20                                                NaN         \n",
       "21                                                NaN         \n",
       "22                                               0.02         \n",
       "23                                               0.02         \n",
       "24                                               0.01         \n",
       "25                                               0.04         \n",
       "26                                               0.02         \n",
       "\n",
       "    wildfire_under_predicted_3.0_0_modified_nbsinister_max_1  \\\n",
       "0                                                 NaN          \n",
       "1                                                 NaN          \n",
       "2                                                 NaN          \n",
       "3                                                 NaN          \n",
       "4                                                 NaN          \n",
       "5                                                 NaN          \n",
       "6                                                 NaN          \n",
       "7                                                 NaN          \n",
       "8                                                 NaN          \n",
       "9                                                 NaN          \n",
       "10                                                NaN          \n",
       "11                                                NaN          \n",
       "12                                                NaN          \n",
       "13                                                NaN          \n",
       "14                                                NaN          \n",
       "15                                                NaN          \n",
       "16                                                NaN          \n",
       "17                                                NaN          \n",
       "18                                                NaN          \n",
       "19                                                NaN          \n",
       "20                                                NaN          \n",
       "21                                                NaN          \n",
       "22                                               0.26          \n",
       "23                                               0.28          \n",
       "24                                               0.31          \n",
       "25                                               0.22          \n",
       "26                                               0.14          \n",
       "\n",
       "    over_bad_prediction_unique_3.0_0_modified_nbsinister_max_1  \\\n",
       "0                                                 NaN            \n",
       "1                                                 NaN            \n",
       "2                                                 NaN            \n",
       "3                                                 NaN            \n",
       "4                                                 NaN            \n",
       "5                                                 NaN            \n",
       "6                                                 NaN            \n",
       "7                                                 NaN            \n",
       "8                                                 NaN            \n",
       "9                                                 NaN            \n",
       "10                                                NaN            \n",
       "11                                                NaN            \n",
       "12                                                NaN            \n",
       "13                                                NaN            \n",
       "14                                                NaN            \n",
       "15                                                NaN            \n",
       "16                                                NaN            \n",
       "17                                                NaN            \n",
       "18                                                NaN            \n",
       "19                                                NaN            \n",
       "20                                                NaN            \n",
       "21                                                NaN            \n",
       "22                                               0.25            \n",
       "23                                               0.23            \n",
       "24                                               0.24            \n",
       "25                                               0.25            \n",
       "26                                               0.32            \n",
       "\n",
       "    under_bad_prediction_unique_3.0_0_modified_nbsinister_max_1  \\\n",
       "0                                                 NaN             \n",
       "1                                                 NaN             \n",
       "2                                                 NaN             \n",
       "3                                                 NaN             \n",
       "4                                                 NaN             \n",
       "5                                                 NaN             \n",
       "6                                                 NaN             \n",
       "7                                                 NaN             \n",
       "8                                                 NaN             \n",
       "9                                                 NaN             \n",
       "10                                                NaN             \n",
       "11                                                NaN             \n",
       "12                                                NaN             \n",
       "13                                                NaN             \n",
       "14                                                NaN             \n",
       "15                                                NaN             \n",
       "16                                                NaN             \n",
       "17                                                NaN             \n",
       "18                                                NaN             \n",
       "19                                                NaN             \n",
       "20                                                NaN             \n",
       "21                                                NaN             \n",
       "22                                               0.06             \n",
       "23                                               0.09             \n",
       "24                                               0.10             \n",
       "25                                               0.07             \n",
       "26                                               0.01             \n",
       "\n",
       "    bad_prediction_unique_3.0_0_modified_nbsinister_max_1  \\\n",
       "0                                                 NaN       \n",
       "1                                                 NaN       \n",
       "2                                                 NaN       \n",
       "3                                                 NaN       \n",
       "4                                                 NaN       \n",
       "5                                                 NaN       \n",
       "6                                                 NaN       \n",
       "7                                                 NaN       \n",
       "8                                                 NaN       \n",
       "9                                                 NaN       \n",
       "10                                                NaN       \n",
       "11                                                NaN       \n",
       "12                                                NaN       \n",
       "13                                                NaN       \n",
       "14                                                NaN       \n",
       "15                                                NaN       \n",
       "16                                                NaN       \n",
       "17                                                NaN       \n",
       "18                                                NaN       \n",
       "19                                                NaN       \n",
       "20                                                NaN       \n",
       "21                                                NaN       \n",
       "22                                               0.31       \n",
       "23                                               0.32       \n",
       "24                                               0.34       \n",
       "25                                               0.33       \n",
       "26                                               0.33       \n",
       "\n",
       "    over_bad_prediction_global_3.0_0_modified_nbsinister_max_1  \\\n",
       "0                                                 NaN            \n",
       "1                                                 NaN            \n",
       "2                                                 NaN            \n",
       "3                                                 NaN            \n",
       "4                                                 NaN            \n",
       "5                                                 NaN            \n",
       "6                                                 NaN            \n",
       "7                                                 NaN            \n",
       "8                                                 NaN            \n",
       "9                                                 NaN            \n",
       "10                                                NaN            \n",
       "11                                                NaN            \n",
       "12                                                NaN            \n",
       "13                                                NaN            \n",
       "14                                                NaN            \n",
       "15                                                NaN            \n",
       "16                                                NaN            \n",
       "17                                                NaN            \n",
       "18                                                NaN            \n",
       "19                                                NaN            \n",
       "20                                                NaN            \n",
       "21                                                NaN            \n",
       "22                                               0.25            \n",
       "23                                               0.23            \n",
       "24                                               0.24            \n",
       "25                                               0.25            \n",
       "26                                               0.32            \n",
       "\n",
       "    under_bad_prediction_global_3.0_0_modified_nbsinister_max_1  \\\n",
       "0                                                 NaN             \n",
       "1                                                 NaN             \n",
       "2                                                 NaN             \n",
       "3                                                 NaN             \n",
       "4                                                 NaN             \n",
       "5                                                 NaN             \n",
       "6                                                 NaN             \n",
       "7                                                 NaN             \n",
       "8                                                 NaN             \n",
       "9                                                 NaN             \n",
       "10                                                NaN             \n",
       "11                                                NaN             \n",
       "12                                                NaN             \n",
       "13                                                NaN             \n",
       "14                                                NaN             \n",
       "15                                                NaN             \n",
       "16                                                NaN             \n",
       "17                                                NaN             \n",
       "18                                                NaN             \n",
       "19                                                NaN             \n",
       "20                                                NaN             \n",
       "21                                                NaN             \n",
       "22                                               0.06             \n",
       "23                                               0.09             \n",
       "24                                               0.10             \n",
       "25                                               0.07             \n",
       "26                                               0.01             \n",
       "\n",
       "    bad_prediction_global_3.0_0_modified_nbsinister_max_1  \n",
       "0                                                 NaN      \n",
       "1                                                 NaN      \n",
       "2                                                 NaN      \n",
       "3                                                 NaN      \n",
       "4                                                 NaN      \n",
       "5                                                 NaN      \n",
       "6                                                 NaN      \n",
       "7                                                 NaN      \n",
       "8                                                 NaN      \n",
       "9                                                 NaN      \n",
       "10                                                NaN      \n",
       "11                                                NaN      \n",
       "12                                                NaN      \n",
       "13                                                NaN      \n",
       "14                                                NaN      \n",
       "15                                                NaN      \n",
       "16                                                NaN      \n",
       "17                                                NaN      \n",
       "18                                                NaN      \n",
       "19                                                NaN      \n",
       "20                                                NaN      \n",
       "21                                                NaN      \n",
       "22                                               0.31      \n",
       "23                                               0.32      \n",
       "24                                               0.34      \n",
       "25                                               0.33      \n",
       "26                                               0.33      \n",
       "\n",
       "[27 rows x 438 columns]"
      ]
     },
     "execution_count": 90,
     "metadata": {},
     "output_type": "execute_result"
    }
   ],
   "source": [
    "df"
   ]
  },
  {
   "cell_type": "code",
   "execution_count": 91,
   "metadata": {},
   "outputs": [],
   "source": [
    "if MLFLOW:\n",
    "    metric = 'bad_prediction_modified_nbsinister_max_1'\n",
    "    df = pd.read_csv(f'{metric}.csv')\n",
    "\n",
    "    metric = 'wildfire_over_predicted_modified_nbsinister_max_1'\n",
    "    df1 = pd.read_csv(f'{metric}.csv')\n",
    "\n",
    "    metric = 'iou_modified_nbsinister_max_1'\n",
    "    df2 = pd.read_csv(f'{metric}.csv')\n",
    "\n",
    "    metric = 'apr_nbsinister_max_1'\n",
    "    df3 = pd.read_csv(f'{metric}.csv')\n",
    "\n",
    "    metric = 'r2_nbsninster_max_1'\n",
    "    df4 = pd.read_csv(f'{metric}.csv')\n",
    "\n",
    "    df = df.set_index('Run').join(df1.set_index('Run')['wildfire_over_predicted_modified_nbsinister_max_1']).reset_index()\n",
    "    df = df.set_index('Run').join(df2.set_index('Run')['iou_modified_nbsinister_max_1']).reset_index()\n",
    "    df = df3.set_index('Run').join(df2.set_index('Run')['apr_nbsinister_max_1']).reset_index()\n",
    "    df = df4.set_index('Run').join(df2.set_index('Run')['r2_nbsninster_max_1']).reset_index()\n",
    "\n",
    "    #df.dropna(subset=['temporal_spearman', 'temporal_mae', 'temporal_binary_f1', 'temporal_kendall'], inplace=True)\n",
    "    df.drop_duplicates(inplace=True, keep='first')\n",
    "    df.reset_index(drop=True, inplace=True)"
   ]
  },
  {
   "cell_type": "code",
   "execution_count": 92,
   "metadata": {},
   "outputs": [
    {
     "name": "stderr",
     "output_type": "stream",
     "text": [
      "/tmp/ipykernel_341001/730082431.py:48: PerformanceWarning:\n",
      "\n",
      "DataFrame is highly fragmented.  This is usually the result of calling `frame.insert` many times, which has poor performance.  Consider joining all columns at once using pd.concat(axis=1) instead. To get a de-fragmented frame, use `newframe = frame.copy()`\n",
      "\n",
      "/tmp/ipykernel_341001/730082431.py:49: PerformanceWarning:\n",
      "\n",
      "DataFrame is highly fragmented.  This is usually the result of calling `frame.insert` many times, which has poor performance.  Consider joining all columns at once using pd.concat(axis=1) instead. To get a de-fragmented frame, use `newframe = frame.copy()`\n",
      "\n",
      "/tmp/ipykernel_341001/730082431.py:50: PerformanceWarning:\n",
      "\n",
      "DataFrame is highly fragmented.  This is usually the result of calling `frame.insert` many times, which has poor performance.  Consider joining all columns at once using pd.concat(axis=1) instead. To get a de-fragmented frame, use `newframe = frame.copy()`\n",
      "\n",
      "/tmp/ipykernel_341001/730082431.py:51: PerformanceWarning:\n",
      "\n",
      "DataFrame is highly fragmented.  This is usually the result of calling `frame.insert` many times, which has poor performance.  Consider joining all columns at once using pd.concat(axis=1) instead. To get a de-fragmented frame, use `newframe = frame.copy()`\n",
      "\n",
      "/tmp/ipykernel_341001/730082431.py:52: PerformanceWarning:\n",
      "\n",
      "DataFrame is highly fragmented.  This is usually the result of calling `frame.insert` many times, which has poor performance.  Consider joining all columns at once using pd.concat(axis=1) instead. To get a de-fragmented frame, use `newframe = frame.copy()`\n",
      "\n",
      "/tmp/ipykernel_341001/730082431.py:53: PerformanceWarning:\n",
      "\n",
      "DataFrame is highly fragmented.  This is usually the result of calling `frame.insert` many times, which has poor performance.  Consider joining all columns at once using pd.concat(axis=1) instead. To get a de-fragmented frame, use `newframe = frame.copy()`\n",
      "\n",
      "/tmp/ipykernel_341001/730082431.py:54: PerformanceWarning:\n",
      "\n",
      "DataFrame is highly fragmented.  This is usually the result of calling `frame.insert` many times, which has poor performance.  Consider joining all columns at once using pd.concat(axis=1) instead. To get a de-fragmented frame, use `newframe = frame.copy()`\n",
      "\n",
      "/tmp/ipykernel_341001/730082431.py:55: PerformanceWarning:\n",
      "\n",
      "DataFrame is highly fragmented.  This is usually the result of calling `frame.insert` many times, which has poor performance.  Consider joining all columns at once using pd.concat(axis=1) instead. To get a de-fragmented frame, use `newframe = frame.copy()`\n",
      "\n",
      "/tmp/ipykernel_341001/730082431.py:56: PerformanceWarning:\n",
      "\n",
      "DataFrame is highly fragmented.  This is usually the result of calling `frame.insert` many times, which has poor performance.  Consider joining all columns at once using pd.concat(axis=1) instead. To get a de-fragmented frame, use `newframe = frame.copy()`\n",
      "\n",
      "/tmp/ipykernel_341001/730082431.py:57: PerformanceWarning:\n",
      "\n",
      "DataFrame is highly fragmented.  This is usually the result of calling `frame.insert` many times, which has poor performance.  Consider joining all columns at once using pd.concat(axis=1) instead. To get a de-fragmented frame, use `newframe = frame.copy()`\n",
      "\n",
      "/tmp/ipykernel_341001/730082431.py:58: PerformanceWarning:\n",
      "\n",
      "DataFrame is highly fragmented.  This is usually the result of calling `frame.insert` many times, which has poor performance.  Consider joining all columns at once using pd.concat(axis=1) instead. To get a de-fragmented frame, use `newframe = frame.copy()`\n",
      "\n",
      "/tmp/ipykernel_341001/730082431.py:59: PerformanceWarning:\n",
      "\n",
      "DataFrame is highly fragmented.  This is usually the result of calling `frame.insert` many times, which has poor performance.  Consider joining all columns at once using pd.concat(axis=1) instead. To get a de-fragmented frame, use `newframe = frame.copy()`\n",
      "\n",
      "/tmp/ipykernel_341001/730082431.py:60: PerformanceWarning:\n",
      "\n",
      "DataFrame is highly fragmented.  This is usually the result of calling `frame.insert` many times, which has poor performance.  Consider joining all columns at once using pd.concat(axis=1) instead. To get a de-fragmented frame, use `newframe = frame.copy()`\n",
      "\n",
      "/tmp/ipykernel_341001/730082431.py:61: PerformanceWarning:\n",
      "\n",
      "DataFrame is highly fragmented.  This is usually the result of calling `frame.insert` many times, which has poor performance.  Consider joining all columns at once using pd.concat(axis=1) instead. To get a de-fragmented frame, use `newframe = frame.copy()`\n",
      "\n",
      "/tmp/ipykernel_341001/730082431.py:62: PerformanceWarning:\n",
      "\n",
      "DataFrame is highly fragmented.  This is usually the result of calling `frame.insert` many times, which has poor performance.  Consider joining all columns at once using pd.concat(axis=1) instead. To get a de-fragmented frame, use `newframe = frame.copy()`\n",
      "\n"
     ]
    }
   ],
   "source": [
    "def parse_run_name(x):\n",
    "    dico = {}\n",
    "    vec = x.split('_')\n",
    "    dico['Department'] = vec[0]\n",
    "    dico['Model'] = vec[1]\n",
    "    i = 2\n",
    "    if dico['Model']  == 'fwi':\n",
    "        i += 1\n",
    "        dico['Target'] = 'indice'\n",
    "    else:\n",
    "        dico['Target'] = vec[i]\n",
    "        i += 1\n",
    "    if dico['Model'] != 'fwi':\n",
    "        dico['Task_type'] = vec[i]\n",
    "        i += 1\n",
    "        dico['loss'] = vec[i]\n",
    "        i += 1\n",
    "        if vec[i] == 'features':\n",
    "            i += 1\n",
    "    else:\n",
    "        dico['loss'] = None\n",
    "        dico['Task_type'] = 'Indice'\n",
    "\n",
    "    dico['Number_of_samples'] = vec[i]\n",
    "    i += 1\n",
    "    dico['k_days'] = vec[i]\n",
    "    i += 1\n",
    "    dico['Number_of_features'] = vec[i]\n",
    "    i += 1\n",
    "    dico['Scale'] = vec[i]\n",
    "    i += 1\n",
    "    dico['Days_in_futur'] = vec[i]\n",
    "    i += 1\n",
    "    dico['Base'] = vec[i]\n",
    "    i += 1\n",
    "    dico['Method'] = vec[i]\n",
    "    i += 1\n",
    "    if vec[i] == 'kmeans':\n",
    "        i += 1\n",
    "        dico['kmeans_shift'] = vec[i]\n",
    "        i += 1\n",
    "        dico['kmeans_thresh'] = vec[i]\n",
    "        i += 1\n",
    "    dico['weight'] = vec[i]\n",
    "    return dico\n",
    "\n",
    "# Initialisation des colonnes avec des valeurs None\n",
    "df['Department'] = None\n",
    "df['Model'] = None\n",
    "df['Target'] = None\n",
    "df['Task_type'] = None\n",
    "df['Loss_function'] = None\n",
    "df['Number_of_samples'] = None\n",
    "df['kdays'] = None\n",
    "df['Number_of_features'] = None\n",
    "df['Scale'] = None\n",
    "df['Base'] = None\n",
    "df['Method'] = None\n",
    "df['Days_in_futur'] = None\n",
    "df['weight'] = None\n",
    "df['kmeans_thresh'] = None\n",
    "df['kmeans_shift'] = None\n",
    "\n",
    "# Boucle pour remplir les colonnes avec les valeurs de dico_parse\n",
    "for index, row in df.iterrows():\n",
    "    dico_parse = parse_run_name(row['Run'])\n",
    "    \n",
    "    # Mise à jour de chaque colonne avec les valeurs du dictionnaire dico_parse\n",
    "    df.loc[index, 'Department'] = dico_parse.get('Department')\n",
    "    df.loc[index, 'Model'] = dico_parse.get('Model')\n",
    "    df.loc[index, 'Target'] = dico_parse.get('Target')\n",
    "    df.loc[index, 'Task_type'] = dico_parse.get('Task_type')\n",
    "    df.loc[index, 'Loss_function'] = dico_parse.get('loss')\n",
    "    df.loc[index, 'Number_of_samples'] = dico_parse.get('Number_of_samples')\n",
    "    df.loc[index, 'kdays'] = dico_parse.get('kdays')\n",
    "    df.loc[index, 'Number_of_features'] = dico_parse.get('Number_of_features')\n",
    "    df.loc[index, 'Scale'] = dico_parse.get('Scale')\n",
    "    df.loc[index, 'Base'] = dico_parse.get('Base')\n",
    "    df.loc[index, 'Method'] = dico_parse.get('Method')\n",
    "    df.loc[index, 'Days_in_futur'] = dico_parse.get('Days_in_futur')\n",
    "\n",
    "    df.loc[index, 'weight'] = dico_parse.get('weight')\n",
    "    df.loc[index, 'kmeans_thresh'] = dico_parse.get('kmeans_thresh', 0)\n",
    "    df.loc[index, 'kmeans_shift'] = dico_parse.get('kmeans_shift', 0)"
   ]
  },
  {
   "cell_type": "code",
   "execution_count": 93,
   "metadata": {},
   "outputs": [],
   "source": [
    "import seaborn as sns\n",
    "\n",
    "def compare_models2(df, depts, dept_markers, metrics, col_to_analyse, dir_output, suffix):\n",
    "    task_types = df[col_to_analyse].unique()\n",
    "\n",
    "    np.random.seed(42)  # Pour rendre le code reproductible (vous pouvez le changer ou le retirer)\n",
    "    colors = sns.color_palette(\"husl\", len(task_types))  # Palette de couleurs diversifiée et aléatoire\n",
    "\n",
    "    #Associer chaque modèle à une couleur\n",
    "    task_colors = dict(zip(task_types, colors))\n",
    "    # Create a new figure for all departments\n",
    "    fig, axs = plt.subplots(len(depts), len(metrics), figsize=(15, 3 * len(depts)), sharey='row')\n",
    "\n",
    "    # Loop through each department\n",
    "    for dept_index, dept in enumerate(depts):\n",
    "        # Filtering the DataFrame for a specific department\n",
    "        df_filtered = df[df['Department'].isin([dept])].reset_index()\n",
    "\n",
    "        # Loop through each metric to create a subplot for each metric\n",
    "        for metric_index, metric in enumerate(metrics):\n",
    "            ax = axs[dept_index, metric_index] if len(depts) > 1 else axs[metric_index]\n",
    "            for method in task_types:\n",
    "                subset = df_filtered[df_filtered[col_to_analyse] == method]\n",
    "\n",
    "                if len(subset) == 0:\n",
    "                    continue\n",
    "\n",
    "                subset = subset.sort_values(col_to_analyse)\n",
    "                \n",
    "                # Add label only for the first occurrence of each method\n",
    "                label = method if dept_index == 0 else None  # Only show labels for the first department\n",
    "                ax.plot(subset[col_to_analyse].values, subset[metric].values, marker=dept_markers[dept], linestyle='-', \n",
    "                        label=label, color=task_colors[method])  # Use task type color\n",
    "                \n",
    "            # Configuration for each subplot\n",
    "            ax.set_ylim(0, 1)\n",
    "            ax.set_xlabel(col_to_analyse)\n",
    "            if dept_index == 0:  # Only set the title for the first row\n",
    "                ax.set_title(f'{metric}', fontsize=12)\n",
    "            #ax.set_xticks(subset[col_to_analyse].values, rotation=45)\n",
    "            ax.grid(True)\n",
    "\n",
    "        axs[dept_index, 0].set_ylabel('Metric Value')\n",
    "\n",
    "    # Create a custom legend for task types and departments\n",
    "    task_handles = [plt.Line2D([0], [0], color=task_colors[method], label=method) for method in task_types]\n",
    "    dept_handles = [plt.Line2D([0], [0], marker=dept_markers[dept], linestyle='None', color='black', label=dept) for dept in depts]\n",
    "\n",
    "    # Combine both legends\n",
    "    fig.legend(handles=task_handles + dept_handles, loc='center left', bbox_to_anchor=(0.85, 0.85), title=\"Legend\")\n",
    "\n",
    "    plt.tight_layout(rect=[0, 0, 0.85, 1])  # Adjust layout to make room for the legend\n",
    "    plt.savefig(dir_output / f'{col_to_analyse}_{suffix}.png')"
   ]
  },
  {
   "cell_type": "code",
   "execution_count": 94,
   "metadata": {},
   "outputs": [
    {
     "data": {
      "image/png": "[encoded data removed]",
      "text/plain": [
       "<Figure size 1500x900 with 9 Axes>"
      ]
     },
     "metadata": {},
     "output_type": "display_data"
    }
   ],
   "source": [
    "# Define markers for each department\n",
    "dept_markers = {\n",
    "    'departement-01-ain': 'o',   # Circle\n",
    "    'departement-25-doubs': 's',   # Square\n",
    "    'departement-78-yvelines': 'D',   # Diamond\n",
    "    # Add more departments and their markers as needed\n",
    "}\n",
    "metrics =  ['bad_prediction_modified_nbsinister_max_1', 'wildfire_over_predicted_modified_nbsinister_max_1', 'iou_modified_nbsinister_max_1']\n",
    "\n",
    "compare_models2(df, df.Department.unique(), dept_markers, metrics, 'Model', Path('./'), '1')"
   ]
  },
  {
   "cell_type": "code",
   "execution_count": 95,
   "metadata": {},
   "outputs": [
    {
     "data": {
      "image/png": "[encoded data removed]",
      "text/plain": [
       "<Figure size 1500x900 with 6 Axes>"
      ]
     },
     "metadata": {},
     "output_type": "display_data"
    }
   ],
   "source": [
    "metrics =  ['apr_nbsinister_max_1', 'r2_nbsinister_max_1']\n",
    "\n",
    "compare_models2(df, df.Department.unique(), dept_markers, metrics, 'Model', Path('./'), '1')"
   ]
  },
  {
   "cell_type": "code",
   "execution_count": 96,
   "metadata": {},
   "outputs": [
    {
     "data": {
      "image/png": "[encoded data removed]",
      "text/plain": [
       "<Figure size 1500x900 with 6 Axes>"
      ]
     },
     "metadata": {},
     "output_type": "display_data"
    }
   ],
   "source": [
    "metrics =  ['apr_nbsinister_max_1', 'r2_nbsinister_max_1']\n",
    "\n",
    "compare_models2(df, df.Department.unique(), dept_markers, metrics, 'Scale', Path('./'), '1')"
   ]
  },
  {
   "cell_type": "code",
   "execution_count": 97,
   "metadata": {},
   "outputs": [],
   "source": [
    "import plotly.graph_objects as go\n",
    "import pandas as pd\n",
    "import numpy as np\n",
    "import plotly.express as px  # Utilisé pour générer une palette de couleurs\n",
    "\n",
    "def compare_models_2d(df, depts, dept_markers, metrics, col_to_analyse_1, col_to_analyse_2, col_link):\n",
    "    \"\"\"\n",
    "    Compare models in 2D with the third dimension being the metric plotted as an axis.\n",
    "    Points with the same value in `col_link` are connected in increasing order with a different color.\n",
    "    Each plot is interactive and can be moved independently using Plotly.\n",
    "\n",
    "    :param df: DataFrame containing the data.\n",
    "    :param depts: List of departments to analyze.\n",
    "    :param dept_markers: Dictionary mapping departments to plot markers.\n",
    "    :param metrics: List of metrics to plot as Z-axis.\n",
    "    :param col_to_analyse_1: First column to analyze on X-axis.\n",
    "    :param col_to_analyse_2: Second column to analyze on Y-axis.\n",
    "    :param col_link: Column used to connect points in the same group.\n",
    "    \"\"\"\n",
    "    # Encode string values in col_to_analyse_1 and col_to_analyse_2 if necessary\n",
    "    def encode_column(df, col_name):\n",
    "        if df[col_name].dtype == 'object':  # Check if column is string-based\n",
    "            unique_values = df[col_name].unique()\n",
    "            value_map = {val: idx for idx, val in enumerate(unique_values)}\n",
    "            df[f\"{col_name}_encoded\"] = df[col_name].map(value_map)\n",
    "            return value_map  # Return the mapping for decoding\n",
    "        else:\n",
    "            df[f\"{col_name}_encoded\"] = df[col_name]  # Keep the original if numeric\n",
    "            return None\n",
    "\n",
    "    map_1 = encode_column(df, col_to_analyse_1)\n",
    "    map_2 = encode_column(df, col_to_analyse_2)\n",
    "\n",
    "    # Generate a unique color for each unique value in col_link\n",
    "    unique_links = df[col_link].unique()\n",
    "    colors = px.colors.qualitative.Plotly[:len(unique_links)]\n",
    "\n",
    "    # Map each unique link to a specific color\n",
    "    color_map = {link: colors[i % len(colors)] for i, link in enumerate(unique_links)}\n",
    "\n",
    "    for dept in depts:\n",
    "        df_filtered = df[df['Department'] == dept]\n",
    "\n",
    "        for metric in metrics:\n",
    "            fig = go.Figure()\n",
    "\n",
    "            # Add a trace for each unique value in col_link (to connect points belonging to the same group)\n",
    "            for link_value in df_filtered[col_link].unique():\n",
    "                subset = df_filtered[df_filtered[col_link] == link_value]\n",
    "\n",
    "                # Sort the subset by the encoded columns for ordered plotting\n",
    "                subset = subset.sort_values(by=[f\"{col_to_analyse_1}_encoded\", f\"{col_to_analyse_2}_encoded\"])\n",
    "\n",
    "                fig.add_trace(go.Scatter3d(\n",
    "                    x=subset[f\"{col_to_analyse_1}_encoded\"],\n",
    "                    y=subset[f\"{col_to_analyse_2}_encoded\"],\n",
    "                    z=subset[metric],  # Plot original metric values on the Z-axis\n",
    "                    mode='lines+markers',\n",
    "                    marker=dict(\n",
    "                        size=8,\n",
    "                        color=color_map[link_value],  # Assign a unique color for each line\n",
    "                    ),\n",
    "                    line=dict(\n",
    "                        color=color_map[link_value],  # Use the same color for the line\n",
    "                        width=3  # Line width\n",
    "                    ),\n",
    "                    name=f\"{dept} - {metric} - {link_value}\",\n",
    "                ))\n",
    "\n",
    "            # Update the layout to add titles and axis labels for 3D scatter plot\n",
    "            fig.update_layout(\n",
    "                scene=dict(\n",
    "                    xaxis=dict(\n",
    "                        title=col_to_analyse_1,\n",
    "                        tickvals=list(map_1.values()) if map_1 else None,\n",
    "                        ticktext=list(map_1.keys()) if map_1 else None\n",
    "                    ),\n",
    "                    yaxis=dict(\n",
    "                        title=col_to_analyse_2,\n",
    "                        tickvals=list(map_2.values()) if map_2 else None,\n",
    "                        ticktext=list(map_2.keys()) if map_2 else None\n",
    "                    ),\n",
    "                    zaxis_title='Metric',\n",
    "                ),\n",
    "                title=f\"3D Comparison for {dept} - {metric}\",\n",
    "                height=700,\n",
    "                width=1000\n",
    "            )\n",
    "\n",
    "            # Show the plot for this specific department and metric\n",
    "            fig.show()\n"
   ]
  },
  {
   "cell_type": "code",
   "execution_count": 98,
   "metadata": {},
   "outputs": [],
   "source": [
    "df.loc[df[df['Scale'] == 'departement'].index, 'Scale'] = 10"
   ]
  },
  {
   "cell_type": "code",
   "execution_count": 99,
   "metadata": {},
   "outputs": [
    {
     "name": "stdout",
     "output_type": "stream",
     "text": [
      "Unnamed: 0\n",
      "Run\n",
      "apr_nbsinister_max_1\n",
      "r2_nbsinister_max_1\n",
      "KS_nbsinister_max_1\n",
      "ks_1.0_nbsinister_max_1\n",
      "ks_2.0_nbsinister_max_1\n",
      "ks_3.0_nbsinister_max_1\n",
      "ks_4.0_nbsinister_max_1\n",
      "mae_raw_nbsinister_max_1\n",
      "mse_raw_nbsinister_max_1\n",
      "mae_fire_raw_nbsinister_max_1\n",
      "mse_fire_raw_nbsinister_max_1\n",
      "common_area_raw_nbsinister_max_1\n",
      "union_area_raw_nbsinister_max_1\n",
      "under_predicted_area_raw_nbsinister_max_1\n",
      "over_predicted_area_raw_nbsinister_max_1\n",
      "iou_raw_nbsinister_max_1\n",
      "iou_under_prediction_raw_nbsinister_max_1\n",
      "iou_over_prediction_raw_nbsinister_max_1\n",
      "wildfire_predicted_raw_nbsinister_max_1\n",
      "wildfire_supposed_raw_nbsinister_max_1\n",
      "wildfire_over_predicted_raw_nbsinister_max_1\n",
      "wildfire_under_predicted_raw_nbsinister_max_1\n",
      "over_bad_prediction_raw_nbsinister_max_1\n",
      "under_bad_prediction_raw_nbsinister_max_1\n",
      "bad_prediction_raw_nbsinister_max_1\n",
      "common_area_day_raw_nbsinister_max_1\n",
      "union_area_day_raw_nbsinister_max_1\n",
      "under_predicted_area_day_raw_nbsinister_max_1\n",
      "over_predicted_area_day_raw_nbsinister_max_1\n",
      "iou_day_raw_nbsinister_max_1\n",
      "iou_under_prediction_day_raw_nbsinister_max_1\n",
      "iou_over_prediction_day_raw_nbsinister_max_1\n",
      "wildfire_predicted_day_raw_nbsinister_max_1\n",
      "wildfire_supposed_day_raw_nbsinister_max_1\n",
      "wildfire_over_predicted_day_raw_nbsinister_max_1\n",
      "wildfire_under_predicted_day_raw_nbsinister_max_1\n",
      "over_bad_prediction_day_raw_nbsinister_max_1\n",
      "under_bad_prediction_day_raw_nbsinister_max_1\n",
      "bad_prediction_day_raw_nbsinister_max_1\n",
      "iou_0.0_0_raw_nbsinister_max_1\n",
      "iou_under_prediction_0.0_0_raw_nbsinister_max_1\n",
      "iou_over_prediction_0.0_0_raw_nbsinister_max_1\n",
      "wildfire_predicted_0.0_0_raw_nbsinister_max_1\n",
      "wildfire_supposed_0.0_0_raw_nbsinister_max_1\n",
      "wildfire_over_predicted_0.0_0_raw_nbsinister_max_1\n",
      "wildfire_under_predicted_0.0_0_raw_nbsinister_max_1\n",
      "over_bad_prediction_unique_0.0_0_raw_nbsinister_max_1\n",
      "under_bad_prediction_unique_0.0_0_raw_nbsinister_max_1\n",
      "bad_prediction_unique_0.0_0_raw_nbsinister_max_1\n",
      "over_bad_prediction_global_0.0_0_raw_nbsinister_max_1\n",
      "under_bad_prediction_global_0.0_0_raw_nbsinister_max_1\n",
      "bad_prediction_global_0.0_0_raw_nbsinister_max_1\n",
      "iou_1.0_1_raw_nbsinister_max_1\n",
      "iou_under_prediction_1.0_1_raw_nbsinister_max_1\n",
      "iou_over_prediction_1.0_1_raw_nbsinister_max_1\n",
      "wildfire_predicted_1.0_1_raw_nbsinister_max_1\n",
      "wildfire_supposed_1.0_1_raw_nbsinister_max_1\n",
      "wildfire_over_predicted_1.0_1_raw_nbsinister_max_1\n",
      "wildfire_under_predicted_1.0_1_raw_nbsinister_max_1\n",
      "over_bad_prediction_unique_1.0_1_raw_nbsinister_max_1\n",
      "under_bad_prediction_unique_1.0_1_raw_nbsinister_max_1\n",
      "bad_prediction_unique_1.0_1_raw_nbsinister_max_1\n",
      "over_bad_prediction_global_1.0_1_raw_nbsinister_max_1\n",
      "under_bad_prediction_global_1.0_1_raw_nbsinister_max_1\n",
      "bad_prediction_global_1.0_1_raw_nbsinister_max_1\n",
      "iou_2.0_2_raw_nbsinister_max_1\n",
      "iou_under_prediction_2.0_2_raw_nbsinister_max_1\n",
      "iou_over_prediction_2.0_2_raw_nbsinister_max_1\n",
      "wildfire_predicted_2.0_2_raw_nbsinister_max_1\n",
      "wildfire_supposed_2.0_2_raw_nbsinister_max_1\n",
      "wildfire_over_predicted_2.0_2_raw_nbsinister_max_1\n",
      "wildfire_under_predicted_2.0_2_raw_nbsinister_max_1\n",
      "over_bad_prediction_unique_2.0_2_raw_nbsinister_max_1\n",
      "under_bad_prediction_unique_2.0_2_raw_nbsinister_max_1\n",
      "bad_prediction_unique_2.0_2_raw_nbsinister_max_1\n",
      "over_bad_prediction_global_2.0_2_raw_nbsinister_max_1\n",
      "under_bad_prediction_global_2.0_2_raw_nbsinister_max_1\n",
      "bad_prediction_global_2.0_2_raw_nbsinister_max_1\n",
      "iou_3.0_3_raw_nbsinister_max_1\n",
      "iou_under_prediction_3.0_3_raw_nbsinister_max_1\n",
      "iou_over_prediction_3.0_3_raw_nbsinister_max_1\n",
      "wildfire_predicted_3.0_3_raw_nbsinister_max_1\n",
      "wildfire_supposed_3.0_3_raw_nbsinister_max_1\n",
      "wildfire_over_predicted_3.0_3_raw_nbsinister_max_1\n",
      "wildfire_under_predicted_3.0_3_raw_nbsinister_max_1\n",
      "over_bad_prediction_unique_3.0_3_raw_nbsinister_max_1\n",
      "under_bad_prediction_unique_3.0_3_raw_nbsinister_max_1\n",
      "bad_prediction_unique_3.0_3_raw_nbsinister_max_1\n",
      "over_bad_prediction_global_3.0_3_raw_nbsinister_max_1\n",
      "under_bad_prediction_global_3.0_3_raw_nbsinister_max_1\n",
      "bad_prediction_global_3.0_3_raw_nbsinister_max_1\n",
      "accuracy_nbsinister_max_1\n",
      "mae_nbsinister_max_1\n",
      "mse_nbsinister_max_1\n",
      "mae_fire_nbsinister_max_1\n",
      "mse_fire_nbsinister_max_1\n",
      "common_area_modified_nbsinister_max_1\n",
      "union_area_modified_nbsinister_max_1\n",
      "under_predicted_area_modified_nbsinister_max_1\n",
      "over_predicted_area_modified_nbsinister_max_1\n",
      "iou_modified_nbsinister_max_1\n",
      "iou_under_prediction_modified_nbsinister_max_1\n",
      "iou_over_prediction_modified_nbsinister_max_1\n",
      "wildfire_predicted_modified_nbsinister_max_1\n",
      "wildfire_supposed_modified_nbsinister_max_1\n",
      "wildfire_over_predicted_modified_nbsinister_max_1\n",
      "wildfire_under_predicted_modified_nbsinister_max_1\n",
      "over_bad_prediction_modified_nbsinister_max_1\n",
      "under_bad_prediction_modified_nbsinister_max_1\n",
      "bad_prediction_modified_nbsinister_max_1\n",
      "common_area_day_modified_nbsinister_max_1\n",
      "union_area_day_modified_nbsinister_max_1\n",
      "under_predicted_area_day_modified_nbsinister_max_1\n",
      "over_predicted_area_day_modified_nbsinister_max_1\n",
      "iou_day_modified_nbsinister_max_1\n",
      "iou_under_prediction_day_modified_nbsinister_max_1\n",
      "iou_over_prediction_day_modified_nbsinister_max_1\n",
      "wildfire_predicted_day_modified_nbsinister_max_1\n",
      "wildfire_supposed_day_modified_nbsinister_max_1\n",
      "wildfire_over_predicted_day_modified_nbsinister_max_1\n",
      "wildfire_under_predicted_day_modified_nbsinister_max_1\n",
      "over_bad_prediction_day_modified_nbsinister_max_1\n",
      "under_bad_prediction_day_modified_nbsinister_max_1\n",
      "bad_prediction_day_modified_nbsinister_max_1\n",
      "iou_0.0_0_modified_nbsinister_max_1\n",
      "iou_under_prediction_0.0_0_modified_nbsinister_max_1\n",
      "iou_over_prediction_0.0_0_modified_nbsinister_max_1\n",
      "wildfire_predicted_0.0_0_modified_nbsinister_max_1\n",
      "wildfire_supposed_0.0_0_modified_nbsinister_max_1\n",
      "wildfire_over_predicted_0.0_0_modified_nbsinister_max_1\n",
      "wildfire_under_predicted_0.0_0_modified_nbsinister_max_1\n",
      "over_bad_prediction_unique_0.0_0_modified_nbsinister_max_1\n",
      "under_bad_prediction_unique_0.0_0_modified_nbsinister_max_1\n",
      "bad_prediction_unique_0.0_0_modified_nbsinister_max_1\n",
      "over_bad_prediction_global_0.0_0_modified_nbsinister_max_1\n",
      "under_bad_prediction_global_0.0_0_modified_nbsinister_max_1\n",
      "bad_prediction_global_0.0_0_modified_nbsinister_max_1\n",
      "iou_1.0_1_modified_nbsinister_max_1\n",
      "iou_under_prediction_1.0_1_modified_nbsinister_max_1\n",
      "iou_over_prediction_1.0_1_modified_nbsinister_max_1\n",
      "wildfire_predicted_1.0_1_modified_nbsinister_max_1\n",
      "wildfire_supposed_1.0_1_modified_nbsinister_max_1\n",
      "wildfire_over_predicted_1.0_1_modified_nbsinister_max_1\n",
      "wildfire_under_predicted_1.0_1_modified_nbsinister_max_1\n",
      "over_bad_prediction_unique_1.0_1_modified_nbsinister_max_1\n",
      "under_bad_prediction_unique_1.0_1_modified_nbsinister_max_1\n",
      "bad_prediction_unique_1.0_1_modified_nbsinister_max_1\n",
      "over_bad_prediction_global_1.0_1_modified_nbsinister_max_1\n",
      "under_bad_prediction_global_1.0_1_modified_nbsinister_max_1\n",
      "bad_prediction_global_1.0_1_modified_nbsinister_max_1\n",
      "iou_2.0_2_modified_nbsinister_max_1\n",
      "iou_under_prediction_2.0_2_modified_nbsinister_max_1\n",
      "iou_over_prediction_2.0_2_modified_nbsinister_max_1\n",
      "wildfire_predicted_2.0_2_modified_nbsinister_max_1\n",
      "wildfire_supposed_2.0_2_modified_nbsinister_max_1\n",
      "wildfire_over_predicted_2.0_2_modified_nbsinister_max_1\n",
      "wildfire_under_predicted_2.0_2_modified_nbsinister_max_1\n",
      "over_bad_prediction_unique_2.0_2_modified_nbsinister_max_1\n",
      "under_bad_prediction_unique_2.0_2_modified_nbsinister_max_1\n",
      "bad_prediction_unique_2.0_2_modified_nbsinister_max_1\n",
      "over_bad_prediction_global_2.0_2_modified_nbsinister_max_1\n",
      "under_bad_prediction_global_2.0_2_modified_nbsinister_max_1\n",
      "bad_prediction_global_2.0_2_modified_nbsinister_max_1\n",
      "iou_3.0_3_modified_nbsinister_max_1\n",
      "iou_under_prediction_3.0_3_modified_nbsinister_max_1\n",
      "iou_over_prediction_3.0_3_modified_nbsinister_max_1\n",
      "wildfire_predicted_3.0_3_modified_nbsinister_max_1\n",
      "wildfire_supposed_3.0_3_modified_nbsinister_max_1\n",
      "wildfire_over_predicted_3.0_3_modified_nbsinister_max_1\n",
      "wildfire_under_predicted_3.0_3_modified_nbsinister_max_1\n",
      "over_bad_prediction_unique_3.0_3_modified_nbsinister_max_1\n",
      "under_bad_prediction_unique_3.0_3_modified_nbsinister_max_1\n",
      "bad_prediction_unique_3.0_3_modified_nbsinister_max_1\n",
      "over_bad_prediction_global_3.0_3_modified_nbsinister_max_1\n",
      "under_bad_prediction_global_3.0_3_modified_nbsinister_max_1\n",
      "bad_prediction_global_3.0_3_modified_nbsinister_max_1\n",
      "ks_5.0_nbsinister_max_1\n",
      "ks_6.0_nbsinister_max_1\n",
      "iou_4.0_0_raw_nbsinister_max_1\n",
      "iou_under_prediction_4.0_0_raw_nbsinister_max_1\n",
      "iou_over_prediction_4.0_0_raw_nbsinister_max_1\n",
      "wildfire_predicted_4.0_0_raw_nbsinister_max_1\n",
      "wildfire_supposed_4.0_0_raw_nbsinister_max_1\n",
      "wildfire_over_predicted_4.0_0_raw_nbsinister_max_1\n",
      "wildfire_under_predicted_4.0_0_raw_nbsinister_max_1\n",
      "over_bad_prediction_unique_4.0_0_raw_nbsinister_max_1\n",
      "under_bad_prediction_unique_4.0_0_raw_nbsinister_max_1\n",
      "bad_prediction_unique_4.0_0_raw_nbsinister_max_1\n",
      "over_bad_prediction_global_4.0_0_raw_nbsinister_max_1\n",
      "under_bad_prediction_global_4.0_0_raw_nbsinister_max_1\n",
      "bad_prediction_global_4.0_0_raw_nbsinister_max_1\n",
      "iou_5.0_1_raw_nbsinister_max_1\n",
      "iou_under_prediction_5.0_1_raw_nbsinister_max_1\n",
      "iou_over_prediction_5.0_1_raw_nbsinister_max_1\n",
      "wildfire_predicted_5.0_1_raw_nbsinister_max_1\n",
      "wildfire_supposed_5.0_1_raw_nbsinister_max_1\n",
      "wildfire_over_predicted_5.0_1_raw_nbsinister_max_1\n",
      "wildfire_under_predicted_5.0_1_raw_nbsinister_max_1\n",
      "over_bad_prediction_unique_5.0_1_raw_nbsinister_max_1\n",
      "under_bad_prediction_unique_5.0_1_raw_nbsinister_max_1\n",
      "bad_prediction_unique_5.0_1_raw_nbsinister_max_1\n",
      "over_bad_prediction_global_5.0_1_raw_nbsinister_max_1\n",
      "under_bad_prediction_global_5.0_1_raw_nbsinister_max_1\n",
      "bad_prediction_global_5.0_1_raw_nbsinister_max_1\n",
      "iou_6.0_2_raw_nbsinister_max_1\n",
      "iou_under_prediction_6.0_2_raw_nbsinister_max_1\n",
      "iou_over_prediction_6.0_2_raw_nbsinister_max_1\n",
      "wildfire_predicted_6.0_2_raw_nbsinister_max_1\n",
      "wildfire_supposed_6.0_2_raw_nbsinister_max_1\n",
      "wildfire_over_predicted_6.0_2_raw_nbsinister_max_1\n",
      "wildfire_under_predicted_6.0_2_raw_nbsinister_max_1\n",
      "over_bad_prediction_unique_6.0_2_raw_nbsinister_max_1\n",
      "under_bad_prediction_unique_6.0_2_raw_nbsinister_max_1\n",
      "bad_prediction_unique_6.0_2_raw_nbsinister_max_1\n",
      "over_bad_prediction_global_6.0_2_raw_nbsinister_max_1\n",
      "under_bad_prediction_global_6.0_2_raw_nbsinister_max_1\n",
      "bad_prediction_global_6.0_2_raw_nbsinister_max_1\n",
      "iou_7.0_3_raw_nbsinister_max_1\n",
      "iou_under_prediction_7.0_3_raw_nbsinister_max_1\n",
      "iou_over_prediction_7.0_3_raw_nbsinister_max_1\n",
      "wildfire_predicted_7.0_3_raw_nbsinister_max_1\n",
      "wildfire_supposed_7.0_3_raw_nbsinister_max_1\n",
      "wildfire_over_predicted_7.0_3_raw_nbsinister_max_1\n",
      "wildfire_under_predicted_7.0_3_raw_nbsinister_max_1\n",
      "over_bad_prediction_unique_7.0_3_raw_nbsinister_max_1\n",
      "under_bad_prediction_unique_7.0_3_raw_nbsinister_max_1\n",
      "bad_prediction_unique_7.0_3_raw_nbsinister_max_1\n",
      "over_bad_prediction_global_7.0_3_raw_nbsinister_max_1\n",
      "under_bad_prediction_global_7.0_3_raw_nbsinister_max_1\n",
      "bad_prediction_global_7.0_3_raw_nbsinister_max_1\n",
      "iou_4.0_0_modified_nbsinister_max_1\n",
      "iou_under_prediction_4.0_0_modified_nbsinister_max_1\n",
      "iou_over_prediction_4.0_0_modified_nbsinister_max_1\n",
      "wildfire_predicted_4.0_0_modified_nbsinister_max_1\n",
      "wildfire_supposed_4.0_0_modified_nbsinister_max_1\n",
      "wildfire_over_predicted_4.0_0_modified_nbsinister_max_1\n",
      "wildfire_under_predicted_4.0_0_modified_nbsinister_max_1\n",
      "over_bad_prediction_unique_4.0_0_modified_nbsinister_max_1\n",
      "under_bad_prediction_unique_4.0_0_modified_nbsinister_max_1\n",
      "bad_prediction_unique_4.0_0_modified_nbsinister_max_1\n",
      "over_bad_prediction_global_4.0_0_modified_nbsinister_max_1\n",
      "under_bad_prediction_global_4.0_0_modified_nbsinister_max_1\n",
      "bad_prediction_global_4.0_0_modified_nbsinister_max_1\n",
      "iou_5.0_1_modified_nbsinister_max_1\n",
      "iou_under_prediction_5.0_1_modified_nbsinister_max_1\n",
      "iou_over_prediction_5.0_1_modified_nbsinister_max_1\n",
      "wildfire_predicted_5.0_1_modified_nbsinister_max_1\n",
      "wildfire_supposed_5.0_1_modified_nbsinister_max_1\n",
      "wildfire_over_predicted_5.0_1_modified_nbsinister_max_1\n",
      "wildfire_under_predicted_5.0_1_modified_nbsinister_max_1\n",
      "over_bad_prediction_unique_5.0_1_modified_nbsinister_max_1\n",
      "under_bad_prediction_unique_5.0_1_modified_nbsinister_max_1\n",
      "bad_prediction_unique_5.0_1_modified_nbsinister_max_1\n",
      "over_bad_prediction_global_5.0_1_modified_nbsinister_max_1\n",
      "under_bad_prediction_global_5.0_1_modified_nbsinister_max_1\n",
      "bad_prediction_global_5.0_1_modified_nbsinister_max_1\n",
      "iou_6.0_2_modified_nbsinister_max_1\n",
      "iou_under_prediction_6.0_2_modified_nbsinister_max_1\n",
      "iou_over_prediction_6.0_2_modified_nbsinister_max_1\n",
      "wildfire_predicted_6.0_2_modified_nbsinister_max_1\n",
      "wildfire_supposed_6.0_2_modified_nbsinister_max_1\n",
      "wildfire_over_predicted_6.0_2_modified_nbsinister_max_1\n",
      "wildfire_under_predicted_6.0_2_modified_nbsinister_max_1\n",
      "over_bad_prediction_unique_6.0_2_modified_nbsinister_max_1\n",
      "under_bad_prediction_unique_6.0_2_modified_nbsinister_max_1\n",
      "bad_prediction_unique_6.0_2_modified_nbsinister_max_1\n",
      "over_bad_prediction_global_6.0_2_modified_nbsinister_max_1\n",
      "under_bad_prediction_global_6.0_2_modified_nbsinister_max_1\n",
      "bad_prediction_global_6.0_2_modified_nbsinister_max_1\n",
      "iou_7.0_3_modified_nbsinister_max_1\n",
      "iou_under_prediction_7.0_3_modified_nbsinister_max_1\n",
      "iou_over_prediction_7.0_3_modified_nbsinister_max_1\n",
      "wildfire_predicted_7.0_3_modified_nbsinister_max_1\n",
      "wildfire_supposed_7.0_3_modified_nbsinister_max_1\n",
      "wildfire_over_predicted_7.0_3_modified_nbsinister_max_1\n",
      "wildfire_under_predicted_7.0_3_modified_nbsinister_max_1\n",
      "over_bad_prediction_unique_7.0_3_modified_nbsinister_max_1\n",
      "under_bad_prediction_unique_7.0_3_modified_nbsinister_max_1\n",
      "bad_prediction_unique_7.0_3_modified_nbsinister_max_1\n",
      "over_bad_prediction_global_7.0_3_modified_nbsinister_max_1\n",
      "under_bad_prediction_global_7.0_3_modified_nbsinister_max_1\n",
      "bad_prediction_global_7.0_3_modified_nbsinister_max_1\n",
      "ks_8.0_nbsinister_max_1\n",
      "iou_10.0_0_raw_nbsinister_max_1\n",
      "iou_under_prediction_10.0_0_raw_nbsinister_max_1\n",
      "iou_over_prediction_10.0_0_raw_nbsinister_max_1\n",
      "wildfire_predicted_10.0_0_raw_nbsinister_max_1\n",
      "wildfire_supposed_10.0_0_raw_nbsinister_max_1\n",
      "wildfire_over_predicted_10.0_0_raw_nbsinister_max_1\n",
      "wildfire_under_predicted_10.0_0_raw_nbsinister_max_1\n",
      "over_bad_prediction_unique_10.0_0_raw_nbsinister_max_1\n",
      "under_bad_prediction_unique_10.0_0_raw_nbsinister_max_1\n",
      "bad_prediction_unique_10.0_0_raw_nbsinister_max_1\n",
      "over_bad_prediction_global_10.0_0_raw_nbsinister_max_1\n",
      "under_bad_prediction_global_10.0_0_raw_nbsinister_max_1\n",
      "bad_prediction_global_10.0_0_raw_nbsinister_max_1\n",
      "iou_11.0_1_raw_nbsinister_max_1\n",
      "iou_under_prediction_11.0_1_raw_nbsinister_max_1\n",
      "iou_over_prediction_11.0_1_raw_nbsinister_max_1\n",
      "wildfire_predicted_11.0_1_raw_nbsinister_max_1\n",
      "wildfire_supposed_11.0_1_raw_nbsinister_max_1\n",
      "wildfire_over_predicted_11.0_1_raw_nbsinister_max_1\n",
      "wildfire_under_predicted_11.0_1_raw_nbsinister_max_1\n",
      "over_bad_prediction_unique_11.0_1_raw_nbsinister_max_1\n",
      "under_bad_prediction_unique_11.0_1_raw_nbsinister_max_1\n",
      "bad_prediction_unique_11.0_1_raw_nbsinister_max_1\n",
      "over_bad_prediction_global_11.0_1_raw_nbsinister_max_1\n",
      "under_bad_prediction_global_11.0_1_raw_nbsinister_max_1\n",
      "bad_prediction_global_11.0_1_raw_nbsinister_max_1\n",
      "iou_10.0_0_modified_nbsinister_max_1\n",
      "iou_under_prediction_10.0_0_modified_nbsinister_max_1\n",
      "iou_over_prediction_10.0_0_modified_nbsinister_max_1\n",
      "wildfire_predicted_10.0_0_modified_nbsinister_max_1\n",
      "wildfire_supposed_10.0_0_modified_nbsinister_max_1\n",
      "wildfire_over_predicted_10.0_0_modified_nbsinister_max_1\n",
      "wildfire_under_predicted_10.0_0_modified_nbsinister_max_1\n",
      "over_bad_prediction_unique_10.0_0_modified_nbsinister_max_1\n",
      "under_bad_prediction_unique_10.0_0_modified_nbsinister_max_1\n",
      "bad_prediction_unique_10.0_0_modified_nbsinister_max_1\n",
      "over_bad_prediction_global_10.0_0_modified_nbsinister_max_1\n",
      "under_bad_prediction_global_10.0_0_modified_nbsinister_max_1\n",
      "bad_prediction_global_10.0_0_modified_nbsinister_max_1\n",
      "iou_11.0_1_modified_nbsinister_max_1\n",
      "iou_under_prediction_11.0_1_modified_nbsinister_max_1\n",
      "iou_over_prediction_11.0_1_modified_nbsinister_max_1\n",
      "wildfire_predicted_11.0_1_modified_nbsinister_max_1\n",
      "wildfire_supposed_11.0_1_modified_nbsinister_max_1\n",
      "wildfire_over_predicted_11.0_1_modified_nbsinister_max_1\n",
      "wildfire_under_predicted_11.0_1_modified_nbsinister_max_1\n",
      "over_bad_prediction_unique_11.0_1_modified_nbsinister_max_1\n",
      "under_bad_prediction_unique_11.0_1_modified_nbsinister_max_1\n",
      "bad_prediction_unique_11.0_1_modified_nbsinister_max_1\n",
      "over_bad_prediction_global_11.0_1_modified_nbsinister_max_1\n",
      "under_bad_prediction_global_11.0_1_modified_nbsinister_max_1\n",
      "bad_prediction_global_11.0_1_modified_nbsinister_max_1\n",
      "source\n",
      "ks_1.0_saison_high_graph_0.0\n",
      "ks_2.0_saison_high_graph_0.0\n",
      "ks_3.0_saison_high_graph_0.0\n",
      "ks_4.0_saison_high_graph_0.0\n",
      "ks_5.0_saison_high_graph_0.0\n",
      "ks_8.0_saison_high_graph_0.0\n",
      "ks_1.0_saison_low_graph_0.0\n",
      "ks_2.0_saison_low_graph_0.0\n",
      "ks_3.0_saison_low_graph_0.0\n",
      "ks_4.0_saison_low_graph_0.0\n",
      "ks_5.0_saison_low_graph_0.0\n",
      "ks_8.0_saison_low_graph_0.0\n",
      "ks_1.0_saison_medium_graph_0.0\n",
      "ks_2.0_saison_medium_graph_0.0\n",
      "ks_3.0_saison_medium_graph_0.0\n",
      "ks_4.0_saison_medium_graph_0.0\n",
      "ks_5.0_saison_medium_graph_0.0\n",
      "ks_8.0_saison_medium_graph_0.0\n",
      "ks_1.0_saison_high_graph_1.0\n",
      "ks_2.0_saison_high_graph_1.0\n",
      "ks_3.0_saison_high_graph_1.0\n",
      "ks_4.0_saison_high_graph_1.0\n",
      "ks_5.0_saison_high_graph_1.0\n",
      "ks_6.0_saison_high_graph_1.0\n",
      "ks_7.0_saison_high_graph_1.0\n",
      "ks_8.0_saison_high_graph_1.0\n",
      "ks_1.0_saison_medium_graph_1.0\n",
      "ks_2.0_saison_medium_graph_1.0\n",
      "ks_3.0_saison_medium_graph_1.0\n",
      "ks_4.0_saison_medium_graph_1.0\n",
      "ks_5.0_saison_medium_graph_1.0\n",
      "ks_6.0_saison_medium_graph_1.0\n",
      "ks_7.0_saison_medium_graph_1.0\n",
      "ks_8.0_saison_medium_graph_1.0\n",
      "iou_1.0_0_raw_nbsinister_max_1\n",
      "iou_under_prediction_1.0_0_raw_nbsinister_max_1\n",
      "iou_over_prediction_1.0_0_raw_nbsinister_max_1\n",
      "wildfire_predicted_1.0_0_raw_nbsinister_max_1\n",
      "wildfire_supposed_1.0_0_raw_nbsinister_max_1\n",
      "wildfire_over_predicted_1.0_0_raw_nbsinister_max_1\n",
      "wildfire_under_predicted_1.0_0_raw_nbsinister_max_1\n",
      "over_bad_prediction_unique_1.0_0_raw_nbsinister_max_1\n",
      "under_bad_prediction_unique_1.0_0_raw_nbsinister_max_1\n",
      "bad_prediction_unique_1.0_0_raw_nbsinister_max_1\n",
      "over_bad_prediction_global_1.0_0_raw_nbsinister_max_1\n",
      "under_bad_prediction_global_1.0_0_raw_nbsinister_max_1\n",
      "bad_prediction_global_1.0_0_raw_nbsinister_max_1\n",
      "iou_1.0_0_modified_nbsinister_max_1\n",
      "iou_under_prediction_1.0_0_modified_nbsinister_max_1\n",
      "iou_over_prediction_1.0_0_modified_nbsinister_max_1\n",
      "wildfire_predicted_1.0_0_modified_nbsinister_max_1\n",
      "wildfire_supposed_1.0_0_modified_nbsinister_max_1\n",
      "wildfire_over_predicted_1.0_0_modified_nbsinister_max_1\n",
      "wildfire_under_predicted_1.0_0_modified_nbsinister_max_1\n",
      "over_bad_prediction_unique_1.0_0_modified_nbsinister_max_1\n",
      "under_bad_prediction_unique_1.0_0_modified_nbsinister_max_1\n",
      "bad_prediction_unique_1.0_0_modified_nbsinister_max_1\n",
      "over_bad_prediction_global_1.0_0_modified_nbsinister_max_1\n",
      "under_bad_prediction_global_1.0_0_modified_nbsinister_max_1\n",
      "bad_prediction_global_1.0_0_modified_nbsinister_max_1\n",
      "ks_1.0_saison_high_graph_3.0\n",
      "ks_2.0_saison_high_graph_3.0\n",
      "ks_3.0_saison_high_graph_3.0\n",
      "ks_4.0_saison_high_graph_3.0\n",
      "ks_5.0_saison_high_graph_3.0\n",
      "ks_6.0_saison_high_graph_3.0\n",
      "ks_8.0_saison_high_graph_3.0\n",
      "ks_1.0_saison_medium_graph_3.0\n",
      "ks_2.0_saison_medium_graph_3.0\n",
      "ks_3.0_saison_medium_graph_3.0\n",
      "ks_4.0_saison_medium_graph_3.0\n",
      "ks_5.0_saison_medium_graph_3.0\n",
      "ks_6.0_saison_medium_graph_3.0\n",
      "ks_8.0_saison_medium_graph_3.0\n",
      "iou_3.0_0_raw_nbsinister_max_1\n",
      "iou_under_prediction_3.0_0_raw_nbsinister_max_1\n",
      "iou_over_prediction_3.0_0_raw_nbsinister_max_1\n",
      "wildfire_predicted_3.0_0_raw_nbsinister_max_1\n",
      "wildfire_supposed_3.0_0_raw_nbsinister_max_1\n",
      "wildfire_over_predicted_3.0_0_raw_nbsinister_max_1\n",
      "wildfire_under_predicted_3.0_0_raw_nbsinister_max_1\n",
      "over_bad_prediction_unique_3.0_0_raw_nbsinister_max_1\n",
      "under_bad_prediction_unique_3.0_0_raw_nbsinister_max_1\n",
      "bad_prediction_unique_3.0_0_raw_nbsinister_max_1\n",
      "over_bad_prediction_global_3.0_0_raw_nbsinister_max_1\n",
      "under_bad_prediction_global_3.0_0_raw_nbsinister_max_1\n",
      "bad_prediction_global_3.0_0_raw_nbsinister_max_1\n",
      "iou_3.0_0_modified_nbsinister_max_1\n",
      "iou_under_prediction_3.0_0_modified_nbsinister_max_1\n",
      "iou_over_prediction_3.0_0_modified_nbsinister_max_1\n",
      "wildfire_predicted_3.0_0_modified_nbsinister_max_1\n",
      "wildfire_supposed_3.0_0_modified_nbsinister_max_1\n",
      "wildfire_over_predicted_3.0_0_modified_nbsinister_max_1\n",
      "wildfire_under_predicted_3.0_0_modified_nbsinister_max_1\n",
      "over_bad_prediction_unique_3.0_0_modified_nbsinister_max_1\n",
      "under_bad_prediction_unique_3.0_0_modified_nbsinister_max_1\n",
      "bad_prediction_unique_3.0_0_modified_nbsinister_max_1\n",
      "over_bad_prediction_global_3.0_0_modified_nbsinister_max_1\n",
      "under_bad_prediction_global_3.0_0_modified_nbsinister_max_1\n",
      "bad_prediction_global_3.0_0_modified_nbsinister_max_1\n",
      "Department\n",
      "Model\n",
      "Target\n",
      "Task_type\n",
      "Loss_function\n",
      "Number_of_samples\n",
      "kdays\n",
      "Number_of_features\n",
      "Scale\n",
      "Base\n",
      "Method\n",
      "Days_in_futur\n",
      "weight\n",
      "kmeans_thresh\n",
      "kmeans_shift\n"
     ]
    }
   ],
   "source": [
    "for col in df.columns:\n",
    "    print(col)"
   ]
  },
  {
   "cell_type": "code",
   "execution_count": 101,
   "metadata": {},
   "outputs": [
    {
     "data": {
      "application/vnd.plotly.v1+json": {
       "config": {
        "plotlyServerURL": "https://plot.ly"
       },
       "data": [
        {
         "line": {
          "color": "#636EFA",
          "width": 3
         },
         "marker": {
          "color": "#636EFA",
          "size": 8
         },
         "mode": "lines+markers",
         "name": "departement-01-ain - apr_nbsinister_max_1 - 7",
         "type": "scatter3d",
         "x": [
          0,
          1,
          2,
          3
         ],
         "y": [
          0,
          0,
          0,
          0
         ],
         "z": [
          0.44,
          0.43,
          0.41,
          0.42
         ]
        },
        {
         "line": {
          "color": "#EF553B",
          "width": 3
         },
         "marker": {
          "color": "#EF553B",
          "size": 8
         },
         "mode": "lines+markers",
         "name": "departement-01-ain - apr_nbsinister_max_1 - 10",
         "type": "scatter3d",
         "x": [
          0,
          0,
          1,
          2,
          3
         ],
         "y": [
          1,
          1,
          1,
          1,
          1
         ],
         "z": [
          0.74,
          0.74,
          0.74,
          0.74,
          0.75
         ]
        }
       ],
       "layout": {
        "height": 700,
        "scene": {
         "xaxis": {
          "ticktext": [
           "xgboost",
           "unique-departement-xgboost",
           "unique-month-xgboost",
           "unique-dayofweek-xgboost"
          ],
          "tickvals": [
           0,
           1,
           2,
           3
          ],
          "title": {
           "text": "Model"
          }
         },
         "yaxis": {
          "ticktext": [
           "7",
           10
          ],
          "tickvals": [
           0,
           1
          ],
          "title": {
           "text": "Scale"
          }
         },
         "zaxis": {
          "title": {
           "text": "Metric"
          }
         }
        },
        "template": {
         "data": {
          "bar": [
           {
            "error_x": {
             "color": "#2a3f5f"
            },
            "error_y": {
             "color": "#2a3f5f"
            },
            "marker": {
             "line": {
              "color": "#E5ECF6",
              "width": 0.5
             },
             "pattern": {
              "fillmode": "overlay",
              "size": 10,
              "solidity": 0.2
             }
            },
            "type": "bar"
           }
          ],
          "barpolar": [
           {
            "marker": {
             "line": {
              "color": "#E5ECF6",
              "width": 0.5
             },
             "pattern": {
              "fillmode": "overlay",
              "size": 10,
              "solidity": 0.2
             }
            },
            "type": "barpolar"
           }
          ],
          "carpet": [
           {
            "aaxis": {
             "endlinecolor": "#2a3f5f",
             "gridcolor": "white",
             "linecolor": "white",
             "minorgridcolor": "white",
             "startlinecolor": "#2a3f5f"
            },
            "baxis": {
             "endlinecolor": "#2a3f5f",
             "gridcolor": "white",
             "linecolor": "white",
             "minorgridcolor": "white",
             "startlinecolor": "#2a3f5f"
            },
            "type": "carpet"
           }
          ],
          "choropleth": [
           {
            "colorbar": {
             "outlinewidth": 0,
             "ticks": ""
            },
            "type": "choropleth"
           }
          ],
          "contour": [
           {
            "colorbar": {
             "outlinewidth": 0,
             "ticks": ""
            },
            "colorscale": [
             [
              0,
              "#0d0887"
             ],
             [
              0.1111111111111111,
              "#46039f"
             ],
             [
              0.2222222222222222,
              "#7201a8"
             ],
             [
              0.3333333333333333,
              "#9c179e"
             ],
             [
              0.4444444444444444,
              "#bd3786"
             ],
             [
              0.5555555555555556,
              "#d8576b"
             ],
             [
              0.6666666666666666,
              "#ed7953"
             ],
             [
              0.7777777777777778,
              "#fb9f3a"
             ],
             [
              0.8888888888888888,
              "#fdca26"
             ],
             [
              1,
              "#f0f921"
             ]
            ],
            "type": "contour"
           }
          ],
          "contourcarpet": [
           {
            "colorbar": {
             "outlinewidth": 0,
             "ticks": ""
            },
            "type": "contourcarpet"
           }
          ],
          "heatmap": [
           {
            "colorbar": {
             "outlinewidth": 0,
             "ticks": ""
            },
            "colorscale": [
             [
              0,
              "#0d0887"
             ],
             [
              0.1111111111111111,
              "#46039f"
             ],
             [
              0.2222222222222222,
              "#7201a8"
             ],
             [
              0.3333333333333333,
              "#9c179e"
             ],
             [
              0.4444444444444444,
              "#bd3786"
             ],
             [
              0.5555555555555556,
              "#d8576b"
             ],
             [
              0.6666666666666666,
              "#ed7953"
             ],
             [
              0.7777777777777778,
              "#fb9f3a"
             ],
             [
              0.8888888888888888,
              "#fdca26"
             ],
             [
              1,
              "#f0f921"
             ]
            ],
            "type": "heatmap"
           }
          ],
          "heatmapgl": [
           {
            "colorbar": {
             "outlinewidth": 0,
             "ticks": ""
            },
            "colorscale": [
             [
              0,
              "#0d0887"
             ],
             [
              0.1111111111111111,
              "#46039f"
             ],
             [
              0.2222222222222222,
              "#7201a8"
             ],
             [
              0.3333333333333333,
              "#9c179e"
             ],
             [
              0.4444444444444444,
              "#bd3786"
             ],
             [
              0.5555555555555556,
              "#d8576b"
             ],
             [
              0.6666666666666666,
              "#ed7953"
             ],
             [
              0.7777777777777778,
              "#fb9f3a"
             ],
             [
              0.8888888888888888,
              "#fdca26"
             ],
             [
              1,
              "#f0f921"
             ]
            ],
            "type": "heatmapgl"
           }
          ],
          "histogram": [
           {
            "marker": {
             "pattern": {
              "fillmode": "overlay",
              "size": 10,
              "solidity": 0.2
             }
            },
            "type": "histogram"
           }
          ],
          "histogram2d": [
           {
            "colorbar": {
             "outlinewidth": 0,
             "ticks": ""
            },
            "colorscale": [
             [
              0,
              "#0d0887"
             ],
             [
              0.1111111111111111,
              "#46039f"
             ],
             [
              0.2222222222222222,
              "#7201a8"
             ],
             [
              0.3333333333333333,
              "#9c179e"
             ],
             [
              0.4444444444444444,
              "#bd3786"
             ],
             [
              0.5555555555555556,
              "#d8576b"
             ],
             [
              0.6666666666666666,
              "#ed7953"
             ],
             [
              0.7777777777777778,
              "#fb9f3a"
             ],
             [
              0.8888888888888888,
              "#fdca26"
             ],
             [
              1,
              "#f0f921"
             ]
            ],
            "type": "histogram2d"
           }
          ],
          "histogram2dcontour": [
           {
            "colorbar": {
             "outlinewidth": 0,
             "ticks": ""
            },
            "colorscale": [
             [
              0,
              "#0d0887"
             ],
             [
              0.1111111111111111,
              "#46039f"
             ],
             [
              0.2222222222222222,
              "#7201a8"
             ],
             [
              0.3333333333333333,
              "#9c179e"
             ],
             [
              0.4444444444444444,
              "#bd3786"
             ],
             [
              0.5555555555555556,
              "#d8576b"
             ],
             [
              0.6666666666666666,
              "#ed7953"
             ],
             [
              0.7777777777777778,
              "#fb9f3a"
             ],
             [
              0.8888888888888888,
              "#fdca26"
             ],
             [
              1,
              "#f0f921"
             ]
            ],
            "type": "histogram2dcontour"
           }
          ],
          "mesh3d": [
           {
            "colorbar": {
             "outlinewidth": 0,
             "ticks": ""
            },
            "type": "mesh3d"
           }
          ],
          "parcoords": [
           {
            "line": {
             "colorbar": {
              "outlinewidth": 0,
              "ticks": ""
             }
            },
            "type": "parcoords"
           }
          ],
          "pie": [
           {
            "automargin": true,
            "type": "pie"
           }
          ],
          "scatter": [
           {
            "fillpattern": {
             "fillmode": "overlay",
             "size": 10,
             "solidity": 0.2
            },
            "type": "scatter"
           }
          ],
          "scatter3d": [
           {
            "line": {
             "colorbar": {
              "outlinewidth": 0,
              "ticks": ""
             }
            },
            "marker": {
             "colorbar": {
              "outlinewidth": 0,
              "ticks": ""
             }
            },
            "type": "scatter3d"
           }
          ],
          "scattercarpet": [
           {
            "marker": {
             "colorbar": {
              "outlinewidth": 0,
              "ticks": ""
             }
            },
            "type": "scattercarpet"
           }
          ],
          "scattergeo": [
           {
            "marker": {
             "colorbar": {
              "outlinewidth": 0,
              "ticks": ""
             }
            },
            "type": "scattergeo"
           }
          ],
          "scattergl": [
           {
            "marker": {
             "colorbar": {
              "outlinewidth": 0,
              "ticks": ""
             }
            },
            "type": "scattergl"
           }
          ],
          "scattermapbox": [
           {
            "marker": {
             "colorbar": {
              "outlinewidth": 0,
              "ticks": ""
             }
            },
            "type": "scattermapbox"
           }
          ],
          "scatterpolar": [
           {
            "marker": {
             "colorbar": {
              "outlinewidth": 0,
              "ticks": ""
             }
            },
            "type": "scatterpolar"
           }
          ],
          "scatterpolargl": [
           {
            "marker": {
             "colorbar": {
              "outlinewidth": 0,
              "ticks": ""
             }
            },
            "type": "scatterpolargl"
           }
          ],
          "scatterternary": [
           {
            "marker": {
             "colorbar": {
              "outlinewidth": 0,
              "ticks": ""
             }
            },
            "type": "scatterternary"
           }
          ],
          "surface": [
           {
            "colorbar": {
             "outlinewidth": 0,
             "ticks": ""
            },
            "colorscale": [
             [
              0,
              "#0d0887"
             ],
             [
              0.1111111111111111,
              "#46039f"
             ],
             [
              0.2222222222222222,
              "#7201a8"
             ],
             [
              0.3333333333333333,
              "#9c179e"
             ],
             [
              0.4444444444444444,
              "#bd3786"
             ],
             [
              0.5555555555555556,
              "#d8576b"
             ],
             [
              0.6666666666666666,
              "#ed7953"
             ],
             [
              0.7777777777777778,
              "#fb9f3a"
             ],
             [
              0.8888888888888888,
              "#fdca26"
             ],
             [
              1,
              "#f0f921"
             ]
            ],
            "type": "surface"
           }
          ],
          "table": [
           {
            "cells": {
             "fill": {
              "color": "#EBF0F8"
             },
             "line": {
              "color": "white"
             }
            },
            "header": {
             "fill": {
              "color": "#C8D4E3"
             },
             "line": {
              "color": "white"
             }
            },
            "type": "table"
           }
          ]
         },
         "layout": {
          "annotationdefaults": {
           "arrowcolor": "#2a3f5f",
           "arrowhead": 0,
           "arrowwidth": 1
          },
          "autotypenumbers": "strict",
          "coloraxis": {
           "colorbar": {
            "outlinewidth": 0,
            "ticks": ""
           }
          },
          "colorscale": {
           "diverging": [
            [
             0,
             "#8e0152"
            ],
            [
             0.1,
             "#c51b7d"
            ],
            [
             0.2,
             "#de77ae"
            ],
            [
             0.3,
             "#f1b6da"
            ],
            [
             0.4,
             "#fde0ef"
            ],
            [
             0.5,
             "#f7f7f7"
            ],
            [
             0.6,
             "#e6f5d0"
            ],
            [
             0.7,
             "#b8e186"
            ],
            [
             0.8,
             "#7fbc41"
            ],
            [
             0.9,
             "#4d9221"
            ],
            [
             1,
             "#276419"
            ]
           ],
           "sequential": [
            [
             0,
             "#0d0887"
            ],
            [
             0.1111111111111111,
             "#46039f"
            ],
            [
             0.2222222222222222,
             "#7201a8"
            ],
            [
             0.3333333333333333,
             "#9c179e"
            ],
            [
             0.4444444444444444,
             "#bd3786"
            ],
            [
             0.5555555555555556,
             "#d8576b"
            ],
            [
             0.6666666666666666,
             "#ed7953"
            ],
            [
             0.7777777777777778,
             "#fb9f3a"
            ],
            [
             0.8888888888888888,
             "#fdca26"
            ],
            [
             1,
             "#f0f921"
            ]
           ],
           "sequentialminus": [
            [
             0,
             "#0d0887"
            ],
            [
             0.1111111111111111,
             "#46039f"
            ],
            [
             0.2222222222222222,
             "#7201a8"
            ],
            [
             0.3333333333333333,
             "#9c179e"
            ],
            [
             0.4444444444444444,
             "#bd3786"
            ],
            [
             0.5555555555555556,
             "#d8576b"
            ],
            [
             0.6666666666666666,
             "#ed7953"
            ],
            [
             0.7777777777777778,
             "#fb9f3a"
            ],
            [
             0.8888888888888888,
             "#fdca26"
            ],
            [
             1,
             "#f0f921"
            ]
           ]
          },
          "colorway": [
           "#636efa",
           "#EF553B",
           "#00cc96",
           "#ab63fa",
           "#FFA15A",
           "#19d3f3",
           "#FF6692",
           "#B6E880",
           "#FF97FF",
           "#FECB52"
          ],
          "font": {
           "color": "#2a3f5f"
          },
          "geo": {
           "bgcolor": "white",
           "lakecolor": "white",
           "landcolor": "#E5ECF6",
           "showlakes": true,
           "showland": true,
           "subunitcolor": "white"
          },
          "hoverlabel": {
           "align": "left"
          },
          "hovermode": "closest",
          "mapbox": {
           "style": "light"
          },
          "paper_bgcolor": "white",
          "plot_bgcolor": "#E5ECF6",
          "polar": {
           "angularaxis": {
            "gridcolor": "white",
            "linecolor": "white",
            "ticks": ""
           },
           "bgcolor": "#E5ECF6",
           "radialaxis": {
            "gridcolor": "white",
            "linecolor": "white",
            "ticks": ""
           }
          },
          "scene": {
           "xaxis": {
            "backgroundcolor": "#E5ECF6",
            "gridcolor": "white",
            "gridwidth": 2,
            "linecolor": "white",
            "showbackground": true,
            "ticks": "",
            "zerolinecolor": "white"
           },
           "yaxis": {
            "backgroundcolor": "#E5ECF6",
            "gridcolor": "white",
            "gridwidth": 2,
            "linecolor": "white",
            "showbackground": true,
            "ticks": "",
            "zerolinecolor": "white"
           },
           "zaxis": {
            "backgroundcolor": "#E5ECF6",
            "gridcolor": "white",
            "gridwidth": 2,
            "linecolor": "white",
            "showbackground": true,
            "ticks": "",
            "zerolinecolor": "white"
           }
          },
          "shapedefaults": {
           "line": {
            "color": "#2a3f5f"
           }
          },
          "ternary": {
           "aaxis": {
            "gridcolor": "white",
            "linecolor": "white",
            "ticks": ""
           },
           "baxis": {
            "gridcolor": "white",
            "linecolor": "white",
            "ticks": ""
           },
           "bgcolor": "#E5ECF6",
           "caxis": {
            "gridcolor": "white",
            "linecolor": "white",
            "ticks": ""
           }
          },
          "title": {
           "x": 0.05
          },
          "xaxis": {
           "automargin": true,
           "gridcolor": "white",
           "linecolor": "white",
           "ticks": "",
           "title": {
            "standoff": 15
           },
           "zerolinecolor": "white",
           "zerolinewidth": 2
          },
          "yaxis": {
           "automargin": true,
           "gridcolor": "white",
           "linecolor": "white",
           "ticks": "",
           "title": {
            "standoff": 15
           },
           "zerolinecolor": "white",
           "zerolinewidth": 2
          }
         }
        },
        "title": {
         "text": "3D Comparison for departement-01-ain - apr_nbsinister_max_1"
        },
        "width": 1000
       }
      }
     },
     "metadata": {},
     "output_type": "display_data"
    },
    {
     "data": {
      "application/vnd.plotly.v1+json": {
       "config": {
        "plotlyServerURL": "https://plot.ly"
       },
       "data": [
        {
         "line": {
          "color": "#636EFA",
          "width": 3
         },
         "marker": {
          "color": "#636EFA",
          "size": 8
         },
         "mode": "lines+markers",
         "name": "departement-25-doubs - apr_nbsinister_max_1 - 7",
         "type": "scatter3d",
         "x": [
          0,
          1,
          2,
          3
         ],
         "y": [
          0,
          0,
          0,
          0
         ],
         "z": [
          0.4,
          0.38,
          0.37,
          0.37
         ]
        },
        {
         "line": {
          "color": "#EF553B",
          "width": 3
         },
         "marker": {
          "color": "#EF553B",
          "size": 8
         },
         "mode": "lines+markers",
         "name": "departement-25-doubs - apr_nbsinister_max_1 - 10",
         "type": "scatter3d",
         "x": [
          0,
          0,
          1,
          2,
          3
         ],
         "y": [
          1,
          1,
          1,
          1,
          1
         ],
         "z": [
          0.75,
          0.76,
          0.7,
          0.74,
          0.74
         ]
        }
       ],
       "layout": {
        "height": 700,
        "scene": {
         "xaxis": {
          "ticktext": [
           "xgboost",
           "unique-departement-xgboost",
           "unique-month-xgboost",
           "unique-dayofweek-xgboost"
          ],
          "tickvals": [
           0,
           1,
           2,
           3
          ],
          "title": {
           "text": "Model"
          }
         },
         "yaxis": {
          "ticktext": [
           "7",
           10
          ],
          "tickvals": [
           0,
           1
          ],
          "title": {
           "text": "Scale"
          }
         },
         "zaxis": {
          "title": {
           "text": "Metric"
          }
         }
        },
        "template": {
         "data": {
          "bar": [
           {
            "error_x": {
             "color": "#2a3f5f"
            },
            "error_y": {
             "color": "#2a3f5f"
            },
            "marker": {
             "line": {
              "color": "#E5ECF6",
              "width": 0.5
             },
             "pattern": {
              "fillmode": "overlay",
              "size": 10,
              "solidity": 0.2
             }
            },
            "type": "bar"
           }
          ],
          "barpolar": [
           {
            "marker": {
             "line": {
              "color": "#E5ECF6",
              "width": 0.5
             },
             "pattern": {
              "fillmode": "overlay",
              "size": 10,
              "solidity": 0.2
             }
            },
            "type": "barpolar"
           }
          ],
          "carpet": [
           {
            "aaxis": {
             "endlinecolor": "#2a3f5f",
             "gridcolor": "white",
             "linecolor": "white",
             "minorgridcolor": "white",
             "startlinecolor": "#2a3f5f"
            },
            "baxis": {
             "endlinecolor": "#2a3f5f",
             "gridcolor": "white",
             "linecolor": "white",
             "minorgridcolor": "white",
             "startlinecolor": "#2a3f5f"
            },
            "type": "carpet"
           }
          ],
          "choropleth": [
           {
            "colorbar": {
             "outlinewidth": 0,
             "ticks": ""
            },
            "type": "choropleth"
           }
          ],
          "contour": [
           {
            "colorbar": {
             "outlinewidth": 0,
             "ticks": ""
            },
            "colorscale": [
             [
              0,
              "#0d0887"
             ],
             [
              0.1111111111111111,
              "#46039f"
             ],
             [
              0.2222222222222222,
              "#7201a8"
             ],
             [
              0.3333333333333333,
              "#9c179e"
             ],
             [
              0.4444444444444444,
              "#bd3786"
             ],
             [
              0.5555555555555556,
              "#d8576b"
             ],
             [
              0.6666666666666666,
              "#ed7953"
             ],
             [
              0.7777777777777778,
              "#fb9f3a"
             ],
             [
              0.8888888888888888,
              "#fdca26"
             ],
             [
              1,
              "#f0f921"
             ]
            ],
            "type": "contour"
           }
          ],
          "contourcarpet": [
           {
            "colorbar": {
             "outlinewidth": 0,
             "ticks": ""
            },
            "type": "contourcarpet"
           }
          ],
          "heatmap": [
           {
            "colorbar": {
             "outlinewidth": 0,
             "ticks": ""
            },
            "colorscale": [
             [
              0,
              "#0d0887"
             ],
             [
              0.1111111111111111,
              "#46039f"
             ],
             [
              0.2222222222222222,
              "#7201a8"
             ],
             [
              0.3333333333333333,
              "#9c179e"
             ],
             [
              0.4444444444444444,
              "#bd3786"
             ],
             [
              0.5555555555555556,
              "#d8576b"
             ],
             [
              0.6666666666666666,
              "#ed7953"
             ],
             [
              0.7777777777777778,
              "#fb9f3a"
             ],
             [
              0.8888888888888888,
              "#fdca26"
             ],
             [
              1,
              "#f0f921"
             ]
            ],
            "type": "heatmap"
           }
          ],
          "heatmapgl": [
           {
            "colorbar": {
             "outlinewidth": 0,
             "ticks": ""
            },
            "colorscale": [
             [
              0,
              "#0d0887"
             ],
             [
              0.1111111111111111,
              "#46039f"
             ],
             [
              0.2222222222222222,
              "#7201a8"
             ],
             [
              0.3333333333333333,
              "#9c179e"
             ],
             [
              0.4444444444444444,
              "#bd3786"
             ],
             [
              0.5555555555555556,
              "#d8576b"
             ],
             [
              0.6666666666666666,
              "#ed7953"
             ],
             [
              0.7777777777777778,
              "#fb9f3a"
             ],
             [
              0.8888888888888888,
              "#fdca26"
             ],
             [
              1,
              "#f0f921"
             ]
            ],
            "type": "heatmapgl"
           }
          ],
          "histogram": [
           {
            "marker": {
             "pattern": {
              "fillmode": "overlay",
              "size": 10,
              "solidity": 0.2
             }
            },
            "type": "histogram"
           }
          ],
          "histogram2d": [
           {
            "colorbar": {
             "outlinewidth": 0,
             "ticks": ""
            },
            "colorscale": [
             [
              0,
              "#0d0887"
             ],
             [
              0.1111111111111111,
              "#46039f"
             ],
             [
              0.2222222222222222,
              "#7201a8"
             ],
             [
              0.3333333333333333,
              "#9c179e"
             ],
             [
              0.4444444444444444,
              "#bd3786"
             ],
             [
              0.5555555555555556,
              "#d8576b"
             ],
             [
              0.6666666666666666,
              "#ed7953"
             ],
             [
              0.7777777777777778,
              "#fb9f3a"
             ],
             [
              0.8888888888888888,
              "#fdca26"
             ],
             [
              1,
              "#f0f921"
             ]
            ],
            "type": "histogram2d"
           }
          ],
          "histogram2dcontour": [
           {
            "colorbar": {
             "outlinewidth": 0,
             "ticks": ""
            },
            "colorscale": [
             [
              0,
              "#0d0887"
             ],
             [
              0.1111111111111111,
              "#46039f"
             ],
             [
              0.2222222222222222,
              "#7201a8"
             ],
             [
              0.3333333333333333,
              "#9c179e"
             ],
             [
              0.4444444444444444,
              "#bd3786"
             ],
             [
              0.5555555555555556,
              "#d8576b"
             ],
             [
              0.6666666666666666,
              "#ed7953"
             ],
             [
              0.7777777777777778,
              "#fb9f3a"
             ],
             [
              0.8888888888888888,
              "#fdca26"
             ],
             [
              1,
              "#f0f921"
             ]
            ],
            "type": "histogram2dcontour"
           }
          ],
          "mesh3d": [
           {
            "colorbar": {
             "outlinewidth": 0,
             "ticks": ""
            },
            "type": "mesh3d"
           }
          ],
          "parcoords": [
           {
            "line": {
             "colorbar": {
              "outlinewidth": 0,
              "ticks": ""
             }
            },
            "type": "parcoords"
           }
          ],
          "pie": [
           {
            "automargin": true,
            "type": "pie"
           }
          ],
          "scatter": [
           {
            "fillpattern": {
             "fillmode": "overlay",
             "size": 10,
             "solidity": 0.2
            },
            "type": "scatter"
           }
          ],
          "scatter3d": [
           {
            "line": {
             "colorbar": {
              "outlinewidth": 0,
              "ticks": ""
             }
            },
            "marker": {
             "colorbar": {
              "outlinewidth": 0,
              "ticks": ""
             }
            },
            "type": "scatter3d"
           }
          ],
          "scattercarpet": [
           {
            "marker": {
             "colorbar": {
              "outlinewidth": 0,
              "ticks": ""
             }
            },
            "type": "scattercarpet"
           }
          ],
          "scattergeo": [
           {
            "marker": {
             "colorbar": {
              "outlinewidth": 0,
              "ticks": ""
             }
            },
            "type": "scattergeo"
           }
          ],
          "scattergl": [
           {
            "marker": {
             "colorbar": {
              "outlinewidth": 0,
              "ticks": ""
             }
            },
            "type": "scattergl"
           }
          ],
          "scattermapbox": [
           {
            "marker": {
             "colorbar": {
              "outlinewidth": 0,
              "ticks": ""
             }
            },
            "type": "scattermapbox"
           }
          ],
          "scatterpolar": [
           {
            "marker": {
             "colorbar": {
              "outlinewidth": 0,
              "ticks": ""
             }
            },
            "type": "scatterpolar"
           }
          ],
          "scatterpolargl": [
           {
            "marker": {
             "colorbar": {
              "outlinewidth": 0,
              "ticks": ""
             }
            },
            "type": "scatterpolargl"
           }
          ],
          "scatterternary": [
           {
            "marker": {
             "colorbar": {
              "outlinewidth": 0,
              "ticks": ""
             }
            },
            "type": "scatterternary"
           }
          ],
          "surface": [
           {
            "colorbar": {
             "outlinewidth": 0,
             "ticks": ""
            },
            "colorscale": [
             [
              0,
              "#0d0887"
             ],
             [
              0.1111111111111111,
              "#46039f"
             ],
             [
              0.2222222222222222,
              "#7201a8"
             ],
             [
              0.3333333333333333,
              "#9c179e"
             ],
             [
              0.4444444444444444,
              "#bd3786"
             ],
             [
              0.5555555555555556,
              "#d8576b"
             ],
             [
              0.6666666666666666,
              "#ed7953"
             ],
             [
              0.7777777777777778,
              "#fb9f3a"
             ],
             [
              0.8888888888888888,
              "#fdca26"
             ],
             [
              1,
              "#f0f921"
             ]
            ],
            "type": "surface"
           }
          ],
          "table": [
           {
            "cells": {
             "fill": {
              "color": "#EBF0F8"
             },
             "line": {
              "color": "white"
             }
            },
            "header": {
             "fill": {
              "color": "#C8D4E3"
             },
             "line": {
              "color": "white"
             }
            },
            "type": "table"
           }
          ]
         },
         "layout": {
          "annotationdefaults": {
           "arrowcolor": "#2a3f5f",
           "arrowhead": 0,
           "arrowwidth": 1
          },
          "autotypenumbers": "strict",
          "coloraxis": {
           "colorbar": {
            "outlinewidth": 0,
            "ticks": ""
           }
          },
          "colorscale": {
           "diverging": [
            [
             0,
             "#8e0152"
            ],
            [
             0.1,
             "#c51b7d"
            ],
            [
             0.2,
             "#de77ae"
            ],
            [
             0.3,
             "#f1b6da"
            ],
            [
             0.4,
             "#fde0ef"
            ],
            [
             0.5,
             "#f7f7f7"
            ],
            [
             0.6,
             "#e6f5d0"
            ],
            [
             0.7,
             "#b8e186"
            ],
            [
             0.8,
             "#7fbc41"
            ],
            [
             0.9,
             "#4d9221"
            ],
            [
             1,
             "#276419"
            ]
           ],
           "sequential": [
            [
             0,
             "#0d0887"
            ],
            [
             0.1111111111111111,
             "#46039f"
            ],
            [
             0.2222222222222222,
             "#7201a8"
            ],
            [
             0.3333333333333333,
             "#9c179e"
            ],
            [
             0.4444444444444444,
             "#bd3786"
            ],
            [
             0.5555555555555556,
             "#d8576b"
            ],
            [
             0.6666666666666666,
             "#ed7953"
            ],
            [
             0.7777777777777778,
             "#fb9f3a"
            ],
            [
             0.8888888888888888,
             "#fdca26"
            ],
            [
             1,
             "#f0f921"
            ]
           ],
           "sequentialminus": [
            [
             0,
             "#0d0887"
            ],
            [
             0.1111111111111111,
             "#46039f"
            ],
            [
             0.2222222222222222,
             "#7201a8"
            ],
            [
             0.3333333333333333,
             "#9c179e"
            ],
            [
             0.4444444444444444,
             "#bd3786"
            ],
            [
             0.5555555555555556,
             "#d8576b"
            ],
            [
             0.6666666666666666,
             "#ed7953"
            ],
            [
             0.7777777777777778,
             "#fb9f3a"
            ],
            [
             0.8888888888888888,
             "#fdca26"
            ],
            [
             1,
             "#f0f921"
            ]
           ]
          },
          "colorway": [
           "#636efa",
           "#EF553B",
           "#00cc96",
           "#ab63fa",
           "#FFA15A",
           "#19d3f3",
           "#FF6692",
           "#B6E880",
           "#FF97FF",
           "#FECB52"
          ],
          "font": {
           "color": "#2a3f5f"
          },
          "geo": {
           "bgcolor": "white",
           "lakecolor": "white",
           "landcolor": "#E5ECF6",
           "showlakes": true,
           "showland": true,
           "subunitcolor": "white"
          },
          "hoverlabel": {
           "align": "left"
          },
          "hovermode": "closest",
          "mapbox": {
           "style": "light"
          },
          "paper_bgcolor": "white",
          "plot_bgcolor": "#E5ECF6",
          "polar": {
           "angularaxis": {
            "gridcolor": "white",
            "linecolor": "white",
            "ticks": ""
           },
           "bgcolor": "#E5ECF6",
           "radialaxis": {
            "gridcolor": "white",
            "linecolor": "white",
            "ticks": ""
           }
          },
          "scene": {
           "xaxis": {
            "backgroundcolor": "#E5ECF6",
            "gridcolor": "white",
            "gridwidth": 2,
            "linecolor": "white",
            "showbackground": true,
            "ticks": "",
            "zerolinecolor": "white"
           },
           "yaxis": {
            "backgroundcolor": "#E5ECF6",
            "gridcolor": "white",
            "gridwidth": 2,
            "linecolor": "white",
            "showbackground": true,
            "ticks": "",
            "zerolinecolor": "white"
           },
           "zaxis": {
            "backgroundcolor": "#E5ECF6",
            "gridcolor": "white",
            "gridwidth": 2,
            "linecolor": "white",
            "showbackground": true,
            "ticks": "",
            "zerolinecolor": "white"
           }
          },
          "shapedefaults": {
           "line": {
            "color": "#2a3f5f"
           }
          },
          "ternary": {
           "aaxis": {
            "gridcolor": "white",
            "linecolor": "white",
            "ticks": ""
           },
           "baxis": {
            "gridcolor": "white",
            "linecolor": "white",
            "ticks": ""
           },
           "bgcolor": "#E5ECF6",
           "caxis": {
            "gridcolor": "white",
            "linecolor": "white",
            "ticks": ""
           }
          },
          "title": {
           "x": 0.05
          },
          "xaxis": {
           "automargin": true,
           "gridcolor": "white",
           "linecolor": "white",
           "ticks": "",
           "title": {
            "standoff": 15
           },
           "zerolinecolor": "white",
           "zerolinewidth": 2
          },
          "yaxis": {
           "automargin": true,
           "gridcolor": "white",
           "linecolor": "white",
           "ticks": "",
           "title": {
            "standoff": 15
           },
           "zerolinecolor": "white",
           "zerolinewidth": 2
          }
         }
        },
        "title": {
         "text": "3D Comparison for departement-25-doubs - apr_nbsinister_max_1"
        },
        "width": 1000
       }
      }
     },
     "metadata": {},
     "output_type": "display_data"
    },
    {
     "data": {
      "application/vnd.plotly.v1+json": {
       "config": {
        "plotlyServerURL": "https://plot.ly"
       },
       "data": [
        {
         "line": {
          "color": "#636EFA",
          "width": 3
         },
         "marker": {
          "color": "#636EFA",
          "size": 8
         },
         "mode": "lines+markers",
         "name": "departement-78-yvelines - apr_nbsinister_max_1 - 7",
         "type": "scatter3d",
         "x": [
          0,
          1,
          2,
          3
         ],
         "y": [
          0,
          0,
          0,
          0
         ],
         "z": [
          0.58,
          0.56,
          0.54,
          0.58
         ]
        },
        {
         "line": {
          "color": "#EF553B",
          "width": 3
         },
         "marker": {
          "color": "#EF553B",
          "size": 8
         },
         "mode": "lines+markers",
         "name": "departement-78-yvelines - apr_nbsinister_max_1 - 10",
         "type": "scatter3d",
         "x": [
          0,
          0,
          1,
          2,
          3
         ],
         "y": [
          1,
          1,
          1,
          1,
          1
         ],
         "z": [
          0.71,
          0.71,
          0.69,
          0.7,
          0.7
         ]
        }
       ],
       "layout": {
        "height": 700,
        "scene": {
         "xaxis": {
          "ticktext": [
           "xgboost",
           "unique-departement-xgboost",
           "unique-month-xgboost",
           "unique-dayofweek-xgboost"
          ],
          "tickvals": [
           0,
           1,
           2,
           3
          ],
          "title": {
           "text": "Model"
          }
         },
         "yaxis": {
          "ticktext": [
           "7",
           10
          ],
          "tickvals": [
           0,
           1
          ],
          "title": {
           "text": "Scale"
          }
         },
         "zaxis": {
          "title": {
           "text": "Metric"
          }
         }
        },
        "template": {
         "data": {
          "bar": [
           {
            "error_x": {
             "color": "#2a3f5f"
            },
            "error_y": {
             "color": "#2a3f5f"
            },
            "marker": {
             "line": {
              "color": "#E5ECF6",
              "width": 0.5
             },
             "pattern": {
              "fillmode": "overlay",
              "size": 10,
              "solidity": 0.2
             }
            },
            "type": "bar"
           }
          ],
          "barpolar": [
           {
            "marker": {
             "line": {
              "color": "#E5ECF6",
              "width": 0.5
             },
             "pattern": {
              "fillmode": "overlay",
              "size": 10,
              "solidity": 0.2
             }
            },
            "type": "barpolar"
           }
          ],
          "carpet": [
           {
            "aaxis": {
             "endlinecolor": "#2a3f5f",
             "gridcolor": "white",
             "linecolor": "white",
             "minorgridcolor": "white",
             "startlinecolor": "#2a3f5f"
            },
            "baxis": {
             "endlinecolor": "#2a3f5f",
             "gridcolor": "white",
             "linecolor": "white",
             "minorgridcolor": "white",
             "startlinecolor": "#2a3f5f"
            },
            "type": "carpet"
           }
          ],
          "choropleth": [
           {
            "colorbar": {
             "outlinewidth": 0,
             "ticks": ""
            },
            "type": "choropleth"
           }
          ],
          "contour": [
           {
            "colorbar": {
             "outlinewidth": 0,
             "ticks": ""
            },
            "colorscale": [
             [
              0,
              "#0d0887"
             ],
             [
              0.1111111111111111,
              "#46039f"
             ],
             [
              0.2222222222222222,
              "#7201a8"
             ],
             [
              0.3333333333333333,
              "#9c179e"
             ],
             [
              0.4444444444444444,
              "#bd3786"
             ],
             [
              0.5555555555555556,
              "#d8576b"
             ],
             [
              0.6666666666666666,
              "#ed7953"
             ],
             [
              0.7777777777777778,
              "#fb9f3a"
             ],
             [
              0.8888888888888888,
              "#fdca26"
             ],
             [
              1,
              "#f0f921"
             ]
            ],
            "type": "contour"
           }
          ],
          "contourcarpet": [
           {
            "colorbar": {
             "outlinewidth": 0,
             "ticks": ""
            },
            "type": "contourcarpet"
           }
          ],
          "heatmap": [
           {
            "colorbar": {
             "outlinewidth": 0,
             "ticks": ""
            },
            "colorscale": [
             [
              0,
              "#0d0887"
             ],
             [
              0.1111111111111111,
              "#46039f"
             ],
             [
              0.2222222222222222,
              "#7201a8"
             ],
             [
              0.3333333333333333,
              "#9c179e"
             ],
             [
              0.4444444444444444,
              "#bd3786"
             ],
             [
              0.5555555555555556,
              "#d8576b"
             ],
             [
              0.6666666666666666,
              "#ed7953"
             ],
             [
              0.7777777777777778,
              "#fb9f3a"
             ],
             [
              0.8888888888888888,
              "#fdca26"
             ],
             [
              1,
              "#f0f921"
             ]
            ],
            "type": "heatmap"
           }
          ],
          "heatmapgl": [
           {
            "colorbar": {
             "outlinewidth": 0,
             "ticks": ""
            },
            "colorscale": [
             [
              0,
              "#0d0887"
             ],
             [
              0.1111111111111111,
              "#46039f"
             ],
             [
              0.2222222222222222,
              "#7201a8"
             ],
             [
              0.3333333333333333,
              "#9c179e"
             ],
             [
              0.4444444444444444,
              "#bd3786"
             ],
             [
              0.5555555555555556,
              "#d8576b"
             ],
             [
              0.6666666666666666,
              "#ed7953"
             ],
             [
              0.7777777777777778,
              "#fb9f3a"
             ],
             [
              0.8888888888888888,
              "#fdca26"
             ],
             [
              1,
              "#f0f921"
             ]
            ],
            "type": "heatmapgl"
           }
          ],
          "histogram": [
           {
            "marker": {
             "pattern": {
              "fillmode": "overlay",
              "size": 10,
              "solidity": 0.2
             }
            },
            "type": "histogram"
           }
          ],
          "histogram2d": [
           {
            "colorbar": {
             "outlinewidth": 0,
             "ticks": ""
            },
            "colorscale": [
             [
              0,
              "#0d0887"
             ],
             [
              0.1111111111111111,
              "#46039f"
             ],
             [
              0.2222222222222222,
              "#7201a8"
             ],
             [
              0.3333333333333333,
              "#9c179e"
             ],
             [
              0.4444444444444444,
              "#bd3786"
             ],
             [
              0.5555555555555556,
              "#d8576b"
             ],
             [
              0.6666666666666666,
              "#ed7953"
             ],
             [
              0.7777777777777778,
              "#fb9f3a"
             ],
             [
              0.8888888888888888,
              "#fdca26"
             ],
             [
              1,
              "#f0f921"
             ]
            ],
            "type": "histogram2d"
           }
          ],
          "histogram2dcontour": [
           {
            "colorbar": {
             "outlinewidth": 0,
             "ticks": ""
            },
            "colorscale": [
             [
              0,
              "#0d0887"
             ],
             [
              0.1111111111111111,
              "#46039f"
             ],
             [
              0.2222222222222222,
              "#7201a8"
             ],
             [
              0.3333333333333333,
              "#9c179e"
             ],
             [
              0.4444444444444444,
              "#bd3786"
             ],
             [
              0.5555555555555556,
              "#d8576b"
             ],
             [
              0.6666666666666666,
              "#ed7953"
             ],
             [
              0.7777777777777778,
              "#fb9f3a"
             ],
             [
              0.8888888888888888,
              "#fdca26"
             ],
             [
              1,
              "#f0f921"
             ]
            ],
            "type": "histogram2dcontour"
           }
          ],
          "mesh3d": [
           {
            "colorbar": {
             "outlinewidth": 0,
             "ticks": ""
            },
            "type": "mesh3d"
           }
          ],
          "parcoords": [
           {
            "line": {
             "colorbar": {
              "outlinewidth": 0,
              "ticks": ""
             }
            },
            "type": "parcoords"
           }
          ],
          "pie": [
           {
            "automargin": true,
            "type": "pie"
           }
          ],
          "scatter": [
           {
            "fillpattern": {
             "fillmode": "overlay",
             "size": 10,
             "solidity": 0.2
            },
            "type": "scatter"
           }
          ],
          "scatter3d": [
           {
            "line": {
             "colorbar": {
              "outlinewidth": 0,
              "ticks": ""
             }
            },
            "marker": {
             "colorbar": {
              "outlinewidth": 0,
              "ticks": ""
             }
            },
            "type": "scatter3d"
           }
          ],
          "scattercarpet": [
           {
            "marker": {
             "colorbar": {
              "outlinewidth": 0,
              "ticks": ""
             }
            },
            "type": "scattercarpet"
           }
          ],
          "scattergeo": [
           {
            "marker": {
             "colorbar": {
              "outlinewidth": 0,
              "ticks": ""
             }
            },
            "type": "scattergeo"
           }
          ],
          "scattergl": [
           {
            "marker": {
             "colorbar": {
              "outlinewidth": 0,
              "ticks": ""
             }
            },
            "type": "scattergl"
           }
          ],
          "scattermapbox": [
           {
            "marker": {
             "colorbar": {
              "outlinewidth": 0,
              "ticks": ""
             }
            },
            "type": "scattermapbox"
           }
          ],
          "scatterpolar": [
           {
            "marker": {
             "colorbar": {
              "outlinewidth": 0,
              "ticks": ""
             }
            },
            "type": "scatterpolar"
           }
          ],
          "scatterpolargl": [
           {
            "marker": {
             "colorbar": {
              "outlinewidth": 0,
              "ticks": ""
             }
            },
            "type": "scatterpolargl"
           }
          ],
          "scatterternary": [
           {
            "marker": {
             "colorbar": {
              "outlinewidth": 0,
              "ticks": ""
             }
            },
            "type": "scatterternary"
           }
          ],
          "surface": [
           {
            "colorbar": {
             "outlinewidth": 0,
             "ticks": ""
            },
            "colorscale": [
             [
              0,
              "#0d0887"
             ],
             [
              0.1111111111111111,
              "#46039f"
             ],
             [
              0.2222222222222222,
              "#7201a8"
             ],
             [
              0.3333333333333333,
              "#9c179e"
             ],
             [
              0.4444444444444444,
              "#bd3786"
             ],
             [
              0.5555555555555556,
              "#d8576b"
             ],
             [
              0.6666666666666666,
              "#ed7953"
             ],
             [
              0.7777777777777778,
              "#fb9f3a"
             ],
             [
              0.8888888888888888,
              "#fdca26"
             ],
             [
              1,
              "#f0f921"
             ]
            ],
            "type": "surface"
           }
          ],
          "table": [
           {
            "cells": {
             "fill": {
              "color": "#EBF0F8"
             },
             "line": {
              "color": "white"
             }
            },
            "header": {
             "fill": {
              "color": "#C8D4E3"
             },
             "line": {
              "color": "white"
             }
            },
            "type": "table"
           }
          ]
         },
         "layout": {
          "annotationdefaults": {
           "arrowcolor": "#2a3f5f",
           "arrowhead": 0,
           "arrowwidth": 1
          },
          "autotypenumbers": "strict",
          "coloraxis": {
           "colorbar": {
            "outlinewidth": 0,
            "ticks": ""
           }
          },
          "colorscale": {
           "diverging": [
            [
             0,
             "#8e0152"
            ],
            [
             0.1,
             "#c51b7d"
            ],
            [
             0.2,
             "#de77ae"
            ],
            [
             0.3,
             "#f1b6da"
            ],
            [
             0.4,
             "#fde0ef"
            ],
            [
             0.5,
             "#f7f7f7"
            ],
            [
             0.6,
             "#e6f5d0"
            ],
            [
             0.7,
             "#b8e186"
            ],
            [
             0.8,
             "#7fbc41"
            ],
            [
             0.9,
             "#4d9221"
            ],
            [
             1,
             "#276419"
            ]
           ],
           "sequential": [
            [
             0,
             "#0d0887"
            ],
            [
             0.1111111111111111,
             "#46039f"
            ],
            [
             0.2222222222222222,
             "#7201a8"
            ],
            [
             0.3333333333333333,
             "#9c179e"
            ],
            [
             0.4444444444444444,
             "#bd3786"
            ],
            [
             0.5555555555555556,
             "#d8576b"
            ],
            [
             0.6666666666666666,
             "#ed7953"
            ],
            [
             0.7777777777777778,
             "#fb9f3a"
            ],
            [
             0.8888888888888888,
             "#fdca26"
            ],
            [
             1,
             "#f0f921"
            ]
           ],
           "sequentialminus": [
            [
             0,
             "#0d0887"
            ],
            [
             0.1111111111111111,
             "#46039f"
            ],
            [
             0.2222222222222222,
             "#7201a8"
            ],
            [
             0.3333333333333333,
             "#9c179e"
            ],
            [
             0.4444444444444444,
             "#bd3786"
            ],
            [
             0.5555555555555556,
             "#d8576b"
            ],
            [
             0.6666666666666666,
             "#ed7953"
            ],
            [
             0.7777777777777778,
             "#fb9f3a"
            ],
            [
             0.8888888888888888,
             "#fdca26"
            ],
            [
             1,
             "#f0f921"
            ]
           ]
          },
          "colorway": [
           "#636efa",
           "#EF553B",
           "#00cc96",
           "#ab63fa",
           "#FFA15A",
           "#19d3f3",
           "#FF6692",
           "#B6E880",
           "#FF97FF",
           "#FECB52"
          ],
          "font": {
           "color": "#2a3f5f"
          },
          "geo": {
           "bgcolor": "white",
           "lakecolor": "white",
           "landcolor": "#E5ECF6",
           "showlakes": true,
           "showland": true,
           "subunitcolor": "white"
          },
          "hoverlabel": {
           "align": "left"
          },
          "hovermode": "closest",
          "mapbox": {
           "style": "light"
          },
          "paper_bgcolor": "white",
          "plot_bgcolor": "#E5ECF6",
          "polar": {
           "angularaxis": {
            "gridcolor": "white",
            "linecolor": "white",
            "ticks": ""
           },
           "bgcolor": "#E5ECF6",
           "radialaxis": {
            "gridcolor": "white",
            "linecolor": "white",
            "ticks": ""
           }
          },
          "scene": {
           "xaxis": {
            "backgroundcolor": "#E5ECF6",
            "gridcolor": "white",
            "gridwidth": 2,
            "linecolor": "white",
            "showbackground": true,
            "ticks": "",
            "zerolinecolor": "white"
           },
           "yaxis": {
            "backgroundcolor": "#E5ECF6",
            "gridcolor": "white",
            "gridwidth": 2,
            "linecolor": "white",
            "showbackground": true,
            "ticks": "",
            "zerolinecolor": "white"
           },
           "zaxis": {
            "backgroundcolor": "#E5ECF6",
            "gridcolor": "white",
            "gridwidth": 2,
            "linecolor": "white",
            "showbackground": true,
            "ticks": "",
            "zerolinecolor": "white"
           }
          },
          "shapedefaults": {
           "line": {
            "color": "#2a3f5f"
           }
          },
          "ternary": {
           "aaxis": {
            "gridcolor": "white",
            "linecolor": "white",
            "ticks": ""
           },
           "baxis": {
            "gridcolor": "white",
            "linecolor": "white",
            "ticks": ""
           },
           "bgcolor": "#E5ECF6",
           "caxis": {
            "gridcolor": "white",
            "linecolor": "white",
            "ticks": ""
           }
          },
          "title": {
           "x": 0.05
          },
          "xaxis": {
           "automargin": true,
           "gridcolor": "white",
           "linecolor": "white",
           "ticks": "",
           "title": {
            "standoff": 15
           },
           "zerolinecolor": "white",
           "zerolinewidth": 2
          },
          "yaxis": {
           "automargin": true,
           "gridcolor": "white",
           "linecolor": "white",
           "ticks": "",
           "title": {
            "standoff": 15
           },
           "zerolinecolor": "white",
           "zerolinewidth": 2
          }
         }
        },
        "title": {
         "text": "3D Comparison for departement-78-yvelines - apr_nbsinister_max_1"
        },
        "width": 1000
       }
      }
     },
     "metadata": {},
     "output_type": "display_data"
    }
   ],
   "source": [
    "compare_models_2d(df, df.Department.unique(), dept_markers, ['apr_nbsinister_max_1'],  'Model', 'Scale', 'Scale')"
   ]
  },
  {
   "cell_type": "markdown",
   "metadata": {},
   "source": [
    "###"
   ]
  }
 ],
 "metadata": {
  "kernelspec": {
   "display_name": "Python 3",
   "language": "python",
   "name": "python3"
  },
  "language_info": {
   "codemirror_mode": {
    "name": "ipython",
    "version": 3
   },
   "file_extension": ".py",
   "mimetype": "text/x-python",
   "name": "python",
   "nbconvert_exporter": "python",
   "pygments_lexer": "ipython3",
   "version": "undefined.undefined.undefined"
  }
 },
 "nbformat": 4,
 "nbformat_minor": 2
}
