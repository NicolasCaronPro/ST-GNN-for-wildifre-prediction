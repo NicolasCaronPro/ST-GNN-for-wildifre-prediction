{
 "cells": [
  {
   "cell_type": "code",
   "execution_count": 1,
   "metadata": {},
   "outputs": [],
   "source": [
    "import pandas as pd\n",
    "import numpy as np\n",
    "import matplotlib.pyplot as plt"
   ]
  },
  {
   "cell_type": "code",
   "execution_count": 2,
   "metadata": {},
   "outputs": [],
   "source": [
    "MLFLOW = False"
   ]
  },
  {
   "cell_type": "code",
   "execution_count": 3,
   "metadata": {},
   "outputs": [],
   "source": [
    "import pandas as pd\n",
    "from pathlib import Path\n",
    "\n",
    "def load_all_metrics_files(path):\n",
    "    \"\"\"\n",
    "    Parcourt tous les sous-dossiers de `path`, charge les fichiers `df_metrics.csv`,\n",
    "    et les combine en un seul DataFrame global.\n",
    "\n",
    "    Parameters:\n",
    "    - path (Path): Le chemin du dossier racine à parcourir.\n",
    "\n",
    "    Returns:\n",
    "    - pd.DataFrame: Le DataFrame global combinant tous les fichiers `df_metrics.csv`.\n",
    "    \"\"\"\n",
    "    path = Path(path)\n",
    "    all_metrics = []  # Liste pour stocker tous les DataFrames\n",
    "\n",
    "    # Parcourir tous les sous-dossiers et rechercher les fichiers df_metrics.csv\n",
    "    for file in path.rglob('df_metrics.csv'):\n",
    "        try:\n",
    "            # Charger le fichier CSV dans un DataFrame\n",
    "            df = pd.read_csv(file)\n",
    "\n",
    "            # Ajouter une colonne pour identifier la source du fichier\n",
    "            df['source'] = str(file.parent)  # Ajouter le chemin du dossier parent\n",
    "\n",
    "            # Ajouter le DataFrame à la liste\n",
    "            all_metrics.append(df)\n",
    "        except Exception as e:\n",
    "            print(f\"Erreur lors du chargement de {file}: {e}\")\n",
    "\n",
    "    # Combiner tous les DataFrames en un seul DataFrame global\n",
    "    if all_metrics:\n",
    "        df_global = pd.concat(all_metrics, ignore_index=True)\n",
    "    else:\n",
    "        df_global = pd.DataFrame()  # Si aucun fichier trouvé, retourne un DataFrame vide\n",
    " \n",
    "    return df_global\n",
    "\n",
    "if not MLFLOW:\n",
    "    # Utilisation de la fonction\n",
    "    path = Path('../GNN/firemen/firepoint/2x2/test/occurence_kmeans_thresh')\n",
    "    df = load_all_metrics_files(path)"
   ]
  },
  {
   "cell_type": "code",
   "execution_count": 4,
   "metadata": {},
   "outputs": [
    {
     "data": {
      "text/html": [
       "<div>\n",
       "<style scoped>\n",
       "    .dataframe tbody tr th:only-of-type {\n",
       "        vertical-align: middle;\n",
       "    }\n",
       "\n",
       "    .dataframe tbody tr th {\n",
       "        vertical-align: top;\n",
       "    }\n",
       "\n",
       "    .dataframe thead th {\n",
       "        text-align: right;\n",
       "    }\n",
       "</style>\n",
       "<table border=\"1\" class=\"dataframe\">\n",
       "  <thead>\n",
       "    <tr style=\"text-align: right;\">\n",
       "      <th></th>\n",
       "      <th>Unnamed: 0</th>\n",
       "      <th>Run</th>\n",
       "      <th>apr_nbsinister_max_1</th>\n",
       "      <th>r2_nbsinister_max_1</th>\n",
       "      <th>KS_nbsinister_max_1</th>\n",
       "      <th>ks_1.0_nbsinister_max_1</th>\n",
       "      <th>ks_2.0_nbsinister_max_1</th>\n",
       "      <th>ks_3.0_nbsinister_max_1</th>\n",
       "      <th>ks_4.0_nbsinister_max_1</th>\n",
       "      <th>mae_raw_nbsinister_max_1</th>\n",
       "      <th>...</th>\n",
       "      <th>ks_5.0_saison_high_graph_3.0</th>\n",
       "      <th>ks_6.0_saison_high_graph_3.0</th>\n",
       "      <th>ks_8.0_saison_high_graph_3.0</th>\n",
       "      <th>ks_1.0_saison_medium_graph_3.0</th>\n",
       "      <th>ks_2.0_saison_medium_graph_3.0</th>\n",
       "      <th>ks_3.0_saison_medium_graph_3.0</th>\n",
       "      <th>ks_4.0_saison_medium_graph_3.0</th>\n",
       "      <th>ks_5.0_saison_medium_graph_3.0</th>\n",
       "      <th>ks_6.0_saison_medium_graph_3.0</th>\n",
       "      <th>ks_8.0_saison_medium_graph_3.0</th>\n",
       "    </tr>\n",
       "  </thead>\n",
       "  <tbody>\n",
       "    <tr>\n",
       "      <th>0</th>\n",
       "      <td>0</td>\n",
       "      <td>departement-01-ain_xgboost_nbsinister_regressi...</td>\n",
       "      <td>0.48</td>\n",
       "      <td>0.107620</td>\n",
       "      <td>0.585093</td>\n",
       "      <td>0.497462</td>\n",
       "      <td>0.387097</td>\n",
       "      <td>0.297872</td>\n",
       "      <td>0.285714</td>\n",
       "      <td>0.30</td>\n",
       "      <td>...</td>\n",
       "      <td>NaN</td>\n",
       "      <td>NaN</td>\n",
       "      <td>NaN</td>\n",
       "      <td>NaN</td>\n",
       "      <td>NaN</td>\n",
       "      <td>NaN</td>\n",
       "      <td>NaN</td>\n",
       "      <td>NaN</td>\n",
       "      <td>NaN</td>\n",
       "      <td>NaN</td>\n",
       "    </tr>\n",
       "    <tr>\n",
       "      <th>1</th>\n",
       "      <td>1</td>\n",
       "      <td>departement-25-doubs_xgboost_nbsinister_regres...</td>\n",
       "      <td>0.41</td>\n",
       "      <td>0.218674</td>\n",
       "      <td>0.657292</td>\n",
       "      <td>0.479042</td>\n",
       "      <td>0.400000</td>\n",
       "      <td>NaN</td>\n",
       "      <td>0.285714</td>\n",
       "      <td>0.19</td>\n",
       "      <td>...</td>\n",
       "      <td>NaN</td>\n",
       "      <td>NaN</td>\n",
       "      <td>NaN</td>\n",
       "      <td>NaN</td>\n",
       "      <td>NaN</td>\n",
       "      <td>NaN</td>\n",
       "      <td>NaN</td>\n",
       "      <td>NaN</td>\n",
       "      <td>NaN</td>\n",
       "      <td>NaN</td>\n",
       "    </tr>\n",
       "    <tr>\n",
       "      <th>2</th>\n",
       "      <td>2</td>\n",
       "      <td>departement-78-yvelines_xgboost_nbsinister_reg...</td>\n",
       "      <td>0.65</td>\n",
       "      <td>0.359988</td>\n",
       "      <td>0.688030</td>\n",
       "      <td>0.632812</td>\n",
       "      <td>0.567164</td>\n",
       "      <td>0.482759</td>\n",
       "      <td>0.428571</td>\n",
       "      <td>0.35</td>\n",
       "      <td>...</td>\n",
       "      <td>NaN</td>\n",
       "      <td>NaN</td>\n",
       "      <td>NaN</td>\n",
       "      <td>NaN</td>\n",
       "      <td>NaN</td>\n",
       "      <td>NaN</td>\n",
       "      <td>NaN</td>\n",
       "      <td>NaN</td>\n",
       "      <td>NaN</td>\n",
       "      <td>NaN</td>\n",
       "    </tr>\n",
       "    <tr>\n",
       "      <th>3</th>\n",
       "      <td>0</td>\n",
       "      <td>departement-01-ain_xgboost_nbsinister_regressi...</td>\n",
       "      <td>0.52</td>\n",
       "      <td>0.174836</td>\n",
       "      <td>0.713671</td>\n",
       "      <td>0.539474</td>\n",
       "      <td>0.382022</td>\n",
       "      <td>0.352941</td>\n",
       "      <td>0.333333</td>\n",
       "      <td>0.22</td>\n",
       "      <td>...</td>\n",
       "      <td>NaN</td>\n",
       "      <td>NaN</td>\n",
       "      <td>NaN</td>\n",
       "      <td>NaN</td>\n",
       "      <td>NaN</td>\n",
       "      <td>NaN</td>\n",
       "      <td>NaN</td>\n",
       "      <td>NaN</td>\n",
       "      <td>NaN</td>\n",
       "      <td>NaN</td>\n",
       "    </tr>\n",
       "    <tr>\n",
       "      <th>4</th>\n",
       "      <td>1</td>\n",
       "      <td>departement-25-doubs_xgboost_nbsinister_regres...</td>\n",
       "      <td>0.32</td>\n",
       "      <td>-0.051441</td>\n",
       "      <td>0.775638</td>\n",
       "      <td>0.439024</td>\n",
       "      <td>0.285714</td>\n",
       "      <td>NaN</td>\n",
       "      <td>0.129032</td>\n",
       "      <td>0.13</td>\n",
       "      <td>...</td>\n",
       "      <td>NaN</td>\n",
       "      <td>NaN</td>\n",
       "      <td>NaN</td>\n",
       "      <td>NaN</td>\n",
       "      <td>NaN</td>\n",
       "      <td>NaN</td>\n",
       "      <td>NaN</td>\n",
       "      <td>NaN</td>\n",
       "      <td>NaN</td>\n",
       "      <td>NaN</td>\n",
       "    </tr>\n",
       "    <tr>\n",
       "      <th>5</th>\n",
       "      <td>2</td>\n",
       "      <td>departement-78-yvelines_xgboost_nbsinister_reg...</td>\n",
       "      <td>0.72</td>\n",
       "      <td>0.401598</td>\n",
       "      <td>0.805678</td>\n",
       "      <td>0.690909</td>\n",
       "      <td>0.581818</td>\n",
       "      <td>0.480000</td>\n",
       "      <td>0.461538</td>\n",
       "      <td>0.25</td>\n",
       "      <td>...</td>\n",
       "      <td>NaN</td>\n",
       "      <td>NaN</td>\n",
       "      <td>NaN</td>\n",
       "      <td>NaN</td>\n",
       "      <td>NaN</td>\n",
       "      <td>NaN</td>\n",
       "      <td>NaN</td>\n",
       "      <td>NaN</td>\n",
       "      <td>NaN</td>\n",
       "      <td>NaN</td>\n",
       "    </tr>\n",
       "    <tr>\n",
       "      <th>6</th>\n",
       "      <td>0</td>\n",
       "      <td>departement-01-ain_xgboost_nbsinister_regressi...</td>\n",
       "      <td>0.44</td>\n",
       "      <td>0.042459</td>\n",
       "      <td>0.445887</td>\n",
       "      <td>0.470149</td>\n",
       "      <td>0.380165</td>\n",
       "      <td>0.296296</td>\n",
       "      <td>0.266667</td>\n",
       "      <td>0.41</td>\n",
       "      <td>...</td>\n",
       "      <td>NaN</td>\n",
       "      <td>NaN</td>\n",
       "      <td>NaN</td>\n",
       "      <td>NaN</td>\n",
       "      <td>NaN</td>\n",
       "      <td>NaN</td>\n",
       "      <td>NaN</td>\n",
       "      <td>NaN</td>\n",
       "      <td>NaN</td>\n",
       "      <td>NaN</td>\n",
       "    </tr>\n",
       "    <tr>\n",
       "      <th>7</th>\n",
       "      <td>1</td>\n",
       "      <td>departement-25-doubs_xgboost_nbsinister_regres...</td>\n",
       "      <td>0.40</td>\n",
       "      <td>0.168808</td>\n",
       "      <td>0.471715</td>\n",
       "      <td>0.431250</td>\n",
       "      <td>0.411765</td>\n",
       "      <td>NaN</td>\n",
       "      <td>0.400000</td>\n",
       "      <td>0.30</td>\n",
       "      <td>...</td>\n",
       "      <td>NaN</td>\n",
       "      <td>NaN</td>\n",
       "      <td>NaN</td>\n",
       "      <td>NaN</td>\n",
       "      <td>NaN</td>\n",
       "      <td>NaN</td>\n",
       "      <td>NaN</td>\n",
       "      <td>NaN</td>\n",
       "      <td>NaN</td>\n",
       "      <td>NaN</td>\n",
       "    </tr>\n",
       "    <tr>\n",
       "      <th>8</th>\n",
       "      <td>2</td>\n",
       "      <td>departement-78-yvelines_xgboost_nbsinister_reg...</td>\n",
       "      <td>0.58</td>\n",
       "      <td>0.275499</td>\n",
       "      <td>0.454772</td>\n",
       "      <td>0.559783</td>\n",
       "      <td>0.500000</td>\n",
       "      <td>0.480000</td>\n",
       "      <td>0.428571</td>\n",
       "      <td>0.51</td>\n",
       "      <td>...</td>\n",
       "      <td>NaN</td>\n",
       "      <td>NaN</td>\n",
       "      <td>NaN</td>\n",
       "      <td>NaN</td>\n",
       "      <td>NaN</td>\n",
       "      <td>NaN</td>\n",
       "      <td>NaN</td>\n",
       "      <td>NaN</td>\n",
       "      <td>NaN</td>\n",
       "      <td>NaN</td>\n",
       "    </tr>\n",
       "    <tr>\n",
       "      <th>9</th>\n",
       "      <td>0</td>\n",
       "      <td>departement-01-ain_xgboost_nbsinister_regressi...</td>\n",
       "      <td>0.46</td>\n",
       "      <td>0.086236</td>\n",
       "      <td>0.536388</td>\n",
       "      <td>0.481752</td>\n",
       "      <td>0.384000</td>\n",
       "      <td>0.297872</td>\n",
       "      <td>0.285714</td>\n",
       "      <td>0.32</td>\n",
       "      <td>...</td>\n",
       "      <td>NaN</td>\n",
       "      <td>NaN</td>\n",
       "      <td>NaN</td>\n",
       "      <td>NaN</td>\n",
       "      <td>NaN</td>\n",
       "      <td>NaN</td>\n",
       "      <td>NaN</td>\n",
       "      <td>NaN</td>\n",
       "      <td>NaN</td>\n",
       "      <td>NaN</td>\n",
       "    </tr>\n",
       "    <tr>\n",
       "      <th>10</th>\n",
       "      <td>1</td>\n",
       "      <td>departement-25-doubs_xgboost_nbsinister_regres...</td>\n",
       "      <td>0.40</td>\n",
       "      <td>0.183045</td>\n",
       "      <td>0.527086</td>\n",
       "      <td>0.450216</td>\n",
       "      <td>0.380952</td>\n",
       "      <td>NaN</td>\n",
       "      <td>0.444444</td>\n",
       "      <td>0.26</td>\n",
       "      <td>...</td>\n",
       "      <td>NaN</td>\n",
       "      <td>NaN</td>\n",
       "      <td>NaN</td>\n",
       "      <td>NaN</td>\n",
       "      <td>NaN</td>\n",
       "      <td>NaN</td>\n",
       "      <td>NaN</td>\n",
       "      <td>NaN</td>\n",
       "      <td>NaN</td>\n",
       "      <td>NaN</td>\n",
       "    </tr>\n",
       "    <tr>\n",
       "      <th>11</th>\n",
       "      <td>2</td>\n",
       "      <td>departement-78-yvelines_xgboost_nbsinister_reg...</td>\n",
       "      <td>0.63</td>\n",
       "      <td>0.337522</td>\n",
       "      <td>0.633769</td>\n",
       "      <td>0.611511</td>\n",
       "      <td>0.550725</td>\n",
       "      <td>0.482759</td>\n",
       "      <td>0.428571</td>\n",
       "      <td>0.39</td>\n",
       "      <td>...</td>\n",
       "      <td>NaN</td>\n",
       "      <td>NaN</td>\n",
       "      <td>NaN</td>\n",
       "      <td>NaN</td>\n",
       "      <td>NaN</td>\n",
       "      <td>NaN</td>\n",
       "      <td>NaN</td>\n",
       "      <td>NaN</td>\n",
       "      <td>NaN</td>\n",
       "      <td>NaN</td>\n",
       "    </tr>\n",
       "    <tr>\n",
       "      <th>12</th>\n",
       "      <td>0</td>\n",
       "      <td>departement-01-ain_xgboost_nbsinister_regressi...</td>\n",
       "      <td>0.74</td>\n",
       "      <td>0.236748</td>\n",
       "      <td>0.427820</td>\n",
       "      <td>NaN</td>\n",
       "      <td>NaN</td>\n",
       "      <td>NaN</td>\n",
       "      <td>NaN</td>\n",
       "      <td>0.96</td>\n",
       "      <td>...</td>\n",
       "      <td>NaN</td>\n",
       "      <td>NaN</td>\n",
       "      <td>NaN</td>\n",
       "      <td>NaN</td>\n",
       "      <td>NaN</td>\n",
       "      <td>NaN</td>\n",
       "      <td>NaN</td>\n",
       "      <td>NaN</td>\n",
       "      <td>NaN</td>\n",
       "      <td>NaN</td>\n",
       "    </tr>\n",
       "    <tr>\n",
       "      <th>13</th>\n",
       "      <td>1</td>\n",
       "      <td>departement-25-doubs_xgboost_nbsinister_regres...</td>\n",
       "      <td>0.70</td>\n",
       "      <td>0.120831</td>\n",
       "      <td>0.527062</td>\n",
       "      <td>NaN</td>\n",
       "      <td>NaN</td>\n",
       "      <td>NaN</td>\n",
       "      <td>NaN</td>\n",
       "      <td>0.87</td>\n",
       "      <td>...</td>\n",
       "      <td>NaN</td>\n",
       "      <td>NaN</td>\n",
       "      <td>NaN</td>\n",
       "      <td>NaN</td>\n",
       "      <td>NaN</td>\n",
       "      <td>NaN</td>\n",
       "      <td>NaN</td>\n",
       "      <td>NaN</td>\n",
       "      <td>NaN</td>\n",
       "      <td>NaN</td>\n",
       "    </tr>\n",
       "    <tr>\n",
       "      <th>14</th>\n",
       "      <td>2</td>\n",
       "      <td>departement-78-yvelines_xgboost_nbsinister_reg...</td>\n",
       "      <td>0.70</td>\n",
       "      <td>0.320198</td>\n",
       "      <td>0.446089</td>\n",
       "      <td>NaN</td>\n",
       "      <td>NaN</td>\n",
       "      <td>NaN</td>\n",
       "      <td>NaN</td>\n",
       "      <td>0.76</td>\n",
       "      <td>...</td>\n",
       "      <td>0.500000</td>\n",
       "      <td>0.200000</td>\n",
       "      <td>0.071429</td>\n",
       "      <td>0.666667</td>\n",
       "      <td>0.421053</td>\n",
       "      <td>0.250000</td>\n",
       "      <td>0.160000</td>\n",
       "      <td>0.0</td>\n",
       "      <td>0.0</td>\n",
       "      <td>0.0</td>\n",
       "    </tr>\n",
       "    <tr>\n",
       "      <th>15</th>\n",
       "      <td>0</td>\n",
       "      <td>departement-01-ain_xgboost_nbsinister_regressi...</td>\n",
       "      <td>0.74</td>\n",
       "      <td>0.187299</td>\n",
       "      <td>0.436203</td>\n",
       "      <td>NaN</td>\n",
       "      <td>NaN</td>\n",
       "      <td>NaN</td>\n",
       "      <td>NaN</td>\n",
       "      <td>0.90</td>\n",
       "      <td>...</td>\n",
       "      <td>NaN</td>\n",
       "      <td>NaN</td>\n",
       "      <td>NaN</td>\n",
       "      <td>NaN</td>\n",
       "      <td>NaN</td>\n",
       "      <td>NaN</td>\n",
       "      <td>NaN</td>\n",
       "      <td>NaN</td>\n",
       "      <td>NaN</td>\n",
       "      <td>NaN</td>\n",
       "    </tr>\n",
       "    <tr>\n",
       "      <th>16</th>\n",
       "      <td>1</td>\n",
       "      <td>departement-25-doubs_xgboost_nbsinister_regres...</td>\n",
       "      <td>0.68</td>\n",
       "      <td>0.027900</td>\n",
       "      <td>0.460606</td>\n",
       "      <td>NaN</td>\n",
       "      <td>NaN</td>\n",
       "      <td>NaN</td>\n",
       "      <td>NaN</td>\n",
       "      <td>0.84</td>\n",
       "      <td>...</td>\n",
       "      <td>NaN</td>\n",
       "      <td>NaN</td>\n",
       "      <td>NaN</td>\n",
       "      <td>NaN</td>\n",
       "      <td>NaN</td>\n",
       "      <td>NaN</td>\n",
       "      <td>NaN</td>\n",
       "      <td>NaN</td>\n",
       "      <td>NaN</td>\n",
       "      <td>NaN</td>\n",
       "    </tr>\n",
       "    <tr>\n",
       "      <th>17</th>\n",
       "      <td>2</td>\n",
       "      <td>departement-78-yvelines_xgboost_nbsinister_reg...</td>\n",
       "      <td>0.71</td>\n",
       "      <td>0.262080</td>\n",
       "      <td>0.498265</td>\n",
       "      <td>NaN</td>\n",
       "      <td>NaN</td>\n",
       "      <td>NaN</td>\n",
       "      <td>NaN</td>\n",
       "      <td>0.68</td>\n",
       "      <td>...</td>\n",
       "      <td>0.500000</td>\n",
       "      <td>0.222222</td>\n",
       "      <td>0.080000</td>\n",
       "      <td>0.649123</td>\n",
       "      <td>0.451613</td>\n",
       "      <td>0.315789</td>\n",
       "      <td>0.235294</td>\n",
       "      <td>0.0</td>\n",
       "      <td>0.0</td>\n",
       "      <td>0.0</td>\n",
       "    </tr>\n",
       "    <tr>\n",
       "      <th>18</th>\n",
       "      <td>0</td>\n",
       "      <td>departement-01-ain_xgboost_nbsinister_regressi...</td>\n",
       "      <td>0.44</td>\n",
       "      <td>0.039585</td>\n",
       "      <td>0.441589</td>\n",
       "      <td>0.469274</td>\n",
       "      <td>0.380165</td>\n",
       "      <td>0.296296</td>\n",
       "      <td>0.266667</td>\n",
       "      <td>0.41</td>\n",
       "      <td>...</td>\n",
       "      <td>NaN</td>\n",
       "      <td>NaN</td>\n",
       "      <td>NaN</td>\n",
       "      <td>NaN</td>\n",
       "      <td>NaN</td>\n",
       "      <td>NaN</td>\n",
       "      <td>NaN</td>\n",
       "      <td>NaN</td>\n",
       "      <td>NaN</td>\n",
       "      <td>NaN</td>\n",
       "    </tr>\n",
       "    <tr>\n",
       "      <th>19</th>\n",
       "      <td>1</td>\n",
       "      <td>departement-25-doubs_xgboost_nbsinister_regres...</td>\n",
       "      <td>0.40</td>\n",
       "      <td>0.167505</td>\n",
       "      <td>0.465996</td>\n",
       "      <td>0.429022</td>\n",
       "      <td>0.417910</td>\n",
       "      <td>NaN</td>\n",
       "      <td>0.400000</td>\n",
       "      <td>0.30</td>\n",
       "      <td>...</td>\n",
       "      <td>NaN</td>\n",
       "      <td>NaN</td>\n",
       "      <td>NaN</td>\n",
       "      <td>NaN</td>\n",
       "      <td>NaN</td>\n",
       "      <td>NaN</td>\n",
       "      <td>NaN</td>\n",
       "      <td>NaN</td>\n",
       "      <td>NaN</td>\n",
       "      <td>NaN</td>\n",
       "    </tr>\n",
       "    <tr>\n",
       "      <th>20</th>\n",
       "      <td>2</td>\n",
       "      <td>departement-78-yvelines_xgboost_nbsinister_reg...</td>\n",
       "      <td>0.58</td>\n",
       "      <td>0.274496</td>\n",
       "      <td>0.454772</td>\n",
       "      <td>0.555858</td>\n",
       "      <td>0.500000</td>\n",
       "      <td>0.484848</td>\n",
       "      <td>0.428571</td>\n",
       "      <td>0.51</td>\n",
       "      <td>...</td>\n",
       "      <td>NaN</td>\n",
       "      <td>NaN</td>\n",
       "      <td>NaN</td>\n",
       "      <td>NaN</td>\n",
       "      <td>NaN</td>\n",
       "      <td>NaN</td>\n",
       "      <td>NaN</td>\n",
       "      <td>NaN</td>\n",
       "      <td>NaN</td>\n",
       "      <td>NaN</td>\n",
       "    </tr>\n",
       "    <tr>\n",
       "      <th>21</th>\n",
       "      <td>0</td>\n",
       "      <td>departement-01-ain_xgboost_nbsinister_regressi...</td>\n",
       "      <td>0.74</td>\n",
       "      <td>0.240461</td>\n",
       "      <td>0.439681</td>\n",
       "      <td>NaN</td>\n",
       "      <td>NaN</td>\n",
       "      <td>NaN</td>\n",
       "      <td>NaN</td>\n",
       "      <td>0.94</td>\n",
       "      <td>...</td>\n",
       "      <td>NaN</td>\n",
       "      <td>NaN</td>\n",
       "      <td>NaN</td>\n",
       "      <td>NaN</td>\n",
       "      <td>NaN</td>\n",
       "      <td>NaN</td>\n",
       "      <td>NaN</td>\n",
       "      <td>NaN</td>\n",
       "      <td>NaN</td>\n",
       "      <td>NaN</td>\n",
       "    </tr>\n",
       "    <tr>\n",
       "      <th>22</th>\n",
       "      <td>1</td>\n",
       "      <td>departement-25-doubs_xgboost_nbsinister_regres...</td>\n",
       "      <td>0.71</td>\n",
       "      <td>0.143359</td>\n",
       "      <td>0.540152</td>\n",
       "      <td>NaN</td>\n",
       "      <td>NaN</td>\n",
       "      <td>NaN</td>\n",
       "      <td>NaN</td>\n",
       "      <td>0.85</td>\n",
       "      <td>...</td>\n",
       "      <td>NaN</td>\n",
       "      <td>NaN</td>\n",
       "      <td>NaN</td>\n",
       "      <td>NaN</td>\n",
       "      <td>NaN</td>\n",
       "      <td>NaN</td>\n",
       "      <td>NaN</td>\n",
       "      <td>NaN</td>\n",
       "      <td>NaN</td>\n",
       "      <td>NaN</td>\n",
       "    </tr>\n",
       "    <tr>\n",
       "      <th>23</th>\n",
       "      <td>2</td>\n",
       "      <td>departement-78-yvelines_xgboost_nbsinister_reg...</td>\n",
       "      <td>0.70</td>\n",
       "      <td>0.315861</td>\n",
       "      <td>0.451064</td>\n",
       "      <td>NaN</td>\n",
       "      <td>NaN</td>\n",
       "      <td>NaN</td>\n",
       "      <td>NaN</td>\n",
       "      <td>0.75</td>\n",
       "      <td>...</td>\n",
       "      <td>0.500000</td>\n",
       "      <td>0.200000</td>\n",
       "      <td>0.071429</td>\n",
       "      <td>0.661417</td>\n",
       "      <td>0.400000</td>\n",
       "      <td>0.250000</td>\n",
       "      <td>0.148148</td>\n",
       "      <td>0.0</td>\n",
       "      <td>0.0</td>\n",
       "      <td>0.0</td>\n",
       "    </tr>\n",
       "    <tr>\n",
       "      <th>24</th>\n",
       "      <td>0</td>\n",
       "      <td>departement-01-ain_xgboost_nbsinister_regressi...</td>\n",
       "      <td>0.74</td>\n",
       "      <td>0.236311</td>\n",
       "      <td>0.427820</td>\n",
       "      <td>NaN</td>\n",
       "      <td>NaN</td>\n",
       "      <td>NaN</td>\n",
       "      <td>NaN</td>\n",
       "      <td>0.96</td>\n",
       "      <td>...</td>\n",
       "      <td>NaN</td>\n",
       "      <td>NaN</td>\n",
       "      <td>NaN</td>\n",
       "      <td>NaN</td>\n",
       "      <td>NaN</td>\n",
       "      <td>NaN</td>\n",
       "      <td>NaN</td>\n",
       "      <td>NaN</td>\n",
       "      <td>NaN</td>\n",
       "      <td>NaN</td>\n",
       "    </tr>\n",
       "    <tr>\n",
       "      <th>25</th>\n",
       "      <td>1</td>\n",
       "      <td>departement-25-doubs_xgboost_nbsinister_regres...</td>\n",
       "      <td>0.70</td>\n",
       "      <td>0.121409</td>\n",
       "      <td>0.524327</td>\n",
       "      <td>NaN</td>\n",
       "      <td>NaN</td>\n",
       "      <td>NaN</td>\n",
       "      <td>NaN</td>\n",
       "      <td>0.87</td>\n",
       "      <td>...</td>\n",
       "      <td>NaN</td>\n",
       "      <td>NaN</td>\n",
       "      <td>NaN</td>\n",
       "      <td>NaN</td>\n",
       "      <td>NaN</td>\n",
       "      <td>NaN</td>\n",
       "      <td>NaN</td>\n",
       "      <td>NaN</td>\n",
       "      <td>NaN</td>\n",
       "      <td>NaN</td>\n",
       "    </tr>\n",
       "    <tr>\n",
       "      <th>26</th>\n",
       "      <td>2</td>\n",
       "      <td>departement-78-yvelines_xgboost_nbsinister_reg...</td>\n",
       "      <td>0.70</td>\n",
       "      <td>0.319384</td>\n",
       "      <td>0.447636</td>\n",
       "      <td>NaN</td>\n",
       "      <td>NaN</td>\n",
       "      <td>NaN</td>\n",
       "      <td>NaN</td>\n",
       "      <td>0.76</td>\n",
       "      <td>...</td>\n",
       "      <td>0.500000</td>\n",
       "      <td>0.200000</td>\n",
       "      <td>0.071429</td>\n",
       "      <td>0.666667</td>\n",
       "      <td>0.416667</td>\n",
       "      <td>0.250000</td>\n",
       "      <td>0.153846</td>\n",
       "      <td>0.0</td>\n",
       "      <td>0.0</td>\n",
       "      <td>0.0</td>\n",
       "    </tr>\n",
       "    <tr>\n",
       "      <th>27</th>\n",
       "      <td>0</td>\n",
       "      <td>departement-01-ain_xgboost_nbsinister_regressi...</td>\n",
       "      <td>0.73</td>\n",
       "      <td>0.225048</td>\n",
       "      <td>0.405078</td>\n",
       "      <td>NaN</td>\n",
       "      <td>NaN</td>\n",
       "      <td>NaN</td>\n",
       "      <td>NaN</td>\n",
       "      <td>0.93</td>\n",
       "      <td>...</td>\n",
       "      <td>NaN</td>\n",
       "      <td>NaN</td>\n",
       "      <td>NaN</td>\n",
       "      <td>NaN</td>\n",
       "      <td>NaN</td>\n",
       "      <td>NaN</td>\n",
       "      <td>NaN</td>\n",
       "      <td>NaN</td>\n",
       "      <td>NaN</td>\n",
       "      <td>NaN</td>\n",
       "    </tr>\n",
       "    <tr>\n",
       "      <th>28</th>\n",
       "      <td>1</td>\n",
       "      <td>departement-25-doubs_xgboost_nbsinister_regres...</td>\n",
       "      <td>0.71</td>\n",
       "      <td>0.160927</td>\n",
       "      <td>0.528788</td>\n",
       "      <td>NaN</td>\n",
       "      <td>NaN</td>\n",
       "      <td>NaN</td>\n",
       "      <td>NaN</td>\n",
       "      <td>0.82</td>\n",
       "      <td>...</td>\n",
       "      <td>NaN</td>\n",
       "      <td>NaN</td>\n",
       "      <td>NaN</td>\n",
       "      <td>NaN</td>\n",
       "      <td>NaN</td>\n",
       "      <td>NaN</td>\n",
       "      <td>NaN</td>\n",
       "      <td>NaN</td>\n",
       "      <td>NaN</td>\n",
       "      <td>NaN</td>\n",
       "    </tr>\n",
       "    <tr>\n",
       "      <th>29</th>\n",
       "      <td>2</td>\n",
       "      <td>departement-78-yvelines_xgboost_nbsinister_reg...</td>\n",
       "      <td>0.71</td>\n",
       "      <td>0.306404</td>\n",
       "      <td>0.479911</td>\n",
       "      <td>NaN</td>\n",
       "      <td>NaN</td>\n",
       "      <td>NaN</td>\n",
       "      <td>NaN</td>\n",
       "      <td>0.72</td>\n",
       "      <td>...</td>\n",
       "      <td>0.533333</td>\n",
       "      <td>0.193548</td>\n",
       "      <td>0.068966</td>\n",
       "      <td>0.657534</td>\n",
       "      <td>0.439024</td>\n",
       "      <td>0.266667</td>\n",
       "      <td>0.142857</td>\n",
       "      <td>0.0</td>\n",
       "      <td>0.0</td>\n",
       "      <td>0.0</td>\n",
       "    </tr>\n",
       "  </tbody>\n",
       "</table>\n",
       "<p>30 rows × 386 columns</p>\n",
       "</div>"
      ],
      "text/plain": [
       "    Unnamed: 0                                                Run  \\\n",
       "0            0  departement-01-ain_xgboost_nbsinister_regressi...   \n",
       "1            1  departement-25-doubs_xgboost_nbsinister_regres...   \n",
       "2            2  departement-78-yvelines_xgboost_nbsinister_reg...   \n",
       "3            0  departement-01-ain_xgboost_nbsinister_regressi...   \n",
       "4            1  departement-25-doubs_xgboost_nbsinister_regres...   \n",
       "5            2  departement-78-yvelines_xgboost_nbsinister_reg...   \n",
       "6            0  departement-01-ain_xgboost_nbsinister_regressi...   \n",
       "7            1  departement-25-doubs_xgboost_nbsinister_regres...   \n",
       "8            2  departement-78-yvelines_xgboost_nbsinister_reg...   \n",
       "9            0  departement-01-ain_xgboost_nbsinister_regressi...   \n",
       "10           1  departement-25-doubs_xgboost_nbsinister_regres...   \n",
       "11           2  departement-78-yvelines_xgboost_nbsinister_reg...   \n",
       "12           0  departement-01-ain_xgboost_nbsinister_regressi...   \n",
       "13           1  departement-25-doubs_xgboost_nbsinister_regres...   \n",
       "14           2  departement-78-yvelines_xgboost_nbsinister_reg...   \n",
       "15           0  departement-01-ain_xgboost_nbsinister_regressi...   \n",
       "16           1  departement-25-doubs_xgboost_nbsinister_regres...   \n",
       "17           2  departement-78-yvelines_xgboost_nbsinister_reg...   \n",
       "18           0  departement-01-ain_xgboost_nbsinister_regressi...   \n",
       "19           1  departement-25-doubs_xgboost_nbsinister_regres...   \n",
       "20           2  departement-78-yvelines_xgboost_nbsinister_reg...   \n",
       "21           0  departement-01-ain_xgboost_nbsinister_regressi...   \n",
       "22           1  departement-25-doubs_xgboost_nbsinister_regres...   \n",
       "23           2  departement-78-yvelines_xgboost_nbsinister_reg...   \n",
       "24           0  departement-01-ain_xgboost_nbsinister_regressi...   \n",
       "25           1  departement-25-doubs_xgboost_nbsinister_regres...   \n",
       "26           2  departement-78-yvelines_xgboost_nbsinister_reg...   \n",
       "27           0  departement-01-ain_xgboost_nbsinister_regressi...   \n",
       "28           1  departement-25-doubs_xgboost_nbsinister_regres...   \n",
       "29           2  departement-78-yvelines_xgboost_nbsinister_reg...   \n",
       "\n",
       "    apr_nbsinister_max_1  r2_nbsinister_max_1  KS_nbsinister_max_1  \\\n",
       "0                   0.48             0.107620             0.585093   \n",
       "1                   0.41             0.218674             0.657292   \n",
       "2                   0.65             0.359988             0.688030   \n",
       "3                   0.52             0.174836             0.713671   \n",
       "4                   0.32            -0.051441             0.775638   \n",
       "5                   0.72             0.401598             0.805678   \n",
       "6                   0.44             0.042459             0.445887   \n",
       "7                   0.40             0.168808             0.471715   \n",
       "8                   0.58             0.275499             0.454772   \n",
       "9                   0.46             0.086236             0.536388   \n",
       "10                  0.40             0.183045             0.527086   \n",
       "11                  0.63             0.337522             0.633769   \n",
       "12                  0.74             0.236748             0.427820   \n",
       "13                  0.70             0.120831             0.527062   \n",
       "14                  0.70             0.320198             0.446089   \n",
       "15                  0.74             0.187299             0.436203   \n",
       "16                  0.68             0.027900             0.460606   \n",
       "17                  0.71             0.262080             0.498265   \n",
       "18                  0.44             0.039585             0.441589   \n",
       "19                  0.40             0.167505             0.465996   \n",
       "20                  0.58             0.274496             0.454772   \n",
       "21                  0.74             0.240461             0.439681   \n",
       "22                  0.71             0.143359             0.540152   \n",
       "23                  0.70             0.315861             0.451064   \n",
       "24                  0.74             0.236311             0.427820   \n",
       "25                  0.70             0.121409             0.524327   \n",
       "26                  0.70             0.319384             0.447636   \n",
       "27                  0.73             0.225048             0.405078   \n",
       "28                  0.71             0.160927             0.528788   \n",
       "29                  0.71             0.306404             0.479911   \n",
       "\n",
       "    ks_1.0_nbsinister_max_1  ks_2.0_nbsinister_max_1  ks_3.0_nbsinister_max_1  \\\n",
       "0                  0.497462                 0.387097                 0.297872   \n",
       "1                  0.479042                 0.400000                      NaN   \n",
       "2                  0.632812                 0.567164                 0.482759   \n",
       "3                  0.539474                 0.382022                 0.352941   \n",
       "4                  0.439024                 0.285714                      NaN   \n",
       "5                  0.690909                 0.581818                 0.480000   \n",
       "6                  0.470149                 0.380165                 0.296296   \n",
       "7                  0.431250                 0.411765                      NaN   \n",
       "8                  0.559783                 0.500000                 0.480000   \n",
       "9                  0.481752                 0.384000                 0.297872   \n",
       "10                 0.450216                 0.380952                      NaN   \n",
       "11                 0.611511                 0.550725                 0.482759   \n",
       "12                      NaN                      NaN                      NaN   \n",
       "13                      NaN                      NaN                      NaN   \n",
       "14                      NaN                      NaN                      NaN   \n",
       "15                      NaN                      NaN                      NaN   \n",
       "16                      NaN                      NaN                      NaN   \n",
       "17                      NaN                      NaN                      NaN   \n",
       "18                 0.469274                 0.380165                 0.296296   \n",
       "19                 0.429022                 0.417910                      NaN   \n",
       "20                 0.555858                 0.500000                 0.484848   \n",
       "21                      NaN                      NaN                      NaN   \n",
       "22                      NaN                      NaN                      NaN   \n",
       "23                      NaN                      NaN                      NaN   \n",
       "24                      NaN                      NaN                      NaN   \n",
       "25                      NaN                      NaN                      NaN   \n",
       "26                      NaN                      NaN                      NaN   \n",
       "27                      NaN                      NaN                      NaN   \n",
       "28                      NaN                      NaN                      NaN   \n",
       "29                      NaN                      NaN                      NaN   \n",
       "\n",
       "    ks_4.0_nbsinister_max_1  mae_raw_nbsinister_max_1  ...  \\\n",
       "0                  0.285714                      0.30  ...   \n",
       "1                  0.285714                      0.19  ...   \n",
       "2                  0.428571                      0.35  ...   \n",
       "3                  0.333333                      0.22  ...   \n",
       "4                  0.129032                      0.13  ...   \n",
       "5                  0.461538                      0.25  ...   \n",
       "6                  0.266667                      0.41  ...   \n",
       "7                  0.400000                      0.30  ...   \n",
       "8                  0.428571                      0.51  ...   \n",
       "9                  0.285714                      0.32  ...   \n",
       "10                 0.444444                      0.26  ...   \n",
       "11                 0.428571                      0.39  ...   \n",
       "12                      NaN                      0.96  ...   \n",
       "13                      NaN                      0.87  ...   \n",
       "14                      NaN                      0.76  ...   \n",
       "15                      NaN                      0.90  ...   \n",
       "16                      NaN                      0.84  ...   \n",
       "17                      NaN                      0.68  ...   \n",
       "18                 0.266667                      0.41  ...   \n",
       "19                 0.400000                      0.30  ...   \n",
       "20                 0.428571                      0.51  ...   \n",
       "21                      NaN                      0.94  ...   \n",
       "22                      NaN                      0.85  ...   \n",
       "23                      NaN                      0.75  ...   \n",
       "24                      NaN                      0.96  ...   \n",
       "25                      NaN                      0.87  ...   \n",
       "26                      NaN                      0.76  ...   \n",
       "27                      NaN                      0.93  ...   \n",
       "28                      NaN                      0.82  ...   \n",
       "29                      NaN                      0.72  ...   \n",
       "\n",
       "    ks_5.0_saison_high_graph_3.0  ks_6.0_saison_high_graph_3.0  \\\n",
       "0                            NaN                           NaN   \n",
       "1                            NaN                           NaN   \n",
       "2                            NaN                           NaN   \n",
       "3                            NaN                           NaN   \n",
       "4                            NaN                           NaN   \n",
       "5                            NaN                           NaN   \n",
       "6                            NaN                           NaN   \n",
       "7                            NaN                           NaN   \n",
       "8                            NaN                           NaN   \n",
       "9                            NaN                           NaN   \n",
       "10                           NaN                           NaN   \n",
       "11                           NaN                           NaN   \n",
       "12                           NaN                           NaN   \n",
       "13                           NaN                           NaN   \n",
       "14                      0.500000                      0.200000   \n",
       "15                           NaN                           NaN   \n",
       "16                           NaN                           NaN   \n",
       "17                      0.500000                      0.222222   \n",
       "18                           NaN                           NaN   \n",
       "19                           NaN                           NaN   \n",
       "20                           NaN                           NaN   \n",
       "21                           NaN                           NaN   \n",
       "22                           NaN                           NaN   \n",
       "23                      0.500000                      0.200000   \n",
       "24                           NaN                           NaN   \n",
       "25                           NaN                           NaN   \n",
       "26                      0.500000                      0.200000   \n",
       "27                           NaN                           NaN   \n",
       "28                           NaN                           NaN   \n",
       "29                      0.533333                      0.193548   \n",
       "\n",
       "    ks_8.0_saison_high_graph_3.0  ks_1.0_saison_medium_graph_3.0  \\\n",
       "0                            NaN                             NaN   \n",
       "1                            NaN                             NaN   \n",
       "2                            NaN                             NaN   \n",
       "3                            NaN                             NaN   \n",
       "4                            NaN                             NaN   \n",
       "5                            NaN                             NaN   \n",
       "6                            NaN                             NaN   \n",
       "7                            NaN                             NaN   \n",
       "8                            NaN                             NaN   \n",
       "9                            NaN                             NaN   \n",
       "10                           NaN                             NaN   \n",
       "11                           NaN                             NaN   \n",
       "12                           NaN                             NaN   \n",
       "13                           NaN                             NaN   \n",
       "14                      0.071429                        0.666667   \n",
       "15                           NaN                             NaN   \n",
       "16                           NaN                             NaN   \n",
       "17                      0.080000                        0.649123   \n",
       "18                           NaN                             NaN   \n",
       "19                           NaN                             NaN   \n",
       "20                           NaN                             NaN   \n",
       "21                           NaN                             NaN   \n",
       "22                           NaN                             NaN   \n",
       "23                      0.071429                        0.661417   \n",
       "24                           NaN                             NaN   \n",
       "25                           NaN                             NaN   \n",
       "26                      0.071429                        0.666667   \n",
       "27                           NaN                             NaN   \n",
       "28                           NaN                             NaN   \n",
       "29                      0.068966                        0.657534   \n",
       "\n",
       "    ks_2.0_saison_medium_graph_3.0  ks_3.0_saison_medium_graph_3.0  \\\n",
       "0                              NaN                             NaN   \n",
       "1                              NaN                             NaN   \n",
       "2                              NaN                             NaN   \n",
       "3                              NaN                             NaN   \n",
       "4                              NaN                             NaN   \n",
       "5                              NaN                             NaN   \n",
       "6                              NaN                             NaN   \n",
       "7                              NaN                             NaN   \n",
       "8                              NaN                             NaN   \n",
       "9                              NaN                             NaN   \n",
       "10                             NaN                             NaN   \n",
       "11                             NaN                             NaN   \n",
       "12                             NaN                             NaN   \n",
       "13                             NaN                             NaN   \n",
       "14                        0.421053                        0.250000   \n",
       "15                             NaN                             NaN   \n",
       "16                             NaN                             NaN   \n",
       "17                        0.451613                        0.315789   \n",
       "18                             NaN                             NaN   \n",
       "19                             NaN                             NaN   \n",
       "20                             NaN                             NaN   \n",
       "21                             NaN                             NaN   \n",
       "22                             NaN                             NaN   \n",
       "23                        0.400000                        0.250000   \n",
       "24                             NaN                             NaN   \n",
       "25                             NaN                             NaN   \n",
       "26                        0.416667                        0.250000   \n",
       "27                             NaN                             NaN   \n",
       "28                             NaN                             NaN   \n",
       "29                        0.439024                        0.266667   \n",
       "\n",
       "    ks_4.0_saison_medium_graph_3.0  ks_5.0_saison_medium_graph_3.0  \\\n",
       "0                              NaN                             NaN   \n",
       "1                              NaN                             NaN   \n",
       "2                              NaN                             NaN   \n",
       "3                              NaN                             NaN   \n",
       "4                              NaN                             NaN   \n",
       "5                              NaN                             NaN   \n",
       "6                              NaN                             NaN   \n",
       "7                              NaN                             NaN   \n",
       "8                              NaN                             NaN   \n",
       "9                              NaN                             NaN   \n",
       "10                             NaN                             NaN   \n",
       "11                             NaN                             NaN   \n",
       "12                             NaN                             NaN   \n",
       "13                             NaN                             NaN   \n",
       "14                        0.160000                             0.0   \n",
       "15                             NaN                             NaN   \n",
       "16                             NaN                             NaN   \n",
       "17                        0.235294                             0.0   \n",
       "18                             NaN                             NaN   \n",
       "19                             NaN                             NaN   \n",
       "20                             NaN                             NaN   \n",
       "21                             NaN                             NaN   \n",
       "22                             NaN                             NaN   \n",
       "23                        0.148148                             0.0   \n",
       "24                             NaN                             NaN   \n",
       "25                             NaN                             NaN   \n",
       "26                        0.153846                             0.0   \n",
       "27                             NaN                             NaN   \n",
       "28                             NaN                             NaN   \n",
       "29                        0.142857                             0.0   \n",
       "\n",
       "    ks_6.0_saison_medium_graph_3.0  ks_8.0_saison_medium_graph_3.0  \n",
       "0                              NaN                             NaN  \n",
       "1                              NaN                             NaN  \n",
       "2                              NaN                             NaN  \n",
       "3                              NaN                             NaN  \n",
       "4                              NaN                             NaN  \n",
       "5                              NaN                             NaN  \n",
       "6                              NaN                             NaN  \n",
       "7                              NaN                             NaN  \n",
       "8                              NaN                             NaN  \n",
       "9                              NaN                             NaN  \n",
       "10                             NaN                             NaN  \n",
       "11                             NaN                             NaN  \n",
       "12                             NaN                             NaN  \n",
       "13                             NaN                             NaN  \n",
       "14                             0.0                             0.0  \n",
       "15                             NaN                             NaN  \n",
       "16                             NaN                             NaN  \n",
       "17                             0.0                             0.0  \n",
       "18                             NaN                             NaN  \n",
       "19                             NaN                             NaN  \n",
       "20                             NaN                             NaN  \n",
       "21                             NaN                             NaN  \n",
       "22                             NaN                             NaN  \n",
       "23                             0.0                             0.0  \n",
       "24                             NaN                             NaN  \n",
       "25                             NaN                             NaN  \n",
       "26                             0.0                             0.0  \n",
       "27                             NaN                             NaN  \n",
       "28                             NaN                             NaN  \n",
       "29                             0.0                             0.0  \n",
       "\n",
       "[30 rows x 386 columns]"
      ]
     },
     "execution_count": 4,
     "metadata": {},
     "output_type": "execute_result"
    }
   ],
   "source": [
    "df"
   ]
  },
  {
   "cell_type": "code",
   "execution_count": 5,
   "metadata": {},
   "outputs": [],
   "source": [
    "if MLFLOW:\n",
    "    metric = 'bad_prediction_modified_nbsinister_max_1'\n",
    "    df = pd.read_csv(f'{metric}.csv')\n",
    "\n",
    "    metric = 'wildfire_over_predicted_modified_nbsinister_max_1'\n",
    "    df1 = pd.read_csv(f'{metric}.csv')\n",
    "\n",
    "    metric = 'iou_modified_nbsinister_max_1'\n",
    "    df2 = pd.read_csv(f'{metric}.csv')\n",
    "\n",
    "    metric = 'apr_nbsinister_max_1'\n",
    "    df3 = pd.read_csv(f'{metric}.csv')\n",
    "\n",
    "    metric = 'r2_nbsninster_max_1'\n",
    "    df4 = pd.read_csv(f'{metric}.csv')\n",
    "\n",
    "    df = df.set_index('Run').join(df1.set_index('Run')['wildfire_over_predicted_modified_nbsinister_max_1']).reset_index()\n",
    "    df = df.set_index('Run').join(df2.set_index('Run')['iou_modified_nbsinister_max_1']).reset_index()\n",
    "    df = df3.set_index('Run').join(df2.set_index('Run')['apr_nbsinister_max_1']).reset_index()\n",
    "    df = df4.set_index('Run').join(df2.set_index('Run')['r2_nbsninster_max_1']).reset_index()\n",
    "\n",
    "    #df.dropna(subset=['temporal_spearman', 'temporal_mae', 'temporal_binary_f1', 'temporal_kendall'], inplace=True)\n",
    "    df.drop_duplicates(inplace=True, keep='first')\n",
    "    df.reset_index(drop=True, inplace=True)"
   ]
  },
  {
   "cell_type": "code",
   "execution_count": 6,
   "metadata": {},
   "outputs": [
    {
     "name": "stderr",
     "output_type": "stream",
     "text": [
      "/tmp/ipykernel_590701/764871983.py:48: PerformanceWarning: DataFrame is highly fragmented.  This is usually the result of calling `frame.insert` many times, which has poor performance.  Consider joining all columns at once using pd.concat(axis=1) instead. To get a de-fragmented frame, use `newframe = frame.copy()`\n",
      "  df['Department'] = None\n",
      "/tmp/ipykernel_590701/764871983.py:49: PerformanceWarning: DataFrame is highly fragmented.  This is usually the result of calling `frame.insert` many times, which has poor performance.  Consider joining all columns at once using pd.concat(axis=1) instead. To get a de-fragmented frame, use `newframe = frame.copy()`\n",
      "  df['Model'] = None\n",
      "/tmp/ipykernel_590701/764871983.py:50: PerformanceWarning: DataFrame is highly fragmented.  This is usually the result of calling `frame.insert` many times, which has poor performance.  Consider joining all columns at once using pd.concat(axis=1) instead. To get a de-fragmented frame, use `newframe = frame.copy()`\n",
      "  df['Target'] = None\n",
      "/tmp/ipykernel_590701/764871983.py:51: PerformanceWarning: DataFrame is highly fragmented.  This is usually the result of calling `frame.insert` many times, which has poor performance.  Consider joining all columns at once using pd.concat(axis=1) instead. To get a de-fragmented frame, use `newframe = frame.copy()`\n",
      "  df['Task_type'] = None\n",
      "/tmp/ipykernel_590701/764871983.py:52: PerformanceWarning: DataFrame is highly fragmented.  This is usually the result of calling `frame.insert` many times, which has poor performance.  Consider joining all columns at once using pd.concat(axis=1) instead. To get a de-fragmented frame, use `newframe = frame.copy()`\n",
      "  df['Loss_function'] = None\n",
      "/tmp/ipykernel_590701/764871983.py:53: PerformanceWarning: DataFrame is highly fragmented.  This is usually the result of calling `frame.insert` many times, which has poor performance.  Consider joining all columns at once using pd.concat(axis=1) instead. To get a de-fragmented frame, use `newframe = frame.copy()`\n",
      "  df['Number_of_samples'] = None\n",
      "/tmp/ipykernel_590701/764871983.py:54: PerformanceWarning: DataFrame is highly fragmented.  This is usually the result of calling `frame.insert` many times, which has poor performance.  Consider joining all columns at once using pd.concat(axis=1) instead. To get a de-fragmented frame, use `newframe = frame.copy()`\n",
      "  df['kdays'] = None\n",
      "/tmp/ipykernel_590701/764871983.py:55: PerformanceWarning: DataFrame is highly fragmented.  This is usually the result of calling `frame.insert` many times, which has poor performance.  Consider joining all columns at once using pd.concat(axis=1) instead. To get a de-fragmented frame, use `newframe = frame.copy()`\n",
      "  df['Number_of_features'] = None\n",
      "/tmp/ipykernel_590701/764871983.py:56: PerformanceWarning: DataFrame is highly fragmented.  This is usually the result of calling `frame.insert` many times, which has poor performance.  Consider joining all columns at once using pd.concat(axis=1) instead. To get a de-fragmented frame, use `newframe = frame.copy()`\n",
      "  df['Scale'] = None\n",
      "/tmp/ipykernel_590701/764871983.py:57: PerformanceWarning: DataFrame is highly fragmented.  This is usually the result of calling `frame.insert` many times, which has poor performance.  Consider joining all columns at once using pd.concat(axis=1) instead. To get a de-fragmented frame, use `newframe = frame.copy()`\n",
      "  df['Base'] = None\n",
      "/tmp/ipykernel_590701/764871983.py:58: PerformanceWarning: DataFrame is highly fragmented.  This is usually the result of calling `frame.insert` many times, which has poor performance.  Consider joining all columns at once using pd.concat(axis=1) instead. To get a de-fragmented frame, use `newframe = frame.copy()`\n",
      "  df['Method'] = None\n",
      "/tmp/ipykernel_590701/764871983.py:59: PerformanceWarning: DataFrame is highly fragmented.  This is usually the result of calling `frame.insert` many times, which has poor performance.  Consider joining all columns at once using pd.concat(axis=1) instead. To get a de-fragmented frame, use `newframe = frame.copy()`\n",
      "  df['Days_in_futur'] = None\n",
      "/tmp/ipykernel_590701/764871983.py:60: PerformanceWarning: DataFrame is highly fragmented.  This is usually the result of calling `frame.insert` many times, which has poor performance.  Consider joining all columns at once using pd.concat(axis=1) instead. To get a de-fragmented frame, use `newframe = frame.copy()`\n",
      "  df['weight'] = None\n",
      "/tmp/ipykernel_590701/764871983.py:61: PerformanceWarning: DataFrame is highly fragmented.  This is usually the result of calling `frame.insert` many times, which has poor performance.  Consider joining all columns at once using pd.concat(axis=1) instead. To get a de-fragmented frame, use `newframe = frame.copy()`\n",
      "  df['kmeans_thresh'] = None\n",
      "/tmp/ipykernel_590701/764871983.py:62: PerformanceWarning: DataFrame is highly fragmented.  This is usually the result of calling `frame.insert` many times, which has poor performance.  Consider joining all columns at once using pd.concat(axis=1) instead. To get a de-fragmented frame, use `newframe = frame.copy()`\n",
      "  df['kmeans_shift'] = None\n"
     ]
    }
   ],
   "source": [
    "def parse_run_name(x):\n",
    "    dico = {}\n",
    "    vec = x.split('_')\n",
    "    dico['Department'] = vec[0]\n",
    "    dico['Model'] = vec[1]\n",
    "    i = 2\n",
    "    if dico['Model']  == 'fwi':\n",
    "        i += 1\n",
    "        dico['Target'] = 'indice'\n",
    "    else:\n",
    "        dico['Target'] = vec[i]\n",
    "        i += 1\n",
    "    if dico['Model'] != 'fwi':\n",
    "        dico['Task_type'] = vec[i]\n",
    "        i += 1\n",
    "        dico['loss'] = vec[i]\n",
    "        i += 1\n",
    "        if vec[i] == 'features':\n",
    "            i += 1\n",
    "    else:\n",
    "        dico['loss'] = None\n",
    "        dico['Task_type'] = 'Indice'\n",
    "\n",
    "    dico['Number_of_samples'] = vec[i]\n",
    "    i += 1\n",
    "    dico['k_days'] = vec[i]\n",
    "    i += 1\n",
    "    dico['Number_of_features'] = vec[i]\n",
    "    i += 1\n",
    "    dico['Scale'] = vec[i]\n",
    "    i += 1\n",
    "    dico['Days_in_futur'] = vec[i]\n",
    "    i += 1\n",
    "    dico['Base'] = vec[i]\n",
    "    i += 1\n",
    "    dico['Method'] = vec[i]\n",
    "    i += 1\n",
    "    if vec[i] == 'kmeans':\n",
    "        i += 1\n",
    "        dico['kmeans_shift'] = vec[i]\n",
    "        i += 1\n",
    "        dico['kmeans_thresh'] = vec[i]\n",
    "        i += 1\n",
    "    dico['weight'] = vec[i]\n",
    "    return dico\n",
    "\n",
    "# Initialisation des colonnes avec des valeurs None\n",
    "df['Department'] = None\n",
    "df['Model'] = None\n",
    "df['Target'] = None\n",
    "df['Task_type'] = None\n",
    "df['Loss_function'] = None\n",
    "df['Number_of_samples'] = None\n",
    "df['kdays'] = None\n",
    "df['Number_of_features'] = None\n",
    "df['Scale'] = None\n",
    "df['Base'] = None\n",
    "df['Method'] = None\n",
    "df['Days_in_futur'] = None\n",
    "df['weight'] = None\n",
    "df['kmeans_thresh'] = None\n",
    "df['kmeans_shift'] = None\n",
    "\n",
    "# Boucle pour remplir les colonnes avec les valeurs de dico_parse\n",
    "for index, row in df.iterrows():\n",
    "    dico_parse = parse_run_name(row['Run'])\n",
    "    \n",
    "    # Mise à jour de chaque colonne avec les valeurs du dictionnaire dico_parse\n",
    "    df.loc[index, 'Department'] = dico_parse.get('Department')\n",
    "    df.loc[index, 'Model'] = dico_parse.get('Model')\n",
    "    df.loc[index, 'Target'] = dico_parse.get('Target')\n",
    "    df.loc[index, 'Task_type'] = dico_parse.get('Task_type')\n",
    "    df.loc[index, 'Loss_function'] = dico_parse.get('loss')\n",
    "    df.loc[index, 'Number_of_samples'] = dico_parse.get('Number_of_samples')\n",
    "    df.loc[index, 'kdays'] = dico_parse.get('k_days')\n",
    "    df.loc[index, 'Number_of_features'] = dico_parse.get('Number_of_features')\n",
    "    df.loc[index, 'Scale'] = dico_parse.get('Scale')\n",
    "    df.loc[index, 'Base'] = dico_parse.get('Base')\n",
    "    df.loc[index, 'Method'] = dico_parse.get('Method')\n",
    "    df.loc[index, 'Days_in_futur'] = dico_parse.get('Days_in_futur')\n",
    "\n",
    "    df.loc[index, 'weight'] = dico_parse.get('weight')\n",
    "    df.loc[index, 'kmeans_thresh'] = dico_parse.get('kmeans_thresh', 0)\n",
    "    df.loc[index, 'kmeans_shift'] = dico_parse.get('kmeans_shift', 0)"
   ]
  },
  {
   "cell_type": "code",
   "execution_count": 7,
   "metadata": {},
   "outputs": [],
   "source": [
    "import seaborn as sns\n",
    "\n",
    "def compare_models2(dff, depts, dept_markers, metrics, scale_to_analyse, col_to_analyse, dir_output, suffix):\n",
    "    df = dff[dff['Scale'] == scale_to_analyse].copy(deep=True)\n",
    "    task_types = df[col_to_analyse].unique()\n",
    "\n",
    "    np.random.seed(42)  # Pour rendre le code reproductible (vous pouvez le changer ou le retirer)\n",
    "    colors = sns.color_palette(\"husl\", len(task_types))  # Palette de couleurs diversifiée et aléatoire\n",
    "\n",
    "    #Associer chaque modèle à une couleur\n",
    "    task_colors = dict(zip(task_types, colors))\n",
    "    # Create a new figure for all departments\n",
    "    fig, axs = plt.subplots(len(depts), len(metrics), figsize=(15, 3 * len(depts)), sharey='row')\n",
    "\n",
    "    # Loop through each department\n",
    "    for dept_index, dept in enumerate(depts):\n",
    "        # Filtering the DataFrame for a specific department\n",
    "        df_filtered = df[df['Department'].isin([dept])].reset_index()\n",
    "\n",
    "        # Loop through each metric to create a subplot for each metric\n",
    "        for metric_index, metric in enumerate(metrics):\n",
    "            ax = axs[dept_index, metric_index] if len(depts) > 1 else axs[metric_index]\n",
    "            for method in task_types:\n",
    "                subset = df_filtered[df_filtered[col_to_analyse] == method]\n",
    "\n",
    "                if len(subset) == 0:\n",
    "                    continue\n",
    "\n",
    "                subset = subset.sort_values(col_to_analyse)\n",
    "                \n",
    "                # Add label only for the first occurrence of each method\n",
    "                label = method if dept_index == 0 else None  # Only show labels for the first department\n",
    "                ax.plot(subset[col_to_analyse].values, subset[metric].values, marker=dept_markers[dept], linestyle='-', \n",
    "                        label=label, color=task_colors[method])  # Use task type color\n",
    "                \n",
    "            # Configuration for each subplot\n",
    "            ax.set_ylim(0, 1)\n",
    "            ax.set_xlabel(col_to_analyse)\n",
    "            if dept_index == 0:  # Only set the title for the first row\n",
    "                ax.set_title(f'{metric}', fontsize=12)\n",
    "            #ax.set_xticks(subset[col_to_analyse].values, rotation=45)\n",
    "            ax.grid(True)\n",
    "\n",
    "        axs[dept_index, 0].set_ylabel('Metric Value')\n",
    "\n",
    "    # Create a custom legend for task types and departments\n",
    "    task_handles = [plt.Line2D([0], [0], color=task_colors[method], label=method) for method in task_types]\n",
    "    dept_handles = [plt.Line2D([0], [0], marker=dept_markers[dept], linestyle='None', color='black', label=dept) for dept in depts]\n",
    "\n",
    "    # Combine both legends\n",
    "    fig.legend(handles=task_handles + dept_handles, loc='center left', bbox_to_anchor=(0.85, 0.85), title=\"Legend\")\n",
    "\n",
    "    plt.tight_layout(rect=[0, 0, 0.85, 1])  # Adjust layout to make room for the legend\n",
    "    plt.savefig(dir_output / f'{col_to_analyse}_{suffix}.png')"
   ]
  },
  {
   "cell_type": "code",
   "execution_count": 8,
   "metadata": {},
   "outputs": [
    {
     "data": {
      "image/png": "[encoded data removed]",
      "text/plain": [
       "<Figure size 1500x900 with 9 Axes>"
      ]
     },
     "metadata": {},
     "output_type": "display_data"
    }
   ],
   "source": [
    "# Define markers for each department\n",
    "dept_markers = {\n",
    "    'departement-01-ain': 'o',   # Circle\n",
    "    'departement-25-doubs': 's',   # Square\n",
    "    'departement-78-yvelines': 'D',   # Diamond\n",
    "    # Add more departments and their markers as needed\n",
    "}\n",
    "metrics =  ['bad_prediction_modified_nbsinister_max_1', 'wildfire_over_predicted_modified_nbsinister_max_1', 'iou_modified_nbsinister_max_1']\n",
    "\n",
    "compare_models2(df, df.Department.unique(), dept_markers, metrics, 'departement', 'kdays', Path('./'), '1')"
   ]
  },
  {
   "cell_type": "code",
   "execution_count": 9,
   "metadata": {},
   "outputs": [
    {
     "data": {
      "image/png": "[encoded data removed]",
      "text/plain": [
       "<Figure size 1500x900 with 6 Axes>"
      ]
     },
     "metadata": {},
     "output_type": "display_data"
    }
   ],
   "source": [
    "metrics =  ['apr_nbsinister_max_1', 'r2_nbsinister_max_1']\n",
    "\n",
    "compare_models2(df, df.Department.unique(), dept_markers, metrics, 'departement', 'kdays', Path('./'), '1')"
   ]
  },
  {
   "cell_type": "code",
   "execution_count": 10,
   "metadata": {},
   "outputs": [],
   "source": [
    "import plotly.graph_objects as go\n",
    "import pandas as pd\n",
    "import numpy as np\n",
    "import plotly.express as px  # Utilisé pour générer une palette de couleurs\n",
    "\n",
    "def compare_models_2d(df, depts, dept_markers, metrics, col_to_analyse_1, col_to_analyse_2, col_link):\n",
    "    \"\"\"\n",
    "    Compare models in 2D with the third dimension being the metric plotted as an axis.\n",
    "    Points with the same value in `col_link` are connected in increasing order with a different color.\n",
    "    Each plot is interactive and can be moved independently using Plotly.\n",
    "\n",
    "    :param df: DataFrame containing the data.\n",
    "    :param depts: List of departments to analyze.\n",
    "    :param dept_markers: Dictionary mapping departments to plot markers.\n",
    "    :param metrics: List of metrics to plot as Z-axis.\n",
    "    :param col_to_analyse_1: First column to analyze on X-axis.\n",
    "    :param col_to_analyse_2: Second column to analyze on Y-axis.\n",
    "    :param col_link: Column used to connect points in the same group.\n",
    "    \"\"\"\n",
    "    # Generate a unique color for each unique value in col_link\n",
    "    unique_links = df[col_link].unique()\n",
    "    colors = px.colors.qualitative.Plotly[:len(unique_links)]\n",
    "\n",
    "    # Map each unique link to a specific color\n",
    "    color_map = {link: colors[i % len(colors)] for i, link in enumerate(unique_links)}\n",
    "\n",
    "    for dept in depts:\n",
    "        df_filtered = df[df['Department'] == dept]\n",
    "\n",
    "        for metric in metrics:\n",
    "            fig = go.Figure()\n",
    "\n",
    "            # Add a trace for each unique value in col_link (to connect points belonging to the same group)\n",
    "            for link_value in df_filtered[col_link].unique():\n",
    "                subset = df_filtered[df_filtered[col_link] == link_value]\n",
    "\n",
    "                # Sort the subset by col_to_analyse_1 and col_to_analyse_2 for ordered plotting\n",
    "                subset = subset.sort_values(by=[col_to_analyse_1, col_to_analyse_2])\n",
    "                if len(subset) < 2:\n",
    "                    continue  # Skip if less than 2 points to connect\n",
    "\n",
    "                fig.add_trace(go.Scatter3d(\n",
    "                    x=subset[col_to_analyse_1],\n",
    "                    y=subset[col_to_analyse_2],\n",
    "                    z=subset[metric],  # Plot original metric values on the Z-axis\n",
    "                    mode='lines+markers',\n",
    "                    marker=dict(\n",
    "                        size=8,\n",
    "                        color=color_map[link_value],  # Assign a unique color for each line\n",
    "                    ),\n",
    "                    line=dict(\n",
    "                        color=color_map[link_value],  # Use the same color for the line\n",
    "                        width=3  # Line width\n",
    "                    ),\n",
    "                    name=f\"{dept} - {metric} - {link_value}\",\n",
    "                ))\n",
    "\n",
    "            # Update the layout to add titles and axis labels for 3D scatter plot\n",
    "            fig.update_layout(\n",
    "                scene=dict(\n",
    "                    xaxis_title=col_to_analyse_1,\n",
    "                    yaxis_title=col_to_analyse_2,\n",
    "                    zaxis_title='Metric',\n",
    "                    xaxis=dict(type='linear'),  # Force linear scale for increasing order\n",
    "                    yaxis=dict(type='linear'),\n",
    "                    zaxis=dict(type='linear')\n",
    "                ),\n",
    "                title=f\"3D Comparison for {dept} - {metric}\",\n",
    "                height=700,\n",
    "                width=1000\n",
    "            )\n",
    "\n",
    "            # Show the plot for this specific department and metric\n",
    "            fig.show()\n"
   ]
  },
  {
   "cell_type": "code",
   "execution_count": 11,
   "metadata": {},
   "outputs": [],
   "source": [
    "df.loc[df[df['Scale'] == 'departement'].index, 'Scale'] = 10"
   ]
  },
  {
   "cell_type": "code",
   "execution_count": 12,
   "metadata": {},
   "outputs": [
    {
     "name": "stdout",
     "output_type": "stream",
     "text": [
      "Unnamed: 0\n",
      "Run\n",
      "apr_nbsinister_max_1\n",
      "r2_nbsinister_max_1\n",
      "KS_nbsinister_max_1\n",
      "ks_1.0_nbsinister_max_1\n",
      "ks_2.0_nbsinister_max_1\n",
      "ks_3.0_nbsinister_max_1\n",
      "ks_4.0_nbsinister_max_1\n",
      "mae_raw_nbsinister_max_1\n",
      "mse_raw_nbsinister_max_1\n",
      "mae_fire_raw_nbsinister_max_1\n",
      "mse_fire_raw_nbsinister_max_1\n",
      "common_area_raw_nbsinister_max_1\n",
      "union_area_raw_nbsinister_max_1\n",
      "under_predicted_area_raw_nbsinister_max_1\n",
      "over_predicted_area_raw_nbsinister_max_1\n",
      "iou_raw_nbsinister_max_1\n",
      "iou_under_prediction_raw_nbsinister_max_1\n",
      "iou_over_prediction_raw_nbsinister_max_1\n",
      "wildfire_predicted_raw_nbsinister_max_1\n",
      "wildfire_supposed_raw_nbsinister_max_1\n",
      "wildfire_over_predicted_raw_nbsinister_max_1\n",
      "wildfire_under_predicted_raw_nbsinister_max_1\n",
      "over_bad_prediction_raw_nbsinister_max_1\n",
      "under_bad_prediction_raw_nbsinister_max_1\n",
      "bad_prediction_raw_nbsinister_max_1\n",
      "common_area_day_raw_nbsinister_max_1\n",
      "union_area_day_raw_nbsinister_max_1\n",
      "under_predicted_area_day_raw_nbsinister_max_1\n",
      "over_predicted_area_day_raw_nbsinister_max_1\n",
      "iou_day_raw_nbsinister_max_1\n",
      "iou_under_prediction_day_raw_nbsinister_max_1\n",
      "iou_over_prediction_day_raw_nbsinister_max_1\n",
      "wildfire_predicted_day_raw_nbsinister_max_1\n",
      "wildfire_supposed_day_raw_nbsinister_max_1\n",
      "wildfire_over_predicted_day_raw_nbsinister_max_1\n",
      "wildfire_under_predicted_day_raw_nbsinister_max_1\n",
      "over_bad_prediction_day_raw_nbsinister_max_1\n",
      "under_bad_prediction_day_raw_nbsinister_max_1\n",
      "bad_prediction_day_raw_nbsinister_max_1\n",
      "iou_0.0_0_raw_nbsinister_max_1\n",
      "iou_under_prediction_0.0_0_raw_nbsinister_max_1\n",
      "iou_over_prediction_0.0_0_raw_nbsinister_max_1\n",
      "wildfire_predicted_0.0_0_raw_nbsinister_max_1\n",
      "wildfire_supposed_0.0_0_raw_nbsinister_max_1\n",
      "wildfire_over_predicted_0.0_0_raw_nbsinister_max_1\n",
      "wildfire_under_predicted_0.0_0_raw_nbsinister_max_1\n",
      "over_bad_prediction_unique_0.0_0_raw_nbsinister_max_1\n",
      "under_bad_prediction_unique_0.0_0_raw_nbsinister_max_1\n",
      "bad_prediction_unique_0.0_0_raw_nbsinister_max_1\n",
      "over_bad_prediction_global_0.0_0_raw_nbsinister_max_1\n",
      "under_bad_prediction_global_0.0_0_raw_nbsinister_max_1\n",
      "bad_prediction_global_0.0_0_raw_nbsinister_max_1\n",
      "iou_1.0_1_raw_nbsinister_max_1\n",
      "iou_under_prediction_1.0_1_raw_nbsinister_max_1\n",
      "iou_over_prediction_1.0_1_raw_nbsinister_max_1\n",
      "wildfire_predicted_1.0_1_raw_nbsinister_max_1\n",
      "wildfire_supposed_1.0_1_raw_nbsinister_max_1\n",
      "wildfire_over_predicted_1.0_1_raw_nbsinister_max_1\n",
      "wildfire_under_predicted_1.0_1_raw_nbsinister_max_1\n",
      "over_bad_prediction_unique_1.0_1_raw_nbsinister_max_1\n",
      "under_bad_prediction_unique_1.0_1_raw_nbsinister_max_1\n",
      "bad_prediction_unique_1.0_1_raw_nbsinister_max_1\n",
      "over_bad_prediction_global_1.0_1_raw_nbsinister_max_1\n",
      "under_bad_prediction_global_1.0_1_raw_nbsinister_max_1\n",
      "bad_prediction_global_1.0_1_raw_nbsinister_max_1\n",
      "iou_2.0_2_raw_nbsinister_max_1\n",
      "iou_under_prediction_2.0_2_raw_nbsinister_max_1\n",
      "iou_over_prediction_2.0_2_raw_nbsinister_max_1\n",
      "wildfire_predicted_2.0_2_raw_nbsinister_max_1\n",
      "wildfire_supposed_2.0_2_raw_nbsinister_max_1\n",
      "wildfire_over_predicted_2.0_2_raw_nbsinister_max_1\n",
      "wildfire_under_predicted_2.0_2_raw_nbsinister_max_1\n",
      "over_bad_prediction_unique_2.0_2_raw_nbsinister_max_1\n",
      "under_bad_prediction_unique_2.0_2_raw_nbsinister_max_1\n",
      "bad_prediction_unique_2.0_2_raw_nbsinister_max_1\n",
      "over_bad_prediction_global_2.0_2_raw_nbsinister_max_1\n",
      "under_bad_prediction_global_2.0_2_raw_nbsinister_max_1\n",
      "bad_prediction_global_2.0_2_raw_nbsinister_max_1\n",
      "iou_3.0_3_raw_nbsinister_max_1\n",
      "iou_under_prediction_3.0_3_raw_nbsinister_max_1\n",
      "iou_over_prediction_3.0_3_raw_nbsinister_max_1\n",
      "wildfire_predicted_3.0_3_raw_nbsinister_max_1\n",
      "wildfire_supposed_3.0_3_raw_nbsinister_max_1\n",
      "wildfire_over_predicted_3.0_3_raw_nbsinister_max_1\n",
      "wildfire_under_predicted_3.0_3_raw_nbsinister_max_1\n",
      "over_bad_prediction_unique_3.0_3_raw_nbsinister_max_1\n",
      "under_bad_prediction_unique_3.0_3_raw_nbsinister_max_1\n",
      "bad_prediction_unique_3.0_3_raw_nbsinister_max_1\n",
      "over_bad_prediction_global_3.0_3_raw_nbsinister_max_1\n",
      "under_bad_prediction_global_3.0_3_raw_nbsinister_max_1\n",
      "bad_prediction_global_3.0_3_raw_nbsinister_max_1\n",
      "accuracy_nbsinister_max_1\n",
      "mae_nbsinister_max_1\n",
      "mse_nbsinister_max_1\n",
      "mae_fire_nbsinister_max_1\n",
      "mse_fire_nbsinister_max_1\n",
      "common_area_modified_nbsinister_max_1\n",
      "union_area_modified_nbsinister_max_1\n",
      "under_predicted_area_modified_nbsinister_max_1\n",
      "over_predicted_area_modified_nbsinister_max_1\n",
      "iou_modified_nbsinister_max_1\n",
      "iou_under_prediction_modified_nbsinister_max_1\n",
      "iou_over_prediction_modified_nbsinister_max_1\n",
      "wildfire_predicted_modified_nbsinister_max_1\n",
      "wildfire_supposed_modified_nbsinister_max_1\n",
      "wildfire_over_predicted_modified_nbsinister_max_1\n",
      "wildfire_under_predicted_modified_nbsinister_max_1\n",
      "over_bad_prediction_modified_nbsinister_max_1\n",
      "under_bad_prediction_modified_nbsinister_max_1\n",
      "bad_prediction_modified_nbsinister_max_1\n",
      "common_area_day_modified_nbsinister_max_1\n",
      "union_area_day_modified_nbsinister_max_1\n",
      "under_predicted_area_day_modified_nbsinister_max_1\n",
      "over_predicted_area_day_modified_nbsinister_max_1\n",
      "iou_day_modified_nbsinister_max_1\n",
      "iou_under_prediction_day_modified_nbsinister_max_1\n",
      "iou_over_prediction_day_modified_nbsinister_max_1\n",
      "wildfire_predicted_day_modified_nbsinister_max_1\n",
      "wildfire_supposed_day_modified_nbsinister_max_1\n",
      "wildfire_over_predicted_day_modified_nbsinister_max_1\n",
      "wildfire_under_predicted_day_modified_nbsinister_max_1\n",
      "over_bad_prediction_day_modified_nbsinister_max_1\n",
      "under_bad_prediction_day_modified_nbsinister_max_1\n",
      "bad_prediction_day_modified_nbsinister_max_1\n",
      "iou_0.0_0_modified_nbsinister_max_1\n",
      "iou_under_prediction_0.0_0_modified_nbsinister_max_1\n",
      "iou_over_prediction_0.0_0_modified_nbsinister_max_1\n",
      "wildfire_predicted_0.0_0_modified_nbsinister_max_1\n",
      "wildfire_supposed_0.0_0_modified_nbsinister_max_1\n",
      "wildfire_over_predicted_0.0_0_modified_nbsinister_max_1\n",
      "wildfire_under_predicted_0.0_0_modified_nbsinister_max_1\n",
      "over_bad_prediction_unique_0.0_0_modified_nbsinister_max_1\n",
      "under_bad_prediction_unique_0.0_0_modified_nbsinister_max_1\n",
      "bad_prediction_unique_0.0_0_modified_nbsinister_max_1\n",
      "over_bad_prediction_global_0.0_0_modified_nbsinister_max_1\n",
      "under_bad_prediction_global_0.0_0_modified_nbsinister_max_1\n",
      "bad_prediction_global_0.0_0_modified_nbsinister_max_1\n",
      "iou_1.0_1_modified_nbsinister_max_1\n",
      "iou_under_prediction_1.0_1_modified_nbsinister_max_1\n",
      "iou_over_prediction_1.0_1_modified_nbsinister_max_1\n",
      "wildfire_predicted_1.0_1_modified_nbsinister_max_1\n",
      "wildfire_supposed_1.0_1_modified_nbsinister_max_1\n",
      "wildfire_over_predicted_1.0_1_modified_nbsinister_max_1\n",
      "wildfire_under_predicted_1.0_1_modified_nbsinister_max_1\n",
      "over_bad_prediction_unique_1.0_1_modified_nbsinister_max_1\n",
      "under_bad_prediction_unique_1.0_1_modified_nbsinister_max_1\n",
      "bad_prediction_unique_1.0_1_modified_nbsinister_max_1\n",
      "over_bad_prediction_global_1.0_1_modified_nbsinister_max_1\n",
      "under_bad_prediction_global_1.0_1_modified_nbsinister_max_1\n",
      "bad_prediction_global_1.0_1_modified_nbsinister_max_1\n",
      "iou_2.0_2_modified_nbsinister_max_1\n",
      "iou_under_prediction_2.0_2_modified_nbsinister_max_1\n",
      "iou_over_prediction_2.0_2_modified_nbsinister_max_1\n",
      "wildfire_predicted_2.0_2_modified_nbsinister_max_1\n",
      "wildfire_supposed_2.0_2_modified_nbsinister_max_1\n",
      "wildfire_over_predicted_2.0_2_modified_nbsinister_max_1\n",
      "wildfire_under_predicted_2.0_2_modified_nbsinister_max_1\n",
      "over_bad_prediction_unique_2.0_2_modified_nbsinister_max_1\n",
      "under_bad_prediction_unique_2.0_2_modified_nbsinister_max_1\n",
      "bad_prediction_unique_2.0_2_modified_nbsinister_max_1\n",
      "over_bad_prediction_global_2.0_2_modified_nbsinister_max_1\n",
      "under_bad_prediction_global_2.0_2_modified_nbsinister_max_1\n",
      "bad_prediction_global_2.0_2_modified_nbsinister_max_1\n",
      "iou_3.0_3_modified_nbsinister_max_1\n",
      "iou_under_prediction_3.0_3_modified_nbsinister_max_1\n",
      "iou_over_prediction_3.0_3_modified_nbsinister_max_1\n",
      "wildfire_predicted_3.0_3_modified_nbsinister_max_1\n",
      "wildfire_supposed_3.0_3_modified_nbsinister_max_1\n",
      "wildfire_over_predicted_3.0_3_modified_nbsinister_max_1\n",
      "wildfire_under_predicted_3.0_3_modified_nbsinister_max_1\n",
      "over_bad_prediction_unique_3.0_3_modified_nbsinister_max_1\n",
      "under_bad_prediction_unique_3.0_3_modified_nbsinister_max_1\n",
      "bad_prediction_unique_3.0_3_modified_nbsinister_max_1\n",
      "over_bad_prediction_global_3.0_3_modified_nbsinister_max_1\n",
      "under_bad_prediction_global_3.0_3_modified_nbsinister_max_1\n",
      "bad_prediction_global_3.0_3_modified_nbsinister_max_1\n",
      "ks_5.0_nbsinister_max_1\n",
      "ks_6.0_nbsinister_max_1\n",
      "iou_4.0_0_raw_nbsinister_max_1\n",
      "iou_under_prediction_4.0_0_raw_nbsinister_max_1\n",
      "iou_over_prediction_4.0_0_raw_nbsinister_max_1\n",
      "wildfire_predicted_4.0_0_raw_nbsinister_max_1\n",
      "wildfire_supposed_4.0_0_raw_nbsinister_max_1\n",
      "wildfire_over_predicted_4.0_0_raw_nbsinister_max_1\n",
      "wildfire_under_predicted_4.0_0_raw_nbsinister_max_1\n",
      "over_bad_prediction_unique_4.0_0_raw_nbsinister_max_1\n",
      "under_bad_prediction_unique_4.0_0_raw_nbsinister_max_1\n",
      "bad_prediction_unique_4.0_0_raw_nbsinister_max_1\n",
      "over_bad_prediction_global_4.0_0_raw_nbsinister_max_1\n",
      "under_bad_prediction_global_4.0_0_raw_nbsinister_max_1\n",
      "bad_prediction_global_4.0_0_raw_nbsinister_max_1\n",
      "iou_5.0_1_raw_nbsinister_max_1\n",
      "iou_under_prediction_5.0_1_raw_nbsinister_max_1\n",
      "iou_over_prediction_5.0_1_raw_nbsinister_max_1\n",
      "wildfire_predicted_5.0_1_raw_nbsinister_max_1\n",
      "wildfire_supposed_5.0_1_raw_nbsinister_max_1\n",
      "wildfire_over_predicted_5.0_1_raw_nbsinister_max_1\n",
      "wildfire_under_predicted_5.0_1_raw_nbsinister_max_1\n",
      "over_bad_prediction_unique_5.0_1_raw_nbsinister_max_1\n",
      "under_bad_prediction_unique_5.0_1_raw_nbsinister_max_1\n",
      "bad_prediction_unique_5.0_1_raw_nbsinister_max_1\n",
      "over_bad_prediction_global_5.0_1_raw_nbsinister_max_1\n",
      "under_bad_prediction_global_5.0_1_raw_nbsinister_max_1\n",
      "bad_prediction_global_5.0_1_raw_nbsinister_max_1\n",
      "iou_6.0_2_raw_nbsinister_max_1\n",
      "iou_under_prediction_6.0_2_raw_nbsinister_max_1\n",
      "iou_over_prediction_6.0_2_raw_nbsinister_max_1\n",
      "wildfire_predicted_6.0_2_raw_nbsinister_max_1\n",
      "wildfire_supposed_6.0_2_raw_nbsinister_max_1\n",
      "wildfire_over_predicted_6.0_2_raw_nbsinister_max_1\n",
      "wildfire_under_predicted_6.0_2_raw_nbsinister_max_1\n",
      "over_bad_prediction_unique_6.0_2_raw_nbsinister_max_1\n",
      "under_bad_prediction_unique_6.0_2_raw_nbsinister_max_1\n",
      "bad_prediction_unique_6.0_2_raw_nbsinister_max_1\n",
      "over_bad_prediction_global_6.0_2_raw_nbsinister_max_1\n",
      "under_bad_prediction_global_6.0_2_raw_nbsinister_max_1\n",
      "bad_prediction_global_6.0_2_raw_nbsinister_max_1\n",
      "iou_7.0_3_raw_nbsinister_max_1\n",
      "iou_under_prediction_7.0_3_raw_nbsinister_max_1\n",
      "iou_over_prediction_7.0_3_raw_nbsinister_max_1\n",
      "wildfire_predicted_7.0_3_raw_nbsinister_max_1\n",
      "wildfire_supposed_7.0_3_raw_nbsinister_max_1\n",
      "wildfire_over_predicted_7.0_3_raw_nbsinister_max_1\n",
      "wildfire_under_predicted_7.0_3_raw_nbsinister_max_1\n",
      "over_bad_prediction_unique_7.0_3_raw_nbsinister_max_1\n",
      "under_bad_prediction_unique_7.0_3_raw_nbsinister_max_1\n",
      "bad_prediction_unique_7.0_3_raw_nbsinister_max_1\n",
      "over_bad_prediction_global_7.0_3_raw_nbsinister_max_1\n",
      "under_bad_prediction_global_7.0_3_raw_nbsinister_max_1\n",
      "bad_prediction_global_7.0_3_raw_nbsinister_max_1\n",
      "iou_4.0_0_modified_nbsinister_max_1\n",
      "iou_under_prediction_4.0_0_modified_nbsinister_max_1\n",
      "iou_over_prediction_4.0_0_modified_nbsinister_max_1\n",
      "wildfire_predicted_4.0_0_modified_nbsinister_max_1\n",
      "wildfire_supposed_4.0_0_modified_nbsinister_max_1\n",
      "wildfire_over_predicted_4.0_0_modified_nbsinister_max_1\n",
      "wildfire_under_predicted_4.0_0_modified_nbsinister_max_1\n",
      "over_bad_prediction_unique_4.0_0_modified_nbsinister_max_1\n",
      "under_bad_prediction_unique_4.0_0_modified_nbsinister_max_1\n",
      "bad_prediction_unique_4.0_0_modified_nbsinister_max_1\n",
      "over_bad_prediction_global_4.0_0_modified_nbsinister_max_1\n",
      "under_bad_prediction_global_4.0_0_modified_nbsinister_max_1\n",
      "bad_prediction_global_4.0_0_modified_nbsinister_max_1\n",
      "iou_5.0_1_modified_nbsinister_max_1\n",
      "iou_under_prediction_5.0_1_modified_nbsinister_max_1\n",
      "iou_over_prediction_5.0_1_modified_nbsinister_max_1\n",
      "wildfire_predicted_5.0_1_modified_nbsinister_max_1\n",
      "wildfire_supposed_5.0_1_modified_nbsinister_max_1\n",
      "wildfire_over_predicted_5.0_1_modified_nbsinister_max_1\n",
      "wildfire_under_predicted_5.0_1_modified_nbsinister_max_1\n",
      "over_bad_prediction_unique_5.0_1_modified_nbsinister_max_1\n",
      "under_bad_prediction_unique_5.0_1_modified_nbsinister_max_1\n",
      "bad_prediction_unique_5.0_1_modified_nbsinister_max_1\n",
      "over_bad_prediction_global_5.0_1_modified_nbsinister_max_1\n",
      "under_bad_prediction_global_5.0_1_modified_nbsinister_max_1\n",
      "bad_prediction_global_5.0_1_modified_nbsinister_max_1\n",
      "iou_6.0_2_modified_nbsinister_max_1\n",
      "iou_under_prediction_6.0_2_modified_nbsinister_max_1\n",
      "iou_over_prediction_6.0_2_modified_nbsinister_max_1\n",
      "wildfire_predicted_6.0_2_modified_nbsinister_max_1\n",
      "wildfire_supposed_6.0_2_modified_nbsinister_max_1\n",
      "wildfire_over_predicted_6.0_2_modified_nbsinister_max_1\n",
      "wildfire_under_predicted_6.0_2_modified_nbsinister_max_1\n",
      "over_bad_prediction_unique_6.0_2_modified_nbsinister_max_1\n",
      "under_bad_prediction_unique_6.0_2_modified_nbsinister_max_1\n",
      "bad_prediction_unique_6.0_2_modified_nbsinister_max_1\n",
      "over_bad_prediction_global_6.0_2_modified_nbsinister_max_1\n",
      "under_bad_prediction_global_6.0_2_modified_nbsinister_max_1\n",
      "bad_prediction_global_6.0_2_modified_nbsinister_max_1\n",
      "iou_7.0_3_modified_nbsinister_max_1\n",
      "iou_under_prediction_7.0_3_modified_nbsinister_max_1\n",
      "iou_over_prediction_7.0_3_modified_nbsinister_max_1\n",
      "wildfire_predicted_7.0_3_modified_nbsinister_max_1\n",
      "wildfire_supposed_7.0_3_modified_nbsinister_max_1\n",
      "wildfire_over_predicted_7.0_3_modified_nbsinister_max_1\n",
      "wildfire_under_predicted_7.0_3_modified_nbsinister_max_1\n",
      "over_bad_prediction_unique_7.0_3_modified_nbsinister_max_1\n",
      "under_bad_prediction_unique_7.0_3_modified_nbsinister_max_1\n",
      "bad_prediction_unique_7.0_3_modified_nbsinister_max_1\n",
      "over_bad_prediction_global_7.0_3_modified_nbsinister_max_1\n",
      "under_bad_prediction_global_7.0_3_modified_nbsinister_max_1\n",
      "bad_prediction_global_7.0_3_modified_nbsinister_max_1\n",
      "ks_8.0_nbsinister_max_1\n",
      "iou_10.0_0_raw_nbsinister_max_1\n",
      "iou_under_prediction_10.0_0_raw_nbsinister_max_1\n",
      "iou_over_prediction_10.0_0_raw_nbsinister_max_1\n",
      "wildfire_predicted_10.0_0_raw_nbsinister_max_1\n",
      "wildfire_supposed_10.0_0_raw_nbsinister_max_1\n",
      "wildfire_over_predicted_10.0_0_raw_nbsinister_max_1\n",
      "wildfire_under_predicted_10.0_0_raw_nbsinister_max_1\n",
      "over_bad_prediction_unique_10.0_0_raw_nbsinister_max_1\n",
      "under_bad_prediction_unique_10.0_0_raw_nbsinister_max_1\n",
      "bad_prediction_unique_10.0_0_raw_nbsinister_max_1\n",
      "over_bad_prediction_global_10.0_0_raw_nbsinister_max_1\n",
      "under_bad_prediction_global_10.0_0_raw_nbsinister_max_1\n",
      "bad_prediction_global_10.0_0_raw_nbsinister_max_1\n",
      "iou_11.0_1_raw_nbsinister_max_1\n",
      "iou_under_prediction_11.0_1_raw_nbsinister_max_1\n",
      "iou_over_prediction_11.0_1_raw_nbsinister_max_1\n",
      "wildfire_predicted_11.0_1_raw_nbsinister_max_1\n",
      "wildfire_supposed_11.0_1_raw_nbsinister_max_1\n",
      "wildfire_over_predicted_11.0_1_raw_nbsinister_max_1\n",
      "wildfire_under_predicted_11.0_1_raw_nbsinister_max_1\n",
      "over_bad_prediction_unique_11.0_1_raw_nbsinister_max_1\n",
      "under_bad_prediction_unique_11.0_1_raw_nbsinister_max_1\n",
      "bad_prediction_unique_11.0_1_raw_nbsinister_max_1\n",
      "over_bad_prediction_global_11.0_1_raw_nbsinister_max_1\n",
      "under_bad_prediction_global_11.0_1_raw_nbsinister_max_1\n",
      "bad_prediction_global_11.0_1_raw_nbsinister_max_1\n",
      "iou_10.0_0_modified_nbsinister_max_1\n",
      "iou_under_prediction_10.0_0_modified_nbsinister_max_1\n",
      "iou_over_prediction_10.0_0_modified_nbsinister_max_1\n",
      "wildfire_predicted_10.0_0_modified_nbsinister_max_1\n",
      "wildfire_supposed_10.0_0_modified_nbsinister_max_1\n",
      "wildfire_over_predicted_10.0_0_modified_nbsinister_max_1\n",
      "wildfire_under_predicted_10.0_0_modified_nbsinister_max_1\n",
      "over_bad_prediction_unique_10.0_0_modified_nbsinister_max_1\n",
      "under_bad_prediction_unique_10.0_0_modified_nbsinister_max_1\n",
      "bad_prediction_unique_10.0_0_modified_nbsinister_max_1\n",
      "over_bad_prediction_global_10.0_0_modified_nbsinister_max_1\n",
      "under_bad_prediction_global_10.0_0_modified_nbsinister_max_1\n",
      "bad_prediction_global_10.0_0_modified_nbsinister_max_1\n",
      "iou_11.0_1_modified_nbsinister_max_1\n",
      "iou_under_prediction_11.0_1_modified_nbsinister_max_1\n",
      "iou_over_prediction_11.0_1_modified_nbsinister_max_1\n",
      "wildfire_predicted_11.0_1_modified_nbsinister_max_1\n",
      "wildfire_supposed_11.0_1_modified_nbsinister_max_1\n",
      "wildfire_over_predicted_11.0_1_modified_nbsinister_max_1\n",
      "wildfire_under_predicted_11.0_1_modified_nbsinister_max_1\n",
      "over_bad_prediction_unique_11.0_1_modified_nbsinister_max_1\n",
      "under_bad_prediction_unique_11.0_1_modified_nbsinister_max_1\n",
      "bad_prediction_unique_11.0_1_modified_nbsinister_max_1\n",
      "over_bad_prediction_global_11.0_1_modified_nbsinister_max_1\n",
      "under_bad_prediction_global_11.0_1_modified_nbsinister_max_1\n",
      "bad_prediction_global_11.0_1_modified_nbsinister_max_1\n",
      "source\n",
      "ks_1.0_saison_high_graph_0.0\n",
      "ks_2.0_saison_high_graph_0.0\n",
      "ks_3.0_saison_high_graph_0.0\n",
      "ks_4.0_saison_high_graph_0.0\n",
      "ks_5.0_saison_high_graph_0.0\n",
      "ks_8.0_saison_high_graph_0.0\n",
      "ks_1.0_saison_low_graph_0.0\n",
      "ks_2.0_saison_low_graph_0.0\n",
      "ks_3.0_saison_low_graph_0.0\n",
      "ks_4.0_saison_low_graph_0.0\n",
      "ks_5.0_saison_low_graph_0.0\n",
      "ks_8.0_saison_low_graph_0.0\n",
      "ks_1.0_saison_medium_graph_0.0\n",
      "ks_2.0_saison_medium_graph_0.0\n",
      "ks_3.0_saison_medium_graph_0.0\n",
      "ks_4.0_saison_medium_graph_0.0\n",
      "ks_5.0_saison_medium_graph_0.0\n",
      "ks_8.0_saison_medium_graph_0.0\n",
      "ks_1.0_saison_high_graph_1.0\n",
      "ks_2.0_saison_high_graph_1.0\n",
      "ks_3.0_saison_high_graph_1.0\n",
      "ks_4.0_saison_high_graph_1.0\n",
      "ks_5.0_saison_high_graph_1.0\n",
      "ks_6.0_saison_high_graph_1.0\n",
      "ks_7.0_saison_high_graph_1.0\n",
      "ks_8.0_saison_high_graph_1.0\n",
      "ks_1.0_saison_medium_graph_1.0\n",
      "ks_2.0_saison_medium_graph_1.0\n",
      "ks_3.0_saison_medium_graph_1.0\n",
      "ks_4.0_saison_medium_graph_1.0\n",
      "ks_5.0_saison_medium_graph_1.0\n",
      "ks_6.0_saison_medium_graph_1.0\n",
      "ks_7.0_saison_medium_graph_1.0\n",
      "ks_8.0_saison_medium_graph_1.0\n",
      "ks_1.0_saison_high_graph_3.0\n",
      "ks_2.0_saison_high_graph_3.0\n",
      "ks_3.0_saison_high_graph_3.0\n",
      "ks_4.0_saison_high_graph_3.0\n",
      "ks_5.0_saison_high_graph_3.0\n",
      "ks_6.0_saison_high_graph_3.0\n",
      "ks_8.0_saison_high_graph_3.0\n",
      "ks_1.0_saison_medium_graph_3.0\n",
      "ks_2.0_saison_medium_graph_3.0\n",
      "ks_3.0_saison_medium_graph_3.0\n",
      "ks_4.0_saison_medium_graph_3.0\n",
      "ks_5.0_saison_medium_graph_3.0\n",
      "ks_6.0_saison_medium_graph_3.0\n",
      "ks_8.0_saison_medium_graph_3.0\n",
      "Department\n",
      "Model\n",
      "Target\n",
      "Task_type\n",
      "Loss_function\n",
      "Number_of_samples\n",
      "kdays\n",
      "Number_of_features\n",
      "Scale\n",
      "Base\n",
      "Method\n",
      "Days_in_futur\n",
      "weight\n",
      "kmeans_thresh\n",
      "kmeans_shift\n"
     ]
    }
   ],
   "source": [
    "for col in df.columns:\n",
    "    print(col)"
   ]
  },
  {
   "cell_type": "code",
   "execution_count": 13,
   "metadata": {},
   "outputs": [
    {
     "data": {
      "text/plain": [
       "array(['0.5', '0.8', '0.1', '0.30000000000000004', '0.7000000000000001',\n",
       "       '0', '0.2'], dtype=object)"
      ]
     },
     "execution_count": 13,
     "metadata": {},
     "output_type": "execute_result"
    }
   ],
   "source": [
    "df.kmeans_thresh.unique()"
   ]
  },
  {
   "cell_type": "code",
   "execution_count": 15,
   "metadata": {},
   "outputs": [
    {
     "data": {
      "application/vnd.plotly.v1+json": {
       "config": {
        "plotlyServerURL": "https://plot.ly"
       },
       "data": [
        {
         "line": {
          "color": "#636EFA",
          "width": 3
         },
         "marker": {
          "color": "#636EFA",
          "size": 8
         },
         "mode": "lines+markers",
         "name": "departement-01-ain - bad_prediction_modified_nbsinister_max_1 - 7",
         "type": "scatter3d",
         "x": [
          "7",
          "7",
          "7",
          "7",
          "7"
         ],
         "y": [
          "0",
          "0.1",
          "0.30000000000000004",
          "0.5",
          "0.8"
         ],
         "z": [
          0.6,
          0.6,
          0.58,
          0.57,
          0.52
         ]
        },
        {
         "line": {
          "color": "#EF553B",
          "width": 3
         },
         "marker": {
          "color": "#EF553B",
          "size": 8
         },
         "mode": "lines+markers",
         "name": "departement-01-ain - bad_prediction_modified_nbsinister_max_1 - 10",
         "type": "scatter3d",
         "x": [
          10,
          10,
          10,
          10,
          10
         ],
         "y": [
          "0",
          "0.1",
          "0.2",
          "0.5",
          "0.7000000000000001"
         ],
         "z": [
          0.3,
          0.3,
          0.3,
          0.29,
          0.29
         ]
        }
       ],
       "layout": {
        "height": 700,
        "scene": {
         "xaxis": {
          "title": {
           "text": "Scale"
          },
          "type": "linear"
         },
         "yaxis": {
          "title": {
           "text": "kmeans_thresh"
          },
          "type": "linear"
         },
         "zaxis": {
          "title": {
           "text": "Metric"
          },
          "type": "linear"
         }
        },
        "template": {
         "data": {
          "bar": [
           {
            "error_x": {
             "color": "#2a3f5f"
            },
            "error_y": {
             "color": "#2a3f5f"
            },
            "marker": {
             "line": {
              "color": "#E5ECF6",
              "width": 0.5
             },
             "pattern": {
              "fillmode": "overlay",
              "size": 10,
              "solidity": 0.2
             }
            },
            "type": "bar"
           }
          ],
          "barpolar": [
           {
            "marker": {
             "line": {
              "color": "#E5ECF6",
              "width": 0.5
             },
             "pattern": {
              "fillmode": "overlay",
              "size": 10,
              "solidity": 0.2
             }
            },
            "type": "barpolar"
           }
          ],
          "carpet": [
           {
            "aaxis": {
             "endlinecolor": "#2a3f5f",
             "gridcolor": "white",
             "linecolor": "white",
             "minorgridcolor": "white",
             "startlinecolor": "#2a3f5f"
            },
            "baxis": {
             "endlinecolor": "#2a3f5f",
             "gridcolor": "white",
             "linecolor": "white",
             "minorgridcolor": "white",
             "startlinecolor": "#2a3f5f"
            },
            "type": "carpet"
           }
          ],
          "choropleth": [
           {
            "colorbar": {
             "outlinewidth": 0,
             "ticks": ""
            },
            "type": "choropleth"
           }
          ],
          "contour": [
           {
            "colorbar": {
             "outlinewidth": 0,
             "ticks": ""
            },
            "colorscale": [
             [
              0,
              "#0d0887"
             ],
             [
              0.1111111111111111,
              "#46039f"
             ],
             [
              0.2222222222222222,
              "#7201a8"
             ],
             [
              0.3333333333333333,
              "#9c179e"
             ],
             [
              0.4444444444444444,
              "#bd3786"
             ],
             [
              0.5555555555555556,
              "#d8576b"
             ],
             [
              0.6666666666666666,
              "#ed7953"
             ],
             [
              0.7777777777777778,
              "#fb9f3a"
             ],
             [
              0.8888888888888888,
              "#fdca26"
             ],
             [
              1,
              "#f0f921"
             ]
            ],
            "type": "contour"
           }
          ],
          "contourcarpet": [
           {
            "colorbar": {
             "outlinewidth": 0,
             "ticks": ""
            },
            "type": "contourcarpet"
           }
          ],
          "heatmap": [
           {
            "colorbar": {
             "outlinewidth": 0,
             "ticks": ""
            },
            "colorscale": [
             [
              0,
              "#0d0887"
             ],
             [
              0.1111111111111111,
              "#46039f"
             ],
             [
              0.2222222222222222,
              "#7201a8"
             ],
             [
              0.3333333333333333,
              "#9c179e"
             ],
             [
              0.4444444444444444,
              "#bd3786"
             ],
             [
              0.5555555555555556,
              "#d8576b"
             ],
             [
              0.6666666666666666,
              "#ed7953"
             ],
             [
              0.7777777777777778,
              "#fb9f3a"
             ],
             [
              0.8888888888888888,
              "#fdca26"
             ],
             [
              1,
              "#f0f921"
             ]
            ],
            "type": "heatmap"
           }
          ],
          "heatmapgl": [
           {
            "colorbar": {
             "outlinewidth": 0,
             "ticks": ""
            },
            "colorscale": [
             [
              0,
              "#0d0887"
             ],
             [
              0.1111111111111111,
              "#46039f"
             ],
             [
              0.2222222222222222,
              "#7201a8"
             ],
             [
              0.3333333333333333,
              "#9c179e"
             ],
             [
              0.4444444444444444,
              "#bd3786"
             ],
             [
              0.5555555555555556,
              "#d8576b"
             ],
             [
              0.6666666666666666,
              "#ed7953"
             ],
             [
              0.7777777777777778,
              "#fb9f3a"
             ],
             [
              0.8888888888888888,
              "#fdca26"
             ],
             [
              1,
              "#f0f921"
             ]
            ],
            "type": "heatmapgl"
           }
          ],
          "histogram": [
           {
            "marker": {
             "pattern": {
              "fillmode": "overlay",
              "size": 10,
              "solidity": 0.2
             }
            },
            "type": "histogram"
           }
          ],
          "histogram2d": [
           {
            "colorbar": {
             "outlinewidth": 0,
             "ticks": ""
            },
            "colorscale": [
             [
              0,
              "#0d0887"
             ],
             [
              0.1111111111111111,
              "#46039f"
             ],
             [
              0.2222222222222222,
              "#7201a8"
             ],
             [
              0.3333333333333333,
              "#9c179e"
             ],
             [
              0.4444444444444444,
              "#bd3786"
             ],
             [
              0.5555555555555556,
              "#d8576b"
             ],
             [
              0.6666666666666666,
              "#ed7953"
             ],
             [
              0.7777777777777778,
              "#fb9f3a"
             ],
             [
              0.8888888888888888,
              "#fdca26"
             ],
             [
              1,
              "#f0f921"
             ]
            ],
            "type": "histogram2d"
           }
          ],
          "histogram2dcontour": [
           {
            "colorbar": {
             "outlinewidth": 0,
             "ticks": ""
            },
            "colorscale": [
             [
              0,
              "#0d0887"
             ],
             [
              0.1111111111111111,
              "#46039f"
             ],
             [
              0.2222222222222222,
              "#7201a8"
             ],
             [
              0.3333333333333333,
              "#9c179e"
             ],
             [
              0.4444444444444444,
              "#bd3786"
             ],
             [
              0.5555555555555556,
              "#d8576b"
             ],
             [
              0.6666666666666666,
              "#ed7953"
             ],
             [
              0.7777777777777778,
              "#fb9f3a"
             ],
             [
              0.8888888888888888,
              "#fdca26"
             ],
             [
              1,
              "#f0f921"
             ]
            ],
            "type": "histogram2dcontour"
           }
          ],
          "mesh3d": [
           {
            "colorbar": {
             "outlinewidth": 0,
             "ticks": ""
            },
            "type": "mesh3d"
           }
          ],
          "parcoords": [
           {
            "line": {
             "colorbar": {
              "outlinewidth": 0,
              "ticks": ""
             }
            },
            "type": "parcoords"
           }
          ],
          "pie": [
           {
            "automargin": true,
            "type": "pie"
           }
          ],
          "scatter": [
           {
            "fillpattern": {
             "fillmode": "overlay",
             "size": 10,
             "solidity": 0.2
            },
            "type": "scatter"
           }
          ],
          "scatter3d": [
           {
            "line": {
             "colorbar": {
              "outlinewidth": 0,
              "ticks": ""
             }
            },
            "marker": {
             "colorbar": {
              "outlinewidth": 0,
              "ticks": ""
             }
            },
            "type": "scatter3d"
           }
          ],
          "scattercarpet": [
           {
            "marker": {
             "colorbar": {
              "outlinewidth": 0,
              "ticks": ""
             }
            },
            "type": "scattercarpet"
           }
          ],
          "scattergeo": [
           {
            "marker": {
             "colorbar": {
              "outlinewidth": 0,
              "ticks": ""
             }
            },
            "type": "scattergeo"
           }
          ],
          "scattergl": [
           {
            "marker": {
             "colorbar": {
              "outlinewidth": 0,
              "ticks": ""
             }
            },
            "type": "scattergl"
           }
          ],
          "scattermapbox": [
           {
            "marker": {
             "colorbar": {
              "outlinewidth": 0,
              "ticks": ""
             }
            },
            "type": "scattermapbox"
           }
          ],
          "scatterpolar": [
           {
            "marker": {
             "colorbar": {
              "outlinewidth": 0,
              "ticks": ""
             }
            },
            "type": "scatterpolar"
           }
          ],
          "scatterpolargl": [
           {
            "marker": {
             "colorbar": {
              "outlinewidth": 0,
              "ticks": ""
             }
            },
            "type": "scatterpolargl"
           }
          ],
          "scatterternary": [
           {
            "marker": {
             "colorbar": {
              "outlinewidth": 0,
              "ticks": ""
             }
            },
            "type": "scatterternary"
           }
          ],
          "surface": [
           {
            "colorbar": {
             "outlinewidth": 0,
             "ticks": ""
            },
            "colorscale": [
             [
              0,
              "#0d0887"
             ],
             [
              0.1111111111111111,
              "#46039f"
             ],
             [
              0.2222222222222222,
              "#7201a8"
             ],
             [
              0.3333333333333333,
              "#9c179e"
             ],
             [
              0.4444444444444444,
              "#bd3786"
             ],
             [
              0.5555555555555556,
              "#d8576b"
             ],
             [
              0.6666666666666666,
              "#ed7953"
             ],
             [
              0.7777777777777778,
              "#fb9f3a"
             ],
             [
              0.8888888888888888,
              "#fdca26"
             ],
             [
              1,
              "#f0f921"
             ]
            ],
            "type": "surface"
           }
          ],
          "table": [
           {
            "cells": {
             "fill": {
              "color": "#EBF0F8"
             },
             "line": {
              "color": "white"
             }
            },
            "header": {
             "fill": {
              "color": "#C8D4E3"
             },
             "line": {
              "color": "white"
             }
            },
            "type": "table"
           }
          ]
         },
         "layout": {
          "annotationdefaults": {
           "arrowcolor": "#2a3f5f",
           "arrowhead": 0,
           "arrowwidth": 1
          },
          "autotypenumbers": "strict",
          "coloraxis": {
           "colorbar": {
            "outlinewidth": 0,
            "ticks": ""
           }
          },
          "colorscale": {
           "diverging": [
            [
             0,
             "#8e0152"
            ],
            [
             0.1,
             "#c51b7d"
            ],
            [
             0.2,
             "#de77ae"
            ],
            [
             0.3,
             "#f1b6da"
            ],
            [
             0.4,
             "#fde0ef"
            ],
            [
             0.5,
             "#f7f7f7"
            ],
            [
             0.6,
             "#e6f5d0"
            ],
            [
             0.7,
             "#b8e186"
            ],
            [
             0.8,
             "#7fbc41"
            ],
            [
             0.9,
             "#4d9221"
            ],
            [
             1,
             "#276419"
            ]
           ],
           "sequential": [
            [
             0,
             "#0d0887"
            ],
            [
             0.1111111111111111,
             "#46039f"
            ],
            [
             0.2222222222222222,
             "#7201a8"
            ],
            [
             0.3333333333333333,
             "#9c179e"
            ],
            [
             0.4444444444444444,
             "#bd3786"
            ],
            [
             0.5555555555555556,
             "#d8576b"
            ],
            [
             0.6666666666666666,
             "#ed7953"
            ],
            [
             0.7777777777777778,
             "#fb9f3a"
            ],
            [
             0.8888888888888888,
             "#fdca26"
            ],
            [
             1,
             "#f0f921"
            ]
           ],
           "sequentialminus": [
            [
             0,
             "#0d0887"
            ],
            [
             0.1111111111111111,
             "#46039f"
            ],
            [
             0.2222222222222222,
             "#7201a8"
            ],
            [
             0.3333333333333333,
             "#9c179e"
            ],
            [
             0.4444444444444444,
             "#bd3786"
            ],
            [
             0.5555555555555556,
             "#d8576b"
            ],
            [
             0.6666666666666666,
             "#ed7953"
            ],
            [
             0.7777777777777778,
             "#fb9f3a"
            ],
            [
             0.8888888888888888,
             "#fdca26"
            ],
            [
             1,
             "#f0f921"
            ]
           ]
          },
          "colorway": [
           "#636efa",
           "#EF553B",
           "#00cc96",
           "#ab63fa",
           "#FFA15A",
           "#19d3f3",
           "#FF6692",
           "#B6E880",
           "#FF97FF",
           "#FECB52"
          ],
          "font": {
           "color": "#2a3f5f"
          },
          "geo": {
           "bgcolor": "white",
           "lakecolor": "white",
           "landcolor": "#E5ECF6",
           "showlakes": true,
           "showland": true,
           "subunitcolor": "white"
          },
          "hoverlabel": {
           "align": "left"
          },
          "hovermode": "closest",
          "mapbox": {
           "style": "light"
          },
          "paper_bgcolor": "white",
          "plot_bgcolor": "#E5ECF6",
          "polar": {
           "angularaxis": {
            "gridcolor": "white",
            "linecolor": "white",
            "ticks": ""
           },
           "bgcolor": "#E5ECF6",
           "radialaxis": {
            "gridcolor": "white",
            "linecolor": "white",
            "ticks": ""
           }
          },
          "scene": {
           "xaxis": {
            "backgroundcolor": "#E5ECF6",
            "gridcolor": "white",
            "gridwidth": 2,
            "linecolor": "white",
            "showbackground": true,
            "ticks": "",
            "zerolinecolor": "white"
           },
           "yaxis": {
            "backgroundcolor": "#E5ECF6",
            "gridcolor": "white",
            "gridwidth": 2,
            "linecolor": "white",
            "showbackground": true,
            "ticks": "",
            "zerolinecolor": "white"
           },
           "zaxis": {
            "backgroundcolor": "#E5ECF6",
            "gridcolor": "white",
            "gridwidth": 2,
            "linecolor": "white",
            "showbackground": true,
            "ticks": "",
            "zerolinecolor": "white"
           }
          },
          "shapedefaults": {
           "line": {
            "color": "#2a3f5f"
           }
          },
          "ternary": {
           "aaxis": {
            "gridcolor": "white",
            "linecolor": "white",
            "ticks": ""
           },
           "baxis": {
            "gridcolor": "white",
            "linecolor": "white",
            "ticks": ""
           },
           "bgcolor": "#E5ECF6",
           "caxis": {
            "gridcolor": "white",
            "linecolor": "white",
            "ticks": ""
           }
          },
          "title": {
           "x": 0.05
          },
          "xaxis": {
           "automargin": true,
           "gridcolor": "white",
           "linecolor": "white",
           "ticks": "",
           "title": {
            "standoff": 15
           },
           "zerolinecolor": "white",
           "zerolinewidth": 2
          },
          "yaxis": {
           "automargin": true,
           "gridcolor": "white",
           "linecolor": "white",
           "ticks": "",
           "title": {
            "standoff": 15
           },
           "zerolinecolor": "white",
           "zerolinewidth": 2
          }
         }
        },
        "title": {
         "text": "3D Comparison for departement-01-ain - bad_prediction_modified_nbsinister_max_1"
        },
        "width": 1000
       }
      }
     },
     "metadata": {},
     "output_type": "display_data"
    },
    {
     "data": {
      "application/vnd.plotly.v1+json": {
       "config": {
        "plotlyServerURL": "https://plot.ly"
       },
       "data": [
        {
         "line": {
          "color": "#636EFA",
          "width": 3
         },
         "marker": {
          "color": "#636EFA",
          "size": 8
         },
         "mode": "lines+markers",
         "name": "departement-25-doubs - bad_prediction_modified_nbsinister_max_1 - 7",
         "type": "scatter3d",
         "x": [
          "7",
          "7",
          "7",
          "7",
          "7"
         ],
         "y": [
          "0",
          "0.1",
          "0.30000000000000004",
          "0.5",
          "0.8"
         ],
         "z": [
          0.64,
          0.64,
          0.61,
          0.59,
          0.64
         ]
        },
        {
         "line": {
          "color": "#EF553B",
          "width": 3
         },
         "marker": {
          "color": "#EF553B",
          "size": 8
         },
         "mode": "lines+markers",
         "name": "departement-25-doubs - bad_prediction_modified_nbsinister_max_1 - 10",
         "type": "scatter3d",
         "x": [
          10,
          10,
          10,
          10,
          10
         ],
         "y": [
          "0",
          "0.1",
          "0.2",
          "0.5",
          "0.7000000000000001"
         ],
         "z": [
          0.41,
          0.42,
          0.41,
          0.41,
          0.42
         ]
        }
       ],
       "layout": {
        "height": 700,
        "scene": {
         "xaxis": {
          "title": {
           "text": "Scale"
          },
          "type": "linear"
         },
         "yaxis": {
          "title": {
           "text": "kmeans_thresh"
          },
          "type": "linear"
         },
         "zaxis": {
          "title": {
           "text": "Metric"
          },
          "type": "linear"
         }
        },
        "template": {
         "data": {
          "bar": [
           {
            "error_x": {
             "color": "#2a3f5f"
            },
            "error_y": {
             "color": "#2a3f5f"
            },
            "marker": {
             "line": {
              "color": "#E5ECF6",
              "width": 0.5
             },
             "pattern": {
              "fillmode": "overlay",
              "size": 10,
              "solidity": 0.2
             }
            },
            "type": "bar"
           }
          ],
          "barpolar": [
           {
            "marker": {
             "line": {
              "color": "#E5ECF6",
              "width": 0.5
             },
             "pattern": {
              "fillmode": "overlay",
              "size": 10,
              "solidity": 0.2
             }
            },
            "type": "barpolar"
           }
          ],
          "carpet": [
           {
            "aaxis": {
             "endlinecolor": "#2a3f5f",
             "gridcolor": "white",
             "linecolor": "white",
             "minorgridcolor": "white",
             "startlinecolor": "#2a3f5f"
            },
            "baxis": {
             "endlinecolor": "#2a3f5f",
             "gridcolor": "white",
             "linecolor": "white",
             "minorgridcolor": "white",
             "startlinecolor": "#2a3f5f"
            },
            "type": "carpet"
           }
          ],
          "choropleth": [
           {
            "colorbar": {
             "outlinewidth": 0,
             "ticks": ""
            },
            "type": "choropleth"
           }
          ],
          "contour": [
           {
            "colorbar": {
             "outlinewidth": 0,
             "ticks": ""
            },
            "colorscale": [
             [
              0,
              "#0d0887"
             ],
             [
              0.1111111111111111,
              "#46039f"
             ],
             [
              0.2222222222222222,
              "#7201a8"
             ],
             [
              0.3333333333333333,
              "#9c179e"
             ],
             [
              0.4444444444444444,
              "#bd3786"
             ],
             [
              0.5555555555555556,
              "#d8576b"
             ],
             [
              0.6666666666666666,
              "#ed7953"
             ],
             [
              0.7777777777777778,
              "#fb9f3a"
             ],
             [
              0.8888888888888888,
              "#fdca26"
             ],
             [
              1,
              "#f0f921"
             ]
            ],
            "type": "contour"
           }
          ],
          "contourcarpet": [
           {
            "colorbar": {
             "outlinewidth": 0,
             "ticks": ""
            },
            "type": "contourcarpet"
           }
          ],
          "heatmap": [
           {
            "colorbar": {
             "outlinewidth": 0,
             "ticks": ""
            },
            "colorscale": [
             [
              0,
              "#0d0887"
             ],
             [
              0.1111111111111111,
              "#46039f"
             ],
             [
              0.2222222222222222,
              "#7201a8"
             ],
             [
              0.3333333333333333,
              "#9c179e"
             ],
             [
              0.4444444444444444,
              "#bd3786"
             ],
             [
              0.5555555555555556,
              "#d8576b"
             ],
             [
              0.6666666666666666,
              "#ed7953"
             ],
             [
              0.7777777777777778,
              "#fb9f3a"
             ],
             [
              0.8888888888888888,
              "#fdca26"
             ],
             [
              1,
              "#f0f921"
             ]
            ],
            "type": "heatmap"
           }
          ],
          "heatmapgl": [
           {
            "colorbar": {
             "outlinewidth": 0,
             "ticks": ""
            },
            "colorscale": [
             [
              0,
              "#0d0887"
             ],
             [
              0.1111111111111111,
              "#46039f"
             ],
             [
              0.2222222222222222,
              "#7201a8"
             ],
             [
              0.3333333333333333,
              "#9c179e"
             ],
             [
              0.4444444444444444,
              "#bd3786"
             ],
             [
              0.5555555555555556,
              "#d8576b"
             ],
             [
              0.6666666666666666,
              "#ed7953"
             ],
             [
              0.7777777777777778,
              "#fb9f3a"
             ],
             [
              0.8888888888888888,
              "#fdca26"
             ],
             [
              1,
              "#f0f921"
             ]
            ],
            "type": "heatmapgl"
           }
          ],
          "histogram": [
           {
            "marker": {
             "pattern": {
              "fillmode": "overlay",
              "size": 10,
              "solidity": 0.2
             }
            },
            "type": "histogram"
           }
          ],
          "histogram2d": [
           {
            "colorbar": {
             "outlinewidth": 0,
             "ticks": ""
            },
            "colorscale": [
             [
              0,
              "#0d0887"
             ],
             [
              0.1111111111111111,
              "#46039f"
             ],
             [
              0.2222222222222222,
              "#7201a8"
             ],
             [
              0.3333333333333333,
              "#9c179e"
             ],
             [
              0.4444444444444444,
              "#bd3786"
             ],
             [
              0.5555555555555556,
              "#d8576b"
             ],
             [
              0.6666666666666666,
              "#ed7953"
             ],
             [
              0.7777777777777778,
              "#fb9f3a"
             ],
             [
              0.8888888888888888,
              "#fdca26"
             ],
             [
              1,
              "#f0f921"
             ]
            ],
            "type": "histogram2d"
           }
          ],
          "histogram2dcontour": [
           {
            "colorbar": {
             "outlinewidth": 0,
             "ticks": ""
            },
            "colorscale": [
             [
              0,
              "#0d0887"
             ],
             [
              0.1111111111111111,
              "#46039f"
             ],
             [
              0.2222222222222222,
              "#7201a8"
             ],
             [
              0.3333333333333333,
              "#9c179e"
             ],
             [
              0.4444444444444444,
              "#bd3786"
             ],
             [
              0.5555555555555556,
              "#d8576b"
             ],
             [
              0.6666666666666666,
              "#ed7953"
             ],
             [
              0.7777777777777778,
              "#fb9f3a"
             ],
             [
              0.8888888888888888,
              "#fdca26"
             ],
             [
              1,
              "#f0f921"
             ]
            ],
            "type": "histogram2dcontour"
           }
          ],
          "mesh3d": [
           {
            "colorbar": {
             "outlinewidth": 0,
             "ticks": ""
            },
            "type": "mesh3d"
           }
          ],
          "parcoords": [
           {
            "line": {
             "colorbar": {
              "outlinewidth": 0,
              "ticks": ""
             }
            },
            "type": "parcoords"
           }
          ],
          "pie": [
           {
            "automargin": true,
            "type": "pie"
           }
          ],
          "scatter": [
           {
            "fillpattern": {
             "fillmode": "overlay",
             "size": 10,
             "solidity": 0.2
            },
            "type": "scatter"
           }
          ],
          "scatter3d": [
           {
            "line": {
             "colorbar": {
              "outlinewidth": 0,
              "ticks": ""
             }
            },
            "marker": {
             "colorbar": {
              "outlinewidth": 0,
              "ticks": ""
             }
            },
            "type": "scatter3d"
           }
          ],
          "scattercarpet": [
           {
            "marker": {
             "colorbar": {
              "outlinewidth": 0,
              "ticks": ""
             }
            },
            "type": "scattercarpet"
           }
          ],
          "scattergeo": [
           {
            "marker": {
             "colorbar": {
              "outlinewidth": 0,
              "ticks": ""
             }
            },
            "type": "scattergeo"
           }
          ],
          "scattergl": [
           {
            "marker": {
             "colorbar": {
              "outlinewidth": 0,
              "ticks": ""
             }
            },
            "type": "scattergl"
           }
          ],
          "scattermapbox": [
           {
            "marker": {
             "colorbar": {
              "outlinewidth": 0,
              "ticks": ""
             }
            },
            "type": "scattermapbox"
           }
          ],
          "scatterpolar": [
           {
            "marker": {
             "colorbar": {
              "outlinewidth": 0,
              "ticks": ""
             }
            },
            "type": "scatterpolar"
           }
          ],
          "scatterpolargl": [
           {
            "marker": {
             "colorbar": {
              "outlinewidth": 0,
              "ticks": ""
             }
            },
            "type": "scatterpolargl"
           }
          ],
          "scatterternary": [
           {
            "marker": {
             "colorbar": {
              "outlinewidth": 0,
              "ticks": ""
             }
            },
            "type": "scatterternary"
           }
          ],
          "surface": [
           {
            "colorbar": {
             "outlinewidth": 0,
             "ticks": ""
            },
            "colorscale": [
             [
              0,
              "#0d0887"
             ],
             [
              0.1111111111111111,
              "#46039f"
             ],
             [
              0.2222222222222222,
              "#7201a8"
             ],
             [
              0.3333333333333333,
              "#9c179e"
             ],
             [
              0.4444444444444444,
              "#bd3786"
             ],
             [
              0.5555555555555556,
              "#d8576b"
             ],
             [
              0.6666666666666666,
              "#ed7953"
             ],
             [
              0.7777777777777778,
              "#fb9f3a"
             ],
             [
              0.8888888888888888,
              "#fdca26"
             ],
             [
              1,
              "#f0f921"
             ]
            ],
            "type": "surface"
           }
          ],
          "table": [
           {
            "cells": {
             "fill": {
              "color": "#EBF0F8"
             },
             "line": {
              "color": "white"
             }
            },
            "header": {
             "fill": {
              "color": "#C8D4E3"
             },
             "line": {
              "color": "white"
             }
            },
            "type": "table"
           }
          ]
         },
         "layout": {
          "annotationdefaults": {
           "arrowcolor": "#2a3f5f",
           "arrowhead": 0,
           "arrowwidth": 1
          },
          "autotypenumbers": "strict",
          "coloraxis": {
           "colorbar": {
            "outlinewidth": 0,
            "ticks": ""
           }
          },
          "colorscale": {
           "diverging": [
            [
             0,
             "#8e0152"
            ],
            [
             0.1,
             "#c51b7d"
            ],
            [
             0.2,
             "#de77ae"
            ],
            [
             0.3,
             "#f1b6da"
            ],
            [
             0.4,
             "#fde0ef"
            ],
            [
             0.5,
             "#f7f7f7"
            ],
            [
             0.6,
             "#e6f5d0"
            ],
            [
             0.7,
             "#b8e186"
            ],
            [
             0.8,
             "#7fbc41"
            ],
            [
             0.9,
             "#4d9221"
            ],
            [
             1,
             "#276419"
            ]
           ],
           "sequential": [
            [
             0,
             "#0d0887"
            ],
            [
             0.1111111111111111,
             "#46039f"
            ],
            [
             0.2222222222222222,
             "#7201a8"
            ],
            [
             0.3333333333333333,
             "#9c179e"
            ],
            [
             0.4444444444444444,
             "#bd3786"
            ],
            [
             0.5555555555555556,
             "#d8576b"
            ],
            [
             0.6666666666666666,
             "#ed7953"
            ],
            [
             0.7777777777777778,
             "#fb9f3a"
            ],
            [
             0.8888888888888888,
             "#fdca26"
            ],
            [
             1,
             "#f0f921"
            ]
           ],
           "sequentialminus": [
            [
             0,
             "#0d0887"
            ],
            [
             0.1111111111111111,
             "#46039f"
            ],
            [
             0.2222222222222222,
             "#7201a8"
            ],
            [
             0.3333333333333333,
             "#9c179e"
            ],
            [
             0.4444444444444444,
             "#bd3786"
            ],
            [
             0.5555555555555556,
             "#d8576b"
            ],
            [
             0.6666666666666666,
             "#ed7953"
            ],
            [
             0.7777777777777778,
             "#fb9f3a"
            ],
            [
             0.8888888888888888,
             "#fdca26"
            ],
            [
             1,
             "#f0f921"
            ]
           ]
          },
          "colorway": [
           "#636efa",
           "#EF553B",
           "#00cc96",
           "#ab63fa",
           "#FFA15A",
           "#19d3f3",
           "#FF6692",
           "#B6E880",
           "#FF97FF",
           "#FECB52"
          ],
          "font": {
           "color": "#2a3f5f"
          },
          "geo": {
           "bgcolor": "white",
           "lakecolor": "white",
           "landcolor": "#E5ECF6",
           "showlakes": true,
           "showland": true,
           "subunitcolor": "white"
          },
          "hoverlabel": {
           "align": "left"
          },
          "hovermode": "closest",
          "mapbox": {
           "style": "light"
          },
          "paper_bgcolor": "white",
          "plot_bgcolor": "#E5ECF6",
          "polar": {
           "angularaxis": {
            "gridcolor": "white",
            "linecolor": "white",
            "ticks": ""
           },
           "bgcolor": "#E5ECF6",
           "radialaxis": {
            "gridcolor": "white",
            "linecolor": "white",
            "ticks": ""
           }
          },
          "scene": {
           "xaxis": {
            "backgroundcolor": "#E5ECF6",
            "gridcolor": "white",
            "gridwidth": 2,
            "linecolor": "white",
            "showbackground": true,
            "ticks": "",
            "zerolinecolor": "white"
           },
           "yaxis": {
            "backgroundcolor": "#E5ECF6",
            "gridcolor": "white",
            "gridwidth": 2,
            "linecolor": "white",
            "showbackground": true,
            "ticks": "",
            "zerolinecolor": "white"
           },
           "zaxis": {
            "backgroundcolor": "#E5ECF6",
            "gridcolor": "white",
            "gridwidth": 2,
            "linecolor": "white",
            "showbackground": true,
            "ticks": "",
            "zerolinecolor": "white"
           }
          },
          "shapedefaults": {
           "line": {
            "color": "#2a3f5f"
           }
          },
          "ternary": {
           "aaxis": {
            "gridcolor": "white",
            "linecolor": "white",
            "ticks": ""
           },
           "baxis": {
            "gridcolor": "white",
            "linecolor": "white",
            "ticks": ""
           },
           "bgcolor": "#E5ECF6",
           "caxis": {
            "gridcolor": "white",
            "linecolor": "white",
            "ticks": ""
           }
          },
          "title": {
           "x": 0.05
          },
          "xaxis": {
           "automargin": true,
           "gridcolor": "white",
           "linecolor": "white",
           "ticks": "",
           "title": {
            "standoff": 15
           },
           "zerolinecolor": "white",
           "zerolinewidth": 2
          },
          "yaxis": {
           "automargin": true,
           "gridcolor": "white",
           "linecolor": "white",
           "ticks": "",
           "title": {
            "standoff": 15
           },
           "zerolinecolor": "white",
           "zerolinewidth": 2
          }
         }
        },
        "title": {
         "text": "3D Comparison for departement-25-doubs - bad_prediction_modified_nbsinister_max_1"
        },
        "width": 1000
       }
      }
     },
     "metadata": {},
     "output_type": "display_data"
    },
    {
     "data": {
      "application/vnd.plotly.v1+json": {
       "config": {
        "plotlyServerURL": "https://plot.ly"
       },
       "data": [
        {
         "line": {
          "color": "#636EFA",
          "width": 3
         },
         "marker": {
          "color": "#636EFA",
          "size": 8
         },
         "mode": "lines+markers",
         "name": "departement-78-yvelines - bad_prediction_modified_nbsinister_max_1 - 7",
         "type": "scatter3d",
         "x": [
          "7",
          "7",
          "7",
          "7",
          "7"
         ],
         "y": [
          "0",
          "0.1",
          "0.30000000000000004",
          "0.5",
          "0.8"
         ],
         "z": [
          0.49,
          0.48,
          0.42,
          0.39,
          0.33
         ]
        },
        {
         "line": {
          "color": "#EF553B",
          "width": 3
         },
         "marker": {
          "color": "#EF553B",
          "size": 8
         },
         "mode": "lines+markers",
         "name": "departement-78-yvelines - bad_prediction_modified_nbsinister_max_1 - 10",
         "type": "scatter3d",
         "x": [
          10,
          10,
          10,
          10,
          10
         ],
         "y": [
          "0",
          "0.1",
          "0.2",
          "0.5",
          "0.7000000000000001"
         ],
         "z": [
          0.32,
          0.32,
          0.32,
          0.34,
          0.35
         ]
        }
       ],
       "layout": {
        "height": 700,
        "scene": {
         "xaxis": {
          "title": {
           "text": "Scale"
          },
          "type": "linear"
         },
         "yaxis": {
          "title": {
           "text": "kmeans_thresh"
          },
          "type": "linear"
         },
         "zaxis": {
          "title": {
           "text": "Metric"
          },
          "type": "linear"
         }
        },
        "template": {
         "data": {
          "bar": [
           {
            "error_x": {
             "color": "#2a3f5f"
            },
            "error_y": {
             "color": "#2a3f5f"
            },
            "marker": {
             "line": {
              "color": "#E5ECF6",
              "width": 0.5
             },
             "pattern": {
              "fillmode": "overlay",
              "size": 10,
              "solidity": 0.2
             }
            },
            "type": "bar"
           }
          ],
          "barpolar": [
           {
            "marker": {
             "line": {
              "color": "#E5ECF6",
              "width": 0.5
             },
             "pattern": {
              "fillmode": "overlay",
              "size": 10,
              "solidity": 0.2
             }
            },
            "type": "barpolar"
           }
          ],
          "carpet": [
           {
            "aaxis": {
             "endlinecolor": "#2a3f5f",
             "gridcolor": "white",
             "linecolor": "white",
             "minorgridcolor": "white",
             "startlinecolor": "#2a3f5f"
            },
            "baxis": {
             "endlinecolor": "#2a3f5f",
             "gridcolor": "white",
             "linecolor": "white",
             "minorgridcolor": "white",
             "startlinecolor": "#2a3f5f"
            },
            "type": "carpet"
           }
          ],
          "choropleth": [
           {
            "colorbar": {
             "outlinewidth": 0,
             "ticks": ""
            },
            "type": "choropleth"
           }
          ],
          "contour": [
           {
            "colorbar": {
             "outlinewidth": 0,
             "ticks": ""
            },
            "colorscale": [
             [
              0,
              "#0d0887"
             ],
             [
              0.1111111111111111,
              "#46039f"
             ],
             [
              0.2222222222222222,
              "#7201a8"
             ],
             [
              0.3333333333333333,
              "#9c179e"
             ],
             [
              0.4444444444444444,
              "#bd3786"
             ],
             [
              0.5555555555555556,
              "#d8576b"
             ],
             [
              0.6666666666666666,
              "#ed7953"
             ],
             [
              0.7777777777777778,
              "#fb9f3a"
             ],
             [
              0.8888888888888888,
              "#fdca26"
             ],
             [
              1,
              "#f0f921"
             ]
            ],
            "type": "contour"
           }
          ],
          "contourcarpet": [
           {
            "colorbar": {
             "outlinewidth": 0,
             "ticks": ""
            },
            "type": "contourcarpet"
           }
          ],
          "heatmap": [
           {
            "colorbar": {
             "outlinewidth": 0,
             "ticks": ""
            },
            "colorscale": [
             [
              0,
              "#0d0887"
             ],
             [
              0.1111111111111111,
              "#46039f"
             ],
             [
              0.2222222222222222,
              "#7201a8"
             ],
             [
              0.3333333333333333,
              "#9c179e"
             ],
             [
              0.4444444444444444,
              "#bd3786"
             ],
             [
              0.5555555555555556,
              "#d8576b"
             ],
             [
              0.6666666666666666,
              "#ed7953"
             ],
             [
              0.7777777777777778,
              "#fb9f3a"
             ],
             [
              0.8888888888888888,
              "#fdca26"
             ],
             [
              1,
              "#f0f921"
             ]
            ],
            "type": "heatmap"
           }
          ],
          "heatmapgl": [
           {
            "colorbar": {
             "outlinewidth": 0,
             "ticks": ""
            },
            "colorscale": [
             [
              0,
              "#0d0887"
             ],
             [
              0.1111111111111111,
              "#46039f"
             ],
             [
              0.2222222222222222,
              "#7201a8"
             ],
             [
              0.3333333333333333,
              "#9c179e"
             ],
             [
              0.4444444444444444,
              "#bd3786"
             ],
             [
              0.5555555555555556,
              "#d8576b"
             ],
             [
              0.6666666666666666,
              "#ed7953"
             ],
             [
              0.7777777777777778,
              "#fb9f3a"
             ],
             [
              0.8888888888888888,
              "#fdca26"
             ],
             [
              1,
              "#f0f921"
             ]
            ],
            "type": "heatmapgl"
           }
          ],
          "histogram": [
           {
            "marker": {
             "pattern": {
              "fillmode": "overlay",
              "size": 10,
              "solidity": 0.2
             }
            },
            "type": "histogram"
           }
          ],
          "histogram2d": [
           {
            "colorbar": {
             "outlinewidth": 0,
             "ticks": ""
            },
            "colorscale": [
             [
              0,
              "#0d0887"
             ],
             [
              0.1111111111111111,
              "#46039f"
             ],
             [
              0.2222222222222222,
              "#7201a8"
             ],
             [
              0.3333333333333333,
              "#9c179e"
             ],
             [
              0.4444444444444444,
              "#bd3786"
             ],
             [
              0.5555555555555556,
              "#d8576b"
             ],
             [
              0.6666666666666666,
              "#ed7953"
             ],
             [
              0.7777777777777778,
              "#fb9f3a"
             ],
             [
              0.8888888888888888,
              "#fdca26"
             ],
             [
              1,
              "#f0f921"
             ]
            ],
            "type": "histogram2d"
           }
          ],
          "histogram2dcontour": [
           {
            "colorbar": {
             "outlinewidth": 0,
             "ticks": ""
            },
            "colorscale": [
             [
              0,
              "#0d0887"
             ],
             [
              0.1111111111111111,
              "#46039f"
             ],
             [
              0.2222222222222222,
              "#7201a8"
             ],
             [
              0.3333333333333333,
              "#9c179e"
             ],
             [
              0.4444444444444444,
              "#bd3786"
             ],
             [
              0.5555555555555556,
              "#d8576b"
             ],
             [
              0.6666666666666666,
              "#ed7953"
             ],
             [
              0.7777777777777778,
              "#fb9f3a"
             ],
             [
              0.8888888888888888,
              "#fdca26"
             ],
             [
              1,
              "#f0f921"
             ]
            ],
            "type": "histogram2dcontour"
           }
          ],
          "mesh3d": [
           {
            "colorbar": {
             "outlinewidth": 0,
             "ticks": ""
            },
            "type": "mesh3d"
           }
          ],
          "parcoords": [
           {
            "line": {
             "colorbar": {
              "outlinewidth": 0,
              "ticks": ""
             }
            },
            "type": "parcoords"
           }
          ],
          "pie": [
           {
            "automargin": true,
            "type": "pie"
           }
          ],
          "scatter": [
           {
            "fillpattern": {
             "fillmode": "overlay",
             "size": 10,
             "solidity": 0.2
            },
            "type": "scatter"
           }
          ],
          "scatter3d": [
           {
            "line": {
             "colorbar": {
              "outlinewidth": 0,
              "ticks": ""
             }
            },
            "marker": {
             "colorbar": {
              "outlinewidth": 0,
              "ticks": ""
             }
            },
            "type": "scatter3d"
           }
          ],
          "scattercarpet": [
           {
            "marker": {
             "colorbar": {
              "outlinewidth": 0,
              "ticks": ""
             }
            },
            "type": "scattercarpet"
           }
          ],
          "scattergeo": [
           {
            "marker": {
             "colorbar": {
              "outlinewidth": 0,
              "ticks": ""
             }
            },
            "type": "scattergeo"
           }
          ],
          "scattergl": [
           {
            "marker": {
             "colorbar": {
              "outlinewidth": 0,
              "ticks": ""
             }
            },
            "type": "scattergl"
           }
          ],
          "scattermapbox": [
           {
            "marker": {
             "colorbar": {
              "outlinewidth": 0,
              "ticks": ""
             }
            },
            "type": "scattermapbox"
           }
          ],
          "scatterpolar": [
           {
            "marker": {
             "colorbar": {
              "outlinewidth": 0,
              "ticks": ""
             }
            },
            "type": "scatterpolar"
           }
          ],
          "scatterpolargl": [
           {
            "marker": {
             "colorbar": {
              "outlinewidth": 0,
              "ticks": ""
             }
            },
            "type": "scatterpolargl"
           }
          ],
          "scatterternary": [
           {
            "marker": {
             "colorbar": {
              "outlinewidth": 0,
              "ticks": ""
             }
            },
            "type": "scatterternary"
           }
          ],
          "surface": [
           {
            "colorbar": {
             "outlinewidth": 0,
             "ticks": ""
            },
            "colorscale": [
             [
              0,
              "#0d0887"
             ],
             [
              0.1111111111111111,
              "#46039f"
             ],
             [
              0.2222222222222222,
              "#7201a8"
             ],
             [
              0.3333333333333333,
              "#9c179e"
             ],
             [
              0.4444444444444444,
              "#bd3786"
             ],
             [
              0.5555555555555556,
              "#d8576b"
             ],
             [
              0.6666666666666666,
              "#ed7953"
             ],
             [
              0.7777777777777778,
              "#fb9f3a"
             ],
             [
              0.8888888888888888,
              "#fdca26"
             ],
             [
              1,
              "#f0f921"
             ]
            ],
            "type": "surface"
           }
          ],
          "table": [
           {
            "cells": {
             "fill": {
              "color": "#EBF0F8"
             },
             "line": {
              "color": "white"
             }
            },
            "header": {
             "fill": {
              "color": "#C8D4E3"
             },
             "line": {
              "color": "white"
             }
            },
            "type": "table"
           }
          ]
         },
         "layout": {
          "annotationdefaults": {
           "arrowcolor": "#2a3f5f",
           "arrowhead": 0,
           "arrowwidth": 1
          },
          "autotypenumbers": "strict",
          "coloraxis": {
           "colorbar": {
            "outlinewidth": 0,
            "ticks": ""
           }
          },
          "colorscale": {
           "diverging": [
            [
             0,
             "#8e0152"
            ],
            [
             0.1,
             "#c51b7d"
            ],
            [
             0.2,
             "#de77ae"
            ],
            [
             0.3,
             "#f1b6da"
            ],
            [
             0.4,
             "#fde0ef"
            ],
            [
             0.5,
             "#f7f7f7"
            ],
            [
             0.6,
             "#e6f5d0"
            ],
            [
             0.7,
             "#b8e186"
            ],
            [
             0.8,
             "#7fbc41"
            ],
            [
             0.9,
             "#4d9221"
            ],
            [
             1,
             "#276419"
            ]
           ],
           "sequential": [
            [
             0,
             "#0d0887"
            ],
            [
             0.1111111111111111,
             "#46039f"
            ],
            [
             0.2222222222222222,
             "#7201a8"
            ],
            [
             0.3333333333333333,
             "#9c179e"
            ],
            [
             0.4444444444444444,
             "#bd3786"
            ],
            [
             0.5555555555555556,
             "#d8576b"
            ],
            [
             0.6666666666666666,
             "#ed7953"
            ],
            [
             0.7777777777777778,
             "#fb9f3a"
            ],
            [
             0.8888888888888888,
             "#fdca26"
            ],
            [
             1,
             "#f0f921"
            ]
           ],
           "sequentialminus": [
            [
             0,
             "#0d0887"
            ],
            [
             0.1111111111111111,
             "#46039f"
            ],
            [
             0.2222222222222222,
             "#7201a8"
            ],
            [
             0.3333333333333333,
             "#9c179e"
            ],
            [
             0.4444444444444444,
             "#bd3786"
            ],
            [
             0.5555555555555556,
             "#d8576b"
            ],
            [
             0.6666666666666666,
             "#ed7953"
            ],
            [
             0.7777777777777778,
             "#fb9f3a"
            ],
            [
             0.8888888888888888,
             "#fdca26"
            ],
            [
             1,
             "#f0f921"
            ]
           ]
          },
          "colorway": [
           "#636efa",
           "#EF553B",
           "#00cc96",
           "#ab63fa",
           "#FFA15A",
           "#19d3f3",
           "#FF6692",
           "#B6E880",
           "#FF97FF",
           "#FECB52"
          ],
          "font": {
           "color": "#2a3f5f"
          },
          "geo": {
           "bgcolor": "white",
           "lakecolor": "white",
           "landcolor": "#E5ECF6",
           "showlakes": true,
           "showland": true,
           "subunitcolor": "white"
          },
          "hoverlabel": {
           "align": "left"
          },
          "hovermode": "closest",
          "mapbox": {
           "style": "light"
          },
          "paper_bgcolor": "white",
          "plot_bgcolor": "#E5ECF6",
          "polar": {
           "angularaxis": {
            "gridcolor": "white",
            "linecolor": "white",
            "ticks": ""
           },
           "bgcolor": "#E5ECF6",
           "radialaxis": {
            "gridcolor": "white",
            "linecolor": "white",
            "ticks": ""
           }
          },
          "scene": {
           "xaxis": {
            "backgroundcolor": "#E5ECF6",
            "gridcolor": "white",
            "gridwidth": 2,
            "linecolor": "white",
            "showbackground": true,
            "ticks": "",
            "zerolinecolor": "white"
           },
           "yaxis": {
            "backgroundcolor": "#E5ECF6",
            "gridcolor": "white",
            "gridwidth": 2,
            "linecolor": "white",
            "showbackground": true,
            "ticks": "",
            "zerolinecolor": "white"
           },
           "zaxis": {
            "backgroundcolor": "#E5ECF6",
            "gridcolor": "white",
            "gridwidth": 2,
            "linecolor": "white",
            "showbackground": true,
            "ticks": "",
            "zerolinecolor": "white"
           }
          },
          "shapedefaults": {
           "line": {
            "color": "#2a3f5f"
           }
          },
          "ternary": {
           "aaxis": {
            "gridcolor": "white",
            "linecolor": "white",
            "ticks": ""
           },
           "baxis": {
            "gridcolor": "white",
            "linecolor": "white",
            "ticks": ""
           },
           "bgcolor": "#E5ECF6",
           "caxis": {
            "gridcolor": "white",
            "linecolor": "white",
            "ticks": ""
           }
          },
          "title": {
           "x": 0.05
          },
          "xaxis": {
           "automargin": true,
           "gridcolor": "white",
           "linecolor": "white",
           "ticks": "",
           "title": {
            "standoff": 15
           },
           "zerolinecolor": "white",
           "zerolinewidth": 2
          },
          "yaxis": {
           "automargin": true,
           "gridcolor": "white",
           "linecolor": "white",
           "ticks": "",
           "title": {
            "standoff": 15
           },
           "zerolinecolor": "white",
           "zerolinewidth": 2
          }
         }
        },
        "title": {
         "text": "3D Comparison for departement-78-yvelines - bad_prediction_modified_nbsinister_max_1"
        },
        "width": 1000
       }
      }
     },
     "metadata": {},
     "output_type": "display_data"
    }
   ],
   "source": [
    "compare_models_2d(df, df.Department.unique(), dept_markers, ['bad_prediction_modified_nbsinister_max_1'], 'Scale', 'kmeans_thresh', 'Scale')"
   ]
  },
  {
   "cell_type": "markdown",
   "metadata": {},
   "source": [
    "###"
   ]
  }
 ],
 "metadata": {
  "kernelspec": {
   "display_name": "Python 3",
   "language": "python",
   "name": "python3"
  },
  "language_info": {
   "codemirror_mode": {
    "name": "ipython",
    "version": 3
   },
   "file_extension": ".py",
   "mimetype": "text/x-python",
   "name": "python",
   "nbconvert_exporter": "python",
   "pygments_lexer": "ipython3",
   "version": "3.9.18"
  }
 },
 "nbformat": 4,
 "nbformat_minor": 2
}
