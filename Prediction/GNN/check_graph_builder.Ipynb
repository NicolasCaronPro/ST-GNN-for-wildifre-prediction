{
 "cells": [
  {
   "cell_type": "code",
   "execution_count": 4,
   "metadata": {},
   "outputs": [],
   "source": [
    "import sys\n",
    "\n",
    "sys.path.insert(0, '/home/caron/Bureau/Model/HexagonalScale/ST-GNN-for-wildifre-prediction/Prediction')\n",
    "\n",
    "from firecastnet.seasfire.backbones.graphcast.graph_builder import *\n",
    "\n",
    "icospheres_graph_path=\"/home/caron/Bureau/Model/HexagonalScale/firecastnet/icospheres/icospheres_0_1_2_3_4_5_6.json.gz\""
   ]
  },
  {
   "cell_type": "code",
   "execution_count": 5,
   "metadata": {},
   "outputs": [],
   "source": [
    "import xarray as xr\n",
    "\n",
    "# Get xarray dataset from source\n",
    "def get_xarray_dataset(path_to_dataset='SeasFire.zarr'):\n",
    "    ds = xr.open_zarr(Path.home() / path_to_dataset)\n",
    "    return ds"
   ]
  },
  {
   "cell_type": "code",
   "execution_count": 3,
   "metadata": {},
   "outputs": [
    {
     "data": {
      "text/plain": [
       "'2.4.0+cu121'"
      ]
     },
     "execution_count": 3,
     "metadata": {},
     "output_type": "execute_result"
    }
   ],
   "source": [
    "import torch\n",
    "\n",
    "torch.__version__"
   ]
  },
  {
   "cell_type": "code",
   "execution_count": 6,
   "metadata": {},
   "outputs": [
    {
     "name": "stderr",
     "output_type": "stream",
     "text": [
      "/home/caron/Bureau/.conda/lib/python3.9/site-packages/torch/cuda/__init__.py:128: UserWarning: CUDA initialization: CUDA unknown error - this may be due to an incorrectly set up environment, e.g. changing env variable CUDA_VISIBLE_DEVICES after program start. Setting the available devices to be zero. (Triggered internally at ../c10/cuda/CUDAFunctions.cpp:108.)\n",
      "  return torch._C._cuda_getDeviceCount() > 0\n"
     ]
    },
    {
     "name": "stdout",
     "output_type": "stream",
     "text": [
      "Nom de l'hôte : caron-Precision-7780\n",
      "Adresse IP locale : 127.0.1.1\n",
      "Nom de l'hôte : caron-Precision-7780\n",
      "Adresse IP locale : 127.0.1.1\n"
     ]
    }
   ],
   "source": [
    "import geopandas as gpd\n",
    "import pickle\n",
    "from pathlib import Path\n",
    "\n",
    "path = Path('/home/caron/Bureau/Model/HexagonalScale/ST-GNN-for-wildifre-prediction/Prediction/GNN/firemen/firepoint/2x2/train')\n",
    "\n",
    "graph = pickle.load(open(path / 'graph_7_risk-size-watershed_graph.pkl', 'rb'))\n",
    "\n",
    "#geo = gpd.read_file('regions/firepoint/bdiff/regions.geojson')\n",
    "\n",
    "#ds = read_object('france.pkl', Path('/media/caron/X9 Pro/travaille/Thèse/csv/SeasFire/seasfire_v0.3/'))\n",
    "\n",
    "#ds = get_xarray_dataset(path_to_dataset='/media/caron/X9 Pro/travaille/Thèse/csv/SeasFire/seasfire_v0.3/SeasFireCube_v3.zarr')"
   ]
  },
  {
   "cell_type": "code",
   "execution_count": 7,
   "metadata": {},
   "outputs": [
    {
     "name": "stdout",
     "output_type": "stream",
     "text": [
      "Nom de l'hôte : caron-Precision-7780\n",
      "Adresse IP locale : 127.0.1.1\n"
     ]
    }
   ],
   "source": [
    "from config import *\n",
    "\n",
    "lats = graph.nodes[:, latitude_index]\n",
    "lons = graph.nodes[:, longitude_index]\n",
    "#lats = geo.latitude.values\n",
    "#lons = geo.longitude.values\n",
    "#lats = ds.latitude.values\n",
    "#lons = ds.longitude.values\n",
    "\n",
    "g_lat_lon_grid = np.asarray([lats, lons])\n",
    "g_lat_lon_grid.shape\n",
    "g_lat_lon_grid = torch.Tensor(g_lat_lon_grid)\n",
    "\n",
    "g_max_lat = np.max(lats)\n",
    "g_min_lat = np.min(lats)\n",
    "g_max_lon = np.max(lons)\n",
    "g_min_lon = np.min(lons)\n",
    "\n",
    "g_sp_res = 0.25"
   ]
  },
  {
   "cell_type": "code",
   "execution_count": 8,
   "metadata": {},
   "outputs": [],
   "source": [
    "#graph._plot(graph.nodes, dir_output=Path('./'))"
   ]
  },
  {
   "cell_type": "code",
   "execution_count": 9,
   "metadata": {},
   "outputs": [
    {
     "data": {
      "text/plain": [
       "'g_lat_lon_grid = torch.stack(\\n    torch.meshgrid(torch.Tensor(lats), torch.Tensor(lons), indexing=\"ij\"), dim=-1\\n)'"
      ]
     },
     "execution_count": 9,
     "metadata": {},
     "output_type": "execute_result"
    }
   ],
   "source": [
    "# create the lat_lon_grid for the graph\n",
    "\"\"\"_g_latitudes = torch.from_numpy(\n",
    "    np.arange(\n",
    "        g_max_lat, g_min_lat - (g_sp_res / 2), -g_sp_res, dtype=np.float32\n",
    "    )\n",
    ")\n",
    "_g_lat_dim = _g_latitudes.size(0)\n",
    "logger.info(\"Latitude dimension (graph) = {}\".format(_g_lat_dim))\n",
    "\n",
    "_g_longitudes = torch.from_numpy(\n",
    "    np.arange(g_min_lon, g_max_lon + (g_sp_res / 2), g_sp_res, dtype=np.float32)\n",
    ")\n",
    "_g_lon_dim = _g_longitudes.size(0)\n",
    "logger.info(\"Longitude dimension (graph) = {}\".format(_g_lon_dim))\n",
    "\n",
    "_g_lat_lon_grid = torch.stack(\n",
    "    torch.meshgrid(_g_latitudes, _g_longitudes, indexing=\"ij\"), dim=-1\n",
    ")\"\"\"\n",
    "\n",
    "#g_lat_lon_grid = _g_lat_lon_grid\n",
    "\n",
    "\"\"\"g_lat_lon_grid = torch.stack(\n",
    "    torch.meshgrid(torch.Tensor(lats), torch.Tensor(lons), indexing=\"ij\"), dim=-1\n",
    ")\"\"\""
   ]
  },
  {
   "cell_type": "code",
   "execution_count": 10,
   "metadata": {},
   "outputs": [
    {
     "data": {
      "text/plain": [
       "\"import pandas as pd\\n\\n_g_lat_lon_grid = g_lat_lon_grid.reshape(-1,2)\\n\\ndf = pd.DataFrame(index=np.arange(0, _g_lat_lon_grid.shape[0]))\\ndf['latitude'] = _g_lat_lon_grid[:, 0]\\ndf['longitude'] = _g_lat_lon_grid[:, 1]\\n\\n\\ngdf = gpd.GeoDataFrame(df, geometry=gpd.points_from_xy(df.longitude, df.latitude))\\ngdf.plot()\""
      ]
     },
     "execution_count": 10,
     "metadata": {},
     "output_type": "execute_result"
    }
   ],
   "source": [
    "\"\"\"import pandas as pd\n",
    "\n",
    "_g_lat_lon_grid = g_lat_lon_grid.reshape(-1,2)\n",
    "\n",
    "df = pd.DataFrame(index=np.arange(0, _g_lat_lon_grid.shape[0]))\n",
    "df['latitude'] = _g_lat_lon_grid[:, 0]\n",
    "df['longitude'] = _g_lat_lon_grid[:, 1]\n",
    "\n",
    "\n",
    "gdf = gpd.GeoDataFrame(df, geometry=gpd.points_from_xy(df.longitude, df.latitude))\n",
    "gdf.plot()\"\"\""
   ]
  },
  {
   "cell_type": "code",
   "execution_count": 11,
   "metadata": {},
   "outputs": [
    {
     "name": "stdout",
     "output_type": "stream",
     "text": [
      "2025-02-19 17:23:42,772 [INFO ]  Opened pre-computed graph from /home/caron/Bureau/Model/HexagonalScale/firecastnet/icospheres/icospheres_0_1_2_3_4_5_6.json.gz.\n",
      "2025-02-19 17:23:42,772 [INFO ]  Opened pre-computed graph from /home/caron/Bureau/Model/HexagonalScale/firecastnet/icospheres/icospheres_0_1_2_3_4_5_6.json.gz.\n",
      "2025-02-19 17:23:42,773 [INFO ]  Will use max_order=6 icospheres\n",
      "2025-02-19 17:23:42,773 [INFO ]  Will use max_order=6 icospheres\n"
     ]
    }
   ],
   "source": [
    "graph = GraphBuilder(\n",
    "            icospheres_graph_path=icospheres_graph_path,\n",
    "            lat_lon_grid=g_lat_lon_grid,\n",
    "        )"
   ]
  },
  {
   "cell_type": "code",
   "execution_count": 12,
   "metadata": {},
   "outputs": [
    {
     "data": {
      "text/plain": [
       "tensor([[0.478, 0.498, 0.723],\n",
       "        [0.992, 0.098, 0.086]])"
      ]
     },
     "execution_count": 12,
     "metadata": {},
     "output_type": "execute_result"
    }
   ],
   "source": [
    "cartesian_grid = latlon2xyz(g_lat_lon_grid)\n",
    "cartesian_grid"
   ]
  },
  {
   "cell_type": "code",
   "execution_count": 13,
   "metadata": {},
   "outputs": [
    {
     "data": {
      "text/plain": [
       "torch.Size([2, 33])"
      ]
     },
     "execution_count": 13,
     "metadata": {},
     "output_type": "execute_result"
    }
   ],
   "source": [
    "g_lat_lon_grid.permute(0,1).shape"
   ]
  },
  {
   "cell_type": "code",
   "execution_count": 14,
   "metadata": {},
   "outputs": [
    {
     "data": {
      "text/plain": [
       "array([[-0.52573111,  0.85065081,  0.        ],\n",
       "       [ 0.52573111,  0.85065081,  0.        ],\n",
       "       [-0.52573111, -0.85065081,  0.        ],\n",
       "       [ 0.52573111, -0.85065081,  0.        ],\n",
       "       [ 0.        , -0.52573111,  0.85065081],\n",
       "       [ 0.        ,  0.52573111,  0.85065081],\n",
       "       [ 0.        , -0.52573111, -0.85065081],\n",
       "       [ 0.        ,  0.52573111, -0.85065081],\n",
       "       [ 0.85065081,  0.        , -0.52573111],\n",
       "       [ 0.85065081,  0.        ,  0.52573111],\n",
       "       [-0.85065081,  0.        , -0.52573111],\n",
       "       [-0.85065081,  0.        ,  0.52573111]])"
      ]
     },
     "execution_count": 14,
     "metadata": {},
     "output_type": "execute_result"
    }
   ],
   "source": [
    "graph.icospheres['order_0_vertices']"
   ]
  },
  {
   "cell_type": "code",
   "execution_count": 15,
   "metadata": {},
   "outputs": [],
   "source": [
    "import dgl\n",
    "import networkx as nx\n",
    "import torch\n",
    "import matplotlib.pyplot as plt\n",
    "from mpl_toolkits.mplot3d import Axes3D\n",
    "\n",
    "def plot_dgl_graph_3d(graph, title=\"DGL Graph 3D\"):\n",
    "    \"\"\"Affiche un graphe DGL en 3D avec une grande figure.\"\"\"\n",
    "    \n",
    "    # Trouver la clé correcte des positions\n",
    "    if \"pos\" in graph.ndata:\n",
    "        pos = graph.ndata[\"pos\"].numpy()\n",
    "    elif \"x\" in graph.ndata:\n",
    "        pos = graph.ndata[\"x\"].numpy()\n",
    "    else:\n",
    "        raise KeyError(\"Aucune donnée de position trouvée dans le graphe !\")\n",
    "\n",
    "    nx_graph = graph.to_networkx()\n",
    "\n",
    "    fig = plt.figure(figsize=(15, 12))  # Augmenter la taille de la figure\n",
    "    ax = fig.add_subplot(111, projection=\"3d\")\n",
    "\n",
    "    for src, dst in nx_graph.edges():\n",
    "        x_vals = [pos[src][0], pos[dst][0]]\n",
    "        y_vals = [pos[src][1], pos[dst][1]]\n",
    "        z_vals = [pos[src][2], pos[dst][2]]\n",
    "        ax.plot(x_vals, y_vals, z_vals, \"gray\", alpha=0.6)\n",
    "\n",
    "    ax.scatter(pos[:, 0], pos[:, 1], pos[:, 2], c=\"blue\", s=50)  # Augmenter la taille des nœuds\n",
    "\n",
    "    ax.set_title(title, fontsize=18)  # Augmenter la taille du titre\n",
    "    plt.show()\n",
    "\n",
    "def plot_dgl_hetero_graph_3d(graph, node_types, edge_type, title=\"DGL Hetero Graph 3D\"):\n",
    "    \"\"\"Affiche un graphe DGL hétérogène en 3D avec une grande figure.\n",
    "    \n",
    "    Args:\n",
    "        graph (dgl.DGLHeteroGraph): Le graphe hétérogène à afficher.\n",
    "        node_types (tuple): Tuple des types de nœuds (ex: (\"grid\", \"mesh\")).\n",
    "        edge_type (tuple): Tuple représentant le type d’arête (ex: (\"grid\", \"g2m\", \"mesh\")).\n",
    "        title (str): Titre du graphe.\n",
    "    \"\"\"\n",
    "\n",
    "    src_type, dst_type = node_types  # Ex: (\"grid\", \"mesh\")\n",
    "\n",
    "    # Vérifier si le type d’arête est présent dans le graphe\n",
    "    #if edge_type not in graph.metagraph().edges:\n",
    "    #    raise ValueError(f\"L'arête {edge_type} n'existe pas dans le graphe !\")\n",
    "\n",
    "    # Vérifier la présence des positions des nœuds\n",
    "    if \"pos\" in graph.nodes[src_type].data and \"pos\" in graph.nodes[dst_type].data:\n",
    "        src_pos = graph.nodes[src_type].data[\"pos\"].numpy()\n",
    "        dst_pos = graph.nodes[dst_type].data[\"pos\"].numpy()\n",
    "    else:\n",
    "        raise KeyError(\"Les positions 'pos' ne sont pas définies pour certains nœuds.\")\n",
    "\n",
    "    # Convertir en graphe NetworkX pour visualisation\n",
    "    nx_graph = dgl.to_networkx(graph)\n",
    "\n",
    "    fig = plt.figure(figsize=(15, 12))\n",
    "    ax = fig.add_subplot(111, projection=\"3d\")\n",
    "\n",
    "    # Dessiner les arêtes\n",
    "    for src, dst in zip(*graph.edges):\n",
    "        x_vals = [src_pos[src][0], dst_pos[dst][0]]\n",
    "        y_vals = [src_pos[src][1], dst_pos[dst][1]]\n",
    "        z_vals = [src_pos[src][2], dst_pos[dst][2]]\n",
    "        ax.plot(x_vals, y_vals, z_vals, \"gray\", alpha=0.6)\n",
    "\n",
    "    # Dessiner les nœuds sources et destinations avec des couleurs distinctes\n",
    "    ax.scatter(src_pos[:, 0], src_pos[:, 1], src_pos[:, 2], c=\"blue\", s=50, label=src_type)\n",
    "    ax.scatter(dst_pos[:, 0], dst_pos[:, 1], dst_pos[:, 2], c=\"red\", s=50, label=dst_type)\n",
    "\n",
    "    ax.set_title(title, fontsize=18)\n",
    "    ax.legend()\n",
    "    plt.show()\n"
   ]
  },
  {
   "cell_type": "code",
   "execution_count": 16,
   "metadata": {},
   "outputs": [
    {
     "name": "stdout",
     "output_type": "stream",
     "text": [
      "2025-02-19 17:23:42,887 [INFO ]  Creating bi-directional mesh graph\n",
      "2025-02-19 17:23:42,887 [INFO ]  Creating bi-directional mesh graph\n",
      "2025-02-19 17:23:43,665 [INFO ]  mesh graph=Graph(num_nodes=40962, num_edges=327660,\n",
      "      ndata_schemes={'x': Scheme(shape=(3,), dtype=torch.float32)}\n",
      "      edata_schemes={'x': Scheme(shape=(4,), dtype=torch.float32)})\n",
      "2025-02-19 17:23:43,665 [INFO ]  mesh graph=Graph(num_nodes=40962, num_edges=327660,\n",
      "      ndata_schemes={'x': Scheme(shape=(3,), dtype=torch.float32)}\n",
      "      edata_schemes={'x': Scheme(shape=(4,), dtype=torch.float32)})\n",
      "2025-02-19 17:23:43,684 [INFO ]  Creating grid2mesh bipartite graph\n",
      "2025-02-19 17:23:43,684 [INFO ]  Creating grid2mesh bipartite graph\n",
      "2025-02-19 17:23:43,730 [INFO ]  Found max edge length = 0.020673044140092828\n",
      "2025-02-19 17:23:43,730 [INFO ]  Found max edge length = 0.020673044140092828\n",
      "2025-02-19 17:23:43,780 [INFO ]  mesh graph=Graph(num_nodes=39652, num_edges=316978,\n",
      "      ndata_schemes={'x': Scheme(shape=(3,), dtype=torch.float32), '_ID': Scheme(shape=(), dtype=torch.int32)}\n",
      "      edata_schemes={'x': Scheme(shape=(4,), dtype=torch.float32), '_ID': Scheme(shape=(), dtype=torch.int32)})\n",
      "2025-02-19 17:23:43,780 [INFO ]  mesh graph=Graph(num_nodes=39652, num_edges=316978,\n",
      "      ndata_schemes={'x': Scheme(shape=(3,), dtype=torch.float32), '_ID': Scheme(shape=(), dtype=torch.int32)}\n",
      "      edata_schemes={'x': Scheme(shape=(4,), dtype=torch.float32), '_ID': Scheme(shape=(), dtype=torch.int32)})\n",
      "2025-02-19 17:23:43,788 [INFO ]  grid2mesh bipartite graph=Graph(num_nodes={'grid': 33, 'mesh': 39652},\n",
      "      num_edges={('grid', 'g2m', 'mesh'): 47},\n",
      "      metagraph=[('grid', 'mesh', 'g2m')])\n",
      "2025-02-19 17:23:43,788 [INFO ]  grid2mesh bipartite graph=Graph(num_nodes={'grid': 33, 'mesh': 39652},\n",
      "      num_edges={('grid', 'g2m', 'mesh'): 47},\n",
      "      metagraph=[('grid', 'mesh', 'g2m')])\n",
      "2025-02-19 17:23:43,790 [INFO ]  Creating mesh2grid bipartite graph\n",
      "2025-02-19 17:23:43,790 [INFO ]  Creating mesh2grid bipartite graph\n",
      "2025-02-19 17:23:43,883 [INFO ]  mesh2grid bipartite graph=Graph(num_nodes={'grid': 33, 'mesh': 39652},\n",
      "      num_edges={('mesh', 'm2g', 'grid'): 99},\n",
      "      metagraph=[('mesh', 'grid', 'm2g')])\n",
      "2025-02-19 17:23:43,883 [INFO ]  mesh2grid bipartite graph=Graph(num_nodes={'grid': 33, 'mesh': 39652},\n",
      "      num_edges={('mesh', 'm2g', 'grid'): 99},\n",
      "      metagraph=[('mesh', 'grid', 'm2g')])\n"
     ]
    }
   ],
   "source": [
    "graph_mesh = graph.create_mesh_graph()\n",
    "graph2mesh, graph_mesh = graph.create_g2m_graph(graph_mesh)\n",
    "graphmesh2graph = graph.create_m2g_graph()\n",
    "\n",
    "#plot_dgl_graph_3d(graph_mesh)"
   ]
  },
  {
   "cell_type": "code",
   "execution_count": 17,
   "metadata": {},
   "outputs": [
    {
     "data": {
      "text/plain": [
       "Graph(num_nodes={'grid': 33, 'mesh': 39652},\n",
       "      num_edges={('grid', 'g2m', 'mesh'): 47},\n",
       "      metagraph=[('grid', 'mesh', 'g2m')])"
      ]
     },
     "execution_count": 17,
     "metadata": {},
     "output_type": "execute_result"
    }
   ],
   "source": [
    "graph2mesh"
   ]
  },
  {
   "cell_type": "code",
   "execution_count": 18,
   "metadata": {},
   "outputs": [
    {
     "data": {
      "text/plain": [
       "Graph(num_nodes=39652, num_edges=316978,\n",
       "      ndata_schemes={'x': Scheme(shape=(3,), dtype=torch.float32), '_ID': Scheme(shape=(), dtype=torch.int32)}\n",
       "      edata_schemes={'x': Scheme(shape=(4,), dtype=torch.float32), '_ID': Scheme(shape=(), dtype=torch.int32)})"
      ]
     },
     "execution_count": 18,
     "metadata": {},
     "output_type": "execute_result"
    }
   ],
   "source": [
    "graph_mesh"
   ]
  },
  {
   "cell_type": "code",
   "execution_count": 19,
   "metadata": {},
   "outputs": [],
   "source": [
    "#plot_dgl_hetero_graph_3d(graph2mesh, ('grid', 'mesh'), 'g2m')"
   ]
  }
 ],
 "metadata": {
  "kernelspec": {
   "display_name": "Python 3",
   "language": "python",
   "name": "python3"
  },
  "language_info": {
   "codemirror_mode": {
    "name": "ipython",
    "version": 3
   },
   "file_extension": ".py",
   "mimetype": "text/x-python",
   "name": "python",
   "nbconvert_exporter": "python",
   "pygments_lexer": "ipython3",
   "version": "3.9.18"
  }
 },
 "nbformat": 4,
 "nbformat_minor": 2
}
