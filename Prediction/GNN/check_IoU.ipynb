{
 "cells": [
  {
   "cell_type": "code",
   "execution_count": 2,
   "metadata": {},
   "outputs": [
    {
     "name": "stderr",
     "output_type": "stream",
     "text": [
      "/home/caron/Bureau/.conda/lib/python3.9/site-packages/tqdm/auto.py:21: TqdmWarning: IProgress not found. Please update jupyter and ipywidgets. See https://ipywidgets.readthedocs.io/en/stable/user_install.html\n",
      "  from .autonotebook import tqdm as notebook_tqdm\n"
     ]
    },
    {
     "name": "stdout",
     "output_type": "stream",
     "text": [
      "Nom de l'hôte : caron-Precision-7780\n",
      "Adresse IP locale : 127.0.1.1\n"
     ]
    },
    {
     "name": "stderr",
     "output_type": "stream",
     "text": [
      "/home/caron/Bureau/.conda/lib/python3.9/site-packages/torch/cuda/__init__.py:128: UserWarning: CUDA initialization: CUDA unknown error - this may be due to an incorrectly set up environment, e.g. changing env variable CUDA_VISIBLE_DEVICES after program start. Setting the available devices to be zero. (Triggered internally at ../c10/cuda/CUDAFunctions.cpp:108.)\n",
      "  return torch._C._cuda_getDeviceCount() > 0\n"
     ]
    },
    {
     "name": "stdout",
     "output_type": "stream",
     "text": [
      "Nom de l'hôte : caron-Precision-7780\n",
      "Adresse IP locale : 127.0.1.1\n"
     ]
    }
   ],
   "source": [
    "import cv2\n",
    "import sys\n",
    "sys.path.insert(0, '/home/caron/Bureau/Model/HexagonalScale/ST-GNN-for-wildifre-prediction/Prediction')\n",
    "\n",
    "from tools import *\n",
    "from config import *\n",
    "\n",
    "def calculate_iou(image1, image2):\n",
    "    \n",
    "    # Vérifier que les deux images sont de la même taille\n",
    "    if image1.shape != image2.shape:\n",
    "        raise ValueError(\"Les deux images doivent être de la même taille pour calculer l'IoU.\")\n",
    "    \n",
    "    # Binariser les images (seuiling pour les valeurs de pixels 0 ou 255)\n",
    "    _, binary_image1 = cv2.threshold(image1, 127, 255, cv2.THRESH_BINARY)\n",
    "    _, binary_image2 = cv2.threshold(image2, 127, 255, cv2.THRESH_BINARY)\n",
    "    \n",
    "    # Calculer l'intersection et l'union\n",
    "    intersection = np.logical_and(binary_image1, binary_image2).sum()\n",
    "    union = np.logical_or(binary_image1, binary_image2).sum()\n",
    "    \n",
    "    # Calculer l'IoU\n",
    "    iou = intersection / union if union != 0 else 0\n",
    "    return iou"
   ]
  },
  {
   "cell_type": "code",
   "execution_count": null,
   "metadata": {},
   "outputs": [],
   "source": [
    "dept = 'departement-69-rhone'\n",
    "scale = 4\n",
    "base = 'risk-size-watershed'\n",
    "path_to_predict = Path('firemen2/firepoint/2x2/train/features_geometry/'+dept)\n",
    "path_to_gt = Path('firemen/firepoint/2x2/train/features_geometry/'+dept)\n",
    "\n",
    "image_one = read_object(f'pred_merge.pkl', path_to_predict)\n",
    "image_two = read_object(f'pred_merge.pkl', path_to_gt)\n",
    "\n",
    "calculate_iou(image_one, image_two)"
   ]
  }
 ],
 "metadata": {
  "kernelspec": {
   "display_name": "Python 3",
   "language": "python",
   "name": "python3"
  },
  "language_info": {
   "codemirror_mode": {
    "name": "ipython",
    "version": 3
   },
   "file_extension": ".py",
   "mimetype": "text/x-python",
   "name": "python",
   "nbconvert_exporter": "python",
   "pygments_lexer": "ipython3",
   "version": "3.9.18"
  }
 },
 "nbformat": 4,
 "nbformat_minor": 2
}
