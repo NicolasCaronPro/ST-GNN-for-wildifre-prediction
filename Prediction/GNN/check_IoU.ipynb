{
 "cells": [
  {
   "cell_type": "code",
   "execution_count": 2,
   "metadata": {},
   "outputs": [
    {
     "name": "stderr",
     "output_type": "stream",
     "text": [
      "/home/caron/Bureau/.conda/lib/python3.9/site-packages/tqdm/auto.py:21: TqdmWarning: IProgress not found. Please update jupyter and ipywidgets. See https://ipywidgets.readthedocs.io/en/stable/user_install.html\n",
      "  from .autonotebook import tqdm as notebook_tqdm\n"
     ]
    },
    {
     "name": "stdout",
     "output_type": "stream",
     "text": [
      "Nom de l'hôte : caron-Precision-7780\n",
      "Adresse IP locale : 127.0.1.1\n"
     ]
    },
    {
     "name": "stderr",
     "output_type": "stream",
     "text": [
      "/home/caron/Bureau/.conda/lib/python3.9/site-packages/torch/cuda/__init__.py:128: UserWarning: CUDA initialization: CUDA unknown error - this may be due to an incorrectly set up environment, e.g. changing env variable CUDA_VISIBLE_DEVICES after program start. Setting the available devices to be zero. (Triggered internally at ../c10/cuda/CUDAFunctions.cpp:108.)\n",
      "  return torch._C._cuda_getDeviceCount() > 0\n"
     ]
    },
    {
     "name": "stdout",
     "output_type": "stream",
     "text": [
      "Nom de l'hôte : caron-Precision-7780\n",
      "Adresse IP locale : 127.0.1.1\n"
     ]
    }
   ],
   "source": [
    "import cv2\n",
    "import sys\n",
    "sys.path.insert(0, '/home/caron/Bureau/Model/HexagonalScale/ST-GNN-for-wildifre-prediction/Prediction')\n",
    "\n",
    "from tools import *\n",
    "from config import *\n",
    "\n",
    "def calculate_iou(image1, image2):\n",
    "    \n",
    "    # Vérifier que les deux images sont de la même taille\n",
    "    if image1.shape != image2.shape:\n",
    "        raise ValueError(\"Les deux images doivent être de la même taille pour calculer l'IoU.\")\n",
    "    \n",
    "    # Binariser les images (seuiling pour les valeurs de pixels 0 ou 255)\n",
    "    _, binary_image1 = cv2.threshold(image1, 127, 255, cv2.THRESH_BINARY)\n",
    "    _, binary_image2 = cv2.threshold(image2, 127, 255, cv2.THRESH_BINARY)\n",
    "    \n",
    "    # Calculer l'intersection et l'union\n",
    "    intersection = np.logical_and(binary_image1, binary_image2).sum()\n",
    "    union = np.logical_or(binary_image1, binary_image2).sum()\n",
    "    \n",
    "    # Calculer l'IoU\n",
    "    iou = intersection / union if union != 0 else 0\n",
    "    return iou"
   ]
  },
  {
   "cell_type": "code",
   "execution_count": 2,
   "metadata": {},
   "outputs": [
    {
     "name": "stdout",
     "output_type": "stream",
     "text": [
      "Function:\n",
      "Max((-ypred + ytrue)/union, (ypred - ytrue)/union)\n",
      "\n",
      "Gradient:\n",
      " ⎛  -ypred + ytrue   ypred - ytrue⎞    ⎛-ypred + ytrue   ypred - ytrue⎞\n",
      "θ⎜- ────────────── + ─────────────⎟   θ⎜────────────── - ─────────────⎟\n",
      " ⎝      union            union    ⎠    ⎝    union            union    ⎠\n",
      "─────────────────────────────────── - ─────────────────────────────────\n",
      "               union                                union              \n",
      "   ⎛  -ypred + ytrue   ypred - ytrue⎞    ⎛-ypred + ytrue   ypred - ytrue⎞\n",
      "  θ⎜- ────────────── + ─────────────⎟   θ⎜────────────── - ─────────────⎟\n",
      "   ⎝      union            union    ⎠    ⎝    union            union    ⎠\n",
      "- ─────────────────────────────────── + ─────────────────────────────────\n",
      "                 union                                union              \n",
      "\n",
      "Hessian:\n",
      "   ⎛  -ypred + ytrue   ypred - ytrue⎞      ⎛-ypred + ytrue   ypred - ytrue⎞\n",
      "2⋅δ⎜- ────────────── + ─────────────⎟   2⋅δ⎜────────────── - ─────────────⎟\n",
      "   ⎝      union            union    ⎠      ⎝    union            union    ⎠\n",
      "───────────────────────────────────── + ───────────────────────────────────\n",
      "                    2                                      2               \n",
      "               union                                  union                \n",
      "\n",
      "     ⎛  -ypred + ytrue   ypred - ytrue⎞      ⎛-ypred + ytrue   ypred - ytrue⎞\n",
      "  2⋅δ⎜- ────────────── + ─────────────⎟   2⋅δ⎜────────────── - ─────────────⎟\n",
      "     ⎝      union            union    ⎠      ⎝    union            union    ⎠\n",
      "- ───────────────────────────────────── - ───────────────────────────────────\n",
      "                      2                                      2               \n",
      "                 union                                  union                \n",
      "\n",
      "     ⎛  -ypred + ytrue   ypred - ytrue⎞      ⎛-ypred + ytrue   ypred - ytrue⎞\n",
      "  2⋅δ⎜- ────────────── + ─────────────⎟   2⋅δ⎜────────────── - ─────────────⎟\n",
      "     ⎝      union            union    ⎠      ⎝    union            union    ⎠\n",
      "- ───────────────────────────────────── - ───────────────────────────────────\n",
      "                      2                                      2               \n",
      "                 union                                  union                \n",
      "\n",
      "   ⎛  -ypred + ytrue   ypred - ytrue⎞      ⎛-ypred + ytrue   ypred - ytrue⎞\n",
      "2⋅δ⎜- ────────────── + ─────────────⎟   2⋅δ⎜────────────── - ─────────────⎟\n",
      "   ⎝      union            union    ⎠      ⎝    union            union    ⎠\n",
      "───────────────────────────────────── + ───────────────────────────────────\n",
      "                    2                                      2               \n",
      "               union                                  union                \n",
      "\n"
     ]
    }
   ],
   "source": [
    "import sympy as sp\n",
    "\n",
    "import sympy as sp\n",
    "\n",
    "# Define symbols\n",
    "ypred, ytrue, union = sp.symbols('ypred ytrue union', real=True, positive=True)\n",
    "\n",
    "# Define the numerator and denominator\n",
    "numerator1 = ypred - ytrue\n",
    "numerator2 = ytrue - ypred\n",
    "\n",
    "# Define the function using max operation\n",
    "f = sp.Max(numerator1 / union, numerator2 / union)\n",
    "\n",
    "# Gradient (partial derivatives w.r.t ypred and ytrue)\n",
    "grad = [sp.diff(f, var) for var in (ypred, ytrue)]\n",
    "\n",
    "# Hessian (second-order derivatives)\n",
    "hess = [[sp.diff(g, var) for var in (ypred, ytrue)] for g in grad]\n",
    "\n",
    "# Print results\n",
    "print(\"Function:\")\n",
    "sp.pprint(f)\n",
    "print(\"\\nGradient:\")\n",
    "for g in grad:\n",
    "    sp.pprint(g)\n",
    "print(\"\\nHessian:\")\n",
    "for row in hess:\n",
    "    for h in row:\n",
    "        sp.pprint(h)\n",
    "        print()\n"
   ]
  },
  {
   "cell_type": "code",
   "execution_count": 26,
   "metadata": {},
   "outputs": [],
   "source": [
    "import sympy as sp\n",
    "import numpy as np\n",
    "\n",
    "def bad_prediction_loss(y, pred):\n",
    "    \"\"\"\n",
    "    Compute the gradient and Hessian for a custom loss function.\n",
    "\n",
    "    :param y: Ground truth values (array-like).\n",
    "    :param pred: Predicted values (array-like).\n",
    "    :return: Gradient and Hessian arrays for the loss.\n",
    "    \"\"\"\n",
    "    # Define symbols for symbolic computation\n",
    "    ypred, ytrue, union = sp.symbols('ypred ytrue union', real=True, positive=True)\n",
    "\n",
    "    # Define the function using max operation\n",
    "    numerator1 = ypred - ytrue\n",
    "    numerator2 = ytrue - ypred\n",
    "    \n",
    "\n",
    "    pred_class = np.argmax(pred, axis=1)\n",
    "\n",
    "    f = sp.Max(numerator1 / union, numerator2 / union)\n",
    "\n",
    "    # Compute the gradient (partial derivatives w.r.t ypred and ytrue)\n",
    "    grad = [sp.diff(f, var) for var in (ypred, ytrue)]\n",
    "\n",
    "    # Compute the Hessian (second-order derivatives)\n",
    "    hess = [[sp.diff(g, var) for var in (ypred, ytrue)] for g in grad]\n",
    "\n",
    "    # Initialize arrays for gradient and Hessian values\n",
    "    gradient = np.zeros_like(pred)\n",
    "    hessian = np.zeros((pred.shape[0], pred.shape[1], 2, 2))  # For 2 variables (ypred, ytrue)\n",
    "\n",
    "    # Loop over each sample\n",
    "    for i in range(pred.shape[0]):\n",
    "        target = y[i]\n",
    "        prediction = pred_class[i]\n",
    "        union_val = max(prediction, target)  # Calculate union for this sample\n",
    "\n",
    "        # Substitute the values into gradient and Hessian\n",
    "        grad_val = [g.subs({ypred: prediction, ytrue: target, union: union_val}).evalf() for g in grad]\n",
    "        hess_val = [[h.subs({ypred: prediction, ytrue: target, union: union_val}).evalf() for h in h_row] for h_row in hess]\n",
    "        \n",
    "        print(grad_val, hess_val)\n",
    "\n",
    "        # Store the gradient and Hessian for the sample\n",
    "        gradient[i] = [float(g) for g in grad_val]\n",
    "        hessian[i] = [[float(h) for h in h_row] for h_row in hess_val]\n",
    "\n",
    "    # Flatten gradient and Hessian if needed\n",
    "    gradient = gradient.flatten()\n",
    "    hessian = hessian.reshape(pred.shape[0], -1)\n",
    "\n",
    "    return gradient, hessian\n"
   ]
  },
  {
   "cell_type": "code",
   "execution_count": 27,
   "metadata": {},
   "outputs": [
    {
     "name": "stdout",
     "output_type": "stream",
     "text": [
      "(1, 3)\n",
      "[0.500000000000000, -0.500000000000000] [[0, 0], [0, 0]]\n"
     ]
    },
    {
     "ename": "ValueError",
     "evalue": "could not broadcast input array from shape (2,) into shape (3,)",
     "output_type": "error",
     "traceback": [
      "\u001b[0;31m---------------------------------------------------------------------------\u001b[0m",
      "\u001b[0;31mValueError\u001b[0m                                Traceback (most recent call last)",
      "Cell \u001b[0;32mIn[27], line 6\u001b[0m\n\u001b[1;32m      4\u001b[0m \u001b[38;5;28mprint\u001b[39m(pred\u001b[38;5;241m.\u001b[39mshape)\n\u001b[1;32m      5\u001b[0m \u001b[38;5;66;03m# Calcul du gradient et de la hessienne\u001b[39;00m\n\u001b[0;32m----> 6\u001b[0m gradient, hessian \u001b[38;5;241m=\u001b[39m \u001b[43mbad_prediction_loss\u001b[49m\u001b[43m(\u001b[49m\u001b[43my\u001b[49m\u001b[43m,\u001b[49m\u001b[43m \u001b[49m\u001b[43mpred\u001b[49m\u001b[43m)\u001b[49m\n\u001b[1;32m      8\u001b[0m \u001b[38;5;28mprint\u001b[39m(\u001b[38;5;124m\"\u001b[39m\u001b[38;5;124mGradient:\u001b[39m\u001b[38;5;124m\"\u001b[39m, gradient)\n\u001b[1;32m      9\u001b[0m \u001b[38;5;28mprint\u001b[39m(\u001b[38;5;124m\"\u001b[39m\u001b[38;5;124mHessian:\u001b[39m\u001b[38;5;124m\"\u001b[39m, hessian)\n",
      "Cell \u001b[0;32mIn[26], line 47\u001b[0m, in \u001b[0;36mbad_prediction_loss\u001b[0;34m(y, pred)\u001b[0m\n\u001b[1;32m     44\u001b[0m     \u001b[38;5;28mprint\u001b[39m(grad_val, hess_val)\n\u001b[1;32m     46\u001b[0m     \u001b[38;5;66;03m# Store the gradient and Hessian for the sample\u001b[39;00m\n\u001b[0;32m---> 47\u001b[0m     \u001b[43mgradient\u001b[49m\u001b[43m[\u001b[49m\u001b[43mi\u001b[49m\u001b[43m]\u001b[49m \u001b[38;5;241m=\u001b[39m [\u001b[38;5;28mfloat\u001b[39m(g) \u001b[38;5;28;01mfor\u001b[39;00m g \u001b[38;5;129;01min\u001b[39;00m grad_val]\n\u001b[1;32m     48\u001b[0m     hessian[i] \u001b[38;5;241m=\u001b[39m [[\u001b[38;5;28mfloat\u001b[39m(h) \u001b[38;5;28;01mfor\u001b[39;00m h \u001b[38;5;129;01min\u001b[39;00m h_row] \u001b[38;5;28;01mfor\u001b[39;00m h_row \u001b[38;5;129;01min\u001b[39;00m hess_val]\n\u001b[1;32m     50\u001b[0m \u001b[38;5;66;03m# Flatten gradient and Hessian if needed\u001b[39;00m\n",
      "\u001b[0;31mValueError\u001b[0m: could not broadcast input array from shape (2,) into shape (3,)"
     ]
    }
   ],
   "source": [
    "# Exemples de données\n",
    "y = np.array([1])  # Ground truth\n",
    "pred = np.array([[0.3, 0.5, 0.7]])  # Predictions\n",
    "print(pred.shape)\n",
    "# Calcul du gradient et de la hessienne\n",
    "gradient, hessian = bad_prediction_loss(y, pred)\n",
    "\n",
    "print(\"Gradient:\", gradient)\n",
    "print(\"Hessian:\", hessian)\n"
   ]
  },
  {
   "cell_type": "code",
   "execution_count": null,
   "metadata": {},
   "outputs": [],
   "source": [
    "dept = 'departement-69-rhone'\n",
    "scale = 4\n",
    "base = 'risk-size-watershed'\n",
    "path_to_predict = Path('firemen2/firepoint/2x2/train/features_geometry/'+dept)\n",
    "path_to_gt = Path('firemen/firepoint/2x2/train/features_geometry/'+dept)\n",
    "\n",
    "image_one = read_object(f'pred_merge.pkl', path_to_predict)\n",
    "image_two = read_object(f'pred_merge.pkl', path_to_gt)\n",
    "\n",
    "calculate_iou(image_one, image_two)"
   ]
  }
 ],
 "metadata": {
  "kernelspec": {
   "display_name": "Python 3",
   "language": "python",
   "name": "python3"
  },
  "language_info": {
   "codemirror_mode": {
    "name": "ipython",
    "version": 3
   },
   "file_extension": ".py",
   "mimetype": "text/x-python",
   "name": "python",
   "nbconvert_exporter": "python",
   "pygments_lexer": "ipython3",
   "version": "3.9.18"
  }
 },
 "nbformat": 4,
 "nbformat_minor": 2
}
