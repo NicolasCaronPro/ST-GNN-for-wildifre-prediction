{
 "cells": [
  {
   "cell_type": "code",
   "execution_count": 2,
   "metadata": {},
   "outputs": [],
   "source": [
    "from forecasting_models.models import *\n",
    "from forecasting_models.models_2D import *\n",
    "from tools import *\n",
    "\n",
    "dropout = 0.03\n",
    "in_dim = 100\n",
    "in_dim_2D = 52\n",
    "device = torch.device('cpu')\n",
    "k_days = 7\n",
    "act_func = 'relu'"
   ]
  },
  {
   "cell_type": "code",
   "execution_count": 12,
   "metadata": {},
   "outputs": [
    {
     "data": {
      "text/plain": [
       "{'objective': 'reg:squarederror',\n",
       " 'base_score': None,\n",
       " 'booster': None,\n",
       " 'callbacks': None,\n",
       " 'colsample_bylevel': 0.8,\n",
       " 'colsample_bynode': None,\n",
       " 'colsample_bytree': 0.8,\n",
       " 'device': None,\n",
       " 'early_stopping_rounds': 15,\n",
       " 'enable_categorical': False,\n",
       " 'eval_metric': None,\n",
       " 'feature_types': None,\n",
       " 'gamma': None,\n",
       " 'grow_policy': None,\n",
       " 'importance_type': None,\n",
       " 'interaction_constraints': None,\n",
       " 'learning_rate': 0.01,\n",
       " 'max_bin': None,\n",
       " 'max_cat_threshold': None,\n",
       " 'max_cat_to_onehot': None,\n",
       " 'max_delta_step': 1.0,\n",
       " 'max_depth': 10,\n",
       " 'max_leaves': None,\n",
       " 'min_child_weight': 5,\n",
       " 'missing': nan,\n",
       " 'monotone_constraints': None,\n",
       " 'multi_strategy': None,\n",
       " 'n_estimators': 10000,\n",
       " 'n_jobs': None,\n",
       " 'num_parallel_tree': None,\n",
       " 'random_state': 42,\n",
       " 'reg_alpha': 0.9,\n",
       " 'reg_lambda': 5.5,\n",
       " 'sampling_method': None,\n",
       " 'scale_pos_weight': None,\n",
       " 'subsample': 0.5,\n",
       " 'tree_method': 'hist',\n",
       " 'validate_parameters': None,\n",
       " 'verbosity': 0}"
      ]
     },
     "execution_count": 12,
     "metadata": {},
     "output_type": "execute_result"
    }
   ],
   "source": [
    "path = Path('final/firepoint/2x2/train/check_z-score/full_0_10_100/baseline/xgboost_grid_search/')\n",
    "\n",
    "model = read_object('xgboost_grid_search.pkl', path)\n",
    "model.get_params()['model'].get_params()"
   ]
  },
  {
   "cell_type": "code",
   "execution_count": 2,
   "metadata": {},
   "outputs": [
    {
     "name": "stderr",
     "output_type": "stream",
     "text": [
      "/home/caron/Bureau/.conda/lib/python3.9/site-packages/torch/cuda/__init__.py:141: UserWarning: CUDA initialization: CUDA unknown error - this may be due to an incorrectly set up environment, e.g. changing env variable CUDA_VISIBLE_DEVICES after program start. Setting the available devices to be zero. (Triggered internally at ../c10/cuda/CUDAFunctions.cpp:108.)\n",
      "  return torch._C._cuda_getDeviceCount() > 0\n"
     ]
    }
   ],
   "source": [
    "dico_model = {'GAT': GAT(in_dim=[in_dim, 64, 64, 64],\n",
    "                heads=[4, 4, 2],\n",
    "                dropout=dropout,\n",
    "                bias=True,\n",
    "                device=device,\n",
    "                act_func=act_func,\n",
    "                n_sequences=k_days),\n",
    "\n",
    "            'ST-GATTCN': STGATCN(n_sequences=k_days,\n",
    "                                num_of_layers=3,\n",
    "                                in_channels=in_dim,\n",
    "                                    end_channels=64,\n",
    "                                    skip_channels=32,\n",
    "                                    residual_channels=32,\n",
    "                                    dilation_channels=32,\n",
    "                                    dropout=dropout,\n",
    "                                    heads=6, act_func=act_func,\n",
    "                                    device=device),\n",
    "                                \n",
    "            'ST-GATCONV': STGATCONV(k_days,\n",
    "                                    num_of_layers=3,\n",
    "                                    in_channels=in_dim,\n",
    "                                    hidden_channels=32,\n",
    "                                    residual_channels=64,\n",
    "                                    end_channels=32,\n",
    "                                    dropout=dropout,\n",
    "                                    heads=6,\n",
    "                                    act_func=act_func,\n",
    "                                    device=device),\n",
    "\n",
    "            'ST-GCNCONV' : STGCNCONV(k_days,\n",
    "                                    num_of_layers=3,\n",
    "                                    in_channels=in_dim,\n",
    "                                    hidden_channels=64,\n",
    "                                    residual_channels=64,\n",
    "                                    end_channels=32,\n",
    "                                    dropout=dropout,\n",
    "                                    act_func=act_func,\n",
    "                                    device=device),\n",
    "\n",
    "            'ATGN' : TemporalGNN(in_channels=in_dim,\n",
    "                                hidden_channels=64,\n",
    "                                out_channels=64,\n",
    "                                n_sequences=k_days,\n",
    "                                device=device,\n",
    "                                act_func=act_func,\n",
    "                                dropout=dropout),\n",
    "\n",
    "            'ST-GATLTSM' : ST_GATLSTM(in_channels=in_dim,\n",
    "                                    hidden_channels=[64, 64, 64],\n",
    "                                        out_channels=64,\n",
    "                                        end_channels=32,\n",
    "                                        n_sequences=k_days,\n",
    "                                        device=device, act_func=act_func, heads=6, dropout=dropout),\n",
    "\n",
    "            'Zhang' : Zhang(in_channels=in_dim_2D,\n",
    "                        hidden_channels=64,\n",
    "                            end_channels=128,\n",
    "                            dropout=dropout,\n",
    "                            binary=False,\n",
    "                            device=device,\n",
    "                            n_sequences=k_days),\n",
    "\n",
    "            'ConvLSTM' : CONVLSTM(in_channels=in_dim_2D,\n",
    "                                hidden_dim=[32, 32, 32],\n",
    "                                    end_channels=64,\n",
    "                                    n_sequences=k_days,\n",
    "                                    dropout=dropout,\n",
    "                                    device=device, act_func=act_func)\n",
    "            }"
   ]
  },
  {
   "cell_type": "code",
   "execution_count": 4,
   "metadata": {},
   "outputs": [
    {
     "data": {
      "text/plain": [
       "GAT(\n",
       "  (dropout): Dropout(p=0.03, inplace=False)\n",
       "  (net): Sequential(\n",
       "    (0) - GATConv(100, 64, heads=4): x, edge_index -> x\n",
       "    (1) - ReLU(): x -> x\n",
       "    (2) - GATConv(256, 64, heads=4): x, edge_index -> x\n",
       "    (3) - ReLU(): x -> x\n",
       "    (4) - GATConv(256, 64, heads=2): x, edge_index -> x\n",
       "  )\n",
       "  (output): OutputLayer(\n",
       "    (fc): Linear(64, 64, bias=True)\n",
       "    (activation): ReLU()\n",
       "    (fc2): Linear(64, 1, bias=True)\n",
       "    (output): ReLU()\n",
       "  )\n",
       ")"
      ]
     },
     "metadata": {},
     "output_type": "display_data"
    }
   ],
   "source": [
    "name = 'GAT'\n",
    "display(dico_model[name])"
   ]
  }
 ],
 "metadata": {
  "kernelspec": {
   "display_name": "Python 3",
   "language": "python",
   "name": "python3"
  },
  "language_info": {
   "codemirror_mode": {
    "name": "ipython",
    "version": 3
   },
   "file_extension": ".py",
   "mimetype": "text/x-python",
   "name": "python",
   "nbconvert_exporter": "python",
   "pygments_lexer": "ipython3",
   "version": "3.9.18"
  }
 },
 "nbformat": 4,
 "nbformat_minor": 2
}
