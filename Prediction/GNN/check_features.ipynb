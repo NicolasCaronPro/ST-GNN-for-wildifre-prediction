{
 "cells": [
  {
   "cell_type": "code",
   "execution_count": 4,
   "metadata": {},
   "outputs": [],
   "source": [
    "from tools import *\n",
    "from config import *"
   ]
  },
  {
   "cell_type": "code",
   "execution_count": 5,
   "metadata": {},
   "outputs": [
    {
     "name": "stdout",
     "output_type": "stream",
     "text": [
      "2024-08-01 11:29:16,959 [INFO ]  (352, 'dayofyear')\n",
      "2024-08-01 11:29:16,967 [INFO ]  (60, 'nesterov_sum')\n",
      "2024-08-01 11:29:16,968 [INFO ]  (90, 'fwi_sum')\n",
      "2024-08-01 11:29:16,970 [INFO ]  (93, 'dailySeverityRating_max')\n",
      "2024-08-01 11:29:16,976 [INFO ]  (91, 'dailySeverityRating_mean')\n",
      "2024-08-01 11:29:16,978 [INFO ]  (370, 'pastinfluence_sum')\n",
      "2024-08-01 11:29:16,979 [INFO ]  (406, 'calendar_min_mean_1')\n",
      "2024-08-01 11:29:16,981 [INFO ]  (387, 'fwi_mean_1')\n",
      "2024-08-01 11:29:16,982 [INFO ]  (368, 'pastinfluence_max')\n",
      "2024-08-01 11:29:16,983 [INFO ]  (55, 'dmc_sum')\n",
      "2024-08-01 11:29:16,985 [INFO ]  (50, 'ffmc_sum')\n",
      "2024-08-01 11:29:16,986 [INFO ]  (86, 'fwi_mean')\n",
      "2024-08-01 11:29:16,987 [INFO ]  (431, 'dayofyear_min_1')\n",
      "2024-08-01 11:29:16,988 [INFO ]  (45, 'dc_sum')\n",
      "2024-08-01 11:29:16,989 [INFO ]  (48, 'ffmc_max')\n",
      "2024-08-01 11:29:16,993 [INFO ]  (56, 'nesterov_mean')\n",
      "2024-08-01 11:29:16,995 [INFO ]  (384, 'isi_mean_1')\n",
      "2024-08-01 11:29:16,997 [INFO ]  (1458, 'dc_mean_6')\n",
      "2024-08-01 11:29:17,001 [INFO ]  (41, 'dc_mean')\n",
      "2024-08-01 11:29:17,004 [INFO ]  (467, 'dayofyear_max_1')\n",
      "2024-08-01 11:29:17,006 [INFO ]  (395, 'dayofyear_mean_1')\n",
      "2024-08-01 11:29:17,007 [INFO ]  (97, 'temp16_min')\n",
      "2024-08-01 11:29:17,009 [INFO ]  (1095, 'rhum_mean_4')\n",
      "2024-08-01 11:29:17,010 [INFO ]  (1511, 'dayofyear_min_6')\n",
      "2024-08-01 11:29:17,012 [INFO ]  (369, 'pastinfluence_std')\n",
      "2024-08-01 11:29:17,013 [INFO ]  (555, 'rhum_mean_1')\n",
      "2024-08-01 11:29:17,015 [INFO ]  (67, 'kbdi_min')\n",
      "2024-08-01 11:29:17,019 [INFO ]  (1619, 'dayofyear_sum_6')\n",
      "2024-08-01 11:29:17,022 [INFO ]  (329, 'shrub_std')\n",
      "2024-08-01 11:29:17,026 [INFO ]  (563, 'kbdi_mean_1')\n",
      "2024-08-01 11:29:17,030 [INFO ]  (316, 'grass_mean')\n",
      "2024-08-01 11:29:17,034 [INFO ]  (568, 'dailySeverityRating_mean_1')\n",
      "2024-08-01 11:29:17,039 [INFO ]  (1223, 'dayofyear_std_4')\n",
      "2024-08-01 11:29:17,041 [INFO ]  (675, 'fwi_std_1')\n",
      "2024-08-01 11:29:17,043 [INFO ]  (954, 'dc_min_3')\n",
      "2024-08-01 11:29:17,048 [INFO ]  (1383, 'rhum_std_5')\n",
      "2024-08-01 11:29:17,050 [INFO ]  (707, 'kbdi_sum_1')\n",
      "2024-08-01 11:29:17,051 [INFO ]  (334, 'flooded_std')\n",
      "2024-08-01 11:29:17,052 [INFO ]  (1379, 'calendar_max_max_5')\n",
      "2024-08-01 11:29:17,053 [INFO ]  (1330, 'month_min_5')\n",
      "2024-08-01 11:29:17,055 [INFO ]  (702, 'dc_sum_1')\n"
     ]
    }
   ],
   "source": [
    "kdays = 7\n",
    "scale = 60\n",
    "\n",
    "exp = f'final/firepoint/2x2/train/default/check_z-score/full_{kdays}_{scale}_700/baseline/'\n",
    "features = read_object('relevant_features_risk.pkl', path=Path(exp))\n",
    "features_name, _ = get_features_name_list(scale, train_features)\n",
    "if kdays > 0:\n",
    "    for k in range(1, kdays + 1):\n",
    "            new_fet = [v+'_'+str(k) for v in varying_time_variables]\n",
    "            train_features += [nf for nf in new_fet if nf.split('_')[0] in train_features]\n",
    "            features_name, newShape = get_features_name_list(scale, train_features)\n",
    "log_features(features, features_name)"
   ]
  },
  {
   "cell_type": "code",
   "execution_count": 3,
   "metadata": {},
   "outputs": [
    {
     "data": {
      "text/plain": [
       "{'temp': 6,\n",
       " 'dwpt': 10,\n",
       " 'rhum': 14,\n",
       " 'prcp': 18,\n",
       " 'wdir': 22,\n",
       " 'wspd': 26,\n",
       " 'prec24h': 30,\n",
       " 'dc': 34,\n",
       " 'ffmc': 38,\n",
       " 'dmc': 42,\n",
       " 'nesterov': 46,\n",
       " 'munger': 50,\n",
       " 'kbdi': 54,\n",
       " 'isi': 58,\n",
       " 'angstroem': 62,\n",
       " 'bui': 66,\n",
       " 'fwi': 70,\n",
       " 'dailySeverityRating': 74,\n",
       " 'temp16': 78,\n",
       " 'dwpt16': 82,\n",
       " 'rhum16': 86,\n",
       " 'prcp16': 90,\n",
       " 'wdir16': 94,\n",
       " 'wspd16': 98,\n",
       " 'prec24h16': 102,\n",
       " 'days_since_rain': 106,\n",
       " 'sum_consecutive_rainfall': 110,\n",
       " 'sum_last_7_days': 114,\n",
       " 'elevation': 118,\n",
       " 'population': 122,\n",
       " 'sentinel': 126,\n",
       " 'landcover': 146,\n",
       " 'foret': 154,\n",
       " 'highway': 230,\n",
       " 'dynamicWorld': 254,\n",
       " 'Calendar': 290,\n",
       " 'Historical': 305,\n",
       " 'Geo': 309,\n",
       " 'AutoRegressionBin': 310}"
      ]
     },
     "execution_count": 3,
     "metadata": {},
     "output_type": "execute_result"
    }
   ],
   "source": [
    "features_name"
   ]
  },
  {
   "cell_type": "code",
   "execution_count": 4,
   "metadata": {},
   "outputs": [
    {
     "data": {
      "text/plain": [
       "262"
      ]
     },
     "execution_count": 4,
     "metadata": {},
     "output_type": "execute_result"
    }
   ],
   "source": [
    "features_name['dynamicWorld'] + (dynamic_world_variables.index('grass') * 4)"
   ]
  }
 ],
 "metadata": {
  "kernelspec": {
   "display_name": "Python 3",
   "language": "python",
   "name": "python3"
  },
  "language_info": {
   "codemirror_mode": {
    "name": "ipython",
    "version": 3
   },
   "file_extension": ".py",
   "mimetype": "text/x-python",
   "name": "python",
   "nbconvert_exporter": "python",
   "pygments_lexer": "ipython3",
   "version": "3.9.18"
  }
 },
 "nbformat": 4,
 "nbformat_minor": 2
}
