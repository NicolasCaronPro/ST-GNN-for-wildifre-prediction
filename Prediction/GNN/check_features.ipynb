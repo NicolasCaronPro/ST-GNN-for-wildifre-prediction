{
 "cells": [
  {
   "cell_type": "code",
   "execution_count": 1,
   "metadata": {},
   "outputs": [
    {
     "name": "stderr",
     "output_type": "stream",
     "text": [
      "/home/caron/Bureau/.conda/lib/python3.9/site-packages/tqdm/auto.py:21: TqdmWarning: IProgress not found. Please update jupyter and ipywidgets. See https://ipywidgets.readthedocs.io/en/stable/user_install.html\n",
      "  from .autonotebook import tqdm as notebook_tqdm\n"
     ]
    }
   ],
   "source": [
    "from tools import *\n",
    "from config import *"
   ]
  },
  {
   "cell_type": "code",
   "execution_count": 2,
   "metadata": {},
   "outputs": [
    {
     "name": "stdout",
     "output_type": "stream",
     "text": [
      "2024-08-13 14:37:26,518 [INFO ]  inference/firepoint/2x2/train/default/check_z-score/full_7_30_700/baseline/relevant_features_risk.pkl not found\n"
     ]
    },
    {
     "ename": "TypeError",
     "evalue": "get_features_name_list() missing 1 required positional argument: 'methods'",
     "output_type": "error",
     "traceback": [
      "\u001b[0;31m---------------------------------------------------------------------------\u001b[0m",
      "\u001b[0;31mTypeError\u001b[0m                                 Traceback (most recent call last)",
      "Cell \u001b[0;32mIn[2], line 6\u001b[0m\n\u001b[1;32m      4\u001b[0m exp \u001b[38;5;241m=\u001b[39m \u001b[38;5;124mf\u001b[39m\u001b[38;5;124m'\u001b[39m\u001b[38;5;124minference/firepoint/2x2/train/default/check_z-score/full_\u001b[39m\u001b[38;5;132;01m{\u001b[39;00mk_days\u001b[38;5;132;01m}\u001b[39;00m\u001b[38;5;124m_\u001b[39m\u001b[38;5;132;01m{\u001b[39;00mscale\u001b[38;5;132;01m}\u001b[39;00m\u001b[38;5;124m_700/baseline/\u001b[39m\u001b[38;5;124m'\u001b[39m\n\u001b[1;32m      5\u001b[0m features \u001b[38;5;241m=\u001b[39m read_object(\u001b[38;5;124m'\u001b[39m\u001b[38;5;124mrelevant_features_risk.pkl\u001b[39m\u001b[38;5;124m'\u001b[39m, path\u001b[38;5;241m=\u001b[39mPath(exp))\n\u001b[0;32m----> 6\u001b[0m features_name, _ \u001b[38;5;241m=\u001b[39m \u001b[43mget_features_name_list\u001b[49m\u001b[43m(\u001b[49m\u001b[43mscale\u001b[49m\u001b[43m,\u001b[49m\u001b[43m \u001b[49m\u001b[43mtrain_features\u001b[49m\u001b[43m)\u001b[49m\n\u001b[1;32m      7\u001b[0m \u001b[38;5;28;01mif\u001b[39;00m k_days \u001b[38;5;241m>\u001b[39m \u001b[38;5;241m0\u001b[39m:\n\u001b[1;32m      8\u001b[0m     \u001b[38;5;28;01mfor\u001b[39;00m k \u001b[38;5;129;01min\u001b[39;00m \u001b[38;5;28mrange\u001b[39m(\u001b[38;5;241m1\u001b[39m, k_days \u001b[38;5;241m+\u001b[39m \u001b[38;5;241m1\u001b[39m):\n",
      "\u001b[0;31mTypeError\u001b[0m: get_features_name_list() missing 1 required positional argument: 'methods'"
     ]
    }
   ],
   "source": [
    "k_days = 7\n",
    "scale = 30\n",
    "\n",
    "exp = f'inference/firepoint/2x2/train/default/check_z-score/full_{k_days}_{scale}_700/baseline/'\n",
    "features = read_object('relevant_features_risk.pkl', path=Path(exp))\n",
    "features_name, _ = get_features_name_list(scale, train_features)\n",
    "if k_days > 0:\n",
    "    for k in range(1, k_days + 1):\n",
    "            new_fet = [v+'_'+str(k) for v in varying_time_variables]\n",
    "            train_features += [nf for nf in new_fet if nf.split('_')[0] in train_features]\n",
    "            features_name, newShape = get_features_name_list(scale, train_features)\n",
    "log_features(features, features_name)"
   ]
  },
  {
   "cell_type": "code",
   "execution_count": 3,
   "metadata": {},
   "outputs": [
    {
     "name": "stdout",
     "output_type": "stream",
     "text": [
      "2018-04-08\n"
     ]
    },
    {
     "data": {
      "text/plain": [
       "(100, 45, 51)"
      ]
     },
     "execution_count": 3,
     "metadata": {},
     "output_type": "execute_result"
    }
   ],
   "source": [
    "exp = f'final/firepoint/2x2/train/2D_database'\n",
    "departement = 'departement-01-ain'\n",
    "date = 300\n",
    "features_name, _ = get_features_name_lists_2D(6, features)\n",
    "print(allDates[date])\n",
    "sample = read_object(f'X_{date}.pkl', path=Path(exp) / departement)\n",
    "sample.shape"
   ]
  },
  {
   "cell_type": "code",
   "execution_count": 13,
   "metadata": {},
   "outputs": [
    {
     "data": {
      "text/plain": [
       "['temp',\n",
       " 'dwpt',\n",
       " 'rhum',\n",
       " 'prcp',\n",
       " 'wdir',\n",
       " 'wspd',\n",
       " 'prec24h',\n",
       " 'dc',\n",
       " 'ffmc',\n",
       " 'dmc',\n",
       " 'nesterov',\n",
       " 'munger',\n",
       " 'kbdi',\n",
       " 'isi',\n",
       " 'angstroem',\n",
       " 'bui',\n",
       " 'fwi',\n",
       " 'dailySeverityRating',\n",
       " 'temp16',\n",
       " 'dwpt16',\n",
       " 'rhum16',\n",
       " 'prcp16',\n",
       " 'wdir16',\n",
       " 'wspd16',\n",
       " 'prec24h16',\n",
       " 'days_since_rain',\n",
       " 'sum_consecutive_rainfall',\n",
       " 'sum_rain_last_7_days',\n",
       " 'sum_snow_last_7_days',\n",
       " 'snow24h',\n",
       " 'snow24h16',\n",
       " 'elevation',\n",
       " 'population',\n",
       " 'NDVI',\n",
       " 'NDMI',\n",
       " 'NDBI',\n",
       " 'NDSI',\n",
       " 'NDWI',\n",
       " 'highway_encoder',\n",
       " 'foret_encoder',\n",
       " '12',\n",
       " 'PasDeforet',\n",
       " 'Châtaignier',\n",
       " 'Chênes décidus',\n",
       " 'Conifères',\n",
       " 'Douglas',\n",
       " 'Feuillus',\n",
       " 'Hêtre',\n",
       " 'Mixte',\n",
       " 'Mélèze',\n",
       " 'NC',\n",
       " 'NR',\n",
       " 'Peuplier',\n",
       " 'Pin autre',\n",
       " 'Pin laricio, pin noir',\n",
       " 'Pin maritime',\n",
       " 'Pin sylvestre',\n",
       " 'Pins mélangés',\n",
       " 'Robinier',\n",
       " 'Sapin, épicéa',\n",
       " 'PasDeRoute',\n",
       " 'motorway',\n",
       " 'primary',\n",
       " 'secondary',\n",
       " 'tertiary',\n",
       " 'path',\n",
       " 'water',\n",
       " 'tree',\n",
       " 'grass',\n",
       " 'crops',\n",
       " 'shrub',\n",
       " 'flooded',\n",
       " 'built',\n",
       " 'bare',\n",
       " 'snow',\n",
       " 'month',\n",
       " 'dayofyear',\n",
       " 'dayofweek',\n",
       " 'isweekend',\n",
       " 'couvrefeux',\n",
       " 'confinemenent',\n",
       " 'ramadan',\n",
       " 'bankHolidays',\n",
       " 'bankHolidaysEve',\n",
       " 'holidays',\n",
       " 'holidaysBorder',\n",
       " 'calendar_mean',\n",
       " 'calendar_min',\n",
       " 'calendar_max',\n",
       " 'calendar_sum',\n",
       " 'pastinfluence',\n",
       " 'departement_encoder',\n",
       " 'O3',\n",
       " 'NO2',\n",
       " 'PM10',\n",
       " 'PM25',\n",
       " 'niveau_nappe_eau',\n",
       " 'profondeur_nappe',\n",
       " 'J-1',\n",
       " 'J-1']"
      ]
     },
     "execution_count": 13,
     "metadata": {},
     "output_type": "execute_result"
    }
   ],
   "source": [
    "features_name"
   ]
  },
  {
   "cell_type": "code",
   "execution_count": 17,
   "metadata": {},
   "outputs": [
    {
     "data": {
      "text/plain": [
       "<matplotlib.image.AxesImage at 0x7e8918fafaf0>"
      ]
     },
     "execution_count": 17,
     "metadata": {},
     "output_type": "execute_result"
    },
    {
     "data": {
      "image/png": "[encoded data removed]",
      "text/plain": [
       "<Figure size 640x480 with 1 Axes>"
      ]
     },
     "metadata": {},
     "output_type": "display_data"
    }
   ],
   "source": [
    "plt.imshow(sample[features_name.index('water')])"
   ]
  },
  {
   "cell_type": "code",
   "execution_count": 23,
   "metadata": {},
   "outputs": [
    {
     "name": "stdout",
     "output_type": "stream",
     "text": [
      "2018-06-21\n"
     ]
    },
    {
     "data": {
      "text/plain": [
       "<matplotlib.image.AxesImage at 0x7e890dbbb0a0>"
      ]
     },
     "execution_count": 23,
     "metadata": {},
     "output_type": "execute_result"
    },
    {
     "data": {
      "image/png": "[encoded data removed]",
      "text/plain": [
       "<Figure size 640x480 with 1 Axes>"
      ]
     },
     "metadata": {},
     "output_type": "display_data"
    }
   ],
   "source": [
    "exp = f'final/firepoint/2x2/train/2D_database/'\n",
    "departement = 'departement-01-ain'\n",
    "scale = 10\n",
    "date = 374\n",
    "features_name, _ = get_features_name_lists_2D(6, features)\n",
    "print(allDates[date])\n",
    "sample = read_object(f'Y_{date}.pkl', path=Path(exp) / departement/ str(scale) / 'influence')\n",
    "plt.imshow(sample)"
   ]
  }
 ],
 "metadata": {
  "kernelspec": {
   "display_name": "Python 3",
   "language": "python",
   "name": "python3"
  },
  "language_info": {
   "codemirror_mode": {
    "name": "ipython",
    "version": 3
   },
   "file_extension": ".py",
   "mimetype": "text/x-python",
   "name": "python",
   "nbconvert_exporter": "python",
   "pygments_lexer": "ipython3",
   "version": "3.9.18"
  }
 },
 "nbformat": 4,
 "nbformat_minor": 2
}
