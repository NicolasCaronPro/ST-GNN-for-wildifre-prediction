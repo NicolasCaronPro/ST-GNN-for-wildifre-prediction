{
 "cells": [
  {
   "cell_type": "code",
   "execution_count": 1,
   "metadata": {},
   "outputs": [
    {
     "name": "stderr",
     "output_type": "stream",
     "text": [
      "/home/caron/Bureau/.conda/lib/python3.9/site-packages/tqdm/auto.py:21: TqdmWarning: IProgress not found. Please update jupyter and ipywidgets. See https://ipywidgets.readthedocs.io/en/stable/user_install.html\n",
      "  from .autonotebook import tqdm as notebook_tqdm\n"
     ]
    }
   ],
   "source": [
    "from tools import *\n",
    "from config import *"
   ]
  },
  {
   "cell_type": "code",
   "execution_count": 2,
   "metadata": {},
   "outputs": [
    {
     "name": "stdout",
     "output_type": "stream",
     "text": [
      "2024-07-15 01:13:44,503 [INFO ]  ('dmc', -1, 'max')\n",
      "2024-07-15 01:13:44,507 [INFO ]  ('Historical', -1, 'mean')\n",
      "2024-07-15 01:13:44,513 [INFO ]  Calendar, -1, dayofyear\n",
      "2024-07-15 01:13:44,517 [INFO ]  Calendar, -1, sum\n",
      "2024-07-15 01:13:44,523 [INFO ]  ('Historical', -1, 'std')\n",
      "2024-07-15 01:13:44,524 [INFO ]  ('Historical', -1, 'max')\n",
      "2024-07-15 01:13:44,529 [INFO ]  ('rhum16', -1, 'max')\n",
      "2024-07-15 01:13:44,532 [INFO ]  ('population', -1, 'mean')\n",
      "2024-07-15 01:13:44,533 [INFO ]  ('kbdi', -1, 'max')\n",
      "2024-07-15 01:13:44,535 [INFO ]  ('angstroem', -1, 'mean')\n",
      "2024-07-15 01:13:44,536 [INFO ]  ('dc', -1, 'min')\n",
      "2024-07-15 01:13:44,537 [INFO ]  ('rhum16', -1, 'mean')\n",
      "2024-07-15 01:13:44,554 [INFO ]  ('bare', -1, 'max')\n",
      "2024-07-15 01:13:44,556 [INFO ]  ('crops', -1, 'max')\n",
      "2024-07-15 01:13:44,557 [INFO ]  ('grass', -1, 'mean')\n",
      "2024-07-15 01:13:44,558 [INFO ]  ('dc', -1, 'std')\n",
      "2024-07-15 01:13:44,565 [INFO ]  ('AutoRegressionBin', -1, 'B-1')\n",
      "2024-07-15 01:13:44,566 [INFO ]  Calendar, -1, month\n",
      "2024-07-15 01:13:44,567 [INFO ]  ('ffmc', -1, 'std')\n"
     ]
    },
    {
     "data": {
      "text/plain": [
       "(None,\n",
       " [44,\n",
       "  305,\n",
       "  291,\n",
       "  304,\n",
       "  308,\n",
       "  307,\n",
       "  88,\n",
       "  122,\n",
       "  56,\n",
       "  62,\n",
       "  35,\n",
       "  86,\n",
       "  284,\n",
       "  268,\n",
       "  262,\n",
       "  37,\n",
       "  310,\n",
       "  290,\n",
       "  41])"
      ]
     },
     "execution_count": 2,
     "metadata": {},
     "output_type": "execute_result"
    }
   ],
   "source": [
    "exp = 'final/firepoint/2x2/train/check_none/full_0_10_100/baseline'\n",
    "features = read_object('relevent_features.pkl', path=Path(exp))\n",
    "features_name, _ = get_features_name_list(10, 6, trainFeatures)\n",
    "log_features(features_name)(), features"
   ]
  },
  {
   "cell_type": "code",
   "execution_count": 3,
   "metadata": {},
   "outputs": [
    {
     "data": {
      "text/plain": [
       "{'temp': 6,\n",
       " 'dwpt': 10,\n",
       " 'rhum': 14,\n",
       " 'prcp': 18,\n",
       " 'wdir': 22,\n",
       " 'wspd': 26,\n",
       " 'prec24h': 30,\n",
       " 'dc': 34,\n",
       " 'ffmc': 38,\n",
       " 'dmc': 42,\n",
       " 'nesterov': 46,\n",
       " 'munger': 50,\n",
       " 'kbdi': 54,\n",
       " 'isi': 58,\n",
       " 'angstroem': 62,\n",
       " 'bui': 66,\n",
       " 'fwi': 70,\n",
       " 'dailySeverityRating': 74,\n",
       " 'temp16': 78,\n",
       " 'dwpt16': 82,\n",
       " 'rhum16': 86,\n",
       " 'prcp16': 90,\n",
       " 'wdir16': 94,\n",
       " 'wspd16': 98,\n",
       " 'prec24h16': 102,\n",
       " 'days_since_rain': 106,\n",
       " 'sum_consecutive_rainfall': 110,\n",
       " 'sum_last_7_days': 114,\n",
       " 'elevation': 118,\n",
       " 'population': 122,\n",
       " 'sentinel': 126,\n",
       " 'landcover': 146,\n",
       " 'foret': 154,\n",
       " 'highway': 230,\n",
       " 'dynamicWorld': 254,\n",
       " 'Calendar': 290,\n",
       " 'Historical': 305,\n",
       " 'Geo': 309,\n",
       " 'AutoRegressionBin': 310}"
      ]
     },
     "execution_count": 3,
     "metadata": {},
     "output_type": "execute_result"
    }
   ],
   "source": [
    "features_name"
   ]
  },
  {
   "cell_type": "code",
   "execution_count": 4,
   "metadata": {},
   "outputs": [
    {
     "data": {
      "text/plain": [
       "262"
      ]
     },
     "execution_count": 4,
     "metadata": {},
     "output_type": "execute_result"
    }
   ],
   "source": [
    "features_name['dynamicWorld'] + (dynamic_world_variables.index('grass') * 4)"
   ]
  }
 ],
 "metadata": {
  "kernelspec": {
   "display_name": "Python 3",
   "language": "python",
   "name": "python3"
  },
  "language_info": {
   "codemirror_mode": {
    "name": "ipython",
    "version": 3
   },
   "file_extension": ".py",
   "mimetype": "text/x-python",
   "name": "python",
   "nbconvert_exporter": "python",
   "pygments_lexer": "ipython3",
   "version": "3.9.18"
  }
 },
 "nbformat": 4,
 "nbformat_minor": 2
}
