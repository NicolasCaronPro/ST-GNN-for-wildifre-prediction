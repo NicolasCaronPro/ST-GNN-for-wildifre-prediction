{
 "cells": [
  {
   "cell_type": "code",
   "execution_count": 25,
   "metadata": {},
   "outputs": [],
   "source": [
    "from tools import *\n",
    "\n",
    "encoder = read_object('encoder_calendar.pkl', Path('inference') / 'firepoint' / '2x2' / 'train' / 'Encoder')"
   ]
  },
  {
   "cell_type": "code",
   "execution_count": 3,
   "metadata": {},
   "outputs": [
    {
     "name": "stdout",
     "output_type": "stream",
     "text": [
      "Aggregated Predictions: [0 1 1 0]\n",
      "Aggregated Probabilities: [[0.68888889 0.31111111]\n",
      " [0.41111111 0.58888889]\n",
      " [0.27777778 0.72222222]\n",
      " [0.82222222 0.17777778]]\n"
     ]
    }
   ],
   "source": [
    "import numpy as np\n",
    "from scipy import stats\n",
    "\n",
    "class ModelAggregator:\n",
    "    def __init__(self, task_type, weights_for_model):\n",
    "        \"\"\"\n",
    "        Initialize the ModelAggregator.\n",
    "\n",
    "        Parameters:\n",
    "        - task_type: 'classification' or 'regression'.\n",
    "        - weights_for_model: List of weights corresponding to each model.\n",
    "        \"\"\"\n",
    "        self.task_type = task_type\n",
    "        self.weights_for_model = np.array(weights_for_model)\n",
    "\n",
    "    def aggregate_predictions(self, predictions_list):\n",
    "        \"\"\"\n",
    "        Aggregate predictions from multiple models with weights.\n",
    "\n",
    "        Parameters:\n",
    "        - predictions_list: List of predictions from each model.\n",
    "\n",
    "        Returns:\n",
    "        - Aggregated predictions.\n",
    "        \"\"\"\n",
    "        predictions_array = np.array(predictions_list)\n",
    "        \n",
    "        if self.task_type == 'classification':\n",
    "            # Weighted vote for classification\n",
    "            unique_classes = np.unique(predictions_array)\n",
    "            weighted_votes = np.zeros((len(unique_classes), predictions_array.shape[1]))\n",
    "\n",
    "            for i, cls in enumerate(unique_classes):\n",
    "                mask = (predictions_array == cls)\n",
    "                weighted_votes[i] = np.sum(mask * self.weights_for_model[:, None], axis=0)\n",
    "\n",
    "            aggregated_pred = unique_classes[np.argmax(weighted_votes, axis=0)]\n",
    "        else:\n",
    "            # Weighted average for regression\n",
    "            weighted_sum = np.sum(predictions_array * self.weights_for_model[:, None], axis=0)\n",
    "            aggregated_pred = weighted_sum / np.sum(self.weights_for_model)\n",
    "        \n",
    "        return aggregated_pred\n",
    "\n",
    "    def aggregate_probabilities(self, probas_list):\n",
    "        \"\"\"\n",
    "        Aggregate probabilities from multiple models with weights.\n",
    "\n",
    "        Parameters:\n",
    "        - probas_list: List of probability predictions from each model.\n",
    "\n",
    "        Returns:\n",
    "        - Aggregated probabilities.\n",
    "        \"\"\"\n",
    "        probas_array = np.array(probas_list)\n",
    "        \n",
    "        # Weighted average for probabilities\n",
    "        weighted_sum = np.sum(probas_array * self.weights_for_model[:, None, None], axis=0)\n",
    "        aggregated_proba = weighted_sum / np.sum(self.weights_for_model)\n",
    "        \n",
    "        return aggregated_proba\n",
    "\n",
    "# Example usage\n",
    "if __name__ == \"__main__\":\n",
    "    # Define task type and weights for models\n",
    "    task_type = 'classification'\n",
    "    weights = [0.4, 0.3, 0.2]\n",
    "\n",
    "    # Instantiate the aggregator\n",
    "    aggregator = ModelAggregator(task_type, weights)\n",
    "\n",
    "    # Example predictions from 3 models (for classification)\n",
    "    predictions_list = [\n",
    "        [0, 1, 1, 0],\n",
    "        [1, 1, 1, 0],\n",
    "        [0, 0, 1, 0]\n",
    "    ]\n",
    "\n",
    "    # Aggregate predictions\n",
    "    aggregated_predictions = aggregator.aggregate_predictions(predictions_list)\n",
    "    print(\"Aggregated Predictions:\", aggregated_predictions)\n",
    "\n",
    "    # Example probability predictions from 3 models\n",
    "    probas_list = [\n",
    "        [[0.7, 0.3], [0.4, 0.6], [0.2, 0.8], [0.9, 0.1]],\n",
    "        [[0.6, 0.4], [0.5, 0.5], [0.3, 0.7], [0.8, 0.2]],\n",
    "        [[0.8, 0.2], [0.3, 0.7], [0.4, 0.6], [0.7, 0.3]]\n",
    "    ]\n",
    "\n",
    "    # Aggregate probabilities\n",
    "    aggregated_probabilities = aggregator.aggregate_probabilities(probas_list)\n",
    "    print(\"Aggregated Probabilities:\", aggregated_probabilities)\n"
   ]
  },
  {
   "cell_type": "code",
   "execution_count": 27,
   "metadata": {},
   "outputs": [
    {
     "data": {
      "text/plain": [
       "['month',\n",
       " 'dayofyear',\n",
       " 'dayofweek',\n",
       " 'isweekend',\n",
       " 'couvrefeux',\n",
       " 'confinemenent',\n",
       " 'ramadan',\n",
       " 'bankHolidays',\n",
       " 'bankHolidaysEve',\n",
       " 'holidays',\n",
       " 'holidaysBorder']"
      ]
     },
     "execution_count": 27,
     "metadata": {},
     "output_type": "execute_result"
    }
   ],
   "source": [
    "['month', 'dayofyear', 'dayofweek', 'isweekend', 'couvrefeux', 'confinemenent',\n",
    "'ramadan', 'bankHolidays', 'bankHolidaysEve', 'holidays', 'holidaysBorder',]"
   ]
  },
  {
   "cell_type": "code",
   "execution_count": 3,
   "metadata": {},
   "outputs": [
    {
     "data": {
      "text/plain": [
       "array([4, 1, 2, 3])"
      ]
     },
     "execution_count": 3,
     "metadata": {},
     "output_type": "execute_result"
    }
   ],
   "source": [
    "np.roll([1,2,3,4], shift=-1)"
   ]
  },
  {
   "cell_type": "code",
   "execution_count": 9,
   "metadata": {},
   "outputs": [
    {
     "data": {
      "text/plain": [
       "([(0, 0, 0, 0),\n",
       "  (0, 0, 0, 1),\n",
       "  (0, 0, 1, 0),\n",
       "  (0, 0, 1, 1),\n",
       "  (0, 1, 0, 0),\n",
       "  (0, 1, 0, 1),\n",
       "  (0, 1, 1, 0),\n",
       "  (0, 1, 1, 1),\n",
       "  (1, 0, 0, 0),\n",
       "  (1, 0, 0, 1),\n",
       "  (1, 0, 1, 0),\n",
       "  (1, 0, 1, 1),\n",
       "  (1, 1, 0, 0),\n",
       "  (1, 1, 0, 1),\n",
       "  (1, 1, 1, 0),\n",
       "  (1, 1, 1, 1)],\n",
       " 16)"
      ]
     },
     "execution_count": 9,
     "metadata": {},
     "output_type": "execute_result"
    }
   ],
   "source": [
    "import itertools\n",
    "\n",
    "kernel_size = 6\n",
    "\n",
    "dims = [0,1]\n",
    "\n",
    "number_of_simulation = (kernel_size // 2) + 1\n",
    "combinaisons = list(itertools.product(dims, repeat=number_of_simulation))\n",
    "combinaisons, len(combinaisons)"
   ]
  },
  {
   "cell_type": "code",
   "execution_count": 28,
   "metadata": {},
   "outputs": [
    {
     "data": {
      "text/plain": [
       "array([[[32.07943786, 27.85498421, 10.70715742, 10.84466664,\n",
       "         11.57700851, 11.15330096, 11.20806766, 10.93180603,\n",
       "         10.93180603, 16.14544699, 15.51958359]],\n",
       "\n",
       "       [[32.07943786, 27.85498421, 10.70715742, 10.84466664,\n",
       "         11.57700851, 11.15330096, 11.20806766, 10.93180603,\n",
       "         10.93180603, 16.14544699, 15.51958359]],\n",
       "\n",
       "       [[32.07943786, 27.85498421, 10.70715742, 10.84466664,\n",
       "         11.57700851, 11.15330096, 11.20806766, 10.93180603,\n",
       "         10.93180603, 16.14544699, 15.51958359]],\n",
       "\n",
       "       [[32.07943786, 27.85498421, 10.70715742, 10.84466664,\n",
       "         11.57700851, 11.15330096, 11.20806766, 10.93180603,\n",
       "         10.93180603, 16.14544699, 15.51958359]],\n",
       "\n",
       "       [[32.07943786, 27.85498421, 10.70715742, 10.84466664,\n",
       "         11.57700851, 11.15330096, 11.20806766, 10.93180603,\n",
       "         10.93180603, 16.14544699, 15.51958359]],\n",
       "\n",
       "       [[32.07943786, 27.85498421, 10.70715742, 10.84466664,\n",
       "         11.57700851, 11.15330096, 11.20806766, 10.93180603,\n",
       "         10.93180603, 16.14544699, 15.51958359]],\n",
       "\n",
       "       [[32.07943786, 27.85498421, 10.70715742, 10.84466664,\n",
       "         11.57700851, 11.15330096, 11.20806766, 10.93180603,\n",
       "         10.93180603, 16.14544699, 15.51958359]]])"
      ]
     },
     "execution_count": 28,
     "metadata": {},
     "output_type": "execute_result"
    }
   ],
   "source": [
    "array = np.moveaxis([[[  7, 213,   2,   0,   0,   0,   0,   0,   0,   1,   1 ]],\n",
    " [[  7, 213,   2,   0,   0,   0,   0,   0,   0,   1,   1 ]],\n",
    " [[  7, 213,   2,   0,   0,   0,   0,   0,   0,   1,   1 ]],\n",
    " [[  7, 213,   2,   0,   0,   0,   0,   0,   0,   1,   1 ]],\n",
    " [[  7, 213,   2,   0,   0,   0,   0,   0,   0,   1,   1 ]],\n",
    " [[  7, 213,   2,   0,   0,   0,   0,   0,   0,   1,   1 ]],\n",
    " [[  7, 213,   2,   0,   0,   0,   0,   0,   0,   1,   1 ]]], 1, 2).reshape(-1,11)\n",
    "\n",
    "encoder.transform(array).values.reshape(-1, 1, 11)"
   ]
  }
 ],
 "metadata": {
  "kernelspec": {
   "display_name": "Python 3",
   "language": "python",
   "name": "python3"
  },
  "language_info": {
   "codemirror_mode": {
    "name": "ipython",
    "version": 3
   },
   "file_extension": ".py",
   "mimetype": "text/x-python",
   "name": "python",
   "nbconvert_exporter": "python",
   "pygments_lexer": "ipython3",
   "version": "3.9.18"
  }
 },
 "nbformat": 4,
 "nbformat_minor": 2
}
