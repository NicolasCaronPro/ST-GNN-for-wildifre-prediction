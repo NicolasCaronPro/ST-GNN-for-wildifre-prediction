{
 "cells": [
  {
   "cell_type": "code",
   "execution_count": 25,
   "metadata": {},
   "outputs": [],
   "source": [
    "from tools import *\n",
    "\n",
    "encoder = read_object('encoder_calendar.pkl', Path('inference') / 'firepoint' / '2x2' / 'train' / 'Encoder')"
   ]
  },
  {
   "cell_type": "code",
   "execution_count": 27,
   "metadata": {},
   "outputs": [
    {
     "data": {
      "text/plain": [
       "['month',\n",
       " 'dayofyear',\n",
       " 'dayofweek',\n",
       " 'isweekend',\n",
       " 'couvrefeux',\n",
       " 'confinemenent',\n",
       " 'ramadan',\n",
       " 'bankHolidays',\n",
       " 'bankHolidaysEve',\n",
       " 'holidays',\n",
       " 'holidaysBorder']"
      ]
     },
     "execution_count": 27,
     "metadata": {},
     "output_type": "execute_result"
    }
   ],
   "source": [
    "['month', 'dayofyear', 'dayofweek', 'isweekend', 'couvrefeux', 'confinemenent',\n",
    "'ramadan', 'bankHolidays', 'bankHolidaysEve', 'holidays', 'holidaysBorder',]"
   ]
  },
  {
   "cell_type": "code",
   "execution_count": 28,
   "metadata": {},
   "outputs": [
    {
     "data": {
      "text/plain": [
       "array([[[32.07943786, 27.85498421, 10.70715742, 10.84466664,\n",
       "         11.57700851, 11.15330096, 11.20806766, 10.93180603,\n",
       "         10.93180603, 16.14544699, 15.51958359]],\n",
       "\n",
       "       [[32.07943786, 27.85498421, 10.70715742, 10.84466664,\n",
       "         11.57700851, 11.15330096, 11.20806766, 10.93180603,\n",
       "         10.93180603, 16.14544699, 15.51958359]],\n",
       "\n",
       "       [[32.07943786, 27.85498421, 10.70715742, 10.84466664,\n",
       "         11.57700851, 11.15330096, 11.20806766, 10.93180603,\n",
       "         10.93180603, 16.14544699, 15.51958359]],\n",
       "\n",
       "       [[32.07943786, 27.85498421, 10.70715742, 10.84466664,\n",
       "         11.57700851, 11.15330096, 11.20806766, 10.93180603,\n",
       "         10.93180603, 16.14544699, 15.51958359]],\n",
       "\n",
       "       [[32.07943786, 27.85498421, 10.70715742, 10.84466664,\n",
       "         11.57700851, 11.15330096, 11.20806766, 10.93180603,\n",
       "         10.93180603, 16.14544699, 15.51958359]],\n",
       "\n",
       "       [[32.07943786, 27.85498421, 10.70715742, 10.84466664,\n",
       "         11.57700851, 11.15330096, 11.20806766, 10.93180603,\n",
       "         10.93180603, 16.14544699, 15.51958359]],\n",
       "\n",
       "       [[32.07943786, 27.85498421, 10.70715742, 10.84466664,\n",
       "         11.57700851, 11.15330096, 11.20806766, 10.93180603,\n",
       "         10.93180603, 16.14544699, 15.51958359]]])"
      ]
     },
     "execution_count": 28,
     "metadata": {},
     "output_type": "execute_result"
    }
   ],
   "source": [
    "array = np.moveaxis([[[  7, 213,   2,   0,   0,   0,   0,   0,   0,   1,   1 ]],\n",
    " [[  7, 213,   2,   0,   0,   0,   0,   0,   0,   1,   1 ]],\n",
    " [[  7, 213,   2,   0,   0,   0,   0,   0,   0,   1,   1 ]],\n",
    " [[  7, 213,   2,   0,   0,   0,   0,   0,   0,   1,   1 ]],\n",
    " [[  7, 213,   2,   0,   0,   0,   0,   0,   0,   1,   1 ]],\n",
    " [[  7, 213,   2,   0,   0,   0,   0,   0,   0,   1,   1 ]],\n",
    " [[  7, 213,   2,   0,   0,   0,   0,   0,   0,   1,   1 ]]], 1, 2).reshape(-1,11)\n",
    "\n",
    "encoder.transform(array).values.reshape(-1, 1, 11)"
   ]
  }
 ],
 "metadata": {
  "kernelspec": {
   "display_name": "Python 3",
   "language": "python",
   "name": "python3"
  },
  "language_info": {
   "codemirror_mode": {
    "name": "ipython",
    "version": 3
   },
   "file_extension": ".py",
   "mimetype": "text/x-python",
   "name": "python",
   "nbconvert_exporter": "python",
   "pygments_lexer": "ipython3",
   "version": "3.9.18"
  }
 },
 "nbformat": 4,
 "nbformat_minor": 2
}
