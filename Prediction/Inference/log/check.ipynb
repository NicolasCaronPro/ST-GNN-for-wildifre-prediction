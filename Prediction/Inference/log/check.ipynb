{
 "cells": [
  {
   "cell_type": "code",
   "execution_count": 1,
   "metadata": {},
   "outputs": [
    {
     "name": "stdout",
     "output_type": "stream",
     "text": [
      "(32, 28, 1)\n"
     ]
    },
    {
     "data": {
      "text/plain": [
       "<matplotlib.image.AxesImage at 0x71e59dbec610>"
      ]
     },
     "execution_count": 1,
     "metadata": {},
     "output_type": "execute_result"
    },
    {
     "data": {
      "image/png": "[encoded data removed]",
      "text/plain": [
       "<Figure size 640x480 with 1 Axes>"
      ]
     },
     "metadata": {},
     "output_type": "display_data"
    }
   ],
   "source": [
    "import pickle\n",
    "import matplotlib.pyplot as plt\n",
    "import numpy as np\n",
    "\n",
    "array = pickle.load(open('2x2/departement-78-yvelinespastInfluence.pkl', 'rb'))\n",
    "print(array.shape)\n",
    "plt.imshow(array[:,:,-1], vmin=np.nanmin(array), vmax=np.nanmax(array))"
   ]
  },
  {
   "cell_type": "code",
   "execution_count": 51,
   "metadata": {},
   "outputs": [
    {
     "data": {
      "text/plain": [
       "array([  40.139,   69.378,   66.663,   74.51 , 2751.409, 2899.733,\n",
       "         53.957])"
      ]
     },
     "execution_count": 51,
     "metadata": {},
     "output_type": "execute_result"
    }
   ],
   "source": [
    "import pandas as pd\n",
    "import pickle\n",
    "\n",
    "df_scale = pd.read_csv('2024-07-23_after_scale.csv')\n",
    "df = pd.read_csv('2024-07-23.csv')\n",
    "df_train = pickle.load(open('../../GNN/inference/firepoint/2x2/train/default/df_train_full_7_30_100.pkl', 'rb')).reset_index()\n",
    "df_scale.min().idxmin()\n",
    "df['munger_max'].unique()"
   ]
  },
  {
   "cell_type": "code",
   "execution_count": 52,
   "metadata": {},
   "outputs": [
    {
     "data": {
      "text/plain": [
       "array([10.845, 21.69 , 32.535, 43.38 , 54.531, 65.682, 76.527, 87.372])"
      ]
     },
     "execution_count": 52,
     "metadata": {},
     "output_type": "execute_result"
    }
   ],
   "source": [
    "df['isweekend_sum_7'].unique()"
   ]
  },
  {
   "cell_type": "code",
   "execution_count": 53,
   "metadata": {},
   "outputs": [
    {
     "data": {
      "text/html": [
       "<div>\n",
       "<style scoped>\n",
       "    .dataframe tbody tr th:only-of-type {\n",
       "        vertical-align: middle;\n",
       "    }\n",
       "\n",
       "    .dataframe tbody tr th {\n",
       "        vertical-align: top;\n",
       "    }\n",
       "\n",
       "    .dataframe thead th {\n",
       "        text-align: right;\n",
       "    }\n",
       "</style>\n",
       "<table border=\"1\" class=\"dataframe\">\n",
       "  <thead>\n",
       "    <tr style=\"text-align: right;\">\n",
       "      <th></th>\n",
       "      <th>dayofweek</th>\n",
       "      <th>dayofweek_sum_7</th>\n",
       "    </tr>\n",
       "  </thead>\n",
       "  <tbody>\n",
       "    <tr>\n",
       "      <th>0</th>\n",
       "      <td>10.751</td>\n",
       "      <td>10.751</td>\n",
       "    </tr>\n",
       "    <tr>\n",
       "      <th>7</th>\n",
       "      <td>10.707</td>\n",
       "      <td>21.458</td>\n",
       "    </tr>\n",
       "    <tr>\n",
       "      <th>14</th>\n",
       "      <td>10.827</td>\n",
       "      <td>32.285</td>\n",
       "    </tr>\n",
       "    <tr>\n",
       "      <th>21</th>\n",
       "      <td>11.096</td>\n",
       "      <td>43.381</td>\n",
       "    </tr>\n",
       "    <tr>\n",
       "      <th>28</th>\n",
       "      <td>11.254</td>\n",
       "      <td>54.635</td>\n",
       "    </tr>\n",
       "    <tr>\n",
       "      <th>35</th>\n",
       "      <td>11.047</td>\n",
       "      <td>65.682</td>\n",
       "    </tr>\n",
       "    <tr>\n",
       "      <th>42</th>\n",
       "      <td>10.843</td>\n",
       "      <td>76.525</td>\n",
       "    </tr>\n",
       "    <tr>\n",
       "      <th>49</th>\n",
       "      <td>10.751</td>\n",
       "      <td>87.276</td>\n",
       "    </tr>\n",
       "    <tr>\n",
       "      <th>56</th>\n",
       "      <td>10.707</td>\n",
       "      <td>87.232</td>\n",
       "    </tr>\n",
       "    <tr>\n",
       "      <th>63</th>\n",
       "      <td>10.827</td>\n",
       "      <td>87.352</td>\n",
       "    </tr>\n",
       "  </tbody>\n",
       "</table>\n",
       "</div>"
      ],
      "text/plain": [
       "    dayofweek  dayofweek_sum_7\n",
       "0      10.751           10.751\n",
       "7      10.707           21.458\n",
       "14     10.827           32.285\n",
       "21     11.096           43.381\n",
       "28     11.254           54.635\n",
       "35     11.047           65.682\n",
       "42     10.843           76.525\n",
       "49     10.751           87.276\n",
       "56     10.707           87.232\n",
       "63     10.827           87.352"
      ]
     },
     "execution_count": 53,
     "metadata": {},
     "output_type": "execute_result"
    }
   ],
   "source": [
    "df[df['id'] == 5.0][['dayofweek', 'dayofweek_sum_7']]"
   ]
  },
  {
   "cell_type": "code",
   "execution_count": 54,
   "metadata": {},
   "outputs": [
    {
     "data": {
      "text/html": [
       "<div>\n",
       "<style scoped>\n",
       "    .dataframe tbody tr th:only-of-type {\n",
       "        vertical-align: middle;\n",
       "    }\n",
       "\n",
       "    .dataframe tbody tr th {\n",
       "        vertical-align: top;\n",
       "    }\n",
       "\n",
       "    .dataframe thead th {\n",
       "        text-align: right;\n",
       "    }\n",
       "</style>\n",
       "<table border=\"1\" class=\"dataframe\">\n",
       "  <thead>\n",
       "    <tr style=\"text-align: right;\">\n",
       "      <th></th>\n",
       "      <th>date</th>\n",
       "      <th>dayofweek</th>\n",
       "      <th>dayofweek_sum_7</th>\n",
       "      <th>isweekend</th>\n",
       "    </tr>\n",
       "  </thead>\n",
       "  <tbody>\n",
       "    <tr>\n",
       "      <th>13</th>\n",
       "      <td>262.0</td>\n",
       "      <td>10.826784</td>\n",
       "      <td>87.351262</td>\n",
       "      <td>10.844667</td>\n",
       "    </tr>\n",
       "    <tr>\n",
       "      <th>32</th>\n",
       "      <td>263.0</td>\n",
       "      <td>11.095859</td>\n",
       "      <td>87.620336</td>\n",
       "      <td>10.844667</td>\n",
       "    </tr>\n",
       "    <tr>\n",
       "      <th>56</th>\n",
       "      <td>264.0</td>\n",
       "      <td>11.253598</td>\n",
       "      <td>87.778075</td>\n",
       "      <td>11.150504</td>\n",
       "    </tr>\n",
       "    <tr>\n",
       "      <th>73</th>\n",
       "      <td>265.0</td>\n",
       "      <td>11.047181</td>\n",
       "      <td>87.571658</td>\n",
       "      <td>11.150504</td>\n",
       "    </tr>\n",
       "    <tr>\n",
       "      <th>79</th>\n",
       "      <td>266.0</td>\n",
       "      <td>10.842749</td>\n",
       "      <td>87.367227</td>\n",
       "      <td>10.844667</td>\n",
       "    </tr>\n",
       "    <tr>\n",
       "      <th>...</th>\n",
       "      <td>...</td>\n",
       "      <td>...</td>\n",
       "      <td>...</td>\n",
       "      <td>...</td>\n",
       "    </tr>\n",
       "    <tr>\n",
       "      <th>14950</th>\n",
       "      <td>1567.0</td>\n",
       "      <td>11.047181</td>\n",
       "      <td>87.571658</td>\n",
       "      <td>11.150504</td>\n",
       "    </tr>\n",
       "    <tr>\n",
       "      <th>14965</th>\n",
       "      <td>1568.0</td>\n",
       "      <td>10.842749</td>\n",
       "      <td>87.367227</td>\n",
       "      <td>10.844667</td>\n",
       "    </tr>\n",
       "    <tr>\n",
       "      <th>14979</th>\n",
       "      <td>1569.0</td>\n",
       "      <td>10.751148</td>\n",
       "      <td>87.275626</td>\n",
       "      <td>10.844667</td>\n",
       "    </tr>\n",
       "    <tr>\n",
       "      <th>14994</th>\n",
       "      <td>1570.0</td>\n",
       "      <td>10.707157</td>\n",
       "      <td>87.231635</td>\n",
       "      <td>10.844667</td>\n",
       "    </tr>\n",
       "    <tr>\n",
       "      <th>15015</th>\n",
       "      <td>1571.0</td>\n",
       "      <td>10.826784</td>\n",
       "      <td>87.351262</td>\n",
       "      <td>10.844667</td>\n",
       "    </tr>\n",
       "  </tbody>\n",
       "</table>\n",
       "<p>700 rows × 4 columns</p>\n",
       "</div>"
      ],
      "text/plain": [
       "         date  dayofweek  dayofweek_sum_7  isweekend\n",
       "13      262.0  10.826784        87.351262  10.844667\n",
       "32      263.0  11.095859        87.620336  10.844667\n",
       "56      264.0  11.253598        87.778075  11.150504\n",
       "73      265.0  11.047181        87.571658  11.150504\n",
       "79      266.0  10.842749        87.367227  10.844667\n",
       "...       ...        ...              ...        ...\n",
       "14950  1567.0  11.047181        87.571658  11.150504\n",
       "14965  1568.0  10.842749        87.367227  10.844667\n",
       "14979  1569.0  10.751148        87.275626  10.844667\n",
       "14994  1570.0  10.707157        87.231635  10.844667\n",
       "15015  1571.0  10.826784        87.351262  10.844667\n",
       "\n",
       "[700 rows x 4 columns]"
      ]
     },
     "execution_count": 54,
     "metadata": {},
     "output_type": "execute_result"
    }
   ],
   "source": [
    "df_train[df_train['id'] == 5.0][['date', 'dayofweek', 'dayofweek_sum_7', 'isweekend']]"
   ]
  },
  {
   "cell_type": "code",
   "execution_count": 41,
   "metadata": {},
   "outputs": [
    {
     "data": {
      "text/plain": [
       "237.252"
      ]
     },
     "execution_count": 41,
     "metadata": {},
     "output_type": "execute_result"
    }
   ],
   "source": [
    "np.sum(df[df['id'] == 5.0]['temp_mean'].values[2:])"
   ]
  },
  {
   "cell_type": "code",
   "execution_count": 27,
   "metadata": {},
   "outputs": [
    {
     "data": {
      "text/plain": [
       "6528.063"
      ]
     },
     "execution_count": 27,
     "metadata": {},
     "output_type": "execute_result"
    }
   ],
   "source": [
    "df_train['munger_max'].max()"
   ]
  },
  {
   "cell_type": "code",
   "execution_count": 3,
   "metadata": {},
   "outputs": [
    {
     "data": {
      "text/plain": [
       "0    -475.714653\n",
       "1    -475.714653\n",
       "2    -475.714653\n",
       "3    -475.714653\n",
       "4    -475.714653\n",
       "         ...    \n",
       "58     -0.633375\n",
       "59     -0.633375\n",
       "60     -0.633375\n",
       "61     -0.633375\n",
       "62     -0.633375\n",
       "Name: isweekend_sum_7, Length: 63, dtype: float64"
      ]
     },
     "execution_count": 3,
     "metadata": {},
     "output_type": "execute_result"
    }
   ],
   "source": [
    "df_scale['isweekend_sum_7']"
   ]
  },
  {
   "cell_type": "code",
   "execution_count": 7,
   "metadata": {},
   "outputs": [
    {
     "data": {
      "text/plain": [
       "0.0"
      ]
     },
     "execution_count": 7,
     "metadata": {},
     "output_type": "execute_result"
    }
   ],
   "source": [
    "np.nanmax(array)"
   ]
  },
  {
   "cell_type": "code",
   "execution_count": 10,
   "metadata": {},
   "outputs": [
    {
     "data": {
      "text/plain": [
       "<matplotlib.image.AxesImage at 0x7a02462d4d30>"
      ]
     },
     "execution_count": 10,
     "metadata": {},
     "output_type": "execute_result"
    },
    {
     "data": {
      "image/png": "[encoded data removed]",
      "text/plain": [
       "<Figure size 640x480 with 1 Axes>"
      ]
     },
     "metadata": {},
     "output_type": "display_data"
    }
   ],
   "source": [
    "plt.imshow(array[:,:,6])"
   ]
  },
  {
   "cell_type": "code",
   "execution_count": null,
   "metadata": {},
   "outputs": [],
   "source": []
  }
 ],
 "metadata": {
  "kernelspec": {
   "display_name": "Python 3",
   "language": "python",
   "name": "python3"
  },
  "language_info": {
   "codemirror_mode": {
    "name": "ipython",
    "version": 3
   },
   "file_extension": ".py",
   "mimetype": "text/x-python",
   "name": "python",
   "nbconvert_exporter": "python",
   "pygments_lexer": "ipython3",
   "version": "3.9.18"
  }
 },
 "nbformat": 4,
 "nbformat_minor": 2
}
